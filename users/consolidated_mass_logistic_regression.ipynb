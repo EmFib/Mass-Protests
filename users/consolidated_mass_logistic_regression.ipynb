{
 "cells": [
  {
   "cell_type": "code",
   "execution_count": 221,
   "metadata": {},
   "outputs": [],
   "source": [
    "import numpy as np\n",
    "import pandas as pd\n",
    "import matplotlib.pyplot as plt \n",
    "import seaborn as sns\n",
    "# import plotly.express as px \n",
    "\n",
    "from sklearn.linear_model import LogisticRegression\n",
    "from sklearn.model_selection import train_test_split, KFold, LeaveOneOut, cross_val_score\n",
    "\n",
    "from sklearn.preprocessing import StandardScaler\n",
    "\n",
    "from sklearn.metrics import (accuracy_score, \n",
    "                            confusion_matrix, \n",
    "                            classification_report,\n",
    "                            f1_score,\n",
    "                            plot_confusion_matrix,\n",
    "                            precision_recall_curve,\n",
    "                            precision_score,\n",
    "                            recall_score)"
   ]
  },
  {
   "cell_type": "code",
   "execution_count": 173,
   "metadata": {},
   "outputs": [
    {
     "data": {
      "text/plain": [
       "'/Users/emilynaftalin/Data_Science/General Assembly/dsi/projects/Mass-Protests/users'"
      ]
     },
     "execution_count": 173,
     "metadata": {},
     "output_type": "execute_result"
    }
   ],
   "source": [
    "pwd"
   ]
  },
  {
   "cell_type": "code",
   "execution_count": 174,
   "metadata": {},
   "outputs": [],
   "source": [
    "mass = pd.read_csv('../data/mass_mobile.csv')"
   ]
  },
  {
   "cell_type": "code",
   "execution_count": 175,
   "metadata": {},
   "outputs": [],
   "source": [
    "mass.drop(columns=['Unnamed: 0'], inplace=True)"
   ]
  },
  {
   "cell_type": "code",
   "execution_count": 176,
   "metadata": {},
   "outputs": [
    {
     "data": {
      "text/html": [
       "<div>\n",
       "<style scoped>\n",
       "    .dataframe tbody tr th:only-of-type {\n",
       "        vertical-align: middle;\n",
       "    }\n",
       "\n",
       "    .dataframe tbody tr th {\n",
       "        vertical-align: top;\n",
       "    }\n",
       "\n",
       "    .dataframe thead th {\n",
       "        text-align: right;\n",
       "    }\n",
       "</style>\n",
       "<table border=\"1\" class=\"dataframe\">\n",
       "  <thead>\n",
       "    <tr style=\"text-align: right;\">\n",
       "      <th></th>\n",
       "      <th>id</th>\n",
       "      <th>country</th>\n",
       "      <th>ccode</th>\n",
       "      <th>region</th>\n",
       "      <th>protestnumber</th>\n",
       "      <th>protesterviolence</th>\n",
       "      <th>location</th>\n",
       "      <th>protesteridentity</th>\n",
       "      <th>sources</th>\n",
       "      <th>notes</th>\n",
       "      <th>...</th>\n",
       "      <th>social_restrictions</th>\n",
       "      <th>start_date</th>\n",
       "      <th>end_date</th>\n",
       "      <th>target</th>\n",
       "      <th>notes_clean</th>\n",
       "      <th>neg</th>\n",
       "      <th>neu</th>\n",
       "      <th>pos</th>\n",
       "      <th>compound</th>\n",
       "      <th>protest_duration</th>\n",
       "    </tr>\n",
       "  </thead>\n",
       "  <tbody>\n",
       "    <tr>\n",
       "      <th>0</th>\n",
       "      <td>201990001</td>\n",
       "      <td>Canada</td>\n",
       "      <td>20</td>\n",
       "      <td>North America</td>\n",
       "      <td>1</td>\n",
       "      <td>0.0</td>\n",
       "      <td>national</td>\n",
       "      <td>unspecified</td>\n",
       "      <td>1. great canadian train journeys into history;...</td>\n",
       "      <td>canada s railway passenger system was finally ...</td>\n",
       "      <td>...</td>\n",
       "      <td>0</td>\n",
       "      <td>1990-01-15</td>\n",
       "      <td>1990-01-15</td>\n",
       "      <td>[0, 0, 0, 0, 1, 0, 0]</td>\n",
       "      <td>canada s railway passenger system was finally ...</td>\n",
       "      <td>0.087</td>\n",
       "      <td>0.913</td>\n",
       "      <td>0.0</td>\n",
       "      <td>-0.8176</td>\n",
       "      <td>1</td>\n",
       "    </tr>\n",
       "    <tr>\n",
       "      <th>1</th>\n",
       "      <td>201990002</td>\n",
       "      <td>Canada</td>\n",
       "      <td>20</td>\n",
       "      <td>North America</td>\n",
       "      <td>2</td>\n",
       "      <td>0.0</td>\n",
       "      <td>Montreal, Quebec</td>\n",
       "      <td>unspecified</td>\n",
       "      <td>1. autonomy s cry revived in quebec the new yo...</td>\n",
       "      <td>protestors were only identified as young peopl...</td>\n",
       "      <td>...</td>\n",
       "      <td>0</td>\n",
       "      <td>1990-06-25</td>\n",
       "      <td>1990-06-25</td>\n",
       "      <td>[0, 0, 0, 0, 1, 0, 0]</td>\n",
       "      <td>protestors were only identified as young peopl...</td>\n",
       "      <td>0.000</td>\n",
       "      <td>1.000</td>\n",
       "      <td>0.0</td>\n",
       "      <td>0.0000</td>\n",
       "      <td>1</td>\n",
       "    </tr>\n",
       "  </tbody>\n",
       "</table>\n",
       "<p>2 rows × 234 columns</p>\n",
       "</div>"
      ],
      "text/plain": [
       "          id country  ccode         region  protestnumber  protesterviolence  \\\n",
       "0  201990001  Canada     20  North America              1                0.0   \n",
       "1  201990002  Canada     20  North America              2                0.0   \n",
       "\n",
       "           location protesteridentity  \\\n",
       "0          national       unspecified   \n",
       "1  Montreal, Quebec       unspecified   \n",
       "\n",
       "                                             sources  \\\n",
       "0  1. great canadian train journeys into history;...   \n",
       "1  1. autonomy s cry revived in quebec the new yo...   \n",
       "\n",
       "                                               notes  ... social_restrictions  \\\n",
       "0  canada s railway passenger system was finally ...  ...                   0   \n",
       "1  protestors were only identified as young peopl...  ...                   0   \n",
       "\n",
       "   start_date    end_date                 target  \\\n",
       "0  1990-01-15  1990-01-15  [0, 0, 0, 0, 1, 0, 0]   \n",
       "1  1990-06-25  1990-06-25  [0, 0, 0, 0, 1, 0, 0]   \n",
       "\n",
       "                                         notes_clean    neg    neu  pos  \\\n",
       "0  canada s railway passenger system was finally ...  0.087  0.913  0.0   \n",
       "1  protestors were only identified as young peopl...  0.000  1.000  0.0   \n",
       "\n",
       "   compound  protest_duration  \n",
       "0   -0.8176                 1  \n",
       "1    0.0000                 1  \n",
       "\n",
       "[2 rows x 234 columns]"
      ]
     },
     "execution_count": 176,
     "metadata": {},
     "output_type": "execute_result"
    }
   ],
   "source": [
    "mass.head(2)"
   ]
  },
  {
   "cell_type": "code",
   "execution_count": 178,
   "metadata": {
    "scrolled": true
   },
   "outputs": [],
   "source": [
    "# sorted(list(mass.columns))"
   ]
  },
  {
   "cell_type": "code",
   "execution_count": 179,
   "metadata": {},
   "outputs": [],
   "source": [
    "# mass.info(verbose=True)"
   ]
  },
  {
   "cell_type": "code",
   "execution_count": 180,
   "metadata": {},
   "outputs": [],
   "source": [
    "def evaluate_model(y_true, y_preds):\n",
    "    \n",
    "    '''\n",
    "    DOCSTRING HERE\n",
    "    '''\n",
    "    \n",
    "    f1 = f1_score(y_true, y_preds)\n",
    "    \n",
    "    precision = precision_score(y_true, y_preds)\n",
    "    \n",
    "    recall = recall_score(y_true, y_preds)\n",
    "\n",
    "    # add accuracy\n",
    "\n",
    "    return f1, precision, recall"
   ]
  },
  {
   "cell_type": "code",
   "execution_count": 181,
   "metadata": {},
   "outputs": [],
   "source": [
    "# def build_confusion_matrix(y_true, y_preds, title):\n",
    "    \n",
    "#     tn, fp, fn, tp = confusion_matrix(y_true, y_preds).ravel()\n",
    "#     disp = plot_confusion_matrix(model, \n",
    "#                                  X_test_sc, \n",
    "#                                  y_test, \n",
    "# #                                  display_labels=\n",
    "#                                  cmap=\"Blues\")\n",
    "    \n",
    "#     disp.ax_.set_title(title)\n",
    "#     print(title)\n",
    "#     print(disp.confusion_matrix)\n",
    "    \n",
    "#     plt.show\n",
    "    \n",
    "#     return"
   ]
  },
  {
   "cell_type": "code",
   "execution_count": 182,
   "metadata": {},
   "outputs": [],
   "source": [
    "def response_prediction_columns(model, df, features):\n",
    "    \n",
    "    ss = StandardScaler()\n",
    "    \n",
    "    X = features\n",
    "    X_sc = ss.fit_transform(X)\n",
    "    \n",
    "    predicted_column = model.predict(X_sc)\n",
    "    probability_column = model.predict_proba(X_sc)[:,1]\n",
    "    \n",
    "    return predicted_column, probability_column"
   ]
  },
  {
   "cell_type": "code",
   "execution_count": 183,
   "metadata": {},
   "outputs": [],
   "source": [
    "def state_response_predictor(df, features, target, model):\n",
    "    \n",
    "    X = features \n",
    "    y = df[target]\n",
    "\n",
    "    X_train, X_test, y_train, y_test = train_test_split(X, y, test_size=0.2, random_state=48)\n",
    "\n",
    "    ss = StandardScaler()\n",
    "\n",
    "    X_train_sc = ss.fit_transform(X_train)\n",
    "    X_test_sc = ss.transform(X_test)\n",
    "    \n",
    "    model.fit(X_train_sc, y_train)\n",
    "    \n",
    "    y_preds_train = model.predict(X_train_sc)\n",
    "    y_preds_test = model.predict(X_test_sc)\n",
    "    \n",
    "    f1_score_train, precision_train, recall_train = evaluate_model(y_train, y_preds_train)\n",
    "    f1_score_test, precision_test, recall_test = evaluate_model(y_test, y_preds_test)\n",
    "    \n",
    "#     print(f'{target}- F1_score for {model} model, train set: {f1_score_train}')\n",
    "#     print(f'{target}- F1_score for {model} model, test set: {f1_score_test}')\n",
    "#     print(f'{target}- Precision for {model} model, train set: {precision_train}')\n",
    "#     print(f'{target}- Precision for {model} model, test set: {precision_test}')\n",
    "#     print(f'{target}- Recall for {model} model, train set: {recall_train}')\n",
    "#     print(f'{target}- Recall for {model} model, teset set: {recall_test}')\n",
    "    \n",
    "    predicted_column, probability_column = response_prediction_columns(model, df, features)\n",
    "    \n",
    "#     print(model)\n",
    "\n",
    "#     build_confusion_matrix(y_test, y_preds_test)\n",
    "\n",
    "    return predicted_column, probability_column, f1_score_train, f1_score_test, precision_train, precision_test, recall_train, recall_test  "
   ]
  },
  {
   "cell_type": "markdown",
   "metadata": {},
   "source": [
    "Creating two new columns that consolidate the three violent state responses -- `beatings, shootings, killings`.\n",
    "+ `violent_response`: indicates whether or not a violdnt state response was used. (0 for no, 1 for yes)\n",
    "+ `violent_count`: indicates number (0,1,2,3) of violent ressponses that were recorded. (I anticipate this will be used just to judge collinearity/dependence.)\n",
    "\n",
    "_NB: Not yet dropping the original three columns._"
   ]
  },
  {
   "cell_type": "code",
   "execution_count": 184,
   "metadata": {},
   "outputs": [],
   "source": [
    "mass['violent_response'] = 0 \n",
    "# mass.loc[ (mass['beatings'] == 1 | mass['shootings'] == 1 | mass['killings'] == 1), 'violent_response' ] = 1\n",
    "mass.loc[mass['beatings'] == 1, 'violent_response'] = 1\n",
    "mass.loc[mass['shootings'] == 1, 'violent_response'] = 1\n",
    "mass.loc[mass['killings'] == 1, 'violent_response'] = 1"
   ]
  },
  {
   "cell_type": "code",
   "execution_count": 185,
   "metadata": {},
   "outputs": [],
   "source": [
    "mass['violent_count'] = mass['beatings'] + mass['shootings'] + mass['killings']"
   ]
  },
  {
   "cell_type": "code",
   "execution_count": 186,
   "metadata": {},
   "outputs": [
    {
     "data": {
      "text/html": [
       "<div>\n",
       "<style scoped>\n",
       "    .dataframe tbody tr th:only-of-type {\n",
       "        vertical-align: middle;\n",
       "    }\n",
       "\n",
       "    .dataframe tbody tr th {\n",
       "        vertical-align: top;\n",
       "    }\n",
       "\n",
       "    .dataframe thead th {\n",
       "        text-align: right;\n",
       "    }\n",
       "</style>\n",
       "<table border=\"1\" class=\"dataframe\">\n",
       "  <thead>\n",
       "    <tr style=\"text-align: right;\">\n",
       "      <th></th>\n",
       "      <th>beatings</th>\n",
       "      <th>shootings</th>\n",
       "      <th>killings</th>\n",
       "      <th>violent_response</th>\n",
       "      <th>violent_count</th>\n",
       "    </tr>\n",
       "  </thead>\n",
       "  <tbody>\n",
       "    <tr>\n",
       "      <th>0</th>\n",
       "      <td>0</td>\n",
       "      <td>0</td>\n",
       "      <td>0</td>\n",
       "      <td>0</td>\n",
       "      <td>0</td>\n",
       "    </tr>\n",
       "    <tr>\n",
       "      <th>1</th>\n",
       "      <td>0</td>\n",
       "      <td>0</td>\n",
       "      <td>0</td>\n",
       "      <td>0</td>\n",
       "      <td>0</td>\n",
       "    </tr>\n",
       "    <tr>\n",
       "      <th>2</th>\n",
       "      <td>0</td>\n",
       "      <td>0</td>\n",
       "      <td>0</td>\n",
       "      <td>0</td>\n",
       "      <td>0</td>\n",
       "    </tr>\n",
       "    <tr>\n",
       "      <th>3</th>\n",
       "      <td>0</td>\n",
       "      <td>0</td>\n",
       "      <td>0</td>\n",
       "      <td>0</td>\n",
       "      <td>0</td>\n",
       "    </tr>\n",
       "    <tr>\n",
       "      <th>4</th>\n",
       "      <td>0</td>\n",
       "      <td>0</td>\n",
       "      <td>0</td>\n",
       "      <td>0</td>\n",
       "      <td>0</td>\n",
       "    </tr>\n",
       "    <tr>\n",
       "      <th>...</th>\n",
       "      <td>...</td>\n",
       "      <td>...</td>\n",
       "      <td>...</td>\n",
       "      <td>...</td>\n",
       "      <td>...</td>\n",
       "    </tr>\n",
       "    <tr>\n",
       "      <th>15174</th>\n",
       "      <td>0</td>\n",
       "      <td>1</td>\n",
       "      <td>0</td>\n",
       "      <td>1</td>\n",
       "      <td>1</td>\n",
       "    </tr>\n",
       "    <tr>\n",
       "      <th>15175</th>\n",
       "      <td>0</td>\n",
       "      <td>1</td>\n",
       "      <td>1</td>\n",
       "      <td>1</td>\n",
       "      <td>2</td>\n",
       "    </tr>\n",
       "    <tr>\n",
       "      <th>15176</th>\n",
       "      <td>0</td>\n",
       "      <td>0</td>\n",
       "      <td>0</td>\n",
       "      <td>0</td>\n",
       "      <td>0</td>\n",
       "    </tr>\n",
       "    <tr>\n",
       "      <th>15177</th>\n",
       "      <td>0</td>\n",
       "      <td>0</td>\n",
       "      <td>0</td>\n",
       "      <td>0</td>\n",
       "      <td>0</td>\n",
       "    </tr>\n",
       "    <tr>\n",
       "      <th>15178</th>\n",
       "      <td>0</td>\n",
       "      <td>0</td>\n",
       "      <td>0</td>\n",
       "      <td>0</td>\n",
       "      <td>0</td>\n",
       "    </tr>\n",
       "  </tbody>\n",
       "</table>\n",
       "<p>15179 rows × 5 columns</p>\n",
       "</div>"
      ],
      "text/plain": [
       "       beatings  shootings  killings  violent_response  violent_count\n",
       "0             0          0         0                 0              0\n",
       "1             0          0         0                 0              0\n",
       "2             0          0         0                 0              0\n",
       "3             0          0         0                 0              0\n",
       "4             0          0         0                 0              0\n",
       "...         ...        ...       ...               ...            ...\n",
       "15174         0          1         0                 1              1\n",
       "15175         0          1         1                 1              2\n",
       "15176         0          0         0                 0              0\n",
       "15177         0          0         0                 0              0\n",
       "15178         0          0         0                 0              0\n",
       "\n",
       "[15179 rows x 5 columns]"
      ]
     },
     "execution_count": 186,
     "metadata": {},
     "output_type": "execute_result"
    }
   ],
   "source": [
    "# checking whether the new column looks good \n",
    "mass[['beatings', 'shootings','killings', 'violent_response', 'violent_count']]"
   ]
  },
  {
   "cell_type": "code",
   "execution_count": 194,
   "metadata": {},
   "outputs": [
    {
     "data": {
      "text/plain": [
       "beatings            604\n",
       "shootings           604\n",
       "killings            604\n",
       "violent_response    604\n",
       "dtype: int64"
      ]
     },
     "execution_count": 194,
     "metadata": {},
     "output_type": "execute_result"
    }
   ],
   "source": [
    "mass[ mass['violent_count'] > 1][['beatings', 'shootings','killings', 'violent_response']].count()"
   ]
  },
  {
   "cell_type": "markdown",
   "metadata": {},
   "source": [
    "_Saving and pickling `mass` DataFrame that now has `violent_response` and `violent_count` columns. "
   ]
  },
  {
   "cell_type": "code",
   "execution_count": 192,
   "metadata": {},
   "outputs": [
    {
     "data": {
      "text/plain": [
       "'/Users/emilynaftalin/Data_Science/General Assembly/dsi/projects/Mass-Protests/users'"
      ]
     },
     "execution_count": 192,
     "metadata": {},
     "output_type": "execute_result"
    }
   ],
   "source": [
    "pwd"
   ]
  },
  {
   "cell_type": "code",
   "execution_count": 191,
   "metadata": {},
   "outputs": [],
   "source": [
    "mass.to_csv('../data/03_mass_violent_response.csv', index=False)"
   ]
  },
  {
   "cell_type": "code",
   "execution_count": 193,
   "metadata": {},
   "outputs": [],
   "source": [
    "mass.to_pickle('../data/03_mass_violent_response.pickle')"
   ]
  },
  {
   "cell_type": "code",
   "execution_count": 195,
   "metadata": {},
   "outputs": [],
   "source": [
    "features = mass.drop(columns=['country', 'ccode', 'region', 'location','protesteridentity', 'sources',\n",
    "           'notes', 'protester_id_type', 'protest_size_category', 'start_date', 'notes_clean', 'neg', 'neu', 'pos',\n",
    "           'end_date', 'target', 'arrests', 'accomodation', 'beatings', 'crowddispersal', 'ignore', 'killings', 'shootings', \n",
    "            'violent_response', 'violent_count'])\n",
    "\n",
    "LogisticRegression_1 = LogisticRegression(solver='lbfgs', max_iter=1000)"
   ]
  },
  {
   "cell_type": "code",
   "execution_count": 196,
   "metadata": {},
   "outputs": [],
   "source": [
    "# (mass.drop(columns=['country', 'ccode', 'region', 'location','protesteridentity', 'sources',\n",
    "#            'notes', 'protester_id_type', 'protest_size_category', 'start_date', 'notes_clean', 'neg', 'neu', 'pos',\n",
    "#            'end_date', 'target', 'arrests', 'accomodation', 'beatings',\n",
    "#            'crowddispersal', 'ignore', 'killings', 'shootings'])).columns"
   ]
  },
  {
   "cell_type": "markdown",
   "metadata": {},
   "source": [
    "**Adding `predicted` and `probability` columns for each each response to the `mass` DF using `state_response_predictor` function.** \n",
    "\n",
    "Responses: `'arrests','accomodation','beatings','crowddispersal','ignore','killings','shootings'`"
   ]
  },
  {
   "cell_type": "code",
   "execution_count": 197,
   "metadata": {},
   "outputs": [],
   "source": [
    "mass['arrests_predicted'], mass['arrests_probability'], \\\n",
    "f1_score_train, f1_score_test, precision_train, precision_test, recall_train, recall_test = \\\n",
    "state_response_predictor(mass, features, 'arrests', LogisticRegression_1)"
   ]
  },
  {
   "cell_type": "code",
   "execution_count": 198,
   "metadata": {},
   "outputs": [],
   "source": [
    "mass['accomodation_predicted'], mass['accomodation_probability'], \\\n",
    "f1_score_train, f1_score_test, precision_train, precision_test, recall_train, recall_test = \\\n",
    "state_response_predictor(mass, features, 'accomodation', LogisticRegression_1)"
   ]
  },
  {
   "cell_type": "code",
   "execution_count": 200,
   "metadata": {},
   "outputs": [],
   "source": [
    "mass['beatings_predicted'], mass['beatings_probability'], f1_score_train, \\\n",
    "f1_score_test, precision_train, precision_test, recall_train, recall_test = \\\n",
    "state_response_predictor(mass, features, 'beatings', LogisticRegression_1)"
   ]
  },
  {
   "cell_type": "code",
   "execution_count": 201,
   "metadata": {},
   "outputs": [],
   "source": [
    "mass['crowddispersal_predicted'], mass['crowddispersal_probability'], \\\n",
    "f1_score_train, f1_score_test, precision_train, precision_test, recall_train, recall_test = \\\n",
    "state_response_predictor(mass, features, 'crowddispersal', LogisticRegression_1)"
   ]
  },
  {
   "cell_type": "code",
   "execution_count": 202,
   "metadata": {},
   "outputs": [],
   "source": [
    "mass['ignore_predicted'], mass['ignore_probability'], \\\n",
    "f1_score_train, f1_score_test, precision_train, precision_test, recall_train, recall_test = \\\n",
    "state_response_predictor(mass, features, 'ignore', LogisticRegression_1)"
   ]
  },
  {
   "cell_type": "code",
   "execution_count": 203,
   "metadata": {},
   "outputs": [],
   "source": [
    "mass['killings_predicted'], mass['killings_probability'], \\\n",
    "f1_score_train, f1_score_test, precision_train, precision_test, recall_train, recall_test = \\\n",
    "state_response_predictor(mass, features, 'killings', LogisticRegression_1)"
   ]
  },
  {
   "cell_type": "code",
   "execution_count": 204,
   "metadata": {},
   "outputs": [],
   "source": [
    "mass['shootings_predicted'], mass['shootings_probability'], \\\n",
    "f1_score_train, f1_score_test, precision_train, precision_test, recall_train, recall_test = \\\n",
    "state_response_predictor(mass, features, 'shootings', LogisticRegression_1)"
   ]
  },
  {
   "cell_type": "code",
   "execution_count": 199,
   "metadata": {},
   "outputs": [
    {
     "data": {
      "text/html": [
       "<div>\n",
       "<style scoped>\n",
       "    .dataframe tbody tr th:only-of-type {\n",
       "        vertical-align: middle;\n",
       "    }\n",
       "\n",
       "    .dataframe tbody tr th {\n",
       "        vertical-align: top;\n",
       "    }\n",
       "\n",
       "    .dataframe thead th {\n",
       "        text-align: right;\n",
       "    }\n",
       "</style>\n",
       "<table border=\"1\" class=\"dataframe\">\n",
       "  <thead>\n",
       "    <tr style=\"text-align: right;\">\n",
       "      <th></th>\n",
       "      <th>accomodation</th>\n",
       "      <th>accomodation_predicted</th>\n",
       "      <th>accomodation_probability</th>\n",
       "    </tr>\n",
       "  </thead>\n",
       "  <tbody>\n",
       "    <tr>\n",
       "      <th>451</th>\n",
       "      <td>1</td>\n",
       "      <td>1</td>\n",
       "      <td>0.921425</td>\n",
       "    </tr>\n",
       "    <tr>\n",
       "      <th>1438</th>\n",
       "      <td>1</td>\n",
       "      <td>1</td>\n",
       "      <td>0.609061</td>\n",
       "    </tr>\n",
       "    <tr>\n",
       "      <th>1469</th>\n",
       "      <td>1</td>\n",
       "      <td>1</td>\n",
       "      <td>0.550764</td>\n",
       "    </tr>\n",
       "    <tr>\n",
       "      <th>1679</th>\n",
       "      <td>1</td>\n",
       "      <td>1</td>\n",
       "      <td>0.596815</td>\n",
       "    </tr>\n",
       "    <tr>\n",
       "      <th>2061</th>\n",
       "      <td>1</td>\n",
       "      <td>1</td>\n",
       "      <td>0.540708</td>\n",
       "    </tr>\n",
       "    <tr>\n",
       "      <th>...</th>\n",
       "      <td>...</td>\n",
       "      <td>...</td>\n",
       "      <td>...</td>\n",
       "    </tr>\n",
       "    <tr>\n",
       "      <th>14736</th>\n",
       "      <td>1</td>\n",
       "      <td>1</td>\n",
       "      <td>0.609921</td>\n",
       "    </tr>\n",
       "    <tr>\n",
       "      <th>14737</th>\n",
       "      <td>1</td>\n",
       "      <td>1</td>\n",
       "      <td>0.840545</td>\n",
       "    </tr>\n",
       "    <tr>\n",
       "      <th>15133</th>\n",
       "      <td>1</td>\n",
       "      <td>1</td>\n",
       "      <td>0.524657</td>\n",
       "    </tr>\n",
       "    <tr>\n",
       "      <th>15149</th>\n",
       "      <td>1</td>\n",
       "      <td>1</td>\n",
       "      <td>0.531713</td>\n",
       "    </tr>\n",
       "    <tr>\n",
       "      <th>15152</th>\n",
       "      <td>1</td>\n",
       "      <td>1</td>\n",
       "      <td>0.611932</td>\n",
       "    </tr>\n",
       "  </tbody>\n",
       "</table>\n",
       "<p>83 rows × 3 columns</p>\n",
       "</div>"
      ],
      "text/plain": [
       "       accomodation  accomodation_predicted  accomodation_probability\n",
       "451               1                       1                  0.921425\n",
       "1438              1                       1                  0.609061\n",
       "1469              1                       1                  0.550764\n",
       "1679              1                       1                  0.596815\n",
       "2061              1                       1                  0.540708\n",
       "...             ...                     ...                       ...\n",
       "14736             1                       1                  0.609921\n",
       "14737             1                       1                  0.840545\n",
       "15133             1                       1                  0.524657\n",
       "15149             1                       1                  0.531713\n",
       "15152             1                       1                  0.611932\n",
       "\n",
       "[83 rows x 3 columns]"
      ]
     },
     "execution_count": 199,
     "metadata": {},
     "output_type": "execute_result"
    }
   ],
   "source": [
    "# looking at where accomodation is '1' and it was also correctly predicted \n",
    "\n",
    "mass[ (mass['accomodation'] == mass['accomodation_predicted']) & mass['accomodation']==1 ][['accomodation', 'accomodation_predicted', 'accomodation_probability']]"
   ]
  },
  {
   "cell_type": "code",
   "execution_count": 246,
   "metadata": {},
   "outputs": [],
   "source": [
    "# predictions_df = mass[['id','arrests', 'arrests_predicted', 'arrests_probability', 'accomodation', 'accomodation_predicted', 'accomodation_probability', \n",
    "#       'beatings', 'beatings_predicted', 'beatings_probability', 'crowddispersal', 'crowddispersal_predicted', 'crowddispersal_probability', \n",
    "#       'ignore', 'ignore_predicted', 'ignore_probability', 'killings', 'killings_predicted', 'killings_probability',\n",
    "#       'killings', 'killings_predicted', 'killings_probability']].copy()"
   ]
  },
  {
   "cell_type": "code",
   "execution_count": 247,
   "metadata": {},
   "outputs": [],
   "source": [
    "# predictions_df.head()"
   ]
  },
  {
   "cell_type": "code",
   "execution_count": 207,
   "metadata": {},
   "outputs": [],
   "source": [
    "# predictions_df.to_csv('../data/04_predictions_only.csv', index=False)"
   ]
  },
  {
   "cell_type": "markdown",
   "metadata": {},
   "source": [
    "Adding `predicted` and `probability` columns for a violent response of any type (beatings/shootings/killigs). "
   ]
  },
  {
   "cell_type": "code",
   "execution_count": 208,
   "metadata": {},
   "outputs": [],
   "source": [
    "mass['violence_predicted'], mass['violence_probability'], \\\n",
    "f1_score_train, f1_score_test, precision_train, precision_test, recall_train, recall_test = \\\n",
    "state_response_predictor(mass, features, 'violent_response', LogisticRegression_1)"
   ]
  },
  {
   "cell_type": "code",
   "execution_count": 215,
   "metadata": {},
   "outputs": [
    {
     "name": "stdout",
     "output_type": "stream",
     "text": [
      "{'target': ['arrests', 'accomodation', 'beatings', 'crowddispersal', 'ignore', 'killings', 'shootings', 'violent_response'], 'majority_class': [0, 0, 0, 0, 1, 0, 0, 0], 'majority_percent': [0.8588181039594176, 0.8997957704723631, 0.9472956057711311, 0.6865406153238026, 0.5434481849924238, 0.9457144739442651, 0.9386652612161539, 0.8753541076487252], 'f1_score_train': [0.24430264357338197, 0.09939759036144577, 0.17173051519154559, 0.6446232626188734, 0.7954094644375178, 0.24191616766467064, 0.24093816631130063, 0.39802336028751123], 'f1_score_test': [0.2722117202268431, 0.06984126984126984, 0.15568862275449102, 0.624173180998196, 0.7837535014005603, 0.1958762886597938, 0.2, 0.35976789168278533], 'precision_train': [0.5690021231422505, 0.6470588235294118, 0.65, 0.7299536116633533, 0.745848279527036, 0.6121212121212121, 0.5947368421052631, 0.6429608127721336], 'precision_test': [0.6605504587155964, 0.55, 0.5416666666666666, 0.7188365650969529, 0.7324607329842932, 0.475, 0.48936170212765956, 0.5740740740740741], 'recall_train': [0.1555426581543819, 0.053833605220228384, 0.0989345509893455, 0.5771548336389835, 0.8520261041129155, 0.15074626865671642, 0.15106951871657753, 0.28822381262199087], 'recall_test': [0.17142857142857143, 0.03728813559322034, 0.09090909090909091, 0.5515409139213603, 0.8427710843373494, 0.12337662337662338, 0.12568306010928962, 0.2619718309859155]}\n"
     ]
    },
    {
     "data": {
      "text/html": [
       "<div>\n",
       "<style scoped>\n",
       "    .dataframe tbody tr th:only-of-type {\n",
       "        vertical-align: middle;\n",
       "    }\n",
       "\n",
       "    .dataframe tbody tr th {\n",
       "        vertical-align: top;\n",
       "    }\n",
       "\n",
       "    .dataframe thead th {\n",
       "        text-align: right;\n",
       "    }\n",
       "</style>\n",
       "<table border=\"1\" class=\"dataframe\">\n",
       "  <thead>\n",
       "    <tr style=\"text-align: right;\">\n",
       "      <th></th>\n",
       "      <th>target</th>\n",
       "      <th>majority_class</th>\n",
       "      <th>majority_percent</th>\n",
       "      <th>f1_score_train</th>\n",
       "      <th>f1_score_test</th>\n",
       "      <th>precision_train</th>\n",
       "      <th>precision_test</th>\n",
       "      <th>recall_train</th>\n",
       "      <th>recall_test</th>\n",
       "    </tr>\n",
       "  </thead>\n",
       "  <tbody>\n",
       "    <tr>\n",
       "      <th>0</th>\n",
       "      <td>arrests</td>\n",
       "      <td>0</td>\n",
       "      <td>0.8588</td>\n",
       "      <td>0.2443</td>\n",
       "      <td>0.2722</td>\n",
       "      <td>0.5690</td>\n",
       "      <td>0.6606</td>\n",
       "      <td>0.1555</td>\n",
       "      <td>0.1714</td>\n",
       "    </tr>\n",
       "    <tr>\n",
       "      <th>1</th>\n",
       "      <td>accomodation</td>\n",
       "      <td>0</td>\n",
       "      <td>0.8998</td>\n",
       "      <td>0.0994</td>\n",
       "      <td>0.0698</td>\n",
       "      <td>0.6471</td>\n",
       "      <td>0.5500</td>\n",
       "      <td>0.0538</td>\n",
       "      <td>0.0373</td>\n",
       "    </tr>\n",
       "    <tr>\n",
       "      <th>2</th>\n",
       "      <td>beatings</td>\n",
       "      <td>0</td>\n",
       "      <td>0.9473</td>\n",
       "      <td>0.1717</td>\n",
       "      <td>0.1557</td>\n",
       "      <td>0.6500</td>\n",
       "      <td>0.5417</td>\n",
       "      <td>0.0989</td>\n",
       "      <td>0.0909</td>\n",
       "    </tr>\n",
       "    <tr>\n",
       "      <th>3</th>\n",
       "      <td>crowddispersal</td>\n",
       "      <td>0</td>\n",
       "      <td>0.6865</td>\n",
       "      <td>0.6446</td>\n",
       "      <td>0.6242</td>\n",
       "      <td>0.7300</td>\n",
       "      <td>0.7188</td>\n",
       "      <td>0.5772</td>\n",
       "      <td>0.5515</td>\n",
       "    </tr>\n",
       "    <tr>\n",
       "      <th>4</th>\n",
       "      <td>ignore</td>\n",
       "      <td>1</td>\n",
       "      <td>0.5434</td>\n",
       "      <td>0.7954</td>\n",
       "      <td>0.7838</td>\n",
       "      <td>0.7458</td>\n",
       "      <td>0.7325</td>\n",
       "      <td>0.8520</td>\n",
       "      <td>0.8428</td>\n",
       "    </tr>\n",
       "    <tr>\n",
       "      <th>5</th>\n",
       "      <td>killings</td>\n",
       "      <td>0</td>\n",
       "      <td>0.9457</td>\n",
       "      <td>0.2419</td>\n",
       "      <td>0.1959</td>\n",
       "      <td>0.6121</td>\n",
       "      <td>0.4750</td>\n",
       "      <td>0.1507</td>\n",
       "      <td>0.1234</td>\n",
       "    </tr>\n",
       "    <tr>\n",
       "      <th>6</th>\n",
       "      <td>shootings</td>\n",
       "      <td>0</td>\n",
       "      <td>0.9387</td>\n",
       "      <td>0.2409</td>\n",
       "      <td>0.2000</td>\n",
       "      <td>0.5947</td>\n",
       "      <td>0.4894</td>\n",
       "      <td>0.1511</td>\n",
       "      <td>0.1257</td>\n",
       "    </tr>\n",
       "    <tr>\n",
       "      <th>7</th>\n",
       "      <td>violent_response</td>\n",
       "      <td>0</td>\n",
       "      <td>0.8754</td>\n",
       "      <td>0.3980</td>\n",
       "      <td>0.3598</td>\n",
       "      <td>0.6430</td>\n",
       "      <td>0.5741</td>\n",
       "      <td>0.2882</td>\n",
       "      <td>0.2620</td>\n",
       "    </tr>\n",
       "  </tbody>\n",
       "</table>\n",
       "</div>"
      ],
      "text/plain": [
       "             target  majority_class  majority_percent  f1_score_train  \\\n",
       "0           arrests               0            0.8588          0.2443   \n",
       "1      accomodation               0            0.8998          0.0994   \n",
       "2          beatings               0            0.9473          0.1717   \n",
       "3    crowddispersal               0            0.6865          0.6446   \n",
       "4            ignore               1            0.5434          0.7954   \n",
       "5          killings               0            0.9457          0.2419   \n",
       "6         shootings               0            0.9387          0.2409   \n",
       "7  violent_response               0            0.8754          0.3980   \n",
       "\n",
       "   f1_score_test  precision_train  precision_test  recall_train  recall_test  \n",
       "0         0.2722           0.5690          0.6606        0.1555       0.1714  \n",
       "1         0.0698           0.6471          0.5500        0.0538       0.0373  \n",
       "2         0.1557           0.6500          0.5417        0.0989       0.0909  \n",
       "3         0.6242           0.7300          0.7188        0.5772       0.5515  \n",
       "4         0.7838           0.7458          0.7325        0.8520       0.8428  \n",
       "5         0.1959           0.6121          0.4750        0.1507       0.1234  \n",
       "6         0.2000           0.5947          0.4894        0.1511       0.1257  \n",
       "7         0.3598           0.6430          0.5741        0.2882       0.2620  "
      ]
     },
     "execution_count": 215,
     "metadata": {},
     "output_type": "execute_result"
    }
   ],
   "source": [
    "model_performance_dict = {\n",
    "    'target':[],\n",
    "    'majority_class':[],\n",
    "    'majority_percent':[],\n",
    "#     'model':[],\n",
    "    'f1_score_train':[],\n",
    "    'f1_score_test':[],\n",
    "    'precision_train':[],\n",
    "    'precision_test':[],\n",
    "    'recall_train':[],\n",
    "    'recall_test':[] \n",
    "}\n",
    "\n",
    " \n",
    "targets = ['arrests','accomodation','beatings','crowddispersal','ignore','killings','shootings', 'violent_response']    \n",
    "    \n",
    "for target in targets:\n",
    "    \n",
    "    predicted_column, probability_column, f1_score_train, f1_score_test, precision_train, precision_test, recall_train, recall_test = state_response_predictor(\n",
    "                                                                                                                                mass, \n",
    "                                                                                                                                features, \n",
    "                                                                                                                                target, \n",
    "                                                                                                                                LogisticRegression_1)\n",
    "    \n",
    "    model_performance_dict['target'].append(target)\n",
    "    model_performance_dict['majority_class'].append(mass[target].value_counts(normalize=True).idxmax())\n",
    "    model_performance_dict['majority_percent'].append(max(mass[target].value_counts(normalize=True)))\n",
    "#     model_performance_dict['model'].append(model)\n",
    "    model_performance_dict['f1_score_train'].append(f1_score_train)\n",
    "    model_performance_dict['f1_score_test'].append(f1_score_test)\n",
    "    model_performance_dict['precision_train'].append(precision_train)\n",
    "    model_performance_dict['precision_test'].append(precision_test)\n",
    "    model_performance_dict['recall_train'].append(recall_train)\n",
    "    model_performance_dict['recall_test'].append(recall_test)\n",
    "    \n",
    "print(model_performance_dict)\n",
    "    \n",
    "model_performance_df = pd.DataFrame(model_performance_dict)\n",
    "model_performance_df.round(4)"
   ]
  },
  {
   "cell_type": "code",
   "execution_count": 216,
   "metadata": {},
   "outputs": [
    {
     "data": {
      "text/plain": [
       "0    0.858818\n",
       "1    0.141182\n",
       "Name: arrests, dtype: float64"
      ]
     },
     "execution_count": 216,
     "metadata": {},
     "output_type": "execute_result"
    }
   ],
   "source": [
    "mass['arrests'].value_counts(normalize=True)"
   ]
  },
  {
   "cell_type": "code",
   "execution_count": 217,
   "metadata": {},
   "outputs": [
    {
     "data": {
      "text/plain": [
       "0"
      ]
     },
     "execution_count": 217,
     "metadata": {},
     "output_type": "execute_result"
    }
   ],
   "source": [
    "mass['arrests'].value_counts(normalize=True).idxmax()"
   ]
  },
  {
   "cell_type": "code",
   "execution_count": 218,
   "metadata": {},
   "outputs": [
    {
     "data": {
      "text/plain": [
       "0.8588181039594176"
      ]
     },
     "execution_count": 218,
     "metadata": {},
     "output_type": "execute_result"
    }
   ],
   "source": [
    "max(mass['arrests'].value_counts(normalize=True))"
   ]
  },
  {
   "cell_type": "code",
   "execution_count": 219,
   "metadata": {},
   "outputs": [],
   "source": [
    "# mass.info(verbose=True)"
   ]
  },
  {
   "cell_type": "markdown",
   "metadata": {},
   "source": [
    "_Saving `mass` DataFrame again now that it has the viole"
   ]
  },
  {
   "cell_type": "markdown",
   "metadata": {},
   "source": [
    "_Re-running `state_response_predictor` function on dataframe without dummified country columns._ "
   ]
  },
  {
   "cell_type": "code",
   "execution_count": 224,
   "metadata": {},
   "outputs": [],
   "source": [
    "mass_no_country = mass.copy()"
   ]
  },
  {
   "cell_type": "code",
   "execution_count": 226,
   "metadata": {},
   "outputs": [],
   "source": [
    "# mass_no_country.info(verbose=1)"
   ]
  },
  {
   "cell_type": "markdown",
   "metadata": {},
   "source": [
    "Cell below drops the country columns from `mass_no_country` (created in the above cell) but I minimized it for length/scrolling reasons. "
   ]
  },
  {
   "cell_type": "code",
   "execution_count": 227,
   "metadata": {
    "jupyter": {
     "source_hidden": true
    }
   },
   "outputs": [],
   "source": [
    "mass_no_country = mass_no_country.drop(columns=[ 'country_Afghanistan',\n",
    " 'country_Albania',\n",
    " 'country_Algeria',\n",
    " 'country_Angola',\n",
    " 'country_Argentina',\n",
    " 'country_Armenia',\n",
    " 'country_Austria',\n",
    " 'country_Azerbaijan',\n",
    " 'country_Bahrain',\n",
    " 'country_Bangladesh',\n",
    " 'country_Belarus',\n",
    " 'country_Belgium',\n",
    " 'country_Benin',\n",
    " 'country_Bolivia',\n",
    " 'country_Bosnia',\n",
    " 'country_Botswana',\n",
    " 'country_Brazil',\n",
    " 'country_Bulgaria',\n",
    " 'country_Burkina Faso',\n",
    " 'country_Burundi',\n",
    " 'country_Cambodia',\n",
    " 'country_Cameroon',\n",
    " 'country_Canada',\n",
    " 'country_Cape Verde',\n",
    " 'country_Central African Republic',\n",
    " 'country_Chad',\n",
    " 'country_Chile',\n",
    " 'country_China',\n",
    " 'country_Colombia',\n",
    " 'country_Comoros',\n",
    " 'country_Congo Brazzaville',\n",
    " 'country_Congo Kinshasa',\n",
    " 'country_Costa Rica',\n",
    " 'country_Croatia',\n",
    " 'country_Cuba',\n",
    " 'country_Cyprus',\n",
    " 'country_Czech Republic',\n",
    " 'country_Czechoslovakia',\n",
    " 'country_Denmark',\n",
    " 'country_Djibouti',\n",
    " 'country_Dominican Republic',\n",
    " 'country_Ecuador',\n",
    " 'country_Egypt',\n",
    " 'country_El Salvador',\n",
    " 'country_Equatorial Guinea',\n",
    " 'country_Eritrea',\n",
    " 'country_Estonia',\n",
    " 'country_Ethiopia',\n",
    " 'country_Finland',\n",
    " 'country_France',\n",
    " 'country_Gabon',\n",
    " 'country_Gambia',\n",
    " 'country_Georgia',\n",
    " 'country_Germany',\n",
    " 'country_Germany East',\n",
    " 'country_Germany West',\n",
    " 'country_Ghana',\n",
    " 'country_Greece',\n",
    " 'country_Guatemala',\n",
    " 'country_Guinea',\n",
    " 'country_Guinea-Bissau',\n",
    " 'country_Guyana',\n",
    " 'country_Haiti',\n",
    " 'country_Honduras',\n",
    " 'country_Hungary',\n",
    " 'country_India',\n",
    " 'country_Indonesia',\n",
    " 'country_Iran',\n",
    " 'country_Iraq',\n",
    " 'country_Ireland',\n",
    " 'country_Italy',\n",
    " 'country_Ivory Coast',\n",
    " 'country_Jamaica',\n",
    " 'country_Japan',\n",
    " 'country_Jordan',\n",
    " 'country_Kazakhstan',\n",
    " 'country_Kenya',\n",
    " 'country_Kosovo',\n",
    " 'country_Kuwait',\n",
    " 'country_Kyrgyzstan',\n",
    " 'country_Laos',\n",
    " 'country_Latvia',\n",
    " 'country_Lebanon',\n",
    " 'country_Lesotho',\n",
    " 'country_Liberia',\n",
    " 'country_Libya',\n",
    " 'country_Lithuania',\n",
    " 'country_Luxembourg',\n",
    " 'country_Macedonia',\n",
    " 'country_Madagascar',\n",
    " 'country_Malawi',\n",
    " 'country_Malaysia',\n",
    " 'country_Mali',\n",
    " 'country_Mauritania',\n",
    " 'country_Mauritius',\n",
    " 'country_Mexico',\n",
    " 'country_Moldova',\n",
    " 'country_Mongolia',\n",
    " 'country_Montenegro',\n",
    " 'country_Morocco',\n",
    " 'country_Mozambique',\n",
    " 'country_Myanmar',\n",
    " 'country_Namibia',\n",
    " 'country_Nepal',\n",
    " 'country_Netherlands',\n",
    " 'country_Nicaragua',\n",
    " 'country_Niger',\n",
    " 'country_Nigeria',\n",
    " 'country_North Korea',\n",
    " 'country_Norway',\n",
    " 'country_Oman',\n",
    " 'country_Pakistan',\n",
    " 'country_Panama',\n",
    " 'country_Papua New Guinea',\n",
    " 'country_Paraguay',\n",
    " 'country_Peru',\n",
    " 'country_Philippines',\n",
    " 'country_Poland',\n",
    " 'country_Portugal',\n",
    " 'country_Qatar',\n",
    " 'country_Romania',\n",
    " 'country_Russia',\n",
    " 'country_Rwanda',\n",
    " 'country_Saudi Arabia',\n",
    " 'country_Senegal',\n",
    " 'country_Serbia',\n",
    " 'country_Serbia and Montenegro',\n",
    " 'country_Sierra Leone',\n",
    " 'country_Singapore',\n",
    " 'country_Slovak Republic',\n",
    " 'country_Slovenia',\n",
    " 'country_Somalia',\n",
    " 'country_South Africa',\n",
    " 'country_South Korea',\n",
    " 'country_South Sudan',\n",
    " 'country_Spain',\n",
    " 'country_Sri Lanka',\n",
    " 'country_Sudan',\n",
    " 'country_Suriname',\n",
    " 'country_Swaziland',\n",
    " 'country_Sweden',\n",
    " 'country_Switzerland',\n",
    " 'country_Syria',\n",
    " 'country_Taiwan',\n",
    " 'country_Tajikistan',\n",
    " 'country_Tanzania',\n",
    " 'country_Thailand',\n",
    " 'country_Timor Leste',\n",
    " 'country_Togo',\n",
    " 'country_Tunisia',\n",
    " 'country_Turkey',\n",
    " 'country_Turkmenistan',\n",
    " 'country_USSR',\n",
    " 'country_Uganda',\n",
    " 'country_Ukraine',\n",
    " 'country_United Arab Emirate',\n",
    " 'country_United Kingdom',\n",
    " 'country_Uruguay',\n",
    " 'country_Uzbekistan',\n",
    " 'country_Venezuela',\n",
    " 'country_Vietnam',\n",
    " 'country_Yemen',\n",
    " 'country_Yugoslavia',\n",
    " 'country_Zambia',\n",
    " 'country_Zimbabwe' ])"
   ]
  },
  {
   "cell_type": "code",
   "execution_count": 234,
   "metadata": {},
   "outputs": [],
   "source": [
    "# mass_no_country.info()"
   ]
  },
  {
   "cell_type": "code",
   "execution_count": 235,
   "metadata": {},
   "outputs": [],
   "source": [
    "features = mass_no_country.drop(columns=['country', 'ccode', 'region', 'location','protesteridentity', 'sources',\n",
    "           'notes', 'protester_id_type', 'protest_size_category', 'start_date', 'notes_clean', 'neg', 'neu', 'pos',\n",
    "           'end_date', 'target', 'arrests', 'accomodation', 'beatings', 'crowddispersal', 'ignore', 'killings', 'shootings', \n",
    "            'violent_response', 'violent_count'])\n",
    "\n",
    "LogisticRegression_1 = LogisticRegression(solver='lbfgs', max_iter=1000)"
   ]
  },
  {
   "cell_type": "code",
   "execution_count": 236,
   "metadata": {},
   "outputs": [],
   "source": [
    "# (mass.drop(columns=['country', 'ccode', 'region', 'location','protesteridentity', 'sources',\n",
    "#            'notes', 'protester_id_type', 'protest_size_category', 'start_date', 'notes_clean', 'neg', 'neu', 'pos',\n",
    "#            'end_date', 'target', 'arrests', 'accomodation', 'beatings',\n",
    "#            'crowddispersal', 'ignore', 'killings', 'shootings'])).columns"
   ]
  },
  {
   "cell_type": "markdown",
   "metadata": {},
   "source": [
    "_Adding `predicted` and `probability` columns to the `mass_no_country` DataFrame. "
   ]
  },
  {
   "cell_type": "code",
   "execution_count": 237,
   "metadata": {},
   "outputs": [],
   "source": [
    "mass_no_country['arrests_predicted'], mass_no_country['arrests_probability'], \\\n",
    "f1_score_train, f1_score_test, precision_train, precision_test, recall_train, recall_test = \\\n",
    "state_response_predictor(mass_no_country, features, 'arrests', LogisticRegression_1)"
   ]
  },
  {
   "cell_type": "code",
   "execution_count": 238,
   "metadata": {},
   "outputs": [],
   "source": [
    "mass_no_country['accomodation_predicted'], mass_no_country['accomodation_probability'], \\\n",
    "f1_score_train, f1_score_test, precision_train, precision_test, recall_train, recall_test = \\\n",
    "state_response_predictor(mass_no_country, features, 'accomodation', LogisticRegression_1)"
   ]
  },
  {
   "cell_type": "code",
   "execution_count": 239,
   "metadata": {},
   "outputs": [],
   "source": [
    "mass_no_country['beatings_predicted'], mass_no_country['beatings_probability'], f1_score_train, \\\n",
    "f1_score_test, precision_train, precision_test, recall_train, recall_test = \\\n",
    "state_response_predictor(mass_no_country, features, 'beatings', LogisticRegression_1)"
   ]
  },
  {
   "cell_type": "code",
   "execution_count": 240,
   "metadata": {},
   "outputs": [],
   "source": [
    "mass_no_country['crowddispersal_predicted'], mass_no_country['crowddispersal_probability'], \\\n",
    "f1_score_train, f1_score_test, precision_train, precision_test, recall_train, recall_test = \\\n",
    "state_response_predictor(mass_no_country, features, 'crowddispersal', LogisticRegression_1)"
   ]
  },
  {
   "cell_type": "code",
   "execution_count": 241,
   "metadata": {},
   "outputs": [],
   "source": [
    "mass_no_country['ignore_predicted'], mass_no_country['ignore_probability'], \\\n",
    "f1_score_train, f1_score_test, precision_train, precision_test, recall_train, recall_test = \\\n",
    "state_response_predictor(mass_no_country, features, 'ignore', LogisticRegression_1)"
   ]
  },
  {
   "cell_type": "code",
   "execution_count": 242,
   "metadata": {},
   "outputs": [],
   "source": [
    "mass_no_country['killings_predicted'], mass_no_country['killings_probability'], \\\n",
    "f1_score_train, f1_score_test, precision_train, precision_test, recall_train, recall_test = \\\n",
    "state_response_predictor(mass_no_country, features, 'killings', LogisticRegression_1)"
   ]
  },
  {
   "cell_type": "code",
   "execution_count": 243,
   "metadata": {},
   "outputs": [],
   "source": [
    "mass_no_country['shootings_predicted'], mass_no_country['shootings_probability'], \\\n",
    "f1_score_train, f1_score_test, precision_train, precision_test, recall_train, recall_test = \\\n",
    "state_response_predictor(mass_no_country, features, 'shootings', LogisticRegression_1)"
   ]
  },
  {
   "cell_type": "code",
   "execution_count": 244,
   "metadata": {},
   "outputs": [],
   "source": [
    "# predictions_df = mass[['id','arrests', 'arrests_predicted', 'arrests_probability', 'accomodation', 'accomodation_predicted', 'accomodation_probability', \n",
    "#       'beatings', 'beatings_predicted', 'beatings_probability', 'crowddispersal', 'crowddispersal_predicted', 'crowddispersal_probability', \n",
    "#       'ignore', 'ignore_predicted', 'ignore_probability', 'killings', 'killings_predicted', 'killings_probability',\n",
    "#       'killings', 'killings_predicted', 'killings_probability']].copy()"
   ]
  },
  {
   "cell_type": "code",
   "execution_count": 245,
   "metadata": {},
   "outputs": [
    {
     "data": {
      "text/html": [
       "<div>\n",
       "<style scoped>\n",
       "    .dataframe tbody tr th:only-of-type {\n",
       "        vertical-align: middle;\n",
       "    }\n",
       "\n",
       "    .dataframe tbody tr th {\n",
       "        vertical-align: top;\n",
       "    }\n",
       "\n",
       "    .dataframe thead th {\n",
       "        text-align: right;\n",
       "    }\n",
       "</style>\n",
       "<table border=\"1\" class=\"dataframe\">\n",
       "  <thead>\n",
       "    <tr style=\"text-align: right;\">\n",
       "      <th></th>\n",
       "      <th>accomodation</th>\n",
       "      <th>accomodation_predicted</th>\n",
       "      <th>accomodation_probability</th>\n",
       "    </tr>\n",
       "  </thead>\n",
       "  <tbody>\n",
       "    <tr>\n",
       "      <th>451</th>\n",
       "      <td>1</td>\n",
       "      <td>1</td>\n",
       "      <td>0.947864</td>\n",
       "    </tr>\n",
       "    <tr>\n",
       "      <th>1191</th>\n",
       "      <td>1</td>\n",
       "      <td>1</td>\n",
       "      <td>0.523000</td>\n",
       "    </tr>\n",
       "    <tr>\n",
       "      <th>1438</th>\n",
       "      <td>1</td>\n",
       "      <td>1</td>\n",
       "      <td>0.649603</td>\n",
       "    </tr>\n",
       "    <tr>\n",
       "      <th>1447</th>\n",
       "      <td>1</td>\n",
       "      <td>1</td>\n",
       "      <td>0.535435</td>\n",
       "    </tr>\n",
       "    <tr>\n",
       "      <th>1450</th>\n",
       "      <td>1</td>\n",
       "      <td>1</td>\n",
       "      <td>0.611238</td>\n",
       "    </tr>\n",
       "    <tr>\n",
       "      <th>...</th>\n",
       "      <td>...</td>\n",
       "      <td>...</td>\n",
       "      <td>...</td>\n",
       "    </tr>\n",
       "    <tr>\n",
       "      <th>15144</th>\n",
       "      <td>1</td>\n",
       "      <td>1</td>\n",
       "      <td>0.573000</td>\n",
       "    </tr>\n",
       "    <tr>\n",
       "      <th>15149</th>\n",
       "      <td>1</td>\n",
       "      <td>1</td>\n",
       "      <td>0.516305</td>\n",
       "    </tr>\n",
       "    <tr>\n",
       "      <th>15152</th>\n",
       "      <td>1</td>\n",
       "      <td>1</td>\n",
       "      <td>0.601844</td>\n",
       "    </tr>\n",
       "    <tr>\n",
       "      <th>15156</th>\n",
       "      <td>1</td>\n",
       "      <td>1</td>\n",
       "      <td>0.568081</td>\n",
       "    </tr>\n",
       "    <tr>\n",
       "      <th>15164</th>\n",
       "      <td>1</td>\n",
       "      <td>1</td>\n",
       "      <td>0.523874</td>\n",
       "    </tr>\n",
       "  </tbody>\n",
       "</table>\n",
       "<p>128 rows × 3 columns</p>\n",
       "</div>"
      ],
      "text/plain": [
       "       accomodation  accomodation_predicted  accomodation_probability\n",
       "451               1                       1                  0.947864\n",
       "1191              1                       1                  0.523000\n",
       "1438              1                       1                  0.649603\n",
       "1447              1                       1                  0.535435\n",
       "1450              1                       1                  0.611238\n",
       "...             ...                     ...                       ...\n",
       "15144             1                       1                  0.573000\n",
       "15149             1                       1                  0.516305\n",
       "15152             1                       1                  0.601844\n",
       "15156             1                       1                  0.568081\n",
       "15164             1                       1                  0.523874\n",
       "\n",
       "[128 rows x 3 columns]"
      ]
     },
     "execution_count": 245,
     "metadata": {},
     "output_type": "execute_result"
    }
   ],
   "source": [
    "# looking at where accomodation is '1' and it was also correctly predicted \n",
    "# in mass_no_country DF to see whether it helped \n",
    "\n",
    "mass_no_country[ (mass_no_country['accomodation'] == mass_no_country['accomodation_predicted']) & mass_no_country['accomodation']==1 ][['accomodation', 'accomodation_predicted', 'accomodation_probability']]"
   ]
  },
  {
   "cell_type": "markdown",
   "metadata": {},
   "source": [
    "Creating a new `model_performance` DF for the model run on `mass_no_country`."
   ]
  },
  {
   "cell_type": "code",
   "execution_count": 254,
   "metadata": {},
   "outputs": [
    {
     "name": "stdout",
     "output_type": "stream",
     "text": [
      "{'target': ['arrests', 'accomodation', 'beatings', 'crowddispersal', 'ignore', 'killings', 'shootings', 'violent_response'], 'majority_class': [0, 0, 0, 0, 1, 0, 0, 0], 'majority_percent': [0.8588181039594176, 0.8997957704723631, 0.9472956057711311, 0.6865406153238026, 0.5434481849924238, 0.9457144739442651, 0.9386652612161539, 0.8753541076487252], 'f1_score_train': [0.24430264357338197, 0.09939759036144577, 0.17173051519154559, 0.6446232626188734, 0.7954094644375178, 0.24191616766467064, 0.24093816631130063, 0.39802336028751123], 'f1_score_test': [0.2722117202268431, 0.06984126984126984, 0.15568862275449102, 0.624173180998196, 0.7837535014005603, 0.1958762886597938, 0.2, 0.35976789168278533], 'precision_train': [0.5690021231422505, 0.6470588235294118, 0.65, 0.7299536116633533, 0.745848279527036, 0.6121212121212121, 0.5947368421052631, 0.6429608127721336], 'precision_test': [0.6605504587155964, 0.55, 0.5416666666666666, 0.7188365650969529, 0.7324607329842932, 0.475, 0.48936170212765956, 0.5740740740740741], 'recall_train': [0.1555426581543819, 0.053833605220228384, 0.0989345509893455, 0.5771548336389835, 0.8520261041129155, 0.15074626865671642, 0.15106951871657753, 0.28822381262199087], 'recall_test': [0.17142857142857143, 0.03728813559322034, 0.09090909090909091, 0.5515409139213603, 0.8427710843373494, 0.12337662337662338, 0.12568306010928962, 0.2619718309859155]}\n"
     ]
    }
   ],
   "source": [
    "model_performance_dict_nc = {\n",
    "    'target':[],\n",
    "    'majority_class':[],\n",
    "    'majority_percent':[],\n",
    "    'f1_score_train':[],\n",
    "    'f1_score_test':[],\n",
    "    'precision_train':[],\n",
    "    'precision_test':[],\n",
    "    'recall_train':[],\n",
    "    'recall_test':[] \n",
    "}\n",
    "\n",
    " \n",
    "targets = ['arrests','accomodation','beatings','crowddispersal','ignore','killings','shootings', 'violent_response']    \n",
    "    \n",
    "for target in targets:\n",
    "    \n",
    "    predicted_column, probability_column, f1_score_train, f1_score_test, precision_train, precision_test, recall_train, recall_test = state_response_predictor(\n",
    "                                                                                                                                mass, \n",
    "                                                                                                                                features, \n",
    "                                                                                                                                target, \n",
    "                                                                                                                                LogisticRegression_1)\n",
    "    \n",
    "    model_performance_dict_nc['target'].append(target)\n",
    "    model_performance_dict_nc['majority_class'].append(mass[target].value_counts(normalize=True).idxmax())\n",
    "    model_performance_dict_nc['majority_percent'].append(max(mass[target].value_counts(normalize=True)))\n",
    "    model_performance_dict_nc['f1_score_train'].append(f1_score_train)\n",
    "    model_performance_dict_nc['f1_score_test'].append(f1_score_test)\n",
    "    model_performance_dict_nc['precision_train'].append(precision_train)\n",
    "    model_performance_dict_nc['precision_test'].append(precision_test)\n",
    "    model_performance_dict_nc['recall_train'].append(recall_train)\n",
    "    model_performance_dict_nc['recall_test'].append(recall_test)\n",
    "    \n",
    "print(model_performance_dict)\n",
    "    \n",
    "model_performance_df_nc = pd.DataFrame(model_performance_dict_nc)\n",
    "# model_performance_df_nc.round(4)"
   ]
  },
  {
   "cell_type": "markdown",
   "metadata": {},
   "source": [
    "### Includes country rows "
   ]
  },
  {
   "cell_type": "code",
   "execution_count": 257,
   "metadata": {},
   "outputs": [
    {
     "data": {
      "text/html": [
       "<div>\n",
       "<style scoped>\n",
       "    .dataframe tbody tr th:only-of-type {\n",
       "        vertical-align: middle;\n",
       "    }\n",
       "\n",
       "    .dataframe tbody tr th {\n",
       "        vertical-align: top;\n",
       "    }\n",
       "\n",
       "    .dataframe thead th {\n",
       "        text-align: right;\n",
       "    }\n",
       "</style>\n",
       "<table border=\"1\" class=\"dataframe\">\n",
       "  <thead>\n",
       "    <tr style=\"text-align: right;\">\n",
       "      <th></th>\n",
       "      <th>target</th>\n",
       "      <th>majority_class</th>\n",
       "      <th>majority_percent</th>\n",
       "      <th>f1_score_train</th>\n",
       "      <th>f1_score_test</th>\n",
       "      <th>precision_train</th>\n",
       "      <th>precision_test</th>\n",
       "      <th>recall_train</th>\n",
       "      <th>recall_test</th>\n",
       "    </tr>\n",
       "  </thead>\n",
       "  <tbody>\n",
       "    <tr>\n",
       "      <th>0</th>\n",
       "      <td>arrests</td>\n",
       "      <td>0</td>\n",
       "      <td>0.8588</td>\n",
       "      <td>0.2443</td>\n",
       "      <td>0.2722</td>\n",
       "      <td>0.5690</td>\n",
       "      <td>0.6606</td>\n",
       "      <td>0.1555</td>\n",
       "      <td>0.1714</td>\n",
       "    </tr>\n",
       "    <tr>\n",
       "      <th>1</th>\n",
       "      <td>accomodation</td>\n",
       "      <td>0</td>\n",
       "      <td>0.8998</td>\n",
       "      <td>0.0994</td>\n",
       "      <td>0.0698</td>\n",
       "      <td>0.6471</td>\n",
       "      <td>0.5500</td>\n",
       "      <td>0.0538</td>\n",
       "      <td>0.0373</td>\n",
       "    </tr>\n",
       "    <tr>\n",
       "      <th>2</th>\n",
       "      <td>beatings</td>\n",
       "      <td>0</td>\n",
       "      <td>0.9473</td>\n",
       "      <td>0.1717</td>\n",
       "      <td>0.1557</td>\n",
       "      <td>0.6500</td>\n",
       "      <td>0.5417</td>\n",
       "      <td>0.0989</td>\n",
       "      <td>0.0909</td>\n",
       "    </tr>\n",
       "    <tr>\n",
       "      <th>3</th>\n",
       "      <td>crowddispersal</td>\n",
       "      <td>0</td>\n",
       "      <td>0.6865</td>\n",
       "      <td>0.6446</td>\n",
       "      <td>0.6242</td>\n",
       "      <td>0.7300</td>\n",
       "      <td>0.7188</td>\n",
       "      <td>0.5772</td>\n",
       "      <td>0.5515</td>\n",
       "    </tr>\n",
       "    <tr>\n",
       "      <th>4</th>\n",
       "      <td>ignore</td>\n",
       "      <td>1</td>\n",
       "      <td>0.5434</td>\n",
       "      <td>0.7954</td>\n",
       "      <td>0.7838</td>\n",
       "      <td>0.7458</td>\n",
       "      <td>0.7325</td>\n",
       "      <td>0.8520</td>\n",
       "      <td>0.8428</td>\n",
       "    </tr>\n",
       "    <tr>\n",
       "      <th>5</th>\n",
       "      <td>killings</td>\n",
       "      <td>0</td>\n",
       "      <td>0.9457</td>\n",
       "      <td>0.2419</td>\n",
       "      <td>0.1959</td>\n",
       "      <td>0.6121</td>\n",
       "      <td>0.4750</td>\n",
       "      <td>0.1507</td>\n",
       "      <td>0.1234</td>\n",
       "    </tr>\n",
       "    <tr>\n",
       "      <th>6</th>\n",
       "      <td>shootings</td>\n",
       "      <td>0</td>\n",
       "      <td>0.9387</td>\n",
       "      <td>0.2409</td>\n",
       "      <td>0.2000</td>\n",
       "      <td>0.5947</td>\n",
       "      <td>0.4894</td>\n",
       "      <td>0.1511</td>\n",
       "      <td>0.1257</td>\n",
       "    </tr>\n",
       "    <tr>\n",
       "      <th>7</th>\n",
       "      <td>violent_response</td>\n",
       "      <td>0</td>\n",
       "      <td>0.8754</td>\n",
       "      <td>0.3980</td>\n",
       "      <td>0.3598</td>\n",
       "      <td>0.6430</td>\n",
       "      <td>0.5741</td>\n",
       "      <td>0.2882</td>\n",
       "      <td>0.2620</td>\n",
       "    </tr>\n",
       "  </tbody>\n",
       "</table>\n",
       "</div>"
      ],
      "text/plain": [
       "             target  majority_class  majority_percent  f1_score_train  \\\n",
       "0           arrests               0            0.8588          0.2443   \n",
       "1      accomodation               0            0.8998          0.0994   \n",
       "2          beatings               0            0.9473          0.1717   \n",
       "3    crowddispersal               0            0.6865          0.6446   \n",
       "4            ignore               1            0.5434          0.7954   \n",
       "5          killings               0            0.9457          0.2419   \n",
       "6         shootings               0            0.9387          0.2409   \n",
       "7  violent_response               0            0.8754          0.3980   \n",
       "\n",
       "   f1_score_test  precision_train  precision_test  recall_train  recall_test  \n",
       "0         0.2722           0.5690          0.6606        0.1555       0.1714  \n",
       "1         0.0698           0.6471          0.5500        0.0538       0.0373  \n",
       "2         0.1557           0.6500          0.5417        0.0989       0.0909  \n",
       "3         0.6242           0.7300          0.7188        0.5772       0.5515  \n",
       "4         0.7838           0.7458          0.7325        0.8520       0.8428  \n",
       "5         0.1959           0.6121          0.4750        0.1507       0.1234  \n",
       "6         0.2000           0.5947          0.4894        0.1511       0.1257  \n",
       "7         0.3598           0.6430          0.5741        0.2882       0.2620  "
      ]
     },
     "execution_count": 257,
     "metadata": {},
     "output_type": "execute_result"
    }
   ],
   "source": [
    "model_performance_df.round(4)"
   ]
  },
  {
   "cell_type": "markdown",
   "metadata": {},
   "source": [
    "### Does not include country rows (all countries dropped) "
   ]
  },
  {
   "cell_type": "code",
   "execution_count": 258,
   "metadata": {},
   "outputs": [
    {
     "data": {
      "text/html": [
       "<div>\n",
       "<style scoped>\n",
       "    .dataframe tbody tr th:only-of-type {\n",
       "        vertical-align: middle;\n",
       "    }\n",
       "\n",
       "    .dataframe tbody tr th {\n",
       "        vertical-align: top;\n",
       "    }\n",
       "\n",
       "    .dataframe thead th {\n",
       "        text-align: right;\n",
       "    }\n",
       "</style>\n",
       "<table border=\"1\" class=\"dataframe\">\n",
       "  <thead>\n",
       "    <tr style=\"text-align: right;\">\n",
       "      <th></th>\n",
       "      <th>target</th>\n",
       "      <th>majority_class</th>\n",
       "      <th>majority_percent</th>\n",
       "      <th>f1_score_train</th>\n",
       "      <th>f1_score_test</th>\n",
       "      <th>precision_train</th>\n",
       "      <th>precision_test</th>\n",
       "      <th>recall_train</th>\n",
       "      <th>recall_test</th>\n",
       "    </tr>\n",
       "  </thead>\n",
       "  <tbody>\n",
       "    <tr>\n",
       "      <th>0</th>\n",
       "      <td>arrests</td>\n",
       "      <td>0</td>\n",
       "      <td>0.8588</td>\n",
       "      <td>0.3124</td>\n",
       "      <td>0.3134</td>\n",
       "      <td>0.5814</td>\n",
       "      <td>0.6014</td>\n",
       "      <td>0.2136</td>\n",
       "      <td>0.2119</td>\n",
       "    </tr>\n",
       "    <tr>\n",
       "      <th>1</th>\n",
       "      <td>accomodation</td>\n",
       "      <td>0</td>\n",
       "      <td>0.8998</td>\n",
       "      <td>0.1514</td>\n",
       "      <td>0.1062</td>\n",
       "      <td>0.5373</td>\n",
       "      <td>0.4091</td>\n",
       "      <td>0.0881</td>\n",
       "      <td>0.0610</td>\n",
       "    </tr>\n",
       "    <tr>\n",
       "      <th>2</th>\n",
       "      <td>beatings</td>\n",
       "      <td>0</td>\n",
       "      <td>0.9473</td>\n",
       "      <td>0.2638</td>\n",
       "      <td>0.1720</td>\n",
       "      <td>0.5833</td>\n",
       "      <td>0.3721</td>\n",
       "      <td>0.1705</td>\n",
       "      <td>0.1119</td>\n",
       "    </tr>\n",
       "    <tr>\n",
       "      <th>3</th>\n",
       "      <td>crowddispersal</td>\n",
       "      <td>0</td>\n",
       "      <td>0.6865</td>\n",
       "      <td>0.6515</td>\n",
       "      <td>0.6318</td>\n",
       "      <td>0.7124</td>\n",
       "      <td>0.7075</td>\n",
       "      <td>0.6002</td>\n",
       "      <td>0.5707</td>\n",
       "    </tr>\n",
       "    <tr>\n",
       "      <th>4</th>\n",
       "      <td>ignore</td>\n",
       "      <td>1</td>\n",
       "      <td>0.5434</td>\n",
       "      <td>0.7951</td>\n",
       "      <td>0.7832</td>\n",
       "      <td>0.7510</td>\n",
       "      <td>0.7370</td>\n",
       "      <td>0.8447</td>\n",
       "      <td>0.8355</td>\n",
       "    </tr>\n",
       "    <tr>\n",
       "      <th>5</th>\n",
       "      <td>killings</td>\n",
       "      <td>0</td>\n",
       "      <td>0.9457</td>\n",
       "      <td>0.3021</td>\n",
       "      <td>0.2170</td>\n",
       "      <td>0.5781</td>\n",
       "      <td>0.3966</td>\n",
       "      <td>0.2045</td>\n",
       "      <td>0.1494</td>\n",
       "    </tr>\n",
       "    <tr>\n",
       "      <th>6</th>\n",
       "      <td>shootings</td>\n",
       "      <td>0</td>\n",
       "      <td>0.9387</td>\n",
       "      <td>0.3112</td>\n",
       "      <td>0.2375</td>\n",
       "      <td>0.5529</td>\n",
       "      <td>0.3974</td>\n",
       "      <td>0.2166</td>\n",
       "      <td>0.1694</td>\n",
       "    </tr>\n",
       "    <tr>\n",
       "      <th>7</th>\n",
       "      <td>violent_response</td>\n",
       "      <td>0</td>\n",
       "      <td>0.8754</td>\n",
       "      <td>0.4028</td>\n",
       "      <td>0.3925</td>\n",
       "      <td>0.6214</td>\n",
       "      <td>0.5833</td>\n",
       "      <td>0.2980</td>\n",
       "      <td>0.2958</td>\n",
       "    </tr>\n",
       "  </tbody>\n",
       "</table>\n",
       "</div>"
      ],
      "text/plain": [
       "             target  majority_class  majority_percent  f1_score_train  \\\n",
       "0           arrests               0            0.8588          0.3124   \n",
       "1      accomodation               0            0.8998          0.1514   \n",
       "2          beatings               0            0.9473          0.2638   \n",
       "3    crowddispersal               0            0.6865          0.6515   \n",
       "4            ignore               1            0.5434          0.7951   \n",
       "5          killings               0            0.9457          0.3021   \n",
       "6         shootings               0            0.9387          0.3112   \n",
       "7  violent_response               0            0.8754          0.4028   \n",
       "\n",
       "   f1_score_test  precision_train  precision_test  recall_train  recall_test  \n",
       "0         0.3134           0.5814          0.6014        0.2136       0.2119  \n",
       "1         0.1062           0.5373          0.4091        0.0881       0.0610  \n",
       "2         0.1720           0.5833          0.3721        0.1705       0.1119  \n",
       "3         0.6318           0.7124          0.7075        0.6002       0.5707  \n",
       "4         0.7832           0.7510          0.7370        0.8447       0.8355  \n",
       "5         0.2170           0.5781          0.3966        0.2045       0.1494  \n",
       "6         0.2375           0.5529          0.3974        0.2166       0.1694  \n",
       "7         0.3925           0.6214          0.5833        0.2980       0.2958  "
      ]
     },
     "execution_count": 258,
     "metadata": {},
     "output_type": "execute_result"
    }
   ],
   "source": [
    "model_performance_df_nc.round(4)"
   ]
  },
  {
   "cell_type": "code",
   "execution_count": 261,
   "metadata": {},
   "outputs": [
    {
     "data": {
      "text/plain": [
       "Index(['id', 'country', 'ccode', 'region', 'protestnumber',\n",
       "       'protesterviolence', 'location', 'protesteridentity', 'sources',\n",
       "       'notes', 'protester_id_type', 'partipants_number',\n",
       "       'protest_size_category', 'pop_male', 'pop_female', 'pop_total',\n",
       "       'pop_density', 'prosperity_2020', 'region_Africa', 'region_Asia',\n",
       "       'region_Central America', 'region_Europe', 'region_MENA',\n",
       "       'region_North America', 'region_Oceania', 'region_South America',\n",
       "       'protest_size_category_1,000-4,999',\n",
       "       'protest_size_category_10,000-100,000', 'protest_size_category_100-999',\n",
       "       'protest_size_category_5,000-9,999', 'protest_size_category_50-99',\n",
       "       'protest_size_category_Less than 50',\n",
       "       'protest_size_category_Over 100,000',\n",
       "       'protester_id_type_civil_human_rights',\n",
       "       'protester_id_type_ethnic_group', 'protester_id_type_locals_residents',\n",
       "       'protester_id_type_pensioners_retirees',\n",
       "       'protester_id_type_political_group', 'protester_id_type_prisoners',\n",
       "       'protester_id_type_protestors_generic',\n",
       "       'protester_id_type_religious_group',\n",
       "       'protester_id_type_soldiers_veterans',\n",
       "       'protester_id_type_students_youth',\n",
       "       'protester_id_type_victims_families', 'protester_id_type_women',\n",
       "       'protester_id_type_workers_unions', 'arrests', 'accomodation',\n",
       "       'beatings', 'crowddispersal', 'ignore', 'killings', 'shootings',\n",
       "       'labor_wage_dispute', 'land_farm_issue', 'police_brutality',\n",
       "       'political_behavior_process', 'price increases_tax_policy',\n",
       "       'removal_of_politician', 'social_restrictions', 'start_date',\n",
       "       'end_date', 'target', 'notes_clean', 'neg', 'neu', 'pos', 'compound',\n",
       "       'protest_duration', 'violent_response', 'violent_count',\n",
       "       'arrests_predicted', 'arrests_probability', 'accomodation_predicted',\n",
       "       'accomodation_probability', 'beatings_predicted',\n",
       "       'beatings_probability', 'crowddispersal_predicted',\n",
       "       'crowddispersal_probability', 'ignore_predicted', 'ignore_probability',\n",
       "       'killings_predicted', 'killings_probability', 'shootings_predicted',\n",
       "       'shootings_probability', 'violence_predicted', 'violence_probability'],\n",
       "      dtype='object')"
      ]
     },
     "execution_count": 261,
     "metadata": {},
     "output_type": "execute_result"
    }
   ],
   "source": [
    "mass_no_country.columns"
   ]
  },
  {
   "cell_type": "markdown",
   "metadata": {},
   "source": [
    "_Dropping all prediction columns from `mass_no_country` so that I can pickle it and use it in another notebook._"
   ]
  },
  {
   "cell_type": "code",
   "execution_count": 263,
   "metadata": {},
   "outputs": [],
   "source": [
    "mass_no_country.drop(columns=['arrests_predicted', 'arrests_probability', 'accomodation_predicted',\n",
    "       'accomodation_probability', 'beatings_predicted',\n",
    "       'beatings_probability', 'crowddispersal_predicted',\n",
    "       'crowddispersal_probability', 'ignore_predicted', 'ignore_probability',\n",
    "       'killings_predicted', 'killings_probability', 'shootings_predicted',\n",
    "       'shootings_probability', 'violence_predicted', 'violence_probability'], inplace=True)"
   ]
  },
  {
   "cell_type": "markdown",
   "metadata": {},
   "source": [
    "_Saving `mass_no_country` as CSV and pickle_"
   ]
  },
  {
   "cell_type": "code",
   "execution_count": 265,
   "metadata": {},
   "outputs": [
    {
     "data": {
      "text/plain": [
       "'/Users/emilynaftalin/Data_Science/General Assembly/dsi/projects/Mass-Protests/users'"
      ]
     },
     "execution_count": 265,
     "metadata": {},
     "output_type": "execute_result"
    }
   ],
   "source": [
    "pwd"
   ]
  },
  {
   "cell_type": "code",
   "execution_count": 267,
   "metadata": {},
   "outputs": [],
   "source": [
    "mass_no_country.to_csv('../data/03_mass_no_country.csv', index=False)"
   ]
  },
  {
   "cell_type": "code",
   "execution_count": 268,
   "metadata": {},
   "outputs": [],
   "source": [
    "mass_no_country.to_pickle('../data/mass_no_country.pickle')"
   ]
  }
 ],
 "metadata": {
  "kernelspec": {
   "display_name": "Python 3",
   "language": "python",
   "name": "python3"
  },
  "language_info": {
   "codemirror_mode": {
    "name": "ipython",
    "version": 3
   },
   "file_extension": ".py",
   "mimetype": "text/x-python",
   "name": "python",
   "nbconvert_exporter": "python",
   "pygments_lexer": "ipython3",
   "version": "3.8.5"
  }
 },
 "nbformat": 4,
 "nbformat_minor": 4
}
