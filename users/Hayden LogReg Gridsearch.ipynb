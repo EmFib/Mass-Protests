{
 "cells": [
  {
   "cell_type": "code",
   "execution_count": 214,
   "metadata": {},
   "outputs": [],
   "source": [
    "import numpy as np\n",
    "import pandas as pd\n",
    "import matplotlib.pyplot as plt \n",
    "import seaborn as sns\n",
    "\n",
    "from sklearn.linear_model import LogisticRegression\n",
    "from sklearn.model_selection import train_test_split, KFold, LeaveOneOut, cross_val_score, GridSearchCV\n",
    "\n",
    "from sklearn.preprocessing import StandardScaler\n",
    "\n",
    "from sklearn.metrics import (accuracy_score, \n",
    "                            confusion_matrix, \n",
    "                            classification_report,\n",
    "                            f1_score,\n",
    "                            plot_confusion_matrix,\n",
    "                            precision_recall_curve,\n",
    "                            precision_score,\n",
    "                            recall_score, roc_curve, \n",
    "                            roc_auc_score)"
   ]
  },
  {
   "cell_type": "code",
   "execution_count": 86,
   "metadata": {},
   "outputs": [
    {
     "data": {
      "text/plain": [
       "'C:\\\\Users\\\\tsuts\\\\dsi\\\\07-week\\\\Mass-Protests\\\\users'"
      ]
     },
     "execution_count": 86,
     "metadata": {},
     "output_type": "execute_result"
    }
   ],
   "source": [
    "pwd"
   ]
  },
  {
   "cell_type": "code",
   "execution_count": 141,
   "metadata": {},
   "outputs": [],
   "source": [
    "mass = pd.read_csv('../data/mass_mobile.csv')\n",
    "mass_no_country = pd.read_csv('./data/mass')"
   ]
  },
  {
   "cell_type": "code",
   "execution_count": 142,
   "metadata": {
    "scrolled": true
   },
   "outputs": [
    {
     "data": {
      "text/html": [
       "<div>\n",
       "<style scoped>\n",
       "    .dataframe tbody tr th:only-of-type {\n",
       "        vertical-align: middle;\n",
       "    }\n",
       "\n",
       "    .dataframe tbody tr th {\n",
       "        vertical-align: top;\n",
       "    }\n",
       "\n",
       "    .dataframe thead th {\n",
       "        text-align: right;\n",
       "    }\n",
       "</style>\n",
       "<table border=\"1\" class=\"dataframe\">\n",
       "  <thead>\n",
       "    <tr style=\"text-align: right;\">\n",
       "      <th></th>\n",
       "      <th>Unnamed: 0</th>\n",
       "      <th>id</th>\n",
       "      <th>country</th>\n",
       "      <th>ccode</th>\n",
       "      <th>region</th>\n",
       "      <th>protestnumber</th>\n",
       "      <th>protesterviolence</th>\n",
       "      <th>location</th>\n",
       "      <th>protesteridentity</th>\n",
       "      <th>sources</th>\n",
       "      <th>...</th>\n",
       "      <th>social_restrictions</th>\n",
       "      <th>start_date</th>\n",
       "      <th>end_date</th>\n",
       "      <th>target</th>\n",
       "      <th>notes_clean</th>\n",
       "      <th>neg</th>\n",
       "      <th>neu</th>\n",
       "      <th>pos</th>\n",
       "      <th>compound</th>\n",
       "      <th>protest_duration</th>\n",
       "    </tr>\n",
       "  </thead>\n",
       "  <tbody>\n",
       "    <tr>\n",
       "      <th>0</th>\n",
       "      <td>0</td>\n",
       "      <td>201990001</td>\n",
       "      <td>Canada</td>\n",
       "      <td>20</td>\n",
       "      <td>North America</td>\n",
       "      <td>1</td>\n",
       "      <td>0.0</td>\n",
       "      <td>national</td>\n",
       "      <td>unspecified</td>\n",
       "      <td>1. great canadian train journeys into history;...</td>\n",
       "      <td>...</td>\n",
       "      <td>0</td>\n",
       "      <td>1990-01-15</td>\n",
       "      <td>1990-01-15</td>\n",
       "      <td>[0, 0, 0, 0, 1, 0, 0]</td>\n",
       "      <td>canada s railway passenger system was finally ...</td>\n",
       "      <td>0.087</td>\n",
       "      <td>0.913</td>\n",
       "      <td>0.0</td>\n",
       "      <td>-0.8176</td>\n",
       "      <td>1</td>\n",
       "    </tr>\n",
       "    <tr>\n",
       "      <th>1</th>\n",
       "      <td>1</td>\n",
       "      <td>201990002</td>\n",
       "      <td>Canada</td>\n",
       "      <td>20</td>\n",
       "      <td>North America</td>\n",
       "      <td>2</td>\n",
       "      <td>0.0</td>\n",
       "      <td>Montreal, Quebec</td>\n",
       "      <td>unspecified</td>\n",
       "      <td>1. autonomy s cry revived in quebec the new yo...</td>\n",
       "      <td>...</td>\n",
       "      <td>0</td>\n",
       "      <td>1990-06-25</td>\n",
       "      <td>1990-06-25</td>\n",
       "      <td>[0, 0, 0, 0, 1, 0, 0]</td>\n",
       "      <td>protestors were only identified as young peopl...</td>\n",
       "      <td>0.000</td>\n",
       "      <td>1.000</td>\n",
       "      <td>0.0</td>\n",
       "      <td>0.0000</td>\n",
       "      <td>1</td>\n",
       "    </tr>\n",
       "  </tbody>\n",
       "</table>\n",
       "<p>2 rows × 235 columns</p>\n",
       "</div>"
      ],
      "text/plain": [
       "   Unnamed: 0         id country  ccode         region  protestnumber  \\\n",
       "0           0  201990001  Canada     20  North America              1   \n",
       "1           1  201990002  Canada     20  North America              2   \n",
       "\n",
       "   protesterviolence          location protesteridentity  \\\n",
       "0                0.0          national       unspecified   \n",
       "1                0.0  Montreal, Quebec       unspecified   \n",
       "\n",
       "                                             sources  ... social_restrictions  \\\n",
       "0  1. great canadian train journeys into history;...  ...                   0   \n",
       "1  1. autonomy s cry revived in quebec the new yo...  ...                   0   \n",
       "\n",
       "   start_date    end_date                 target  \\\n",
       "0  1990-01-15  1990-01-15  [0, 0, 0, 0, 1, 0, 0]   \n",
       "1  1990-06-25  1990-06-25  [0, 0, 0, 0, 1, 0, 0]   \n",
       "\n",
       "                                         notes_clean    neg    neu  pos  \\\n",
       "0  canada s railway passenger system was finally ...  0.087  0.913  0.0   \n",
       "1  protestors were only identified as young peopl...  0.000  1.000  0.0   \n",
       "\n",
       "   compound  protest_duration  \n",
       "0   -0.8176                 1  \n",
       "1    0.0000                 1  \n",
       "\n",
       "[2 rows x 235 columns]"
      ]
     },
     "execution_count": 142,
     "metadata": {},
     "output_type": "execute_result"
    }
   ],
   "source": [
    "mass.head(2)"
   ]
  },
  {
   "cell_type": "code",
   "execution_count": 143,
   "metadata": {},
   "outputs": [],
   "source": [
    "mass.drop(columns=['Unnamed: 0'], inplace=True)"
   ]
  },
  {
   "cell_type": "code",
   "execution_count": 174,
   "metadata": {},
   "outputs": [],
   "source": [
    "mass_no_country = mass.drop(columns=[ 'country_Afghanistan',\n",
    " 'country_Albania',\n",
    " 'country_Algeria',\n",
    " 'country_Angola',\n",
    " 'country_Argentina',\n",
    " 'country_Armenia',\n",
    " 'country_Austria',\n",
    " 'country_Azerbaijan',\n",
    " 'country_Bahrain',\n",
    " 'country_Bangladesh',\n",
    " 'country_Belarus',\n",
    " 'country_Belgium',\n",
    " 'country_Benin',\n",
    " 'country_Bolivia',\n",
    " 'country_Bosnia',\n",
    " 'country_Botswana',\n",
    " 'country_Brazil',\n",
    " 'country_Bulgaria',\n",
    " 'country_Burkina Faso',\n",
    " 'country_Burundi',\n",
    " 'country_Cambodia',\n",
    " 'country_Cameroon',\n",
    " 'country_Canada',\n",
    " 'country_Cape Verde',\n",
    " 'country_Central African Republic',\n",
    " 'country_Chad',\n",
    " 'country_Chile',\n",
    " 'country_China',\n",
    " 'country_Colombia',\n",
    " 'country_Comoros',\n",
    " 'country_Congo Brazzaville',\n",
    " 'country_Congo Kinshasa',\n",
    " 'country_Costa Rica',\n",
    " 'country_Croatia',\n",
    " 'country_Cuba',\n",
    " 'country_Cyprus',\n",
    " 'country_Czech Republic',\n",
    " 'country_Czechoslovakia',\n",
    " 'country_Denmark',\n",
    " 'country_Djibouti',\n",
    " 'country_Dominican Republic',\n",
    " 'country_Ecuador',\n",
    " 'country_Egypt',\n",
    " 'country_El Salvador',\n",
    " 'country_Equatorial Guinea',\n",
    " 'country_Eritrea',\n",
    " 'country_Estonia',\n",
    " 'country_Ethiopia',\n",
    " 'country_Finland',\n",
    " 'country_France',\n",
    " 'country_Gabon',\n",
    " 'country_Gambia',\n",
    " 'country_Georgia',\n",
    " 'country_Germany',\n",
    " 'country_Germany East',\n",
    " 'country_Germany West',\n",
    " 'country_Ghana',\n",
    " 'country_Greece',\n",
    " 'country_Guatemala',\n",
    " 'country_Guinea',\n",
    " 'country_Guinea-Bissau',\n",
    " 'country_Guyana',\n",
    " 'country_Haiti',\n",
    " 'country_Honduras',\n",
    " 'country_Hungary',\n",
    " 'country_India',\n",
    " 'country_Indonesia',\n",
    " 'country_Iran',\n",
    " 'country_Iraq',\n",
    " 'country_Ireland',\n",
    " 'country_Italy',\n",
    " 'country_Ivory Coast',\n",
    " 'country_Jamaica',\n",
    " 'country_Japan',\n",
    " 'country_Jordan',\n",
    " 'country_Kazakhstan',\n",
    " 'country_Kenya',\n",
    " 'country_Kosovo',\n",
    " 'country_Kuwait',\n",
    " 'country_Kyrgyzstan',\n",
    " 'country_Laos',\n",
    " 'country_Latvia',\n",
    " 'country_Lebanon',\n",
    " 'country_Lesotho',\n",
    " 'country_Liberia',\n",
    " 'country_Libya',\n",
    " 'country_Lithuania',\n",
    " 'country_Luxembourg',\n",
    " 'country_Macedonia',\n",
    " 'country_Madagascar',\n",
    " 'country_Malawi',\n",
    " 'country_Malaysia',\n",
    " 'country_Mali',\n",
    " 'country_Mauritania',\n",
    " 'country_Mauritius',\n",
    " 'country_Mexico',\n",
    " 'country_Moldova',\n",
    " 'country_Mongolia',\n",
    " 'country_Montenegro',\n",
    " 'country_Morocco',\n",
    " 'country_Mozambique',\n",
    " 'country_Myanmar',\n",
    " 'country_Namibia',\n",
    " 'country_Nepal',\n",
    " 'country_Netherlands',\n",
    " 'country_Nicaragua',\n",
    " 'country_Niger',\n",
    " 'country_Nigeria',\n",
    " 'country_North Korea',\n",
    " 'country_Norway',\n",
    " 'country_Oman',\n",
    " 'country_Pakistan',\n",
    " 'country_Panama',\n",
    " 'country_Papua New Guinea',\n",
    " 'country_Paraguay',\n",
    " 'country_Peru',\n",
    " 'country_Philippines',\n",
    " 'country_Poland',\n",
    " 'country_Portugal',\n",
    " 'country_Qatar',\n",
    " 'country_Romania',\n",
    " 'country_Russia',\n",
    " 'country_Rwanda',\n",
    " 'country_Saudi Arabia',\n",
    " 'country_Senegal',\n",
    " 'country_Serbia',\n",
    " 'country_Serbia and Montenegro',\n",
    " 'country_Sierra Leone',\n",
    " 'country_Singapore',\n",
    " 'country_Slovak Republic',\n",
    " 'country_Slovenia',\n",
    " 'country_Somalia',\n",
    " 'country_South Africa',\n",
    " 'country_South Korea',\n",
    " 'country_South Sudan',\n",
    " 'country_Spain',\n",
    " 'country_Sri Lanka',\n",
    " 'country_Sudan',\n",
    " 'country_Suriname',\n",
    " 'country_Swaziland',\n",
    " 'country_Sweden',\n",
    " 'country_Switzerland',\n",
    " 'country_Syria',\n",
    " 'country_Taiwan',\n",
    " 'country_Tajikistan',\n",
    " 'country_Tanzania',\n",
    " 'country_Thailand',\n",
    " 'country_Timor Leste',\n",
    " 'country_Togo',\n",
    " 'country_Tunisia',\n",
    " 'country_Turkey',\n",
    " 'country_Turkmenistan',\n",
    " 'country_USSR',\n",
    " 'country_Uganda',\n",
    " 'country_Ukraine',\n",
    " 'country_United Arab Emirate',\n",
    " 'country_United Kingdom',\n",
    " 'country_Uruguay',\n",
    " 'country_Uzbekistan',\n",
    " 'country_Venezuela',\n",
    " 'country_Vietnam',\n",
    " 'country_Yemen',\n",
    " 'country_Yugoslavia',\n",
    " 'country_Zambia',\n",
    " 'country_Zimbabwe' ])"
   ]
  },
  {
   "cell_type": "code",
   "execution_count": 175,
   "metadata": {
    "scrolled": true
   },
   "outputs": [
    {
     "data": {
      "text/plain": [
       "['accomodation',\n",
       " 'arrests',\n",
       " 'beatings',\n",
       " 'ccode',\n",
       " 'compound',\n",
       " 'country',\n",
       " 'crowddispersal',\n",
       " 'end_date',\n",
       " 'id',\n",
       " 'ignore',\n",
       " 'killings',\n",
       " 'labor_wage_dispute',\n",
       " 'land_farm_issue',\n",
       " 'location',\n",
       " 'neg',\n",
       " 'neu',\n",
       " 'notes',\n",
       " 'notes_clean',\n",
       " 'partipants_number',\n",
       " 'police_brutality',\n",
       " 'political_behavior_process',\n",
       " 'pop_density',\n",
       " 'pop_female',\n",
       " 'pop_male',\n",
       " 'pop_total',\n",
       " 'pos',\n",
       " 'price increases_tax_policy',\n",
       " 'prosperity_2020',\n",
       " 'protest_duration',\n",
       " 'protest_size_category',\n",
       " 'protest_size_category_1,000-4,999',\n",
       " 'protest_size_category_10,000-100,000',\n",
       " 'protest_size_category_100-999',\n",
       " 'protest_size_category_5,000-9,999',\n",
       " 'protest_size_category_50-99',\n",
       " 'protest_size_category_Less than 50',\n",
       " 'protest_size_category_Over 100,000',\n",
       " 'protester_id_type',\n",
       " 'protester_id_type_civil_human_rights',\n",
       " 'protester_id_type_ethnic_group',\n",
       " 'protester_id_type_locals_residents',\n",
       " 'protester_id_type_pensioners_retirees',\n",
       " 'protester_id_type_political_group',\n",
       " 'protester_id_type_prisoners',\n",
       " 'protester_id_type_protestors_generic',\n",
       " 'protester_id_type_religious_group',\n",
       " 'protester_id_type_soldiers_veterans',\n",
       " 'protester_id_type_students_youth',\n",
       " 'protester_id_type_victims_families',\n",
       " 'protester_id_type_women',\n",
       " 'protester_id_type_workers_unions',\n",
       " 'protesteridentity',\n",
       " 'protesterviolence',\n",
       " 'protestnumber',\n",
       " 'region',\n",
       " 'region_Africa',\n",
       " 'region_Asia',\n",
       " 'region_Central America',\n",
       " 'region_Europe',\n",
       " 'region_MENA',\n",
       " 'region_North America',\n",
       " 'region_Oceania',\n",
       " 'region_South America',\n",
       " 'removal_of_politician',\n",
       " 'shootings',\n",
       " 'social_restrictions',\n",
       " 'sources',\n",
       " 'start_date',\n",
       " 'target']"
      ]
     },
     "execution_count": 175,
     "metadata": {},
     "output_type": "execute_result"
    }
   ],
   "source": [
    "# all columns for easy copy and paste \n",
    "sorted(list(mass_no_country.columns))"
   ]
  },
  {
   "cell_type": "code",
   "execution_count": 180,
   "metadata": {},
   "outputs": [
    {
     "data": {
      "text/html": [
       "<div>\n",
       "<style scoped>\n",
       "    .dataframe tbody tr th:only-of-type {\n",
       "        vertical-align: middle;\n",
       "    }\n",
       "\n",
       "    .dataframe tbody tr th {\n",
       "        vertical-align: top;\n",
       "    }\n",
       "\n",
       "    .dataframe thead th {\n",
       "        text-align: right;\n",
       "    }\n",
       "</style>\n",
       "<table border=\"1\" class=\"dataframe\">\n",
       "  <thead>\n",
       "    <tr style=\"text-align: right;\">\n",
       "      <th></th>\n",
       "      <th>violent_response</th>\n",
       "    </tr>\n",
       "  </thead>\n",
       "  <tbody>\n",
       "    <tr>\n",
       "      <th>0</th>\n",
       "      <td>0</td>\n",
       "    </tr>\n",
       "    <tr>\n",
       "      <th>1</th>\n",
       "      <td>0</td>\n",
       "    </tr>\n",
       "    <tr>\n",
       "      <th>2</th>\n",
       "      <td>0</td>\n",
       "    </tr>\n",
       "    <tr>\n",
       "      <th>3</th>\n",
       "      <td>0</td>\n",
       "    </tr>\n",
       "    <tr>\n",
       "      <th>4</th>\n",
       "      <td>0</td>\n",
       "    </tr>\n",
       "    <tr>\n",
       "      <th>...</th>\n",
       "      <td>...</td>\n",
       "    </tr>\n",
       "    <tr>\n",
       "      <th>15174</th>\n",
       "      <td>1</td>\n",
       "    </tr>\n",
       "    <tr>\n",
       "      <th>15175</th>\n",
       "      <td>1</td>\n",
       "    </tr>\n",
       "    <tr>\n",
       "      <th>15176</th>\n",
       "      <td>0</td>\n",
       "    </tr>\n",
       "    <tr>\n",
       "      <th>15177</th>\n",
       "      <td>0</td>\n",
       "    </tr>\n",
       "    <tr>\n",
       "      <th>15178</th>\n",
       "      <td>0</td>\n",
       "    </tr>\n",
       "  </tbody>\n",
       "</table>\n",
       "<p>15179 rows × 1 columns</p>\n",
       "</div>"
      ],
      "text/plain": [
       "       violent_response\n",
       "0                     0\n",
       "1                     0\n",
       "2                     0\n",
       "3                     0\n",
       "4                     0\n",
       "...                 ...\n",
       "15174                 1\n",
       "15175                 1\n",
       "15176                 0\n",
       "15177                 0\n",
       "15178                 0\n",
       "\n",
       "[15179 rows x 1 columns]"
      ]
     },
     "execution_count": 180,
     "metadata": {},
     "output_type": "execute_result"
    }
   ],
   "source": [
    "# create violet_response column \n",
    "mass_no_country['violent_response'] = 0 \n",
    "mass_no_country.loc[mass['beatings'] == 1, 'violent_response'] = 1\n",
    "mass_no_country.loc[mass['shootings'] == 1, 'violent_response'] = 1\n",
    "mass_no_country.loc[mass['killings'] == 1, 'violent_response'] = 1\n",
    "mass_no_country[['violent_response']]\n"
   ]
  },
  {
   "cell_type": "code",
   "execution_count": 181,
   "metadata": {},
   "outputs": [
    {
     "data": {
      "text/html": [
       "<div>\n",
       "<style scoped>\n",
       "    .dataframe tbody tr th:only-of-type {\n",
       "        vertical-align: middle;\n",
       "    }\n",
       "\n",
       "    .dataframe tbody tr th {\n",
       "        vertical-align: top;\n",
       "    }\n",
       "\n",
       "    .dataframe thead th {\n",
       "        text-align: right;\n",
       "    }\n",
       "</style>\n",
       "<table border=\"1\" class=\"dataframe\">\n",
       "  <thead>\n",
       "    <tr style=\"text-align: right;\">\n",
       "      <th></th>\n",
       "      <th>id</th>\n",
       "      <th>country</th>\n",
       "      <th>ccode</th>\n",
       "      <th>region</th>\n",
       "      <th>protestnumber</th>\n",
       "      <th>protesterviolence</th>\n",
       "      <th>location</th>\n",
       "      <th>protesteridentity</th>\n",
       "      <th>sources</th>\n",
       "      <th>notes</th>\n",
       "      <th>...</th>\n",
       "      <th>start_date</th>\n",
       "      <th>end_date</th>\n",
       "      <th>target</th>\n",
       "      <th>notes_clean</th>\n",
       "      <th>neg</th>\n",
       "      <th>neu</th>\n",
       "      <th>pos</th>\n",
       "      <th>compound</th>\n",
       "      <th>protest_duration</th>\n",
       "      <th>violent_response</th>\n",
       "    </tr>\n",
       "  </thead>\n",
       "  <tbody>\n",
       "    <tr>\n",
       "      <th>0</th>\n",
       "      <td>201990001</td>\n",
       "      <td>Canada</td>\n",
       "      <td>20</td>\n",
       "      <td>North America</td>\n",
       "      <td>1</td>\n",
       "      <td>0.0</td>\n",
       "      <td>national</td>\n",
       "      <td>unspecified</td>\n",
       "      <td>1. great canadian train journeys into history;...</td>\n",
       "      <td>canada s railway passenger system was finally ...</td>\n",
       "      <td>...</td>\n",
       "      <td>1990-01-15</td>\n",
       "      <td>1990-01-15</td>\n",
       "      <td>[0, 0, 0, 0, 1, 0, 0]</td>\n",
       "      <td>canada s railway passenger system was finally ...</td>\n",
       "      <td>0.087</td>\n",
       "      <td>0.913</td>\n",
       "      <td>0.000</td>\n",
       "      <td>-0.8176</td>\n",
       "      <td>1</td>\n",
       "      <td>0</td>\n",
       "    </tr>\n",
       "    <tr>\n",
       "      <th>1</th>\n",
       "      <td>201990002</td>\n",
       "      <td>Canada</td>\n",
       "      <td>20</td>\n",
       "      <td>North America</td>\n",
       "      <td>2</td>\n",
       "      <td>0.0</td>\n",
       "      <td>Montreal, Quebec</td>\n",
       "      <td>unspecified</td>\n",
       "      <td>1. autonomy s cry revived in quebec the new yo...</td>\n",
       "      <td>protestors were only identified as young peopl...</td>\n",
       "      <td>...</td>\n",
       "      <td>1990-06-25</td>\n",
       "      <td>1990-06-25</td>\n",
       "      <td>[0, 0, 0, 0, 1, 0, 0]</td>\n",
       "      <td>protestors were only identified as young peopl...</td>\n",
       "      <td>0.000</td>\n",
       "      <td>1.000</td>\n",
       "      <td>0.000</td>\n",
       "      <td>0.0000</td>\n",
       "      <td>1</td>\n",
       "      <td>0</td>\n",
       "    </tr>\n",
       "    <tr>\n",
       "      <th>2</th>\n",
       "      <td>201990003</td>\n",
       "      <td>Canada</td>\n",
       "      <td>20</td>\n",
       "      <td>North America</td>\n",
       "      <td>3</td>\n",
       "      <td>0.0</td>\n",
       "      <td>Montreal, Quebec</td>\n",
       "      <td>separatist parti quebecois</td>\n",
       "      <td>1. quebec protest after queen calls for unity ...</td>\n",
       "      <td>the queen, after calling on canadians to remai...</td>\n",
       "      <td>...</td>\n",
       "      <td>1990-07-01</td>\n",
       "      <td>1990-07-01</td>\n",
       "      <td>[0, 0, 0, 0, 1, 0, 0]</td>\n",
       "      <td>the queen, after calling on canadians to remai...</td>\n",
       "      <td>0.060</td>\n",
       "      <td>0.830</td>\n",
       "      <td>0.109</td>\n",
       "      <td>0.7003</td>\n",
       "      <td>1</td>\n",
       "      <td>0</td>\n",
       "    </tr>\n",
       "    <tr>\n",
       "      <th>3</th>\n",
       "      <td>201990004</td>\n",
       "      <td>Canada</td>\n",
       "      <td>20</td>\n",
       "      <td>North America</td>\n",
       "      <td>4</td>\n",
       "      <td>1.0</td>\n",
       "      <td>Montreal, Quebec</td>\n",
       "      <td>mohawk indians</td>\n",
       "      <td>1. indians gather as siege intensifies; armed ...</td>\n",
       "      <td>canada s federal government has agreed to acqu...</td>\n",
       "      <td>...</td>\n",
       "      <td>1990-07-12</td>\n",
       "      <td>1990-09-06</td>\n",
       "      <td>[0, 1, 0, 0, 0, 0, 0]</td>\n",
       "      <td>canada s federal government has agreed to acqu...</td>\n",
       "      <td>0.134</td>\n",
       "      <td>0.820</td>\n",
       "      <td>0.046</td>\n",
       "      <td>-0.9711</td>\n",
       "      <td>57</td>\n",
       "      <td>0</td>\n",
       "    </tr>\n",
       "    <tr>\n",
       "      <th>4</th>\n",
       "      <td>201990005</td>\n",
       "      <td>Canada</td>\n",
       "      <td>20</td>\n",
       "      <td>North America</td>\n",
       "      <td>5</td>\n",
       "      <td>1.0</td>\n",
       "      <td>Montreal, Quebec</td>\n",
       "      <td>local residents</td>\n",
       "      <td>1. dozens hurt in mohawk blockade protest the ...</td>\n",
       "      <td>protests were directed against the state due t...</td>\n",
       "      <td>...</td>\n",
       "      <td>1990-08-14</td>\n",
       "      <td>1990-08-15</td>\n",
       "      <td>[1, 1, 0, 1, 0, 0, 0]</td>\n",
       "      <td>protests were directed against the state due t...</td>\n",
       "      <td>0.226</td>\n",
       "      <td>0.677</td>\n",
       "      <td>0.098</td>\n",
       "      <td>-0.5267</td>\n",
       "      <td>2</td>\n",
       "      <td>0</td>\n",
       "    </tr>\n",
       "  </tbody>\n",
       "</table>\n",
       "<p>5 rows × 70 columns</p>\n",
       "</div>"
      ],
      "text/plain": [
       "          id country  ccode         region  protestnumber  protesterviolence  \\\n",
       "0  201990001  Canada     20  North America              1                0.0   \n",
       "1  201990002  Canada     20  North America              2                0.0   \n",
       "2  201990003  Canada     20  North America              3                0.0   \n",
       "3  201990004  Canada     20  North America              4                1.0   \n",
       "4  201990005  Canada     20  North America              5                1.0   \n",
       "\n",
       "           location           protesteridentity  \\\n",
       "0          national                 unspecified   \n",
       "1  Montreal, Quebec                 unspecified   \n",
       "2  Montreal, Quebec  separatist parti quebecois   \n",
       "3  Montreal, Quebec              mohawk indians   \n",
       "4  Montreal, Quebec             local residents   \n",
       "\n",
       "                                             sources  \\\n",
       "0  1. great canadian train journeys into history;...   \n",
       "1  1. autonomy s cry revived in quebec the new yo...   \n",
       "2  1. quebec protest after queen calls for unity ...   \n",
       "3  1. indians gather as siege intensifies; armed ...   \n",
       "4  1. dozens hurt in mohawk blockade protest the ...   \n",
       "\n",
       "                                               notes  ...  start_date  \\\n",
       "0  canada s railway passenger system was finally ...  ...  1990-01-15   \n",
       "1  protestors were only identified as young peopl...  ...  1990-06-25   \n",
       "2  the queen, after calling on canadians to remai...  ...  1990-07-01   \n",
       "3  canada s federal government has agreed to acqu...  ...  1990-07-12   \n",
       "4  protests were directed against the state due t...  ...  1990-08-14   \n",
       "\n",
       "     end_date                 target  \\\n",
       "0  1990-01-15  [0, 0, 0, 0, 1, 0, 0]   \n",
       "1  1990-06-25  [0, 0, 0, 0, 1, 0, 0]   \n",
       "2  1990-07-01  [0, 0, 0, 0, 1, 0, 0]   \n",
       "3  1990-09-06  [0, 1, 0, 0, 0, 0, 0]   \n",
       "4  1990-08-15  [1, 1, 0, 1, 0, 0, 0]   \n",
       "\n",
       "                                         notes_clean    neg    neu    pos  \\\n",
       "0  canada s railway passenger system was finally ...  0.087  0.913  0.000   \n",
       "1  protestors were only identified as young peopl...  0.000  1.000  0.000   \n",
       "2  the queen, after calling on canadians to remai...  0.060  0.830  0.109   \n",
       "3  canada s federal government has agreed to acqu...  0.134  0.820  0.046   \n",
       "4  protests were directed against the state due t...  0.226  0.677  0.098   \n",
       "\n",
       "   compound  protest_duration  violent_response  \n",
       "0   -0.8176                 1                 0  \n",
       "1    0.0000                 1                 0  \n",
       "2    0.7003                 1                 0  \n",
       "3   -0.9711                57                 0  \n",
       "4   -0.5267                 2                 0  \n",
       "\n",
       "[5 rows x 70 columns]"
      ]
     },
     "execution_count": 181,
     "metadata": {},
     "output_type": "execute_result"
    }
   ],
   "source": [
    "mass_no_country.head()"
   ]
  },
  {
   "cell_type": "markdown",
   "metadata": {},
   "source": [
    "## Macro Functions "
   ]
  },
  {
   "cell_type": "code",
   "execution_count": 176,
   "metadata": {},
   "outputs": [],
   "source": [
    "def state_response_predictor(df, features, target, model):\n",
    "    '''This function runs a model, makes predictions, calls evaluate_model() to \n",
    "    evaluate various train and test scores using those predictions, and uses response_prediction_columns() \n",
    "    to create prediction and probability columns'''\n",
    "    X = features \n",
    "    y = df[target]\n",
    "    \n",
    "    # train test split\n",
    "    X_train, X_test, y_train, y_test = train_test_split(X, y, test_size=0.2, random_state=48)\n",
    "    \n",
    "    # scale data\n",
    "    ss = StandardScaler()\n",
    "    X_train_sc = ss.fit_transform(X_train)\n",
    "    X_test_sc = ss.transform(X_test)\n",
    "    \n",
    "    # fit model \n",
    "    model.fit(X_train_sc, y_train)\n",
    "    \n",
    "    # predict on train and test set \n",
    "    y_preds_train = model.predict(X_train_sc)\n",
    "    y_preds_test = model.predict(X_test_sc)\n",
    "    \n",
    "    # evaluate various train and test set classification metrics\n",
    "    f1_score_train, precision_train, recall_train = evaluate_model(y_train, y_preds_train)\n",
    "    f1_score_test, precision_test, recall_test = evaluate_model(y_test, y_preds_test)\n",
    "    \n",
    "#     print(f'{target}- F1_score for {model} model, train set: {f1_score_train}')\n",
    "#     print(f'{target}- F1_score for {model} model, test set: {f1_score_test}')\n",
    "#     print(f'{target}- Precision for {model} model, train set: {precision_train}')\n",
    "#     print(f'{target}- Precision for {model} model, test set: {precision_test}')\n",
    "#     print(f'{target}- Recall for {model} model, train set: {recall_train}')\n",
    "#     print(f'{target}- Recall for {model} model, teset set: {recall_test}')\n",
    "\n",
    "    # call response_prediction_columns() to create prediction and probability columns\n",
    "    predicted_column, probability_column = response_prediction_columns(model, df, features)\n",
    "    \n",
    "#     build_confusion_matrix(y_test, y_preds_test)\n",
    "\n",
    "    return predicted_column, probability_column, f1_score_train, f1_score_test, precision_train, precision_test, recall_train, recall_test  "
   ]
  },
  {
   "cell_type": "code",
   "execution_count": 177,
   "metadata": {},
   "outputs": [],
   "source": [
    "def response_prediction_columns(model, df, features):\n",
    "    '''Creates predicted and probability columns'''\n",
    "    \n",
    "    # scale data on entire data set\n",
    "    ss = StandardScaler()\n",
    "    X = features\n",
    "    X_sc = ss.fit_transform(X)\n",
    "    \n",
    "    # make predictions\n",
    "    predicted_column = model.predict(X_sc)\n",
    "    probability_column = model.predict_proba(X_sc)[:,1]\n",
    "    \n",
    "    return predicted_column, probability_column"
   ]
  },
  {
   "cell_type": "code",
   "execution_count": 178,
   "metadata": {},
   "outputs": [],
   "source": [
    "def evaluate_model(y_true, y_preds):\n",
    "    '''Building a function that returns F1, precision, and recall scores '''\n",
    "    \n",
    "    f1 = f1_score(y_true, y_preds)\n",
    "    precision = precision_score(y_true, y_preds)\n",
    "    recall = recall_score(y_true, y_preds)\n",
    "\n",
    "    return f1, precision, recall"
   ]
  },
  {
   "cell_type": "code",
   "execution_count": 150,
   "metadata": {},
   "outputs": [
    {
     "data": {
      "text/plain": [
       "['id',\n",
       " 'country',\n",
       " 'ccode',\n",
       " 'region',\n",
       " 'protestnumber',\n",
       " 'protesterviolence',\n",
       " 'location',\n",
       " 'protesteridentity',\n",
       " 'sources',\n",
       " 'notes',\n",
       " 'protester_id_type',\n",
       " 'partipants_number',\n",
       " 'protest_size_category',\n",
       " 'pop_male',\n",
       " 'pop_female',\n",
       " 'pop_total',\n",
       " 'pop_density',\n",
       " 'prosperity_2020',\n",
       " 'country_Afghanistan',\n",
       " 'country_Albania',\n",
       " 'country_Algeria',\n",
       " 'country_Angola',\n",
       " 'country_Argentina',\n",
       " 'country_Armenia',\n",
       " 'country_Austria',\n",
       " 'country_Azerbaijan',\n",
       " 'country_Bahrain',\n",
       " 'country_Bangladesh',\n",
       " 'country_Belarus',\n",
       " 'country_Belgium',\n",
       " 'country_Benin',\n",
       " 'country_Bolivia',\n",
       " 'country_Bosnia',\n",
       " 'country_Botswana',\n",
       " 'country_Brazil',\n",
       " 'country_Bulgaria',\n",
       " 'country_Burkina Faso',\n",
       " 'country_Burundi',\n",
       " 'country_Cambodia',\n",
       " 'country_Cameroon',\n",
       " 'country_Canada',\n",
       " 'country_Cape Verde',\n",
       " 'country_Central African Republic',\n",
       " 'country_Chad',\n",
       " 'country_Chile',\n",
       " 'country_China',\n",
       " 'country_Colombia',\n",
       " 'country_Comoros',\n",
       " 'country_Congo Brazzaville',\n",
       " 'country_Congo Kinshasa',\n",
       " 'country_Costa Rica',\n",
       " 'country_Croatia',\n",
       " 'country_Cuba',\n",
       " 'country_Cyprus',\n",
       " 'country_Czech Republic',\n",
       " 'country_Czechoslovakia',\n",
       " 'country_Denmark',\n",
       " 'country_Djibouti',\n",
       " 'country_Dominican Republic',\n",
       " 'country_Ecuador',\n",
       " 'country_Egypt',\n",
       " 'country_El Salvador',\n",
       " 'country_Equatorial Guinea',\n",
       " 'country_Eritrea',\n",
       " 'country_Estonia',\n",
       " 'country_Ethiopia',\n",
       " 'country_Finland',\n",
       " 'country_France',\n",
       " 'country_Gabon',\n",
       " 'country_Gambia',\n",
       " 'country_Georgia',\n",
       " 'country_Germany',\n",
       " 'country_Germany East',\n",
       " 'country_Germany West',\n",
       " 'country_Ghana',\n",
       " 'country_Greece',\n",
       " 'country_Guatemala',\n",
       " 'country_Guinea',\n",
       " 'country_Guinea-Bissau',\n",
       " 'country_Guyana',\n",
       " 'country_Haiti',\n",
       " 'country_Honduras',\n",
       " 'country_Hungary',\n",
       " 'country_India',\n",
       " 'country_Indonesia',\n",
       " 'country_Iran',\n",
       " 'country_Iraq',\n",
       " 'country_Ireland',\n",
       " 'country_Italy',\n",
       " 'country_Ivory Coast',\n",
       " 'country_Jamaica',\n",
       " 'country_Japan',\n",
       " 'country_Jordan',\n",
       " 'country_Kazakhstan',\n",
       " 'country_Kenya',\n",
       " 'country_Kosovo',\n",
       " 'country_Kuwait',\n",
       " 'country_Kyrgyzstan',\n",
       " 'country_Laos',\n",
       " 'country_Latvia',\n",
       " 'country_Lebanon',\n",
       " 'country_Lesotho',\n",
       " 'country_Liberia',\n",
       " 'country_Libya',\n",
       " 'country_Lithuania',\n",
       " 'country_Luxembourg',\n",
       " 'country_Macedonia',\n",
       " 'country_Madagascar',\n",
       " 'country_Malawi',\n",
       " 'country_Malaysia',\n",
       " 'country_Mali',\n",
       " 'country_Mauritania',\n",
       " 'country_Mauritius',\n",
       " 'country_Mexico',\n",
       " 'country_Moldova',\n",
       " 'country_Mongolia',\n",
       " 'country_Montenegro',\n",
       " 'country_Morocco',\n",
       " 'country_Mozambique',\n",
       " 'country_Myanmar',\n",
       " 'country_Namibia',\n",
       " 'country_Nepal',\n",
       " 'country_Netherlands',\n",
       " 'country_Nicaragua',\n",
       " 'country_Niger',\n",
       " 'country_Nigeria',\n",
       " 'country_North Korea',\n",
       " 'country_Norway',\n",
       " 'country_Oman',\n",
       " 'country_Pakistan',\n",
       " 'country_Panama',\n",
       " 'country_Papua New Guinea',\n",
       " 'country_Paraguay',\n",
       " 'country_Peru',\n",
       " 'country_Philippines',\n",
       " 'country_Poland',\n",
       " 'country_Portugal',\n",
       " 'country_Qatar',\n",
       " 'country_Romania',\n",
       " 'country_Russia',\n",
       " 'country_Rwanda',\n",
       " 'country_Saudi Arabia',\n",
       " 'country_Senegal',\n",
       " 'country_Serbia',\n",
       " 'country_Serbia and Montenegro',\n",
       " 'country_Sierra Leone',\n",
       " 'country_Singapore',\n",
       " 'country_Slovak Republic',\n",
       " 'country_Slovenia',\n",
       " 'country_Somalia',\n",
       " 'country_South Africa',\n",
       " 'country_South Korea',\n",
       " 'country_South Sudan',\n",
       " 'country_Spain',\n",
       " 'country_Sri Lanka',\n",
       " 'country_Sudan',\n",
       " 'country_Suriname',\n",
       " 'country_Swaziland',\n",
       " 'country_Sweden',\n",
       " 'country_Switzerland',\n",
       " 'country_Syria',\n",
       " 'country_Taiwan',\n",
       " 'country_Tajikistan',\n",
       " 'country_Tanzania',\n",
       " 'country_Thailand',\n",
       " 'country_Timor Leste',\n",
       " 'country_Togo',\n",
       " 'country_Tunisia',\n",
       " 'country_Turkey',\n",
       " 'country_Turkmenistan',\n",
       " 'country_USSR',\n",
       " 'country_Uganda',\n",
       " 'country_Ukraine',\n",
       " 'country_United Arab Emirate',\n",
       " 'country_United Kingdom',\n",
       " 'country_Uruguay',\n",
       " 'country_Uzbekistan',\n",
       " 'country_Venezuela',\n",
       " 'country_Vietnam',\n",
       " 'country_Yemen',\n",
       " 'country_Yugoslavia',\n",
       " 'country_Zambia',\n",
       " 'country_Zimbabwe',\n",
       " 'region_Africa',\n",
       " 'region_Asia',\n",
       " 'region_Central America',\n",
       " 'region_Europe',\n",
       " 'region_MENA',\n",
       " 'region_North America',\n",
       " 'region_Oceania',\n",
       " 'region_South America',\n",
       " 'protest_size_category_1,000-4,999',\n",
       " 'protest_size_category_10,000-100,000',\n",
       " 'protest_size_category_100-999',\n",
       " 'protest_size_category_5,000-9,999',\n",
       " 'protest_size_category_50-99',\n",
       " 'protest_size_category_Less than 50',\n",
       " 'protest_size_category_Over 100,000',\n",
       " 'protester_id_type_civil_human_rights',\n",
       " 'protester_id_type_ethnic_group',\n",
       " 'protester_id_type_locals_residents',\n",
       " 'protester_id_type_pensioners_retirees',\n",
       " 'protester_id_type_political_group',\n",
       " 'protester_id_type_prisoners',\n",
       " 'protester_id_type_protestors_generic',\n",
       " 'protester_id_type_religious_group',\n",
       " 'protester_id_type_soldiers_veterans',\n",
       " 'protester_id_type_students_youth',\n",
       " 'protester_id_type_victims_families',\n",
       " 'protester_id_type_women',\n",
       " 'protester_id_type_workers_unions',\n",
       " 'arrests',\n",
       " 'accomodation',\n",
       " 'beatings',\n",
       " 'crowddispersal',\n",
       " 'ignore',\n",
       " 'killings',\n",
       " 'shootings',\n",
       " 'labor_wage_dispute',\n",
       " 'land_farm_issue',\n",
       " 'police_brutality',\n",
       " 'political_behavior_process',\n",
       " 'price increases_tax_policy',\n",
       " 'removal_of_politician',\n",
       " 'social_restrictions',\n",
       " 'start_date',\n",
       " 'end_date',\n",
       " 'target',\n",
       " 'notes_clean',\n",
       " 'neg',\n",
       " 'neu',\n",
       " 'pos',\n",
       " 'compound',\n",
       " 'protest_duration']"
      ]
     },
     "execution_count": 150,
     "metadata": {},
     "output_type": "execute_result"
    }
   ],
   "source": [
    "list(mass.columns)"
   ]
  },
  {
   "cell_type": "markdown",
   "metadata": {},
   "source": [
    "# GridSearch Section"
   ]
  },
  {
   "cell_type": "markdown",
   "metadata": {},
   "source": [
    "## Logistic Regression for when the government ignores protests "
   ]
  },
  {
   "cell_type": "code",
   "execution_count": 243,
   "metadata": {},
   "outputs": [
    {
     "name": "stdout",
     "output_type": "stream",
     "text": [
      "Fitting 10 folds for each of 8 candidates, totalling 80 fits\n",
      "[CV] C=0.01, max_iter=100, penalty=l1, solver=liblinear ..............\n",
      "[CV]  C=0.01, max_iter=100, penalty=l1, solver=liblinear, total=   0.0s\n",
      "[CV] C=0.01, max_iter=100, penalty=l1, solver=liblinear ..............\n",
      "[CV]  C=0.01, max_iter=100, penalty=l1, solver=liblinear, total=   0.0s\n",
      "[CV] C=0.01, max_iter=100, penalty=l1, solver=liblinear ..............\n",
      "[CV]  C=0.01, max_iter=100, penalty=l1, solver=liblinear, total=   0.0s\n",
      "[CV] C=0.01, max_iter=100, penalty=l1, solver=liblinear ..............\n",
      "[CV]  C=0.01, max_iter=100, penalty=l1, solver=liblinear, total=   0.0s\n",
      "[CV] C=0.01, max_iter=100, penalty=l1, solver=liblinear ..............\n",
      "[CV]  C=0.01, max_iter=100, penalty=l1, solver=liblinear, total=   0.0s\n",
      "[CV] C=0.01, max_iter=100, penalty=l1, solver=liblinear ..............\n"
     ]
    },
    {
     "name": "stderr",
     "output_type": "stream",
     "text": [
      "[Parallel(n_jobs=1)]: Using backend SequentialBackend with 1 concurrent workers.\n",
      "[Parallel(n_jobs=1)]: Done   1 out of   1 | elapsed:    0.0s remaining:    0.0s\n"
     ]
    },
    {
     "name": "stdout",
     "output_type": "stream",
     "text": [
      "[CV]  C=0.01, max_iter=100, penalty=l1, solver=liblinear, total=   0.0s\n",
      "[CV] C=0.01, max_iter=100, penalty=l1, solver=liblinear ..............\n",
      "[CV]  C=0.01, max_iter=100, penalty=l1, solver=liblinear, total=   0.0s\n",
      "[CV] C=0.01, max_iter=100, penalty=l1, solver=liblinear ..............\n",
      "[CV]  C=0.01, max_iter=100, penalty=l1, solver=liblinear, total=   0.0s\n",
      "[CV] C=0.01, max_iter=100, penalty=l1, solver=liblinear ..............\n",
      "[CV]  C=0.01, max_iter=100, penalty=l1, solver=liblinear, total=   0.0s\n",
      "[CV] C=0.01, max_iter=100, penalty=l1, solver=liblinear ..............\n",
      "[CV]  C=0.01, max_iter=100, penalty=l1, solver=liblinear, total=   0.0s\n",
      "[CV] C=0.01, max_iter=100, penalty=l1, solver=saga ...................\n",
      "[CV] .... C=0.01, max_iter=100, penalty=l1, solver=saga, total=   0.1s\n",
      "[CV] C=0.01, max_iter=100, penalty=l1, solver=saga ...................\n",
      "[CV] .... C=0.01, max_iter=100, penalty=l1, solver=saga, total=   0.1s\n",
      "[CV] C=0.01, max_iter=100, penalty=l1, solver=saga ...................\n",
      "[CV] .... C=0.01, max_iter=100, penalty=l1, solver=saga, total=   0.1s\n",
      "[CV] C=0.01, max_iter=100, penalty=l1, solver=saga ...................\n",
      "[CV] .... C=0.01, max_iter=100, penalty=l1, solver=saga, total=   0.1s\n",
      "[CV] C=0.01, max_iter=100, penalty=l1, solver=saga ...................\n",
      "[CV] .... C=0.01, max_iter=100, penalty=l1, solver=saga, total=   0.1s\n",
      "[CV] C=0.01, max_iter=100, penalty=l1, solver=saga ...................\n",
      "[CV] .... C=0.01, max_iter=100, penalty=l1, solver=saga, total=   0.1s\n",
      "[CV] C=0.01, max_iter=100, penalty=l1, solver=saga ...................\n",
      "[CV] .... C=0.01, max_iter=100, penalty=l1, solver=saga, total=   0.1s\n",
      "[CV] C=0.01, max_iter=100, penalty=l1, solver=saga ...................\n",
      "[CV] .... C=0.01, max_iter=100, penalty=l1, solver=saga, total=   0.1s\n",
      "[CV] C=0.01, max_iter=100, penalty=l1, solver=saga ...................\n",
      "[CV] .... C=0.01, max_iter=100, penalty=l1, solver=saga, total=   0.1s\n",
      "[CV] C=0.01, max_iter=100, penalty=l1, solver=saga ...................\n",
      "[CV] .... C=0.01, max_iter=100, penalty=l1, solver=saga, total=   0.1s\n",
      "[CV] C=0.01, max_iter=100, penalty=l2, solver=liblinear ..............\n",
      "[CV]  C=0.01, max_iter=100, penalty=l2, solver=liblinear, total=   0.0s\n",
      "[CV] C=0.01, max_iter=100, penalty=l2, solver=liblinear ..............\n",
      "[CV]  C=0.01, max_iter=100, penalty=l2, solver=liblinear, total=   0.0s\n",
      "[CV] C=0.01, max_iter=100, penalty=l2, solver=liblinear ..............\n",
      "[CV]  C=0.01, max_iter=100, penalty=l2, solver=liblinear, total=   0.0s\n",
      "[CV] C=0.01, max_iter=100, penalty=l2, solver=liblinear ..............\n",
      "[CV]  C=0.01, max_iter=100, penalty=l2, solver=liblinear, total=   0.0s\n",
      "[CV] C=0.01, max_iter=100, penalty=l2, solver=liblinear ..............\n",
      "[CV]  C=0.01, max_iter=100, penalty=l2, solver=liblinear, total=   0.0s\n",
      "[CV] C=0.01, max_iter=100, penalty=l2, solver=liblinear ..............\n",
      "[CV]  C=0.01, max_iter=100, penalty=l2, solver=liblinear, total=   0.0s\n",
      "[CV] C=0.01, max_iter=100, penalty=l2, solver=liblinear ..............\n",
      "[CV]  C=0.01, max_iter=100, penalty=l2, solver=liblinear, total=   0.0s\n",
      "[CV] C=0.01, max_iter=100, penalty=l2, solver=liblinear ..............\n",
      "[CV]  C=0.01, max_iter=100, penalty=l2, solver=liblinear, total=   0.0s\n",
      "[CV] C=0.01, max_iter=100, penalty=l2, solver=liblinear ..............\n",
      "[CV]  C=0.01, max_iter=100, penalty=l2, solver=liblinear, total=   0.0s\n",
      "[CV] C=0.01, max_iter=100, penalty=l2, solver=liblinear ..............\n",
      "[CV]  C=0.01, max_iter=100, penalty=l2, solver=liblinear, total=   0.0s\n",
      "[CV] C=0.01, max_iter=100, penalty=l2, solver=saga ...................\n",
      "[CV] .... C=0.01, max_iter=100, penalty=l2, solver=saga, total=   0.1s\n",
      "[CV] C=0.01, max_iter=100, penalty=l2, solver=saga ...................\n",
      "[CV] .... C=0.01, max_iter=100, penalty=l2, solver=saga, total=   0.1s\n",
      "[CV] C=0.01, max_iter=100, penalty=l2, solver=saga ...................\n",
      "[CV] .... C=0.01, max_iter=100, penalty=l2, solver=saga, total=   0.1s\n",
      "[CV] C=0.01, max_iter=100, penalty=l2, solver=saga ...................\n",
      "[CV] .... C=0.01, max_iter=100, penalty=l2, solver=saga, total=   0.1s\n",
      "[CV] C=0.01, max_iter=100, penalty=l2, solver=saga ...................\n",
      "[CV] .... C=0.01, max_iter=100, penalty=l2, solver=saga, total=   0.1s\n",
      "[CV] C=0.01, max_iter=100, penalty=l2, solver=saga ...................\n",
      "[CV] .... C=0.01, max_iter=100, penalty=l2, solver=saga, total=   0.1s\n",
      "[CV] C=0.01, max_iter=100, penalty=l2, solver=saga ...................\n",
      "[CV] .... C=0.01, max_iter=100, penalty=l2, solver=saga, total=   0.1s\n",
      "[CV] C=0.01, max_iter=100, penalty=l2, solver=saga ...................\n",
      "[CV] .... C=0.01, max_iter=100, penalty=l2, solver=saga, total=   0.1s\n",
      "[CV] C=0.01, max_iter=100, penalty=l2, solver=saga ...................\n",
      "[CV] .... C=0.01, max_iter=100, penalty=l2, solver=saga, total=   0.1s\n",
      "[CV] C=0.01, max_iter=100, penalty=l2, solver=saga ...................\n",
      "[CV] .... C=0.01, max_iter=100, penalty=l2, solver=saga, total=   0.1s\n",
      "[CV] C=0.01, max_iter=1000, penalty=l1, solver=liblinear .............\n",
      "[CV]  C=0.01, max_iter=1000, penalty=l1, solver=liblinear, total=   0.0s\n",
      "[CV] C=0.01, max_iter=1000, penalty=l1, solver=liblinear .............\n",
      "[CV]  C=0.01, max_iter=1000, penalty=l1, solver=liblinear, total=   0.0s\n",
      "[CV] C=0.01, max_iter=1000, penalty=l1, solver=liblinear .............\n",
      "[CV]  C=0.01, max_iter=1000, penalty=l1, solver=liblinear, total=   0.0s\n",
      "[CV] C=0.01, max_iter=1000, penalty=l1, solver=liblinear .............\n",
      "[CV]  C=0.01, max_iter=1000, penalty=l1, solver=liblinear, total=   0.0s\n",
      "[CV] C=0.01, max_iter=1000, penalty=l1, solver=liblinear .............\n",
      "[CV]  C=0.01, max_iter=1000, penalty=l1, solver=liblinear, total=   0.0s\n",
      "[CV] C=0.01, max_iter=1000, penalty=l1, solver=liblinear .............\n",
      "[CV]  C=0.01, max_iter=1000, penalty=l1, solver=liblinear, total=   0.0s\n",
      "[CV] C=0.01, max_iter=1000, penalty=l1, solver=liblinear .............\n",
      "[CV]  C=0.01, max_iter=1000, penalty=l1, solver=liblinear, total=   0.0s\n",
      "[CV] C=0.01, max_iter=1000, penalty=l1, solver=liblinear .............\n",
      "[CV]  C=0.01, max_iter=1000, penalty=l1, solver=liblinear, total=   0.0s\n",
      "[CV] C=0.01, max_iter=1000, penalty=l1, solver=liblinear .............\n",
      "[CV]  C=0.01, max_iter=1000, penalty=l1, solver=liblinear, total=   0.0s\n",
      "[CV] C=0.01, max_iter=1000, penalty=l1, solver=liblinear .............\n",
      "[CV]  C=0.01, max_iter=1000, penalty=l1, solver=liblinear, total=   0.0s\n",
      "[CV] C=0.01, max_iter=1000, penalty=l1, solver=saga ..................\n",
      "[CV] ... C=0.01, max_iter=1000, penalty=l1, solver=saga, total=   0.1s\n",
      "[CV] C=0.01, max_iter=1000, penalty=l1, solver=saga ..................\n",
      "[CV] ... C=0.01, max_iter=1000, penalty=l1, solver=saga, total=   0.1s\n",
      "[CV] C=0.01, max_iter=1000, penalty=l1, solver=saga ..................\n",
      "[CV] ... C=0.01, max_iter=1000, penalty=l1, solver=saga, total=   0.1s\n",
      "[CV] C=0.01, max_iter=1000, penalty=l1, solver=saga ..................\n",
      "[CV] ... C=0.01, max_iter=1000, penalty=l1, solver=saga, total=   0.1s\n",
      "[CV] C=0.01, max_iter=1000, penalty=l1, solver=saga ..................\n",
      "[CV] ... C=0.01, max_iter=1000, penalty=l1, solver=saga, total=   0.1s\n",
      "[CV] C=0.01, max_iter=1000, penalty=l1, solver=saga ..................\n",
      "[CV] ... C=0.01, max_iter=1000, penalty=l1, solver=saga, total=   0.1s\n",
      "[CV] C=0.01, max_iter=1000, penalty=l1, solver=saga ..................\n",
      "[CV] ... C=0.01, max_iter=1000, penalty=l1, solver=saga, total=   0.1s\n",
      "[CV] C=0.01, max_iter=1000, penalty=l1, solver=saga ..................\n",
      "[CV] ... C=0.01, max_iter=1000, penalty=l1, solver=saga, total=   0.1s\n",
      "[CV] C=0.01, max_iter=1000, penalty=l1, solver=saga ..................\n",
      "[CV] ... C=0.01, max_iter=1000, penalty=l1, solver=saga, total=   0.1s\n",
      "[CV] C=0.01, max_iter=1000, penalty=l1, solver=saga ..................\n",
      "[CV] ... C=0.01, max_iter=1000, penalty=l1, solver=saga, total=   0.1s\n",
      "[CV] C=0.01, max_iter=1000, penalty=l2, solver=liblinear .............\n",
      "[CV]  C=0.01, max_iter=1000, penalty=l2, solver=liblinear, total=   0.0s\n",
      "[CV] C=0.01, max_iter=1000, penalty=l2, solver=liblinear .............\n",
      "[CV]  C=0.01, max_iter=1000, penalty=l2, solver=liblinear, total=   0.0s\n",
      "[CV] C=0.01, max_iter=1000, penalty=l2, solver=liblinear .............\n",
      "[CV]  C=0.01, max_iter=1000, penalty=l2, solver=liblinear, total=   0.0s\n",
      "[CV] C=0.01, max_iter=1000, penalty=l2, solver=liblinear .............\n",
      "[CV]  C=0.01, max_iter=1000, penalty=l2, solver=liblinear, total=   0.0s\n",
      "[CV] C=0.01, max_iter=1000, penalty=l2, solver=liblinear .............\n",
      "[CV]  C=0.01, max_iter=1000, penalty=l2, solver=liblinear, total=   0.0s\n",
      "[CV] C=0.01, max_iter=1000, penalty=l2, solver=liblinear .............\n",
      "[CV]  C=0.01, max_iter=1000, penalty=l2, solver=liblinear, total=   0.0s\n",
      "[CV] C=0.01, max_iter=1000, penalty=l2, solver=liblinear .............\n"
     ]
    },
    {
     "name": "stdout",
     "output_type": "stream",
     "text": [
      "[CV]  C=0.01, max_iter=1000, penalty=l2, solver=liblinear, total=   0.0s\n",
      "[CV] C=0.01, max_iter=1000, penalty=l2, solver=liblinear .............\n",
      "[CV]  C=0.01, max_iter=1000, penalty=l2, solver=liblinear, total=   0.0s\n",
      "[CV] C=0.01, max_iter=1000, penalty=l2, solver=liblinear .............\n",
      "[CV]  C=0.01, max_iter=1000, penalty=l2, solver=liblinear, total=   0.0s\n",
      "[CV] C=0.01, max_iter=1000, penalty=l2, solver=liblinear .............\n",
      "[CV]  C=0.01, max_iter=1000, penalty=l2, solver=liblinear, total=   0.0s\n",
      "[CV] C=0.01, max_iter=1000, penalty=l2, solver=saga ..................\n",
      "[CV] ... C=0.01, max_iter=1000, penalty=l2, solver=saga, total=   0.1s\n",
      "[CV] C=0.01, max_iter=1000, penalty=l2, solver=saga ..................\n",
      "[CV] ... C=0.01, max_iter=1000, penalty=l2, solver=saga, total=   0.1s\n",
      "[CV] C=0.01, max_iter=1000, penalty=l2, solver=saga ..................\n",
      "[CV] ... C=0.01, max_iter=1000, penalty=l2, solver=saga, total=   0.1s\n",
      "[CV] C=0.01, max_iter=1000, penalty=l2, solver=saga ..................\n",
      "[CV] ... C=0.01, max_iter=1000, penalty=l2, solver=saga, total=   0.1s\n",
      "[CV] C=0.01, max_iter=1000, penalty=l2, solver=saga ..................\n",
      "[CV] ... C=0.01, max_iter=1000, penalty=l2, solver=saga, total=   0.1s\n",
      "[CV] C=0.01, max_iter=1000, penalty=l2, solver=saga ..................\n",
      "[CV] ... C=0.01, max_iter=1000, penalty=l2, solver=saga, total=   0.1s\n",
      "[CV] C=0.01, max_iter=1000, penalty=l2, solver=saga ..................\n",
      "[CV] ... C=0.01, max_iter=1000, penalty=l2, solver=saga, total=   0.1s\n",
      "[CV] C=0.01, max_iter=1000, penalty=l2, solver=saga ..................\n",
      "[CV] ... C=0.01, max_iter=1000, penalty=l2, solver=saga, total=   0.1s\n",
      "[CV] C=0.01, max_iter=1000, penalty=l2, solver=saga ..................\n",
      "[CV] ... C=0.01, max_iter=1000, penalty=l2, solver=saga, total=   0.1s\n",
      "[CV] C=0.01, max_iter=1000, penalty=l2, solver=saga ..................\n",
      "[CV] ... C=0.01, max_iter=1000, penalty=l2, solver=saga, total=   0.1s\n"
     ]
    },
    {
     "name": "stderr",
     "output_type": "stream",
     "text": [
      "[Parallel(n_jobs=1)]: Done  80 out of  80 | elapsed:    4.7s finished\n"
     ]
    }
   ],
   "source": [
    "results = {\n",
    "    'target' : 'ignore',\n",
    "    'best_cv_scores' : [],\n",
    "    'best_params' : [],\n",
    "    'AUC_train_score' : [],\n",
    "    'AUC_test_score' : [],\n",
    "    'train_f1_scores' : [],\n",
    "    'test_f1_scores' : [],\n",
    "    'train_precision_scores' : [], \n",
    "    'test_precision_scores' : [],\n",
    "    'train_recall_scores' : [],\n",
    "    'test_recall_scores' : []\n",
    "}\n",
    "\n",
    "\n",
    "features = mass_no_country.drop(columns=['id', 'country', 'ccode', 'region', 'location','protesteridentity', 'sources',\n",
    "       'notes', 'protester_id_type', 'protest_size_category', 'start_date', 'notes_clean', 'neg', 'neu', 'pos', 'compound',\n",
    "       'end_date', 'target', 'arrests', 'accomodation', 'beatings', 'protest_duration', 'pop_male', 'pop_female', 'pop_total',\n",
    "       'crowddispersal', 'ignore', 'killings', 'shootings', 'violent_response'])\n",
    "\n",
    "\n",
    "X = features\n",
    "y = mass_no_country['ignore']\n",
    "\n",
    "logreg = LogisticRegression()\n",
    "\n",
    "X_train, X_test, y_train, y_test = train_test_split(X, y, test_size=0.2, random_state=48)\n",
    "\n",
    "ss = StandardScaler()\n",
    "X_train_sc = ss.fit_transform(X_train)\n",
    "X_test_sc = ss.transform(X_test)\n",
    "\n",
    "params = {\n",
    "'penalty' : ['l1','l2'], \n",
    "'C' : [.01],\n",
    "'solver' : ['liblinear', 'saga'],\n",
    "'max_iter' : [100, 1000],\n",
    "#'class_weight' : [{1:0, 8:1}, {1:0, 1:8}]\n",
    "}\n",
    "\n",
    "grid = GridSearchCV(logreg, param_grid=params, cv=10, verbose=2)\n",
    "\n",
    "# fit grids\n",
    "grid.fit(X_train_sc, y_train)\n",
    "\n",
    "# append important grid results\n",
    "results['best_params'].append(grid.best_params_)\n",
    "results['best_cv_scores'].append(grid.best_score_)\n",
    "\n",
    "# make predictions \n",
    "train_preds = grid.predict(X_train_sc)\n",
    "test_preds = grid.predict(X_test_sc)\n",
    "\n",
    "# various classification metrics\n",
    "# AUC scores \n",
    "results['AUC_train_score'].append(roc_auc_score(y_train, train_preds))\n",
    "results['AUC_test_score'].append(roc_auc_score(y_test, test_preds))\n",
    "\n",
    "# f1 scores\n",
    "results['train_f1_scores'].append(f1_score(y_train, train_preds))\n",
    "results['test_f1_scores'].append(f1_score(y_test, test_preds))\n",
    "\n",
    "# precision scores \n",
    "results['train_precision_scores'].append(precision_score(y_train, train_preds))\n",
    "results['test_precision_scores'].append(precision_score(y_test, test_preds))\n",
    "\n",
    "# recall scores\n",
    "results['train_recall_scores'].append(recall_score(y_train, train_preds))\n",
    "results['test_recall_scores'].append(recall_score(y_test, test_preds))\n",
    "\n"
   ]
  },
  {
   "cell_type": "code",
   "execution_count": 239,
   "metadata": {
    "scrolled": true
   },
   "outputs": [
    {
     "name": "stdout",
     "output_type": "stream",
     "text": [
      "Fitting 10 folds for each of 8 candidates, totalling 80 fits\n",
      "[CV] C=0.01, max_iter=100, penalty=l1, solver=liblinear ..............\n",
      "[CV]  C=0.01, max_iter=100, penalty=l1, solver=liblinear, total=   0.0s\n",
      "[CV] C=0.01, max_iter=100, penalty=l1, solver=liblinear ..............\n",
      "[CV]  C=0.01, max_iter=100, penalty=l1, solver=liblinear, total=   0.0s\n",
      "[CV] C=0.01, max_iter=100, penalty=l1, solver=liblinear ..............\n",
      "[CV]  C=0.01, max_iter=100, penalty=l1, solver=liblinear, total=   0.0s\n",
      "[CV] C=0.01, max_iter=100, penalty=l1, solver=liblinear ..............\n",
      "[CV]  C=0.01, max_iter=100, penalty=l1, solver=liblinear, total=   0.0s\n",
      "[CV] C=0.01, max_iter=100, penalty=l1, solver=liblinear ..............\n",
      "[CV]  C=0.01, max_iter=100, penalty=l1, solver=liblinear, total=   0.0s\n",
      "[CV] C=0.01, max_iter=100, penalty=l1, solver=liblinear ..............\n",
      "[CV]  C=0.01, max_iter=100, penalty=l1, solver=liblinear, total=   0.0s"
     ]
    },
    {
     "name": "stderr",
     "output_type": "stream",
     "text": [
      "[Parallel(n_jobs=1)]: Using backend SequentialBackend with 1 concurrent workers.\n",
      "[Parallel(n_jobs=1)]: Done   1 out of   1 | elapsed:    0.0s remaining:    0.0s\n"
     ]
    },
    {
     "name": "stdout",
     "output_type": "stream",
     "text": [
      "\n",
      "[CV] C=0.01, max_iter=100, penalty=l1, solver=liblinear ..............\n",
      "[CV]  C=0.01, max_iter=100, penalty=l1, solver=liblinear, total=   0.0s\n",
      "[CV] C=0.01, max_iter=100, penalty=l1, solver=liblinear ..............\n",
      "[CV]  C=0.01, max_iter=100, penalty=l1, solver=liblinear, total=   0.0s\n",
      "[CV] C=0.01, max_iter=100, penalty=l1, solver=liblinear ..............\n",
      "[CV]  C=0.01, max_iter=100, penalty=l1, solver=liblinear, total=   0.0s\n",
      "[CV] C=0.01, max_iter=100, penalty=l1, solver=liblinear ..............\n",
      "[CV]  C=0.01, max_iter=100, penalty=l1, solver=liblinear, total=   0.0s\n",
      "[CV] C=0.01, max_iter=100, penalty=l1, solver=saga ...................\n",
      "[CV] .... C=0.01, max_iter=100, penalty=l1, solver=saga, total=   0.1s\n",
      "[CV] C=0.01, max_iter=100, penalty=l1, solver=saga ...................\n",
      "[CV] .... C=0.01, max_iter=100, penalty=l1, solver=saga, total=   0.1s\n",
      "[CV] C=0.01, max_iter=100, penalty=l1, solver=saga ...................\n",
      "[CV] .... C=0.01, max_iter=100, penalty=l1, solver=saga, total=   0.1s\n",
      "[CV] C=0.01, max_iter=100, penalty=l1, solver=saga ...................\n",
      "[CV] .... C=0.01, max_iter=100, penalty=l1, solver=saga, total=   0.1s\n",
      "[CV] C=0.01, max_iter=100, penalty=l1, solver=saga ...................\n",
      "[CV] .... C=0.01, max_iter=100, penalty=l1, solver=saga, total=   0.1s\n",
      "[CV] C=0.01, max_iter=100, penalty=l1, solver=saga ...................\n",
      "[CV] .... C=0.01, max_iter=100, penalty=l1, solver=saga, total=   0.1s\n",
      "[CV] C=0.01, max_iter=100, penalty=l1, solver=saga ...................\n",
      "[CV] .... C=0.01, max_iter=100, penalty=l1, solver=saga, total=   0.1s\n",
      "[CV] C=0.01, max_iter=100, penalty=l1, solver=saga ...................\n",
      "[CV] .... C=0.01, max_iter=100, penalty=l1, solver=saga, total=   0.1s\n",
      "[CV] C=0.01, max_iter=100, penalty=l1, solver=saga ...................\n",
      "[CV] .... C=0.01, max_iter=100, penalty=l1, solver=saga, total=   0.1s\n",
      "[CV] C=0.01, max_iter=100, penalty=l1, solver=saga ...................\n",
      "[CV] .... C=0.01, max_iter=100, penalty=l1, solver=saga, total=   0.1s\n",
      "[CV] C=0.01, max_iter=100, penalty=l2, solver=liblinear ..............\n",
      "[CV]  C=0.01, max_iter=100, penalty=l2, solver=liblinear, total=   0.0s\n",
      "[CV] C=0.01, max_iter=100, penalty=l2, solver=liblinear ..............\n",
      "[CV]  C=0.01, max_iter=100, penalty=l2, solver=liblinear, total=   0.0s\n",
      "[CV] C=0.01, max_iter=100, penalty=l2, solver=liblinear ..............\n",
      "[CV]  C=0.01, max_iter=100, penalty=l2, solver=liblinear, total=   0.0s\n",
      "[CV] C=0.01, max_iter=100, penalty=l2, solver=liblinear ..............\n",
      "[CV]  C=0.01, max_iter=100, penalty=l2, solver=liblinear, total=   0.0s\n",
      "[CV] C=0.01, max_iter=100, penalty=l2, solver=liblinear ..............\n",
      "[CV]  C=0.01, max_iter=100, penalty=l2, solver=liblinear, total=   0.0s\n",
      "[CV] C=0.01, max_iter=100, penalty=l2, solver=liblinear ..............\n",
      "[CV]  C=0.01, max_iter=100, penalty=l2, solver=liblinear, total=   0.0s\n",
      "[CV] C=0.01, max_iter=100, penalty=l2, solver=liblinear ..............\n",
      "[CV]  C=0.01, max_iter=100, penalty=l2, solver=liblinear, total=   0.0s\n",
      "[CV] C=0.01, max_iter=100, penalty=l2, solver=liblinear ..............\n",
      "[CV]  C=0.01, max_iter=100, penalty=l2, solver=liblinear, total=   0.0s\n",
      "[CV] C=0.01, max_iter=100, penalty=l2, solver=liblinear ..............\n",
      "[CV]  C=0.01, max_iter=100, penalty=l2, solver=liblinear, total=   0.0s\n",
      "[CV] C=0.01, max_iter=100, penalty=l2, solver=liblinear ..............\n",
      "[CV]  C=0.01, max_iter=100, penalty=l2, solver=liblinear, total=   0.0s\n",
      "[CV] C=0.01, max_iter=100, penalty=l2, solver=saga ...................\n",
      "[CV] .... C=0.01, max_iter=100, penalty=l2, solver=saga, total=   0.1s\n",
      "[CV] C=0.01, max_iter=100, penalty=l2, solver=saga ...................\n",
      "[CV] .... C=0.01, max_iter=100, penalty=l2, solver=saga, total=   0.1s\n",
      "[CV] C=0.01, max_iter=100, penalty=l2, solver=saga ...................\n",
      "[CV] .... C=0.01, max_iter=100, penalty=l2, solver=saga, total=   0.1s\n",
      "[CV] C=0.01, max_iter=100, penalty=l2, solver=saga ...................\n",
      "[CV] .... C=0.01, max_iter=100, penalty=l2, solver=saga, total=   0.1s\n",
      "[CV] C=0.01, max_iter=100, penalty=l2, solver=saga ...................\n",
      "[CV] .... C=0.01, max_iter=100, penalty=l2, solver=saga, total=   0.1s\n",
      "[CV] C=0.01, max_iter=100, penalty=l2, solver=saga ...................\n",
      "[CV] .... C=0.01, max_iter=100, penalty=l2, solver=saga, total=   0.1s\n",
      "[CV] C=0.01, max_iter=100, penalty=l2, solver=saga ...................\n",
      "[CV] .... C=0.01, max_iter=100, penalty=l2, solver=saga, total=   0.1s\n",
      "[CV] C=0.01, max_iter=100, penalty=l2, solver=saga ...................\n",
      "[CV] .... C=0.01, max_iter=100, penalty=l2, solver=saga, total=   0.1s\n",
      "[CV] C=0.01, max_iter=100, penalty=l2, solver=saga ...................\n",
      "[CV] .... C=0.01, max_iter=100, penalty=l2, solver=saga, total=   0.1s\n",
      "[CV] C=0.01, max_iter=100, penalty=l2, solver=saga ...................\n",
      "[CV] .... C=0.01, max_iter=100, penalty=l2, solver=saga, total=   0.1s\n",
      "[CV] C=0.01, max_iter=1000, penalty=l1, solver=liblinear .............\n",
      "[CV]  C=0.01, max_iter=1000, penalty=l1, solver=liblinear, total=   0.0s\n",
      "[CV] C=0.01, max_iter=1000, penalty=l1, solver=liblinear .............\n",
      "[CV]  C=0.01, max_iter=1000, penalty=l1, solver=liblinear, total=   0.0s\n",
      "[CV] C=0.01, max_iter=1000, penalty=l1, solver=liblinear .............\n",
      "[CV]  C=0.01, max_iter=1000, penalty=l1, solver=liblinear, total=   0.0s\n",
      "[CV] C=0.01, max_iter=1000, penalty=l1, solver=liblinear .............\n",
      "[CV]  C=0.01, max_iter=1000, penalty=l1, solver=liblinear, total=   0.0s\n",
      "[CV] C=0.01, max_iter=1000, penalty=l1, solver=liblinear .............\n",
      "[CV]  C=0.01, max_iter=1000, penalty=l1, solver=liblinear, total=   0.0s\n",
      "[CV] C=0.01, max_iter=1000, penalty=l1, solver=liblinear .............\n",
      "[CV]  C=0.01, max_iter=1000, penalty=l1, solver=liblinear, total=   0.0s\n",
      "[CV] C=0.01, max_iter=1000, penalty=l1, solver=liblinear .............\n",
      "[CV]  C=0.01, max_iter=1000, penalty=l1, solver=liblinear, total=   0.0s\n",
      "[CV] C=0.01, max_iter=1000, penalty=l1, solver=liblinear .............\n",
      "[CV]  C=0.01, max_iter=1000, penalty=l1, solver=liblinear, total=   0.0s\n",
      "[CV] C=0.01, max_iter=1000, penalty=l1, solver=liblinear .............\n",
      "[CV]  C=0.01, max_iter=1000, penalty=l1, solver=liblinear, total=   0.0s\n",
      "[CV] C=0.01, max_iter=1000, penalty=l1, solver=liblinear .............\n",
      "[CV]  C=0.01, max_iter=1000, penalty=l1, solver=liblinear, total=   0.0s\n",
      "[CV] C=0.01, max_iter=1000, penalty=l1, solver=saga ..................\n",
      "[CV] ... C=0.01, max_iter=1000, penalty=l1, solver=saga, total=   0.1s\n",
      "[CV] C=0.01, max_iter=1000, penalty=l1, solver=saga ..................\n",
      "[CV] ... C=0.01, max_iter=1000, penalty=l1, solver=saga, total=   0.1s\n",
      "[CV] C=0.01, max_iter=1000, penalty=l1, solver=saga ..................\n",
      "[CV] ... C=0.01, max_iter=1000, penalty=l1, solver=saga, total=   0.1s\n",
      "[CV] C=0.01, max_iter=1000, penalty=l1, solver=saga ..................\n",
      "[CV] ... C=0.01, max_iter=1000, penalty=l1, solver=saga, total=   0.1s\n",
      "[CV] C=0.01, max_iter=1000, penalty=l1, solver=saga ..................\n",
      "[CV] ... C=0.01, max_iter=1000, penalty=l1, solver=saga, total=   0.1s\n",
      "[CV] C=0.01, max_iter=1000, penalty=l1, solver=saga ..................\n",
      "[CV] ... C=0.01, max_iter=1000, penalty=l1, solver=saga, total=   0.1s\n",
      "[CV] C=0.01, max_iter=1000, penalty=l1, solver=saga ..................\n",
      "[CV] ... C=0.01, max_iter=1000, penalty=l1, solver=saga, total=   0.1s\n",
      "[CV] C=0.01, max_iter=1000, penalty=l1, solver=saga ..................\n",
      "[CV] ... C=0.01, max_iter=1000, penalty=l1, solver=saga, total=   0.1s\n",
      "[CV] C=0.01, max_iter=1000, penalty=l1, solver=saga ..................\n",
      "[CV] ... C=0.01, max_iter=1000, penalty=l1, solver=saga, total=   0.1s\n",
      "[CV] C=0.01, max_iter=1000, penalty=l1, solver=saga ..................\n",
      "[CV] ... C=0.01, max_iter=1000, penalty=l1, solver=saga, total=   0.1s\n",
      "[CV] C=0.01, max_iter=1000, penalty=l2, solver=liblinear .............\n",
      "[CV]  C=0.01, max_iter=1000, penalty=l2, solver=liblinear, total=   0.0s\n",
      "[CV] C=0.01, max_iter=1000, penalty=l2, solver=liblinear .............\n",
      "[CV]  C=0.01, max_iter=1000, penalty=l2, solver=liblinear, total=   0.0s\n",
      "[CV] C=0.01, max_iter=1000, penalty=l2, solver=liblinear .............\n",
      "[CV]  C=0.01, max_iter=1000, penalty=l2, solver=liblinear, total=   0.0s\n",
      "[CV] C=0.01, max_iter=1000, penalty=l2, solver=liblinear .............\n",
      "[CV]  C=0.01, max_iter=1000, penalty=l2, solver=liblinear, total=   0.0s\n",
      "[CV] C=0.01, max_iter=1000, penalty=l2, solver=liblinear .............\n",
      "[CV]  C=0.01, max_iter=1000, penalty=l2, solver=liblinear, total=   0.0s\n",
      "[CV] C=0.01, max_iter=1000, penalty=l2, solver=liblinear .............\n",
      "[CV]  C=0.01, max_iter=1000, penalty=l2, solver=liblinear, total=   0.0s\n",
      "[CV] C=0.01, max_iter=1000, penalty=l2, solver=liblinear .............\n",
      "[CV]  C=0.01, max_iter=1000, penalty=l2, solver=liblinear, total=   0.0s\n",
      "[CV] C=0.01, max_iter=1000, penalty=l2, solver=liblinear .............\n"
     ]
    },
    {
     "name": "stdout",
     "output_type": "stream",
     "text": [
      "[CV]  C=0.01, max_iter=1000, penalty=l2, solver=liblinear, total=   0.0s\n",
      "[CV] C=0.01, max_iter=1000, penalty=l2, solver=liblinear .............\n",
      "[CV]  C=0.01, max_iter=1000, penalty=l2, solver=liblinear, total=   0.0s\n",
      "[CV] C=0.01, max_iter=1000, penalty=l2, solver=liblinear .............\n",
      "[CV]  C=0.01, max_iter=1000, penalty=l2, solver=liblinear, total=   0.0s\n",
      "[CV] C=0.01, max_iter=1000, penalty=l2, solver=saga ..................\n",
      "[CV] ... C=0.01, max_iter=1000, penalty=l2, solver=saga, total=   0.1s\n",
      "[CV] C=0.01, max_iter=1000, penalty=l2, solver=saga ..................\n",
      "[CV] ... C=0.01, max_iter=1000, penalty=l2, solver=saga, total=   0.1s\n",
      "[CV] C=0.01, max_iter=1000, penalty=l2, solver=saga ..................\n",
      "[CV] ... C=0.01, max_iter=1000, penalty=l2, solver=saga, total=   0.1s\n",
      "[CV] C=0.01, max_iter=1000, penalty=l2, solver=saga ..................\n",
      "[CV] ... C=0.01, max_iter=1000, penalty=l2, solver=saga, total=   0.1s\n",
      "[CV] C=0.01, max_iter=1000, penalty=l2, solver=saga ..................\n",
      "[CV] ... C=0.01, max_iter=1000, penalty=l2, solver=saga, total=   0.1s\n",
      "[CV] C=0.01, max_iter=1000, penalty=l2, solver=saga ..................\n",
      "[CV] ... C=0.01, max_iter=1000, penalty=l2, solver=saga, total=   0.1s\n",
      "[CV] C=0.01, max_iter=1000, penalty=l2, solver=saga ..................\n",
      "[CV] ... C=0.01, max_iter=1000, penalty=l2, solver=saga, total=   0.1s\n",
      "[CV] C=0.01, max_iter=1000, penalty=l2, solver=saga ..................\n",
      "[CV] ... C=0.01, max_iter=1000, penalty=l2, solver=saga, total=   0.1s\n",
      "[CV] C=0.01, max_iter=1000, penalty=l2, solver=saga ..................\n",
      "[CV] ... C=0.01, max_iter=1000, penalty=l2, solver=saga, total=   0.1s\n",
      "[CV] C=0.01, max_iter=1000, penalty=l2, solver=saga ..................\n",
      "[CV] ... C=0.01, max_iter=1000, penalty=l2, solver=saga, total=   0.1s\n"
     ]
    },
    {
     "name": "stderr",
     "output_type": "stream",
     "text": [
      "[Parallel(n_jobs=1)]: Done  80 out of  80 | elapsed:    4.7s finished\n"
     ]
    }
   ],
   "source": [
    "\n",
    "results = {\n",
    "    'target' : [],\n",
    "    'best_cv_scores' : [],\n",
    "    'best_params' : [],\n",
    "    'AUC_train_score' : [],\n",
    "    'AUC_test_score' : [],\n",
    "    'train_f1_scores' : [],\n",
    "    'test_f1_scores' : [],\n",
    "    'train_precision_scores' : [], \n",
    "    'test_precision_scores' : [],\n",
    "    'train_recall_scores' : [],\n",
    "    'test_recall_scores' : []\n",
    "}\n",
    "\n",
    "targets = ['ignore']#'accomodation','crowddispersal','ignore','violent_response']  \n",
    "    \n",
    "features = mass_no_country.drop(columns=['id', 'country', 'ccode', 'region', 'location','protesteridentity', 'sources',\n",
    "       'notes', 'protester_id_type', 'protest_size_category', 'start_date', 'notes_clean', 'neg', 'neu', 'pos', 'compound',\n",
    "       'end_date', 'target', 'arrests', 'accomodation', 'beatings', 'protest_duration', 'pop_male', 'pop_female', 'pop_total',\n",
    "       'crowddispersal', 'ignore', 'killings', 'shootings', 'violent_response'])\n",
    "\n",
    "for target in targets: \n",
    "\n",
    "    X = features\n",
    "    y = mass_no_country[target]\n",
    "\n",
    "    logreg = LogisticRegression(multi_class='ovr')\n",
    "\n",
    "    X_train, X_test, y_train, y_test = train_test_split(X, y, test_size=0.2, random_state=48)\n",
    "\n",
    "    ss = StandardScaler()\n",
    "    X_train_sc = ss.fit_transform(X_train)\n",
    "    X_test_sc = ss.transform(X_test)\n",
    "    \n",
    "    params = {\n",
    "    'penalty' : ['l1','l2'], \n",
    "    'C' : [.01],\n",
    "    'solver' : ['liblinear', 'saga'],\n",
    "    'max_iter' : [100, 1000],\n",
    "    #'class_weight' : [{1:0, 8:1}, {1:0, 1:8}]\n",
    "    }\n",
    "\n",
    "    grid = GridSearchCV(logreg, param_grid=params, cv=10, verbose=2)\n",
    "\n",
    "    # fit grids\n",
    "    grid.fit(X_train_sc, y_train)\n",
    "    \n",
    "    results['target'].append(targets)\n",
    "\n",
    "    # append important grid results\n",
    "    results['best_params'].append(grid.best_params_)\n",
    "    results['best_cv_scores'].append(grid.best_score_)\n",
    "\n",
    "    # make predictions \n",
    "    train_preds = grid.predict(X_train_sc)\n",
    "    test_preds = grid.predict(X_test_sc)\n",
    "\n",
    "    # various classification metrics\n",
    "    # AUC scores \n",
    "    results['AUC_train_score'].append(roc_auc_score(y_train, train_preds))\n",
    "    results['AUC_test_score'].append(roc_auc_score(y_test, test_preds))\n",
    "\n",
    "    # f1 scores\n",
    "    results['train_f1_scores'].append(f1_score(y_train, train_preds))\n",
    "    results['test_f1_scores'].append(f1_score(y_test, test_preds))\n",
    "\n",
    "    # precision scores \n",
    "    results['train_precision_scores'].append(precision_score(y_train, train_preds))\n",
    "    results['test_precision_scores'].append(precision_score(y_test, test_preds))\n",
    "\n",
    "    # recall scores\n",
    "    results['train_recall_scores'].append(recall_score(y_train, train_preds))\n",
    "    results['test_recall_scores'].append(recall_score(y_test, test_preds))"
   ]
  },
  {
   "cell_type": "code",
   "execution_count": 244,
   "metadata": {
    "scrolled": true
   },
   "outputs": [
    {
     "data": {
      "text/html": [
       "<div>\n",
       "<style scoped>\n",
       "    .dataframe tbody tr th:only-of-type {\n",
       "        vertical-align: middle;\n",
       "    }\n",
       "\n",
       "    .dataframe tbody tr th {\n",
       "        vertical-align: top;\n",
       "    }\n",
       "\n",
       "    .dataframe thead th {\n",
       "        text-align: right;\n",
       "    }\n",
       "</style>\n",
       "<table border=\"1\" class=\"dataframe\">\n",
       "  <thead>\n",
       "    <tr style=\"text-align: right;\">\n",
       "      <th></th>\n",
       "      <th>target</th>\n",
       "      <th>best_cv_scores</th>\n",
       "      <th>best_params</th>\n",
       "      <th>AUC_train_score</th>\n",
       "      <th>AUC_test_score</th>\n",
       "      <th>train_f1_scores</th>\n",
       "      <th>test_f1_scores</th>\n",
       "      <th>train_precision_scores</th>\n",
       "      <th>test_precision_scores</th>\n",
       "      <th>train_recall_scores</th>\n",
       "      <th>test_recall_scores</th>\n",
       "    </tr>\n",
       "  </thead>\n",
       "  <tbody>\n",
       "    <tr>\n",
       "      <th>0</th>\n",
       "      <td>ignore</td>\n",
       "      <td>0.734745</td>\n",
       "      <td>{'C': 0.01, 'max_iter': 100, 'penalty': 'l2', ...</td>\n",
       "      <td>0.720819</td>\n",
       "      <td>0.719727</td>\n",
       "      <td>0.786029</td>\n",
       "      <td>0.790331</td>\n",
       "      <td>0.70082</td>\n",
       "      <td>0.700839</td>\n",
       "      <td>0.894825</td>\n",
       "      <td>0.906024</td>\n",
       "    </tr>\n",
       "  </tbody>\n",
       "</table>\n",
       "</div>"
      ],
      "text/plain": [
       "   target  best_cv_scores                                        best_params  \\\n",
       "0  ignore        0.734745  {'C': 0.01, 'max_iter': 100, 'penalty': 'l2', ...   \n",
       "\n",
       "   AUC_train_score  AUC_test_score  train_f1_scores  test_f1_scores  \\\n",
       "0         0.720819        0.719727         0.786029        0.790331   \n",
       "\n",
       "   train_precision_scores  test_precision_scores  train_recall_scores  \\\n",
       "0                 0.70082               0.700839             0.894825   \n",
       "\n",
       "   test_recall_scores  \n",
       "0            0.906024  "
      ]
     },
     "execution_count": 244,
     "metadata": {},
     "output_type": "execute_result"
    }
   ],
   "source": [
    "results_df = pd.DataFrame(results)\n",
    "results_df"
   ]
  },
  {
   "cell_type": "markdown",
   "metadata": {},
   "source": [
    "## Logistic Regression for when the government does respond "
   ]
  },
  {
   "cell_type": "markdown",
   "metadata": {},
   "source": [
    "Now that we have a model that predicts when the government does respond, we want to predict when the government does not ignore protests. "
   ]
  },
  {
   "cell_type": "code",
   "execution_count": 245,
   "metadata": {
    "scrolled": true
   },
   "outputs": [
    {
     "data": {
      "text/html": [
       "<div>\n",
       "<style scoped>\n",
       "    .dataframe tbody tr th:only-of-type {\n",
       "        vertical-align: middle;\n",
       "    }\n",
       "\n",
       "    .dataframe tbody tr th {\n",
       "        vertical-align: top;\n",
       "    }\n",
       "\n",
       "    .dataframe thead th {\n",
       "        text-align: right;\n",
       "    }\n",
       "</style>\n",
       "<table border=\"1\" class=\"dataframe\">\n",
       "  <thead>\n",
       "    <tr style=\"text-align: right;\">\n",
       "      <th></th>\n",
       "      <th>id</th>\n",
       "      <th>country</th>\n",
       "      <th>ccode</th>\n",
       "      <th>region</th>\n",
       "      <th>protestnumber</th>\n",
       "      <th>protesterviolence</th>\n",
       "      <th>location</th>\n",
       "      <th>protesteridentity</th>\n",
       "      <th>sources</th>\n",
       "      <th>notes</th>\n",
       "      <th>...</th>\n",
       "      <th>start_date</th>\n",
       "      <th>end_date</th>\n",
       "      <th>target</th>\n",
       "      <th>notes_clean</th>\n",
       "      <th>neg</th>\n",
       "      <th>neu</th>\n",
       "      <th>pos</th>\n",
       "      <th>compound</th>\n",
       "      <th>protest_duration</th>\n",
       "      <th>violent_response</th>\n",
       "    </tr>\n",
       "  </thead>\n",
       "  <tbody>\n",
       "    <tr>\n",
       "      <th>0</th>\n",
       "      <td>201990001</td>\n",
       "      <td>Canada</td>\n",
       "      <td>20</td>\n",
       "      <td>North America</td>\n",
       "      <td>1</td>\n",
       "      <td>0.0</td>\n",
       "      <td>national</td>\n",
       "      <td>unspecified</td>\n",
       "      <td>1. great canadian train journeys into history;...</td>\n",
       "      <td>canada s railway passenger system was finally ...</td>\n",
       "      <td>...</td>\n",
       "      <td>1990-01-15</td>\n",
       "      <td>1990-01-15</td>\n",
       "      <td>[0, 0, 0, 0, 1, 0, 0]</td>\n",
       "      <td>canada s railway passenger system was finally ...</td>\n",
       "      <td>0.087</td>\n",
       "      <td>0.913</td>\n",
       "      <td>0.000</td>\n",
       "      <td>-0.8176</td>\n",
       "      <td>1</td>\n",
       "      <td>0</td>\n",
       "    </tr>\n",
       "    <tr>\n",
       "      <th>1</th>\n",
       "      <td>201990002</td>\n",
       "      <td>Canada</td>\n",
       "      <td>20</td>\n",
       "      <td>North America</td>\n",
       "      <td>2</td>\n",
       "      <td>0.0</td>\n",
       "      <td>Montreal, Quebec</td>\n",
       "      <td>unspecified</td>\n",
       "      <td>1. autonomy s cry revived in quebec the new yo...</td>\n",
       "      <td>protestors were only identified as young peopl...</td>\n",
       "      <td>...</td>\n",
       "      <td>1990-06-25</td>\n",
       "      <td>1990-06-25</td>\n",
       "      <td>[0, 0, 0, 0, 1, 0, 0]</td>\n",
       "      <td>protestors were only identified as young peopl...</td>\n",
       "      <td>0.000</td>\n",
       "      <td>1.000</td>\n",
       "      <td>0.000</td>\n",
       "      <td>0.0000</td>\n",
       "      <td>1</td>\n",
       "      <td>0</td>\n",
       "    </tr>\n",
       "    <tr>\n",
       "      <th>2</th>\n",
       "      <td>201990003</td>\n",
       "      <td>Canada</td>\n",
       "      <td>20</td>\n",
       "      <td>North America</td>\n",
       "      <td>3</td>\n",
       "      <td>0.0</td>\n",
       "      <td>Montreal, Quebec</td>\n",
       "      <td>separatist parti quebecois</td>\n",
       "      <td>1. quebec protest after queen calls for unity ...</td>\n",
       "      <td>the queen, after calling on canadians to remai...</td>\n",
       "      <td>...</td>\n",
       "      <td>1990-07-01</td>\n",
       "      <td>1990-07-01</td>\n",
       "      <td>[0, 0, 0, 0, 1, 0, 0]</td>\n",
       "      <td>the queen, after calling on canadians to remai...</td>\n",
       "      <td>0.060</td>\n",
       "      <td>0.830</td>\n",
       "      <td>0.109</td>\n",
       "      <td>0.7003</td>\n",
       "      <td>1</td>\n",
       "      <td>0</td>\n",
       "    </tr>\n",
       "    <tr>\n",
       "      <th>3</th>\n",
       "      <td>201990004</td>\n",
       "      <td>Canada</td>\n",
       "      <td>20</td>\n",
       "      <td>North America</td>\n",
       "      <td>4</td>\n",
       "      <td>1.0</td>\n",
       "      <td>Montreal, Quebec</td>\n",
       "      <td>mohawk indians</td>\n",
       "      <td>1. indians gather as siege intensifies; armed ...</td>\n",
       "      <td>canada s federal government has agreed to acqu...</td>\n",
       "      <td>...</td>\n",
       "      <td>1990-07-12</td>\n",
       "      <td>1990-09-06</td>\n",
       "      <td>[0, 1, 0, 0, 0, 0, 0]</td>\n",
       "      <td>canada s federal government has agreed to acqu...</td>\n",
       "      <td>0.134</td>\n",
       "      <td>0.820</td>\n",
       "      <td>0.046</td>\n",
       "      <td>-0.9711</td>\n",
       "      <td>57</td>\n",
       "      <td>0</td>\n",
       "    </tr>\n",
       "    <tr>\n",
       "      <th>4</th>\n",
       "      <td>201990005</td>\n",
       "      <td>Canada</td>\n",
       "      <td>20</td>\n",
       "      <td>North America</td>\n",
       "      <td>5</td>\n",
       "      <td>1.0</td>\n",
       "      <td>Montreal, Quebec</td>\n",
       "      <td>local residents</td>\n",
       "      <td>1. dozens hurt in mohawk blockade protest the ...</td>\n",
       "      <td>protests were directed against the state due t...</td>\n",
       "      <td>...</td>\n",
       "      <td>1990-08-14</td>\n",
       "      <td>1990-08-15</td>\n",
       "      <td>[1, 1, 0, 1, 0, 0, 0]</td>\n",
       "      <td>protests were directed against the state due t...</td>\n",
       "      <td>0.226</td>\n",
       "      <td>0.677</td>\n",
       "      <td>0.098</td>\n",
       "      <td>-0.5267</td>\n",
       "      <td>2</td>\n",
       "      <td>0</td>\n",
       "    </tr>\n",
       "  </tbody>\n",
       "</table>\n",
       "<p>5 rows × 70 columns</p>\n",
       "</div>"
      ],
      "text/plain": [
       "          id country  ccode         region  protestnumber  protesterviolence  \\\n",
       "0  201990001  Canada     20  North America              1                0.0   \n",
       "1  201990002  Canada     20  North America              2                0.0   \n",
       "2  201990003  Canada     20  North America              3                0.0   \n",
       "3  201990004  Canada     20  North America              4                1.0   \n",
       "4  201990005  Canada     20  North America              5                1.0   \n",
       "\n",
       "           location           protesteridentity  \\\n",
       "0          national                 unspecified   \n",
       "1  Montreal, Quebec                 unspecified   \n",
       "2  Montreal, Quebec  separatist parti quebecois   \n",
       "3  Montreal, Quebec              mohawk indians   \n",
       "4  Montreal, Quebec             local residents   \n",
       "\n",
       "                                             sources  \\\n",
       "0  1. great canadian train journeys into history;...   \n",
       "1  1. autonomy s cry revived in quebec the new yo...   \n",
       "2  1. quebec protest after queen calls for unity ...   \n",
       "3  1. indians gather as siege intensifies; armed ...   \n",
       "4  1. dozens hurt in mohawk blockade protest the ...   \n",
       "\n",
       "                                               notes  ...  start_date  \\\n",
       "0  canada s railway passenger system was finally ...  ...  1990-01-15   \n",
       "1  protestors were only identified as young peopl...  ...  1990-06-25   \n",
       "2  the queen, after calling on canadians to remai...  ...  1990-07-01   \n",
       "3  canada s federal government has agreed to acqu...  ...  1990-07-12   \n",
       "4  protests were directed against the state due t...  ...  1990-08-14   \n",
       "\n",
       "     end_date                 target  \\\n",
       "0  1990-01-15  [0, 0, 0, 0, 1, 0, 0]   \n",
       "1  1990-06-25  [0, 0, 0, 0, 1, 0, 0]   \n",
       "2  1990-07-01  [0, 0, 0, 0, 1, 0, 0]   \n",
       "3  1990-09-06  [0, 1, 0, 0, 0, 0, 0]   \n",
       "4  1990-08-15  [1, 1, 0, 1, 0, 0, 0]   \n",
       "\n",
       "                                         notes_clean    neg    neu    pos  \\\n",
       "0  canada s railway passenger system was finally ...  0.087  0.913  0.000   \n",
       "1  protestors were only identified as young peopl...  0.000  1.000  0.000   \n",
       "2  the queen, after calling on canadians to remai...  0.060  0.830  0.109   \n",
       "3  canada s federal government has agreed to acqu...  0.134  0.820  0.046   \n",
       "4  protests were directed against the state due t...  0.226  0.677  0.098   \n",
       "\n",
       "   compound  protest_duration  violent_response  \n",
       "0   -0.8176                 1                 0  \n",
       "1    0.0000                 1                 0  \n",
       "2    0.7003                 1                 0  \n",
       "3   -0.9711                57                 0  \n",
       "4   -0.5267                 2                 0  \n",
       "\n",
       "[5 rows x 70 columns]"
      ]
     },
     "execution_count": 245,
     "metadata": {},
     "output_type": "execute_result"
    }
   ],
   "source": [
    "mass_no_country.head()"
   ]
  },
  {
   "cell_type": "code",
   "execution_count": 246,
   "metadata": {},
   "outputs": [
    {
     "data": {
      "text/plain": [
       "(6930, 70)"
      ]
     },
     "execution_count": 246,
     "metadata": {},
     "output_type": "execute_result"
    }
   ],
   "source": [
    "# clean the data, drop rows with ignore \n",
    "gov_response = mass_no_country[mass_no_country['ignore'] == 0]\n",
    "gov_response.shape\n"
   ]
  },
  {
   "cell_type": "code",
   "execution_count": 256,
   "metadata": {
    "scrolled": true
   },
   "outputs": [
    {
     "name": "stdout",
     "output_type": "stream",
     "text": [
      "Fitting 10 folds for each of 16 candidates, totalling 160 fits\n",
      "[CV] C=0.01, class_weight={1: 25}, max_iter=100, penalty=l1, solver=liblinear \n",
      "[CV]  C=0.01, class_weight={1: 25}, max_iter=100, penalty=l1, solver=liblinear, total=   0.0s\n",
      "[CV] C=0.01, class_weight={1: 25}, max_iter=100, penalty=l1, solver=liblinear \n",
      "[CV]  C=0.01, class_weight={1: 25}, max_iter=100, penalty=l1, solver=liblinear, total=   0.0s\n",
      "[CV] C=0.01, class_weight={1: 25}, max_iter=100, penalty=l1, solver=liblinear \n",
      "[CV]  C=0.01, class_weight={1: 25}, max_iter=100, penalty=l1, solver=liblinear, total=   0.0s\n",
      "[CV] C=0.01, class_weight={1: 25}, max_iter=100, penalty=l1, solver=liblinear \n",
      "[CV]  C=0.01, class_weight={1: 25}, max_iter=100, penalty=l1, solver=liblinear, total=   0.0s\n",
      "[CV] C=0.01, class_weight={1: 25}, max_iter=100, penalty=l1, solver=liblinear \n",
      "[CV]  C=0.01, class_weight={1: 25}, max_iter=100, penalty=l1, solver=liblinear, total=   0.0s\n",
      "[CV] C=0.01, class_weight={1: 25}, max_iter=100, penalty=l1, solver=liblinear \n",
      "[CV]  C=0.01, class_weight={1: 25}, max_iter=100, penalty=l1, solver=liblinear, total=   0.0s\n",
      "[CV] C=0.01, class_weight={1: 25}, max_iter=100, penalty=l1, solver=liblinear \n",
      "[CV]  C=0.01, class_weight={1: 25}, max_iter=100, penalty=l1, solver=liblinear, total=   0.0s\n",
      "[CV] C=0.01, class_weight={1: 25}, max_iter=100, penalty=l1, solver=liblinear \n",
      "[CV]  C=0.01, class_weight={1: 25}, max_iter=100, penalty=l1, solver=liblinear, total=   0.0s\n",
      "[CV] C=0.01, class_weight={1: 25}, max_iter=100, penalty=l1, solver=liblinear \n",
      "[CV]  C=0.01, class_weight={1: 25}, max_iter=100, penalty=l1, solver=liblinear, total=   0.0s\n",
      "[CV] C=0.01, class_weight={1: 25}, max_iter=100, penalty=l1, solver=liblinear \n"
     ]
    },
    {
     "name": "stderr",
     "output_type": "stream",
     "text": [
      "[Parallel(n_jobs=1)]: Using backend SequentialBackend with 1 concurrent workers.\n",
      "[Parallel(n_jobs=1)]: Done   1 out of   1 | elapsed:    0.0s remaining:    0.0s\n"
     ]
    },
    {
     "name": "stdout",
     "output_type": "stream",
     "text": [
      "[CV]  C=0.01, class_weight={1: 25}, max_iter=100, penalty=l1, solver=liblinear, total=   0.0s\n",
      "[CV] C=0.01, class_weight={1: 25}, max_iter=100, penalty=l1, solver=saga \n"
     ]
    },
    {
     "name": "stderr",
     "output_type": "stream",
     "text": [
      "C:\\Users\\tsuts\\anaconda3\\lib\\site-packages\\sklearn\\linear_model\\_sag.py:329: ConvergenceWarning: The max_iter was reached which means the coef_ did not converge\n",
      "  warnings.warn(\"The max_iter was reached which means \"\n"
     ]
    },
    {
     "name": "stdout",
     "output_type": "stream",
     "text": [
      "[CV]  C=0.01, class_weight={1: 25}, max_iter=100, penalty=l1, solver=saga, total=   0.2s\n",
      "[CV] C=0.01, class_weight={1: 25}, max_iter=100, penalty=l1, solver=saga \n"
     ]
    },
    {
     "name": "stderr",
     "output_type": "stream",
     "text": [
      "C:\\Users\\tsuts\\anaconda3\\lib\\site-packages\\sklearn\\linear_model\\_sag.py:329: ConvergenceWarning: The max_iter was reached which means the coef_ did not converge\n",
      "  warnings.warn(\"The max_iter was reached which means \"\n"
     ]
    },
    {
     "name": "stdout",
     "output_type": "stream",
     "text": [
      "[CV]  C=0.01, class_weight={1: 25}, max_iter=100, penalty=l1, solver=saga, total=   0.2s\n",
      "[CV] C=0.01, class_weight={1: 25}, max_iter=100, penalty=l1, solver=saga \n"
     ]
    },
    {
     "name": "stderr",
     "output_type": "stream",
     "text": [
      "C:\\Users\\tsuts\\anaconda3\\lib\\site-packages\\sklearn\\linear_model\\_sag.py:329: ConvergenceWarning: The max_iter was reached which means the coef_ did not converge\n",
      "  warnings.warn(\"The max_iter was reached which means \"\n"
     ]
    },
    {
     "name": "stdout",
     "output_type": "stream",
     "text": [
      "[CV]  C=0.01, class_weight={1: 25}, max_iter=100, penalty=l1, solver=saga, total=   0.2s\n",
      "[CV] C=0.01, class_weight={1: 25}, max_iter=100, penalty=l1, solver=saga \n"
     ]
    },
    {
     "name": "stderr",
     "output_type": "stream",
     "text": [
      "C:\\Users\\tsuts\\anaconda3\\lib\\site-packages\\sklearn\\linear_model\\_sag.py:329: ConvergenceWarning: The max_iter was reached which means the coef_ did not converge\n",
      "  warnings.warn(\"The max_iter was reached which means \"\n"
     ]
    },
    {
     "name": "stdout",
     "output_type": "stream",
     "text": [
      "[CV]  C=0.01, class_weight={1: 25}, max_iter=100, penalty=l1, solver=saga, total=   0.2s\n",
      "[CV] C=0.01, class_weight={1: 25}, max_iter=100, penalty=l1, solver=saga \n"
     ]
    },
    {
     "name": "stderr",
     "output_type": "stream",
     "text": [
      "C:\\Users\\tsuts\\anaconda3\\lib\\site-packages\\sklearn\\linear_model\\_sag.py:329: ConvergenceWarning: The max_iter was reached which means the coef_ did not converge\n",
      "  warnings.warn(\"The max_iter was reached which means \"\n"
     ]
    },
    {
     "name": "stdout",
     "output_type": "stream",
     "text": [
      "[CV]  C=0.01, class_weight={1: 25}, max_iter=100, penalty=l1, solver=saga, total=   0.2s\n",
      "[CV] C=0.01, class_weight={1: 25}, max_iter=100, penalty=l1, solver=saga \n"
     ]
    },
    {
     "name": "stderr",
     "output_type": "stream",
     "text": [
      "C:\\Users\\tsuts\\anaconda3\\lib\\site-packages\\sklearn\\linear_model\\_sag.py:329: ConvergenceWarning: The max_iter was reached which means the coef_ did not converge\n",
      "  warnings.warn(\"The max_iter was reached which means \"\n"
     ]
    },
    {
     "name": "stdout",
     "output_type": "stream",
     "text": [
      "[CV]  C=0.01, class_weight={1: 25}, max_iter=100, penalty=l1, solver=saga, total=   0.2s\n",
      "[CV] C=0.01, class_weight={1: 25}, max_iter=100, penalty=l1, solver=saga \n"
     ]
    },
    {
     "name": "stderr",
     "output_type": "stream",
     "text": [
      "C:\\Users\\tsuts\\anaconda3\\lib\\site-packages\\sklearn\\linear_model\\_sag.py:329: ConvergenceWarning: The max_iter was reached which means the coef_ did not converge\n",
      "  warnings.warn(\"The max_iter was reached which means \"\n"
     ]
    },
    {
     "name": "stdout",
     "output_type": "stream",
     "text": [
      "[CV]  C=0.01, class_weight={1: 25}, max_iter=100, penalty=l1, solver=saga, total=   0.2s\n",
      "[CV] C=0.01, class_weight={1: 25}, max_iter=100, penalty=l1, solver=saga \n"
     ]
    },
    {
     "name": "stderr",
     "output_type": "stream",
     "text": [
      "C:\\Users\\tsuts\\anaconda3\\lib\\site-packages\\sklearn\\linear_model\\_sag.py:329: ConvergenceWarning: The max_iter was reached which means the coef_ did not converge\n",
      "  warnings.warn(\"The max_iter was reached which means \"\n"
     ]
    },
    {
     "name": "stdout",
     "output_type": "stream",
     "text": [
      "[CV]  C=0.01, class_weight={1: 25}, max_iter=100, penalty=l1, solver=saga, total=   0.3s\n",
      "[CV] C=0.01, class_weight={1: 25}, max_iter=100, penalty=l1, solver=saga \n"
     ]
    },
    {
     "name": "stderr",
     "output_type": "stream",
     "text": [
      "C:\\Users\\tsuts\\anaconda3\\lib\\site-packages\\sklearn\\linear_model\\_sag.py:329: ConvergenceWarning: The max_iter was reached which means the coef_ did not converge\n",
      "  warnings.warn(\"The max_iter was reached which means \"\n"
     ]
    },
    {
     "name": "stdout",
     "output_type": "stream",
     "text": [
      "[CV]  C=0.01, class_weight={1: 25}, max_iter=100, penalty=l1, solver=saga, total=   0.2s\n",
      "[CV] C=0.01, class_weight={1: 25}, max_iter=100, penalty=l1, solver=saga \n"
     ]
    },
    {
     "name": "stderr",
     "output_type": "stream",
     "text": [
      "C:\\Users\\tsuts\\anaconda3\\lib\\site-packages\\sklearn\\linear_model\\_sag.py:329: ConvergenceWarning: The max_iter was reached which means the coef_ did not converge\n",
      "  warnings.warn(\"The max_iter was reached which means \"\n"
     ]
    },
    {
     "name": "stdout",
     "output_type": "stream",
     "text": [
      "[CV]  C=0.01, class_weight={1: 25}, max_iter=100, penalty=l1, solver=saga, total=   0.2s\n",
      "[CV] C=0.01, class_weight={1: 25}, max_iter=100, penalty=l2, solver=liblinear \n",
      "[CV]  C=0.01, class_weight={1: 25}, max_iter=100, penalty=l2, solver=liblinear, total=   0.0s\n",
      "[CV] C=0.01, class_weight={1: 25}, max_iter=100, penalty=l2, solver=liblinear \n",
      "[CV]  C=0.01, class_weight={1: 25}, max_iter=100, penalty=l2, solver=liblinear, total=   0.0s\n",
      "[CV] C=0.01, class_weight={1: 25}, max_iter=100, penalty=l2, solver=liblinear \n",
      "[CV]  C=0.01, class_weight={1: 25}, max_iter=100, penalty=l2, solver=liblinear, total=   0.0s\n",
      "[CV] C=0.01, class_weight={1: 25}, max_iter=100, penalty=l2, solver=liblinear \n",
      "[CV]  C=0.01, class_weight={1: 25}, max_iter=100, penalty=l2, solver=liblinear, total=   0.0s\n",
      "[CV] C=0.01, class_weight={1: 25}, max_iter=100, penalty=l2, solver=liblinear \n",
      "[CV]  C=0.01, class_weight={1: 25}, max_iter=100, penalty=l2, solver=liblinear, total=   0.0s\n",
      "[CV] C=0.01, class_weight={1: 25}, max_iter=100, penalty=l2, solver=liblinear \n",
      "[CV]  C=0.01, class_weight={1: 25}, max_iter=100, penalty=l2, solver=liblinear, total=   0.0s\n",
      "[CV] C=0.01, class_weight={1: 25}, max_iter=100, penalty=l2, solver=liblinear \n",
      "[CV]  C=0.01, class_weight={1: 25}, max_iter=100, penalty=l2, solver=liblinear, total=   0.0s\n",
      "[CV] C=0.01, class_weight={1: 25}, max_iter=100, penalty=l2, solver=liblinear \n",
      "[CV]  C=0.01, class_weight={1: 25}, max_iter=100, penalty=l2, solver=liblinear, total=   0.0s\n",
      "[CV] C=0.01, class_weight={1: 25}, max_iter=100, penalty=l2, solver=liblinear \n",
      "[CV]  C=0.01, class_weight={1: 25}, max_iter=100, penalty=l2, solver=liblinear, total=   0.0s\n",
      "[CV] C=0.01, class_weight={1: 25}, max_iter=100, penalty=l2, solver=liblinear \n",
      "[CV]  C=0.01, class_weight={1: 25}, max_iter=100, penalty=l2, solver=liblinear, total=   0.0s"
     ]
    },
    {
     "name": "stderr",
     "output_type": "stream",
     "text": [
      "C:\\Users\\tsuts\\anaconda3\\lib\\site-packages\\sklearn\\linear_model\\_sag.py:329: ConvergenceWarning: The max_iter was reached which means the coef_ did not converge\n",
      "  warnings.warn(\"The max_iter was reached which means \"\n",
      "C:\\Users\\tsuts\\anaconda3\\lib\\site-packages\\sklearn\\linear_model\\_sag.py:329: ConvergenceWarning: The max_iter was reached which means the coef_ did not converge\n",
      "  warnings.warn(\"The max_iter was reached which means \"\n"
     ]
    },
    {
     "name": "stdout",
     "output_type": "stream",
     "text": [
      "\n",
      "[CV] C=0.01, class_weight={1: 25}, max_iter=100, penalty=l2, solver=saga \n",
      "[CV]  C=0.01, class_weight={1: 25}, max_iter=100, penalty=l2, solver=saga, total=   0.2s\n",
      "[CV] C=0.01, class_weight={1: 25}, max_iter=100, penalty=l2, solver=saga \n",
      "[CV]  C=0.01, class_weight={1: 25}, max_iter=100, penalty=l2, solver=saga, total=   0.2s\n",
      "[CV] C=0.01, class_weight={1: 25}, max_iter=100, penalty=l2, solver=saga \n"
     ]
    },
    {
     "name": "stderr",
     "output_type": "stream",
     "text": [
      "C:\\Users\\tsuts\\anaconda3\\lib\\site-packages\\sklearn\\linear_model\\_sag.py:329: ConvergenceWarning: The max_iter was reached which means the coef_ did not converge\n",
      "  warnings.warn(\"The max_iter was reached which means \"\n",
      "C:\\Users\\tsuts\\anaconda3\\lib\\site-packages\\sklearn\\linear_model\\_sag.py:329: ConvergenceWarning: The max_iter was reached which means the coef_ did not converge\n",
      "  warnings.warn(\"The max_iter was reached which means \"\n"
     ]
    },
    {
     "name": "stdout",
     "output_type": "stream",
     "text": [
      "[CV]  C=0.01, class_weight={1: 25}, max_iter=100, penalty=l2, solver=saga, total=   0.2s\n",
      "[CV] C=0.01, class_weight={1: 25}, max_iter=100, penalty=l2, solver=saga \n",
      "[CV]  C=0.01, class_weight={1: 25}, max_iter=100, penalty=l2, solver=saga, total=   0.2s\n",
      "[CV] C=0.01, class_weight={1: 25}, max_iter=100, penalty=l2, solver=saga \n",
      "[CV]  C=0.01, class_weight={1: 25}, max_iter=100, penalty=l2, solver=saga, total=   0.2s\n",
      "[CV] C=0.01, class_weight={1: 25}, max_iter=100, penalty=l2, solver=saga \n"
     ]
    },
    {
     "name": "stderr",
     "output_type": "stream",
     "text": [
      "C:\\Users\\tsuts\\anaconda3\\lib\\site-packages\\sklearn\\linear_model\\_sag.py:329: ConvergenceWarning: The max_iter was reached which means the coef_ did not converge\n",
      "  warnings.warn(\"The max_iter was reached which means \"\n",
      "C:\\Users\\tsuts\\anaconda3\\lib\\site-packages\\sklearn\\linear_model\\_sag.py:329: ConvergenceWarning: The max_iter was reached which means the coef_ did not converge\n",
      "  warnings.warn(\"The max_iter was reached which means \"\n"
     ]
    },
    {
     "name": "stdout",
     "output_type": "stream",
     "text": [
      "[CV]  C=0.01, class_weight={1: 25}, max_iter=100, penalty=l2, solver=saga, total=   0.2s\n",
      "[CV] C=0.01, class_weight={1: 25}, max_iter=100, penalty=l2, solver=saga \n",
      "[CV]  C=0.01, class_weight={1: 25}, max_iter=100, penalty=l2, solver=saga, total=   0.2s\n",
      "[CV] C=0.01, class_weight={1: 25}, max_iter=100, penalty=l2, solver=saga \n"
     ]
    },
    {
     "name": "stderr",
     "output_type": "stream",
     "text": [
      "C:\\Users\\tsuts\\anaconda3\\lib\\site-packages\\sklearn\\linear_model\\_sag.py:329: ConvergenceWarning: The max_iter was reached which means the coef_ did not converge\n",
      "  warnings.warn(\"The max_iter was reached which means \"\n",
      "C:\\Users\\tsuts\\anaconda3\\lib\\site-packages\\sklearn\\linear_model\\_sag.py:329: ConvergenceWarning: The max_iter was reached which means the coef_ did not converge\n",
      "  warnings.warn(\"The max_iter was reached which means \"\n"
     ]
    },
    {
     "name": "stdout",
     "output_type": "stream",
     "text": [
      "[CV]  C=0.01, class_weight={1: 25}, max_iter=100, penalty=l2, solver=saga, total=   0.2s\n",
      "[CV] C=0.01, class_weight={1: 25}, max_iter=100, penalty=l2, solver=saga \n",
      "[CV]  C=0.01, class_weight={1: 25}, max_iter=100, penalty=l2, solver=saga, total=   0.2s\n",
      "[CV] C=0.01, class_weight={1: 25}, max_iter=100, penalty=l2, solver=saga \n"
     ]
    },
    {
     "name": "stderr",
     "output_type": "stream",
     "text": [
      "C:\\Users\\tsuts\\anaconda3\\lib\\site-packages\\sklearn\\linear_model\\_sag.py:329: ConvergenceWarning: The max_iter was reached which means the coef_ did not converge\n",
      "  warnings.warn(\"The max_iter was reached which means \"\n",
      "C:\\Users\\tsuts\\anaconda3\\lib\\site-packages\\sklearn\\linear_model\\_sag.py:329: ConvergenceWarning: The max_iter was reached which means the coef_ did not converge\n",
      "  warnings.warn(\"The max_iter was reached which means \"\n"
     ]
    },
    {
     "name": "stdout",
     "output_type": "stream",
     "text": [
      "[CV]  C=0.01, class_weight={1: 25}, max_iter=100, penalty=l2, solver=saga, total=   0.2s\n",
      "[CV] C=0.01, class_weight={1: 25}, max_iter=1000, penalty=l1, solver=liblinear \n",
      "[CV]  C=0.01, class_weight={1: 25}, max_iter=1000, penalty=l1, solver=liblinear, total=   0.0s\n",
      "[CV] C=0.01, class_weight={1: 25}, max_iter=1000, penalty=l1, solver=liblinear \n",
      "[CV]  C=0.01, class_weight={1: 25}, max_iter=1000, penalty=l1, solver=liblinear, total=   0.0s\n",
      "[CV] C=0.01, class_weight={1: 25}, max_iter=1000, penalty=l1, solver=liblinear \n",
      "[CV]  C=0.01, class_weight={1: 25}, max_iter=1000, penalty=l1, solver=liblinear, total=   0.0s\n",
      "[CV] C=0.01, class_weight={1: 25}, max_iter=1000, penalty=l1, solver=liblinear \n",
      "[CV]  C=0.01, class_weight={1: 25}, max_iter=1000, penalty=l1, solver=liblinear, total=   0.0s\n",
      "[CV] C=0.01, class_weight={1: 25}, max_iter=1000, penalty=l1, solver=liblinear \n",
      "[CV]  C=0.01, class_weight={1: 25}, max_iter=1000, penalty=l1, solver=liblinear, total=   0.0s\n",
      "[CV] C=0.01, class_weight={1: 25}, max_iter=1000, penalty=l1, solver=liblinear \n",
      "[CV]  C=0.01, class_weight={1: 25}, max_iter=1000, penalty=l1, solver=liblinear, total=   0.0s\n",
      "[CV] C=0.01, class_weight={1: 25}, max_iter=1000, penalty=l1, solver=liblinear \n",
      "[CV]  C=0.01, class_weight={1: 25}, max_iter=1000, penalty=l1, solver=liblinear, total=   0.0s\n",
      "[CV] C=0.01, class_weight={1: 25}, max_iter=1000, penalty=l1, solver=liblinear \n",
      "[CV]  C=0.01, class_weight={1: 25}, max_iter=1000, penalty=l1, solver=liblinear, total=   0.0s\n",
      "[CV] C=0.01, class_weight={1: 25}, max_iter=1000, penalty=l1, solver=liblinear \n",
      "[CV]  C=0.01, class_weight={1: 25}, max_iter=1000, penalty=l1, solver=liblinear, total=   0.0s\n",
      "[CV] C=0.01, class_weight={1: 25}, max_iter=1000, penalty=l1, solver=liblinear \n",
      "[CV]  C=0.01, class_weight={1: 25}, max_iter=1000, penalty=l1, solver=liblinear, total=   0.0s\n",
      "[CV] C=0.01, class_weight={1: 25}, max_iter=1000, penalty=l1, solver=saga \n"
     ]
    },
    {
     "name": "stderr",
     "output_type": "stream",
     "text": [
      "C:\\Users\\tsuts\\anaconda3\\lib\\site-packages\\sklearn\\linear_model\\_sag.py:329: ConvergenceWarning: The max_iter was reached which means the coef_ did not converge\n",
      "  warnings.warn(\"The max_iter was reached which means \"\n"
     ]
    },
    {
     "name": "stdout",
     "output_type": "stream",
     "text": [
      "[CV]  C=0.01, class_weight={1: 25}, max_iter=1000, penalty=l1, solver=saga, total=   2.3s\n",
      "[CV] C=0.01, class_weight={1: 25}, max_iter=1000, penalty=l1, solver=saga \n"
     ]
    },
    {
     "name": "stderr",
     "output_type": "stream",
     "text": [
      "C:\\Users\\tsuts\\anaconda3\\lib\\site-packages\\sklearn\\linear_model\\_sag.py:329: ConvergenceWarning: The max_iter was reached which means the coef_ did not converge\n",
      "  warnings.warn(\"The max_iter was reached which means \"\n"
     ]
    },
    {
     "name": "stdout",
     "output_type": "stream",
     "text": [
      "[CV]  C=0.01, class_weight={1: 25}, max_iter=1000, penalty=l1, solver=saga, total=   2.3s\n",
      "[CV] C=0.01, class_weight={1: 25}, max_iter=1000, penalty=l1, solver=saga \n"
     ]
    },
    {
     "name": "stderr",
     "output_type": "stream",
     "text": [
      "C:\\Users\\tsuts\\anaconda3\\lib\\site-packages\\sklearn\\linear_model\\_sag.py:329: ConvergenceWarning: The max_iter was reached which means the coef_ did not converge\n",
      "  warnings.warn(\"The max_iter was reached which means \"\n"
     ]
    },
    {
     "name": "stdout",
     "output_type": "stream",
     "text": [
      "[CV]  C=0.01, class_weight={1: 25}, max_iter=1000, penalty=l1, solver=saga, total=   2.3s\n",
      "[CV] C=0.01, class_weight={1: 25}, max_iter=1000, penalty=l1, solver=saga \n"
     ]
    },
    {
     "name": "stderr",
     "output_type": "stream",
     "text": [
      "C:\\Users\\tsuts\\anaconda3\\lib\\site-packages\\sklearn\\linear_model\\_sag.py:329: ConvergenceWarning: The max_iter was reached which means the coef_ did not converge\n",
      "  warnings.warn(\"The max_iter was reached which means \"\n"
     ]
    },
    {
     "name": "stdout",
     "output_type": "stream",
     "text": [
      "[CV]  C=0.01, class_weight={1: 25}, max_iter=1000, penalty=l1, solver=saga, total=   2.3s\n",
      "[CV] C=0.01, class_weight={1: 25}, max_iter=1000, penalty=l1, solver=saga \n"
     ]
    },
    {
     "name": "stderr",
     "output_type": "stream",
     "text": [
      "C:\\Users\\tsuts\\anaconda3\\lib\\site-packages\\sklearn\\linear_model\\_sag.py:329: ConvergenceWarning: The max_iter was reached which means the coef_ did not converge\n",
      "  warnings.warn(\"The max_iter was reached which means \"\n"
     ]
    },
    {
     "name": "stdout",
     "output_type": "stream",
     "text": [
      "[CV]  C=0.01, class_weight={1: 25}, max_iter=1000, penalty=l1, solver=saga, total=   2.3s\n",
      "[CV] C=0.01, class_weight={1: 25}, max_iter=1000, penalty=l1, solver=saga \n"
     ]
    },
    {
     "name": "stderr",
     "output_type": "stream",
     "text": [
      "C:\\Users\\tsuts\\anaconda3\\lib\\site-packages\\sklearn\\linear_model\\_sag.py:329: ConvergenceWarning: The max_iter was reached which means the coef_ did not converge\n",
      "  warnings.warn(\"The max_iter was reached which means \"\n"
     ]
    },
    {
     "name": "stdout",
     "output_type": "stream",
     "text": [
      "[CV]  C=0.01, class_weight={1: 25}, max_iter=1000, penalty=l1, solver=saga, total=   2.2s\n",
      "[CV] C=0.01, class_weight={1: 25}, max_iter=1000, penalty=l1, solver=saga \n"
     ]
    },
    {
     "name": "stderr",
     "output_type": "stream",
     "text": [
      "C:\\Users\\tsuts\\anaconda3\\lib\\site-packages\\sklearn\\linear_model\\_sag.py:329: ConvergenceWarning: The max_iter was reached which means the coef_ did not converge\n",
      "  warnings.warn(\"The max_iter was reached which means \"\n"
     ]
    },
    {
     "name": "stdout",
     "output_type": "stream",
     "text": [
      "[CV]  C=0.01, class_weight={1: 25}, max_iter=1000, penalty=l1, solver=saga, total=   2.3s\n",
      "[CV] C=0.01, class_weight={1: 25}, max_iter=1000, penalty=l1, solver=saga \n"
     ]
    },
    {
     "name": "stderr",
     "output_type": "stream",
     "text": [
      "C:\\Users\\tsuts\\anaconda3\\lib\\site-packages\\sklearn\\linear_model\\_sag.py:329: ConvergenceWarning: The max_iter was reached which means the coef_ did not converge\n",
      "  warnings.warn(\"The max_iter was reached which means \"\n"
     ]
    },
    {
     "name": "stdout",
     "output_type": "stream",
     "text": [
      "[CV]  C=0.01, class_weight={1: 25}, max_iter=1000, penalty=l1, solver=saga, total=   2.2s\n",
      "[CV] C=0.01, class_weight={1: 25}, max_iter=1000, penalty=l1, solver=saga \n"
     ]
    },
    {
     "name": "stderr",
     "output_type": "stream",
     "text": [
      "C:\\Users\\tsuts\\anaconda3\\lib\\site-packages\\sklearn\\linear_model\\_sag.py:329: ConvergenceWarning: The max_iter was reached which means the coef_ did not converge\n",
      "  warnings.warn(\"The max_iter was reached which means \"\n"
     ]
    },
    {
     "name": "stdout",
     "output_type": "stream",
     "text": [
      "[CV]  C=0.01, class_weight={1: 25}, max_iter=1000, penalty=l1, solver=saga, total=   2.2s\n",
      "[CV] C=0.01, class_weight={1: 25}, max_iter=1000, penalty=l1, solver=saga \n"
     ]
    },
    {
     "name": "stderr",
     "output_type": "stream",
     "text": [
      "C:\\Users\\tsuts\\anaconda3\\lib\\site-packages\\sklearn\\linear_model\\_sag.py:329: ConvergenceWarning: The max_iter was reached which means the coef_ did not converge\n",
      "  warnings.warn(\"The max_iter was reached which means \"\n"
     ]
    },
    {
     "name": "stdout",
     "output_type": "stream",
     "text": [
      "[CV]  C=0.01, class_weight={1: 25}, max_iter=1000, penalty=l1, solver=saga, total=   2.3s\n",
      "[CV] C=0.01, class_weight={1: 25}, max_iter=1000, penalty=l2, solver=liblinear \n",
      "[CV]  C=0.01, class_weight={1: 25}, max_iter=1000, penalty=l2, solver=liblinear, total=   0.0s\n",
      "[CV] C=0.01, class_weight={1: 25}, max_iter=1000, penalty=l2, solver=liblinear \n",
      "[CV]  C=0.01, class_weight={1: 25}, max_iter=1000, penalty=l2, solver=liblinear, total=   0.0s\n",
      "[CV] C=0.01, class_weight={1: 25}, max_iter=1000, penalty=l2, solver=liblinear \n",
      "[CV]  C=0.01, class_weight={1: 25}, max_iter=1000, penalty=l2, solver=liblinear, total=   0.0s\n",
      "[CV] C=0.01, class_weight={1: 25}, max_iter=1000, penalty=l2, solver=liblinear \n",
      "[CV]  C=0.01, class_weight={1: 25}, max_iter=1000, penalty=l2, solver=liblinear, total=   0.0s\n",
      "[CV] C=0.01, class_weight={1: 25}, max_iter=1000, penalty=l2, solver=liblinear \n",
      "[CV]  C=0.01, class_weight={1: 25}, max_iter=1000, penalty=l2, solver=liblinear, total=   0.0s\n",
      "[CV] C=0.01, class_weight={1: 25}, max_iter=1000, penalty=l2, solver=liblinear \n",
      "[CV]  C=0.01, class_weight={1: 25}, max_iter=1000, penalty=l2, solver=liblinear, total=   0.0s\n",
      "[CV] C=0.01, class_weight={1: 25}, max_iter=1000, penalty=l2, solver=liblinear \n",
      "[CV]  C=0.01, class_weight={1: 25}, max_iter=1000, penalty=l2, solver=liblinear, total=   0.0s\n",
      "[CV] C=0.01, class_weight={1: 25}, max_iter=1000, penalty=l2, solver=liblinear \n",
      "[CV]  C=0.01, class_weight={1: 25}, max_iter=1000, penalty=l2, solver=liblinear, total=   0.0s\n",
      "[CV] C=0.01, class_weight={1: 25}, max_iter=1000, penalty=l2, solver=liblinear \n",
      "[CV]  C=0.01, class_weight={1: 25}, max_iter=1000, penalty=l2, solver=liblinear, total=   0.0s\n",
      "[CV] C=0.01, class_weight={1: 25}, max_iter=1000, penalty=l2, solver=liblinear \n",
      "[CV]  C=0.01, class_weight={1: 25}, max_iter=1000, penalty=l2, solver=liblinear, total=   0.0s"
     ]
    },
    {
     "name": "stderr",
     "output_type": "stream",
     "text": [
      "C:\\Users\\tsuts\\anaconda3\\lib\\site-packages\\sklearn\\linear_model\\_sag.py:329: ConvergenceWarning: The max_iter was reached which means the coef_ did not converge\n",
      "  warnings.warn(\"The max_iter was reached which means \"\n"
     ]
    },
    {
     "name": "stdout",
     "output_type": "stream",
     "text": [
      "\n",
      "[CV] C=0.01, class_weight={1: 25}, max_iter=1000, penalty=l2, solver=saga \n",
      "[CV]  C=0.01, class_weight={1: 25}, max_iter=1000, penalty=l2, solver=saga, total=   1.7s\n",
      "[CV] C=0.01, class_weight={1: 25}, max_iter=1000, penalty=l2, solver=saga \n"
     ]
    },
    {
     "name": "stderr",
     "output_type": "stream",
     "text": [
      "C:\\Users\\tsuts\\anaconda3\\lib\\site-packages\\sklearn\\linear_model\\_sag.py:329: ConvergenceWarning: The max_iter was reached which means the coef_ did not converge\n",
      "  warnings.warn(\"The max_iter was reached which means \"\n"
     ]
    },
    {
     "name": "stdout",
     "output_type": "stream",
     "text": [
      "[CV]  C=0.01, class_weight={1: 25}, max_iter=1000, penalty=l2, solver=saga, total=   1.7s\n",
      "[CV] C=0.01, class_weight={1: 25}, max_iter=1000, penalty=l2, solver=saga \n"
     ]
    },
    {
     "name": "stderr",
     "output_type": "stream",
     "text": [
      "C:\\Users\\tsuts\\anaconda3\\lib\\site-packages\\sklearn\\linear_model\\_sag.py:329: ConvergenceWarning: The max_iter was reached which means the coef_ did not converge\n",
      "  warnings.warn(\"The max_iter was reached which means \"\n"
     ]
    },
    {
     "name": "stdout",
     "output_type": "stream",
     "text": [
      "[CV]  C=0.01, class_weight={1: 25}, max_iter=1000, penalty=l2, solver=saga, total=   1.7s\n",
      "[CV] C=0.01, class_weight={1: 25}, max_iter=1000, penalty=l2, solver=saga \n"
     ]
    },
    {
     "name": "stderr",
     "output_type": "stream",
     "text": [
      "C:\\Users\\tsuts\\anaconda3\\lib\\site-packages\\sklearn\\linear_model\\_sag.py:329: ConvergenceWarning: The max_iter was reached which means the coef_ did not converge\n",
      "  warnings.warn(\"The max_iter was reached which means \"\n"
     ]
    },
    {
     "name": "stdout",
     "output_type": "stream",
     "text": [
      "[CV]  C=0.01, class_weight={1: 25}, max_iter=1000, penalty=l2, solver=saga, total=   1.7s\n",
      "[CV] C=0.01, class_weight={1: 25}, max_iter=1000, penalty=l2, solver=saga \n"
     ]
    },
    {
     "name": "stderr",
     "output_type": "stream",
     "text": [
      "C:\\Users\\tsuts\\anaconda3\\lib\\site-packages\\sklearn\\linear_model\\_sag.py:329: ConvergenceWarning: The max_iter was reached which means the coef_ did not converge\n",
      "  warnings.warn(\"The max_iter was reached which means \"\n"
     ]
    },
    {
     "name": "stdout",
     "output_type": "stream",
     "text": [
      "[CV]  C=0.01, class_weight={1: 25}, max_iter=1000, penalty=l2, solver=saga, total=   1.7s\n",
      "[CV] C=0.01, class_weight={1: 25}, max_iter=1000, penalty=l2, solver=saga \n"
     ]
    },
    {
     "name": "stderr",
     "output_type": "stream",
     "text": [
      "C:\\Users\\tsuts\\anaconda3\\lib\\site-packages\\sklearn\\linear_model\\_sag.py:329: ConvergenceWarning: The max_iter was reached which means the coef_ did not converge\n",
      "  warnings.warn(\"The max_iter was reached which means \"\n"
     ]
    },
    {
     "name": "stdout",
     "output_type": "stream",
     "text": [
      "[CV]  C=0.01, class_weight={1: 25}, max_iter=1000, penalty=l2, solver=saga, total=   1.7s\n",
      "[CV] C=0.01, class_weight={1: 25}, max_iter=1000, penalty=l2, solver=saga \n"
     ]
    },
    {
     "name": "stderr",
     "output_type": "stream",
     "text": [
      "C:\\Users\\tsuts\\anaconda3\\lib\\site-packages\\sklearn\\linear_model\\_sag.py:329: ConvergenceWarning: The max_iter was reached which means the coef_ did not converge\n",
      "  warnings.warn(\"The max_iter was reached which means \"\n"
     ]
    },
    {
     "name": "stdout",
     "output_type": "stream",
     "text": [
      "[CV]  C=0.01, class_weight={1: 25}, max_iter=1000, penalty=l2, solver=saga, total=   1.7s\n",
      "[CV] C=0.01, class_weight={1: 25}, max_iter=1000, penalty=l2, solver=saga \n"
     ]
    },
    {
     "name": "stderr",
     "output_type": "stream",
     "text": [
      "C:\\Users\\tsuts\\anaconda3\\lib\\site-packages\\sklearn\\linear_model\\_sag.py:329: ConvergenceWarning: The max_iter was reached which means the coef_ did not converge\n",
      "  warnings.warn(\"The max_iter was reached which means \"\n"
     ]
    },
    {
     "name": "stdout",
     "output_type": "stream",
     "text": [
      "[CV]  C=0.01, class_weight={1: 25}, max_iter=1000, penalty=l2, solver=saga, total=   1.6s\n",
      "[CV] C=0.01, class_weight={1: 25}, max_iter=1000, penalty=l2, solver=saga \n"
     ]
    },
    {
     "name": "stderr",
     "output_type": "stream",
     "text": [
      "C:\\Users\\tsuts\\anaconda3\\lib\\site-packages\\sklearn\\linear_model\\_sag.py:329: ConvergenceWarning: The max_iter was reached which means the coef_ did not converge\n",
      "  warnings.warn(\"The max_iter was reached which means \"\n"
     ]
    },
    {
     "name": "stdout",
     "output_type": "stream",
     "text": [
      "[CV]  C=0.01, class_weight={1: 25}, max_iter=1000, penalty=l2, solver=saga, total=   1.7s\n",
      "[CV] C=0.01, class_weight={1: 25}, max_iter=1000, penalty=l2, solver=saga \n"
     ]
    },
    {
     "name": "stderr",
     "output_type": "stream",
     "text": [
      "C:\\Users\\tsuts\\anaconda3\\lib\\site-packages\\sklearn\\linear_model\\_sag.py:329: ConvergenceWarning: The max_iter was reached which means the coef_ did not converge\n",
      "  warnings.warn(\"The max_iter was reached which means \"\n"
     ]
    },
    {
     "name": "stdout",
     "output_type": "stream",
     "text": [
      "[CV]  C=0.01, class_weight={1: 25}, max_iter=1000, penalty=l2, solver=saga, total=   1.7s\n",
      "[CV] C=0.01, class_weight={1: 8}, max_iter=100, penalty=l1, solver=liblinear \n",
      "[CV]  C=0.01, class_weight={1: 8}, max_iter=100, penalty=l1, solver=liblinear, total=   0.0s\n",
      "[CV] C=0.01, class_weight={1: 8}, max_iter=100, penalty=l1, solver=liblinear \n",
      "[CV]  C=0.01, class_weight={1: 8}, max_iter=100, penalty=l1, solver=liblinear, total=   0.0s\n",
      "[CV] C=0.01, class_weight={1: 8}, max_iter=100, penalty=l1, solver=liblinear \n",
      "[CV]  C=0.01, class_weight={1: 8}, max_iter=100, penalty=l1, solver=liblinear, total=   0.0s\n",
      "[CV] C=0.01, class_weight={1: 8}, max_iter=100, penalty=l1, solver=liblinear \n",
      "[CV]  C=0.01, class_weight={1: 8}, max_iter=100, penalty=l1, solver=liblinear, total=   0.0s\n",
      "[CV] C=0.01, class_weight={1: 8}, max_iter=100, penalty=l1, solver=liblinear \n",
      "[CV]  C=0.01, class_weight={1: 8}, max_iter=100, penalty=l1, solver=liblinear, total=   0.0s\n",
      "[CV] C=0.01, class_weight={1: 8}, max_iter=100, penalty=l1, solver=liblinear \n",
      "[CV]  C=0.01, class_weight={1: 8}, max_iter=100, penalty=l1, solver=liblinear, total=   0.0s\n",
      "[CV] C=0.01, class_weight={1: 8}, max_iter=100, penalty=l1, solver=liblinear \n",
      "[CV]  C=0.01, class_weight={1: 8}, max_iter=100, penalty=l1, solver=liblinear, total=   0.0s\n",
      "[CV] C=0.01, class_weight={1: 8}, max_iter=100, penalty=l1, solver=liblinear \n",
      "[CV]  C=0.01, class_weight={1: 8}, max_iter=100, penalty=l1, solver=liblinear, total=   0.0s\n",
      "[CV] C=0.01, class_weight={1: 8}, max_iter=100, penalty=l1, solver=liblinear \n",
      "[CV]  C=0.01, class_weight={1: 8}, max_iter=100, penalty=l1, solver=liblinear, total=   0.0s\n",
      "[CV] C=0.01, class_weight={1: 8}, max_iter=100, penalty=l1, solver=liblinear \n",
      "[CV]  C=0.01, class_weight={1: 8}, max_iter=100, penalty=l1, solver=liblinear, total=   0.0s\n",
      "[CV] C=0.01, class_weight={1: 8}, max_iter=100, penalty=l1, solver=saga \n"
     ]
    },
    {
     "name": "stderr",
     "output_type": "stream",
     "text": [
      "C:\\Users\\tsuts\\anaconda3\\lib\\site-packages\\sklearn\\linear_model\\_sag.py:329: ConvergenceWarning: The max_iter was reached which means the coef_ did not converge\n",
      "  warnings.warn(\"The max_iter was reached which means \"\n"
     ]
    },
    {
     "name": "stdout",
     "output_type": "stream",
     "text": [
      "[CV]  C=0.01, class_weight={1: 8}, max_iter=100, penalty=l1, solver=saga, total=   0.2s\n",
      "[CV] C=0.01, class_weight={1: 8}, max_iter=100, penalty=l1, solver=saga \n",
      "[CV]  C=0.01, class_weight={1: 8}, max_iter=100, penalty=l1, solver=saga, total=   0.1s\n",
      "[CV] C=0.01, class_weight={1: 8}, max_iter=100, penalty=l1, solver=saga \n"
     ]
    },
    {
     "name": "stderr",
     "output_type": "stream",
     "text": [
      "C:\\Users\\tsuts\\anaconda3\\lib\\site-packages\\sklearn\\linear_model\\_sag.py:329: ConvergenceWarning: The max_iter was reached which means the coef_ did not converge\n",
      "  warnings.warn(\"The max_iter was reached which means \"\n"
     ]
    },
    {
     "name": "stdout",
     "output_type": "stream",
     "text": [
      "[CV]  C=0.01, class_weight={1: 8}, max_iter=100, penalty=l1, solver=saga, total=   0.2s\n",
      "[CV] C=0.01, class_weight={1: 8}, max_iter=100, penalty=l1, solver=saga \n"
     ]
    },
    {
     "name": "stderr",
     "output_type": "stream",
     "text": [
      "C:\\Users\\tsuts\\anaconda3\\lib\\site-packages\\sklearn\\linear_model\\_sag.py:329: ConvergenceWarning: The max_iter was reached which means the coef_ did not converge\n",
      "  warnings.warn(\"The max_iter was reached which means \"\n"
     ]
    },
    {
     "name": "stdout",
     "output_type": "stream",
     "text": [
      "[CV]  C=0.01, class_weight={1: 8}, max_iter=100, penalty=l1, solver=saga, total=   0.2s\n",
      "[CV] C=0.01, class_weight={1: 8}, max_iter=100, penalty=l1, solver=saga \n"
     ]
    },
    {
     "name": "stderr",
     "output_type": "stream",
     "text": [
      "C:\\Users\\tsuts\\anaconda3\\lib\\site-packages\\sklearn\\linear_model\\_sag.py:329: ConvergenceWarning: The max_iter was reached which means the coef_ did not converge\n",
      "  warnings.warn(\"The max_iter was reached which means \"\n"
     ]
    },
    {
     "name": "stdout",
     "output_type": "stream",
     "text": [
      "[CV]  C=0.01, class_weight={1: 8}, max_iter=100, penalty=l1, solver=saga, total=   0.2s\n",
      "[CV] C=0.01, class_weight={1: 8}, max_iter=100, penalty=l1, solver=saga \n"
     ]
    },
    {
     "name": "stderr",
     "output_type": "stream",
     "text": [
      "C:\\Users\\tsuts\\anaconda3\\lib\\site-packages\\sklearn\\linear_model\\_sag.py:329: ConvergenceWarning: The max_iter was reached which means the coef_ did not converge\n",
      "  warnings.warn(\"The max_iter was reached which means \"\n"
     ]
    },
    {
     "name": "stdout",
     "output_type": "stream",
     "text": [
      "[CV]  C=0.01, class_weight={1: 8}, max_iter=100, penalty=l1, solver=saga, total=   0.2s\n",
      "[CV] C=0.01, class_weight={1: 8}, max_iter=100, penalty=l1, solver=saga \n"
     ]
    },
    {
     "name": "stderr",
     "output_type": "stream",
     "text": [
      "C:\\Users\\tsuts\\anaconda3\\lib\\site-packages\\sklearn\\linear_model\\_sag.py:329: ConvergenceWarning: The max_iter was reached which means the coef_ did not converge\n",
      "  warnings.warn(\"The max_iter was reached which means \"\n"
     ]
    },
    {
     "name": "stdout",
     "output_type": "stream",
     "text": [
      "[CV]  C=0.01, class_weight={1: 8}, max_iter=100, penalty=l1, solver=saga, total=   0.2s\n",
      "[CV] C=0.01, class_weight={1: 8}, max_iter=100, penalty=l1, solver=saga \n"
     ]
    },
    {
     "name": "stderr",
     "output_type": "stream",
     "text": [
      "C:\\Users\\tsuts\\anaconda3\\lib\\site-packages\\sklearn\\linear_model\\_sag.py:329: ConvergenceWarning: The max_iter was reached which means the coef_ did not converge\n",
      "  warnings.warn(\"The max_iter was reached which means \"\n"
     ]
    },
    {
     "name": "stdout",
     "output_type": "stream",
     "text": [
      "[CV]  C=0.01, class_weight={1: 8}, max_iter=100, penalty=l1, solver=saga, total=   0.2s\n",
      "[CV] C=0.01, class_weight={1: 8}, max_iter=100, penalty=l1, solver=saga \n"
     ]
    },
    {
     "name": "stderr",
     "output_type": "stream",
     "text": [
      "C:\\Users\\tsuts\\anaconda3\\lib\\site-packages\\sklearn\\linear_model\\_sag.py:329: ConvergenceWarning: The max_iter was reached which means the coef_ did not converge\n",
      "  warnings.warn(\"The max_iter was reached which means \"\n"
     ]
    },
    {
     "name": "stdout",
     "output_type": "stream",
     "text": [
      "[CV]  C=0.01, class_weight={1: 8}, max_iter=100, penalty=l1, solver=saga, total=   0.2s\n",
      "[CV] C=0.01, class_weight={1: 8}, max_iter=100, penalty=l1, solver=saga \n"
     ]
    },
    {
     "name": "stderr",
     "output_type": "stream",
     "text": [
      "C:\\Users\\tsuts\\anaconda3\\lib\\site-packages\\sklearn\\linear_model\\_sag.py:329: ConvergenceWarning: The max_iter was reached which means the coef_ did not converge\n",
      "  warnings.warn(\"The max_iter was reached which means \"\n"
     ]
    },
    {
     "name": "stdout",
     "output_type": "stream",
     "text": [
      "[CV]  C=0.01, class_weight={1: 8}, max_iter=100, penalty=l1, solver=saga, total=   0.2s\n",
      "[CV] C=0.01, class_weight={1: 8}, max_iter=100, penalty=l2, solver=liblinear \n",
      "[CV]  C=0.01, class_weight={1: 8}, max_iter=100, penalty=l2, solver=liblinear, total=   0.0s\n",
      "[CV] C=0.01, class_weight={1: 8}, max_iter=100, penalty=l2, solver=liblinear \n",
      "[CV]  C=0.01, class_weight={1: 8}, max_iter=100, penalty=l2, solver=liblinear, total=   0.0s\n",
      "[CV] C=0.01, class_weight={1: 8}, max_iter=100, penalty=l2, solver=liblinear \n",
      "[CV]  C=0.01, class_weight={1: 8}, max_iter=100, penalty=l2, solver=liblinear, total=   0.0s\n",
      "[CV] C=0.01, class_weight={1: 8}, max_iter=100, penalty=l2, solver=liblinear \n",
      "[CV]  C=0.01, class_weight={1: 8}, max_iter=100, penalty=l2, solver=liblinear, total=   0.0s\n",
      "[CV] C=0.01, class_weight={1: 8}, max_iter=100, penalty=l2, solver=liblinear \n",
      "[CV]  C=0.01, class_weight={1: 8}, max_iter=100, penalty=l2, solver=liblinear, total=   0.0s\n",
      "[CV] C=0.01, class_weight={1: 8}, max_iter=100, penalty=l2, solver=liblinear \n",
      "[CV]  C=0.01, class_weight={1: 8}, max_iter=100, penalty=l2, solver=liblinear, total=   0.0s\n",
      "[CV] C=0.01, class_weight={1: 8}, max_iter=100, penalty=l2, solver=liblinear \n",
      "[CV]  C=0.01, class_weight={1: 8}, max_iter=100, penalty=l2, solver=liblinear, total=   0.0s\n",
      "[CV] C=0.01, class_weight={1: 8}, max_iter=100, penalty=l2, solver=liblinear \n",
      "[CV]  C=0.01, class_weight={1: 8}, max_iter=100, penalty=l2, solver=liblinear, total=   0.0s\n",
      "[CV] C=0.01, class_weight={1: 8}, max_iter=100, penalty=l2, solver=liblinear \n",
      "[CV]  C=0.01, class_weight={1: 8}, max_iter=100, penalty=l2, solver=liblinear, total=   0.0s\n",
      "[CV] C=0.01, class_weight={1: 8}, max_iter=100, penalty=l2, solver=liblinear \n",
      "[CV]  C=0.01, class_weight={1: 8}, max_iter=100, penalty=l2, solver=liblinear, total=   0.0s\n",
      "[CV] C=0.01, class_weight={1: 8}, max_iter=100, penalty=l2, solver=saga \n"
     ]
    },
    {
     "name": "stderr",
     "output_type": "stream",
     "text": [
      "C:\\Users\\tsuts\\anaconda3\\lib\\site-packages\\sklearn\\linear_model\\_sag.py:329: ConvergenceWarning: The max_iter was reached which means the coef_ did not converge\n",
      "  warnings.warn(\"The max_iter was reached which means \"\n",
      "C:\\Users\\tsuts\\anaconda3\\lib\\site-packages\\sklearn\\linear_model\\_sag.py:329: ConvergenceWarning: The max_iter was reached which means the coef_ did not converge\n",
      "  warnings.warn(\"The max_iter was reached which means \"\n"
     ]
    },
    {
     "name": "stdout",
     "output_type": "stream",
     "text": [
      "[CV]  C=0.01, class_weight={1: 8}, max_iter=100, penalty=l2, solver=saga, total=   0.2s\n",
      "[CV] C=0.01, class_weight={1: 8}, max_iter=100, penalty=l2, solver=saga \n",
      "[CV]  C=0.01, class_weight={1: 8}, max_iter=100, penalty=l2, solver=saga, total=   0.2s\n",
      "[CV] C=0.01, class_weight={1: 8}, max_iter=100, penalty=l2, solver=saga \n"
     ]
    },
    {
     "name": "stderr",
     "output_type": "stream",
     "text": [
      "C:\\Users\\tsuts\\anaconda3\\lib\\site-packages\\sklearn\\linear_model\\_sag.py:329: ConvergenceWarning: The max_iter was reached which means the coef_ did not converge\n",
      "  warnings.warn(\"The max_iter was reached which means \"\n",
      "C:\\Users\\tsuts\\anaconda3\\lib\\site-packages\\sklearn\\linear_model\\_sag.py:329: ConvergenceWarning: The max_iter was reached which means the coef_ did not converge\n",
      "  warnings.warn(\"The max_iter was reached which means \"\n"
     ]
    },
    {
     "name": "stdout",
     "output_type": "stream",
     "text": [
      "[CV]  C=0.01, class_weight={1: 8}, max_iter=100, penalty=l2, solver=saga, total=   0.2s\n",
      "[CV] C=0.01, class_weight={1: 8}, max_iter=100, penalty=l2, solver=saga \n",
      "[CV]  C=0.01, class_weight={1: 8}, max_iter=100, penalty=l2, solver=saga, total=   0.2s\n",
      "[CV] C=0.01, class_weight={1: 8}, max_iter=100, penalty=l2, solver=saga \n"
     ]
    },
    {
     "name": "stderr",
     "output_type": "stream",
     "text": [
      "C:\\Users\\tsuts\\anaconda3\\lib\\site-packages\\sklearn\\linear_model\\_sag.py:329: ConvergenceWarning: The max_iter was reached which means the coef_ did not converge\n",
      "  warnings.warn(\"The max_iter was reached which means \"\n",
      "C:\\Users\\tsuts\\anaconda3\\lib\\site-packages\\sklearn\\linear_model\\_sag.py:329: ConvergenceWarning: The max_iter was reached which means the coef_ did not converge\n",
      "  warnings.warn(\"The max_iter was reached which means \"\n"
     ]
    },
    {
     "name": "stdout",
     "output_type": "stream",
     "text": [
      "[CV]  C=0.01, class_weight={1: 8}, max_iter=100, penalty=l2, solver=saga, total=   0.2s\n",
      "[CV] C=0.01, class_weight={1: 8}, max_iter=100, penalty=l2, solver=saga \n",
      "[CV]  C=0.01, class_weight={1: 8}, max_iter=100, penalty=l2, solver=saga, total=   0.2s\n",
      "[CV] C=0.01, class_weight={1: 8}, max_iter=100, penalty=l2, solver=saga \n"
     ]
    },
    {
     "name": "stderr",
     "output_type": "stream",
     "text": [
      "C:\\Users\\tsuts\\anaconda3\\lib\\site-packages\\sklearn\\linear_model\\_sag.py:329: ConvergenceWarning: The max_iter was reached which means the coef_ did not converge\n",
      "  warnings.warn(\"The max_iter was reached which means \"\n",
      "C:\\Users\\tsuts\\anaconda3\\lib\\site-packages\\sklearn\\linear_model\\_sag.py:329: ConvergenceWarning: The max_iter was reached which means the coef_ did not converge\n",
      "  warnings.warn(\"The max_iter was reached which means \"\n"
     ]
    },
    {
     "name": "stdout",
     "output_type": "stream",
     "text": [
      "[CV]  C=0.01, class_weight={1: 8}, max_iter=100, penalty=l2, solver=saga, total=   0.2s\n",
      "[CV] C=0.01, class_weight={1: 8}, max_iter=100, penalty=l2, solver=saga \n",
      "[CV]  C=0.01, class_weight={1: 8}, max_iter=100, penalty=l2, solver=saga, total=   0.2s\n",
      "[CV] C=0.01, class_weight={1: 8}, max_iter=100, penalty=l2, solver=saga \n"
     ]
    },
    {
     "name": "stderr",
     "output_type": "stream",
     "text": [
      "C:\\Users\\tsuts\\anaconda3\\lib\\site-packages\\sklearn\\linear_model\\_sag.py:329: ConvergenceWarning: The max_iter was reached which means the coef_ did not converge\n",
      "  warnings.warn(\"The max_iter was reached which means \"\n",
      "C:\\Users\\tsuts\\anaconda3\\lib\\site-packages\\sklearn\\linear_model\\_sag.py:329: ConvergenceWarning: The max_iter was reached which means the coef_ did not converge\n",
      "  warnings.warn(\"The max_iter was reached which means \"\n"
     ]
    },
    {
     "name": "stdout",
     "output_type": "stream",
     "text": [
      "[CV]  C=0.01, class_weight={1: 8}, max_iter=100, penalty=l2, solver=saga, total=   0.2s\n",
      "[CV] C=0.01, class_weight={1: 8}, max_iter=100, penalty=l2, solver=saga \n",
      "[CV]  C=0.01, class_weight={1: 8}, max_iter=100, penalty=l2, solver=saga, total=   0.2s\n",
      "[CV] C=0.01, class_weight={1: 8}, max_iter=1000, penalty=l1, solver=liblinear \n",
      "[CV]  C=0.01, class_weight={1: 8}, max_iter=1000, penalty=l1, solver=liblinear, total=   0.0s\n",
      "[CV] C=0.01, class_weight={1: 8}, max_iter=1000, penalty=l1, solver=liblinear \n",
      "[CV]  C=0.01, class_weight={1: 8}, max_iter=1000, penalty=l1, solver=liblinear, total=   0.0s\n",
      "[CV] C=0.01, class_weight={1: 8}, max_iter=1000, penalty=l1, solver=liblinear \n",
      "[CV]  C=0.01, class_weight={1: 8}, max_iter=1000, penalty=l1, solver=liblinear, total=   0.0s\n",
      "[CV] C=0.01, class_weight={1: 8}, max_iter=1000, penalty=l1, solver=liblinear \n",
      "[CV]  C=0.01, class_weight={1: 8}, max_iter=1000, penalty=l1, solver=liblinear, total=   0.0s\n",
      "[CV] C=0.01, class_weight={1: 8}, max_iter=1000, penalty=l1, solver=liblinear \n",
      "[CV]  C=0.01, class_weight={1: 8}, max_iter=1000, penalty=l1, solver=liblinear, total=   0.0s\n",
      "[CV] C=0.01, class_weight={1: 8}, max_iter=1000, penalty=l1, solver=liblinear \n",
      "[CV]  C=0.01, class_weight={1: 8}, max_iter=1000, penalty=l1, solver=liblinear, total=   0.0s\n",
      "[CV] C=0.01, class_weight={1: 8}, max_iter=1000, penalty=l1, solver=liblinear \n",
      "[CV]  C=0.01, class_weight={1: 8}, max_iter=1000, penalty=l1, solver=liblinear, total=   0.0s\n",
      "[CV] C=0.01, class_weight={1: 8}, max_iter=1000, penalty=l1, solver=liblinear \n",
      "[CV]  C=0.01, class_weight={1: 8}, max_iter=1000, penalty=l1, solver=liblinear, total=   0.0s\n",
      "[CV] C=0.01, class_weight={1: 8}, max_iter=1000, penalty=l1, solver=liblinear \n",
      "[CV]  C=0.01, class_weight={1: 8}, max_iter=1000, penalty=l1, solver=liblinear, total=   0.0s\n",
      "[CV] C=0.01, class_weight={1: 8}, max_iter=1000, penalty=l1, solver=liblinear \n",
      "[CV]  C=0.01, class_weight={1: 8}, max_iter=1000, penalty=l1, solver=liblinear, total=   0.0s\n",
      "[CV] C=0.01, class_weight={1: 8}, max_iter=1000, penalty=l1, solver=saga \n"
     ]
    },
    {
     "name": "stderr",
     "output_type": "stream",
     "text": [
      "C:\\Users\\tsuts\\anaconda3\\lib\\site-packages\\sklearn\\linear_model\\_sag.py:329: ConvergenceWarning: The max_iter was reached which means the coef_ did not converge\n",
      "  warnings.warn(\"The max_iter was reached which means \"\n"
     ]
    },
    {
     "name": "stdout",
     "output_type": "stream",
     "text": [
      "[CV]  C=0.01, class_weight={1: 8}, max_iter=1000, penalty=l1, solver=saga, total=   2.1s\n",
      "[CV] C=0.01, class_weight={1: 8}, max_iter=1000, penalty=l1, solver=saga \n",
      "[CV]  C=0.01, class_weight={1: 8}, max_iter=1000, penalty=l1, solver=saga, total=   0.1s\n",
      "[CV] C=0.01, class_weight={1: 8}, max_iter=1000, penalty=l1, solver=saga \n"
     ]
    },
    {
     "name": "stderr",
     "output_type": "stream",
     "text": [
      "C:\\Users\\tsuts\\anaconda3\\lib\\site-packages\\sklearn\\linear_model\\_sag.py:329: ConvergenceWarning: The max_iter was reached which means the coef_ did not converge\n",
      "  warnings.warn(\"The max_iter was reached which means \"\n"
     ]
    },
    {
     "name": "stdout",
     "output_type": "stream",
     "text": [
      "[CV]  C=0.01, class_weight={1: 8}, max_iter=1000, penalty=l1, solver=saga, total=   2.1s\n",
      "[CV] C=0.01, class_weight={1: 8}, max_iter=1000, penalty=l1, solver=saga \n",
      "[CV]  C=0.01, class_weight={1: 8}, max_iter=1000, penalty=l1, solver=saga, total=   0.3s\n",
      "[CV] C=0.01, class_weight={1: 8}, max_iter=1000, penalty=l1, solver=saga \n"
     ]
    },
    {
     "name": "stderr",
     "output_type": "stream",
     "text": [
      "C:\\Users\\tsuts\\anaconda3\\lib\\site-packages\\sklearn\\linear_model\\_sag.py:329: ConvergenceWarning: The max_iter was reached which means the coef_ did not converge\n",
      "  warnings.warn(\"The max_iter was reached which means \"\n"
     ]
    },
    {
     "name": "stdout",
     "output_type": "stream",
     "text": [
      "[CV]  C=0.01, class_weight={1: 8}, max_iter=1000, penalty=l1, solver=saga, total=   2.1s\n",
      "[CV] C=0.01, class_weight={1: 8}, max_iter=1000, penalty=l1, solver=saga \n"
     ]
    },
    {
     "name": "stderr",
     "output_type": "stream",
     "text": [
      "C:\\Users\\tsuts\\anaconda3\\lib\\site-packages\\sklearn\\linear_model\\_sag.py:329: ConvergenceWarning: The max_iter was reached which means the coef_ did not converge\n",
      "  warnings.warn(\"The max_iter was reached which means \"\n"
     ]
    },
    {
     "name": "stdout",
     "output_type": "stream",
     "text": [
      "[CV]  C=0.01, class_weight={1: 8}, max_iter=1000, penalty=l1, solver=saga, total=   2.3s\n",
      "[CV] C=0.01, class_weight={1: 8}, max_iter=1000, penalty=l1, solver=saga \n"
     ]
    },
    {
     "name": "stderr",
     "output_type": "stream",
     "text": [
      "C:\\Users\\tsuts\\anaconda3\\lib\\site-packages\\sklearn\\linear_model\\_sag.py:329: ConvergenceWarning: The max_iter was reached which means the coef_ did not converge\n",
      "  warnings.warn(\"The max_iter was reached which means \"\n"
     ]
    },
    {
     "name": "stdout",
     "output_type": "stream",
     "text": [
      "[CV]  C=0.01, class_weight={1: 8}, max_iter=1000, penalty=l1, solver=saga, total=   2.1s\n",
      "[CV] C=0.01, class_weight={1: 8}, max_iter=1000, penalty=l1, solver=saga \n"
     ]
    },
    {
     "name": "stderr",
     "output_type": "stream",
     "text": [
      "C:\\Users\\tsuts\\anaconda3\\lib\\site-packages\\sklearn\\linear_model\\_sag.py:329: ConvergenceWarning: The max_iter was reached which means the coef_ did not converge\n",
      "  warnings.warn(\"The max_iter was reached which means \"\n"
     ]
    },
    {
     "name": "stdout",
     "output_type": "stream",
     "text": [
      "[CV]  C=0.01, class_weight={1: 8}, max_iter=1000, penalty=l1, solver=saga, total=   2.1s\n",
      "[CV] C=0.01, class_weight={1: 8}, max_iter=1000, penalty=l1, solver=saga \n",
      "[CV]  C=0.01, class_weight={1: 8}, max_iter=1000, penalty=l1, solver=saga, total=   0.2s\n",
      "[CV] C=0.01, class_weight={1: 8}, max_iter=1000, penalty=l1, solver=saga \n",
      "[CV]  C=0.01, class_weight={1: 8}, max_iter=1000, penalty=l1, solver=saga, total=   0.4s\n",
      "[CV] C=0.01, class_weight={1: 8}, max_iter=1000, penalty=l2, solver=liblinear \n",
      "[CV]  C=0.01, class_weight={1: 8}, max_iter=1000, penalty=l2, solver=liblinear, total=   0.0s\n",
      "[CV] C=0.01, class_weight={1: 8}, max_iter=1000, penalty=l2, solver=liblinear \n",
      "[CV]  C=0.01, class_weight={1: 8}, max_iter=1000, penalty=l2, solver=liblinear, total=   0.0s\n",
      "[CV] C=0.01, class_weight={1: 8}, max_iter=1000, penalty=l2, solver=liblinear \n",
      "[CV]  C=0.01, class_weight={1: 8}, max_iter=1000, penalty=l2, solver=liblinear, total=   0.0s\n",
      "[CV] C=0.01, class_weight={1: 8}, max_iter=1000, penalty=l2, solver=liblinear \n",
      "[CV]  C=0.01, class_weight={1: 8}, max_iter=1000, penalty=l2, solver=liblinear, total=   0.0s\n",
      "[CV] C=0.01, class_weight={1: 8}, max_iter=1000, penalty=l2, solver=liblinear \n",
      "[CV]  C=0.01, class_weight={1: 8}, max_iter=1000, penalty=l2, solver=liblinear, total=   0.0s\n",
      "[CV] C=0.01, class_weight={1: 8}, max_iter=1000, penalty=l2, solver=liblinear \n",
      "[CV]  C=0.01, class_weight={1: 8}, max_iter=1000, penalty=l2, solver=liblinear, total=   0.0s\n",
      "[CV] C=0.01, class_weight={1: 8}, max_iter=1000, penalty=l2, solver=liblinear \n",
      "[CV]  C=0.01, class_weight={1: 8}, max_iter=1000, penalty=l2, solver=liblinear, total=   0.0s\n",
      "[CV] C=0.01, class_weight={1: 8}, max_iter=1000, penalty=l2, solver=liblinear \n",
      "[CV]  C=0.01, class_weight={1: 8}, max_iter=1000, penalty=l2, solver=liblinear, total=   0.0s\n",
      "[CV] C=0.01, class_weight={1: 8}, max_iter=1000, penalty=l2, solver=liblinear \n",
      "[CV]  C=0.01, class_weight={1: 8}, max_iter=1000, penalty=l2, solver=liblinear, total=   0.0s\n",
      "[CV] C=0.01, class_weight={1: 8}, max_iter=1000, penalty=l2, solver=liblinear \n",
      "[CV]  C=0.01, class_weight={1: 8}, max_iter=1000, penalty=l2, solver=liblinear, total=   0.0s\n",
      "[CV] C=0.01, class_weight={1: 8}, max_iter=1000, penalty=l2, solver=saga \n"
     ]
    },
    {
     "name": "stderr",
     "output_type": "stream",
     "text": [
      "C:\\Users\\tsuts\\anaconda3\\lib\\site-packages\\sklearn\\linear_model\\_sag.py:329: ConvergenceWarning: The max_iter was reached which means the coef_ did not converge\n",
      "  warnings.warn(\"The max_iter was reached which means \"\n"
     ]
    },
    {
     "name": "stdout",
     "output_type": "stream",
     "text": [
      "[CV]  C=0.01, class_weight={1: 8}, max_iter=1000, penalty=l2, solver=saga, total=   1.7s\n",
      "[CV] C=0.01, class_weight={1: 8}, max_iter=1000, penalty=l2, solver=saga \n"
     ]
    },
    {
     "name": "stderr",
     "output_type": "stream",
     "text": [
      "C:\\Users\\tsuts\\anaconda3\\lib\\site-packages\\sklearn\\linear_model\\_sag.py:329: ConvergenceWarning: The max_iter was reached which means the coef_ did not converge\n",
      "  warnings.warn(\"The max_iter was reached which means \"\n"
     ]
    },
    {
     "name": "stdout",
     "output_type": "stream",
     "text": [
      "[CV]  C=0.01, class_weight={1: 8}, max_iter=1000, penalty=l2, solver=saga, total=   1.7s\n",
      "[CV] C=0.01, class_weight={1: 8}, max_iter=1000, penalty=l2, solver=saga \n"
     ]
    },
    {
     "name": "stderr",
     "output_type": "stream",
     "text": [
      "C:\\Users\\tsuts\\anaconda3\\lib\\site-packages\\sklearn\\linear_model\\_sag.py:329: ConvergenceWarning: The max_iter was reached which means the coef_ did not converge\n",
      "  warnings.warn(\"The max_iter was reached which means \"\n"
     ]
    },
    {
     "name": "stdout",
     "output_type": "stream",
     "text": [
      "[CV]  C=0.01, class_weight={1: 8}, max_iter=1000, penalty=l2, solver=saga, total=   1.7s\n",
      "[CV] C=0.01, class_weight={1: 8}, max_iter=1000, penalty=l2, solver=saga \n"
     ]
    },
    {
     "name": "stderr",
     "output_type": "stream",
     "text": [
      "C:\\Users\\tsuts\\anaconda3\\lib\\site-packages\\sklearn\\linear_model\\_sag.py:329: ConvergenceWarning: The max_iter was reached which means the coef_ did not converge\n",
      "  warnings.warn(\"The max_iter was reached which means \"\n"
     ]
    },
    {
     "name": "stdout",
     "output_type": "stream",
     "text": [
      "[CV]  C=0.01, class_weight={1: 8}, max_iter=1000, penalty=l2, solver=saga, total=   1.7s\n",
      "[CV] C=0.01, class_weight={1: 8}, max_iter=1000, penalty=l2, solver=saga \n"
     ]
    },
    {
     "name": "stderr",
     "output_type": "stream",
     "text": [
      "C:\\Users\\tsuts\\anaconda3\\lib\\site-packages\\sklearn\\linear_model\\_sag.py:329: ConvergenceWarning: The max_iter was reached which means the coef_ did not converge\n",
      "  warnings.warn(\"The max_iter was reached which means \"\n"
     ]
    },
    {
     "name": "stdout",
     "output_type": "stream",
     "text": [
      "[CV]  C=0.01, class_weight={1: 8}, max_iter=1000, penalty=l2, solver=saga, total=   1.7s\n",
      "[CV] C=0.01, class_weight={1: 8}, max_iter=1000, penalty=l2, solver=saga \n"
     ]
    },
    {
     "name": "stderr",
     "output_type": "stream",
     "text": [
      "C:\\Users\\tsuts\\anaconda3\\lib\\site-packages\\sklearn\\linear_model\\_sag.py:329: ConvergenceWarning: The max_iter was reached which means the coef_ did not converge\n",
      "  warnings.warn(\"The max_iter was reached which means \"\n"
     ]
    },
    {
     "name": "stdout",
     "output_type": "stream",
     "text": [
      "[CV]  C=0.01, class_weight={1: 8}, max_iter=1000, penalty=l2, solver=saga, total=   1.7s\n",
      "[CV] C=0.01, class_weight={1: 8}, max_iter=1000, penalty=l2, solver=saga \n"
     ]
    },
    {
     "name": "stderr",
     "output_type": "stream",
     "text": [
      "C:\\Users\\tsuts\\anaconda3\\lib\\site-packages\\sklearn\\linear_model\\_sag.py:329: ConvergenceWarning: The max_iter was reached which means the coef_ did not converge\n",
      "  warnings.warn(\"The max_iter was reached which means \"\n"
     ]
    },
    {
     "name": "stdout",
     "output_type": "stream",
     "text": [
      "[CV]  C=0.01, class_weight={1: 8}, max_iter=1000, penalty=l2, solver=saga, total=   1.7s\n",
      "[CV] C=0.01, class_weight={1: 8}, max_iter=1000, penalty=l2, solver=saga \n"
     ]
    },
    {
     "name": "stderr",
     "output_type": "stream",
     "text": [
      "C:\\Users\\tsuts\\anaconda3\\lib\\site-packages\\sklearn\\linear_model\\_sag.py:329: ConvergenceWarning: The max_iter was reached which means the coef_ did not converge\n",
      "  warnings.warn(\"The max_iter was reached which means \"\n"
     ]
    },
    {
     "name": "stdout",
     "output_type": "stream",
     "text": [
      "[CV]  C=0.01, class_weight={1: 8}, max_iter=1000, penalty=l2, solver=saga, total=   1.7s\n",
      "[CV] C=0.01, class_weight={1: 8}, max_iter=1000, penalty=l2, solver=saga \n",
      "[CV]  C=0.01, class_weight={1: 8}, max_iter=1000, penalty=l2, solver=saga, total=   1.0s\n",
      "[CV] C=0.01, class_weight={1: 8}, max_iter=1000, penalty=l2, solver=saga \n"
     ]
    },
    {
     "name": "stderr",
     "output_type": "stream",
     "text": [
      "C:\\Users\\tsuts\\anaconda3\\lib\\site-packages\\sklearn\\linear_model\\_sag.py:329: ConvergenceWarning: The max_iter was reached which means the coef_ did not converge\n",
      "  warnings.warn(\"The max_iter was reached which means \"\n",
      "[Parallel(n_jobs=1)]: Done 160 out of 160 | elapsed:  1.3min finished\n",
      "[Parallel(n_jobs=1)]: Using backend SequentialBackend with 1 concurrent workers.\n",
      "[Parallel(n_jobs=1)]: Done   1 out of   1 | elapsed:    0.0s remaining:    0.0s\n"
     ]
    },
    {
     "name": "stdout",
     "output_type": "stream",
     "text": [
      "[CV]  C=0.01, class_weight={1: 8}, max_iter=1000, penalty=l2, solver=saga, total=   1.7s\n",
      "Fitting 10 folds for each of 16 candidates, totalling 160 fits\n",
      "[CV] C=0.01, class_weight={1: 25}, max_iter=100, penalty=l1, solver=liblinear \n",
      "[CV]  C=0.01, class_weight={1: 25}, max_iter=100, penalty=l1, solver=liblinear, total=   0.0s\n",
      "[CV] C=0.01, class_weight={1: 25}, max_iter=100, penalty=l1, solver=liblinear \n",
      "[CV]  C=0.01, class_weight={1: 25}, max_iter=100, penalty=l1, solver=liblinear, total=   0.0s\n",
      "[CV] C=0.01, class_weight={1: 25}, max_iter=100, penalty=l1, solver=liblinear \n",
      "[CV]  C=0.01, class_weight={1: 25}, max_iter=100, penalty=l1, solver=liblinear, total=   0.0s\n",
      "[CV] C=0.01, class_weight={1: 25}, max_iter=100, penalty=l1, solver=liblinear \n",
      "[CV]  C=0.01, class_weight={1: 25}, max_iter=100, penalty=l1, solver=liblinear, total=   0.0s\n",
      "[CV] C=0.01, class_weight={1: 25}, max_iter=100, penalty=l1, solver=liblinear \n",
      "[CV]  C=0.01, class_weight={1: 25}, max_iter=100, penalty=l1, solver=liblinear, total=   0.0s\n",
      "[CV] C=0.01, class_weight={1: 25}, max_iter=100, penalty=l1, solver=liblinear \n",
      "[CV]  C=0.01, class_weight={1: 25}, max_iter=100, penalty=l1, solver=liblinear, total=   0.0s\n",
      "[CV] C=0.01, class_weight={1: 25}, max_iter=100, penalty=l1, solver=liblinear \n",
      "[CV]  C=0.01, class_weight={1: 25}, max_iter=100, penalty=l1, solver=liblinear, total=   0.0s\n",
      "[CV] C=0.01, class_weight={1: 25}, max_iter=100, penalty=l1, solver=liblinear \n",
      "[CV]  C=0.01, class_weight={1: 25}, max_iter=100, penalty=l1, solver=liblinear, total=   0.0s\n",
      "[CV] C=0.01, class_weight={1: 25}, max_iter=100, penalty=l1, solver=liblinear \n",
      "[CV]  C=0.01, class_weight={1: 25}, max_iter=100, penalty=l1, solver=liblinear, total=   0.0s\n",
      "[CV] C=0.01, class_weight={1: 25}, max_iter=100, penalty=l1, solver=liblinear \n",
      "[CV]  C=0.01, class_weight={1: 25}, max_iter=100, penalty=l1, solver=liblinear, total=   0.0s\n",
      "[CV] C=0.01, class_weight={1: 25}, max_iter=100, penalty=l1, solver=saga \n",
      "[CV]  C=0.01, class_weight={1: 25}, max_iter=100, penalty=l1, solver=saga, total=   0.1s\n",
      "[CV] C=0.01, class_weight={1: 25}, max_iter=100, penalty=l1, solver=saga \n",
      "[CV]  C=0.01, class_weight={1: 25}, max_iter=100, penalty=l1, solver=saga, total=   0.0s\n",
      "[CV] C=0.01, class_weight={1: 25}, max_iter=100, penalty=l1, solver=saga \n",
      "[CV]  C=0.01, class_weight={1: 25}, max_iter=100, penalty=l1, solver=saga, total=   0.1s\n",
      "[CV] C=0.01, class_weight={1: 25}, max_iter=100, penalty=l1, solver=saga \n",
      "[CV]  C=0.01, class_weight={1: 25}, max_iter=100, penalty=l1, solver=saga, total=   0.1s\n",
      "[CV] C=0.01, class_weight={1: 25}, max_iter=100, penalty=l1, solver=saga \n",
      "[CV]  C=0.01, class_weight={1: 25}, max_iter=100, penalty=l1, solver=saga, total=   0.0s\n",
      "[CV] C=0.01, class_weight={1: 25}, max_iter=100, penalty=l1, solver=saga \n"
     ]
    },
    {
     "name": "stderr",
     "output_type": "stream",
     "text": [
      "C:\\Users\\tsuts\\anaconda3\\lib\\site-packages\\sklearn\\linear_model\\_sag.py:329: ConvergenceWarning: The max_iter was reached which means the coef_ did not converge\n",
      "  warnings.warn(\"The max_iter was reached which means \"\n"
     ]
    },
    {
     "name": "stdout",
     "output_type": "stream",
     "text": [
      "[CV]  C=0.01, class_weight={1: 25}, max_iter=100, penalty=l1, solver=saga, total=   0.2s\n",
      "[CV] C=0.01, class_weight={1: 25}, max_iter=100, penalty=l1, solver=saga \n",
      "[CV]  C=0.01, class_weight={1: 25}, max_iter=100, penalty=l1, solver=saga, total=   0.0s\n",
      "[CV] C=0.01, class_weight={1: 25}, max_iter=100, penalty=l1, solver=saga \n",
      "[CV]  C=0.01, class_weight={1: 25}, max_iter=100, penalty=l1, solver=saga, total=   0.0s\n",
      "[CV] C=0.01, class_weight={1: 25}, max_iter=100, penalty=l1, solver=saga \n",
      "[CV]  C=0.01, class_weight={1: 25}, max_iter=100, penalty=l1, solver=saga, total=   0.0s\n",
      "[CV] C=0.01, class_weight={1: 25}, max_iter=100, penalty=l1, solver=saga \n",
      "[CV]  C=0.01, class_weight={1: 25}, max_iter=100, penalty=l1, solver=saga, total=   0.0s\n",
      "[CV] C=0.01, class_weight={1: 25}, max_iter=100, penalty=l2, solver=liblinear \n",
      "[CV]  C=0.01, class_weight={1: 25}, max_iter=100, penalty=l2, solver=liblinear, total=   0.0s\n",
      "[CV] C=0.01, class_weight={1: 25}, max_iter=100, penalty=l2, solver=liblinear \n",
      "[CV]  C=0.01, class_weight={1: 25}, max_iter=100, penalty=l2, solver=liblinear, total=   0.0s\n",
      "[CV] C=0.01, class_weight={1: 25}, max_iter=100, penalty=l2, solver=liblinear \n",
      "[CV]  C=0.01, class_weight={1: 25}, max_iter=100, penalty=l2, solver=liblinear, total=   0.0s\n",
      "[CV] C=0.01, class_weight={1: 25}, max_iter=100, penalty=l2, solver=liblinear \n",
      "[CV]  C=0.01, class_weight={1: 25}, max_iter=100, penalty=l2, solver=liblinear, total=   0.0s\n",
      "[CV] C=0.01, class_weight={1: 25}, max_iter=100, penalty=l2, solver=liblinear \n",
      "[CV]  C=0.01, class_weight={1: 25}, max_iter=100, penalty=l2, solver=liblinear, total=   0.0s\n",
      "[CV] C=0.01, class_weight={1: 25}, max_iter=100, penalty=l2, solver=liblinear \n",
      "[CV]  C=0.01, class_weight={1: 25}, max_iter=100, penalty=l2, solver=liblinear, total=   0.0s\n",
      "[CV] C=0.01, class_weight={1: 25}, max_iter=100, penalty=l2, solver=liblinear \n",
      "[CV]  C=0.01, class_weight={1: 25}, max_iter=100, penalty=l2, solver=liblinear, total=   0.0s\n",
      "[CV] C=0.01, class_weight={1: 25}, max_iter=100, penalty=l2, solver=liblinear \n",
      "[CV]  C=0.01, class_weight={1: 25}, max_iter=100, penalty=l2, solver=liblinear, total=   0.0s\n",
      "[CV] C=0.01, class_weight={1: 25}, max_iter=100, penalty=l2, solver=liblinear \n",
      "[CV]  C=0.01, class_weight={1: 25}, max_iter=100, penalty=l2, solver=liblinear, total=   0.0s\n",
      "[CV] C=0.01, class_weight={1: 25}, max_iter=100, penalty=l2, solver=liblinear \n",
      "[CV]  C=0.01, class_weight={1: 25}, max_iter=100, penalty=l2, solver=liblinear, total=   0.0s\n",
      "[CV] C=0.01, class_weight={1: 25}, max_iter=100, penalty=l2, solver=saga \n"
     ]
    },
    {
     "name": "stderr",
     "output_type": "stream",
     "text": [
      "C:\\Users\\tsuts\\anaconda3\\lib\\site-packages\\sklearn\\linear_model\\_sag.py:329: ConvergenceWarning: The max_iter was reached which means the coef_ did not converge\n",
      "  warnings.warn(\"The max_iter was reached which means \"\n",
      "C:\\Users\\tsuts\\anaconda3\\lib\\site-packages\\sklearn\\linear_model\\_sag.py:329: ConvergenceWarning: The max_iter was reached which means the coef_ did not converge\n",
      "  warnings.warn(\"The max_iter was reached which means \"\n"
     ]
    },
    {
     "name": "stdout",
     "output_type": "stream",
     "text": [
      "[CV]  C=0.01, class_weight={1: 25}, max_iter=100, penalty=l2, solver=saga, total=   0.2s\n",
      "[CV] C=0.01, class_weight={1: 25}, max_iter=100, penalty=l2, solver=saga \n",
      "[CV]  C=0.01, class_weight={1: 25}, max_iter=100, penalty=l2, solver=saga, total=   0.2s\n",
      "[CV] C=0.01, class_weight={1: 25}, max_iter=100, penalty=l2, solver=saga \n"
     ]
    },
    {
     "name": "stderr",
     "output_type": "stream",
     "text": [
      "C:\\Users\\tsuts\\anaconda3\\lib\\site-packages\\sklearn\\linear_model\\_sag.py:329: ConvergenceWarning: The max_iter was reached which means the coef_ did not converge\n",
      "  warnings.warn(\"The max_iter was reached which means \"\n",
      "C:\\Users\\tsuts\\anaconda3\\lib\\site-packages\\sklearn\\linear_model\\_sag.py:329: ConvergenceWarning: The max_iter was reached which means the coef_ did not converge\n",
      "  warnings.warn(\"The max_iter was reached which means \"\n"
     ]
    },
    {
     "name": "stdout",
     "output_type": "stream",
     "text": [
      "[CV]  C=0.01, class_weight={1: 25}, max_iter=100, penalty=l2, solver=saga, total=   0.2s\n",
      "[CV] C=0.01, class_weight={1: 25}, max_iter=100, penalty=l2, solver=saga \n",
      "[CV]  C=0.01, class_weight={1: 25}, max_iter=100, penalty=l2, solver=saga, total=   0.2s\n",
      "[CV] C=0.01, class_weight={1: 25}, max_iter=100, penalty=l2, solver=saga \n"
     ]
    },
    {
     "name": "stderr",
     "output_type": "stream",
     "text": [
      "C:\\Users\\tsuts\\anaconda3\\lib\\site-packages\\sklearn\\linear_model\\_sag.py:329: ConvergenceWarning: The max_iter was reached which means the coef_ did not converge\n",
      "  warnings.warn(\"The max_iter was reached which means \"\n",
      "C:\\Users\\tsuts\\anaconda3\\lib\\site-packages\\sklearn\\linear_model\\_sag.py:329: ConvergenceWarning: The max_iter was reached which means the coef_ did not converge\n",
      "  warnings.warn(\"The max_iter was reached which means \"\n"
     ]
    },
    {
     "name": "stdout",
     "output_type": "stream",
     "text": [
      "[CV]  C=0.01, class_weight={1: 25}, max_iter=100, penalty=l2, solver=saga, total=   0.2s\n",
      "[CV] C=0.01, class_weight={1: 25}, max_iter=100, penalty=l2, solver=saga \n",
      "[CV]  C=0.01, class_weight={1: 25}, max_iter=100, penalty=l2, solver=saga, total=   0.2s\n",
      "[CV] C=0.01, class_weight={1: 25}, max_iter=100, penalty=l2, solver=saga \n"
     ]
    },
    {
     "name": "stderr",
     "output_type": "stream",
     "text": [
      "C:\\Users\\tsuts\\anaconda3\\lib\\site-packages\\sklearn\\linear_model\\_sag.py:329: ConvergenceWarning: The max_iter was reached which means the coef_ did not converge\n",
      "  warnings.warn(\"The max_iter was reached which means \"\n",
      "C:\\Users\\tsuts\\anaconda3\\lib\\site-packages\\sklearn\\linear_model\\_sag.py:329: ConvergenceWarning: The max_iter was reached which means the coef_ did not converge\n",
      "  warnings.warn(\"The max_iter was reached which means \"\n"
     ]
    },
    {
     "name": "stdout",
     "output_type": "stream",
     "text": [
      "[CV]  C=0.01, class_weight={1: 25}, max_iter=100, penalty=l2, solver=saga, total=   0.2s\n",
      "[CV] C=0.01, class_weight={1: 25}, max_iter=100, penalty=l2, solver=saga \n",
      "[CV]  C=0.01, class_weight={1: 25}, max_iter=100, penalty=l2, solver=saga, total=   0.2s\n",
      "[CV] C=0.01, class_weight={1: 25}, max_iter=100, penalty=l2, solver=saga \n"
     ]
    },
    {
     "name": "stderr",
     "output_type": "stream",
     "text": [
      "C:\\Users\\tsuts\\anaconda3\\lib\\site-packages\\sklearn\\linear_model\\_sag.py:329: ConvergenceWarning: The max_iter was reached which means the coef_ did not converge\n",
      "  warnings.warn(\"The max_iter was reached which means \"\n",
      "C:\\Users\\tsuts\\anaconda3\\lib\\site-packages\\sklearn\\linear_model\\_sag.py:329: ConvergenceWarning: The max_iter was reached which means the coef_ did not converge\n",
      "  warnings.warn(\"The max_iter was reached which means \"\n"
     ]
    },
    {
     "name": "stdout",
     "output_type": "stream",
     "text": [
      "[CV]  C=0.01, class_weight={1: 25}, max_iter=100, penalty=l2, solver=saga, total=   0.2s\n",
      "[CV] C=0.01, class_weight={1: 25}, max_iter=100, penalty=l2, solver=saga \n",
      "[CV]  C=0.01, class_weight={1: 25}, max_iter=100, penalty=l2, solver=saga, total=   0.2s\n",
      "[CV] C=0.01, class_weight={1: 25}, max_iter=1000, penalty=l1, solver=liblinear \n",
      "[CV]  C=0.01, class_weight={1: 25}, max_iter=1000, penalty=l1, solver=liblinear, total=   0.0s\n",
      "[CV] C=0.01, class_weight={1: 25}, max_iter=1000, penalty=l1, solver=liblinear \n",
      "[CV]  C=0.01, class_weight={1: 25}, max_iter=1000, penalty=l1, solver=liblinear, total=   0.0s\n",
      "[CV] C=0.01, class_weight={1: 25}, max_iter=1000, penalty=l1, solver=liblinear \n",
      "[CV]  C=0.01, class_weight={1: 25}, max_iter=1000, penalty=l1, solver=liblinear, total=   0.0s\n",
      "[CV] C=0.01, class_weight={1: 25}, max_iter=1000, penalty=l1, solver=liblinear \n",
      "[CV]  C=0.01, class_weight={1: 25}, max_iter=1000, penalty=l1, solver=liblinear, total=   0.0s\n",
      "[CV] C=0.01, class_weight={1: 25}, max_iter=1000, penalty=l1, solver=liblinear \n",
      "[CV]  C=0.01, class_weight={1: 25}, max_iter=1000, penalty=l1, solver=liblinear, total=   0.0s\n",
      "[CV] C=0.01, class_weight={1: 25}, max_iter=1000, penalty=l1, solver=liblinear \n",
      "[CV]  C=0.01, class_weight={1: 25}, max_iter=1000, penalty=l1, solver=liblinear, total=   0.0s\n",
      "[CV] C=0.01, class_weight={1: 25}, max_iter=1000, penalty=l1, solver=liblinear \n",
      "[CV]  C=0.01, class_weight={1: 25}, max_iter=1000, penalty=l1, solver=liblinear, total=   0.0s\n",
      "[CV] C=0.01, class_weight={1: 25}, max_iter=1000, penalty=l1, solver=liblinear \n",
      "[CV]  C=0.01, class_weight={1: 25}, max_iter=1000, penalty=l1, solver=liblinear, total=   0.0s\n",
      "[CV] C=0.01, class_weight={1: 25}, max_iter=1000, penalty=l1, solver=liblinear \n",
      "[CV]  C=0.01, class_weight={1: 25}, max_iter=1000, penalty=l1, solver=liblinear, total=   0.0s\n",
      "[CV] C=0.01, class_weight={1: 25}, max_iter=1000, penalty=l1, solver=liblinear \n",
      "[CV]  C=0.01, class_weight={1: 25}, max_iter=1000, penalty=l1, solver=liblinear, total=   0.0s\n",
      "[CV] C=0.01, class_weight={1: 25}, max_iter=1000, penalty=l1, solver=saga \n",
      "[CV]  C=0.01, class_weight={1: 25}, max_iter=1000, penalty=l1, solver=saga, total=   0.1s\n",
      "[CV] C=0.01, class_weight={1: 25}, max_iter=1000, penalty=l1, solver=saga \n",
      "[CV]  C=0.01, class_weight={1: 25}, max_iter=1000, penalty=l1, solver=saga, total=   0.1s\n",
      "[CV] C=0.01, class_weight={1: 25}, max_iter=1000, penalty=l1, solver=saga \n",
      "[CV]  C=0.01, class_weight={1: 25}, max_iter=1000, penalty=l1, solver=saga, total=   0.1s\n",
      "[CV] C=0.01, class_weight={1: 25}, max_iter=1000, penalty=l1, solver=saga \n",
      "[CV]  C=0.01, class_weight={1: 25}, max_iter=1000, penalty=l1, solver=saga, total=   0.1s\n",
      "[CV] C=0.01, class_weight={1: 25}, max_iter=1000, penalty=l1, solver=saga \n",
      "[CV]  C=0.01, class_weight={1: 25}, max_iter=1000, penalty=l1, solver=saga, total=   0.0s\n",
      "[CV] C=0.01, class_weight={1: 25}, max_iter=1000, penalty=l1, solver=saga \n"
     ]
    },
    {
     "name": "stderr",
     "output_type": "stream",
     "text": [
      "C:\\Users\\tsuts\\anaconda3\\lib\\site-packages\\sklearn\\linear_model\\_sag.py:329: ConvergenceWarning: The max_iter was reached which means the coef_ did not converge\n",
      "  warnings.warn(\"The max_iter was reached which means \"\n"
     ]
    },
    {
     "name": "stdout",
     "output_type": "stream",
     "text": [
      "[CV]  C=0.01, class_weight={1: 25}, max_iter=1000, penalty=l1, solver=saga, total=   2.4s\n",
      "[CV] C=0.01, class_weight={1: 25}, max_iter=1000, penalty=l1, solver=saga \n",
      "[CV]  C=0.01, class_weight={1: 25}, max_iter=1000, penalty=l1, solver=saga, total=   0.0s\n",
      "[CV] C=0.01, class_weight={1: 25}, max_iter=1000, penalty=l1, solver=saga \n",
      "[CV]  C=0.01, class_weight={1: 25}, max_iter=1000, penalty=l1, solver=saga, total=   0.1s\n",
      "[CV] C=0.01, class_weight={1: 25}, max_iter=1000, penalty=l1, solver=saga \n",
      "[CV]  C=0.01, class_weight={1: 25}, max_iter=1000, penalty=l1, solver=saga, total=   0.0s\n",
      "[CV] C=0.01, class_weight={1: 25}, max_iter=1000, penalty=l1, solver=saga \n",
      "[CV]  C=0.01, class_weight={1: 25}, max_iter=1000, penalty=l1, solver=saga, total=   0.0s\n",
      "[CV] C=0.01, class_weight={1: 25}, max_iter=1000, penalty=l2, solver=liblinear \n",
      "[CV]  C=0.01, class_weight={1: 25}, max_iter=1000, penalty=l2, solver=liblinear, total=   0.0s\n",
      "[CV] C=0.01, class_weight={1: 25}, max_iter=1000, penalty=l2, solver=liblinear \n",
      "[CV]  C=0.01, class_weight={1: 25}, max_iter=1000, penalty=l2, solver=liblinear, total=   0.0s\n",
      "[CV] C=0.01, class_weight={1: 25}, max_iter=1000, penalty=l2, solver=liblinear \n",
      "[CV]  C=0.01, class_weight={1: 25}, max_iter=1000, penalty=l2, solver=liblinear, total=   0.0s\n",
      "[CV] C=0.01, class_weight={1: 25}, max_iter=1000, penalty=l2, solver=liblinear \n",
      "[CV]  C=0.01, class_weight={1: 25}, max_iter=1000, penalty=l2, solver=liblinear, total=   0.0s\n",
      "[CV] C=0.01, class_weight={1: 25}, max_iter=1000, penalty=l2, solver=liblinear \n",
      "[CV]  C=0.01, class_weight={1: 25}, max_iter=1000, penalty=l2, solver=liblinear, total=   0.0s\n",
      "[CV] C=0.01, class_weight={1: 25}, max_iter=1000, penalty=l2, solver=liblinear \n",
      "[CV]  C=0.01, class_weight={1: 25}, max_iter=1000, penalty=l2, solver=liblinear, total=   0.0s\n",
      "[CV] C=0.01, class_weight={1: 25}, max_iter=1000, penalty=l2, solver=liblinear \n",
      "[CV]  C=0.01, class_weight={1: 25}, max_iter=1000, penalty=l2, solver=liblinear, total=   0.0s\n",
      "[CV] C=0.01, class_weight={1: 25}, max_iter=1000, penalty=l2, solver=liblinear \n",
      "[CV]  C=0.01, class_weight={1: 25}, max_iter=1000, penalty=l2, solver=liblinear, total=   0.0s\n",
      "[CV] C=0.01, class_weight={1: 25}, max_iter=1000, penalty=l2, solver=liblinear \n",
      "[CV]  C=0.01, class_weight={1: 25}, max_iter=1000, penalty=l2, solver=liblinear, total=   0.0s\n",
      "[CV] C=0.01, class_weight={1: 25}, max_iter=1000, penalty=l2, solver=liblinear \n",
      "[CV]  C=0.01, class_weight={1: 25}, max_iter=1000, penalty=l2, solver=liblinear, total=   0.0s\n",
      "[CV] C=0.01, class_weight={1: 25}, max_iter=1000, penalty=l2, solver=saga \n"
     ]
    },
    {
     "name": "stderr",
     "output_type": "stream",
     "text": [
      "C:\\Users\\tsuts\\anaconda3\\lib\\site-packages\\sklearn\\linear_model\\_sag.py:329: ConvergenceWarning: The max_iter was reached which means the coef_ did not converge\n",
      "  warnings.warn(\"The max_iter was reached which means \"\n"
     ]
    },
    {
     "name": "stdout",
     "output_type": "stream",
     "text": [
      "[CV]  C=0.01, class_weight={1: 25}, max_iter=1000, penalty=l2, solver=saga, total=   1.7s\n",
      "[CV] C=0.01, class_weight={1: 25}, max_iter=1000, penalty=l2, solver=saga \n"
     ]
    },
    {
     "name": "stderr",
     "output_type": "stream",
     "text": [
      "C:\\Users\\tsuts\\anaconda3\\lib\\site-packages\\sklearn\\linear_model\\_sag.py:329: ConvergenceWarning: The max_iter was reached which means the coef_ did not converge\n",
      "  warnings.warn(\"The max_iter was reached which means \"\n"
     ]
    },
    {
     "name": "stdout",
     "output_type": "stream",
     "text": [
      "[CV]  C=0.01, class_weight={1: 25}, max_iter=1000, penalty=l2, solver=saga, total=   1.7s\n",
      "[CV] C=0.01, class_weight={1: 25}, max_iter=1000, penalty=l2, solver=saga \n"
     ]
    },
    {
     "name": "stderr",
     "output_type": "stream",
     "text": [
      "C:\\Users\\tsuts\\anaconda3\\lib\\site-packages\\sklearn\\linear_model\\_sag.py:329: ConvergenceWarning: The max_iter was reached which means the coef_ did not converge\n",
      "  warnings.warn(\"The max_iter was reached which means \"\n"
     ]
    },
    {
     "name": "stdout",
     "output_type": "stream",
     "text": [
      "[CV]  C=0.01, class_weight={1: 25}, max_iter=1000, penalty=l2, solver=saga, total=   1.7s\n",
      "[CV] C=0.01, class_weight={1: 25}, max_iter=1000, penalty=l2, solver=saga \n"
     ]
    },
    {
     "name": "stderr",
     "output_type": "stream",
     "text": [
      "C:\\Users\\tsuts\\anaconda3\\lib\\site-packages\\sklearn\\linear_model\\_sag.py:329: ConvergenceWarning: The max_iter was reached which means the coef_ did not converge\n",
      "  warnings.warn(\"The max_iter was reached which means \"\n"
     ]
    },
    {
     "name": "stdout",
     "output_type": "stream",
     "text": [
      "[CV]  C=0.01, class_weight={1: 25}, max_iter=1000, penalty=l2, solver=saga, total=   1.7s\n",
      "[CV] C=0.01, class_weight={1: 25}, max_iter=1000, penalty=l2, solver=saga \n"
     ]
    },
    {
     "name": "stderr",
     "output_type": "stream",
     "text": [
      "C:\\Users\\tsuts\\anaconda3\\lib\\site-packages\\sklearn\\linear_model\\_sag.py:329: ConvergenceWarning: The max_iter was reached which means the coef_ did not converge\n",
      "  warnings.warn(\"The max_iter was reached which means \"\n"
     ]
    },
    {
     "name": "stdout",
     "output_type": "stream",
     "text": [
      "[CV]  C=0.01, class_weight={1: 25}, max_iter=1000, penalty=l2, solver=saga, total=   1.7s\n",
      "[CV] C=0.01, class_weight={1: 25}, max_iter=1000, penalty=l2, solver=saga \n"
     ]
    },
    {
     "name": "stderr",
     "output_type": "stream",
     "text": [
      "C:\\Users\\tsuts\\anaconda3\\lib\\site-packages\\sklearn\\linear_model\\_sag.py:329: ConvergenceWarning: The max_iter was reached which means the coef_ did not converge\n",
      "  warnings.warn(\"The max_iter was reached which means \"\n"
     ]
    },
    {
     "name": "stdout",
     "output_type": "stream",
     "text": [
      "[CV]  C=0.01, class_weight={1: 25}, max_iter=1000, penalty=l2, solver=saga, total=   1.7s\n",
      "[CV] C=0.01, class_weight={1: 25}, max_iter=1000, penalty=l2, solver=saga \n"
     ]
    },
    {
     "name": "stderr",
     "output_type": "stream",
     "text": [
      "C:\\Users\\tsuts\\anaconda3\\lib\\site-packages\\sklearn\\linear_model\\_sag.py:329: ConvergenceWarning: The max_iter was reached which means the coef_ did not converge\n",
      "  warnings.warn(\"The max_iter was reached which means \"\n"
     ]
    },
    {
     "name": "stdout",
     "output_type": "stream",
     "text": [
      "[CV]  C=0.01, class_weight={1: 25}, max_iter=1000, penalty=l2, solver=saga, total=   1.7s\n",
      "[CV] C=0.01, class_weight={1: 25}, max_iter=1000, penalty=l2, solver=saga \n"
     ]
    },
    {
     "name": "stderr",
     "output_type": "stream",
     "text": [
      "C:\\Users\\tsuts\\anaconda3\\lib\\site-packages\\sklearn\\linear_model\\_sag.py:329: ConvergenceWarning: The max_iter was reached which means the coef_ did not converge\n",
      "  warnings.warn(\"The max_iter was reached which means \"\n"
     ]
    },
    {
     "name": "stdout",
     "output_type": "stream",
     "text": [
      "[CV]  C=0.01, class_weight={1: 25}, max_iter=1000, penalty=l2, solver=saga, total=   1.7s\n",
      "[CV] C=0.01, class_weight={1: 25}, max_iter=1000, penalty=l2, solver=saga \n"
     ]
    },
    {
     "name": "stderr",
     "output_type": "stream",
     "text": [
      "C:\\Users\\tsuts\\anaconda3\\lib\\site-packages\\sklearn\\linear_model\\_sag.py:329: ConvergenceWarning: The max_iter was reached which means the coef_ did not converge\n",
      "  warnings.warn(\"The max_iter was reached which means \"\n"
     ]
    },
    {
     "name": "stdout",
     "output_type": "stream",
     "text": [
      "[CV]  C=0.01, class_weight={1: 25}, max_iter=1000, penalty=l2, solver=saga, total=   1.7s\n",
      "[CV] C=0.01, class_weight={1: 25}, max_iter=1000, penalty=l2, solver=saga \n"
     ]
    },
    {
     "name": "stderr",
     "output_type": "stream",
     "text": [
      "C:\\Users\\tsuts\\anaconda3\\lib\\site-packages\\sklearn\\linear_model\\_sag.py:329: ConvergenceWarning: The max_iter was reached which means the coef_ did not converge\n",
      "  warnings.warn(\"The max_iter was reached which means \"\n"
     ]
    },
    {
     "name": "stdout",
     "output_type": "stream",
     "text": [
      "[CV]  C=0.01, class_weight={1: 25}, max_iter=1000, penalty=l2, solver=saga, total=   1.7s\n",
      "[CV] C=0.01, class_weight={1: 8}, max_iter=100, penalty=l1, solver=liblinear \n",
      "[CV]  C=0.01, class_weight={1: 8}, max_iter=100, penalty=l1, solver=liblinear, total=   0.0s\n",
      "[CV] C=0.01, class_weight={1: 8}, max_iter=100, penalty=l1, solver=liblinear \n",
      "[CV]  C=0.01, class_weight={1: 8}, max_iter=100, penalty=l1, solver=liblinear, total=   0.0s\n",
      "[CV] C=0.01, class_weight={1: 8}, max_iter=100, penalty=l1, solver=liblinear \n",
      "[CV]  C=0.01, class_weight={1: 8}, max_iter=100, penalty=l1, solver=liblinear, total=   0.0s\n",
      "[CV] C=0.01, class_weight={1: 8}, max_iter=100, penalty=l1, solver=liblinear \n",
      "[CV]  C=0.01, class_weight={1: 8}, max_iter=100, penalty=l1, solver=liblinear, total=   0.0s\n",
      "[CV] C=0.01, class_weight={1: 8}, max_iter=100, penalty=l1, solver=liblinear \n",
      "[CV]  C=0.01, class_weight={1: 8}, max_iter=100, penalty=l1, solver=liblinear, total=   0.0s\n",
      "[CV] C=0.01, class_weight={1: 8}, max_iter=100, penalty=l1, solver=liblinear \n",
      "[CV]  C=0.01, class_weight={1: 8}, max_iter=100, penalty=l1, solver=liblinear, total=   0.0s\n",
      "[CV] C=0.01, class_weight={1: 8}, max_iter=100, penalty=l1, solver=liblinear \n",
      "[CV]  C=0.01, class_weight={1: 8}, max_iter=100, penalty=l1, solver=liblinear, total=   0.0s\n",
      "[CV] C=0.01, class_weight={1: 8}, max_iter=100, penalty=l1, solver=liblinear \n",
      "[CV]  C=0.01, class_weight={1: 8}, max_iter=100, penalty=l1, solver=liblinear, total=   0.0s\n",
      "[CV] C=0.01, class_weight={1: 8}, max_iter=100, penalty=l1, solver=liblinear \n",
      "[CV]  C=0.01, class_weight={1: 8}, max_iter=100, penalty=l1, solver=liblinear, total=   0.0s\n",
      "[CV] C=0.01, class_weight={1: 8}, max_iter=100, penalty=l1, solver=liblinear \n",
      "[CV]  C=0.01, class_weight={1: 8}, max_iter=100, penalty=l1, solver=liblinear, total=   0.0s\n",
      "[CV] C=0.01, class_weight={1: 8}, max_iter=100, penalty=l1, solver=saga \n",
      "[CV]  C=0.01, class_weight={1: 8}, max_iter=100, penalty=l1, solver=saga, total=   0.0s\n",
      "[CV] C=0.01, class_weight={1: 8}, max_iter=100, penalty=l1, solver=saga \n",
      "[CV]  C=0.01, class_weight={1: 8}, max_iter=100, penalty=l1, solver=saga, total=   0.0s\n",
      "[CV] C=0.01, class_weight={1: 8}, max_iter=100, penalty=l1, solver=saga \n",
      "[CV]  C=0.01, class_weight={1: 8}, max_iter=100, penalty=l1, solver=saga, total=   0.1s\n",
      "[CV] C=0.01, class_weight={1: 8}, max_iter=100, penalty=l1, solver=saga \n",
      "[CV]  C=0.01, class_weight={1: 8}, max_iter=100, penalty=l1, solver=saga, total=   0.1s\n",
      "[CV] C=0.01, class_weight={1: 8}, max_iter=100, penalty=l1, solver=saga \n",
      "[CV]  C=0.01, class_weight={1: 8}, max_iter=100, penalty=l1, solver=saga, total=   0.0s\n",
      "[CV] C=0.01, class_weight={1: 8}, max_iter=100, penalty=l1, solver=saga \n",
      "[CV]  C=0.01, class_weight={1: 8}, max_iter=100, penalty=l1, solver=saga, total=   0.0s\n",
      "[CV] C=0.01, class_weight={1: 8}, max_iter=100, penalty=l1, solver=saga \n",
      "[CV]  C=0.01, class_weight={1: 8}, max_iter=100, penalty=l1, solver=saga, total=   0.0s\n",
      "[CV] C=0.01, class_weight={1: 8}, max_iter=100, penalty=l1, solver=saga \n"
     ]
    },
    {
     "name": "stderr",
     "output_type": "stream",
     "text": [
      "C:\\Users\\tsuts\\anaconda3\\lib\\site-packages\\sklearn\\linear_model\\_sag.py:329: ConvergenceWarning: The max_iter was reached which means the coef_ did not converge\n",
      "  warnings.warn(\"The max_iter was reached which means \"\n"
     ]
    },
    {
     "name": "stdout",
     "output_type": "stream",
     "text": [
      "[CV]  C=0.01, class_weight={1: 8}, max_iter=100, penalty=l1, solver=saga, total=   0.2s\n",
      "[CV] C=0.01, class_weight={1: 8}, max_iter=100, penalty=l1, solver=saga \n",
      "[CV]  C=0.01, class_weight={1: 8}, max_iter=100, penalty=l1, solver=saga, total=   0.1s\n",
      "[CV] C=0.01, class_weight={1: 8}, max_iter=100, penalty=l1, solver=saga \n",
      "[CV]  C=0.01, class_weight={1: 8}, max_iter=100, penalty=l1, solver=saga, total=   0.2s\n",
      "[CV] C=0.01, class_weight={1: 8}, max_iter=100, penalty=l2, solver=liblinear \n",
      "[CV]  C=0.01, class_weight={1: 8}, max_iter=100, penalty=l2, solver=liblinear, total=   0.0s\n",
      "[CV] C=0.01, class_weight={1: 8}, max_iter=100, penalty=l2, solver=liblinear \n",
      "[CV]  C=0.01, class_weight={1: 8}, max_iter=100, penalty=l2, solver=liblinear, total=   0.0s\n",
      "[CV] C=0.01, class_weight={1: 8}, max_iter=100, penalty=l2, solver=liblinear \n",
      "[CV]  C=0.01, class_weight={1: 8}, max_iter=100, penalty=l2, solver=liblinear, total=   0.0s\n",
      "[CV] C=0.01, class_weight={1: 8}, max_iter=100, penalty=l2, solver=liblinear \n",
      "[CV]  C=0.01, class_weight={1: 8}, max_iter=100, penalty=l2, solver=liblinear, total=   0.0s\n",
      "[CV] C=0.01, class_weight={1: 8}, max_iter=100, penalty=l2, solver=liblinear \n",
      "[CV]  C=0.01, class_weight={1: 8}, max_iter=100, penalty=l2, solver=liblinear, total=   0.0s\n",
      "[CV] C=0.01, class_weight={1: 8}, max_iter=100, penalty=l2, solver=liblinear \n",
      "[CV]  C=0.01, class_weight={1: 8}, max_iter=100, penalty=l2, solver=liblinear, total=   0.0s\n",
      "[CV] C=0.01, class_weight={1: 8}, max_iter=100, penalty=l2, solver=liblinear \n",
      "[CV]  C=0.01, class_weight={1: 8}, max_iter=100, penalty=l2, solver=liblinear, total=   0.0s\n",
      "[CV] C=0.01, class_weight={1: 8}, max_iter=100, penalty=l2, solver=liblinear \n",
      "[CV]  C=0.01, class_weight={1: 8}, max_iter=100, penalty=l2, solver=liblinear, total=   0.0s\n",
      "[CV] C=0.01, class_weight={1: 8}, max_iter=100, penalty=l2, solver=liblinear \n",
      "[CV]  C=0.01, class_weight={1: 8}, max_iter=100, penalty=l2, solver=liblinear, total=   0.0s\n",
      "[CV] C=0.01, class_weight={1: 8}, max_iter=100, penalty=l2, solver=liblinear \n",
      "[CV]  C=0.01, class_weight={1: 8}, max_iter=100, penalty=l2, solver=liblinear, total=   0.0s\n",
      "[CV] C=0.01, class_weight={1: 8}, max_iter=100, penalty=l2, solver=saga \n",
      "[CV]  C=0.01, class_weight={1: 8}, max_iter=100, penalty=l2, solver=saga, total=   0.2s\n",
      "[CV] C=0.01, class_weight={1: 8}, max_iter=100, penalty=l2, solver=saga \n",
      "[CV]  C=0.01, class_weight={1: 8}, max_iter=100, penalty=l2, solver=saga, total=   0.1s\n",
      "[CV] C=0.01, class_weight={1: 8}, max_iter=100, penalty=l2, solver=saga \n"
     ]
    },
    {
     "name": "stderr",
     "output_type": "stream",
     "text": [
      "C:\\Users\\tsuts\\anaconda3\\lib\\site-packages\\sklearn\\linear_model\\_sag.py:329: ConvergenceWarning: The max_iter was reached which means the coef_ did not converge\n",
      "  warnings.warn(\"The max_iter was reached which means \"\n"
     ]
    },
    {
     "name": "stdout",
     "output_type": "stream",
     "text": [
      "[CV]  C=0.01, class_weight={1: 8}, max_iter=100, penalty=l2, solver=saga, total=   0.2s\n",
      "[CV] C=0.01, class_weight={1: 8}, max_iter=100, penalty=l2, solver=saga \n",
      "[CV]  C=0.01, class_weight={1: 8}, max_iter=100, penalty=l2, solver=saga, total=   0.1s\n",
      "[CV] C=0.01, class_weight={1: 8}, max_iter=100, penalty=l2, solver=saga \n",
      "[CV]  C=0.01, class_weight={1: 8}, max_iter=100, penalty=l2, solver=saga, total=   0.1s\n",
      "[CV] C=0.01, class_weight={1: 8}, max_iter=100, penalty=l2, solver=saga \n",
      "[CV]  C=0.01, class_weight={1: 8}, max_iter=100, penalty=l2, solver=saga, total=   0.2s\n",
      "[CV] C=0.01, class_weight={1: 8}, max_iter=100, penalty=l2, solver=saga \n"
     ]
    },
    {
     "name": "stderr",
     "output_type": "stream",
     "text": [
      "C:\\Users\\tsuts\\anaconda3\\lib\\site-packages\\sklearn\\linear_model\\_sag.py:329: ConvergenceWarning: The max_iter was reached which means the coef_ did not converge\n",
      "  warnings.warn(\"The max_iter was reached which means \"\n"
     ]
    },
    {
     "name": "stdout",
     "output_type": "stream",
     "text": [
      "[CV]  C=0.01, class_weight={1: 8}, max_iter=100, penalty=l2, solver=saga, total=   0.1s\n",
      "[CV] C=0.01, class_weight={1: 8}, max_iter=100, penalty=l2, solver=saga \n",
      "[CV]  C=0.01, class_weight={1: 8}, max_iter=100, penalty=l2, solver=saga, total=   0.1s\n",
      "[CV] C=0.01, class_weight={1: 8}, max_iter=100, penalty=l2, solver=saga \n",
      "[CV]  C=0.01, class_weight={1: 8}, max_iter=100, penalty=l2, solver=saga, total=   0.1s\n",
      "[CV] C=0.01, class_weight={1: 8}, max_iter=100, penalty=l2, solver=saga \n",
      "[CV]  C=0.01, class_weight={1: 8}, max_iter=100, penalty=l2, solver=saga, total=   0.1s\n",
      "[CV] C=0.01, class_weight={1: 8}, max_iter=1000, penalty=l1, solver=liblinear \n",
      "[CV]  C=0.01, class_weight={1: 8}, max_iter=1000, penalty=l1, solver=liblinear, total=   0.0s\n",
      "[CV] C=0.01, class_weight={1: 8}, max_iter=1000, penalty=l1, solver=liblinear \n",
      "[CV]  C=0.01, class_weight={1: 8}, max_iter=1000, penalty=l1, solver=liblinear, total=   0.0s\n",
      "[CV] C=0.01, class_weight={1: 8}, max_iter=1000, penalty=l1, solver=liblinear \n",
      "[CV]  C=0.01, class_weight={1: 8}, max_iter=1000, penalty=l1, solver=liblinear, total=   0.0s\n",
      "[CV] C=0.01, class_weight={1: 8}, max_iter=1000, penalty=l1, solver=liblinear \n",
      "[CV]  C=0.01, class_weight={1: 8}, max_iter=1000, penalty=l1, solver=liblinear, total=   0.0s\n",
      "[CV] C=0.01, class_weight={1: 8}, max_iter=1000, penalty=l1, solver=liblinear \n",
      "[CV]  C=0.01, class_weight={1: 8}, max_iter=1000, penalty=l1, solver=liblinear, total=   0.0s\n",
      "[CV] C=0.01, class_weight={1: 8}, max_iter=1000, penalty=l1, solver=liblinear \n",
      "[CV]  C=0.01, class_weight={1: 8}, max_iter=1000, penalty=l1, solver=liblinear, total=   0.0s\n",
      "[CV] C=0.01, class_weight={1: 8}, max_iter=1000, penalty=l1, solver=liblinear \n",
      "[CV]  C=0.01, class_weight={1: 8}, max_iter=1000, penalty=l1, solver=liblinear, total=   0.0s\n",
      "[CV] C=0.01, class_weight={1: 8}, max_iter=1000, penalty=l1, solver=liblinear \n",
      "[CV]  C=0.01, class_weight={1: 8}, max_iter=1000, penalty=l1, solver=liblinear, total=   0.0s\n",
      "[CV] C=0.01, class_weight={1: 8}, max_iter=1000, penalty=l1, solver=liblinear \n",
      "[CV]  C=0.01, class_weight={1: 8}, max_iter=1000, penalty=l1, solver=liblinear, total=   0.0s\n",
      "[CV] C=0.01, class_weight={1: 8}, max_iter=1000, penalty=l1, solver=liblinear \n",
      "[CV]  C=0.01, class_weight={1: 8}, max_iter=1000, penalty=l1, solver=liblinear, total=   0.0s\n",
      "[CV] C=0.01, class_weight={1: 8}, max_iter=1000, penalty=l1, solver=saga \n",
      "[CV]  C=0.01, class_weight={1: 8}, max_iter=1000, penalty=l1, solver=saga, total=   0.0s\n",
      "[CV] C=0.01, class_weight={1: 8}, max_iter=1000, penalty=l1, solver=saga \n",
      "[CV]  C=0.01, class_weight={1: 8}, max_iter=1000, penalty=l1, solver=saga, total=   0.0s\n",
      "[CV] C=0.01, class_weight={1: 8}, max_iter=1000, penalty=l1, solver=saga \n",
      "[CV]  C=0.01, class_weight={1: 8}, max_iter=1000, penalty=l1, solver=saga, total=   0.1s\n",
      "[CV] C=0.01, class_weight={1: 8}, max_iter=1000, penalty=l1, solver=saga \n",
      "[CV]  C=0.01, class_weight={1: 8}, max_iter=1000, penalty=l1, solver=saga, total=   0.0s\n",
      "[CV] C=0.01, class_weight={1: 8}, max_iter=1000, penalty=l1, solver=saga \n",
      "[CV]  C=0.01, class_weight={1: 8}, max_iter=1000, penalty=l1, solver=saga, total=   0.0s\n",
      "[CV] C=0.01, class_weight={1: 8}, max_iter=1000, penalty=l1, solver=saga \n",
      "[CV]  C=0.01, class_weight={1: 8}, max_iter=1000, penalty=l1, solver=saga, total=   0.0s\n",
      "[CV] C=0.01, class_weight={1: 8}, max_iter=1000, penalty=l1, solver=saga \n",
      "[CV]  C=0.01, class_weight={1: 8}, max_iter=1000, penalty=l1, solver=saga, total=   0.1s\n",
      "[CV] C=0.01, class_weight={1: 8}, max_iter=1000, penalty=l1, solver=saga \n",
      "[CV]  C=0.01, class_weight={1: 8}, max_iter=1000, penalty=l1, solver=saga, total=   0.1s\n",
      "[CV] C=0.01, class_weight={1: 8}, max_iter=1000, penalty=l1, solver=saga \n",
      "[CV]  C=0.01, class_weight={1: 8}, max_iter=1000, penalty=l1, solver=saga, total=   0.0s\n",
      "[CV] C=0.01, class_weight={1: 8}, max_iter=1000, penalty=l1, solver=saga \n",
      "[CV]  C=0.01, class_weight={1: 8}, max_iter=1000, penalty=l1, solver=saga, total=   0.1s\n",
      "[CV] C=0.01, class_weight={1: 8}, max_iter=1000, penalty=l2, solver=liblinear \n",
      "[CV]  C=0.01, class_weight={1: 8}, max_iter=1000, penalty=l2, solver=liblinear, total=   0.0s\n",
      "[CV] C=0.01, class_weight={1: 8}, max_iter=1000, penalty=l2, solver=liblinear \n",
      "[CV]  C=0.01, class_weight={1: 8}, max_iter=1000, penalty=l2, solver=liblinear, total=   0.0s\n",
      "[CV] C=0.01, class_weight={1: 8}, max_iter=1000, penalty=l2, solver=liblinear \n",
      "[CV]  C=0.01, class_weight={1: 8}, max_iter=1000, penalty=l2, solver=liblinear, total=   0.0s\n",
      "[CV] C=0.01, class_weight={1: 8}, max_iter=1000, penalty=l2, solver=liblinear \n",
      "[CV]  C=0.01, class_weight={1: 8}, max_iter=1000, penalty=l2, solver=liblinear, total=   0.0s\n",
      "[CV] C=0.01, class_weight={1: 8}, max_iter=1000, penalty=l2, solver=liblinear \n",
      "[CV]  C=0.01, class_weight={1: 8}, max_iter=1000, penalty=l2, solver=liblinear, total=   0.0s\n",
      "[CV] C=0.01, class_weight={1: 8}, max_iter=1000, penalty=l2, solver=liblinear \n",
      "[CV]  C=0.01, class_weight={1: 8}, max_iter=1000, penalty=l2, solver=liblinear, total=   0.0s\n",
      "[CV] C=0.01, class_weight={1: 8}, max_iter=1000, penalty=l2, solver=liblinear \n",
      "[CV]  C=0.01, class_weight={1: 8}, max_iter=1000, penalty=l2, solver=liblinear, total=   0.0s\n",
      "[CV] C=0.01, class_weight={1: 8}, max_iter=1000, penalty=l2, solver=liblinear \n",
      "[CV]  C=0.01, class_weight={1: 8}, max_iter=1000, penalty=l2, solver=liblinear, total=   0.0s\n",
      "[CV] C=0.01, class_weight={1: 8}, max_iter=1000, penalty=l2, solver=liblinear \n",
      "[CV]  C=0.01, class_weight={1: 8}, max_iter=1000, penalty=l2, solver=liblinear, total=   0.0s\n",
      "[CV] C=0.01, class_weight={1: 8}, max_iter=1000, penalty=l2, solver=liblinear \n",
      "[CV]  C=0.01, class_weight={1: 8}, max_iter=1000, penalty=l2, solver=liblinear, total=   0.0s\n",
      "[CV] C=0.01, class_weight={1: 8}, max_iter=1000, penalty=l2, solver=saga \n",
      "[CV]  C=0.01, class_weight={1: 8}, max_iter=1000, penalty=l2, solver=saga, total=   0.3s\n",
      "[CV] C=0.01, class_weight={1: 8}, max_iter=1000, penalty=l2, solver=saga \n",
      "[CV]  C=0.01, class_weight={1: 8}, max_iter=1000, penalty=l2, solver=saga, total=   0.1s\n",
      "[CV] C=0.01, class_weight={1: 8}, max_iter=1000, penalty=l2, solver=saga \n",
      "[CV]  C=0.01, class_weight={1: 8}, max_iter=1000, penalty=l2, solver=saga, total=   0.2s\n",
      "[CV] C=0.01, class_weight={1: 8}, max_iter=1000, penalty=l2, solver=saga \n",
      "[CV]  C=0.01, class_weight={1: 8}, max_iter=1000, penalty=l2, solver=saga, total=   0.1s\n",
      "[CV] C=0.01, class_weight={1: 8}, max_iter=1000, penalty=l2, solver=saga \n",
      "[CV]  C=0.01, class_weight={1: 8}, max_iter=1000, penalty=l2, solver=saga, total=   0.1s\n",
      "[CV] C=0.01, class_weight={1: 8}, max_iter=1000, penalty=l2, solver=saga \n"
     ]
    },
    {
     "name": "stderr",
     "output_type": "stream",
     "text": [
      "C:\\Users\\tsuts\\anaconda3\\lib\\site-packages\\sklearn\\linear_model\\_sag.py:329: ConvergenceWarning: The max_iter was reached which means the coef_ did not converge\n",
      "  warnings.warn(\"The max_iter was reached which means \"\n"
     ]
    },
    {
     "name": "stdout",
     "output_type": "stream",
     "text": [
      "[CV]  C=0.01, class_weight={1: 8}, max_iter=1000, penalty=l2, solver=saga, total=   1.7s\n",
      "[CV] C=0.01, class_weight={1: 8}, max_iter=1000, penalty=l2, solver=saga \n",
      "[CV]  C=0.01, class_weight={1: 8}, max_iter=1000, penalty=l2, solver=saga, total=   0.2s\n",
      "[CV] C=0.01, class_weight={1: 8}, max_iter=1000, penalty=l2, solver=saga \n",
      "[CV]  C=0.01, class_weight={1: 8}, max_iter=1000, penalty=l2, solver=saga, total=   0.1s\n",
      "[CV] C=0.01, class_weight={1: 8}, max_iter=1000, penalty=l2, solver=saga \n",
      "[CV]  C=0.01, class_weight={1: 8}, max_iter=1000, penalty=l2, solver=saga, total=   0.2s\n",
      "[CV] C=0.01, class_weight={1: 8}, max_iter=1000, penalty=l2, solver=saga \n",
      "[CV]  C=0.01, class_weight={1: 8}, max_iter=1000, penalty=l2, solver=saga, total=   0.1s\n",
      "Fitting 10 folds for each of 16 candidates, totalling 160 fits\n",
      "[CV] C=0.01, class_weight={1: 25}, max_iter=100, penalty=l1, solver=liblinear \n",
      "[CV]  C=0.01, class_weight={1: 25}, max_iter=100, penalty=l1, solver=liblinear, total=   0.0s\n",
      "[CV] C=0.01, class_weight={1: 25}, max_iter=100, penalty=l1, solver=liblinear \n",
      "[CV]  C=0.01, class_weight={1: 25}, max_iter=100, penalty=l1, solver=liblinear, total=   0.0s\n",
      "[CV] C=0.01, class_weight={1: 25}, max_iter=100, penalty=l1, solver=liblinear \n",
      "[CV]  C=0.01, class_weight={1: 25}, max_iter=100, penalty=l1, solver=liblinear, total=   0.0s\n",
      "[CV] C=0.01, class_weight={1: 25}, max_iter=100, penalty=l1, solver=liblinear \n",
      "[CV]  C=0.01, class_weight={1: 25}, max_iter=100, penalty=l1, solver=liblinear, total=   0.0s\n",
      "[CV] C=0.01, class_weight={1: 25}, max_iter=100, penalty=l1, solver=liblinear \n"
     ]
    },
    {
     "name": "stderr",
     "output_type": "stream",
     "text": [
      "[Parallel(n_jobs=1)]: Done 160 out of 160 | elapsed:   28.9s finished\n",
      "[Parallel(n_jobs=1)]: Using backend SequentialBackend with 1 concurrent workers.\n",
      "[Parallel(n_jobs=1)]: Done   1 out of   1 | elapsed:    0.0s remaining:    0.0s\n"
     ]
    },
    {
     "name": "stdout",
     "output_type": "stream",
     "text": [
      "[CV]  C=0.01, class_weight={1: 25}, max_iter=100, penalty=l1, solver=liblinear, total=   0.1s\n",
      "[CV] C=0.01, class_weight={1: 25}, max_iter=100, penalty=l1, solver=liblinear \n",
      "[CV]  C=0.01, class_weight={1: 25}, max_iter=100, penalty=l1, solver=liblinear, total=   0.1s\n",
      "[CV] C=0.01, class_weight={1: 25}, max_iter=100, penalty=l1, solver=liblinear \n",
      "[CV]  C=0.01, class_weight={1: 25}, max_iter=100, penalty=l1, solver=liblinear, total=   0.0s\n",
      "[CV] C=0.01, class_weight={1: 25}, max_iter=100, penalty=l1, solver=liblinear \n",
      "[CV]  C=0.01, class_weight={1: 25}, max_iter=100, penalty=l1, solver=liblinear, total=   0.1s\n",
      "[CV] C=0.01, class_weight={1: 25}, max_iter=100, penalty=l1, solver=liblinear \n",
      "[CV]  C=0.01, class_weight={1: 25}, max_iter=100, penalty=l1, solver=liblinear, total=   0.0s\n",
      "[CV] C=0.01, class_weight={1: 25}, max_iter=100, penalty=l1, solver=liblinear \n",
      "[CV]  C=0.01, class_weight={1: 25}, max_iter=100, penalty=l1, solver=liblinear, total=   0.0s\n",
      "[CV] C=0.01, class_weight={1: 25}, max_iter=100, penalty=l1, solver=saga \n"
     ]
    },
    {
     "name": "stderr",
     "output_type": "stream",
     "text": [
      "C:\\Users\\tsuts\\anaconda3\\lib\\site-packages\\sklearn\\linear_model\\_sag.py:329: ConvergenceWarning: The max_iter was reached which means the coef_ did not converge\n",
      "  warnings.warn(\"The max_iter was reached which means \"\n"
     ]
    },
    {
     "name": "stdout",
     "output_type": "stream",
     "text": [
      "[CV]  C=0.01, class_weight={1: 25}, max_iter=100, penalty=l1, solver=saga, total=   0.2s\n",
      "[CV] C=0.01, class_weight={1: 25}, max_iter=100, penalty=l1, solver=saga \n"
     ]
    },
    {
     "name": "stderr",
     "output_type": "stream",
     "text": [
      "C:\\Users\\tsuts\\anaconda3\\lib\\site-packages\\sklearn\\linear_model\\_sag.py:329: ConvergenceWarning: The max_iter was reached which means the coef_ did not converge\n",
      "  warnings.warn(\"The max_iter was reached which means \"\n"
     ]
    },
    {
     "name": "stdout",
     "output_type": "stream",
     "text": [
      "[CV]  C=0.01, class_weight={1: 25}, max_iter=100, penalty=l1, solver=saga, total=   0.2s\n",
      "[CV] C=0.01, class_weight={1: 25}, max_iter=100, penalty=l1, solver=saga \n"
     ]
    },
    {
     "name": "stderr",
     "output_type": "stream",
     "text": [
      "C:\\Users\\tsuts\\anaconda3\\lib\\site-packages\\sklearn\\linear_model\\_sag.py:329: ConvergenceWarning: The max_iter was reached which means the coef_ did not converge\n",
      "  warnings.warn(\"The max_iter was reached which means \"\n"
     ]
    },
    {
     "name": "stdout",
     "output_type": "stream",
     "text": [
      "[CV]  C=0.01, class_weight={1: 25}, max_iter=100, penalty=l1, solver=saga, total=   0.2s\n",
      "[CV] C=0.01, class_weight={1: 25}, max_iter=100, penalty=l1, solver=saga \n"
     ]
    },
    {
     "name": "stderr",
     "output_type": "stream",
     "text": [
      "C:\\Users\\tsuts\\anaconda3\\lib\\site-packages\\sklearn\\linear_model\\_sag.py:329: ConvergenceWarning: The max_iter was reached which means the coef_ did not converge\n",
      "  warnings.warn(\"The max_iter was reached which means \"\n"
     ]
    },
    {
     "name": "stdout",
     "output_type": "stream",
     "text": [
      "[CV]  C=0.01, class_weight={1: 25}, max_iter=100, penalty=l1, solver=saga, total=   0.3s\n",
      "[CV] C=0.01, class_weight={1: 25}, max_iter=100, penalty=l1, solver=saga \n"
     ]
    },
    {
     "name": "stderr",
     "output_type": "stream",
     "text": [
      "C:\\Users\\tsuts\\anaconda3\\lib\\site-packages\\sklearn\\linear_model\\_sag.py:329: ConvergenceWarning: The max_iter was reached which means the coef_ did not converge\n",
      "  warnings.warn(\"The max_iter was reached which means \"\n"
     ]
    },
    {
     "name": "stdout",
     "output_type": "stream",
     "text": [
      "[CV]  C=0.01, class_weight={1: 25}, max_iter=100, penalty=l1, solver=saga, total=   0.2s\n",
      "[CV] C=0.01, class_weight={1: 25}, max_iter=100, penalty=l1, solver=saga \n"
     ]
    },
    {
     "name": "stderr",
     "output_type": "stream",
     "text": [
      "C:\\Users\\tsuts\\anaconda3\\lib\\site-packages\\sklearn\\linear_model\\_sag.py:329: ConvergenceWarning: The max_iter was reached which means the coef_ did not converge\n",
      "  warnings.warn(\"The max_iter was reached which means \"\n"
     ]
    },
    {
     "name": "stdout",
     "output_type": "stream",
     "text": [
      "[CV]  C=0.01, class_weight={1: 25}, max_iter=100, penalty=l1, solver=saga, total=   0.2s\n",
      "[CV] C=0.01, class_weight={1: 25}, max_iter=100, penalty=l1, solver=saga \n"
     ]
    },
    {
     "name": "stderr",
     "output_type": "stream",
     "text": [
      "C:\\Users\\tsuts\\anaconda3\\lib\\site-packages\\sklearn\\linear_model\\_sag.py:329: ConvergenceWarning: The max_iter was reached which means the coef_ did not converge\n",
      "  warnings.warn(\"The max_iter was reached which means \"\n"
     ]
    },
    {
     "name": "stdout",
     "output_type": "stream",
     "text": [
      "[CV]  C=0.01, class_weight={1: 25}, max_iter=100, penalty=l1, solver=saga, total=   0.2s\n",
      "[CV] C=0.01, class_weight={1: 25}, max_iter=100, penalty=l1, solver=saga \n"
     ]
    },
    {
     "name": "stderr",
     "output_type": "stream",
     "text": [
      "C:\\Users\\tsuts\\anaconda3\\lib\\site-packages\\sklearn\\linear_model\\_sag.py:329: ConvergenceWarning: The max_iter was reached which means the coef_ did not converge\n",
      "  warnings.warn(\"The max_iter was reached which means \"\n"
     ]
    },
    {
     "name": "stdout",
     "output_type": "stream",
     "text": [
      "[CV]  C=0.01, class_weight={1: 25}, max_iter=100, penalty=l1, solver=saga, total=   0.3s\n",
      "[CV] C=0.01, class_weight={1: 25}, max_iter=100, penalty=l1, solver=saga \n"
     ]
    },
    {
     "name": "stderr",
     "output_type": "stream",
     "text": [
      "C:\\Users\\tsuts\\anaconda3\\lib\\site-packages\\sklearn\\linear_model\\_sag.py:329: ConvergenceWarning: The max_iter was reached which means the coef_ did not converge\n",
      "  warnings.warn(\"The max_iter was reached which means \"\n"
     ]
    },
    {
     "name": "stdout",
     "output_type": "stream",
     "text": [
      "[CV]  C=0.01, class_weight={1: 25}, max_iter=100, penalty=l1, solver=saga, total=   0.2s\n",
      "[CV] C=0.01, class_weight={1: 25}, max_iter=100, penalty=l1, solver=saga \n"
     ]
    },
    {
     "name": "stderr",
     "output_type": "stream",
     "text": [
      "C:\\Users\\tsuts\\anaconda3\\lib\\site-packages\\sklearn\\linear_model\\_sag.py:329: ConvergenceWarning: The max_iter was reached which means the coef_ did not converge\n",
      "  warnings.warn(\"The max_iter was reached which means \"\n"
     ]
    },
    {
     "name": "stdout",
     "output_type": "stream",
     "text": [
      "[CV]  C=0.01, class_weight={1: 25}, max_iter=100, penalty=l1, solver=saga, total=   0.2s\n",
      "[CV] C=0.01, class_weight={1: 25}, max_iter=100, penalty=l2, solver=liblinear \n",
      "[CV]  C=0.01, class_weight={1: 25}, max_iter=100, penalty=l2, solver=liblinear, total=   0.0s\n",
      "[CV] C=0.01, class_weight={1: 25}, max_iter=100, penalty=l2, solver=liblinear \n",
      "[CV]  C=0.01, class_weight={1: 25}, max_iter=100, penalty=l2, solver=liblinear, total=   0.0s\n",
      "[CV] C=0.01, class_weight={1: 25}, max_iter=100, penalty=l2, solver=liblinear \n",
      "[CV]  C=0.01, class_weight={1: 25}, max_iter=100, penalty=l2, solver=liblinear, total=   0.0s\n",
      "[CV] C=0.01, class_weight={1: 25}, max_iter=100, penalty=l2, solver=liblinear \n",
      "[CV]  C=0.01, class_weight={1: 25}, max_iter=100, penalty=l2, solver=liblinear, total=   0.0s\n",
      "[CV] C=0.01, class_weight={1: 25}, max_iter=100, penalty=l2, solver=liblinear \n",
      "[CV]  C=0.01, class_weight={1: 25}, max_iter=100, penalty=l2, solver=liblinear, total=   0.0s\n",
      "[CV] C=0.01, class_weight={1: 25}, max_iter=100, penalty=l2, solver=liblinear \n",
      "[CV]  C=0.01, class_weight={1: 25}, max_iter=100, penalty=l2, solver=liblinear, total=   0.0s\n",
      "[CV] C=0.01, class_weight={1: 25}, max_iter=100, penalty=l2, solver=liblinear \n",
      "[CV]  C=0.01, class_weight={1: 25}, max_iter=100, penalty=l2, solver=liblinear, total=   0.0s\n",
      "[CV] C=0.01, class_weight={1: 25}, max_iter=100, penalty=l2, solver=liblinear \n",
      "[CV]  C=0.01, class_weight={1: 25}, max_iter=100, penalty=l2, solver=liblinear, total=   0.0s\n",
      "[CV] C=0.01, class_weight={1: 25}, max_iter=100, penalty=l2, solver=liblinear \n",
      "[CV]  C=0.01, class_weight={1: 25}, max_iter=100, penalty=l2, solver=liblinear, total=   0.0s\n",
      "[CV] C=0.01, class_weight={1: 25}, max_iter=100, penalty=l2, solver=liblinear \n",
      "[CV]  C=0.01, class_weight={1: 25}, max_iter=100, penalty=l2, solver=liblinear, total=   0.0s\n",
      "[CV] C=0.01, class_weight={1: 25}, max_iter=100, penalty=l2, solver=saga \n",
      "[CV]  C=0.01, class_weight={1: 25}, max_iter=100, penalty=l2, solver=saga, total=   0.2s\n",
      "[CV] C=0.01, class_weight={1: 25}, max_iter=100, penalty=l2, solver=saga \n"
     ]
    },
    {
     "name": "stderr",
     "output_type": "stream",
     "text": [
      "C:\\Users\\tsuts\\anaconda3\\lib\\site-packages\\sklearn\\linear_model\\_sag.py:329: ConvergenceWarning: The max_iter was reached which means the coef_ did not converge\n",
      "  warnings.warn(\"The max_iter was reached which means \"\n",
      "C:\\Users\\tsuts\\anaconda3\\lib\\site-packages\\sklearn\\linear_model\\_sag.py:329: ConvergenceWarning: The max_iter was reached which means the coef_ did not converge\n",
      "  warnings.warn(\"The max_iter was reached which means \"\n"
     ]
    },
    {
     "name": "stdout",
     "output_type": "stream",
     "text": [
      "[CV]  C=0.01, class_weight={1: 25}, max_iter=100, penalty=l2, solver=saga, total=   0.2s\n",
      "[CV] C=0.01, class_weight={1: 25}, max_iter=100, penalty=l2, solver=saga \n",
      "[CV]  C=0.01, class_weight={1: 25}, max_iter=100, penalty=l2, solver=saga, total=   0.2s\n",
      "[CV] C=0.01, class_weight={1: 25}, max_iter=100, penalty=l2, solver=saga \n"
     ]
    },
    {
     "name": "stderr",
     "output_type": "stream",
     "text": [
      "C:\\Users\\tsuts\\anaconda3\\lib\\site-packages\\sklearn\\linear_model\\_sag.py:329: ConvergenceWarning: The max_iter was reached which means the coef_ did not converge\n",
      "  warnings.warn(\"The max_iter was reached which means \"\n",
      "C:\\Users\\tsuts\\anaconda3\\lib\\site-packages\\sklearn\\linear_model\\_sag.py:329: ConvergenceWarning: The max_iter was reached which means the coef_ did not converge\n",
      "  warnings.warn(\"The max_iter was reached which means \"\n"
     ]
    },
    {
     "name": "stdout",
     "output_type": "stream",
     "text": [
      "[CV]  C=0.01, class_weight={1: 25}, max_iter=100, penalty=l2, solver=saga, total=   0.2s\n",
      "[CV] C=0.01, class_weight={1: 25}, max_iter=100, penalty=l2, solver=saga \n",
      "[CV]  C=0.01, class_weight={1: 25}, max_iter=100, penalty=l2, solver=saga, total=   0.2s\n",
      "[CV] C=0.01, class_weight={1: 25}, max_iter=100, penalty=l2, solver=saga \n"
     ]
    },
    {
     "name": "stderr",
     "output_type": "stream",
     "text": [
      "C:\\Users\\tsuts\\anaconda3\\lib\\site-packages\\sklearn\\linear_model\\_sag.py:329: ConvergenceWarning: The max_iter was reached which means the coef_ did not converge\n",
      "  warnings.warn(\"The max_iter was reached which means \"\n",
      "C:\\Users\\tsuts\\anaconda3\\lib\\site-packages\\sklearn\\linear_model\\_sag.py:329: ConvergenceWarning: The max_iter was reached which means the coef_ did not converge\n",
      "  warnings.warn(\"The max_iter was reached which means \"\n"
     ]
    },
    {
     "name": "stdout",
     "output_type": "stream",
     "text": [
      "[CV]  C=0.01, class_weight={1: 25}, max_iter=100, penalty=l2, solver=saga, total=   0.2s\n",
      "[CV] C=0.01, class_weight={1: 25}, max_iter=100, penalty=l2, solver=saga \n",
      "[CV]  C=0.01, class_weight={1: 25}, max_iter=100, penalty=l2, solver=saga, total=   0.2s\n",
      "[CV] C=0.01, class_weight={1: 25}, max_iter=100, penalty=l2, solver=saga \n"
     ]
    },
    {
     "name": "stderr",
     "output_type": "stream",
     "text": [
      "C:\\Users\\tsuts\\anaconda3\\lib\\site-packages\\sklearn\\linear_model\\_sag.py:329: ConvergenceWarning: The max_iter was reached which means the coef_ did not converge\n",
      "  warnings.warn(\"The max_iter was reached which means \"\n",
      "C:\\Users\\tsuts\\anaconda3\\lib\\site-packages\\sklearn\\linear_model\\_sag.py:329: ConvergenceWarning: The max_iter was reached which means the coef_ did not converge\n",
      "  warnings.warn(\"The max_iter was reached which means \"\n"
     ]
    },
    {
     "name": "stdout",
     "output_type": "stream",
     "text": [
      "[CV]  C=0.01, class_weight={1: 25}, max_iter=100, penalty=l2, solver=saga, total=   0.2s\n",
      "[CV] C=0.01, class_weight={1: 25}, max_iter=100, penalty=l2, solver=saga \n",
      "[CV]  C=0.01, class_weight={1: 25}, max_iter=100, penalty=l2, solver=saga, total=   0.2s\n",
      "[CV] C=0.01, class_weight={1: 25}, max_iter=100, penalty=l2, solver=saga \n"
     ]
    },
    {
     "name": "stderr",
     "output_type": "stream",
     "text": [
      "C:\\Users\\tsuts\\anaconda3\\lib\\site-packages\\sklearn\\linear_model\\_sag.py:329: ConvergenceWarning: The max_iter was reached which means the coef_ did not converge\n",
      "  warnings.warn(\"The max_iter was reached which means \"\n",
      "C:\\Users\\tsuts\\anaconda3\\lib\\site-packages\\sklearn\\linear_model\\_sag.py:329: ConvergenceWarning: The max_iter was reached which means the coef_ did not converge\n",
      "  warnings.warn(\"The max_iter was reached which means \"\n"
     ]
    },
    {
     "name": "stdout",
     "output_type": "stream",
     "text": [
      "[CV]  C=0.01, class_weight={1: 25}, max_iter=100, penalty=l2, solver=saga, total=   0.2s\n",
      "[CV] C=0.01, class_weight={1: 25}, max_iter=1000, penalty=l1, solver=liblinear \n",
      "[CV]  C=0.01, class_weight={1: 25}, max_iter=1000, penalty=l1, solver=liblinear, total=   0.0s\n",
      "[CV] C=0.01, class_weight={1: 25}, max_iter=1000, penalty=l1, solver=liblinear \n",
      "[CV]  C=0.01, class_weight={1: 25}, max_iter=1000, penalty=l1, solver=liblinear, total=   0.0s\n",
      "[CV] C=0.01, class_weight={1: 25}, max_iter=1000, penalty=l1, solver=liblinear \n",
      "[CV]  C=0.01, class_weight={1: 25}, max_iter=1000, penalty=l1, solver=liblinear, total=   0.0s\n",
      "[CV] C=0.01, class_weight={1: 25}, max_iter=1000, penalty=l1, solver=liblinear \n",
      "[CV]  C=0.01, class_weight={1: 25}, max_iter=1000, penalty=l1, solver=liblinear, total=   0.0s\n",
      "[CV] C=0.01, class_weight={1: 25}, max_iter=1000, penalty=l1, solver=liblinear \n",
      "[CV]  C=0.01, class_weight={1: 25}, max_iter=1000, penalty=l1, solver=liblinear, total=   0.1s\n",
      "[CV] C=0.01, class_weight={1: 25}, max_iter=1000, penalty=l1, solver=liblinear \n",
      "[CV]  C=0.01, class_weight={1: 25}, max_iter=1000, penalty=l1, solver=liblinear, total=   0.0s\n",
      "[CV] C=0.01, class_weight={1: 25}, max_iter=1000, penalty=l1, solver=liblinear \n",
      "[CV]  C=0.01, class_weight={1: 25}, max_iter=1000, penalty=l1, solver=liblinear, total=   0.0s\n",
      "[CV] C=0.01, class_weight={1: 25}, max_iter=1000, penalty=l1, solver=liblinear \n",
      "[CV]  C=0.01, class_weight={1: 25}, max_iter=1000, penalty=l1, solver=liblinear, total=   0.1s\n",
      "[CV] C=0.01, class_weight={1: 25}, max_iter=1000, penalty=l1, solver=liblinear \n",
      "[CV]  C=0.01, class_weight={1: 25}, max_iter=1000, penalty=l1, solver=liblinear, total=   0.0s\n",
      "[CV] C=0.01, class_weight={1: 25}, max_iter=1000, penalty=l1, solver=liblinear \n",
      "[CV]  C=0.01, class_weight={1: 25}, max_iter=1000, penalty=l1, solver=liblinear, total=   0.0s\n",
      "[CV] C=0.01, class_weight={1: 25}, max_iter=1000, penalty=l1, solver=saga \n"
     ]
    },
    {
     "name": "stderr",
     "output_type": "stream",
     "text": [
      "C:\\Users\\tsuts\\anaconda3\\lib\\site-packages\\sklearn\\linear_model\\_sag.py:329: ConvergenceWarning: The max_iter was reached which means the coef_ did not converge\n",
      "  warnings.warn(\"The max_iter was reached which means \"\n"
     ]
    },
    {
     "name": "stdout",
     "output_type": "stream",
     "text": [
      "[CV]  C=0.01, class_weight={1: 25}, max_iter=1000, penalty=l1, solver=saga, total=   2.2s\n",
      "[CV] C=0.01, class_weight={1: 25}, max_iter=1000, penalty=l1, solver=saga \n"
     ]
    },
    {
     "name": "stderr",
     "output_type": "stream",
     "text": [
      "C:\\Users\\tsuts\\anaconda3\\lib\\site-packages\\sklearn\\linear_model\\_sag.py:329: ConvergenceWarning: The max_iter was reached which means the coef_ did not converge\n",
      "  warnings.warn(\"The max_iter was reached which means \"\n"
     ]
    },
    {
     "name": "stdout",
     "output_type": "stream",
     "text": [
      "[CV]  C=0.01, class_weight={1: 25}, max_iter=1000, penalty=l1, solver=saga, total=   2.3s\n",
      "[CV] C=0.01, class_weight={1: 25}, max_iter=1000, penalty=l1, solver=saga \n"
     ]
    },
    {
     "name": "stderr",
     "output_type": "stream",
     "text": [
      "C:\\Users\\tsuts\\anaconda3\\lib\\site-packages\\sklearn\\linear_model\\_sag.py:329: ConvergenceWarning: The max_iter was reached which means the coef_ did not converge\n",
      "  warnings.warn(\"The max_iter was reached which means \"\n"
     ]
    },
    {
     "name": "stdout",
     "output_type": "stream",
     "text": [
      "[CV]  C=0.01, class_weight={1: 25}, max_iter=1000, penalty=l1, solver=saga, total=   2.3s\n",
      "[CV] C=0.01, class_weight={1: 25}, max_iter=1000, penalty=l1, solver=saga \n"
     ]
    },
    {
     "name": "stderr",
     "output_type": "stream",
     "text": [
      "C:\\Users\\tsuts\\anaconda3\\lib\\site-packages\\sklearn\\linear_model\\_sag.py:329: ConvergenceWarning: The max_iter was reached which means the coef_ did not converge\n",
      "  warnings.warn(\"The max_iter was reached which means \"\n"
     ]
    },
    {
     "name": "stdout",
     "output_type": "stream",
     "text": [
      "[CV]  C=0.01, class_weight={1: 25}, max_iter=1000, penalty=l1, solver=saga, total=   2.2s\n",
      "[CV] C=0.01, class_weight={1: 25}, max_iter=1000, penalty=l1, solver=saga \n"
     ]
    },
    {
     "name": "stderr",
     "output_type": "stream",
     "text": [
      "C:\\Users\\tsuts\\anaconda3\\lib\\site-packages\\sklearn\\linear_model\\_sag.py:329: ConvergenceWarning: The max_iter was reached which means the coef_ did not converge\n",
      "  warnings.warn(\"The max_iter was reached which means \"\n"
     ]
    },
    {
     "name": "stdout",
     "output_type": "stream",
     "text": [
      "[CV]  C=0.01, class_weight={1: 25}, max_iter=1000, penalty=l1, solver=saga, total=   2.2s\n",
      "[CV] C=0.01, class_weight={1: 25}, max_iter=1000, penalty=l1, solver=saga \n"
     ]
    },
    {
     "name": "stderr",
     "output_type": "stream",
     "text": [
      "C:\\Users\\tsuts\\anaconda3\\lib\\site-packages\\sklearn\\linear_model\\_sag.py:329: ConvergenceWarning: The max_iter was reached which means the coef_ did not converge\n",
      "  warnings.warn(\"The max_iter was reached which means \"\n"
     ]
    },
    {
     "name": "stdout",
     "output_type": "stream",
     "text": [
      "[CV]  C=0.01, class_weight={1: 25}, max_iter=1000, penalty=l1, solver=saga, total=   2.2s\n",
      "[CV] C=0.01, class_weight={1: 25}, max_iter=1000, penalty=l1, solver=saga \n"
     ]
    },
    {
     "name": "stderr",
     "output_type": "stream",
     "text": [
      "C:\\Users\\tsuts\\anaconda3\\lib\\site-packages\\sklearn\\linear_model\\_sag.py:329: ConvergenceWarning: The max_iter was reached which means the coef_ did not converge\n",
      "  warnings.warn(\"The max_iter was reached which means \"\n"
     ]
    },
    {
     "name": "stdout",
     "output_type": "stream",
     "text": [
      "[CV]  C=0.01, class_weight={1: 25}, max_iter=1000, penalty=l1, solver=saga, total=   2.2s\n",
      "[CV] C=0.01, class_weight={1: 25}, max_iter=1000, penalty=l1, solver=saga \n"
     ]
    },
    {
     "name": "stderr",
     "output_type": "stream",
     "text": [
      "C:\\Users\\tsuts\\anaconda3\\lib\\site-packages\\sklearn\\linear_model\\_sag.py:329: ConvergenceWarning: The max_iter was reached which means the coef_ did not converge\n",
      "  warnings.warn(\"The max_iter was reached which means \"\n"
     ]
    },
    {
     "name": "stdout",
     "output_type": "stream",
     "text": [
      "[CV]  C=0.01, class_weight={1: 25}, max_iter=1000, penalty=l1, solver=saga, total=   2.2s\n",
      "[CV] C=0.01, class_weight={1: 25}, max_iter=1000, penalty=l1, solver=saga \n"
     ]
    },
    {
     "name": "stderr",
     "output_type": "stream",
     "text": [
      "C:\\Users\\tsuts\\anaconda3\\lib\\site-packages\\sklearn\\linear_model\\_sag.py:329: ConvergenceWarning: The max_iter was reached which means the coef_ did not converge\n",
      "  warnings.warn(\"The max_iter was reached which means \"\n"
     ]
    },
    {
     "name": "stdout",
     "output_type": "stream",
     "text": [
      "[CV]  C=0.01, class_weight={1: 25}, max_iter=1000, penalty=l1, solver=saga, total=   2.3s\n",
      "[CV] C=0.01, class_weight={1: 25}, max_iter=1000, penalty=l1, solver=saga \n"
     ]
    },
    {
     "name": "stderr",
     "output_type": "stream",
     "text": [
      "C:\\Users\\tsuts\\anaconda3\\lib\\site-packages\\sklearn\\linear_model\\_sag.py:329: ConvergenceWarning: The max_iter was reached which means the coef_ did not converge\n",
      "  warnings.warn(\"The max_iter was reached which means \"\n"
     ]
    },
    {
     "name": "stdout",
     "output_type": "stream",
     "text": [
      "[CV]  C=0.01, class_weight={1: 25}, max_iter=1000, penalty=l1, solver=saga, total=   2.3s\n",
      "[CV] C=0.01, class_weight={1: 25}, max_iter=1000, penalty=l2, solver=liblinear \n",
      "[CV]  C=0.01, class_weight={1: 25}, max_iter=1000, penalty=l2, solver=liblinear, total=   0.0s\n",
      "[CV] C=0.01, class_weight={1: 25}, max_iter=1000, penalty=l2, solver=liblinear \n",
      "[CV]  C=0.01, class_weight={1: 25}, max_iter=1000, penalty=l2, solver=liblinear, total=   0.0s\n",
      "[CV] C=0.01, class_weight={1: 25}, max_iter=1000, penalty=l2, solver=liblinear \n",
      "[CV]  C=0.01, class_weight={1: 25}, max_iter=1000, penalty=l2, solver=liblinear, total=   0.0s\n",
      "[CV] C=0.01, class_weight={1: 25}, max_iter=1000, penalty=l2, solver=liblinear \n",
      "[CV]  C=0.01, class_weight={1: 25}, max_iter=1000, penalty=l2, solver=liblinear, total=   0.0s\n",
      "[CV] C=0.01, class_weight={1: 25}, max_iter=1000, penalty=l2, solver=liblinear \n",
      "[CV]  C=0.01, class_weight={1: 25}, max_iter=1000, penalty=l2, solver=liblinear, total=   0.0s\n",
      "[CV] C=0.01, class_weight={1: 25}, max_iter=1000, penalty=l2, solver=liblinear \n",
      "[CV]  C=0.01, class_weight={1: 25}, max_iter=1000, penalty=l2, solver=liblinear, total=   0.0s\n",
      "[CV] C=0.01, class_weight={1: 25}, max_iter=1000, penalty=l2, solver=liblinear \n",
      "[CV]  C=0.01, class_weight={1: 25}, max_iter=1000, penalty=l2, solver=liblinear, total=   0.0s\n",
      "[CV] C=0.01, class_weight={1: 25}, max_iter=1000, penalty=l2, solver=liblinear \n",
      "[CV]  C=0.01, class_weight={1: 25}, max_iter=1000, penalty=l2, solver=liblinear, total=   0.0s\n",
      "[CV] C=0.01, class_weight={1: 25}, max_iter=1000, penalty=l2, solver=liblinear \n",
      "[CV]  C=0.01, class_weight={1: 25}, max_iter=1000, penalty=l2, solver=liblinear, total=   0.0s\n",
      "[CV] C=0.01, class_weight={1: 25}, max_iter=1000, penalty=l2, solver=liblinear \n",
      "[CV]  C=0.01, class_weight={1: 25}, max_iter=1000, penalty=l2, solver=liblinear, total=   0.0s\n",
      "[CV] C=0.01, class_weight={1: 25}, max_iter=1000, penalty=l2, solver=saga \n"
     ]
    },
    {
     "name": "stderr",
     "output_type": "stream",
     "text": [
      "C:\\Users\\tsuts\\anaconda3\\lib\\site-packages\\sklearn\\linear_model\\_sag.py:329: ConvergenceWarning: The max_iter was reached which means the coef_ did not converge\n",
      "  warnings.warn(\"The max_iter was reached which means \"\n"
     ]
    },
    {
     "name": "stdout",
     "output_type": "stream",
     "text": [
      "[CV]  C=0.01, class_weight={1: 25}, max_iter=1000, penalty=l2, solver=saga, total=   1.7s\n",
      "[CV] C=0.01, class_weight={1: 25}, max_iter=1000, penalty=l2, solver=saga \n"
     ]
    },
    {
     "name": "stderr",
     "output_type": "stream",
     "text": [
      "C:\\Users\\tsuts\\anaconda3\\lib\\site-packages\\sklearn\\linear_model\\_sag.py:329: ConvergenceWarning: The max_iter was reached which means the coef_ did not converge\n",
      "  warnings.warn(\"The max_iter was reached which means \"\n"
     ]
    },
    {
     "name": "stdout",
     "output_type": "stream",
     "text": [
      "[CV]  C=0.01, class_weight={1: 25}, max_iter=1000, penalty=l2, solver=saga, total=   1.7s\n",
      "[CV] C=0.01, class_weight={1: 25}, max_iter=1000, penalty=l2, solver=saga \n"
     ]
    },
    {
     "name": "stderr",
     "output_type": "stream",
     "text": [
      "C:\\Users\\tsuts\\anaconda3\\lib\\site-packages\\sklearn\\linear_model\\_sag.py:329: ConvergenceWarning: The max_iter was reached which means the coef_ did not converge\n",
      "  warnings.warn(\"The max_iter was reached which means \"\n"
     ]
    },
    {
     "name": "stdout",
     "output_type": "stream",
     "text": [
      "[CV]  C=0.01, class_weight={1: 25}, max_iter=1000, penalty=l2, solver=saga, total=   1.7s\n",
      "[CV] C=0.01, class_weight={1: 25}, max_iter=1000, penalty=l2, solver=saga \n"
     ]
    },
    {
     "name": "stderr",
     "output_type": "stream",
     "text": [
      "C:\\Users\\tsuts\\anaconda3\\lib\\site-packages\\sklearn\\linear_model\\_sag.py:329: ConvergenceWarning: The max_iter was reached which means the coef_ did not converge\n",
      "  warnings.warn(\"The max_iter was reached which means \"\n"
     ]
    },
    {
     "name": "stdout",
     "output_type": "stream",
     "text": [
      "[CV]  C=0.01, class_weight={1: 25}, max_iter=1000, penalty=l2, solver=saga, total=   1.7s\n",
      "[CV] C=0.01, class_weight={1: 25}, max_iter=1000, penalty=l2, solver=saga \n"
     ]
    },
    {
     "name": "stderr",
     "output_type": "stream",
     "text": [
      "C:\\Users\\tsuts\\anaconda3\\lib\\site-packages\\sklearn\\linear_model\\_sag.py:329: ConvergenceWarning: The max_iter was reached which means the coef_ did not converge\n",
      "  warnings.warn(\"The max_iter was reached which means \"\n"
     ]
    },
    {
     "name": "stdout",
     "output_type": "stream",
     "text": [
      "[CV]  C=0.01, class_weight={1: 25}, max_iter=1000, penalty=l2, solver=saga, total=   1.7s\n",
      "[CV] C=0.01, class_weight={1: 25}, max_iter=1000, penalty=l2, solver=saga \n"
     ]
    },
    {
     "name": "stderr",
     "output_type": "stream",
     "text": [
      "C:\\Users\\tsuts\\anaconda3\\lib\\site-packages\\sklearn\\linear_model\\_sag.py:329: ConvergenceWarning: The max_iter was reached which means the coef_ did not converge\n",
      "  warnings.warn(\"The max_iter was reached which means \"\n"
     ]
    },
    {
     "name": "stdout",
     "output_type": "stream",
     "text": [
      "[CV]  C=0.01, class_weight={1: 25}, max_iter=1000, penalty=l2, solver=saga, total=   1.7s\n",
      "[CV] C=0.01, class_weight={1: 25}, max_iter=1000, penalty=l2, solver=saga \n"
     ]
    },
    {
     "name": "stderr",
     "output_type": "stream",
     "text": [
      "C:\\Users\\tsuts\\anaconda3\\lib\\site-packages\\sklearn\\linear_model\\_sag.py:329: ConvergenceWarning: The max_iter was reached which means the coef_ did not converge\n",
      "  warnings.warn(\"The max_iter was reached which means \"\n"
     ]
    },
    {
     "name": "stdout",
     "output_type": "stream",
     "text": [
      "[CV]  C=0.01, class_weight={1: 25}, max_iter=1000, penalty=l2, solver=saga, total=   1.7s\n",
      "[CV] C=0.01, class_weight={1: 25}, max_iter=1000, penalty=l2, solver=saga \n"
     ]
    },
    {
     "name": "stderr",
     "output_type": "stream",
     "text": [
      "C:\\Users\\tsuts\\anaconda3\\lib\\site-packages\\sklearn\\linear_model\\_sag.py:329: ConvergenceWarning: The max_iter was reached which means the coef_ did not converge\n",
      "  warnings.warn(\"The max_iter was reached which means \"\n"
     ]
    },
    {
     "name": "stdout",
     "output_type": "stream",
     "text": [
      "[CV]  C=0.01, class_weight={1: 25}, max_iter=1000, penalty=l2, solver=saga, total=   1.7s\n",
      "[CV] C=0.01, class_weight={1: 25}, max_iter=1000, penalty=l2, solver=saga \n"
     ]
    },
    {
     "name": "stderr",
     "output_type": "stream",
     "text": [
      "C:\\Users\\tsuts\\anaconda3\\lib\\site-packages\\sklearn\\linear_model\\_sag.py:329: ConvergenceWarning: The max_iter was reached which means the coef_ did not converge\n",
      "  warnings.warn(\"The max_iter was reached which means \"\n"
     ]
    },
    {
     "name": "stdout",
     "output_type": "stream",
     "text": [
      "[CV]  C=0.01, class_weight={1: 25}, max_iter=1000, penalty=l2, solver=saga, total=   1.7s\n",
      "[CV] C=0.01, class_weight={1: 25}, max_iter=1000, penalty=l2, solver=saga \n"
     ]
    },
    {
     "name": "stderr",
     "output_type": "stream",
     "text": [
      "C:\\Users\\tsuts\\anaconda3\\lib\\site-packages\\sklearn\\linear_model\\_sag.py:329: ConvergenceWarning: The max_iter was reached which means the coef_ did not converge\n",
      "  warnings.warn(\"The max_iter was reached which means \"\n"
     ]
    },
    {
     "name": "stdout",
     "output_type": "stream",
     "text": [
      "[CV]  C=0.01, class_weight={1: 25}, max_iter=1000, penalty=l2, solver=saga, total=   1.7s\n",
      "[CV] C=0.01, class_weight={1: 8}, max_iter=100, penalty=l1, solver=liblinear \n",
      "[CV]  C=0.01, class_weight={1: 8}, max_iter=100, penalty=l1, solver=liblinear, total=   0.0s\n",
      "[CV] C=0.01, class_weight={1: 8}, max_iter=100, penalty=l1, solver=liblinear \n",
      "[CV]  C=0.01, class_weight={1: 8}, max_iter=100, penalty=l1, solver=liblinear, total=   0.0s\n",
      "[CV] C=0.01, class_weight={1: 8}, max_iter=100, penalty=l1, solver=liblinear \n",
      "[CV]  C=0.01, class_weight={1: 8}, max_iter=100, penalty=l1, solver=liblinear, total=   0.0s\n",
      "[CV] C=0.01, class_weight={1: 8}, max_iter=100, penalty=l1, solver=liblinear \n",
      "[CV]  C=0.01, class_weight={1: 8}, max_iter=100, penalty=l1, solver=liblinear, total=   0.0s\n",
      "[CV] C=0.01, class_weight={1: 8}, max_iter=100, penalty=l1, solver=liblinear \n",
      "[CV]  C=0.01, class_weight={1: 8}, max_iter=100, penalty=l1, solver=liblinear, total=   0.0s\n",
      "[CV] C=0.01, class_weight={1: 8}, max_iter=100, penalty=l1, solver=liblinear \n",
      "[CV]  C=0.01, class_weight={1: 8}, max_iter=100, penalty=l1, solver=liblinear, total=   0.0s\n",
      "[CV] C=0.01, class_weight={1: 8}, max_iter=100, penalty=l1, solver=liblinear \n",
      "[CV]  C=0.01, class_weight={1: 8}, max_iter=100, penalty=l1, solver=liblinear, total=   0.0s\n",
      "[CV] C=0.01, class_weight={1: 8}, max_iter=100, penalty=l1, solver=liblinear \n",
      "[CV]  C=0.01, class_weight={1: 8}, max_iter=100, penalty=l1, solver=liblinear, total=   0.0s\n",
      "[CV] C=0.01, class_weight={1: 8}, max_iter=100, penalty=l1, solver=liblinear \n",
      "[CV]  C=0.01, class_weight={1: 8}, max_iter=100, penalty=l1, solver=liblinear, total=   0.0s\n",
      "[CV] C=0.01, class_weight={1: 8}, max_iter=100, penalty=l1, solver=liblinear \n",
      "[CV]  C=0.01, class_weight={1: 8}, max_iter=100, penalty=l1, solver=liblinear, total=   0.0s\n",
      "[CV] C=0.01, class_weight={1: 8}, max_iter=100, penalty=l1, solver=saga \n"
     ]
    },
    {
     "name": "stderr",
     "output_type": "stream",
     "text": [
      "C:\\Users\\tsuts\\anaconda3\\lib\\site-packages\\sklearn\\linear_model\\_sag.py:329: ConvergenceWarning: The max_iter was reached which means the coef_ did not converge\n",
      "  warnings.warn(\"The max_iter was reached which means \"\n"
     ]
    },
    {
     "name": "stdout",
     "output_type": "stream",
     "text": [
      "[CV]  C=0.01, class_weight={1: 8}, max_iter=100, penalty=l1, solver=saga, total=   0.2s\n",
      "[CV] C=0.01, class_weight={1: 8}, max_iter=100, penalty=l1, solver=saga \n"
     ]
    },
    {
     "name": "stderr",
     "output_type": "stream",
     "text": [
      "C:\\Users\\tsuts\\anaconda3\\lib\\site-packages\\sklearn\\linear_model\\_sag.py:329: ConvergenceWarning: The max_iter was reached which means the coef_ did not converge\n",
      "  warnings.warn(\"The max_iter was reached which means \"\n"
     ]
    },
    {
     "name": "stdout",
     "output_type": "stream",
     "text": [
      "[CV]  C=0.01, class_weight={1: 8}, max_iter=100, penalty=l1, solver=saga, total=   0.2s\n",
      "[CV] C=0.01, class_weight={1: 8}, max_iter=100, penalty=l1, solver=saga \n"
     ]
    },
    {
     "name": "stderr",
     "output_type": "stream",
     "text": [
      "C:\\Users\\tsuts\\anaconda3\\lib\\site-packages\\sklearn\\linear_model\\_sag.py:329: ConvergenceWarning: The max_iter was reached which means the coef_ did not converge\n",
      "  warnings.warn(\"The max_iter was reached which means \"\n"
     ]
    },
    {
     "name": "stdout",
     "output_type": "stream",
     "text": [
      "[CV]  C=0.01, class_weight={1: 8}, max_iter=100, penalty=l1, solver=saga, total=   0.2s\n",
      "[CV] C=0.01, class_weight={1: 8}, max_iter=100, penalty=l1, solver=saga \n",
      "[CV]  C=0.01, class_weight={1: 8}, max_iter=100, penalty=l1, solver=saga, total=   0.1s\n",
      "[CV] C=0.01, class_weight={1: 8}, max_iter=100, penalty=l1, solver=saga \n"
     ]
    },
    {
     "name": "stderr",
     "output_type": "stream",
     "text": [
      "C:\\Users\\tsuts\\anaconda3\\lib\\site-packages\\sklearn\\linear_model\\_sag.py:329: ConvergenceWarning: The max_iter was reached which means the coef_ did not converge\n",
      "  warnings.warn(\"The max_iter was reached which means \"\n"
     ]
    },
    {
     "name": "stdout",
     "output_type": "stream",
     "text": [
      "[CV]  C=0.01, class_weight={1: 8}, max_iter=100, penalty=l1, solver=saga, total=   0.2s\n",
      "[CV] C=0.01, class_weight={1: 8}, max_iter=100, penalty=l1, solver=saga \n"
     ]
    },
    {
     "name": "stderr",
     "output_type": "stream",
     "text": [
      "C:\\Users\\tsuts\\anaconda3\\lib\\site-packages\\sklearn\\linear_model\\_sag.py:329: ConvergenceWarning: The max_iter was reached which means the coef_ did not converge\n",
      "  warnings.warn(\"The max_iter was reached which means \"\n"
     ]
    },
    {
     "name": "stdout",
     "output_type": "stream",
     "text": [
      "[CV]  C=0.01, class_weight={1: 8}, max_iter=100, penalty=l1, solver=saga, total=   0.2s\n",
      "[CV] C=0.01, class_weight={1: 8}, max_iter=100, penalty=l1, solver=saga \n",
      "[CV]  C=0.01, class_weight={1: 8}, max_iter=100, penalty=l1, solver=saga, total=   0.1s\n",
      "[CV] C=0.01, class_weight={1: 8}, max_iter=100, penalty=l1, solver=saga \n"
     ]
    },
    {
     "name": "stderr",
     "output_type": "stream",
     "text": [
      "C:\\Users\\tsuts\\anaconda3\\lib\\site-packages\\sklearn\\linear_model\\_sag.py:329: ConvergenceWarning: The max_iter was reached which means the coef_ did not converge\n",
      "  warnings.warn(\"The max_iter was reached which means \"\n"
     ]
    },
    {
     "name": "stdout",
     "output_type": "stream",
     "text": [
      "[CV]  C=0.01, class_weight={1: 8}, max_iter=100, penalty=l1, solver=saga, total=   0.2s\n",
      "[CV] C=0.01, class_weight={1: 8}, max_iter=100, penalty=l1, solver=saga \n",
      "[CV]  C=0.01, class_weight={1: 8}, max_iter=100, penalty=l1, solver=saga, total=   0.1s\n",
      "[CV] C=0.01, class_weight={1: 8}, max_iter=100, penalty=l1, solver=saga \n"
     ]
    },
    {
     "name": "stderr",
     "output_type": "stream",
     "text": [
      "C:\\Users\\tsuts\\anaconda3\\lib\\site-packages\\sklearn\\linear_model\\_sag.py:329: ConvergenceWarning: The max_iter was reached which means the coef_ did not converge\n",
      "  warnings.warn(\"The max_iter was reached which means \"\n"
     ]
    },
    {
     "name": "stdout",
     "output_type": "stream",
     "text": [
      "[CV]  C=0.01, class_weight={1: 8}, max_iter=100, penalty=l1, solver=saga, total=   0.2s\n",
      "[CV] C=0.01, class_weight={1: 8}, max_iter=100, penalty=l2, solver=liblinear \n",
      "[CV]  C=0.01, class_weight={1: 8}, max_iter=100, penalty=l2, solver=liblinear, total=   0.0s\n",
      "[CV] C=0.01, class_weight={1: 8}, max_iter=100, penalty=l2, solver=liblinear \n",
      "[CV]  C=0.01, class_weight={1: 8}, max_iter=100, penalty=l2, solver=liblinear, total=   0.0s\n",
      "[CV] C=0.01, class_weight={1: 8}, max_iter=100, penalty=l2, solver=liblinear \n",
      "[CV]  C=0.01, class_weight={1: 8}, max_iter=100, penalty=l2, solver=liblinear, total=   0.0s\n",
      "[CV] C=0.01, class_weight={1: 8}, max_iter=100, penalty=l2, solver=liblinear \n",
      "[CV]  C=0.01, class_weight={1: 8}, max_iter=100, penalty=l2, solver=liblinear, total=   0.0s\n",
      "[CV] C=0.01, class_weight={1: 8}, max_iter=100, penalty=l2, solver=liblinear \n",
      "[CV]  C=0.01, class_weight={1: 8}, max_iter=100, penalty=l2, solver=liblinear, total=   0.0s\n",
      "[CV] C=0.01, class_weight={1: 8}, max_iter=100, penalty=l2, solver=liblinear \n",
      "[CV]  C=0.01, class_weight={1: 8}, max_iter=100, penalty=l2, solver=liblinear, total=   0.0s\n",
      "[CV] C=0.01, class_weight={1: 8}, max_iter=100, penalty=l2, solver=liblinear \n",
      "[CV]  C=0.01, class_weight={1: 8}, max_iter=100, penalty=l2, solver=liblinear, total=   0.0s\n",
      "[CV] C=0.01, class_weight={1: 8}, max_iter=100, penalty=l2, solver=liblinear \n",
      "[CV]  C=0.01, class_weight={1: 8}, max_iter=100, penalty=l2, solver=liblinear, total=   0.0s\n",
      "[CV] C=0.01, class_weight={1: 8}, max_iter=100, penalty=l2, solver=liblinear \n",
      "[CV]  C=0.01, class_weight={1: 8}, max_iter=100, penalty=l2, solver=liblinear, total=   0.0s\n",
      "[CV] C=0.01, class_weight={1: 8}, max_iter=100, penalty=l2, solver=liblinear \n",
      "[CV]  C=0.01, class_weight={1: 8}, max_iter=100, penalty=l2, solver=liblinear, total=   0.0s"
     ]
    },
    {
     "name": "stderr",
     "output_type": "stream",
     "text": [
      "C:\\Users\\tsuts\\anaconda3\\lib\\site-packages\\sklearn\\linear_model\\_sag.py:329: ConvergenceWarning: The max_iter was reached which means the coef_ did not converge\n",
      "  warnings.warn(\"The max_iter was reached which means \"\n",
      "C:\\Users\\tsuts\\anaconda3\\lib\\site-packages\\sklearn\\linear_model\\_sag.py:329: ConvergenceWarning: The max_iter was reached which means the coef_ did not converge\n",
      "  warnings.warn(\"The max_iter was reached which means \"\n"
     ]
    },
    {
     "name": "stdout",
     "output_type": "stream",
     "text": [
      "\n",
      "[CV] C=0.01, class_weight={1: 8}, max_iter=100, penalty=l2, solver=saga \n",
      "[CV]  C=0.01, class_weight={1: 8}, max_iter=100, penalty=l2, solver=saga, total=   0.2s\n",
      "[CV] C=0.01, class_weight={1: 8}, max_iter=100, penalty=l2, solver=saga \n",
      "[CV]  C=0.01, class_weight={1: 8}, max_iter=100, penalty=l2, solver=saga, total=   0.2s\n",
      "[CV] C=0.01, class_weight={1: 8}, max_iter=100, penalty=l2, solver=saga \n"
     ]
    },
    {
     "name": "stderr",
     "output_type": "stream",
     "text": [
      "C:\\Users\\tsuts\\anaconda3\\lib\\site-packages\\sklearn\\linear_model\\_sag.py:329: ConvergenceWarning: The max_iter was reached which means the coef_ did not converge\n",
      "  warnings.warn(\"The max_iter was reached which means \"\n",
      "C:\\Users\\tsuts\\anaconda3\\lib\\site-packages\\sklearn\\linear_model\\_sag.py:329: ConvergenceWarning: The max_iter was reached which means the coef_ did not converge\n",
      "  warnings.warn(\"The max_iter was reached which means \"\n"
     ]
    },
    {
     "name": "stdout",
     "output_type": "stream",
     "text": [
      "[CV]  C=0.01, class_weight={1: 8}, max_iter=100, penalty=l2, solver=saga, total=   0.2s\n",
      "[CV] C=0.01, class_weight={1: 8}, max_iter=100, penalty=l2, solver=saga \n",
      "[CV]  C=0.01, class_weight={1: 8}, max_iter=100, penalty=l2, solver=saga, total=   0.2s\n",
      "[CV] C=0.01, class_weight={1: 8}, max_iter=100, penalty=l2, solver=saga \n"
     ]
    },
    {
     "name": "stderr",
     "output_type": "stream",
     "text": [
      "C:\\Users\\tsuts\\anaconda3\\lib\\site-packages\\sklearn\\linear_model\\_sag.py:329: ConvergenceWarning: The max_iter was reached which means the coef_ did not converge\n",
      "  warnings.warn(\"The max_iter was reached which means \"\n",
      "C:\\Users\\tsuts\\anaconda3\\lib\\site-packages\\sklearn\\linear_model\\_sag.py:329: ConvergenceWarning: The max_iter was reached which means the coef_ did not converge\n",
      "  warnings.warn(\"The max_iter was reached which means \"\n"
     ]
    },
    {
     "name": "stdout",
     "output_type": "stream",
     "text": [
      "[CV]  C=0.01, class_weight={1: 8}, max_iter=100, penalty=l2, solver=saga, total=   0.2s\n",
      "[CV] C=0.01, class_weight={1: 8}, max_iter=100, penalty=l2, solver=saga \n",
      "[CV]  C=0.01, class_weight={1: 8}, max_iter=100, penalty=l2, solver=saga, total=   0.2s\n",
      "[CV] C=0.01, class_weight={1: 8}, max_iter=100, penalty=l2, solver=saga \n"
     ]
    },
    {
     "name": "stderr",
     "output_type": "stream",
     "text": [
      "C:\\Users\\tsuts\\anaconda3\\lib\\site-packages\\sklearn\\linear_model\\_sag.py:329: ConvergenceWarning: The max_iter was reached which means the coef_ did not converge\n",
      "  warnings.warn(\"The max_iter was reached which means \"\n",
      "C:\\Users\\tsuts\\anaconda3\\lib\\site-packages\\sklearn\\linear_model\\_sag.py:329: ConvergenceWarning: The max_iter was reached which means the coef_ did not converge\n",
      "  warnings.warn(\"The max_iter was reached which means \"\n"
     ]
    },
    {
     "name": "stdout",
     "output_type": "stream",
     "text": [
      "[CV]  C=0.01, class_weight={1: 8}, max_iter=100, penalty=l2, solver=saga, total=   0.2s\n",
      "[CV] C=0.01, class_weight={1: 8}, max_iter=100, penalty=l2, solver=saga \n"
     ]
    },
    {
     "name": "stderr",
     "output_type": "stream",
     "text": [
      "C:\\Users\\tsuts\\anaconda3\\lib\\site-packages\\sklearn\\linear_model\\_sag.py:329: ConvergenceWarning: The max_iter was reached which means the coef_ did not converge\n",
      "  warnings.warn(\"The max_iter was reached which means \"\n"
     ]
    },
    {
     "name": "stdout",
     "output_type": "stream",
     "text": [
      "[CV]  C=0.01, class_weight={1: 8}, max_iter=100, penalty=l2, solver=saga, total=   0.2s\n",
      "[CV] C=0.01, class_weight={1: 8}, max_iter=100, penalty=l2, solver=saga \n",
      "[CV]  C=0.01, class_weight={1: 8}, max_iter=100, penalty=l2, solver=saga, total=   0.2s\n",
      "[CV] C=0.01, class_weight={1: 8}, max_iter=100, penalty=l2, solver=saga \n"
     ]
    },
    {
     "name": "stderr",
     "output_type": "stream",
     "text": [
      "C:\\Users\\tsuts\\anaconda3\\lib\\site-packages\\sklearn\\linear_model\\_sag.py:329: ConvergenceWarning: The max_iter was reached which means the coef_ did not converge\n",
      "  warnings.warn(\"The max_iter was reached which means \"\n"
     ]
    },
    {
     "name": "stdout",
     "output_type": "stream",
     "text": [
      "[CV]  C=0.01, class_weight={1: 8}, max_iter=100, penalty=l2, solver=saga, total=   0.2s\n",
      "[CV] C=0.01, class_weight={1: 8}, max_iter=1000, penalty=l1, solver=liblinear \n",
      "[CV]  C=0.01, class_weight={1: 8}, max_iter=1000, penalty=l1, solver=liblinear, total=   0.0s\n",
      "[CV] C=0.01, class_weight={1: 8}, max_iter=1000, penalty=l1, solver=liblinear \n",
      "[CV]  C=0.01, class_weight={1: 8}, max_iter=1000, penalty=l1, solver=liblinear, total=   0.0s\n",
      "[CV] C=0.01, class_weight={1: 8}, max_iter=1000, penalty=l1, solver=liblinear \n",
      "[CV]  C=0.01, class_weight={1: 8}, max_iter=1000, penalty=l1, solver=liblinear, total=   0.0s\n",
      "[CV] C=0.01, class_weight={1: 8}, max_iter=1000, penalty=l1, solver=liblinear \n",
      "[CV]  C=0.01, class_weight={1: 8}, max_iter=1000, penalty=l1, solver=liblinear, total=   0.0s\n",
      "[CV] C=0.01, class_weight={1: 8}, max_iter=1000, penalty=l1, solver=liblinear \n",
      "[CV]  C=0.01, class_weight={1: 8}, max_iter=1000, penalty=l1, solver=liblinear, total=   0.0s\n",
      "[CV] C=0.01, class_weight={1: 8}, max_iter=1000, penalty=l1, solver=liblinear \n",
      "[CV]  C=0.01, class_weight={1: 8}, max_iter=1000, penalty=l1, solver=liblinear, total=   0.0s\n",
      "[CV] C=0.01, class_weight={1: 8}, max_iter=1000, penalty=l1, solver=liblinear \n",
      "[CV]  C=0.01, class_weight={1: 8}, max_iter=1000, penalty=l1, solver=liblinear, total=   0.0s\n",
      "[CV] C=0.01, class_weight={1: 8}, max_iter=1000, penalty=l1, solver=liblinear \n",
      "[CV]  C=0.01, class_weight={1: 8}, max_iter=1000, penalty=l1, solver=liblinear, total=   0.0s\n",
      "[CV] C=0.01, class_weight={1: 8}, max_iter=1000, penalty=l1, solver=liblinear \n",
      "[CV]  C=0.01, class_weight={1: 8}, max_iter=1000, penalty=l1, solver=liblinear, total=   0.0s\n",
      "[CV] C=0.01, class_weight={1: 8}, max_iter=1000, penalty=l1, solver=liblinear \n",
      "[CV]  C=0.01, class_weight={1: 8}, max_iter=1000, penalty=l1, solver=liblinear, total=   0.0s\n",
      "[CV] C=0.01, class_weight={1: 8}, max_iter=1000, penalty=l1, solver=saga \n"
     ]
    },
    {
     "name": "stderr",
     "output_type": "stream",
     "text": [
      "C:\\Users\\tsuts\\anaconda3\\lib\\site-packages\\sklearn\\linear_model\\_sag.py:329: ConvergenceWarning: The max_iter was reached which means the coef_ did not converge\n",
      "  warnings.warn(\"The max_iter was reached which means \"\n"
     ]
    },
    {
     "name": "stdout",
     "output_type": "stream",
     "text": [
      "[CV]  C=0.01, class_weight={1: 8}, max_iter=1000, penalty=l1, solver=saga, total=   2.2s\n",
      "[CV] C=0.01, class_weight={1: 8}, max_iter=1000, penalty=l1, solver=saga \n"
     ]
    },
    {
     "name": "stderr",
     "output_type": "stream",
     "text": [
      "C:\\Users\\tsuts\\anaconda3\\lib\\site-packages\\sklearn\\linear_model\\_sag.py:329: ConvergenceWarning: The max_iter was reached which means the coef_ did not converge\n",
      "  warnings.warn(\"The max_iter was reached which means \"\n"
     ]
    },
    {
     "name": "stdout",
     "output_type": "stream",
     "text": [
      "[CV]  C=0.01, class_weight={1: 8}, max_iter=1000, penalty=l1, solver=saga, total=   2.3s\n",
      "[CV] C=0.01, class_weight={1: 8}, max_iter=1000, penalty=l1, solver=saga \n"
     ]
    },
    {
     "name": "stderr",
     "output_type": "stream",
     "text": [
      "C:\\Users\\tsuts\\anaconda3\\lib\\site-packages\\sklearn\\linear_model\\_sag.py:329: ConvergenceWarning: The max_iter was reached which means the coef_ did not converge\n",
      "  warnings.warn(\"The max_iter was reached which means \"\n"
     ]
    },
    {
     "name": "stdout",
     "output_type": "stream",
     "text": [
      "[CV]  C=0.01, class_weight={1: 8}, max_iter=1000, penalty=l1, solver=saga, total=   2.3s\n",
      "[CV] C=0.01, class_weight={1: 8}, max_iter=1000, penalty=l1, solver=saga \n",
      "[CV]  C=0.01, class_weight={1: 8}, max_iter=1000, penalty=l1, solver=saga, total=   0.2s"
     ]
    },
    {
     "name": "stderr",
     "output_type": "stream",
     "text": [
      "C:\\Users\\tsuts\\anaconda3\\lib\\site-packages\\sklearn\\linear_model\\_sag.py:329: ConvergenceWarning: The max_iter was reached which means the coef_ did not converge\n",
      "  warnings.warn(\"The max_iter was reached which means \"\n"
     ]
    },
    {
     "name": "stdout",
     "output_type": "stream",
     "text": [
      "\n",
      "[CV] C=0.01, class_weight={1: 8}, max_iter=1000, penalty=l1, solver=saga \n",
      "[CV]  C=0.01, class_weight={1: 8}, max_iter=1000, penalty=l1, solver=saga, total=   2.2s\n",
      "[CV] C=0.01, class_weight={1: 8}, max_iter=1000, penalty=l1, solver=saga \n"
     ]
    },
    {
     "name": "stderr",
     "output_type": "stream",
     "text": [
      "C:\\Users\\tsuts\\anaconda3\\lib\\site-packages\\sklearn\\linear_model\\_sag.py:329: ConvergenceWarning: The max_iter was reached which means the coef_ did not converge\n",
      "  warnings.warn(\"The max_iter was reached which means \"\n"
     ]
    },
    {
     "name": "stdout",
     "output_type": "stream",
     "text": [
      "[CV]  C=0.01, class_weight={1: 8}, max_iter=1000, penalty=l1, solver=saga, total=   2.3s\n",
      "[CV] C=0.01, class_weight={1: 8}, max_iter=1000, penalty=l1, solver=saga \n",
      "[CV]  C=0.01, class_weight={1: 8}, max_iter=1000, penalty=l1, solver=saga, total=   0.1s\n",
      "[CV] C=0.01, class_weight={1: 8}, max_iter=1000, penalty=l1, solver=saga \n"
     ]
    },
    {
     "name": "stderr",
     "output_type": "stream",
     "text": [
      "C:\\Users\\tsuts\\anaconda3\\lib\\site-packages\\sklearn\\linear_model\\_sag.py:329: ConvergenceWarning: The max_iter was reached which means the coef_ did not converge\n",
      "  warnings.warn(\"The max_iter was reached which means \"\n"
     ]
    },
    {
     "name": "stdout",
     "output_type": "stream",
     "text": [
      "[CV]  C=0.01, class_weight={1: 8}, max_iter=1000, penalty=l1, solver=saga, total=   2.3s\n",
      "[CV] C=0.01, class_weight={1: 8}, max_iter=1000, penalty=l1, solver=saga \n",
      "[CV]  C=0.01, class_weight={1: 8}, max_iter=1000, penalty=l1, solver=saga, total=   0.1s\n",
      "[CV] C=0.01, class_weight={1: 8}, max_iter=1000, penalty=l1, solver=saga \n"
     ]
    },
    {
     "name": "stderr",
     "output_type": "stream",
     "text": [
      "C:\\Users\\tsuts\\anaconda3\\lib\\site-packages\\sklearn\\linear_model\\_sag.py:329: ConvergenceWarning: The max_iter was reached which means the coef_ did not converge\n",
      "  warnings.warn(\"The max_iter was reached which means \"\n"
     ]
    },
    {
     "name": "stdout",
     "output_type": "stream",
     "text": [
      "[CV]  C=0.01, class_weight={1: 8}, max_iter=1000, penalty=l1, solver=saga, total=   2.2s\n",
      "[CV] C=0.01, class_weight={1: 8}, max_iter=1000, penalty=l2, solver=liblinear \n",
      "[CV]  C=0.01, class_weight={1: 8}, max_iter=1000, penalty=l2, solver=liblinear, total=   0.0s\n",
      "[CV] C=0.01, class_weight={1: 8}, max_iter=1000, penalty=l2, solver=liblinear \n",
      "[CV]  C=0.01, class_weight={1: 8}, max_iter=1000, penalty=l2, solver=liblinear, total=   0.0s\n",
      "[CV] C=0.01, class_weight={1: 8}, max_iter=1000, penalty=l2, solver=liblinear \n",
      "[CV]  C=0.01, class_weight={1: 8}, max_iter=1000, penalty=l2, solver=liblinear, total=   0.0s\n",
      "[CV] C=0.01, class_weight={1: 8}, max_iter=1000, penalty=l2, solver=liblinear \n",
      "[CV]  C=0.01, class_weight={1: 8}, max_iter=1000, penalty=l2, solver=liblinear, total=   0.0s\n",
      "[CV] C=0.01, class_weight={1: 8}, max_iter=1000, penalty=l2, solver=liblinear \n",
      "[CV]  C=0.01, class_weight={1: 8}, max_iter=1000, penalty=l2, solver=liblinear, total=   0.0s\n",
      "[CV] C=0.01, class_weight={1: 8}, max_iter=1000, penalty=l2, solver=liblinear \n",
      "[CV]  C=0.01, class_weight={1: 8}, max_iter=1000, penalty=l2, solver=liblinear, total=   0.0s\n",
      "[CV] C=0.01, class_weight={1: 8}, max_iter=1000, penalty=l2, solver=liblinear \n",
      "[CV]  C=0.01, class_weight={1: 8}, max_iter=1000, penalty=l2, solver=liblinear, total=   0.0s\n",
      "[CV] C=0.01, class_weight={1: 8}, max_iter=1000, penalty=l2, solver=liblinear \n",
      "[CV]  C=0.01, class_weight={1: 8}, max_iter=1000, penalty=l2, solver=liblinear, total=   0.0s\n",
      "[CV] C=0.01, class_weight={1: 8}, max_iter=1000, penalty=l2, solver=liblinear \n",
      "[CV]  C=0.01, class_weight={1: 8}, max_iter=1000, penalty=l2, solver=liblinear, total=   0.0s\n",
      "[CV] C=0.01, class_weight={1: 8}, max_iter=1000, penalty=l2, solver=liblinear \n",
      "[CV]  C=0.01, class_weight={1: 8}, max_iter=1000, penalty=l2, solver=liblinear, total=   0.0s"
     ]
    },
    {
     "name": "stderr",
     "output_type": "stream",
     "text": [
      "C:\\Users\\tsuts\\anaconda3\\lib\\site-packages\\sklearn\\linear_model\\_sag.py:329: ConvergenceWarning: The max_iter was reached which means the coef_ did not converge\n",
      "  warnings.warn(\"The max_iter was reached which means \"\n"
     ]
    },
    {
     "name": "stdout",
     "output_type": "stream",
     "text": [
      "\n",
      "[CV] C=0.01, class_weight={1: 8}, max_iter=1000, penalty=l2, solver=saga \n",
      "[CV]  C=0.01, class_weight={1: 8}, max_iter=1000, penalty=l2, solver=saga, total=   1.7s\n",
      "[CV] C=0.01, class_weight={1: 8}, max_iter=1000, penalty=l2, solver=saga \n"
     ]
    },
    {
     "name": "stderr",
     "output_type": "stream",
     "text": [
      "C:\\Users\\tsuts\\anaconda3\\lib\\site-packages\\sklearn\\linear_model\\_sag.py:329: ConvergenceWarning: The max_iter was reached which means the coef_ did not converge\n",
      "  warnings.warn(\"The max_iter was reached which means \"\n"
     ]
    },
    {
     "name": "stdout",
     "output_type": "stream",
     "text": [
      "[CV]  C=0.01, class_weight={1: 8}, max_iter=1000, penalty=l2, solver=saga, total=   1.7s\n",
      "[CV] C=0.01, class_weight={1: 8}, max_iter=1000, penalty=l2, solver=saga \n"
     ]
    },
    {
     "name": "stderr",
     "output_type": "stream",
     "text": [
      "C:\\Users\\tsuts\\anaconda3\\lib\\site-packages\\sklearn\\linear_model\\_sag.py:329: ConvergenceWarning: The max_iter was reached which means the coef_ did not converge\n",
      "  warnings.warn(\"The max_iter was reached which means \"\n"
     ]
    },
    {
     "name": "stdout",
     "output_type": "stream",
     "text": [
      "[CV]  C=0.01, class_weight={1: 8}, max_iter=1000, penalty=l2, solver=saga, total=   1.7s\n",
      "[CV] C=0.01, class_weight={1: 8}, max_iter=1000, penalty=l2, solver=saga \n"
     ]
    },
    {
     "name": "stderr",
     "output_type": "stream",
     "text": [
      "C:\\Users\\tsuts\\anaconda3\\lib\\site-packages\\sklearn\\linear_model\\_sag.py:329: ConvergenceWarning: The max_iter was reached which means the coef_ did not converge\n",
      "  warnings.warn(\"The max_iter was reached which means \"\n"
     ]
    },
    {
     "name": "stdout",
     "output_type": "stream",
     "text": [
      "[CV]  C=0.01, class_weight={1: 8}, max_iter=1000, penalty=l2, solver=saga, total=   1.7s\n",
      "[CV] C=0.01, class_weight={1: 8}, max_iter=1000, penalty=l2, solver=saga \n"
     ]
    },
    {
     "name": "stderr",
     "output_type": "stream",
     "text": [
      "C:\\Users\\tsuts\\anaconda3\\lib\\site-packages\\sklearn\\linear_model\\_sag.py:329: ConvergenceWarning: The max_iter was reached which means the coef_ did not converge\n",
      "  warnings.warn(\"The max_iter was reached which means \"\n"
     ]
    },
    {
     "name": "stdout",
     "output_type": "stream",
     "text": [
      "[CV]  C=0.01, class_weight={1: 8}, max_iter=1000, penalty=l2, solver=saga, total=   1.7s\n",
      "[CV] C=0.01, class_weight={1: 8}, max_iter=1000, penalty=l2, solver=saga \n"
     ]
    },
    {
     "name": "stderr",
     "output_type": "stream",
     "text": [
      "C:\\Users\\tsuts\\anaconda3\\lib\\site-packages\\sklearn\\linear_model\\_sag.py:329: ConvergenceWarning: The max_iter was reached which means the coef_ did not converge\n",
      "  warnings.warn(\"The max_iter was reached which means \"\n"
     ]
    },
    {
     "name": "stdout",
     "output_type": "stream",
     "text": [
      "[CV]  C=0.01, class_weight={1: 8}, max_iter=1000, penalty=l2, solver=saga, total=   1.7s\n",
      "[CV] C=0.01, class_weight={1: 8}, max_iter=1000, penalty=l2, solver=saga \n"
     ]
    },
    {
     "name": "stderr",
     "output_type": "stream",
     "text": [
      "C:\\Users\\tsuts\\anaconda3\\lib\\site-packages\\sklearn\\linear_model\\_sag.py:329: ConvergenceWarning: The max_iter was reached which means the coef_ did not converge\n",
      "  warnings.warn(\"The max_iter was reached which means \"\n"
     ]
    },
    {
     "name": "stdout",
     "output_type": "stream",
     "text": [
      "[CV]  C=0.01, class_weight={1: 8}, max_iter=1000, penalty=l2, solver=saga, total=   1.7s\n",
      "[CV] C=0.01, class_weight={1: 8}, max_iter=1000, penalty=l2, solver=saga \n"
     ]
    },
    {
     "name": "stderr",
     "output_type": "stream",
     "text": [
      "C:\\Users\\tsuts\\anaconda3\\lib\\site-packages\\sklearn\\linear_model\\_sag.py:329: ConvergenceWarning: The max_iter was reached which means the coef_ did not converge\n",
      "  warnings.warn(\"The max_iter was reached which means \"\n"
     ]
    },
    {
     "name": "stdout",
     "output_type": "stream",
     "text": [
      "[CV]  C=0.01, class_weight={1: 8}, max_iter=1000, penalty=l2, solver=saga, total=   1.7s\n",
      "[CV] C=0.01, class_weight={1: 8}, max_iter=1000, penalty=l2, solver=saga \n"
     ]
    },
    {
     "name": "stderr",
     "output_type": "stream",
     "text": [
      "C:\\Users\\tsuts\\anaconda3\\lib\\site-packages\\sklearn\\linear_model\\_sag.py:329: ConvergenceWarning: The max_iter was reached which means the coef_ did not converge\n",
      "  warnings.warn(\"The max_iter was reached which means \"\n"
     ]
    },
    {
     "name": "stdout",
     "output_type": "stream",
     "text": [
      "[CV]  C=0.01, class_weight={1: 8}, max_iter=1000, penalty=l2, solver=saga, total=   1.7s\n",
      "[CV] C=0.01, class_weight={1: 8}, max_iter=1000, penalty=l2, solver=saga \n"
     ]
    },
    {
     "name": "stderr",
     "output_type": "stream",
     "text": [
      "C:\\Users\\tsuts\\anaconda3\\lib\\site-packages\\sklearn\\linear_model\\_sag.py:329: ConvergenceWarning: The max_iter was reached which means the coef_ did not converge\n",
      "  warnings.warn(\"The max_iter was reached which means \"\n",
      "[Parallel(n_jobs=1)]: Done 160 out of 160 | elapsed:  1.4min finished\n"
     ]
    },
    {
     "name": "stdout",
     "output_type": "stream",
     "text": [
      "[CV]  C=0.01, class_weight={1: 8}, max_iter=1000, penalty=l2, solver=saga, total=   1.7s\n"
     ]
    },
    {
     "name": "stderr",
     "output_type": "stream",
     "text": [
      "C:\\Users\\tsuts\\anaconda3\\lib\\site-packages\\sklearn\\linear_model\\_sag.py:329: ConvergenceWarning: The max_iter was reached which means the coef_ did not converge\n",
      "  warnings.warn(\"The max_iter was reached which means \"\n",
      "[Parallel(n_jobs=1)]: Using backend SequentialBackend with 1 concurrent workers.\n",
      "[Parallel(n_jobs=1)]: Done   1 out of   1 | elapsed:    0.0s remaining:    0.0s\n"
     ]
    },
    {
     "name": "stdout",
     "output_type": "stream",
     "text": [
      "Fitting 10 folds for each of 16 candidates, totalling 160 fits\n",
      "[CV] C=0.01, class_weight={1: 25}, max_iter=100, penalty=l1, solver=liblinear \n",
      "[CV]  C=0.01, class_weight={1: 25}, max_iter=100, penalty=l1, solver=liblinear, total=   0.0s\n",
      "[CV] C=0.01, class_weight={1: 25}, max_iter=100, penalty=l1, solver=liblinear \n",
      "[CV]  C=0.01, class_weight={1: 25}, max_iter=100, penalty=l1, solver=liblinear, total=   0.0s\n",
      "[CV] C=0.01, class_weight={1: 25}, max_iter=100, penalty=l1, solver=liblinear \n",
      "[CV]  C=0.01, class_weight={1: 25}, max_iter=100, penalty=l1, solver=liblinear, total=   0.0s\n",
      "[CV] C=0.01, class_weight={1: 25}, max_iter=100, penalty=l1, solver=liblinear \n",
      "[CV]  C=0.01, class_weight={1: 25}, max_iter=100, penalty=l1, solver=liblinear, total=   0.0s\n",
      "[CV] C=0.01, class_weight={1: 25}, max_iter=100, penalty=l1, solver=liblinear \n",
      "[CV]  C=0.01, class_weight={1: 25}, max_iter=100, penalty=l1, solver=liblinear, total=   0.0s\n",
      "[CV] C=0.01, class_weight={1: 25}, max_iter=100, penalty=l1, solver=liblinear \n",
      "[CV]  C=0.01, class_weight={1: 25}, max_iter=100, penalty=l1, solver=liblinear, total=   0.0s\n",
      "[CV] C=0.01, class_weight={1: 25}, max_iter=100, penalty=l1, solver=liblinear \n",
      "[CV]  C=0.01, class_weight={1: 25}, max_iter=100, penalty=l1, solver=liblinear, total=   0.0s\n",
      "[CV] C=0.01, class_weight={1: 25}, max_iter=100, penalty=l1, solver=liblinear \n",
      "[CV]  C=0.01, class_weight={1: 25}, max_iter=100, penalty=l1, solver=liblinear, total=   0.0s\n",
      "[CV] C=0.01, class_weight={1: 25}, max_iter=100, penalty=l1, solver=liblinear \n",
      "[CV]  C=0.01, class_weight={1: 25}, max_iter=100, penalty=l1, solver=liblinear, total=   0.0s\n",
      "[CV] C=0.01, class_weight={1: 25}, max_iter=100, penalty=l1, solver=liblinear \n",
      "[CV]  C=0.01, class_weight={1: 25}, max_iter=100, penalty=l1, solver=liblinear, total=   0.0s\n",
      "[CV] C=0.01, class_weight={1: 25}, max_iter=100, penalty=l1, solver=saga \n"
     ]
    },
    {
     "name": "stderr",
     "output_type": "stream",
     "text": [
      "C:\\Users\\tsuts\\anaconda3\\lib\\site-packages\\sklearn\\linear_model\\_sag.py:329: ConvergenceWarning: The max_iter was reached which means the coef_ did not converge\n",
      "  warnings.warn(\"The max_iter was reached which means \"\n"
     ]
    },
    {
     "name": "stdout",
     "output_type": "stream",
     "text": [
      "[CV]  C=0.01, class_weight={1: 25}, max_iter=100, penalty=l1, solver=saga, total=   0.2s\n",
      "[CV] C=0.01, class_weight={1: 25}, max_iter=100, penalty=l1, solver=saga \n"
     ]
    },
    {
     "name": "stderr",
     "output_type": "stream",
     "text": [
      "C:\\Users\\tsuts\\anaconda3\\lib\\site-packages\\sklearn\\linear_model\\_sag.py:329: ConvergenceWarning: The max_iter was reached which means the coef_ did not converge\n",
      "  warnings.warn(\"The max_iter was reached which means \"\n"
     ]
    },
    {
     "name": "stdout",
     "output_type": "stream",
     "text": [
      "[CV]  C=0.01, class_weight={1: 25}, max_iter=100, penalty=l1, solver=saga, total=   0.2s\n",
      "[CV] C=0.01, class_weight={1: 25}, max_iter=100, penalty=l1, solver=saga \n",
      "[CV]  C=0.01, class_weight={1: 25}, max_iter=100, penalty=l1, solver=saga, total=   0.2s\n",
      "[CV] C=0.01, class_weight={1: 25}, max_iter=100, penalty=l1, solver=saga \n"
     ]
    },
    {
     "name": "stderr",
     "output_type": "stream",
     "text": [
      "C:\\Users\\tsuts\\anaconda3\\lib\\site-packages\\sklearn\\linear_model\\_sag.py:329: ConvergenceWarning: The max_iter was reached which means the coef_ did not converge\n",
      "  warnings.warn(\"The max_iter was reached which means \"\n"
     ]
    },
    {
     "name": "stdout",
     "output_type": "stream",
     "text": [
      "[CV]  C=0.01, class_weight={1: 25}, max_iter=100, penalty=l1, solver=saga, total=   0.2s\n",
      "[CV] C=0.01, class_weight={1: 25}, max_iter=100, penalty=l1, solver=saga \n"
     ]
    },
    {
     "name": "stderr",
     "output_type": "stream",
     "text": [
      "C:\\Users\\tsuts\\anaconda3\\lib\\site-packages\\sklearn\\linear_model\\_sag.py:329: ConvergenceWarning: The max_iter was reached which means the coef_ did not converge\n",
      "  warnings.warn(\"The max_iter was reached which means \"\n"
     ]
    },
    {
     "name": "stdout",
     "output_type": "stream",
     "text": [
      "[CV]  C=0.01, class_weight={1: 25}, max_iter=100, penalty=l1, solver=saga, total=   0.2s\n",
      "[CV] C=0.01, class_weight={1: 25}, max_iter=100, penalty=l1, solver=saga \n"
     ]
    },
    {
     "name": "stderr",
     "output_type": "stream",
     "text": [
      "C:\\Users\\tsuts\\anaconda3\\lib\\site-packages\\sklearn\\linear_model\\_sag.py:329: ConvergenceWarning: The max_iter was reached which means the coef_ did not converge\n",
      "  warnings.warn(\"The max_iter was reached which means \"\n"
     ]
    },
    {
     "name": "stdout",
     "output_type": "stream",
     "text": [
      "[CV]  C=0.01, class_weight={1: 25}, max_iter=100, penalty=l1, solver=saga, total=   0.2s\n",
      "[CV] C=0.01, class_weight={1: 25}, max_iter=100, penalty=l1, solver=saga \n"
     ]
    },
    {
     "name": "stderr",
     "output_type": "stream",
     "text": [
      "C:\\Users\\tsuts\\anaconda3\\lib\\site-packages\\sklearn\\linear_model\\_sag.py:329: ConvergenceWarning: The max_iter was reached which means the coef_ did not converge\n",
      "  warnings.warn(\"The max_iter was reached which means \"\n"
     ]
    },
    {
     "name": "stdout",
     "output_type": "stream",
     "text": [
      "[CV]  C=0.01, class_weight={1: 25}, max_iter=100, penalty=l1, solver=saga, total=   0.2s\n",
      "[CV] C=0.01, class_weight={1: 25}, max_iter=100, penalty=l1, solver=saga \n"
     ]
    },
    {
     "name": "stderr",
     "output_type": "stream",
     "text": [
      "C:\\Users\\tsuts\\anaconda3\\lib\\site-packages\\sklearn\\linear_model\\_sag.py:329: ConvergenceWarning: The max_iter was reached which means the coef_ did not converge\n",
      "  warnings.warn(\"The max_iter was reached which means \"\n"
     ]
    },
    {
     "name": "stdout",
     "output_type": "stream",
     "text": [
      "[CV]  C=0.01, class_weight={1: 25}, max_iter=100, penalty=l1, solver=saga, total=   0.2s\n",
      "[CV] C=0.01, class_weight={1: 25}, max_iter=100, penalty=l1, solver=saga \n"
     ]
    },
    {
     "name": "stderr",
     "output_type": "stream",
     "text": [
      "C:\\Users\\tsuts\\anaconda3\\lib\\site-packages\\sklearn\\linear_model\\_sag.py:329: ConvergenceWarning: The max_iter was reached which means the coef_ did not converge\n",
      "  warnings.warn(\"The max_iter was reached which means \"\n"
     ]
    },
    {
     "name": "stdout",
     "output_type": "stream",
     "text": [
      "[CV]  C=0.01, class_weight={1: 25}, max_iter=100, penalty=l1, solver=saga, total=   0.2s\n",
      "[CV] C=0.01, class_weight={1: 25}, max_iter=100, penalty=l1, solver=saga \n"
     ]
    },
    {
     "name": "stderr",
     "output_type": "stream",
     "text": [
      "C:\\Users\\tsuts\\anaconda3\\lib\\site-packages\\sklearn\\linear_model\\_sag.py:329: ConvergenceWarning: The max_iter was reached which means the coef_ did not converge\n",
      "  warnings.warn(\"The max_iter was reached which means \"\n"
     ]
    },
    {
     "name": "stdout",
     "output_type": "stream",
     "text": [
      "[CV]  C=0.01, class_weight={1: 25}, max_iter=100, penalty=l1, solver=saga, total=   0.2s\n",
      "[CV] C=0.01, class_weight={1: 25}, max_iter=100, penalty=l2, solver=liblinear \n",
      "[CV]  C=0.01, class_weight={1: 25}, max_iter=100, penalty=l2, solver=liblinear, total=   0.0s\n",
      "[CV] C=0.01, class_weight={1: 25}, max_iter=100, penalty=l2, solver=liblinear \n",
      "[CV]  C=0.01, class_weight={1: 25}, max_iter=100, penalty=l2, solver=liblinear, total=   0.0s\n",
      "[CV] C=0.01, class_weight={1: 25}, max_iter=100, penalty=l2, solver=liblinear \n",
      "[CV]  C=0.01, class_weight={1: 25}, max_iter=100, penalty=l2, solver=liblinear, total=   0.0s\n",
      "[CV] C=0.01, class_weight={1: 25}, max_iter=100, penalty=l2, solver=liblinear \n",
      "[CV]  C=0.01, class_weight={1: 25}, max_iter=100, penalty=l2, solver=liblinear, total=   0.0s\n",
      "[CV] C=0.01, class_weight={1: 25}, max_iter=100, penalty=l2, solver=liblinear \n",
      "[CV]  C=0.01, class_weight={1: 25}, max_iter=100, penalty=l2, solver=liblinear, total=   0.0s\n",
      "[CV] C=0.01, class_weight={1: 25}, max_iter=100, penalty=l2, solver=liblinear \n",
      "[CV]  C=0.01, class_weight={1: 25}, max_iter=100, penalty=l2, solver=liblinear, total=   0.0s\n",
      "[CV] C=0.01, class_weight={1: 25}, max_iter=100, penalty=l2, solver=liblinear \n",
      "[CV]  C=0.01, class_weight={1: 25}, max_iter=100, penalty=l2, solver=liblinear, total=   0.0s\n",
      "[CV] C=0.01, class_weight={1: 25}, max_iter=100, penalty=l2, solver=liblinear \n",
      "[CV]  C=0.01, class_weight={1: 25}, max_iter=100, penalty=l2, solver=liblinear, total=   0.0s\n",
      "[CV] C=0.01, class_weight={1: 25}, max_iter=100, penalty=l2, solver=liblinear \n",
      "[CV]  C=0.01, class_weight={1: 25}, max_iter=100, penalty=l2, solver=liblinear, total=   0.0s\n",
      "[CV] C=0.01, class_weight={1: 25}, max_iter=100, penalty=l2, solver=liblinear \n",
      "[CV]  C=0.01, class_weight={1: 25}, max_iter=100, penalty=l2, solver=liblinear, total=   0.0s"
     ]
    },
    {
     "name": "stderr",
     "output_type": "stream",
     "text": [
      "C:\\Users\\tsuts\\anaconda3\\lib\\site-packages\\sklearn\\linear_model\\_sag.py:329: ConvergenceWarning: The max_iter was reached which means the coef_ did not converge\n",
      "  warnings.warn(\"The max_iter was reached which means \"\n",
      "C:\\Users\\tsuts\\anaconda3\\lib\\site-packages\\sklearn\\linear_model\\_sag.py:329: ConvergenceWarning: The max_iter was reached which means the coef_ did not converge\n",
      "  warnings.warn(\"The max_iter was reached which means \"\n"
     ]
    },
    {
     "name": "stdout",
     "output_type": "stream",
     "text": [
      "\n",
      "[CV] C=0.01, class_weight={1: 25}, max_iter=100, penalty=l2, solver=saga \n",
      "[CV]  C=0.01, class_weight={1: 25}, max_iter=100, penalty=l2, solver=saga, total=   0.2s\n",
      "[CV] C=0.01, class_weight={1: 25}, max_iter=100, penalty=l2, solver=saga \n",
      "[CV]  C=0.01, class_weight={1: 25}, max_iter=100, penalty=l2, solver=saga, total=   0.2s\n",
      "[CV] C=0.01, class_weight={1: 25}, max_iter=100, penalty=l2, solver=saga \n"
     ]
    },
    {
     "name": "stderr",
     "output_type": "stream",
     "text": [
      "C:\\Users\\tsuts\\anaconda3\\lib\\site-packages\\sklearn\\linear_model\\_sag.py:329: ConvergenceWarning: The max_iter was reached which means the coef_ did not converge\n",
      "  warnings.warn(\"The max_iter was reached which means \"\n",
      "C:\\Users\\tsuts\\anaconda3\\lib\\site-packages\\sklearn\\linear_model\\_sag.py:329: ConvergenceWarning: The max_iter was reached which means the coef_ did not converge\n",
      "  warnings.warn(\"The max_iter was reached which means \"\n"
     ]
    },
    {
     "name": "stdout",
     "output_type": "stream",
     "text": [
      "[CV]  C=0.01, class_weight={1: 25}, max_iter=100, penalty=l2, solver=saga, total=   0.2s\n",
      "[CV] C=0.01, class_weight={1: 25}, max_iter=100, penalty=l2, solver=saga \n",
      "[CV]  C=0.01, class_weight={1: 25}, max_iter=100, penalty=l2, solver=saga, total=   0.2s\n",
      "[CV] C=0.01, class_weight={1: 25}, max_iter=100, penalty=l2, solver=saga \n"
     ]
    },
    {
     "name": "stderr",
     "output_type": "stream",
     "text": [
      "C:\\Users\\tsuts\\anaconda3\\lib\\site-packages\\sklearn\\linear_model\\_sag.py:329: ConvergenceWarning: The max_iter was reached which means the coef_ did not converge\n",
      "  warnings.warn(\"The max_iter was reached which means \"\n",
      "C:\\Users\\tsuts\\anaconda3\\lib\\site-packages\\sklearn\\linear_model\\_sag.py:329: ConvergenceWarning: The max_iter was reached which means the coef_ did not converge\n",
      "  warnings.warn(\"The max_iter was reached which means \"\n"
     ]
    },
    {
     "name": "stdout",
     "output_type": "stream",
     "text": [
      "[CV]  C=0.01, class_weight={1: 25}, max_iter=100, penalty=l2, solver=saga, total=   0.2s\n",
      "[CV] C=0.01, class_weight={1: 25}, max_iter=100, penalty=l2, solver=saga \n",
      "[CV]  C=0.01, class_weight={1: 25}, max_iter=100, penalty=l2, solver=saga, total=   0.2s\n",
      "[CV] C=0.01, class_weight={1: 25}, max_iter=100, penalty=l2, solver=saga \n"
     ]
    },
    {
     "name": "stderr",
     "output_type": "stream",
     "text": [
      "C:\\Users\\tsuts\\anaconda3\\lib\\site-packages\\sklearn\\linear_model\\_sag.py:329: ConvergenceWarning: The max_iter was reached which means the coef_ did not converge\n",
      "  warnings.warn(\"The max_iter was reached which means \"\n",
      "C:\\Users\\tsuts\\anaconda3\\lib\\site-packages\\sklearn\\linear_model\\_sag.py:329: ConvergenceWarning: The max_iter was reached which means the coef_ did not converge\n",
      "  warnings.warn(\"The max_iter was reached which means \"\n"
     ]
    },
    {
     "name": "stdout",
     "output_type": "stream",
     "text": [
      "[CV]  C=0.01, class_weight={1: 25}, max_iter=100, penalty=l2, solver=saga, total=   0.2s\n",
      "[CV] C=0.01, class_weight={1: 25}, max_iter=100, penalty=l2, solver=saga \n",
      "[CV]  C=0.01, class_weight={1: 25}, max_iter=100, penalty=l2, solver=saga, total=   0.2s\n",
      "[CV] C=0.01, class_weight={1: 25}, max_iter=100, penalty=l2, solver=saga \n"
     ]
    },
    {
     "name": "stderr",
     "output_type": "stream",
     "text": [
      "C:\\Users\\tsuts\\anaconda3\\lib\\site-packages\\sklearn\\linear_model\\_sag.py:329: ConvergenceWarning: The max_iter was reached which means the coef_ did not converge\n",
      "  warnings.warn(\"The max_iter was reached which means \"\n",
      "C:\\Users\\tsuts\\anaconda3\\lib\\site-packages\\sklearn\\linear_model\\_sag.py:329: ConvergenceWarning: The max_iter was reached which means the coef_ did not converge\n",
      "  warnings.warn(\"The max_iter was reached which means \"\n"
     ]
    },
    {
     "name": "stdout",
     "output_type": "stream",
     "text": [
      "[CV]  C=0.01, class_weight={1: 25}, max_iter=100, penalty=l2, solver=saga, total=   0.2s\n",
      "[CV] C=0.01, class_weight={1: 25}, max_iter=100, penalty=l2, solver=saga \n",
      "[CV]  C=0.01, class_weight={1: 25}, max_iter=100, penalty=l2, solver=saga, total=   0.2s\n",
      "[CV] C=0.01, class_weight={1: 25}, max_iter=1000, penalty=l1, solver=liblinear \n",
      "[CV]  C=0.01, class_weight={1: 25}, max_iter=1000, penalty=l1, solver=liblinear, total=   0.0s\n",
      "[CV] C=0.01, class_weight={1: 25}, max_iter=1000, penalty=l1, solver=liblinear \n",
      "[CV]  C=0.01, class_weight={1: 25}, max_iter=1000, penalty=l1, solver=liblinear, total=   0.0s\n",
      "[CV] C=0.01, class_weight={1: 25}, max_iter=1000, penalty=l1, solver=liblinear \n",
      "[CV]  C=0.01, class_weight={1: 25}, max_iter=1000, penalty=l1, solver=liblinear, total=   0.0s\n",
      "[CV] C=0.01, class_weight={1: 25}, max_iter=1000, penalty=l1, solver=liblinear \n",
      "[CV]  C=0.01, class_weight={1: 25}, max_iter=1000, penalty=l1, solver=liblinear, total=   0.0s\n",
      "[CV] C=0.01, class_weight={1: 25}, max_iter=1000, penalty=l1, solver=liblinear \n",
      "[CV]  C=0.01, class_weight={1: 25}, max_iter=1000, penalty=l1, solver=liblinear, total=   0.0s\n",
      "[CV] C=0.01, class_weight={1: 25}, max_iter=1000, penalty=l1, solver=liblinear \n",
      "[CV]  C=0.01, class_weight={1: 25}, max_iter=1000, penalty=l1, solver=liblinear, total=   0.0s\n",
      "[CV] C=0.01, class_weight={1: 25}, max_iter=1000, penalty=l1, solver=liblinear \n",
      "[CV]  C=0.01, class_weight={1: 25}, max_iter=1000, penalty=l1, solver=liblinear, total=   0.0s\n",
      "[CV] C=0.01, class_weight={1: 25}, max_iter=1000, penalty=l1, solver=liblinear \n",
      "[CV]  C=0.01, class_weight={1: 25}, max_iter=1000, penalty=l1, solver=liblinear, total=   0.0s\n",
      "[CV] C=0.01, class_weight={1: 25}, max_iter=1000, penalty=l1, solver=liblinear \n",
      "[CV]  C=0.01, class_weight={1: 25}, max_iter=1000, penalty=l1, solver=liblinear, total=   0.0s\n",
      "[CV] C=0.01, class_weight={1: 25}, max_iter=1000, penalty=l1, solver=liblinear \n",
      "[CV]  C=0.01, class_weight={1: 25}, max_iter=1000, penalty=l1, solver=liblinear, total=   0.0s\n",
      "[CV] C=0.01, class_weight={1: 25}, max_iter=1000, penalty=l1, solver=saga \n"
     ]
    },
    {
     "name": "stderr",
     "output_type": "stream",
     "text": [
      "C:\\Users\\tsuts\\anaconda3\\lib\\site-packages\\sklearn\\linear_model\\_sag.py:329: ConvergenceWarning: The max_iter was reached which means the coef_ did not converge\n",
      "  warnings.warn(\"The max_iter was reached which means \"\n"
     ]
    },
    {
     "name": "stdout",
     "output_type": "stream",
     "text": [
      "[CV]  C=0.01, class_weight={1: 25}, max_iter=1000, penalty=l1, solver=saga, total=   2.4s\n",
      "[CV] C=0.01, class_weight={1: 25}, max_iter=1000, penalty=l1, solver=saga \n"
     ]
    },
    {
     "name": "stderr",
     "output_type": "stream",
     "text": [
      "C:\\Users\\tsuts\\anaconda3\\lib\\site-packages\\sklearn\\linear_model\\_sag.py:329: ConvergenceWarning: The max_iter was reached which means the coef_ did not converge\n",
      "  warnings.warn(\"The max_iter was reached which means \"\n"
     ]
    },
    {
     "name": "stdout",
     "output_type": "stream",
     "text": [
      "[CV]  C=0.01, class_weight={1: 25}, max_iter=1000, penalty=l1, solver=saga, total=   2.4s\n",
      "[CV] C=0.01, class_weight={1: 25}, max_iter=1000, penalty=l1, solver=saga \n",
      "[CV]  C=0.01, class_weight={1: 25}, max_iter=1000, penalty=l1, solver=saga, total=   0.3s\n",
      "[CV] C=0.01, class_weight={1: 25}, max_iter=1000, penalty=l1, solver=saga \n"
     ]
    },
    {
     "name": "stderr",
     "output_type": "stream",
     "text": [
      "C:\\Users\\tsuts\\anaconda3\\lib\\site-packages\\sklearn\\linear_model\\_sag.py:329: ConvergenceWarning: The max_iter was reached which means the coef_ did not converge\n",
      "  warnings.warn(\"The max_iter was reached which means \"\n"
     ]
    },
    {
     "name": "stdout",
     "output_type": "stream",
     "text": [
      "[CV]  C=0.01, class_weight={1: 25}, max_iter=1000, penalty=l1, solver=saga, total=   2.3s\n",
      "[CV] C=0.01, class_weight={1: 25}, max_iter=1000, penalty=l1, solver=saga \n"
     ]
    },
    {
     "name": "stderr",
     "output_type": "stream",
     "text": [
      "C:\\Users\\tsuts\\anaconda3\\lib\\site-packages\\sklearn\\linear_model\\_sag.py:329: ConvergenceWarning: The max_iter was reached which means the coef_ did not converge\n",
      "  warnings.warn(\"The max_iter was reached which means \"\n"
     ]
    },
    {
     "name": "stdout",
     "output_type": "stream",
     "text": [
      "[CV]  C=0.01, class_weight={1: 25}, max_iter=1000, penalty=l1, solver=saga, total=   2.4s\n",
      "[CV] C=0.01, class_weight={1: 25}, max_iter=1000, penalty=l1, solver=saga \n"
     ]
    },
    {
     "name": "stderr",
     "output_type": "stream",
     "text": [
      "C:\\Users\\tsuts\\anaconda3\\lib\\site-packages\\sklearn\\linear_model\\_sag.py:329: ConvergenceWarning: The max_iter was reached which means the coef_ did not converge\n",
      "  warnings.warn(\"The max_iter was reached which means \"\n"
     ]
    },
    {
     "name": "stdout",
     "output_type": "stream",
     "text": [
      "[CV]  C=0.01, class_weight={1: 25}, max_iter=1000, penalty=l1, solver=saga, total=   2.4s\n",
      "[CV] C=0.01, class_weight={1: 25}, max_iter=1000, penalty=l1, solver=saga \n"
     ]
    },
    {
     "name": "stderr",
     "output_type": "stream",
     "text": [
      "C:\\Users\\tsuts\\anaconda3\\lib\\site-packages\\sklearn\\linear_model\\_sag.py:329: ConvergenceWarning: The max_iter was reached which means the coef_ did not converge\n",
      "  warnings.warn(\"The max_iter was reached which means \"\n"
     ]
    },
    {
     "name": "stdout",
     "output_type": "stream",
     "text": [
      "[CV]  C=0.01, class_weight={1: 25}, max_iter=1000, penalty=l1, solver=saga, total=   2.3s\n",
      "[CV] C=0.01, class_weight={1: 25}, max_iter=1000, penalty=l1, solver=saga \n"
     ]
    },
    {
     "name": "stderr",
     "output_type": "stream",
     "text": [
      "C:\\Users\\tsuts\\anaconda3\\lib\\site-packages\\sklearn\\linear_model\\_sag.py:329: ConvergenceWarning: The max_iter was reached which means the coef_ did not converge\n",
      "  warnings.warn(\"The max_iter was reached which means \"\n"
     ]
    },
    {
     "name": "stdout",
     "output_type": "stream",
     "text": [
      "[CV]  C=0.01, class_weight={1: 25}, max_iter=1000, penalty=l1, solver=saga, total=   2.4s\n",
      "[CV] C=0.01, class_weight={1: 25}, max_iter=1000, penalty=l1, solver=saga \n",
      "[CV]  C=0.01, class_weight={1: 25}, max_iter=1000, penalty=l1, solver=saga, total=   0.2s\n",
      "[CV] C=0.01, class_weight={1: 25}, max_iter=1000, penalty=l1, solver=saga \n"
     ]
    },
    {
     "name": "stderr",
     "output_type": "stream",
     "text": [
      "C:\\Users\\tsuts\\anaconda3\\lib\\site-packages\\sklearn\\linear_model\\_sag.py:329: ConvergenceWarning: The max_iter was reached which means the coef_ did not converge\n",
      "  warnings.warn(\"The max_iter was reached which means \"\n"
     ]
    },
    {
     "name": "stdout",
     "output_type": "stream",
     "text": [
      "[CV]  C=0.01, class_weight={1: 25}, max_iter=1000, penalty=l1, solver=saga, total=   2.4s\n",
      "[CV] C=0.01, class_weight={1: 25}, max_iter=1000, penalty=l2, solver=liblinear \n",
      "[CV]  C=0.01, class_weight={1: 25}, max_iter=1000, penalty=l2, solver=liblinear, total=   0.0s\n",
      "[CV] C=0.01, class_weight={1: 25}, max_iter=1000, penalty=l2, solver=liblinear \n",
      "[CV]  C=0.01, class_weight={1: 25}, max_iter=1000, penalty=l2, solver=liblinear, total=   0.0s\n",
      "[CV] C=0.01, class_weight={1: 25}, max_iter=1000, penalty=l2, solver=liblinear \n",
      "[CV]  C=0.01, class_weight={1: 25}, max_iter=1000, penalty=l2, solver=liblinear, total=   0.0s\n",
      "[CV] C=0.01, class_weight={1: 25}, max_iter=1000, penalty=l2, solver=liblinear \n",
      "[CV]  C=0.01, class_weight={1: 25}, max_iter=1000, penalty=l2, solver=liblinear, total=   0.0s\n",
      "[CV] C=0.01, class_weight={1: 25}, max_iter=1000, penalty=l2, solver=liblinear \n",
      "[CV]  C=0.01, class_weight={1: 25}, max_iter=1000, penalty=l2, solver=liblinear, total=   0.0s\n",
      "[CV] C=0.01, class_weight={1: 25}, max_iter=1000, penalty=l2, solver=liblinear \n",
      "[CV]  C=0.01, class_weight={1: 25}, max_iter=1000, penalty=l2, solver=liblinear, total=   0.0s\n",
      "[CV] C=0.01, class_weight={1: 25}, max_iter=1000, penalty=l2, solver=liblinear \n",
      "[CV]  C=0.01, class_weight={1: 25}, max_iter=1000, penalty=l2, solver=liblinear, total=   0.0s\n",
      "[CV] C=0.01, class_weight={1: 25}, max_iter=1000, penalty=l2, solver=liblinear \n",
      "[CV]  C=0.01, class_weight={1: 25}, max_iter=1000, penalty=l2, solver=liblinear, total=   0.0s\n",
      "[CV] C=0.01, class_weight={1: 25}, max_iter=1000, penalty=l2, solver=liblinear \n",
      "[CV]  C=0.01, class_weight={1: 25}, max_iter=1000, penalty=l2, solver=liblinear, total=   0.0s\n",
      "[CV] C=0.01, class_weight={1: 25}, max_iter=1000, penalty=l2, solver=liblinear \n",
      "[CV]  C=0.01, class_weight={1: 25}, max_iter=1000, penalty=l2, solver=liblinear, total=   0.0s\n",
      "[CV] C=0.01, class_weight={1: 25}, max_iter=1000, penalty=l2, solver=saga \n"
     ]
    },
    {
     "name": "stderr",
     "output_type": "stream",
     "text": [
      "C:\\Users\\tsuts\\anaconda3\\lib\\site-packages\\sklearn\\linear_model\\_sag.py:329: ConvergenceWarning: The max_iter was reached which means the coef_ did not converge\n",
      "  warnings.warn(\"The max_iter was reached which means \"\n"
     ]
    },
    {
     "name": "stdout",
     "output_type": "stream",
     "text": [
      "[CV]  C=0.01, class_weight={1: 25}, max_iter=1000, penalty=l2, solver=saga, total=   1.7s\n",
      "[CV] C=0.01, class_weight={1: 25}, max_iter=1000, penalty=l2, solver=saga \n"
     ]
    },
    {
     "name": "stderr",
     "output_type": "stream",
     "text": [
      "C:\\Users\\tsuts\\anaconda3\\lib\\site-packages\\sklearn\\linear_model\\_sag.py:329: ConvergenceWarning: The max_iter was reached which means the coef_ did not converge\n",
      "  warnings.warn(\"The max_iter was reached which means \"\n"
     ]
    },
    {
     "name": "stdout",
     "output_type": "stream",
     "text": [
      "[CV]  C=0.01, class_weight={1: 25}, max_iter=1000, penalty=l2, solver=saga, total=   1.7s\n",
      "[CV] C=0.01, class_weight={1: 25}, max_iter=1000, penalty=l2, solver=saga \n"
     ]
    },
    {
     "name": "stderr",
     "output_type": "stream",
     "text": [
      "C:\\Users\\tsuts\\anaconda3\\lib\\site-packages\\sklearn\\linear_model\\_sag.py:329: ConvergenceWarning: The max_iter was reached which means the coef_ did not converge\n",
      "  warnings.warn(\"The max_iter was reached which means \"\n"
     ]
    },
    {
     "name": "stdout",
     "output_type": "stream",
     "text": [
      "[CV]  C=0.01, class_weight={1: 25}, max_iter=1000, penalty=l2, solver=saga, total=   1.7s\n",
      "[CV] C=0.01, class_weight={1: 25}, max_iter=1000, penalty=l2, solver=saga \n"
     ]
    },
    {
     "name": "stderr",
     "output_type": "stream",
     "text": [
      "C:\\Users\\tsuts\\anaconda3\\lib\\site-packages\\sklearn\\linear_model\\_sag.py:329: ConvergenceWarning: The max_iter was reached which means the coef_ did not converge\n",
      "  warnings.warn(\"The max_iter was reached which means \"\n"
     ]
    },
    {
     "name": "stdout",
     "output_type": "stream",
     "text": [
      "[CV]  C=0.01, class_weight={1: 25}, max_iter=1000, penalty=l2, solver=saga, total=   1.7s\n",
      "[CV] C=0.01, class_weight={1: 25}, max_iter=1000, penalty=l2, solver=saga \n"
     ]
    },
    {
     "name": "stderr",
     "output_type": "stream",
     "text": [
      "C:\\Users\\tsuts\\anaconda3\\lib\\site-packages\\sklearn\\linear_model\\_sag.py:329: ConvergenceWarning: The max_iter was reached which means the coef_ did not converge\n",
      "  warnings.warn(\"The max_iter was reached which means \"\n"
     ]
    },
    {
     "name": "stdout",
     "output_type": "stream",
     "text": [
      "[CV]  C=0.01, class_weight={1: 25}, max_iter=1000, penalty=l2, solver=saga, total=   1.7s\n",
      "[CV] C=0.01, class_weight={1: 25}, max_iter=1000, penalty=l2, solver=saga \n"
     ]
    },
    {
     "name": "stderr",
     "output_type": "stream",
     "text": [
      "C:\\Users\\tsuts\\anaconda3\\lib\\site-packages\\sklearn\\linear_model\\_sag.py:329: ConvergenceWarning: The max_iter was reached which means the coef_ did not converge\n",
      "  warnings.warn(\"The max_iter was reached which means \"\n"
     ]
    },
    {
     "name": "stdout",
     "output_type": "stream",
     "text": [
      "[CV]  C=0.01, class_weight={1: 25}, max_iter=1000, penalty=l2, solver=saga, total=   1.7s\n",
      "[CV] C=0.01, class_weight={1: 25}, max_iter=1000, penalty=l2, solver=saga \n"
     ]
    },
    {
     "name": "stderr",
     "output_type": "stream",
     "text": [
      "C:\\Users\\tsuts\\anaconda3\\lib\\site-packages\\sklearn\\linear_model\\_sag.py:329: ConvergenceWarning: The max_iter was reached which means the coef_ did not converge\n",
      "  warnings.warn(\"The max_iter was reached which means \"\n"
     ]
    },
    {
     "name": "stdout",
     "output_type": "stream",
     "text": [
      "[CV]  C=0.01, class_weight={1: 25}, max_iter=1000, penalty=l2, solver=saga, total=   1.7s\n",
      "[CV] C=0.01, class_weight={1: 25}, max_iter=1000, penalty=l2, solver=saga \n"
     ]
    },
    {
     "name": "stderr",
     "output_type": "stream",
     "text": [
      "C:\\Users\\tsuts\\anaconda3\\lib\\site-packages\\sklearn\\linear_model\\_sag.py:329: ConvergenceWarning: The max_iter was reached which means the coef_ did not converge\n",
      "  warnings.warn(\"The max_iter was reached which means \"\n"
     ]
    },
    {
     "name": "stdout",
     "output_type": "stream",
     "text": [
      "[CV]  C=0.01, class_weight={1: 25}, max_iter=1000, penalty=l2, solver=saga, total=   1.7s\n",
      "[CV] C=0.01, class_weight={1: 25}, max_iter=1000, penalty=l2, solver=saga \n"
     ]
    },
    {
     "name": "stderr",
     "output_type": "stream",
     "text": [
      "C:\\Users\\tsuts\\anaconda3\\lib\\site-packages\\sklearn\\linear_model\\_sag.py:329: ConvergenceWarning: The max_iter was reached which means the coef_ did not converge\n",
      "  warnings.warn(\"The max_iter was reached which means \"\n"
     ]
    },
    {
     "name": "stdout",
     "output_type": "stream",
     "text": [
      "[CV]  C=0.01, class_weight={1: 25}, max_iter=1000, penalty=l2, solver=saga, total=   1.7s\n",
      "[CV] C=0.01, class_weight={1: 25}, max_iter=1000, penalty=l2, solver=saga \n"
     ]
    },
    {
     "name": "stderr",
     "output_type": "stream",
     "text": [
      "C:\\Users\\tsuts\\anaconda3\\lib\\site-packages\\sklearn\\linear_model\\_sag.py:329: ConvergenceWarning: The max_iter was reached which means the coef_ did not converge\n",
      "  warnings.warn(\"The max_iter was reached which means \"\n"
     ]
    },
    {
     "name": "stdout",
     "output_type": "stream",
     "text": [
      "[CV]  C=0.01, class_weight={1: 25}, max_iter=1000, penalty=l2, solver=saga, total=   1.7s\n",
      "[CV] C=0.01, class_weight={1: 8}, max_iter=100, penalty=l1, solver=liblinear \n",
      "[CV]  C=0.01, class_weight={1: 8}, max_iter=100, penalty=l1, solver=liblinear, total=   0.0s\n",
      "[CV] C=0.01, class_weight={1: 8}, max_iter=100, penalty=l1, solver=liblinear \n",
      "[CV]  C=0.01, class_weight={1: 8}, max_iter=100, penalty=l1, solver=liblinear, total=   0.0s\n",
      "[CV] C=0.01, class_weight={1: 8}, max_iter=100, penalty=l1, solver=liblinear \n",
      "[CV]  C=0.01, class_weight={1: 8}, max_iter=100, penalty=l1, solver=liblinear, total=   0.0s\n",
      "[CV] C=0.01, class_weight={1: 8}, max_iter=100, penalty=l1, solver=liblinear \n",
      "[CV]  C=0.01, class_weight={1: 8}, max_iter=100, penalty=l1, solver=liblinear, total=   0.0s\n",
      "[CV] C=0.01, class_weight={1: 8}, max_iter=100, penalty=l1, solver=liblinear \n",
      "[CV]  C=0.01, class_weight={1: 8}, max_iter=100, penalty=l1, solver=liblinear, total=   0.0s\n",
      "[CV] C=0.01, class_weight={1: 8}, max_iter=100, penalty=l1, solver=liblinear \n",
      "[CV]  C=0.01, class_weight={1: 8}, max_iter=100, penalty=l1, solver=liblinear, total=   0.0s\n",
      "[CV] C=0.01, class_weight={1: 8}, max_iter=100, penalty=l1, solver=liblinear \n",
      "[CV]  C=0.01, class_weight={1: 8}, max_iter=100, penalty=l1, solver=liblinear, total=   0.0s\n",
      "[CV] C=0.01, class_weight={1: 8}, max_iter=100, penalty=l1, solver=liblinear \n",
      "[CV]  C=0.01, class_weight={1: 8}, max_iter=100, penalty=l1, solver=liblinear, total=   0.0s\n",
      "[CV] C=0.01, class_weight={1: 8}, max_iter=100, penalty=l1, solver=liblinear \n",
      "[CV]  C=0.01, class_weight={1: 8}, max_iter=100, penalty=l1, solver=liblinear, total=   0.0s\n",
      "[CV] C=0.01, class_weight={1: 8}, max_iter=100, penalty=l1, solver=liblinear \n",
      "[CV]  C=0.01, class_weight={1: 8}, max_iter=100, penalty=l1, solver=liblinear, total=   0.0s\n",
      "[CV] C=0.01, class_weight={1: 8}, max_iter=100, penalty=l1, solver=saga \n"
     ]
    },
    {
     "name": "stderr",
     "output_type": "stream",
     "text": [
      "C:\\Users\\tsuts\\anaconda3\\lib\\site-packages\\sklearn\\linear_model\\_sag.py:329: ConvergenceWarning: The max_iter was reached which means the coef_ did not converge\n",
      "  warnings.warn(\"The max_iter was reached which means \"\n"
     ]
    },
    {
     "name": "stdout",
     "output_type": "stream",
     "text": [
      "[CV]  C=0.01, class_weight={1: 8}, max_iter=100, penalty=l1, solver=saga, total=   0.2s\n",
      "[CV] C=0.01, class_weight={1: 8}, max_iter=100, penalty=l1, solver=saga \n"
     ]
    },
    {
     "name": "stderr",
     "output_type": "stream",
     "text": [
      "C:\\Users\\tsuts\\anaconda3\\lib\\site-packages\\sklearn\\linear_model\\_sag.py:329: ConvergenceWarning: The max_iter was reached which means the coef_ did not converge\n",
      "  warnings.warn(\"The max_iter was reached which means \"\n"
     ]
    },
    {
     "name": "stdout",
     "output_type": "stream",
     "text": [
      "[CV]  C=0.01, class_weight={1: 8}, max_iter=100, penalty=l1, solver=saga, total=   0.2s\n",
      "[CV] C=0.01, class_weight={1: 8}, max_iter=100, penalty=l1, solver=saga \n",
      "[CV]  C=0.01, class_weight={1: 8}, max_iter=100, penalty=l1, solver=saga, total=   0.0s\n",
      "[CV] C=0.01, class_weight={1: 8}, max_iter=100, penalty=l1, solver=saga \n"
     ]
    },
    {
     "name": "stderr",
     "output_type": "stream",
     "text": [
      "C:\\Users\\tsuts\\anaconda3\\lib\\site-packages\\sklearn\\linear_model\\_sag.py:329: ConvergenceWarning: The max_iter was reached which means the coef_ did not converge\n",
      "  warnings.warn(\"The max_iter was reached which means \"\n",
      "C:\\Users\\tsuts\\anaconda3\\lib\\site-packages\\sklearn\\linear_model\\_sag.py:329: ConvergenceWarning: The max_iter was reached which means the coef_ did not converge\n",
      "  warnings.warn(\"The max_iter was reached which means \"\n"
     ]
    },
    {
     "name": "stdout",
     "output_type": "stream",
     "text": [
      "[CV]  C=0.01, class_weight={1: 8}, max_iter=100, penalty=l1, solver=saga, total=   0.2s\n",
      "[CV] C=0.01, class_weight={1: 8}, max_iter=100, penalty=l1, solver=saga \n",
      "[CV]  C=0.01, class_weight={1: 8}, max_iter=100, penalty=l1, solver=saga, total=   0.2s\n",
      "[CV] C=0.01, class_weight={1: 8}, max_iter=100, penalty=l1, solver=saga \n",
      "[CV]  C=0.01, class_weight={1: 8}, max_iter=100, penalty=l1, solver=saga, total=   0.1s\n",
      "[CV] C=0.01, class_weight={1: 8}, max_iter=100, penalty=l1, solver=saga \n"
     ]
    },
    {
     "name": "stderr",
     "output_type": "stream",
     "text": [
      "C:\\Users\\tsuts\\anaconda3\\lib\\site-packages\\sklearn\\linear_model\\_sag.py:329: ConvergenceWarning: The max_iter was reached which means the coef_ did not converge\n",
      "  warnings.warn(\"The max_iter was reached which means \"\n"
     ]
    },
    {
     "name": "stdout",
     "output_type": "stream",
     "text": [
      "[CV]  C=0.01, class_weight={1: 8}, max_iter=100, penalty=l1, solver=saga, total=   0.2s\n",
      "[CV] C=0.01, class_weight={1: 8}, max_iter=100, penalty=l1, solver=saga \n",
      "[CV]  C=0.01, class_weight={1: 8}, max_iter=100, penalty=l1, solver=saga, total=   0.1s\n",
      "[CV] C=0.01, class_weight={1: 8}, max_iter=100, penalty=l1, solver=saga \n",
      "[CV]  C=0.01, class_weight={1: 8}, max_iter=100, penalty=l1, solver=saga, total=   0.0s\n",
      "[CV] C=0.01, class_weight={1: 8}, max_iter=100, penalty=l1, solver=saga \n"
     ]
    },
    {
     "name": "stderr",
     "output_type": "stream",
     "text": [
      "C:\\Users\\tsuts\\anaconda3\\lib\\site-packages\\sklearn\\linear_model\\_sag.py:329: ConvergenceWarning: The max_iter was reached which means the coef_ did not converge\n",
      "  warnings.warn(\"The max_iter was reached which means \"\n"
     ]
    },
    {
     "name": "stdout",
     "output_type": "stream",
     "text": [
      "[CV]  C=0.01, class_weight={1: 8}, max_iter=100, penalty=l1, solver=saga, total=   0.2s\n",
      "[CV] C=0.01, class_weight={1: 8}, max_iter=100, penalty=l2, solver=liblinear \n",
      "[CV]  C=0.01, class_weight={1: 8}, max_iter=100, penalty=l2, solver=liblinear, total=   0.0s\n",
      "[CV] C=0.01, class_weight={1: 8}, max_iter=100, penalty=l2, solver=liblinear \n",
      "[CV]  C=0.01, class_weight={1: 8}, max_iter=100, penalty=l2, solver=liblinear, total=   0.0s\n",
      "[CV] C=0.01, class_weight={1: 8}, max_iter=100, penalty=l2, solver=liblinear \n",
      "[CV]  C=0.01, class_weight={1: 8}, max_iter=100, penalty=l2, solver=liblinear, total=   0.0s\n",
      "[CV] C=0.01, class_weight={1: 8}, max_iter=100, penalty=l2, solver=liblinear \n",
      "[CV]  C=0.01, class_weight={1: 8}, max_iter=100, penalty=l2, solver=liblinear, total=   0.0s\n",
      "[CV] C=0.01, class_weight={1: 8}, max_iter=100, penalty=l2, solver=liblinear \n",
      "[CV]  C=0.01, class_weight={1: 8}, max_iter=100, penalty=l2, solver=liblinear, total=   0.0s\n",
      "[CV] C=0.01, class_weight={1: 8}, max_iter=100, penalty=l2, solver=liblinear \n",
      "[CV]  C=0.01, class_weight={1: 8}, max_iter=100, penalty=l2, solver=liblinear, total=   0.0s\n",
      "[CV] C=0.01, class_weight={1: 8}, max_iter=100, penalty=l2, solver=liblinear \n",
      "[CV]  C=0.01, class_weight={1: 8}, max_iter=100, penalty=l2, solver=liblinear, total=   0.0s\n",
      "[CV] C=0.01, class_weight={1: 8}, max_iter=100, penalty=l2, solver=liblinear \n",
      "[CV]  C=0.01, class_weight={1: 8}, max_iter=100, penalty=l2, solver=liblinear, total=   0.0s\n",
      "[CV] C=0.01, class_weight={1: 8}, max_iter=100, penalty=l2, solver=liblinear \n",
      "[CV]  C=0.01, class_weight={1: 8}, max_iter=100, penalty=l2, solver=liblinear, total=   0.0s\n",
      "[CV] C=0.01, class_weight={1: 8}, max_iter=100, penalty=l2, solver=liblinear \n",
      "[CV]  C=0.01, class_weight={1: 8}, max_iter=100, penalty=l2, solver=liblinear, total=   0.0s"
     ]
    },
    {
     "name": "stderr",
     "output_type": "stream",
     "text": [
      "C:\\Users\\tsuts\\anaconda3\\lib\\site-packages\\sklearn\\linear_model\\_sag.py:329: ConvergenceWarning: The max_iter was reached which means the coef_ did not converge\n",
      "  warnings.warn(\"The max_iter was reached which means \"\n",
      "C:\\Users\\tsuts\\anaconda3\\lib\\site-packages\\sklearn\\linear_model\\_sag.py:329: ConvergenceWarning: The max_iter was reached which means the coef_ did not converge\n",
      "  warnings.warn(\"The max_iter was reached which means \"\n"
     ]
    },
    {
     "name": "stdout",
     "output_type": "stream",
     "text": [
      "\n",
      "[CV] C=0.01, class_weight={1: 8}, max_iter=100, penalty=l2, solver=saga \n",
      "[CV]  C=0.01, class_weight={1: 8}, max_iter=100, penalty=l2, solver=saga, total=   0.2s\n",
      "[CV] C=0.01, class_weight={1: 8}, max_iter=100, penalty=l2, solver=saga \n",
      "[CV]  C=0.01, class_weight={1: 8}, max_iter=100, penalty=l2, solver=saga, total=   0.2s\n",
      "[CV] C=0.01, class_weight={1: 8}, max_iter=100, penalty=l2, solver=saga \n"
     ]
    },
    {
     "name": "stderr",
     "output_type": "stream",
     "text": [
      "C:\\Users\\tsuts\\anaconda3\\lib\\site-packages\\sklearn\\linear_model\\_sag.py:329: ConvergenceWarning: The max_iter was reached which means the coef_ did not converge\n",
      "  warnings.warn(\"The max_iter was reached which means \"\n",
      "C:\\Users\\tsuts\\anaconda3\\lib\\site-packages\\sklearn\\linear_model\\_sag.py:329: ConvergenceWarning: The max_iter was reached which means the coef_ did not converge\n",
      "  warnings.warn(\"The max_iter was reached which means \"\n"
     ]
    },
    {
     "name": "stdout",
     "output_type": "stream",
     "text": [
      "[CV]  C=0.01, class_weight={1: 8}, max_iter=100, penalty=l2, solver=saga, total=   0.2s\n",
      "[CV] C=0.01, class_weight={1: 8}, max_iter=100, penalty=l2, solver=saga \n",
      "[CV]  C=0.01, class_weight={1: 8}, max_iter=100, penalty=l2, solver=saga, total=   0.2s\n",
      "[CV] C=0.01, class_weight={1: 8}, max_iter=100, penalty=l2, solver=saga \n"
     ]
    },
    {
     "name": "stderr",
     "output_type": "stream",
     "text": [
      "C:\\Users\\tsuts\\anaconda3\\lib\\site-packages\\sklearn\\linear_model\\_sag.py:329: ConvergenceWarning: The max_iter was reached which means the coef_ did not converge\n",
      "  warnings.warn(\"The max_iter was reached which means \"\n",
      "C:\\Users\\tsuts\\anaconda3\\lib\\site-packages\\sklearn\\linear_model\\_sag.py:329: ConvergenceWarning: The max_iter was reached which means the coef_ did not converge\n",
      "  warnings.warn(\"The max_iter was reached which means \"\n"
     ]
    },
    {
     "name": "stdout",
     "output_type": "stream",
     "text": [
      "[CV]  C=0.01, class_weight={1: 8}, max_iter=100, penalty=l2, solver=saga, total=   0.2s\n",
      "[CV] C=0.01, class_weight={1: 8}, max_iter=100, penalty=l2, solver=saga \n",
      "[CV]  C=0.01, class_weight={1: 8}, max_iter=100, penalty=l2, solver=saga, total=   0.2s\n",
      "[CV] C=0.01, class_weight={1: 8}, max_iter=100, penalty=l2, solver=saga \n"
     ]
    },
    {
     "name": "stderr",
     "output_type": "stream",
     "text": [
      "C:\\Users\\tsuts\\anaconda3\\lib\\site-packages\\sklearn\\linear_model\\_sag.py:329: ConvergenceWarning: The max_iter was reached which means the coef_ did not converge\n",
      "  warnings.warn(\"The max_iter was reached which means \"\n",
      "C:\\Users\\tsuts\\anaconda3\\lib\\site-packages\\sklearn\\linear_model\\_sag.py:329: ConvergenceWarning: The max_iter was reached which means the coef_ did not converge\n",
      "  warnings.warn(\"The max_iter was reached which means \"\n"
     ]
    },
    {
     "name": "stdout",
     "output_type": "stream",
     "text": [
      "[CV]  C=0.01, class_weight={1: 8}, max_iter=100, penalty=l2, solver=saga, total=   0.2s\n",
      "[CV] C=0.01, class_weight={1: 8}, max_iter=100, penalty=l2, solver=saga \n",
      "[CV]  C=0.01, class_weight={1: 8}, max_iter=100, penalty=l2, solver=saga, total=   0.2s\n",
      "[CV] C=0.01, class_weight={1: 8}, max_iter=100, penalty=l2, solver=saga \n"
     ]
    },
    {
     "name": "stderr",
     "output_type": "stream",
     "text": [
      "C:\\Users\\tsuts\\anaconda3\\lib\\site-packages\\sklearn\\linear_model\\_sag.py:329: ConvergenceWarning: The max_iter was reached which means the coef_ did not converge\n",
      "  warnings.warn(\"The max_iter was reached which means \"\n",
      "C:\\Users\\tsuts\\anaconda3\\lib\\site-packages\\sklearn\\linear_model\\_sag.py:329: ConvergenceWarning: The max_iter was reached which means the coef_ did not converge\n",
      "  warnings.warn(\"The max_iter was reached which means \"\n"
     ]
    },
    {
     "name": "stdout",
     "output_type": "stream",
     "text": [
      "[CV]  C=0.01, class_weight={1: 8}, max_iter=100, penalty=l2, solver=saga, total=   0.2s\n",
      "[CV] C=0.01, class_weight={1: 8}, max_iter=100, penalty=l2, solver=saga \n",
      "[CV]  C=0.01, class_weight={1: 8}, max_iter=100, penalty=l2, solver=saga, total=   0.2s\n",
      "[CV] C=0.01, class_weight={1: 8}, max_iter=1000, penalty=l1, solver=liblinear \n",
      "[CV]  C=0.01, class_weight={1: 8}, max_iter=1000, penalty=l1, solver=liblinear, total=   0.0s\n",
      "[CV] C=0.01, class_weight={1: 8}, max_iter=1000, penalty=l1, solver=liblinear \n",
      "[CV]  C=0.01, class_weight={1: 8}, max_iter=1000, penalty=l1, solver=liblinear, total=   0.0s\n",
      "[CV] C=0.01, class_weight={1: 8}, max_iter=1000, penalty=l1, solver=liblinear \n",
      "[CV]  C=0.01, class_weight={1: 8}, max_iter=1000, penalty=l1, solver=liblinear, total=   0.0s\n",
      "[CV] C=0.01, class_weight={1: 8}, max_iter=1000, penalty=l1, solver=liblinear \n",
      "[CV]  C=0.01, class_weight={1: 8}, max_iter=1000, penalty=l1, solver=liblinear, total=   0.0s\n",
      "[CV] C=0.01, class_weight={1: 8}, max_iter=1000, penalty=l1, solver=liblinear \n",
      "[CV]  C=0.01, class_weight={1: 8}, max_iter=1000, penalty=l1, solver=liblinear, total=   0.0s\n",
      "[CV] C=0.01, class_weight={1: 8}, max_iter=1000, penalty=l1, solver=liblinear \n",
      "[CV]  C=0.01, class_weight={1: 8}, max_iter=1000, penalty=l1, solver=liblinear, total=   0.0s\n",
      "[CV] C=0.01, class_weight={1: 8}, max_iter=1000, penalty=l1, solver=liblinear \n",
      "[CV]  C=0.01, class_weight={1: 8}, max_iter=1000, penalty=l1, solver=liblinear, total=   0.0s\n",
      "[CV] C=0.01, class_weight={1: 8}, max_iter=1000, penalty=l1, solver=liblinear \n",
      "[CV]  C=0.01, class_weight={1: 8}, max_iter=1000, penalty=l1, solver=liblinear, total=   0.0s\n",
      "[CV] C=0.01, class_weight={1: 8}, max_iter=1000, penalty=l1, solver=liblinear \n",
      "[CV]  C=0.01, class_weight={1: 8}, max_iter=1000, penalty=l1, solver=liblinear, total=   0.0s\n",
      "[CV] C=0.01, class_weight={1: 8}, max_iter=1000, penalty=l1, solver=liblinear \n",
      "[CV]  C=0.01, class_weight={1: 8}, max_iter=1000, penalty=l1, solver=liblinear, total=   0.0s\n",
      "[CV] C=0.01, class_weight={1: 8}, max_iter=1000, penalty=l1, solver=saga \n",
      "[CV]  C=0.01, class_weight={1: 8}, max_iter=1000, penalty=l1, solver=saga, total=   2.1s\n",
      "[CV] C=0.01, class_weight={1: 8}, max_iter=1000, penalty=l1, solver=saga \n",
      "[CV]  C=0.01, class_weight={1: 8}, max_iter=1000, penalty=l1, solver=saga, total=   0.3s\n",
      "[CV] C=0.01, class_weight={1: 8}, max_iter=1000, penalty=l1, solver=saga \n",
      "[CV]  C=0.01, class_weight={1: 8}, max_iter=1000, penalty=l1, solver=saga, total=   0.0s\n",
      "[CV] C=0.01, class_weight={1: 8}, max_iter=1000, penalty=l1, solver=saga \n",
      "[CV]  C=0.01, class_weight={1: 8}, max_iter=1000, penalty=l1, solver=saga, total=   0.3s\n",
      "[CV] C=0.01, class_weight={1: 8}, max_iter=1000, penalty=l1, solver=saga \n",
      "[CV]  C=0.01, class_weight={1: 8}, max_iter=1000, penalty=l1, solver=saga, total=   0.5s\n",
      "[CV] C=0.01, class_weight={1: 8}, max_iter=1000, penalty=l1, solver=saga \n",
      "[CV]  C=0.01, class_weight={1: 8}, max_iter=1000, penalty=l1, solver=saga, total=   0.4s\n",
      "[CV] C=0.01, class_weight={1: 8}, max_iter=1000, penalty=l1, solver=saga \n",
      "[CV]  C=0.01, class_weight={1: 8}, max_iter=1000, penalty=l1, solver=saga, total=   1.5s\n",
      "[CV] C=0.01, class_weight={1: 8}, max_iter=1000, penalty=l1, solver=saga \n",
      "[CV]  C=0.01, class_weight={1: 8}, max_iter=1000, penalty=l1, solver=saga, total=   0.1s\n",
      "[CV] C=0.01, class_weight={1: 8}, max_iter=1000, penalty=l1, solver=saga \n",
      "[CV]  C=0.01, class_weight={1: 8}, max_iter=1000, penalty=l1, solver=saga, total=   0.0s\n",
      "[CV] C=0.01, class_weight={1: 8}, max_iter=1000, penalty=l1, solver=saga \n",
      "[CV]  C=0.01, class_weight={1: 8}, max_iter=1000, penalty=l1, solver=saga, total=   0.8s\n",
      "[CV] C=0.01, class_weight={1: 8}, max_iter=1000, penalty=l2, solver=liblinear \n",
      "[CV]  C=0.01, class_weight={1: 8}, max_iter=1000, penalty=l2, solver=liblinear, total=   0.0s\n",
      "[CV] C=0.01, class_weight={1: 8}, max_iter=1000, penalty=l2, solver=liblinear \n",
      "[CV]  C=0.01, class_weight={1: 8}, max_iter=1000, penalty=l2, solver=liblinear, total=   0.0s\n",
      "[CV] C=0.01, class_weight={1: 8}, max_iter=1000, penalty=l2, solver=liblinear \n",
      "[CV]  C=0.01, class_weight={1: 8}, max_iter=1000, penalty=l2, solver=liblinear, total=   0.0s\n",
      "[CV] C=0.01, class_weight={1: 8}, max_iter=1000, penalty=l2, solver=liblinear \n",
      "[CV]  C=0.01, class_weight={1: 8}, max_iter=1000, penalty=l2, solver=liblinear, total=   0.0s\n",
      "[CV] C=0.01, class_weight={1: 8}, max_iter=1000, penalty=l2, solver=liblinear \n",
      "[CV]  C=0.01, class_weight={1: 8}, max_iter=1000, penalty=l2, solver=liblinear, total=   0.0s\n",
      "[CV] C=0.01, class_weight={1: 8}, max_iter=1000, penalty=l2, solver=liblinear \n",
      "[CV]  C=0.01, class_weight={1: 8}, max_iter=1000, penalty=l2, solver=liblinear, total=   0.0s\n",
      "[CV] C=0.01, class_weight={1: 8}, max_iter=1000, penalty=l2, solver=liblinear \n",
      "[CV]  C=0.01, class_weight={1: 8}, max_iter=1000, penalty=l2, solver=liblinear, total=   0.0s\n",
      "[CV] C=0.01, class_weight={1: 8}, max_iter=1000, penalty=l2, solver=liblinear \n",
      "[CV]  C=0.01, class_weight={1: 8}, max_iter=1000, penalty=l2, solver=liblinear, total=   0.0s\n",
      "[CV] C=0.01, class_weight={1: 8}, max_iter=1000, penalty=l2, solver=liblinear \n",
      "[CV]  C=0.01, class_weight={1: 8}, max_iter=1000, penalty=l2, solver=liblinear, total=   0.0s\n",
      "[CV] C=0.01, class_weight={1: 8}, max_iter=1000, penalty=l2, solver=liblinear \n",
      "[CV]  C=0.01, class_weight={1: 8}, max_iter=1000, penalty=l2, solver=liblinear, total=   0.0s\n",
      "[CV] C=0.01, class_weight={1: 8}, max_iter=1000, penalty=l2, solver=saga \n"
     ]
    },
    {
     "name": "stderr",
     "output_type": "stream",
     "text": [
      "C:\\Users\\tsuts\\anaconda3\\lib\\site-packages\\sklearn\\linear_model\\_sag.py:329: ConvergenceWarning: The max_iter was reached which means the coef_ did not converge\n",
      "  warnings.warn(\"The max_iter was reached which means \"\n"
     ]
    },
    {
     "name": "stdout",
     "output_type": "stream",
     "text": [
      "[CV]  C=0.01, class_weight={1: 8}, max_iter=1000, penalty=l2, solver=saga, total=   1.7s\n",
      "[CV] C=0.01, class_weight={1: 8}, max_iter=1000, penalty=l2, solver=saga \n"
     ]
    },
    {
     "name": "stderr",
     "output_type": "stream",
     "text": [
      "C:\\Users\\tsuts\\anaconda3\\lib\\site-packages\\sklearn\\linear_model\\_sag.py:329: ConvergenceWarning: The max_iter was reached which means the coef_ did not converge\n",
      "  warnings.warn(\"The max_iter was reached which means \"\n"
     ]
    },
    {
     "name": "stdout",
     "output_type": "stream",
     "text": [
      "[CV]  C=0.01, class_weight={1: 8}, max_iter=1000, penalty=l2, solver=saga, total=   1.7s\n",
      "[CV] C=0.01, class_weight={1: 8}, max_iter=1000, penalty=l2, solver=saga \n"
     ]
    },
    {
     "name": "stderr",
     "output_type": "stream",
     "text": [
      "C:\\Users\\tsuts\\anaconda3\\lib\\site-packages\\sklearn\\linear_model\\_sag.py:329: ConvergenceWarning: The max_iter was reached which means the coef_ did not converge\n",
      "  warnings.warn(\"The max_iter was reached which means \"\n"
     ]
    },
    {
     "name": "stdout",
     "output_type": "stream",
     "text": [
      "[CV]  C=0.01, class_weight={1: 8}, max_iter=1000, penalty=l2, solver=saga, total=   1.7s\n",
      "[CV] C=0.01, class_weight={1: 8}, max_iter=1000, penalty=l2, solver=saga \n"
     ]
    },
    {
     "name": "stderr",
     "output_type": "stream",
     "text": [
      "C:\\Users\\tsuts\\anaconda3\\lib\\site-packages\\sklearn\\linear_model\\_sag.py:329: ConvergenceWarning: The max_iter was reached which means the coef_ did not converge\n",
      "  warnings.warn(\"The max_iter was reached which means \"\n"
     ]
    },
    {
     "name": "stdout",
     "output_type": "stream",
     "text": [
      "[CV]  C=0.01, class_weight={1: 8}, max_iter=1000, penalty=l2, solver=saga, total=   1.7s\n",
      "[CV] C=0.01, class_weight={1: 8}, max_iter=1000, penalty=l2, solver=saga \n"
     ]
    },
    {
     "name": "stderr",
     "output_type": "stream",
     "text": [
      "C:\\Users\\tsuts\\anaconda3\\lib\\site-packages\\sklearn\\linear_model\\_sag.py:329: ConvergenceWarning: The max_iter was reached which means the coef_ did not converge\n",
      "  warnings.warn(\"The max_iter was reached which means \"\n"
     ]
    },
    {
     "name": "stdout",
     "output_type": "stream",
     "text": [
      "[CV]  C=0.01, class_weight={1: 8}, max_iter=1000, penalty=l2, solver=saga, total=   1.7s\n",
      "[CV] C=0.01, class_weight={1: 8}, max_iter=1000, penalty=l2, solver=saga \n"
     ]
    },
    {
     "name": "stderr",
     "output_type": "stream",
     "text": [
      "C:\\Users\\tsuts\\anaconda3\\lib\\site-packages\\sklearn\\linear_model\\_sag.py:329: ConvergenceWarning: The max_iter was reached which means the coef_ did not converge\n",
      "  warnings.warn(\"The max_iter was reached which means \"\n"
     ]
    },
    {
     "name": "stdout",
     "output_type": "stream",
     "text": [
      "[CV]  C=0.01, class_weight={1: 8}, max_iter=1000, penalty=l2, solver=saga, total=   1.7s\n",
      "[CV] C=0.01, class_weight={1: 8}, max_iter=1000, penalty=l2, solver=saga \n"
     ]
    },
    {
     "name": "stderr",
     "output_type": "stream",
     "text": [
      "C:\\Users\\tsuts\\anaconda3\\lib\\site-packages\\sklearn\\linear_model\\_sag.py:329: ConvergenceWarning: The max_iter was reached which means the coef_ did not converge\n",
      "  warnings.warn(\"The max_iter was reached which means \"\n"
     ]
    },
    {
     "name": "stdout",
     "output_type": "stream",
     "text": [
      "[CV]  C=0.01, class_weight={1: 8}, max_iter=1000, penalty=l2, solver=saga, total=   1.7s\n",
      "[CV] C=0.01, class_weight={1: 8}, max_iter=1000, penalty=l2, solver=saga \n"
     ]
    },
    {
     "name": "stderr",
     "output_type": "stream",
     "text": [
      "C:\\Users\\tsuts\\anaconda3\\lib\\site-packages\\sklearn\\linear_model\\_sag.py:329: ConvergenceWarning: The max_iter was reached which means the coef_ did not converge\n",
      "  warnings.warn(\"The max_iter was reached which means \"\n"
     ]
    },
    {
     "name": "stdout",
     "output_type": "stream",
     "text": [
      "[CV]  C=0.01, class_weight={1: 8}, max_iter=1000, penalty=l2, solver=saga, total=   1.7s\n",
      "[CV] C=0.01, class_weight={1: 8}, max_iter=1000, penalty=l2, solver=saga \n"
     ]
    },
    {
     "name": "stderr",
     "output_type": "stream",
     "text": [
      "C:\\Users\\tsuts\\anaconda3\\lib\\site-packages\\sklearn\\linear_model\\_sag.py:329: ConvergenceWarning: The max_iter was reached which means the coef_ did not converge\n",
      "  warnings.warn(\"The max_iter was reached which means \"\n"
     ]
    },
    {
     "name": "stdout",
     "output_type": "stream",
     "text": [
      "[CV]  C=0.01, class_weight={1: 8}, max_iter=1000, penalty=l2, solver=saga, total=   1.7s\n",
      "[CV] C=0.01, class_weight={1: 8}, max_iter=1000, penalty=l2, solver=saga \n"
     ]
    },
    {
     "name": "stderr",
     "output_type": "stream",
     "text": [
      "C:\\Users\\tsuts\\anaconda3\\lib\\site-packages\\sklearn\\linear_model\\_sag.py:329: ConvergenceWarning: The max_iter was reached which means the coef_ did not converge\n",
      "  warnings.warn(\"The max_iter was reached which means \"\n",
      "[Parallel(n_jobs=1)]: Done 160 out of 160 | elapsed:  1.1min finished\n"
     ]
    },
    {
     "name": "stdout",
     "output_type": "stream",
     "text": [
      "[CV]  C=0.01, class_weight={1: 8}, max_iter=1000, penalty=l2, solver=saga, total=   1.7s\n"
     ]
    },
    {
     "name": "stderr",
     "output_type": "stream",
     "text": [
      "C:\\Users\\tsuts\\anaconda3\\lib\\site-packages\\sklearn\\linear_model\\_sag.py:329: ConvergenceWarning: The max_iter was reached which means the coef_ did not converge\n",
      "  warnings.warn(\"The max_iter was reached which means \"\n",
      "[Parallel(n_jobs=1)]: Using backend SequentialBackend with 1 concurrent workers.\n",
      "[Parallel(n_jobs=1)]: Done   1 out of   1 | elapsed:    0.0s remaining:    0.0s\n"
     ]
    },
    {
     "name": "stdout",
     "output_type": "stream",
     "text": [
      "Fitting 10 folds for each of 16 candidates, totalling 160 fits\n",
      "[CV] C=0.01, class_weight={1: 25}, max_iter=100, penalty=l1, solver=liblinear \n",
      "[CV]  C=0.01, class_weight={1: 25}, max_iter=100, penalty=l1, solver=liblinear, total=   0.0s\n",
      "[CV] C=0.01, class_weight={1: 25}, max_iter=100, penalty=l1, solver=liblinear \n",
      "[CV]  C=0.01, class_weight={1: 25}, max_iter=100, penalty=l1, solver=liblinear, total=   0.0s\n",
      "[CV] C=0.01, class_weight={1: 25}, max_iter=100, penalty=l1, solver=liblinear \n",
      "[CV]  C=0.01, class_weight={1: 25}, max_iter=100, penalty=l1, solver=liblinear, total=   0.0s\n",
      "[CV] C=0.01, class_weight={1: 25}, max_iter=100, penalty=l1, solver=liblinear \n",
      "[CV]  C=0.01, class_weight={1: 25}, max_iter=100, penalty=l1, solver=liblinear, total=   0.0s\n",
      "[CV] C=0.01, class_weight={1: 25}, max_iter=100, penalty=l1, solver=liblinear \n",
      "[CV]  C=0.01, class_weight={1: 25}, max_iter=100, penalty=l1, solver=liblinear, total=   0.0s\n",
      "[CV] C=0.01, class_weight={1: 25}, max_iter=100, penalty=l1, solver=liblinear \n",
      "[CV]  C=0.01, class_weight={1: 25}, max_iter=100, penalty=l1, solver=liblinear, total=   0.0s\n",
      "[CV] C=0.01, class_weight={1: 25}, max_iter=100, penalty=l1, solver=liblinear \n",
      "[CV]  C=0.01, class_weight={1: 25}, max_iter=100, penalty=l1, solver=liblinear, total=   0.0s\n",
      "[CV] C=0.01, class_weight={1: 25}, max_iter=100, penalty=l1, solver=liblinear \n",
      "[CV]  C=0.01, class_weight={1: 25}, max_iter=100, penalty=l1, solver=liblinear, total=   0.0s\n",
      "[CV] C=0.01, class_weight={1: 25}, max_iter=100, penalty=l1, solver=liblinear \n",
      "[CV]  C=0.01, class_weight={1: 25}, max_iter=100, penalty=l1, solver=liblinear, total=   0.0s\n",
      "[CV] C=0.01, class_weight={1: 25}, max_iter=100, penalty=l1, solver=liblinear \n",
      "[CV]  C=0.01, class_weight={1: 25}, max_iter=100, penalty=l1, solver=liblinear, total=   0.0s\n",
      "[CV] C=0.01, class_weight={1: 25}, max_iter=100, penalty=l1, solver=saga \n"
     ]
    },
    {
     "name": "stderr",
     "output_type": "stream",
     "text": [
      "C:\\Users\\tsuts\\anaconda3\\lib\\site-packages\\sklearn\\linear_model\\_sag.py:329: ConvergenceWarning: The max_iter was reached which means the coef_ did not converge\n",
      "  warnings.warn(\"The max_iter was reached which means \"\n"
     ]
    },
    {
     "name": "stdout",
     "output_type": "stream",
     "text": [
      "[CV]  C=0.01, class_weight={1: 25}, max_iter=100, penalty=l1, solver=saga, total=   0.3s\n",
      "[CV] C=0.01, class_weight={1: 25}, max_iter=100, penalty=l1, solver=saga \n"
     ]
    },
    {
     "name": "stderr",
     "output_type": "stream",
     "text": [
      "C:\\Users\\tsuts\\anaconda3\\lib\\site-packages\\sklearn\\linear_model\\_sag.py:329: ConvergenceWarning: The max_iter was reached which means the coef_ did not converge\n",
      "  warnings.warn(\"The max_iter was reached which means \"\n"
     ]
    },
    {
     "name": "stdout",
     "output_type": "stream",
     "text": [
      "[CV]  C=0.01, class_weight={1: 25}, max_iter=100, penalty=l1, solver=saga, total=   0.2s\n",
      "[CV] C=0.01, class_weight={1: 25}, max_iter=100, penalty=l1, solver=saga \n"
     ]
    },
    {
     "name": "stderr",
     "output_type": "stream",
     "text": [
      "C:\\Users\\tsuts\\anaconda3\\lib\\site-packages\\sklearn\\linear_model\\_sag.py:329: ConvergenceWarning: The max_iter was reached which means the coef_ did not converge\n",
      "  warnings.warn(\"The max_iter was reached which means \"\n"
     ]
    },
    {
     "name": "stdout",
     "output_type": "stream",
     "text": [
      "[CV]  C=0.01, class_weight={1: 25}, max_iter=100, penalty=l1, solver=saga, total=   0.2s\n",
      "[CV] C=0.01, class_weight={1: 25}, max_iter=100, penalty=l1, solver=saga \n"
     ]
    },
    {
     "name": "stderr",
     "output_type": "stream",
     "text": [
      "C:\\Users\\tsuts\\anaconda3\\lib\\site-packages\\sklearn\\linear_model\\_sag.py:329: ConvergenceWarning: The max_iter was reached which means the coef_ did not converge\n",
      "  warnings.warn(\"The max_iter was reached which means \"\n"
     ]
    },
    {
     "name": "stdout",
     "output_type": "stream",
     "text": [
      "[CV]  C=0.01, class_weight={1: 25}, max_iter=100, penalty=l1, solver=saga, total=   0.2s\n",
      "[CV] C=0.01, class_weight={1: 25}, max_iter=100, penalty=l1, solver=saga \n"
     ]
    },
    {
     "name": "stderr",
     "output_type": "stream",
     "text": [
      "C:\\Users\\tsuts\\anaconda3\\lib\\site-packages\\sklearn\\linear_model\\_sag.py:329: ConvergenceWarning: The max_iter was reached which means the coef_ did not converge\n",
      "  warnings.warn(\"The max_iter was reached which means \"\n"
     ]
    },
    {
     "name": "stdout",
     "output_type": "stream",
     "text": [
      "[CV]  C=0.01, class_weight={1: 25}, max_iter=100, penalty=l1, solver=saga, total=   0.2s\n",
      "[CV] C=0.01, class_weight={1: 25}, max_iter=100, penalty=l1, solver=saga \n"
     ]
    },
    {
     "name": "stderr",
     "output_type": "stream",
     "text": [
      "C:\\Users\\tsuts\\anaconda3\\lib\\site-packages\\sklearn\\linear_model\\_sag.py:329: ConvergenceWarning: The max_iter was reached which means the coef_ did not converge\n",
      "  warnings.warn(\"The max_iter was reached which means \"\n"
     ]
    },
    {
     "name": "stdout",
     "output_type": "stream",
     "text": [
      "[CV]  C=0.01, class_weight={1: 25}, max_iter=100, penalty=l1, solver=saga, total=   0.2s\n",
      "[CV] C=0.01, class_weight={1: 25}, max_iter=100, penalty=l1, solver=saga \n"
     ]
    },
    {
     "name": "stderr",
     "output_type": "stream",
     "text": [
      "C:\\Users\\tsuts\\anaconda3\\lib\\site-packages\\sklearn\\linear_model\\_sag.py:329: ConvergenceWarning: The max_iter was reached which means the coef_ did not converge\n",
      "  warnings.warn(\"The max_iter was reached which means \"\n"
     ]
    },
    {
     "name": "stdout",
     "output_type": "stream",
     "text": [
      "[CV]  C=0.01, class_weight={1: 25}, max_iter=100, penalty=l1, solver=saga, total=   0.2s\n",
      "[CV] C=0.01, class_weight={1: 25}, max_iter=100, penalty=l1, solver=saga \n"
     ]
    },
    {
     "name": "stderr",
     "output_type": "stream",
     "text": [
      "C:\\Users\\tsuts\\anaconda3\\lib\\site-packages\\sklearn\\linear_model\\_sag.py:329: ConvergenceWarning: The max_iter was reached which means the coef_ did not converge\n",
      "  warnings.warn(\"The max_iter was reached which means \"\n"
     ]
    },
    {
     "name": "stdout",
     "output_type": "stream",
     "text": [
      "[CV]  C=0.01, class_weight={1: 25}, max_iter=100, penalty=l1, solver=saga, total=   0.2s\n",
      "[CV] C=0.01, class_weight={1: 25}, max_iter=100, penalty=l1, solver=saga \n"
     ]
    },
    {
     "name": "stderr",
     "output_type": "stream",
     "text": [
      "C:\\Users\\tsuts\\anaconda3\\lib\\site-packages\\sklearn\\linear_model\\_sag.py:329: ConvergenceWarning: The max_iter was reached which means the coef_ did not converge\n",
      "  warnings.warn(\"The max_iter was reached which means \"\n"
     ]
    },
    {
     "name": "stdout",
     "output_type": "stream",
     "text": [
      "[CV]  C=0.01, class_weight={1: 25}, max_iter=100, penalty=l1, solver=saga, total=   0.2s\n",
      "[CV] C=0.01, class_weight={1: 25}, max_iter=100, penalty=l1, solver=saga \n"
     ]
    },
    {
     "name": "stderr",
     "output_type": "stream",
     "text": [
      "C:\\Users\\tsuts\\anaconda3\\lib\\site-packages\\sklearn\\linear_model\\_sag.py:329: ConvergenceWarning: The max_iter was reached which means the coef_ did not converge\n",
      "  warnings.warn(\"The max_iter was reached which means \"\n"
     ]
    },
    {
     "name": "stdout",
     "output_type": "stream",
     "text": [
      "[CV]  C=0.01, class_weight={1: 25}, max_iter=100, penalty=l1, solver=saga, total=   0.2s\n",
      "[CV] C=0.01, class_weight={1: 25}, max_iter=100, penalty=l2, solver=liblinear \n",
      "[CV]  C=0.01, class_weight={1: 25}, max_iter=100, penalty=l2, solver=liblinear, total=   0.0s\n",
      "[CV] C=0.01, class_weight={1: 25}, max_iter=100, penalty=l2, solver=liblinear \n",
      "[CV]  C=0.01, class_weight={1: 25}, max_iter=100, penalty=l2, solver=liblinear, total=   0.0s\n",
      "[CV] C=0.01, class_weight={1: 25}, max_iter=100, penalty=l2, solver=liblinear \n",
      "[CV]  C=0.01, class_weight={1: 25}, max_iter=100, penalty=l2, solver=liblinear, total=   0.0s\n",
      "[CV] C=0.01, class_weight={1: 25}, max_iter=100, penalty=l2, solver=liblinear \n",
      "[CV]  C=0.01, class_weight={1: 25}, max_iter=100, penalty=l2, solver=liblinear, total=   0.0s\n",
      "[CV] C=0.01, class_weight={1: 25}, max_iter=100, penalty=l2, solver=liblinear \n",
      "[CV]  C=0.01, class_weight={1: 25}, max_iter=100, penalty=l2, solver=liblinear, total=   0.0s\n",
      "[CV] C=0.01, class_weight={1: 25}, max_iter=100, penalty=l2, solver=liblinear \n",
      "[CV]  C=0.01, class_weight={1: 25}, max_iter=100, penalty=l2, solver=liblinear, total=   0.0s\n",
      "[CV] C=0.01, class_weight={1: 25}, max_iter=100, penalty=l2, solver=liblinear \n",
      "[CV]  C=0.01, class_weight={1: 25}, max_iter=100, penalty=l2, solver=liblinear, total=   0.0s\n",
      "[CV] C=0.01, class_weight={1: 25}, max_iter=100, penalty=l2, solver=liblinear \n",
      "[CV]  C=0.01, class_weight={1: 25}, max_iter=100, penalty=l2, solver=liblinear, total=   0.0s\n",
      "[CV] C=0.01, class_weight={1: 25}, max_iter=100, penalty=l2, solver=liblinear \n",
      "[CV]  C=0.01, class_weight={1: 25}, max_iter=100, penalty=l2, solver=liblinear, total=   0.0s\n",
      "[CV] C=0.01, class_weight={1: 25}, max_iter=100, penalty=l2, solver=liblinear \n",
      "[CV]  C=0.01, class_weight={1: 25}, max_iter=100, penalty=l2, solver=liblinear, total=   0.0s\n",
      "[CV] C=0.01, class_weight={1: 25}, max_iter=100, penalty=l2, solver=saga \n",
      "[CV]  C=0.01, class_weight={1: 25}, max_iter=100, penalty=l2, solver=saga, total=   0.2s\n",
      "[CV] C=0.01, class_weight={1: 25}, max_iter=100, penalty=l2, solver=saga \n"
     ]
    },
    {
     "name": "stderr",
     "output_type": "stream",
     "text": [
      "C:\\Users\\tsuts\\anaconda3\\lib\\site-packages\\sklearn\\linear_model\\_sag.py:329: ConvergenceWarning: The max_iter was reached which means the coef_ did not converge\n",
      "  warnings.warn(\"The max_iter was reached which means \"\n",
      "C:\\Users\\tsuts\\anaconda3\\lib\\site-packages\\sklearn\\linear_model\\_sag.py:329: ConvergenceWarning: The max_iter was reached which means the coef_ did not converge\n",
      "  warnings.warn(\"The max_iter was reached which means \"\n"
     ]
    },
    {
     "name": "stdout",
     "output_type": "stream",
     "text": [
      "[CV]  C=0.01, class_weight={1: 25}, max_iter=100, penalty=l2, solver=saga, total=   0.2s\n",
      "[CV] C=0.01, class_weight={1: 25}, max_iter=100, penalty=l2, solver=saga \n",
      "[CV]  C=0.01, class_weight={1: 25}, max_iter=100, penalty=l2, solver=saga, total=   0.2s\n",
      "[CV] C=0.01, class_weight={1: 25}, max_iter=100, penalty=l2, solver=saga \n"
     ]
    },
    {
     "name": "stderr",
     "output_type": "stream",
     "text": [
      "C:\\Users\\tsuts\\anaconda3\\lib\\site-packages\\sklearn\\linear_model\\_sag.py:329: ConvergenceWarning: The max_iter was reached which means the coef_ did not converge\n",
      "  warnings.warn(\"The max_iter was reached which means \"\n",
      "C:\\Users\\tsuts\\anaconda3\\lib\\site-packages\\sklearn\\linear_model\\_sag.py:329: ConvergenceWarning: The max_iter was reached which means the coef_ did not converge\n",
      "  warnings.warn(\"The max_iter was reached which means \"\n"
     ]
    },
    {
     "name": "stdout",
     "output_type": "stream",
     "text": [
      "[CV]  C=0.01, class_weight={1: 25}, max_iter=100, penalty=l2, solver=saga, total=   0.2s\n",
      "[CV] C=0.01, class_weight={1: 25}, max_iter=100, penalty=l2, solver=saga \n",
      "[CV]  C=0.01, class_weight={1: 25}, max_iter=100, penalty=l2, solver=saga, total=   0.2s\n",
      "[CV] C=0.01, class_weight={1: 25}, max_iter=100, penalty=l2, solver=saga \n"
     ]
    },
    {
     "name": "stderr",
     "output_type": "stream",
     "text": [
      "C:\\Users\\tsuts\\anaconda3\\lib\\site-packages\\sklearn\\linear_model\\_sag.py:329: ConvergenceWarning: The max_iter was reached which means the coef_ did not converge\n",
      "  warnings.warn(\"The max_iter was reached which means \"\n",
      "C:\\Users\\tsuts\\anaconda3\\lib\\site-packages\\sklearn\\linear_model\\_sag.py:329: ConvergenceWarning: The max_iter was reached which means the coef_ did not converge\n",
      "  warnings.warn(\"The max_iter was reached which means \"\n"
     ]
    },
    {
     "name": "stdout",
     "output_type": "stream",
     "text": [
      "[CV]  C=0.01, class_weight={1: 25}, max_iter=100, penalty=l2, solver=saga, total=   0.2s\n",
      "[CV] C=0.01, class_weight={1: 25}, max_iter=100, penalty=l2, solver=saga \n",
      "[CV]  C=0.01, class_weight={1: 25}, max_iter=100, penalty=l2, solver=saga, total=   0.2s\n",
      "[CV] C=0.01, class_weight={1: 25}, max_iter=100, penalty=l2, solver=saga \n"
     ]
    },
    {
     "name": "stderr",
     "output_type": "stream",
     "text": [
      "C:\\Users\\tsuts\\anaconda3\\lib\\site-packages\\sklearn\\linear_model\\_sag.py:329: ConvergenceWarning: The max_iter was reached which means the coef_ did not converge\n",
      "  warnings.warn(\"The max_iter was reached which means \"\n",
      "C:\\Users\\tsuts\\anaconda3\\lib\\site-packages\\sklearn\\linear_model\\_sag.py:329: ConvergenceWarning: The max_iter was reached which means the coef_ did not converge\n",
      "  warnings.warn(\"The max_iter was reached which means \"\n"
     ]
    },
    {
     "name": "stdout",
     "output_type": "stream",
     "text": [
      "[CV]  C=0.01, class_weight={1: 25}, max_iter=100, penalty=l2, solver=saga, total=   0.2s\n",
      "[CV] C=0.01, class_weight={1: 25}, max_iter=100, penalty=l2, solver=saga \n"
     ]
    },
    {
     "name": "stderr",
     "output_type": "stream",
     "text": [
      "C:\\Users\\tsuts\\anaconda3\\lib\\site-packages\\sklearn\\linear_model\\_sag.py:329: ConvergenceWarning: The max_iter was reached which means the coef_ did not converge\n",
      "  warnings.warn(\"The max_iter was reached which means \"\n",
      "C:\\Users\\tsuts\\anaconda3\\lib\\site-packages\\sklearn\\linear_model\\_sag.py:329: ConvergenceWarning: The max_iter was reached which means the coef_ did not converge\n",
      "  warnings.warn(\"The max_iter was reached which means \"\n"
     ]
    },
    {
     "name": "stdout",
     "output_type": "stream",
     "text": [
      "[CV]  C=0.01, class_weight={1: 25}, max_iter=100, penalty=l2, solver=saga, total=   0.2s\n",
      "[CV] C=0.01, class_weight={1: 25}, max_iter=100, penalty=l2, solver=saga \n",
      "[CV]  C=0.01, class_weight={1: 25}, max_iter=100, penalty=l2, solver=saga, total=   0.2s\n",
      "[CV] C=0.01, class_weight={1: 25}, max_iter=1000, penalty=l1, solver=liblinear \n",
      "[CV]  C=0.01, class_weight={1: 25}, max_iter=1000, penalty=l1, solver=liblinear, total=   0.0s\n",
      "[CV] C=0.01, class_weight={1: 25}, max_iter=1000, penalty=l1, solver=liblinear \n",
      "[CV]  C=0.01, class_weight={1: 25}, max_iter=1000, penalty=l1, solver=liblinear, total=   0.0s\n",
      "[CV] C=0.01, class_weight={1: 25}, max_iter=1000, penalty=l1, solver=liblinear \n",
      "[CV]  C=0.01, class_weight={1: 25}, max_iter=1000, penalty=l1, solver=liblinear, total=   0.0s\n",
      "[CV] C=0.01, class_weight={1: 25}, max_iter=1000, penalty=l1, solver=liblinear \n",
      "[CV]  C=0.01, class_weight={1: 25}, max_iter=1000, penalty=l1, solver=liblinear, total=   0.0s\n",
      "[CV] C=0.01, class_weight={1: 25}, max_iter=1000, penalty=l1, solver=liblinear \n",
      "[CV]  C=0.01, class_weight={1: 25}, max_iter=1000, penalty=l1, solver=liblinear, total=   0.0s\n",
      "[CV] C=0.01, class_weight={1: 25}, max_iter=1000, penalty=l1, solver=liblinear \n",
      "[CV]  C=0.01, class_weight={1: 25}, max_iter=1000, penalty=l1, solver=liblinear, total=   0.0s\n",
      "[CV] C=0.01, class_weight={1: 25}, max_iter=1000, penalty=l1, solver=liblinear \n",
      "[CV]  C=0.01, class_weight={1: 25}, max_iter=1000, penalty=l1, solver=liblinear, total=   0.0s\n",
      "[CV] C=0.01, class_weight={1: 25}, max_iter=1000, penalty=l1, solver=liblinear \n",
      "[CV]  C=0.01, class_weight={1: 25}, max_iter=1000, penalty=l1, solver=liblinear, total=   0.0s\n",
      "[CV] C=0.01, class_weight={1: 25}, max_iter=1000, penalty=l1, solver=liblinear \n",
      "[CV]  C=0.01, class_weight={1: 25}, max_iter=1000, penalty=l1, solver=liblinear, total=   0.0s\n",
      "[CV] C=0.01, class_weight={1: 25}, max_iter=1000, penalty=l1, solver=liblinear \n",
      "[CV]  C=0.01, class_weight={1: 25}, max_iter=1000, penalty=l1, solver=liblinear, total=   0.0s\n",
      "[CV] C=0.01, class_weight={1: 25}, max_iter=1000, penalty=l1, solver=saga \n"
     ]
    },
    {
     "name": "stderr",
     "output_type": "stream",
     "text": [
      "C:\\Users\\tsuts\\anaconda3\\lib\\site-packages\\sklearn\\linear_model\\_sag.py:329: ConvergenceWarning: The max_iter was reached which means the coef_ did not converge\n",
      "  warnings.warn(\"The max_iter was reached which means \"\n"
     ]
    },
    {
     "name": "stdout",
     "output_type": "stream",
     "text": [
      "[CV]  C=0.01, class_weight={1: 25}, max_iter=1000, penalty=l1, solver=saga, total=   2.3s\n",
      "[CV] C=0.01, class_weight={1: 25}, max_iter=1000, penalty=l1, solver=saga \n"
     ]
    },
    {
     "name": "stderr",
     "output_type": "stream",
     "text": [
      "C:\\Users\\tsuts\\anaconda3\\lib\\site-packages\\sklearn\\linear_model\\_sag.py:329: ConvergenceWarning: The max_iter was reached which means the coef_ did not converge\n",
      "  warnings.warn(\"The max_iter was reached which means \"\n"
     ]
    },
    {
     "name": "stdout",
     "output_type": "stream",
     "text": [
      "[CV]  C=0.01, class_weight={1: 25}, max_iter=1000, penalty=l1, solver=saga, total=   2.2s\n",
      "[CV] C=0.01, class_weight={1: 25}, max_iter=1000, penalty=l1, solver=saga \n"
     ]
    },
    {
     "name": "stderr",
     "output_type": "stream",
     "text": [
      "C:\\Users\\tsuts\\anaconda3\\lib\\site-packages\\sklearn\\linear_model\\_sag.py:329: ConvergenceWarning: The max_iter was reached which means the coef_ did not converge\n",
      "  warnings.warn(\"The max_iter was reached which means \"\n"
     ]
    },
    {
     "name": "stdout",
     "output_type": "stream",
     "text": [
      "[CV]  C=0.01, class_weight={1: 25}, max_iter=1000, penalty=l1, solver=saga, total=   2.3s\n",
      "[CV] C=0.01, class_weight={1: 25}, max_iter=1000, penalty=l1, solver=saga \n"
     ]
    },
    {
     "name": "stderr",
     "output_type": "stream",
     "text": [
      "C:\\Users\\tsuts\\anaconda3\\lib\\site-packages\\sklearn\\linear_model\\_sag.py:329: ConvergenceWarning: The max_iter was reached which means the coef_ did not converge\n",
      "  warnings.warn(\"The max_iter was reached which means \"\n"
     ]
    },
    {
     "name": "stdout",
     "output_type": "stream",
     "text": [
      "[CV]  C=0.01, class_weight={1: 25}, max_iter=1000, penalty=l1, solver=saga, total=   2.3s\n",
      "[CV] C=0.01, class_weight={1: 25}, max_iter=1000, penalty=l1, solver=saga \n"
     ]
    },
    {
     "name": "stderr",
     "output_type": "stream",
     "text": [
      "C:\\Users\\tsuts\\anaconda3\\lib\\site-packages\\sklearn\\linear_model\\_sag.py:329: ConvergenceWarning: The max_iter was reached which means the coef_ did not converge\n",
      "  warnings.warn(\"The max_iter was reached which means \"\n"
     ]
    },
    {
     "name": "stdout",
     "output_type": "stream",
     "text": [
      "[CV]  C=0.01, class_weight={1: 25}, max_iter=1000, penalty=l1, solver=saga, total=   2.3s\n",
      "[CV] C=0.01, class_weight={1: 25}, max_iter=1000, penalty=l1, solver=saga \n"
     ]
    },
    {
     "name": "stderr",
     "output_type": "stream",
     "text": [
      "C:\\Users\\tsuts\\anaconda3\\lib\\site-packages\\sklearn\\linear_model\\_sag.py:329: ConvergenceWarning: The max_iter was reached which means the coef_ did not converge\n",
      "  warnings.warn(\"The max_iter was reached which means \"\n"
     ]
    },
    {
     "name": "stdout",
     "output_type": "stream",
     "text": [
      "[CV]  C=0.01, class_weight={1: 25}, max_iter=1000, penalty=l1, solver=saga, total=   2.3s\n",
      "[CV] C=0.01, class_weight={1: 25}, max_iter=1000, penalty=l1, solver=saga \n"
     ]
    },
    {
     "name": "stderr",
     "output_type": "stream",
     "text": [
      "C:\\Users\\tsuts\\anaconda3\\lib\\site-packages\\sklearn\\linear_model\\_sag.py:329: ConvergenceWarning: The max_iter was reached which means the coef_ did not converge\n",
      "  warnings.warn(\"The max_iter was reached which means \"\n"
     ]
    },
    {
     "name": "stdout",
     "output_type": "stream",
     "text": [
      "[CV]  C=0.01, class_weight={1: 25}, max_iter=1000, penalty=l1, solver=saga, total=   2.3s\n",
      "[CV] C=0.01, class_weight={1: 25}, max_iter=1000, penalty=l1, solver=saga \n"
     ]
    },
    {
     "name": "stderr",
     "output_type": "stream",
     "text": [
      "C:\\Users\\tsuts\\anaconda3\\lib\\site-packages\\sklearn\\linear_model\\_sag.py:329: ConvergenceWarning: The max_iter was reached which means the coef_ did not converge\n",
      "  warnings.warn(\"The max_iter was reached which means \"\n"
     ]
    },
    {
     "name": "stdout",
     "output_type": "stream",
     "text": [
      "[CV]  C=0.01, class_weight={1: 25}, max_iter=1000, penalty=l1, solver=saga, total=   2.3s\n",
      "[CV] C=0.01, class_weight={1: 25}, max_iter=1000, penalty=l1, solver=saga \n"
     ]
    },
    {
     "name": "stderr",
     "output_type": "stream",
     "text": [
      "C:\\Users\\tsuts\\anaconda3\\lib\\site-packages\\sklearn\\linear_model\\_sag.py:329: ConvergenceWarning: The max_iter was reached which means the coef_ did not converge\n",
      "  warnings.warn(\"The max_iter was reached which means \"\n"
     ]
    },
    {
     "name": "stdout",
     "output_type": "stream",
     "text": [
      "[CV]  C=0.01, class_weight={1: 25}, max_iter=1000, penalty=l1, solver=saga, total=   2.3s\n",
      "[CV] C=0.01, class_weight={1: 25}, max_iter=1000, penalty=l1, solver=saga \n"
     ]
    },
    {
     "name": "stderr",
     "output_type": "stream",
     "text": [
      "C:\\Users\\tsuts\\anaconda3\\lib\\site-packages\\sklearn\\linear_model\\_sag.py:329: ConvergenceWarning: The max_iter was reached which means the coef_ did not converge\n",
      "  warnings.warn(\"The max_iter was reached which means \"\n"
     ]
    },
    {
     "name": "stdout",
     "output_type": "stream",
     "text": [
      "[CV]  C=0.01, class_weight={1: 25}, max_iter=1000, penalty=l1, solver=saga, total=   2.3s\n",
      "[CV] C=0.01, class_weight={1: 25}, max_iter=1000, penalty=l2, solver=liblinear \n",
      "[CV]  C=0.01, class_weight={1: 25}, max_iter=1000, penalty=l2, solver=liblinear, total=   0.0s\n",
      "[CV] C=0.01, class_weight={1: 25}, max_iter=1000, penalty=l2, solver=liblinear \n",
      "[CV]  C=0.01, class_weight={1: 25}, max_iter=1000, penalty=l2, solver=liblinear, total=   0.0s\n",
      "[CV] C=0.01, class_weight={1: 25}, max_iter=1000, penalty=l2, solver=liblinear \n",
      "[CV]  C=0.01, class_weight={1: 25}, max_iter=1000, penalty=l2, solver=liblinear, total=   0.0s\n",
      "[CV] C=0.01, class_weight={1: 25}, max_iter=1000, penalty=l2, solver=liblinear \n",
      "[CV]  C=0.01, class_weight={1: 25}, max_iter=1000, penalty=l2, solver=liblinear, total=   0.0s\n",
      "[CV] C=0.01, class_weight={1: 25}, max_iter=1000, penalty=l2, solver=liblinear \n",
      "[CV]  C=0.01, class_weight={1: 25}, max_iter=1000, penalty=l2, solver=liblinear, total=   0.0s\n",
      "[CV] C=0.01, class_weight={1: 25}, max_iter=1000, penalty=l2, solver=liblinear \n",
      "[CV]  C=0.01, class_weight={1: 25}, max_iter=1000, penalty=l2, solver=liblinear, total=   0.0s\n",
      "[CV] C=0.01, class_weight={1: 25}, max_iter=1000, penalty=l2, solver=liblinear \n",
      "[CV]  C=0.01, class_weight={1: 25}, max_iter=1000, penalty=l2, solver=liblinear, total=   0.0s\n",
      "[CV] C=0.01, class_weight={1: 25}, max_iter=1000, penalty=l2, solver=liblinear \n",
      "[CV]  C=0.01, class_weight={1: 25}, max_iter=1000, penalty=l2, solver=liblinear, total=   0.0s\n",
      "[CV] C=0.01, class_weight={1: 25}, max_iter=1000, penalty=l2, solver=liblinear \n",
      "[CV]  C=0.01, class_weight={1: 25}, max_iter=1000, penalty=l2, solver=liblinear, total=   0.0s\n",
      "[CV] C=0.01, class_weight={1: 25}, max_iter=1000, penalty=l2, solver=liblinear \n",
      "[CV]  C=0.01, class_weight={1: 25}, max_iter=1000, penalty=l2, solver=liblinear, total=   0.0s\n",
      "[CV] C=0.01, class_weight={1: 25}, max_iter=1000, penalty=l2, solver=saga \n"
     ]
    },
    {
     "name": "stderr",
     "output_type": "stream",
     "text": [
      "C:\\Users\\tsuts\\anaconda3\\lib\\site-packages\\sklearn\\linear_model\\_sag.py:329: ConvergenceWarning: The max_iter was reached which means the coef_ did not converge\n",
      "  warnings.warn(\"The max_iter was reached which means \"\n"
     ]
    },
    {
     "name": "stdout",
     "output_type": "stream",
     "text": [
      "[CV]  C=0.01, class_weight={1: 25}, max_iter=1000, penalty=l2, solver=saga, total=   1.7s\n",
      "[CV] C=0.01, class_weight={1: 25}, max_iter=1000, penalty=l2, solver=saga \n"
     ]
    },
    {
     "name": "stderr",
     "output_type": "stream",
     "text": [
      "C:\\Users\\tsuts\\anaconda3\\lib\\site-packages\\sklearn\\linear_model\\_sag.py:329: ConvergenceWarning: The max_iter was reached which means the coef_ did not converge\n",
      "  warnings.warn(\"The max_iter was reached which means \"\n"
     ]
    },
    {
     "name": "stdout",
     "output_type": "stream",
     "text": [
      "[CV]  C=0.01, class_weight={1: 25}, max_iter=1000, penalty=l2, solver=saga, total=   1.7s\n",
      "[CV] C=0.01, class_weight={1: 25}, max_iter=1000, penalty=l2, solver=saga \n"
     ]
    },
    {
     "name": "stderr",
     "output_type": "stream",
     "text": [
      "C:\\Users\\tsuts\\anaconda3\\lib\\site-packages\\sklearn\\linear_model\\_sag.py:329: ConvergenceWarning: The max_iter was reached which means the coef_ did not converge\n",
      "  warnings.warn(\"The max_iter was reached which means \"\n"
     ]
    },
    {
     "name": "stdout",
     "output_type": "stream",
     "text": [
      "[CV]  C=0.01, class_weight={1: 25}, max_iter=1000, penalty=l2, solver=saga, total=   1.7s\n",
      "[CV] C=0.01, class_weight={1: 25}, max_iter=1000, penalty=l2, solver=saga \n"
     ]
    },
    {
     "name": "stderr",
     "output_type": "stream",
     "text": [
      "C:\\Users\\tsuts\\anaconda3\\lib\\site-packages\\sklearn\\linear_model\\_sag.py:329: ConvergenceWarning: The max_iter was reached which means the coef_ did not converge\n",
      "  warnings.warn(\"The max_iter was reached which means \"\n"
     ]
    },
    {
     "name": "stdout",
     "output_type": "stream",
     "text": [
      "[CV]  C=0.01, class_weight={1: 25}, max_iter=1000, penalty=l2, solver=saga, total=   1.7s\n",
      "[CV] C=0.01, class_weight={1: 25}, max_iter=1000, penalty=l2, solver=saga \n"
     ]
    },
    {
     "name": "stderr",
     "output_type": "stream",
     "text": [
      "C:\\Users\\tsuts\\anaconda3\\lib\\site-packages\\sklearn\\linear_model\\_sag.py:329: ConvergenceWarning: The max_iter was reached which means the coef_ did not converge\n",
      "  warnings.warn(\"The max_iter was reached which means \"\n"
     ]
    },
    {
     "name": "stdout",
     "output_type": "stream",
     "text": [
      "[CV]  C=0.01, class_weight={1: 25}, max_iter=1000, penalty=l2, solver=saga, total=   1.7s\n",
      "[CV] C=0.01, class_weight={1: 25}, max_iter=1000, penalty=l2, solver=saga \n"
     ]
    },
    {
     "name": "stderr",
     "output_type": "stream",
     "text": [
      "C:\\Users\\tsuts\\anaconda3\\lib\\site-packages\\sklearn\\linear_model\\_sag.py:329: ConvergenceWarning: The max_iter was reached which means the coef_ did not converge\n",
      "  warnings.warn(\"The max_iter was reached which means \"\n"
     ]
    },
    {
     "name": "stdout",
     "output_type": "stream",
     "text": [
      "[CV]  C=0.01, class_weight={1: 25}, max_iter=1000, penalty=l2, solver=saga, total=   1.7s\n",
      "[CV] C=0.01, class_weight={1: 25}, max_iter=1000, penalty=l2, solver=saga \n"
     ]
    },
    {
     "name": "stderr",
     "output_type": "stream",
     "text": [
      "C:\\Users\\tsuts\\anaconda3\\lib\\site-packages\\sklearn\\linear_model\\_sag.py:329: ConvergenceWarning: The max_iter was reached which means the coef_ did not converge\n",
      "  warnings.warn(\"The max_iter was reached which means \"\n"
     ]
    },
    {
     "name": "stdout",
     "output_type": "stream",
     "text": [
      "[CV]  C=0.01, class_weight={1: 25}, max_iter=1000, penalty=l2, solver=saga, total=   1.7s\n",
      "[CV] C=0.01, class_weight={1: 25}, max_iter=1000, penalty=l2, solver=saga \n"
     ]
    },
    {
     "name": "stderr",
     "output_type": "stream",
     "text": [
      "C:\\Users\\tsuts\\anaconda3\\lib\\site-packages\\sklearn\\linear_model\\_sag.py:329: ConvergenceWarning: The max_iter was reached which means the coef_ did not converge\n",
      "  warnings.warn(\"The max_iter was reached which means \"\n"
     ]
    },
    {
     "name": "stdout",
     "output_type": "stream",
     "text": [
      "[CV]  C=0.01, class_weight={1: 25}, max_iter=1000, penalty=l2, solver=saga, total=   1.7s\n",
      "[CV] C=0.01, class_weight={1: 25}, max_iter=1000, penalty=l2, solver=saga \n"
     ]
    },
    {
     "name": "stderr",
     "output_type": "stream",
     "text": [
      "C:\\Users\\tsuts\\anaconda3\\lib\\site-packages\\sklearn\\linear_model\\_sag.py:329: ConvergenceWarning: The max_iter was reached which means the coef_ did not converge\n",
      "  warnings.warn(\"The max_iter was reached which means \"\n"
     ]
    },
    {
     "name": "stdout",
     "output_type": "stream",
     "text": [
      "[CV]  C=0.01, class_weight={1: 25}, max_iter=1000, penalty=l2, solver=saga, total=   1.7s\n",
      "[CV] C=0.01, class_weight={1: 25}, max_iter=1000, penalty=l2, solver=saga \n"
     ]
    },
    {
     "name": "stderr",
     "output_type": "stream",
     "text": [
      "C:\\Users\\tsuts\\anaconda3\\lib\\site-packages\\sklearn\\linear_model\\_sag.py:329: ConvergenceWarning: The max_iter was reached which means the coef_ did not converge\n",
      "  warnings.warn(\"The max_iter was reached which means \"\n"
     ]
    },
    {
     "name": "stdout",
     "output_type": "stream",
     "text": [
      "[CV]  C=0.01, class_weight={1: 25}, max_iter=1000, penalty=l2, solver=saga, total=   1.7s\n",
      "[CV] C=0.01, class_weight={1: 8}, max_iter=100, penalty=l1, solver=liblinear \n",
      "[CV]  C=0.01, class_weight={1: 8}, max_iter=100, penalty=l1, solver=liblinear, total=   0.0s\n",
      "[CV] C=0.01, class_weight={1: 8}, max_iter=100, penalty=l1, solver=liblinear \n",
      "[CV]  C=0.01, class_weight={1: 8}, max_iter=100, penalty=l1, solver=liblinear, total=   0.0s\n",
      "[CV] C=0.01, class_weight={1: 8}, max_iter=100, penalty=l1, solver=liblinear \n",
      "[CV]  C=0.01, class_weight={1: 8}, max_iter=100, penalty=l1, solver=liblinear, total=   0.0s\n",
      "[CV] C=0.01, class_weight={1: 8}, max_iter=100, penalty=l1, solver=liblinear \n",
      "[CV]  C=0.01, class_weight={1: 8}, max_iter=100, penalty=l1, solver=liblinear, total=   0.0s\n",
      "[CV] C=0.01, class_weight={1: 8}, max_iter=100, penalty=l1, solver=liblinear \n",
      "[CV]  C=0.01, class_weight={1: 8}, max_iter=100, penalty=l1, solver=liblinear, total=   0.0s\n",
      "[CV] C=0.01, class_weight={1: 8}, max_iter=100, penalty=l1, solver=liblinear \n",
      "[CV]  C=0.01, class_weight={1: 8}, max_iter=100, penalty=l1, solver=liblinear, total=   0.0s\n",
      "[CV] C=0.01, class_weight={1: 8}, max_iter=100, penalty=l1, solver=liblinear \n",
      "[CV]  C=0.01, class_weight={1: 8}, max_iter=100, penalty=l1, solver=liblinear, total=   0.0s\n",
      "[CV] C=0.01, class_weight={1: 8}, max_iter=100, penalty=l1, solver=liblinear \n",
      "[CV]  C=0.01, class_weight={1: 8}, max_iter=100, penalty=l1, solver=liblinear, total=   0.0s\n",
      "[CV] C=0.01, class_weight={1: 8}, max_iter=100, penalty=l1, solver=liblinear \n",
      "[CV]  C=0.01, class_weight={1: 8}, max_iter=100, penalty=l1, solver=liblinear, total=   0.0s\n",
      "[CV] C=0.01, class_weight={1: 8}, max_iter=100, penalty=l1, solver=liblinear \n",
      "[CV]  C=0.01, class_weight={1: 8}, max_iter=100, penalty=l1, solver=liblinear, total=   0.0s\n",
      "[CV] C=0.01, class_weight={1: 8}, max_iter=100, penalty=l1, solver=saga \n",
      "[CV]  C=0.01, class_weight={1: 8}, max_iter=100, penalty=l1, solver=saga, total=   0.0s\n",
      "[CV] C=0.01, class_weight={1: 8}, max_iter=100, penalty=l1, solver=saga \n",
      "[CV]  C=0.01, class_weight={1: 8}, max_iter=100, penalty=l1, solver=saga, total=   0.0s\n",
      "[CV] C=0.01, class_weight={1: 8}, max_iter=100, penalty=l1, solver=saga \n",
      "[CV]  C=0.01, class_weight={1: 8}, max_iter=100, penalty=l1, solver=saga, total=   0.0s\n",
      "[CV] C=0.01, class_weight={1: 8}, max_iter=100, penalty=l1, solver=saga \n",
      "[CV]  C=0.01, class_weight={1: 8}, max_iter=100, penalty=l1, solver=saga, total=   0.0s\n",
      "[CV] C=0.01, class_weight={1: 8}, max_iter=100, penalty=l1, solver=saga \n",
      "[CV]  C=0.01, class_weight={1: 8}, max_iter=100, penalty=l1, solver=saga, total=   0.0s\n",
      "[CV] C=0.01, class_weight={1: 8}, max_iter=100, penalty=l1, solver=saga \n",
      "[CV]  C=0.01, class_weight={1: 8}, max_iter=100, penalty=l1, solver=saga, total=   0.0s\n",
      "[CV] C=0.01, class_weight={1: 8}, max_iter=100, penalty=l1, solver=saga \n",
      "[CV]  C=0.01, class_weight={1: 8}, max_iter=100, penalty=l1, solver=saga, total=   0.0s\n",
      "[CV] C=0.01, class_weight={1: 8}, max_iter=100, penalty=l1, solver=saga \n",
      "[CV]  C=0.01, class_weight={1: 8}, max_iter=100, penalty=l1, solver=saga, total=   0.1s\n",
      "[CV] C=0.01, class_weight={1: 8}, max_iter=100, penalty=l1, solver=saga \n",
      "[CV]  C=0.01, class_weight={1: 8}, max_iter=100, penalty=l1, solver=saga, total=   0.1s\n",
      "[CV] C=0.01, class_weight={1: 8}, max_iter=100, penalty=l1, solver=saga \n",
      "[CV]  C=0.01, class_weight={1: 8}, max_iter=100, penalty=l1, solver=saga, total=   0.0s\n",
      "[CV] C=0.01, class_weight={1: 8}, max_iter=100, penalty=l2, solver=liblinear \n",
      "[CV]  C=0.01, class_weight={1: 8}, max_iter=100, penalty=l2, solver=liblinear, total=   0.0s\n",
      "[CV] C=0.01, class_weight={1: 8}, max_iter=100, penalty=l2, solver=liblinear \n",
      "[CV]  C=0.01, class_weight={1: 8}, max_iter=100, penalty=l2, solver=liblinear, total=   0.0s\n",
      "[CV] C=0.01, class_weight={1: 8}, max_iter=100, penalty=l2, solver=liblinear \n",
      "[CV]  C=0.01, class_weight={1: 8}, max_iter=100, penalty=l2, solver=liblinear, total=   0.0s\n",
      "[CV] C=0.01, class_weight={1: 8}, max_iter=100, penalty=l2, solver=liblinear \n",
      "[CV]  C=0.01, class_weight={1: 8}, max_iter=100, penalty=l2, solver=liblinear, total=   0.0s\n",
      "[CV] C=0.01, class_weight={1: 8}, max_iter=100, penalty=l2, solver=liblinear \n",
      "[CV]  C=0.01, class_weight={1: 8}, max_iter=100, penalty=l2, solver=liblinear, total=   0.0s\n",
      "[CV] C=0.01, class_weight={1: 8}, max_iter=100, penalty=l2, solver=liblinear \n",
      "[CV]  C=0.01, class_weight={1: 8}, max_iter=100, penalty=l2, solver=liblinear, total=   0.0s\n",
      "[CV] C=0.01, class_weight={1: 8}, max_iter=100, penalty=l2, solver=liblinear \n",
      "[CV]  C=0.01, class_weight={1: 8}, max_iter=100, penalty=l2, solver=liblinear, total=   0.0s\n",
      "[CV] C=0.01, class_weight={1: 8}, max_iter=100, penalty=l2, solver=liblinear \n",
      "[CV]  C=0.01, class_weight={1: 8}, max_iter=100, penalty=l2, solver=liblinear, total=   0.0s\n",
      "[CV] C=0.01, class_weight={1: 8}, max_iter=100, penalty=l2, solver=liblinear \n",
      "[CV]  C=0.01, class_weight={1: 8}, max_iter=100, penalty=l2, solver=liblinear, total=   0.0s\n",
      "[CV] C=0.01, class_weight={1: 8}, max_iter=100, penalty=l2, solver=liblinear \n",
      "[CV]  C=0.01, class_weight={1: 8}, max_iter=100, penalty=l2, solver=liblinear, total=   0.0s\n",
      "[CV] C=0.01, class_weight={1: 8}, max_iter=100, penalty=l2, solver=saga \n",
      "[CV]  C=0.01, class_weight={1: 8}, max_iter=100, penalty=l2, solver=saga, total=   0.1s\n",
      "[CV] C=0.01, class_weight={1: 8}, max_iter=100, penalty=l2, solver=saga \n"
     ]
    },
    {
     "name": "stderr",
     "output_type": "stream",
     "text": [
      "C:\\Users\\tsuts\\anaconda3\\lib\\site-packages\\sklearn\\linear_model\\_sag.py:329: ConvergenceWarning: The max_iter was reached which means the coef_ did not converge\n",
      "  warnings.warn(\"The max_iter was reached which means \"\n",
      "C:\\Users\\tsuts\\anaconda3\\lib\\site-packages\\sklearn\\linear_model\\_sag.py:329: ConvergenceWarning: The max_iter was reached which means the coef_ did not converge\n",
      "  warnings.warn(\"The max_iter was reached which means \"\n"
     ]
    },
    {
     "name": "stdout",
     "output_type": "stream",
     "text": [
      "[CV]  C=0.01, class_weight={1: 8}, max_iter=100, penalty=l2, solver=saga, total=   0.2s\n",
      "[CV] C=0.01, class_weight={1: 8}, max_iter=100, penalty=l2, solver=saga \n",
      "[CV]  C=0.01, class_weight={1: 8}, max_iter=100, penalty=l2, solver=saga, total=   0.2s\n",
      "[CV] C=0.01, class_weight={1: 8}, max_iter=100, penalty=l2, solver=saga \n"
     ]
    },
    {
     "name": "stderr",
     "output_type": "stream",
     "text": [
      "C:\\Users\\tsuts\\anaconda3\\lib\\site-packages\\sklearn\\linear_model\\_sag.py:329: ConvergenceWarning: The max_iter was reached which means the coef_ did not converge\n",
      "  warnings.warn(\"The max_iter was reached which means \"\n",
      "C:\\Users\\tsuts\\anaconda3\\lib\\site-packages\\sklearn\\linear_model\\_sag.py:329: ConvergenceWarning: The max_iter was reached which means the coef_ did not converge\n",
      "  warnings.warn(\"The max_iter was reached which means \"\n"
     ]
    },
    {
     "name": "stdout",
     "output_type": "stream",
     "text": [
      "[CV]  C=0.01, class_weight={1: 8}, max_iter=100, penalty=l2, solver=saga, total=   0.2s\n",
      "[CV] C=0.01, class_weight={1: 8}, max_iter=100, penalty=l2, solver=saga \n",
      "[CV]  C=0.01, class_weight={1: 8}, max_iter=100, penalty=l2, solver=saga, total=   0.2s\n",
      "[CV] C=0.01, class_weight={1: 8}, max_iter=100, penalty=l2, solver=saga \n"
     ]
    },
    {
     "name": "stderr",
     "output_type": "stream",
     "text": [
      "C:\\Users\\tsuts\\anaconda3\\lib\\site-packages\\sklearn\\linear_model\\_sag.py:329: ConvergenceWarning: The max_iter was reached which means the coef_ did not converge\n",
      "  warnings.warn(\"The max_iter was reached which means \"\n",
      "C:\\Users\\tsuts\\anaconda3\\lib\\site-packages\\sklearn\\linear_model\\_sag.py:329: ConvergenceWarning: The max_iter was reached which means the coef_ did not converge\n",
      "  warnings.warn(\"The max_iter was reached which means \"\n"
     ]
    },
    {
     "name": "stdout",
     "output_type": "stream",
     "text": [
      "[CV]  C=0.01, class_weight={1: 8}, max_iter=100, penalty=l2, solver=saga, total=   0.2s\n",
      "[CV] C=0.01, class_weight={1: 8}, max_iter=100, penalty=l2, solver=saga \n",
      "[CV]  C=0.01, class_weight={1: 8}, max_iter=100, penalty=l2, solver=saga, total=   0.2s\n",
      "[CV] C=0.01, class_weight={1: 8}, max_iter=100, penalty=l2, solver=saga \n"
     ]
    },
    {
     "name": "stderr",
     "output_type": "stream",
     "text": [
      "C:\\Users\\tsuts\\anaconda3\\lib\\site-packages\\sklearn\\linear_model\\_sag.py:329: ConvergenceWarning: The max_iter was reached which means the coef_ did not converge\n",
      "  warnings.warn(\"The max_iter was reached which means \"\n",
      "C:\\Users\\tsuts\\anaconda3\\lib\\site-packages\\sklearn\\linear_model\\_sag.py:329: ConvergenceWarning: The max_iter was reached which means the coef_ did not converge\n",
      "  warnings.warn(\"The max_iter was reached which means \"\n"
     ]
    },
    {
     "name": "stdout",
     "output_type": "stream",
     "text": [
      "[CV]  C=0.01, class_weight={1: 8}, max_iter=100, penalty=l2, solver=saga, total=   0.2s\n",
      "[CV] C=0.01, class_weight={1: 8}, max_iter=100, penalty=l2, solver=saga \n",
      "[CV]  C=0.01, class_weight={1: 8}, max_iter=100, penalty=l2, solver=saga, total=   0.2s\n",
      "[CV] C=0.01, class_weight={1: 8}, max_iter=100, penalty=l2, solver=saga \n"
     ]
    },
    {
     "name": "stderr",
     "output_type": "stream",
     "text": [
      "C:\\Users\\tsuts\\anaconda3\\lib\\site-packages\\sklearn\\linear_model\\_sag.py:329: ConvergenceWarning: The max_iter was reached which means the coef_ did not converge\n",
      "  warnings.warn(\"The max_iter was reached which means \"\n"
     ]
    },
    {
     "name": "stdout",
     "output_type": "stream",
     "text": [
      "[CV]  C=0.01, class_weight={1: 8}, max_iter=100, penalty=l2, solver=saga, total=   0.2s\n",
      "[CV] C=0.01, class_weight={1: 8}, max_iter=1000, penalty=l1, solver=liblinear \n",
      "[CV]  C=0.01, class_weight={1: 8}, max_iter=1000, penalty=l1, solver=liblinear, total=   0.0s\n",
      "[CV] C=0.01, class_weight={1: 8}, max_iter=1000, penalty=l1, solver=liblinear \n",
      "[CV]  C=0.01, class_weight={1: 8}, max_iter=1000, penalty=l1, solver=liblinear, total=   0.0s\n",
      "[CV] C=0.01, class_weight={1: 8}, max_iter=1000, penalty=l1, solver=liblinear \n",
      "[CV]  C=0.01, class_weight={1: 8}, max_iter=1000, penalty=l1, solver=liblinear, total=   0.0s\n",
      "[CV] C=0.01, class_weight={1: 8}, max_iter=1000, penalty=l1, solver=liblinear \n",
      "[CV]  C=0.01, class_weight={1: 8}, max_iter=1000, penalty=l1, solver=liblinear, total=   0.0s\n",
      "[CV] C=0.01, class_weight={1: 8}, max_iter=1000, penalty=l1, solver=liblinear \n",
      "[CV]  C=0.01, class_weight={1: 8}, max_iter=1000, penalty=l1, solver=liblinear, total=   0.0s\n",
      "[CV] C=0.01, class_weight={1: 8}, max_iter=1000, penalty=l1, solver=liblinear \n",
      "[CV]  C=0.01, class_weight={1: 8}, max_iter=1000, penalty=l1, solver=liblinear, total=   0.0s\n",
      "[CV] C=0.01, class_weight={1: 8}, max_iter=1000, penalty=l1, solver=liblinear \n",
      "[CV]  C=0.01, class_weight={1: 8}, max_iter=1000, penalty=l1, solver=liblinear, total=   0.0s\n",
      "[CV] C=0.01, class_weight={1: 8}, max_iter=1000, penalty=l1, solver=liblinear \n",
      "[CV]  C=0.01, class_weight={1: 8}, max_iter=1000, penalty=l1, solver=liblinear, total=   0.0s\n",
      "[CV] C=0.01, class_weight={1: 8}, max_iter=1000, penalty=l1, solver=liblinear \n",
      "[CV]  C=0.01, class_weight={1: 8}, max_iter=1000, penalty=l1, solver=liblinear, total=   0.0s\n",
      "[CV] C=0.01, class_weight={1: 8}, max_iter=1000, penalty=l1, solver=liblinear \n",
      "[CV]  C=0.01, class_weight={1: 8}, max_iter=1000, penalty=l1, solver=liblinear, total=   0.0s\n",
      "[CV] C=0.01, class_weight={1: 8}, max_iter=1000, penalty=l1, solver=saga \n",
      "[CV]  C=0.01, class_weight={1: 8}, max_iter=1000, penalty=l1, solver=saga, total=   0.0s\n",
      "[CV] C=0.01, class_weight={1: 8}, max_iter=1000, penalty=l1, solver=saga \n",
      "[CV]  C=0.01, class_weight={1: 8}, max_iter=1000, penalty=l1, solver=saga, total=   0.0s\n",
      "[CV] C=0.01, class_weight={1: 8}, max_iter=1000, penalty=l1, solver=saga \n",
      "[CV]  C=0.01, class_weight={1: 8}, max_iter=1000, penalty=l1, solver=saga, total=   0.0s\n",
      "[CV] C=0.01, class_weight={1: 8}, max_iter=1000, penalty=l1, solver=saga \n",
      "[CV]  C=0.01, class_weight={1: 8}, max_iter=1000, penalty=l1, solver=saga, total=   0.1s\n",
      "[CV] C=0.01, class_weight={1: 8}, max_iter=1000, penalty=l1, solver=saga \n",
      "[CV]  C=0.01, class_weight={1: 8}, max_iter=1000, penalty=l1, solver=saga, total=   0.0s\n",
      "[CV] C=0.01, class_weight={1: 8}, max_iter=1000, penalty=l1, solver=saga \n",
      "[CV]  C=0.01, class_weight={1: 8}, max_iter=1000, penalty=l1, solver=saga, total=   0.1s\n",
      "[CV] C=0.01, class_weight={1: 8}, max_iter=1000, penalty=l1, solver=saga \n",
      "[CV]  C=0.01, class_weight={1: 8}, max_iter=1000, penalty=l1, solver=saga, total=   0.0s\n",
      "[CV] C=0.01, class_weight={1: 8}, max_iter=1000, penalty=l1, solver=saga \n",
      "[CV]  C=0.01, class_weight={1: 8}, max_iter=1000, penalty=l1, solver=saga, total=   0.0s\n",
      "[CV] C=0.01, class_weight={1: 8}, max_iter=1000, penalty=l1, solver=saga \n",
      "[CV]  C=0.01, class_weight={1: 8}, max_iter=1000, penalty=l1, solver=saga, total=   0.0s\n",
      "[CV] C=0.01, class_weight={1: 8}, max_iter=1000, penalty=l1, solver=saga \n",
      "[CV]  C=0.01, class_weight={1: 8}, max_iter=1000, penalty=l1, solver=saga, total=   0.0s\n",
      "[CV] C=0.01, class_weight={1: 8}, max_iter=1000, penalty=l2, solver=liblinear \n",
      "[CV]  C=0.01, class_weight={1: 8}, max_iter=1000, penalty=l2, solver=liblinear, total=   0.0s\n",
      "[CV] C=0.01, class_weight={1: 8}, max_iter=1000, penalty=l2, solver=liblinear \n",
      "[CV]  C=0.01, class_weight={1: 8}, max_iter=1000, penalty=l2, solver=liblinear, total=   0.0s\n",
      "[CV] C=0.01, class_weight={1: 8}, max_iter=1000, penalty=l2, solver=liblinear \n",
      "[CV]  C=0.01, class_weight={1: 8}, max_iter=1000, penalty=l2, solver=liblinear, total=   0.0s\n",
      "[CV] C=0.01, class_weight={1: 8}, max_iter=1000, penalty=l2, solver=liblinear \n",
      "[CV]  C=0.01, class_weight={1: 8}, max_iter=1000, penalty=l2, solver=liblinear, total=   0.0s\n",
      "[CV] C=0.01, class_weight={1: 8}, max_iter=1000, penalty=l2, solver=liblinear \n",
      "[CV]  C=0.01, class_weight={1: 8}, max_iter=1000, penalty=l2, solver=liblinear, total=   0.0s\n",
      "[CV] C=0.01, class_weight={1: 8}, max_iter=1000, penalty=l2, solver=liblinear \n",
      "[CV]  C=0.01, class_weight={1: 8}, max_iter=1000, penalty=l2, solver=liblinear, total=   0.0s\n",
      "[CV] C=0.01, class_weight={1: 8}, max_iter=1000, penalty=l2, solver=liblinear \n",
      "[CV]  C=0.01, class_weight={1: 8}, max_iter=1000, penalty=l2, solver=liblinear, total=   0.0s\n",
      "[CV] C=0.01, class_weight={1: 8}, max_iter=1000, penalty=l2, solver=liblinear \n",
      "[CV]  C=0.01, class_weight={1: 8}, max_iter=1000, penalty=l2, solver=liblinear, total=   0.0s\n",
      "[CV] C=0.01, class_weight={1: 8}, max_iter=1000, penalty=l2, solver=liblinear \n",
      "[CV]  C=0.01, class_weight={1: 8}, max_iter=1000, penalty=l2, solver=liblinear, total=   0.0s\n",
      "[CV] C=0.01, class_weight={1: 8}, max_iter=1000, penalty=l2, solver=liblinear \n",
      "[CV]  C=0.01, class_weight={1: 8}, max_iter=1000, penalty=l2, solver=liblinear, total=   0.0s\n",
      "[CV] C=0.01, class_weight={1: 8}, max_iter=1000, penalty=l2, solver=saga \n",
      "[CV]  C=0.01, class_weight={1: 8}, max_iter=1000, penalty=l2, solver=saga, total=   0.1s\n",
      "[CV] C=0.01, class_weight={1: 8}, max_iter=1000, penalty=l2, solver=saga \n"
     ]
    },
    {
     "name": "stderr",
     "output_type": "stream",
     "text": [
      "C:\\Users\\tsuts\\anaconda3\\lib\\site-packages\\sklearn\\linear_model\\_sag.py:329: ConvergenceWarning: The max_iter was reached which means the coef_ did not converge\n",
      "  warnings.warn(\"The max_iter was reached which means \"\n"
     ]
    },
    {
     "name": "stdout",
     "output_type": "stream",
     "text": [
      "[CV]  C=0.01, class_weight={1: 8}, max_iter=1000, penalty=l2, solver=saga, total=   1.7s\n",
      "[CV] C=0.01, class_weight={1: 8}, max_iter=1000, penalty=l2, solver=saga \n"
     ]
    },
    {
     "name": "stderr",
     "output_type": "stream",
     "text": [
      "C:\\Users\\tsuts\\anaconda3\\lib\\site-packages\\sklearn\\linear_model\\_sag.py:329: ConvergenceWarning: The max_iter was reached which means the coef_ did not converge\n",
      "  warnings.warn(\"The max_iter was reached which means \"\n"
     ]
    },
    {
     "name": "stdout",
     "output_type": "stream",
     "text": [
      "[CV]  C=0.01, class_weight={1: 8}, max_iter=1000, penalty=l2, solver=saga, total=   1.7s\n",
      "[CV] C=0.01, class_weight={1: 8}, max_iter=1000, penalty=l2, solver=saga \n"
     ]
    },
    {
     "name": "stderr",
     "output_type": "stream",
     "text": [
      "C:\\Users\\tsuts\\anaconda3\\lib\\site-packages\\sklearn\\linear_model\\_sag.py:329: ConvergenceWarning: The max_iter was reached which means the coef_ did not converge\n",
      "  warnings.warn(\"The max_iter was reached which means \"\n"
     ]
    },
    {
     "name": "stdout",
     "output_type": "stream",
     "text": [
      "[CV]  C=0.01, class_weight={1: 8}, max_iter=1000, penalty=l2, solver=saga, total=   1.7s\n",
      "[CV] C=0.01, class_weight={1: 8}, max_iter=1000, penalty=l2, solver=saga \n"
     ]
    },
    {
     "name": "stderr",
     "output_type": "stream",
     "text": [
      "C:\\Users\\tsuts\\anaconda3\\lib\\site-packages\\sklearn\\linear_model\\_sag.py:329: ConvergenceWarning: The max_iter was reached which means the coef_ did not converge\n",
      "  warnings.warn(\"The max_iter was reached which means \"\n"
     ]
    },
    {
     "name": "stdout",
     "output_type": "stream",
     "text": [
      "[CV]  C=0.01, class_weight={1: 8}, max_iter=1000, penalty=l2, solver=saga, total=   1.7s\n",
      "[CV] C=0.01, class_weight={1: 8}, max_iter=1000, penalty=l2, solver=saga \n"
     ]
    },
    {
     "name": "stderr",
     "output_type": "stream",
     "text": [
      "C:\\Users\\tsuts\\anaconda3\\lib\\site-packages\\sklearn\\linear_model\\_sag.py:329: ConvergenceWarning: The max_iter was reached which means the coef_ did not converge\n",
      "  warnings.warn(\"The max_iter was reached which means \"\n"
     ]
    },
    {
     "name": "stdout",
     "output_type": "stream",
     "text": [
      "[CV]  C=0.01, class_weight={1: 8}, max_iter=1000, penalty=l2, solver=saga, total=   1.7s\n",
      "[CV] C=0.01, class_weight={1: 8}, max_iter=1000, penalty=l2, solver=saga \n"
     ]
    },
    {
     "name": "stderr",
     "output_type": "stream",
     "text": [
      "C:\\Users\\tsuts\\anaconda3\\lib\\site-packages\\sklearn\\linear_model\\_sag.py:329: ConvergenceWarning: The max_iter was reached which means the coef_ did not converge\n",
      "  warnings.warn(\"The max_iter was reached which means \"\n"
     ]
    },
    {
     "name": "stdout",
     "output_type": "stream",
     "text": [
      "[CV]  C=0.01, class_weight={1: 8}, max_iter=1000, penalty=l2, solver=saga, total=   1.7s\n",
      "[CV] C=0.01, class_weight={1: 8}, max_iter=1000, penalty=l2, solver=saga \n"
     ]
    },
    {
     "name": "stderr",
     "output_type": "stream",
     "text": [
      "C:\\Users\\tsuts\\anaconda3\\lib\\site-packages\\sklearn\\linear_model\\_sag.py:329: ConvergenceWarning: The max_iter was reached which means the coef_ did not converge\n",
      "  warnings.warn(\"The max_iter was reached which means \"\n"
     ]
    },
    {
     "name": "stdout",
     "output_type": "stream",
     "text": [
      "[CV]  C=0.01, class_weight={1: 8}, max_iter=1000, penalty=l2, solver=saga, total=   1.7s\n",
      "[CV] C=0.01, class_weight={1: 8}, max_iter=1000, penalty=l2, solver=saga \n"
     ]
    },
    {
     "name": "stderr",
     "output_type": "stream",
     "text": [
      "C:\\Users\\tsuts\\anaconda3\\lib\\site-packages\\sklearn\\linear_model\\_sag.py:329: ConvergenceWarning: The max_iter was reached which means the coef_ did not converge\n",
      "  warnings.warn(\"The max_iter was reached which means \"\n"
     ]
    },
    {
     "name": "stdout",
     "output_type": "stream",
     "text": [
      "[CV]  C=0.01, class_weight={1: 8}, max_iter=1000, penalty=l2, solver=saga, total=   1.7s\n",
      "[CV] C=0.01, class_weight={1: 8}, max_iter=1000, penalty=l2, solver=saga \n"
     ]
    },
    {
     "name": "stderr",
     "output_type": "stream",
     "text": [
      "C:\\Users\\tsuts\\anaconda3\\lib\\site-packages\\sklearn\\linear_model\\_sag.py:329: ConvergenceWarning: The max_iter was reached which means the coef_ did not converge\n",
      "  warnings.warn(\"The max_iter was reached which means \"\n",
      "[Parallel(n_jobs=1)]: Done 160 out of 160 | elapsed:  1.1min finished\n",
      "C:\\Users\\tsuts\\anaconda3\\lib\\site-packages\\sklearn\\linear_model\\_sag.py:329: ConvergenceWarning: The max_iter was reached which means the coef_ did not converge\n",
      "  warnings.warn(\"The max_iter was reached which means \"\n"
     ]
    },
    {
     "name": "stdout",
     "output_type": "stream",
     "text": [
      "[CV]  C=0.01, class_weight={1: 8}, max_iter=1000, penalty=l2, solver=saga, total=   1.7s\n"
     ]
    }
   ],
   "source": [
    "results = {\n",
    "    'target' : [],\n",
    "    'best_cv_scores' : [],\n",
    "    'best_params' : [],\n",
    "    'AUC_train_score' : [],\n",
    "    'AUC_test_score' : [],\n",
    "    'train_f1_scores' : [],\n",
    "    'test_f1_scores' : [],\n",
    "    'train_precision_scores' : [], \n",
    "    'test_precision_scores' : [],\n",
    "    'train_recall_scores' : [],\n",
    "    'test_recall_scores' : []\n",
    "}\n",
    "\n",
    "targets = ['accomodation','crowddispersal','beatings', 'shootings', 'killings']  \n",
    "    \n",
    "features = gov_response.drop(columns=['id', 'country', 'ccode', 'region', 'location','protesteridentity', 'sources',\n",
    "       'notes', 'protester_id_type', 'protest_size_category', 'start_date', 'notes_clean', 'neg', 'neu', 'pos', 'compound',\n",
    "       'end_date', 'target', 'arrests', 'accomodation', 'beatings', 'protest_duration', 'pop_male', 'pop_female', 'pop_total',\n",
    "       'crowddispersal', 'ignore', 'killings', 'shootings', 'violent_response'])\n",
    "\n",
    "for target in targets: \n",
    "\n",
    "    X = features\n",
    "    y = gov_response[target]\n",
    "\n",
    "    logreg = LogisticRegression()\n",
    "\n",
    "    X_train, X_test, y_train, y_test = train_test_split(X, y, test_size=0.2, random_state=48)\n",
    "\n",
    "    ss = StandardScaler()\n",
    "    X_train_sc = ss.fit_transform(X_train)\n",
    "    X_test_sc = ss.transform(X_test)\n",
    "    \n",
    "    params = {\n",
    "    'penalty' : ['l1','l2'], \n",
    "    'C' : [.01],\n",
    "    'solver' : ['liblinear', 'saga'],\n",
    "    'max_iter' : [100, 1000],\n",
    "    'class_weight' : [{1:0, 1:25}, {1:0, 1:8}]\n",
    "    }\n",
    "\n",
    "    grid = GridSearchCV(logreg, param_grid=params, cv=10, verbose=2)\n",
    "\n",
    "    # fit grids\n",
    "    grid.fit(X_train_sc, y_train)\n",
    "    \n",
    "    results['target'].append(target)\n",
    "\n",
    "    # append important grid results\n",
    "    results['best_params'].append(grid.best_params_)\n",
    "    results['best_cv_scores'].append(grid.best_score_)\n",
    "\n",
    "    # make predictions \n",
    "    train_preds = grid.predict(X_train_sc)\n",
    "    test_preds = grid.predict(X_test_sc)\n",
    "\n",
    "    # various classification metrics\n",
    "    # AUC scores \n",
    "    results['AUC_train_score'].append(roc_auc_score(y_train, train_preds))\n",
    "    results['AUC_test_score'].append(roc_auc_score(y_test, test_preds))\n",
    "\n",
    "    # f1 scores\n",
    "    results['train_f1_scores'].append(f1_score(y_train, train_preds))\n",
    "    results['test_f1_scores'].append(f1_score(y_test, test_preds))\n",
    "\n",
    "    # precision scores \n",
    "    results['train_precision_scores'].append(precision_score(y_train, train_preds))\n",
    "    results['test_precision_scores'].append(precision_score(y_test, test_preds))\n",
    "\n",
    "    # recall scores\n",
    "    results['train_recall_scores'].append(recall_score(y_train, train_preds))\n",
    "    results['test_recall_scores'].append(recall_score(y_test, test_preds))"
   ]
  },
  {
   "cell_type": "code",
   "execution_count": 257,
   "metadata": {},
   "outputs": [
    {
     "data": {
      "text/html": [
       "<div>\n",
       "<style scoped>\n",
       "    .dataframe tbody tr th:only-of-type {\n",
       "        vertical-align: middle;\n",
       "    }\n",
       "\n",
       "    .dataframe tbody tr th {\n",
       "        vertical-align: top;\n",
       "    }\n",
       "\n",
       "    .dataframe thead th {\n",
       "        text-align: right;\n",
       "    }\n",
       "</style>\n",
       "<table border=\"1\" class=\"dataframe\">\n",
       "  <thead>\n",
       "    <tr style=\"text-align: right;\">\n",
       "      <th></th>\n",
       "      <th>target</th>\n",
       "      <th>best_cv_scores</th>\n",
       "      <th>best_params</th>\n",
       "      <th>AUC_train_score</th>\n",
       "      <th>AUC_test_score</th>\n",
       "      <th>train_f1_scores</th>\n",
       "      <th>test_f1_scores</th>\n",
       "      <th>train_precision_scores</th>\n",
       "      <th>test_precision_scores</th>\n",
       "      <th>train_recall_scores</th>\n",
       "      <th>test_recall_scores</th>\n",
       "    </tr>\n",
       "  </thead>\n",
       "  <tbody>\n",
       "    <tr>\n",
       "      <th>0</th>\n",
       "      <td>accomodation</td>\n",
       "      <td>0.483043</td>\n",
       "      <td>{'C': 0.01, 'class_weight': {1: 8}, 'max_iter'...</td>\n",
       "      <td>0.635504</td>\n",
       "      <td>0.638397</td>\n",
       "      <td>0.400000</td>\n",
       "      <td>0.383959</td>\n",
       "      <td>0.258865</td>\n",
       "      <td>0.244831</td>\n",
       "      <td>0.879518</td>\n",
       "      <td>0.889328</td>\n",
       "    </tr>\n",
       "    <tr>\n",
       "      <th>1</th>\n",
       "      <td>crowddispersal</td>\n",
       "      <td>0.668290</td>\n",
       "      <td>{'C': 0.01, 'class_weight': {1: 25}, 'max_iter...</td>\n",
       "      <td>0.500000</td>\n",
       "      <td>0.500000</td>\n",
       "      <td>0.801038</td>\n",
       "      <td>0.808255</td>\n",
       "      <td>0.668110</td>\n",
       "      <td>0.678211</td>\n",
       "      <td>1.000000</td>\n",
       "      <td>1.000000</td>\n",
       "    </tr>\n",
       "    <tr>\n",
       "      <th>2</th>\n",
       "      <td>beatings</td>\n",
       "      <td>0.613637</td>\n",
       "      <td>{'C': 0.01, 'class_weight': {1: 8}, 'max_iter'...</td>\n",
       "      <td>0.653911</td>\n",
       "      <td>0.613902</td>\n",
       "      <td>0.290861</td>\n",
       "      <td>0.261937</td>\n",
       "      <td>0.183424</td>\n",
       "      <td>0.166090</td>\n",
       "      <td>0.702093</td>\n",
       "      <td>0.619355</td>\n",
       "    </tr>\n",
       "    <tr>\n",
       "      <th>3</th>\n",
       "      <td>shootings</td>\n",
       "      <td>0.649171</td>\n",
       "      <td>{'C': 0.01, 'class_weight': {1: 8}, 'max_iter'...</td>\n",
       "      <td>0.730823</td>\n",
       "      <td>0.691819</td>\n",
       "      <td>0.388801</td>\n",
       "      <td>0.353706</td>\n",
       "      <td>0.253317</td>\n",
       "      <td>0.230508</td>\n",
       "      <td>0.835841</td>\n",
       "      <td>0.759777</td>\n",
       "    </tr>\n",
       "    <tr>\n",
       "      <th>4</th>\n",
       "      <td>killings</td>\n",
       "      <td>0.667750</td>\n",
       "      <td>{'C': 0.01, 'class_weight': {1: 8}, 'max_iter'...</td>\n",
       "      <td>0.718195</td>\n",
       "      <td>0.700643</td>\n",
       "      <td>0.352521</td>\n",
       "      <td>0.357864</td>\n",
       "      <td>0.228030</td>\n",
       "      <td>0.237094</td>\n",
       "      <td>0.776378</td>\n",
       "      <td>0.729412</td>\n",
       "    </tr>\n",
       "  </tbody>\n",
       "</table>\n",
       "</div>"
      ],
      "text/plain": [
       "           target  best_cv_scores  \\\n",
       "0    accomodation        0.483043   \n",
       "1  crowddispersal        0.668290   \n",
       "2        beatings        0.613637   \n",
       "3       shootings        0.649171   \n",
       "4        killings        0.667750   \n",
       "\n",
       "                                         best_params  AUC_train_score  \\\n",
       "0  {'C': 0.01, 'class_weight': {1: 8}, 'max_iter'...         0.635504   \n",
       "1  {'C': 0.01, 'class_weight': {1: 25}, 'max_iter...         0.500000   \n",
       "2  {'C': 0.01, 'class_weight': {1: 8}, 'max_iter'...         0.653911   \n",
       "3  {'C': 0.01, 'class_weight': {1: 8}, 'max_iter'...         0.730823   \n",
       "4  {'C': 0.01, 'class_weight': {1: 8}, 'max_iter'...         0.718195   \n",
       "\n",
       "   AUC_test_score  train_f1_scores  test_f1_scores  train_precision_scores  \\\n",
       "0        0.638397         0.400000        0.383959                0.258865   \n",
       "1        0.500000         0.801038        0.808255                0.668110   \n",
       "2        0.613902         0.290861        0.261937                0.183424   \n",
       "3        0.691819         0.388801        0.353706                0.253317   \n",
       "4        0.700643         0.352521        0.357864                0.228030   \n",
       "\n",
       "   test_precision_scores  train_recall_scores  test_recall_scores  \n",
       "0               0.244831             0.879518            0.889328  \n",
       "1               0.678211             1.000000            1.000000  \n",
       "2               0.166090             0.702093            0.619355  \n",
       "3               0.230508             0.835841            0.759777  \n",
       "4               0.237094             0.776378            0.729412  "
      ]
     },
     "execution_count": 257,
     "metadata": {},
     "output_type": "execute_result"
    }
   ],
   "source": [
    "results_df = pd.DataFrame(results)\n",
    "results_df"
   ]
  },
  {
   "cell_type": "code",
   "execution_count": null,
   "metadata": {},
   "outputs": [],
   "source": []
  },
  {
   "cell_type": "code",
   "execution_count": 188,
   "metadata": {},
   "outputs": [
    {
     "data": {
      "text/plain": [
       "0    0.858818\n",
       "1    0.141182\n",
       "Name: arrests, dtype: float64"
      ]
     },
     "execution_count": 188,
     "metadata": {},
     "output_type": "execute_result"
    }
   ],
   "source": [
    "mass_no_country['arrests'].value_counts(normalize=True)"
   ]
  },
  {
   "cell_type": "code",
   "execution_count": 191,
   "metadata": {},
   "outputs": [
    {
     "data": {
      "text/plain": [
       "0    0.899796\n",
       "1    0.100204\n",
       "Name: accomodation, dtype: float64"
      ]
     },
     "execution_count": 191,
     "metadata": {},
     "output_type": "execute_result"
    }
   ],
   "source": [
    "mass_no_country['accomodation'].value_counts(normalize=True)"
   ]
  },
  {
   "cell_type": "code",
   "execution_count": 227,
   "metadata": {},
   "outputs": [
    {
     "data": {
      "text/plain": [
       "0    0.875354\n",
       "1    0.124646\n",
       "Name: violent_response, dtype: float64"
      ]
     },
     "execution_count": 227,
     "metadata": {},
     "output_type": "execute_result"
    }
   ],
   "source": [
    "mass_no_country['violent_response'].value_counts(normalize=True)"
   ]
  },
  {
   "cell_type": "code",
   "execution_count": 229,
   "metadata": {},
   "outputs": [
    {
     "data": {
      "text/plain": [
       "1    0.543448\n",
       "0    0.456552\n",
       "Name: ignore, dtype: float64"
      ]
     },
     "execution_count": 229,
     "metadata": {},
     "output_type": "execute_result"
    }
   ],
   "source": [
    "mass_no_country['ignore'].value_counts(normalize=True)"
   ]
  },
  {
   "cell_type": "code",
   "execution_count": 231,
   "metadata": {},
   "outputs": [
    {
     "data": {
      "text/plain": [
       "0    0.686541\n",
       "1    0.313459\n",
       "Name: crowddispersal, dtype: float64"
      ]
     },
     "execution_count": 231,
     "metadata": {},
     "output_type": "execute_result"
    }
   ],
   "source": [
    "mass_no_country['crowddispersal'].value_counts(normalize=True)"
   ]
  },
  {
   "cell_type": "code",
   "execution_count": 233,
   "metadata": {},
   "outputs": [
    {
     "data": {
      "text/plain": [
       "0    0.899796\n",
       "1    0.100204\n",
       "Name: accomodation, dtype: float64"
      ]
     },
     "execution_count": 233,
     "metadata": {},
     "output_type": "execute_result"
    }
   ],
   "source": [
    "mass_no_country['accomodation'].value_counts(normalize=True)"
   ]
  },
  {
   "cell_type": "code",
   "execution_count": 236,
   "metadata": {},
   "outputs": [
    {
     "data": {
      "text/plain": [
       "Index(['protestnumber', 'protesterviolence', 'partipants_number',\n",
       "       'pop_density', 'prosperity_2020', 'region_Africa', 'region_Asia',\n",
       "       'region_Central America', 'region_Europe', 'region_MENA',\n",
       "       'region_North America', 'region_Oceania', 'region_South America',\n",
       "       'protest_size_category_1,000-4,999',\n",
       "       'protest_size_category_10,000-100,000', 'protest_size_category_100-999',\n",
       "       'protest_size_category_5,000-9,999', 'protest_size_category_50-99',\n",
       "       'protest_size_category_Less than 50',\n",
       "       'protest_size_category_Over 100,000',\n",
       "       'protester_id_type_civil_human_rights',\n",
       "       'protester_id_type_ethnic_group', 'protester_id_type_locals_residents',\n",
       "       'protester_id_type_pensioners_retirees',\n",
       "       'protester_id_type_political_group', 'protester_id_type_prisoners',\n",
       "       'protester_id_type_protestors_generic',\n",
       "       'protester_id_type_religious_group',\n",
       "       'protester_id_type_soldiers_veterans',\n",
       "       'protester_id_type_students_youth',\n",
       "       'protester_id_type_victims_families', 'protester_id_type_women',\n",
       "       'protester_id_type_workers_unions', 'labor_wage_dispute',\n",
       "       'land_farm_issue', 'police_brutality', 'political_behavior_process',\n",
       "       'price increases_tax_policy', 'removal_of_politician',\n",
       "       'social_restrictions'],\n",
       "      dtype='object')"
      ]
     },
     "execution_count": 236,
     "metadata": {},
     "output_type": "execute_result"
    }
   ],
   "source": [
    "features.columns"
   ]
  },
  {
   "cell_type": "markdown",
   "metadata": {},
   "source": [
    "## Running a Logistic Regression Model Using Macro Functions\n",
    "- Implementing three above functions for each state response. Will be tweaking the model throughout."
   ]
  },
  {
   "cell_type": "code",
   "execution_count": 108,
   "metadata": {},
   "outputs": [],
   "source": [
    "# define features \n",
    "\n",
    "# instantiate model\n",
    "logreg = LogisticRegression(solver='lbfgs', max_iter=1000)\n",
    "\n",
    "# lr_arrests_1 = state_response_predictor(mass, features_1, 'arrests', lr_1)"
   ]
  },
  {
   "cell_type": "code",
   "execution_count": 109,
   "metadata": {},
   "outputs": [],
   "source": [
    "# lr_arrests_1, f1_score_train_arrests, f1_score_test_arrests, precision_train, precision_test, recall_train, recall_test = state_response_predictor(mass, \n",
    "#                                                                                                                                    features_1, \n",
    "#                                                                                                                                    'arrests', \n",
    "#                                                                                                                                    LogisticRegression_1)"
   ]
  },
  {
   "cell_type": "code",
   "execution_count": 110,
   "metadata": {},
   "outputs": [],
   "source": [
    "# mass['arrests_predicted'], mass['arrests_probability'] = response_prediction_columns(lr_arrests_1, mass, features_1)"
   ]
  },
  {
   "cell_type": "markdown",
   "metadata": {},
   "source": [
    "Now we want to run a LogisticRegression on each of our target variables using the state_response_predictor() function\n",
    "\n",
    "- Responses: `'arrests','accomodation','beatings','crowddispersal','ignore','killings','shootings'`"
   ]
  },
  {
   "cell_type": "code",
   "execution_count": 111,
   "metadata": {},
   "outputs": [
    {
     "name": "stdout",
     "output_type": "stream",
     "text": [
      "accomodation- F1_score for LogisticRegression(max_iter=1000) model, train set: 0.11160714285714285\n",
      "accomodation- F1_score for LogisticRegression(max_iter=1000) model, test set: 0.07523510971786833\n",
      "accomodation- Precision for LogisticRegression(max_iter=1000) model, train set: 0.635593220338983\n",
      "accomodation- Precision for LogisticRegression(max_iter=1000) model, test set: 0.5\n",
      "accomodation- Recall for LogisticRegression(max_iter=1000) model, train set: 0.061174551386623165\n",
      "accomodation- Recall for LogisticRegression(max_iter=1000) model, teset set: 0.04067796610169491\n"
     ]
    }
   ],
   "source": [
    "mass['arrested_predicted'], mass['arrested_probability'], f1_score_train, f1_score_test, precision_train, precision_test, recall_train, recall_test = \\\n",
    "state_response_predictor(mass, features, 'accomodation', logreg)"
   ]
  },
  {
   "cell_type": "code",
   "execution_count": 112,
   "metadata": {},
   "outputs": [
    {
     "name": "stdout",
     "output_type": "stream",
     "text": [
      "accomodation- F1_score for LogisticRegression(max_iter=1000) model, train set: 0.11160714285714285\n",
      "accomodation- F1_score for LogisticRegression(max_iter=1000) model, test set: 0.07523510971786833\n",
      "accomodation- Precision for LogisticRegression(max_iter=1000) model, train set: 0.635593220338983\n",
      "accomodation- Precision for LogisticRegression(max_iter=1000) model, test set: 0.5\n",
      "accomodation- Recall for LogisticRegression(max_iter=1000) model, train set: 0.061174551386623165\n",
      "accomodation- Recall for LogisticRegression(max_iter=1000) model, teset set: 0.04067796610169491\n"
     ]
    }
   ],
   "source": [
    "mass['accomodation_predicted'], mass['accomodation_probability'], f1_score_train, f1_score_test, precision_train, precision_test, recall_train, recall_test = \\\n",
    "state_response_predictor(mass, features, 'accomodation', logreg)"
   ]
  },
  {
   "cell_type": "code",
   "execution_count": 113,
   "metadata": {},
   "outputs": [
    {
     "name": "stdout",
     "output_type": "stream",
     "text": [
      "beatings- F1_score for LogisticRegression(max_iter=1000) model, train set: 0.24060150375939848\n",
      "beatings- F1_score for LogisticRegression(max_iter=1000) model, test set: 0.186046511627907\n",
      "beatings- Precision for LogisticRegression(max_iter=1000) model, train set: 0.6808510638297872\n",
      "beatings- Precision for LogisticRegression(max_iter=1000) model, test set: 0.5517241379310345\n",
      "beatings- Recall for LogisticRegression(max_iter=1000) model, train set: 0.1461187214611872\n",
      "beatings- Recall for LogisticRegression(max_iter=1000) model, teset set: 0.11188811188811189\n"
     ]
    }
   ],
   "source": [
    "mass['beatings_predicted'], mass['beatings_probability'], f1_score_train, f1_score_test, precision_train, precision_test, recall_train, recall_test = \\\n",
    "state_response_predictor(mass, features, 'beatings', logreg)"
   ]
  },
  {
   "cell_type": "code",
   "execution_count": 114,
   "metadata": {},
   "outputs": [
    {
     "name": "stdout",
     "output_type": "stream",
     "text": [
      "crowddispersal- F1_score for LogisticRegression(max_iter=1000) model, train set: 0.6569570135746606\n",
      "crowddispersal- F1_score for LogisticRegression(max_iter=1000) model, test set: 0.6399535423925667\n",
      "crowddispersal- Precision for LogisticRegression(max_iter=1000) model, train set: 0.7136712749615975\n",
      "crowddispersal- Precision for LogisticRegression(max_iter=1000) model, test set: 0.70550576184379\n",
      "crowddispersal- Recall for LogisticRegression(max_iter=1000) model, train set: 0.6085931359706576\n",
      "crowddispersal- Recall for LogisticRegression(max_iter=1000) model, teset set: 0.5855472901168969\n"
     ]
    }
   ],
   "source": [
    "mass['crowddispersal_predicted'], mass['crowddispersal_probability'], f1_score_train, f1_score_test, precision_train, precision_test, recall_train, recall_test = \\\n",
    "state_response_predictor(mass, features, 'crowddispersal', logreg)"
   ]
  },
  {
   "cell_type": "code",
   "execution_count": 115,
   "metadata": {},
   "outputs": [
    {
     "name": "stdout",
     "output_type": "stream",
     "text": [
      "ignore- F1_score for LogisticRegression(max_iter=1000) model, train set: 0.7946295375435107\n",
      "ignore- F1_score for LogisticRegression(max_iter=1000) model, test set: 0.7843907916900618\n",
      "ignore- Precision for LogisticRegression(max_iter=1000) model, train set: 0.7469284188034188\n",
      "ignore- Precision for LogisticRegression(max_iter=1000) model, test set: 0.7344900105152471\n",
      "ignore- Recall for LogisticRegression(max_iter=1000) model, train set: 0.8488389740476552\n",
      "ignore- Recall for LogisticRegression(max_iter=1000) model, teset set: 0.841566265060241\n"
     ]
    }
   ],
   "source": [
    "mass['ignore_predicted'], mass['ignore_probability'], f1_score_train, f1_score_test, precision_train, precision_test, recall_train, recall_test = \\\n",
    "state_response_predictor(mass, features, 'ignore', logreg)"
   ]
  },
  {
   "cell_type": "code",
   "execution_count": 116,
   "metadata": {},
   "outputs": [
    {
     "name": "stdout",
     "output_type": "stream",
     "text": [
      "killings- F1_score for LogisticRegression(max_iter=1000) model, train set: 0.2876712328767123\n",
      "killings- F1_score for LogisticRegression(max_iter=1000) model, test set: 0.16999999999999998\n",
      "killings- Precision for LogisticRegression(max_iter=1000) model, train set: 0.6116504854368932\n",
      "killings- Precision for LogisticRegression(max_iter=1000) model, test set: 0.3695652173913043\n",
      "killings- Recall for LogisticRegression(max_iter=1000) model, train set: 0.1880597014925373\n",
      "killings- Recall for LogisticRegression(max_iter=1000) model, teset set: 0.11038961038961038\n"
     ]
    }
   ],
   "source": [
    "mass['killings_predicted'], mass['killings_probability'], f1_score_train, f1_score_test, precision_train, precision_test, recall_train, recall_test = \\\n",
    "state_response_predictor(mass, features, 'killings', logreg)"
   ]
  },
  {
   "cell_type": "code",
   "execution_count": 117,
   "metadata": {
    "scrolled": true
   },
   "outputs": [
    {
     "name": "stdout",
     "output_type": "stream",
     "text": [
      "shootings- F1_score for LogisticRegression(max_iter=1000) model, train set: 0.26806282722513086\n",
      "shootings- F1_score for LogisticRegression(max_iter=1000) model, test set: 0.23728813559322035\n",
      "shootings- Precision for LogisticRegression(max_iter=1000) model, train set: 0.6183574879227053\n",
      "shootings- Precision for LogisticRegression(max_iter=1000) model, test set: 0.5283018867924528\n",
      "shootings- Recall for LogisticRegression(max_iter=1000) model, train set: 0.1711229946524064\n",
      "shootings- Recall for LogisticRegression(max_iter=1000) model, teset set: 0.15300546448087432\n"
     ]
    }
   ],
   "source": [
    "mass['shootings_predicted'], mass['shootings_probability'], f1_score_train, f1_score_test, precision_train, precision_test, recall_train, recall_test = \\\n",
    "state_response_predictor(mass, features, 'shootings', logreg)"
   ]
  },
  {
   "cell_type": "code",
   "execution_count": 120,
   "metadata": {
    "scrolled": true
   },
   "outputs": [
    {
     "data": {
      "text/html": [
       "<div>\n",
       "<style scoped>\n",
       "    .dataframe tbody tr th:only-of-type {\n",
       "        vertical-align: middle;\n",
       "    }\n",
       "\n",
       "    .dataframe tbody tr th {\n",
       "        vertical-align: top;\n",
       "    }\n",
       "\n",
       "    .dataframe thead th {\n",
       "        text-align: right;\n",
       "    }\n",
       "</style>\n",
       "<table border=\"1\" class=\"dataframe\">\n",
       "  <thead>\n",
       "    <tr style=\"text-align: right;\">\n",
       "      <th></th>\n",
       "      <th>Unnamed: 0</th>\n",
       "      <th>id</th>\n",
       "      <th>country</th>\n",
       "      <th>ccode</th>\n",
       "      <th>region</th>\n",
       "      <th>protestnumber</th>\n",
       "      <th>protesterviolence</th>\n",
       "      <th>location</th>\n",
       "      <th>protesteridentity</th>\n",
       "      <th>sources</th>\n",
       "      <th>...</th>\n",
       "      <th>beatings_predicted</th>\n",
       "      <th>beatings_probability</th>\n",
       "      <th>crowddispersal_predicted</th>\n",
       "      <th>crowddispersal_probability</th>\n",
       "      <th>ignore_predicted</th>\n",
       "      <th>ignore_probability</th>\n",
       "      <th>killings_predicted</th>\n",
       "      <th>killings_probability</th>\n",
       "      <th>shootings_predicted</th>\n",
       "      <th>shootings_probability</th>\n",
       "    </tr>\n",
       "  </thead>\n",
       "  <tbody>\n",
       "    <tr>\n",
       "      <th>0</th>\n",
       "      <td>0</td>\n",
       "      <td>201990001</td>\n",
       "      <td>Canada</td>\n",
       "      <td>20</td>\n",
       "      <td>North America</td>\n",
       "      <td>1</td>\n",
       "      <td>0.0</td>\n",
       "      <td>national</td>\n",
       "      <td>unspecified</td>\n",
       "      <td>1. great canadian train journeys into history;...</td>\n",
       "      <td>...</td>\n",
       "      <td>0</td>\n",
       "      <td>0.000186</td>\n",
       "      <td>0</td>\n",
       "      <td>0.065208</td>\n",
       "      <td>1</td>\n",
       "      <td>0.716539</td>\n",
       "      <td>0</td>\n",
       "      <td>0.003705</td>\n",
       "      <td>0</td>\n",
       "      <td>0.015891</td>\n",
       "    </tr>\n",
       "    <tr>\n",
       "      <th>1</th>\n",
       "      <td>1</td>\n",
       "      <td>201990002</td>\n",
       "      <td>Canada</td>\n",
       "      <td>20</td>\n",
       "      <td>North America</td>\n",
       "      <td>2</td>\n",
       "      <td>0.0</td>\n",
       "      <td>Montreal, Quebec</td>\n",
       "      <td>unspecified</td>\n",
       "      <td>1. autonomy s cry revived in quebec the new yo...</td>\n",
       "      <td>...</td>\n",
       "      <td>0</td>\n",
       "      <td>0.000190</td>\n",
       "      <td>0</td>\n",
       "      <td>0.046310</td>\n",
       "      <td>1</td>\n",
       "      <td>0.754182</td>\n",
       "      <td>0</td>\n",
       "      <td>0.001890</td>\n",
       "      <td>0</td>\n",
       "      <td>0.010443</td>\n",
       "    </tr>\n",
       "    <tr>\n",
       "      <th>2</th>\n",
       "      <td>2</td>\n",
       "      <td>201990003</td>\n",
       "      <td>Canada</td>\n",
       "      <td>20</td>\n",
       "      <td>North America</td>\n",
       "      <td>3</td>\n",
       "      <td>0.0</td>\n",
       "      <td>Montreal, Quebec</td>\n",
       "      <td>separatist parti quebecois</td>\n",
       "      <td>1. quebec protest after queen calls for unity ...</td>\n",
       "      <td>...</td>\n",
       "      <td>0</td>\n",
       "      <td>0.000106</td>\n",
       "      <td>0</td>\n",
       "      <td>0.026878</td>\n",
       "      <td>1</td>\n",
       "      <td>0.796236</td>\n",
       "      <td>0</td>\n",
       "      <td>0.000774</td>\n",
       "      <td>0</td>\n",
       "      <td>0.004157</td>\n",
       "    </tr>\n",
       "    <tr>\n",
       "      <th>3</th>\n",
       "      <td>3</td>\n",
       "      <td>201990004</td>\n",
       "      <td>Canada</td>\n",
       "      <td>20</td>\n",
       "      <td>North America</td>\n",
       "      <td>4</td>\n",
       "      <td>1.0</td>\n",
       "      <td>Montreal, Quebec</td>\n",
       "      <td>mohawk indians</td>\n",
       "      <td>1. indians gather as siege intensifies; armed ...</td>\n",
       "      <td>...</td>\n",
       "      <td>0</td>\n",
       "      <td>0.000517</td>\n",
       "      <td>1</td>\n",
       "      <td>0.509338</td>\n",
       "      <td>0</td>\n",
       "      <td>0.081650</td>\n",
       "      <td>0</td>\n",
       "      <td>0.118788</td>\n",
       "      <td>0</td>\n",
       "      <td>0.126993</td>\n",
       "    </tr>\n",
       "    <tr>\n",
       "      <th>4</th>\n",
       "      <td>4</td>\n",
       "      <td>201990005</td>\n",
       "      <td>Canada</td>\n",
       "      <td>20</td>\n",
       "      <td>North America</td>\n",
       "      <td>5</td>\n",
       "      <td>1.0</td>\n",
       "      <td>Montreal, Quebec</td>\n",
       "      <td>local residents</td>\n",
       "      <td>1. dozens hurt in mohawk blockade protest the ...</td>\n",
       "      <td>...</td>\n",
       "      <td>0</td>\n",
       "      <td>0.000796</td>\n",
       "      <td>0</td>\n",
       "      <td>0.451476</td>\n",
       "      <td>0</td>\n",
       "      <td>0.162104</td>\n",
       "      <td>0</td>\n",
       "      <td>0.026036</td>\n",
       "      <td>0</td>\n",
       "      <td>0.092881</td>\n",
       "    </tr>\n",
       "  </tbody>\n",
       "</table>\n",
       "<p>5 rows × 249 columns</p>\n",
       "</div>"
      ],
      "text/plain": [
       "   Unnamed: 0         id country  ccode         region  protestnumber  \\\n",
       "0           0  201990001  Canada     20  North America              1   \n",
       "1           1  201990002  Canada     20  North America              2   \n",
       "2           2  201990003  Canada     20  North America              3   \n",
       "3           3  201990004  Canada     20  North America              4   \n",
       "4           4  201990005  Canada     20  North America              5   \n",
       "\n",
       "   protesterviolence          location           protesteridentity  \\\n",
       "0                0.0          national                 unspecified   \n",
       "1                0.0  Montreal, Quebec                 unspecified   \n",
       "2                0.0  Montreal, Quebec  separatist parti quebecois   \n",
       "3                1.0  Montreal, Quebec              mohawk indians   \n",
       "4                1.0  Montreal, Quebec             local residents   \n",
       "\n",
       "                                             sources  ... beatings_predicted  \\\n",
       "0  1. great canadian train journeys into history;...  ...                  0   \n",
       "1  1. autonomy s cry revived in quebec the new yo...  ...                  0   \n",
       "2  1. quebec protest after queen calls for unity ...  ...                  0   \n",
       "3  1. indians gather as siege intensifies; armed ...  ...                  0   \n",
       "4  1. dozens hurt in mohawk blockade protest the ...  ...                  0   \n",
       "\n",
       "  beatings_probability  crowddispersal_predicted crowddispersal_probability  \\\n",
       "0             0.000186                         0                   0.065208   \n",
       "1             0.000190                         0                   0.046310   \n",
       "2             0.000106                         0                   0.026878   \n",
       "3             0.000517                         1                   0.509338   \n",
       "4             0.000796                         0                   0.451476   \n",
       "\n",
       "   ignore_predicted  ignore_probability  killings_predicted  \\\n",
       "0                 1            0.716539                   0   \n",
       "1                 1            0.754182                   0   \n",
       "2                 1            0.796236                   0   \n",
       "3                 0            0.081650                   0   \n",
       "4                 0            0.162104                   0   \n",
       "\n",
       "   killings_probability  shootings_predicted  shootings_probability  \n",
       "0              0.003705                    0               0.015891  \n",
       "1              0.001890                    0               0.010443  \n",
       "2              0.000774                    0               0.004157  \n",
       "3              0.118788                    0               0.126993  \n",
       "4              0.026036                    0               0.092881  \n",
       "\n",
       "[5 rows x 249 columns]"
      ]
     },
     "execution_count": 120,
     "metadata": {},
     "output_type": "execute_result"
    }
   ],
   "source": [
    "# Now our mass df has our predictions and probabilities for each row \n",
    "mass.head()"
   ]
  },
  {
   "cell_type": "markdown",
   "metadata": {},
   "source": [
    "## Create DataFrame of various classification metrics for our model"
   ]
  },
  {
   "cell_type": "code",
   "execution_count": 122,
   "metadata": {
    "scrolled": true
   },
   "outputs": [
    {
     "name": "stdout",
     "output_type": "stream",
     "text": [
      "arrests- F1_score for LogisticRegression(max_iter=1000) model, train set: 0.26868408986703346\n",
      "arrests- F1_score for LogisticRegression(max_iter=1000) model, test set: 0.25475285171102663\n",
      "arrests- Precision for LogisticRegression(max_iter=1000) model, train set: 0.6397379912663755\n",
      "arrests- Precision for LogisticRegression(max_iter=1000) model, test set: 0.6320754716981132\n",
      "arrests- Recall for LogisticRegression(max_iter=1000) model, train set: 0.17005223447475334\n",
      "arrests- Recall for LogisticRegression(max_iter=1000) model, teset set: 0.1595238095238095\n",
      "accomodation- F1_score for LogisticRegression(max_iter=1000) model, train set: 0.11160714285714285\n",
      "accomodation- F1_score for LogisticRegression(max_iter=1000) model, test set: 0.07523510971786833\n",
      "accomodation- Precision for LogisticRegression(max_iter=1000) model, train set: 0.635593220338983\n",
      "accomodation- Precision for LogisticRegression(max_iter=1000) model, test set: 0.5\n",
      "accomodation- Recall for LogisticRegression(max_iter=1000) model, train set: 0.061174551386623165\n",
      "accomodation- Recall for LogisticRegression(max_iter=1000) model, teset set: 0.04067796610169491\n",
      "beatings- F1_score for LogisticRegression(max_iter=1000) model, train set: 0.24060150375939848\n",
      "beatings- F1_score for LogisticRegression(max_iter=1000) model, test set: 0.186046511627907\n",
      "beatings- Precision for LogisticRegression(max_iter=1000) model, train set: 0.6808510638297872\n",
      "beatings- Precision for LogisticRegression(max_iter=1000) model, test set: 0.5517241379310345\n",
      "beatings- Recall for LogisticRegression(max_iter=1000) model, train set: 0.1461187214611872\n",
      "beatings- Recall for LogisticRegression(max_iter=1000) model, teset set: 0.11188811188811189\n",
      "crowddispersal- F1_score for LogisticRegression(max_iter=1000) model, train set: 0.6569570135746606\n",
      "crowddispersal- F1_score for LogisticRegression(max_iter=1000) model, test set: 0.6399535423925667\n",
      "crowddispersal- Precision for LogisticRegression(max_iter=1000) model, train set: 0.7136712749615975\n",
      "crowddispersal- Precision for LogisticRegression(max_iter=1000) model, test set: 0.70550576184379\n",
      "crowddispersal- Recall for LogisticRegression(max_iter=1000) model, train set: 0.6085931359706576\n",
      "crowddispersal- Recall for LogisticRegression(max_iter=1000) model, teset set: 0.5855472901168969\n",
      "ignore- F1_score for LogisticRegression(max_iter=1000) model, train set: 0.7946295375435107\n",
      "ignore- F1_score for LogisticRegression(max_iter=1000) model, test set: 0.7843907916900618\n",
      "ignore- Precision for LogisticRegression(max_iter=1000) model, train set: 0.7469284188034188\n",
      "ignore- Precision for LogisticRegression(max_iter=1000) model, test set: 0.7344900105152471\n",
      "ignore- Recall for LogisticRegression(max_iter=1000) model, train set: 0.8488389740476552\n",
      "ignore- Recall for LogisticRegression(max_iter=1000) model, teset set: 0.841566265060241\n",
      "killings- F1_score for LogisticRegression(max_iter=1000) model, train set: 0.2876712328767123\n",
      "killings- F1_score for LogisticRegression(max_iter=1000) model, test set: 0.16999999999999998\n",
      "killings- Precision for LogisticRegression(max_iter=1000) model, train set: 0.6116504854368932\n",
      "killings- Precision for LogisticRegression(max_iter=1000) model, test set: 0.3695652173913043\n",
      "killings- Recall for LogisticRegression(max_iter=1000) model, train set: 0.1880597014925373\n",
      "killings- Recall for LogisticRegression(max_iter=1000) model, teset set: 0.11038961038961038\n",
      "shootings- F1_score for LogisticRegression(max_iter=1000) model, train set: 0.26806282722513086\n",
      "shootings- F1_score for LogisticRegression(max_iter=1000) model, test set: 0.23728813559322035\n",
      "shootings- Precision for LogisticRegression(max_iter=1000) model, train set: 0.6183574879227053\n",
      "shootings- Precision for LogisticRegression(max_iter=1000) model, test set: 0.5283018867924528\n",
      "shootings- Recall for LogisticRegression(max_iter=1000) model, train set: 0.1711229946524064\n",
      "shootings- Recall for LogisticRegression(max_iter=1000) model, teset set: 0.15300546448087432\n"
     ]
    }
   ],
   "source": [
    "# create dict\n",
    "model_performance_dict = {\n",
    "    'target':[],\n",
    "    'f1_score_train':[],\n",
    "    'f1_score_test':[],\n",
    "    'precision_train':[],\n",
    "    'precision_test':[],\n",
    "    'recall_train':[],\n",
    "    'recall_test':[] \n",
    "}\n",
    "\n",
    "# call state_response_predictor() on each target\n",
    "\n",
    "targets = ['arrests','accomodation','beatings','crowddispersal','ignore','killings','shootings']    \n",
    "for target in targets:\n",
    "    \n",
    "    predicted_column, probability_column, f1_score_train, f1_score_test, precision_train, precision_test, recall_train, recall_test = state_response_predictor(\n",
    "                                                                                                                                mass, \n",
    "                                                                                                                                features, \n",
    "                                                                                                                                target, \n",
    "# append dictionary with scores                                                                                                                               logreg)\n",
    "    model_performance_dict['target'].append(target)\n",
    "#     model_performance_dict['class_balance'].append(mass[classifier].value_counts(normalize=True))\n",
    "#     model_performance_dict['model'].append(model)\n",
    "    model_performance_dict['f1_score_train'].append(f1_score_train)\n",
    "    model_performance_dict['f1_score_test'].append(f1_score_test)\n",
    "    model_performance_dict['precision_train'].append(precision_train)\n",
    "    model_performance_dict['precision_test'].append(precision_test)\n",
    "    model_performance_dict['recall_train'].append(recall_train)\n",
    "    model_performance_dict['recall_test'].append(recall_test)\n",
    "    \n",
    "    \n",
    "model_performance_df = pd.DataFrame(model_performance_dict)"
   ]
  },
  {
   "cell_type": "code",
   "execution_count": 124,
   "metadata": {},
   "outputs": [
    {
     "data": {
      "text/html": [
       "<div>\n",
       "<style scoped>\n",
       "    .dataframe tbody tr th:only-of-type {\n",
       "        vertical-align: middle;\n",
       "    }\n",
       "\n",
       "    .dataframe tbody tr th {\n",
       "        vertical-align: top;\n",
       "    }\n",
       "\n",
       "    .dataframe thead th {\n",
       "        text-align: right;\n",
       "    }\n",
       "</style>\n",
       "<table border=\"1\" class=\"dataframe\">\n",
       "  <thead>\n",
       "    <tr style=\"text-align: right;\">\n",
       "      <th></th>\n",
       "      <th>target</th>\n",
       "      <th>f1_score_train</th>\n",
       "      <th>f1_score_test</th>\n",
       "      <th>precision_train</th>\n",
       "      <th>precision_test</th>\n",
       "      <th>recall_train</th>\n",
       "      <th>recall_test</th>\n",
       "    </tr>\n",
       "  </thead>\n",
       "  <tbody>\n",
       "    <tr>\n",
       "      <th>0</th>\n",
       "      <td>arrests</td>\n",
       "      <td>0.268684</td>\n",
       "      <td>0.254753</td>\n",
       "      <td>0.639738</td>\n",
       "      <td>0.632075</td>\n",
       "      <td>0.170052</td>\n",
       "      <td>0.159524</td>\n",
       "    </tr>\n",
       "    <tr>\n",
       "      <th>1</th>\n",
       "      <td>accomodation</td>\n",
       "      <td>0.111607</td>\n",
       "      <td>0.075235</td>\n",
       "      <td>0.635593</td>\n",
       "      <td>0.500000</td>\n",
       "      <td>0.061175</td>\n",
       "      <td>0.040678</td>\n",
       "    </tr>\n",
       "    <tr>\n",
       "      <th>2</th>\n",
       "      <td>beatings</td>\n",
       "      <td>0.240602</td>\n",
       "      <td>0.186047</td>\n",
       "      <td>0.680851</td>\n",
       "      <td>0.551724</td>\n",
       "      <td>0.146119</td>\n",
       "      <td>0.111888</td>\n",
       "    </tr>\n",
       "    <tr>\n",
       "      <th>3</th>\n",
       "      <td>crowddispersal</td>\n",
       "      <td>0.656957</td>\n",
       "      <td>0.639954</td>\n",
       "      <td>0.713671</td>\n",
       "      <td>0.705506</td>\n",
       "      <td>0.608593</td>\n",
       "      <td>0.585547</td>\n",
       "    </tr>\n",
       "    <tr>\n",
       "      <th>4</th>\n",
       "      <td>ignore</td>\n",
       "      <td>0.794630</td>\n",
       "      <td>0.784391</td>\n",
       "      <td>0.746928</td>\n",
       "      <td>0.734490</td>\n",
       "      <td>0.848839</td>\n",
       "      <td>0.841566</td>\n",
       "    </tr>\n",
       "    <tr>\n",
       "      <th>5</th>\n",
       "      <td>killings</td>\n",
       "      <td>0.287671</td>\n",
       "      <td>0.170000</td>\n",
       "      <td>0.611650</td>\n",
       "      <td>0.369565</td>\n",
       "      <td>0.188060</td>\n",
       "      <td>0.110390</td>\n",
       "    </tr>\n",
       "    <tr>\n",
       "      <th>6</th>\n",
       "      <td>shootings</td>\n",
       "      <td>0.268063</td>\n",
       "      <td>0.237288</td>\n",
       "      <td>0.618357</td>\n",
       "      <td>0.528302</td>\n",
       "      <td>0.171123</td>\n",
       "      <td>0.153005</td>\n",
       "    </tr>\n",
       "  </tbody>\n",
       "</table>\n",
       "</div>"
      ],
      "text/plain": [
       "           target  f1_score_train  f1_score_test  precision_train  \\\n",
       "0         arrests        0.268684       0.254753         0.639738   \n",
       "1    accomodation        0.111607       0.075235         0.635593   \n",
       "2        beatings        0.240602       0.186047         0.680851   \n",
       "3  crowddispersal        0.656957       0.639954         0.713671   \n",
       "4          ignore        0.794630       0.784391         0.746928   \n",
       "5        killings        0.287671       0.170000         0.611650   \n",
       "6       shootings        0.268063       0.237288         0.618357   \n",
       "\n",
       "   precision_test  recall_train  recall_test  \n",
       "0        0.632075      0.170052     0.159524  \n",
       "1        0.500000      0.061175     0.040678  \n",
       "2        0.551724      0.146119     0.111888  \n",
       "3        0.705506      0.608593     0.585547  \n",
       "4        0.734490      0.848839     0.841566  \n",
       "5        0.369565      0.188060     0.110390  \n",
       "6        0.528302      0.171123     0.153005  "
      ]
     },
     "execution_count": 124,
     "metadata": {},
     "output_type": "execute_result"
    }
   ],
   "source": [
    "# dataframe of classification metrics \n",
    "model_performance_df"
   ]
  },
  {
   "cell_type": "code",
   "execution_count": null,
   "metadata": {},
   "outputs": [],
   "source": []
  },
  {
   "cell_type": "code",
   "execution_count": null,
   "metadata": {},
   "outputs": [],
   "source": []
  },
  {
   "cell_type": "code",
   "execution_count": null,
   "metadata": {},
   "outputs": [],
   "source": []
  },
  {
   "cell_type": "code",
   "execution_count": null,
   "metadata": {},
   "outputs": [],
   "source": []
  },
  {
   "cell_type": "code",
   "execution_count": null,
   "metadata": {},
   "outputs": [],
   "source": []
  },
  {
   "cell_type": "code",
   "execution_count": null,
   "metadata": {},
   "outputs": [],
   "source": []
  },
  {
   "cell_type": "code",
   "execution_count": null,
   "metadata": {},
   "outputs": [],
   "source": []
  },
  {
   "cell_type": "code",
   "execution_count": null,
   "metadata": {},
   "outputs": [],
   "source": []
  },
  {
   "cell_type": "code",
   "execution_count": null,
   "metadata": {},
   "outputs": [],
   "source": []
  },
  {
   "cell_type": "code",
   "execution_count": null,
   "metadata": {},
   "outputs": [],
   "source": []
  },
  {
   "cell_type": "code",
   "execution_count": null,
   "metadata": {},
   "outputs": [],
   "source": []
  },
  {
   "cell_type": "code",
   "execution_count": 126,
   "metadata": {},
   "outputs": [],
   "source": [
    "predictions_df = mass[['id','arrests', 'arrests_predicted', 'arrests_probability', 'accomodation', 'accomodation_predicted', 'accomodation_probability', \n",
    "      'beatings', 'beatings_predicted', 'beatings_probability', 'crowddispersal', 'crowddispersal_predicted', 'crowddispersal_probability', \n",
    "      'ignore', 'ignore_predicted', 'ignore_probability', 'killings', 'killings_predicted', 'killings_probability',\n",
    "      'killings', 'killings_predicted', 'killings_probability']].copy()"
   ]
  },
  {
   "cell_type": "code",
   "execution_count": 127,
   "metadata": {},
   "outputs": [
    {
     "data": {
      "text/html": [
       "<div>\n",
       "<style scoped>\n",
       "    .dataframe tbody tr th:only-of-type {\n",
       "        vertical-align: middle;\n",
       "    }\n",
       "\n",
       "    .dataframe tbody tr th {\n",
       "        vertical-align: top;\n",
       "    }\n",
       "\n",
       "    .dataframe thead th {\n",
       "        text-align: right;\n",
       "    }\n",
       "</style>\n",
       "<table border=\"1\" class=\"dataframe\">\n",
       "  <thead>\n",
       "    <tr style=\"text-align: right;\">\n",
       "      <th></th>\n",
       "      <th>id</th>\n",
       "      <th>arrests</th>\n",
       "      <th>arrests_predicted</th>\n",
       "      <th>arrests_probability</th>\n",
       "      <th>accomodation</th>\n",
       "      <th>accomodation_predicted</th>\n",
       "      <th>accomodation_probability</th>\n",
       "      <th>beatings</th>\n",
       "      <th>beatings_predicted</th>\n",
       "      <th>beatings_probability</th>\n",
       "      <th>...</th>\n",
       "      <th>crowddispersal_probability</th>\n",
       "      <th>ignore</th>\n",
       "      <th>ignore_predicted</th>\n",
       "      <th>ignore_probability</th>\n",
       "      <th>killings</th>\n",
       "      <th>killings_predicted</th>\n",
       "      <th>killings_probability</th>\n",
       "      <th>killings</th>\n",
       "      <th>killings_predicted</th>\n",
       "      <th>killings_probability</th>\n",
       "    </tr>\n",
       "  </thead>\n",
       "  <tbody>\n",
       "    <tr>\n",
       "      <th>0</th>\n",
       "      <td>201990001</td>\n",
       "      <td>0</td>\n",
       "      <td>0</td>\n",
       "      <td>0.104568</td>\n",
       "      <td>0</td>\n",
       "      <td>0</td>\n",
       "      <td>0.174497</td>\n",
       "      <td>0</td>\n",
       "      <td>0</td>\n",
       "      <td>0.000192</td>\n",
       "      <td>...</td>\n",
       "      <td>0.078412</td>\n",
       "      <td>1</td>\n",
       "      <td>1</td>\n",
       "      <td>0.755349</td>\n",
       "      <td>0</td>\n",
       "      <td>0</td>\n",
       "      <td>0.006260</td>\n",
       "      <td>0</td>\n",
       "      <td>0</td>\n",
       "      <td>0.006260</td>\n",
       "    </tr>\n",
       "    <tr>\n",
       "      <th>1</th>\n",
       "      <td>201990002</td>\n",
       "      <td>0</td>\n",
       "      <td>0</td>\n",
       "      <td>0.191000</td>\n",
       "      <td>0</td>\n",
       "      <td>0</td>\n",
       "      <td>0.117303</td>\n",
       "      <td>0</td>\n",
       "      <td>0</td>\n",
       "      <td>0.000307</td>\n",
       "      <td>...</td>\n",
       "      <td>0.104708</td>\n",
       "      <td>1</td>\n",
       "      <td>1</td>\n",
       "      <td>0.692979</td>\n",
       "      <td>0</td>\n",
       "      <td>0</td>\n",
       "      <td>0.007246</td>\n",
       "      <td>0</td>\n",
       "      <td>0</td>\n",
       "      <td>0.007246</td>\n",
       "    </tr>\n",
       "    <tr>\n",
       "      <th>2</th>\n",
       "      <td>201990003</td>\n",
       "      <td>0</td>\n",
       "      <td>0</td>\n",
       "      <td>0.205189</td>\n",
       "      <td>0</td>\n",
       "      <td>0</td>\n",
       "      <td>0.052175</td>\n",
       "      <td>0</td>\n",
       "      <td>0</td>\n",
       "      <td>0.000267</td>\n",
       "      <td>...</td>\n",
       "      <td>0.096429</td>\n",
       "      <td>1</td>\n",
       "      <td>1</td>\n",
       "      <td>0.687309</td>\n",
       "      <td>0</td>\n",
       "      <td>0</td>\n",
       "      <td>0.008844</td>\n",
       "      <td>0</td>\n",
       "      <td>0</td>\n",
       "      <td>0.008844</td>\n",
       "    </tr>\n",
       "    <tr>\n",
       "      <th>3</th>\n",
       "      <td>201990004</td>\n",
       "      <td>0</td>\n",
       "      <td>1</td>\n",
       "      <td>0.533197</td>\n",
       "      <td>1</td>\n",
       "      <td>0</td>\n",
       "      <td>0.156799</td>\n",
       "      <td>0</td>\n",
       "      <td>0</td>\n",
       "      <td>0.000359</td>\n",
       "      <td>...</td>\n",
       "      <td>0.379723</td>\n",
       "      <td>0</td>\n",
       "      <td>0</td>\n",
       "      <td>0.055110</td>\n",
       "      <td>0</td>\n",
       "      <td>0</td>\n",
       "      <td>0.103104</td>\n",
       "      <td>0</td>\n",
       "      <td>0</td>\n",
       "      <td>0.103104</td>\n",
       "    </tr>\n",
       "    <tr>\n",
       "      <th>4</th>\n",
       "      <td>201990005</td>\n",
       "      <td>1</td>\n",
       "      <td>0</td>\n",
       "      <td>0.421843</td>\n",
       "      <td>1</td>\n",
       "      <td>0</td>\n",
       "      <td>0.085363</td>\n",
       "      <td>0</td>\n",
       "      <td>0</td>\n",
       "      <td>0.000595</td>\n",
       "      <td>...</td>\n",
       "      <td>0.452339</td>\n",
       "      <td>0</td>\n",
       "      <td>0</td>\n",
       "      <td>0.138899</td>\n",
       "      <td>0</td>\n",
       "      <td>0</td>\n",
       "      <td>0.041307</td>\n",
       "      <td>0</td>\n",
       "      <td>0</td>\n",
       "      <td>0.041307</td>\n",
       "    </tr>\n",
       "  </tbody>\n",
       "</table>\n",
       "<p>5 rows × 22 columns</p>\n",
       "</div>"
      ],
      "text/plain": [
       "          id  arrests  arrests_predicted  arrests_probability  accomodation  \\\n",
       "0  201990001        0                  0             0.104568             0   \n",
       "1  201990002        0                  0             0.191000             0   \n",
       "2  201990003        0                  0             0.205189             0   \n",
       "3  201990004        0                  1             0.533197             1   \n",
       "4  201990005        1                  0             0.421843             1   \n",
       "\n",
       "   accomodation_predicted  accomodation_probability  beatings  \\\n",
       "0                       0                  0.174497         0   \n",
       "1                       0                  0.117303         0   \n",
       "2                       0                  0.052175         0   \n",
       "3                       0                  0.156799         0   \n",
       "4                       0                  0.085363         0   \n",
       "\n",
       "   beatings_predicted  beatings_probability  ...  crowddispersal_probability  \\\n",
       "0                   0              0.000192  ...                    0.078412   \n",
       "1                   0              0.000307  ...                    0.104708   \n",
       "2                   0              0.000267  ...                    0.096429   \n",
       "3                   0              0.000359  ...                    0.379723   \n",
       "4                   0              0.000595  ...                    0.452339   \n",
       "\n",
       "   ignore  ignore_predicted  ignore_probability  killings  killings_predicted  \\\n",
       "0       1                 1            0.755349         0                   0   \n",
       "1       1                 1            0.692979         0                   0   \n",
       "2       1                 1            0.687309         0                   0   \n",
       "3       0                 0            0.055110         0                   0   \n",
       "4       0                 0            0.138899         0                   0   \n",
       "\n",
       "   killings_probability  killings  killings_predicted  killings_probability  \n",
       "0              0.006260         0                   0              0.006260  \n",
       "1              0.007246         0                   0              0.007246  \n",
       "2              0.008844         0                   0              0.008844  \n",
       "3              0.103104         0                   0              0.103104  \n",
       "4              0.041307         0                   0              0.041307  \n",
       "\n",
       "[5 rows x 22 columns]"
      ]
     },
     "execution_count": 127,
     "metadata": {},
     "output_type": "execute_result"
    }
   ],
   "source": [
    "predictions_df.head()"
   ]
  },
  {
   "cell_type": "code",
   "execution_count": 128,
   "metadata": {},
   "outputs": [],
   "source": [
    "predictions_df.to_csv('../data/04_predictions_only.csv', index=False)"
   ]
  },
  {
   "cell_type": "code",
   "execution_count": 139,
   "metadata": {
    "scrolled": true
   },
   "outputs": [
    {
     "name": "stdout",
     "output_type": "stream",
     "text": [
      "arrests- F1_score for LogisticRegression(max_iter=1000) model, train set: 0.1408450704225352\n",
      "arrests- F1_score for LogisticRegression(max_iter=1000) model, test set: 0.1310211946050096\n",
      "arrests- Precision for LogisticRegression(max_iter=1000) model, train set: 0.5895196506550219\n",
      "arrests- Precision for LogisticRegression(max_iter=1000) model, test set: 0.5666666666666667\n",
      "arrests- Recall for LogisticRegression(max_iter=1000) model, train set: 0.07997630331753554\n",
      "arrests- Recall for LogisticRegression(max_iter=1000) model, teset set: 0.07407407407407407\n",
      "LogisticRegression(max_iter=1000)\n",
      "accomodation- F1_score for LogisticRegression(max_iter=1000) model, train set: 0.03843074459567654\n",
      "accomodation- F1_score for LogisticRegression(max_iter=1000) model, test set: 0.053571428571428575\n",
      "accomodation- Precision for LogisticRegression(max_iter=1000) model, train set: 0.5454545454545454\n",
      "accomodation- Precision for LogisticRegression(max_iter=1000) model, test set: 0.6\n",
      "accomodation- Recall for LogisticRegression(max_iter=1000) model, train set: 0.01991701244813278\n",
      "accomodation- Recall for LogisticRegression(max_iter=1000) model, teset set: 0.028037383177570093\n",
      "LogisticRegression(max_iter=1000)\n",
      "beatings- F1_score for LogisticRegression(max_iter=1000) model, train set: 0.11881188118811882\n",
      "beatings- F1_score for LogisticRegression(max_iter=1000) model, test set: 0.14444444444444446\n",
      "beatings- Precision for LogisticRegression(max_iter=1000) model, train set: 0.65625\n",
      "beatings- Precision for LogisticRegression(max_iter=1000) model, test set: 0.65\n",
      "beatings- Recall for LogisticRegression(max_iter=1000) model, train set: 0.06531881804043546\n",
      "beatings- Recall for LogisticRegression(max_iter=1000) model, teset set: 0.08125\n",
      "LogisticRegression(max_iter=1000)\n",
      "crowddispersal- F1_score for LogisticRegression(max_iter=1000) model, train set: 0.657023000144655\n",
      "crowddispersal- F1_score for LogisticRegression(max_iter=1000) model, test set: 0.6085946573751453\n",
      "crowddispersal- Precision for LogisticRegression(max_iter=1000) model, train set: 0.7373376623376623\n",
      "crowddispersal- Precision for LogisticRegression(max_iter=1000) model, test set: 0.6649746192893401\n",
      "crowddispersal- Recall for LogisticRegression(max_iter=1000) model, train set: 0.5924863031567963\n",
      "crowddispersal- Recall for LogisticRegression(max_iter=1000) model, teset set: 0.5610278372591007\n",
      "LogisticRegression(max_iter=1000)\n",
      "ignore- F1_score for LogisticRegression(max_iter=1000) model, train set: 0.794378288562725\n",
      "ignore- F1_score for LogisticRegression(max_iter=1000) model, test set: 0.7804335742078933\n",
      "ignore- Precision for LogisticRegression(max_iter=1000) model, train set: 0.7336317135549872\n",
      "ignore- Precision for LogisticRegression(max_iter=1000) model, test set: 0.7225939269171384\n",
      "ignore- Recall for LogisticRegression(max_iter=1000) model, train set: 0.8660929951690821\n",
      "ignore- Recall for LogisticRegression(max_iter=1000) model, teset set: 0.8483383685800604\n",
      "LogisticRegression(max_iter=1000)\n",
      "killings- F1_score for LogisticRegression(max_iter=1000) model, train set: 0.17120622568093383\n",
      "killings- F1_score for LogisticRegression(max_iter=1000) model, test set: 0.12435233160621761\n",
      "killings- Precision for LogisticRegression(max_iter=1000) model, train set: 0.5789473684210527\n",
      "killings- Precision for LogisticRegression(max_iter=1000) model, test set: 0.48\n",
      "killings- Recall for LogisticRegression(max_iter=1000) model, train set: 0.1004566210045662\n",
      "killings- Recall for LogisticRegression(max_iter=1000) model, teset set: 0.07142857142857142\n",
      "LogisticRegression(max_iter=1000)\n",
      "shootings- F1_score for LogisticRegression(max_iter=1000) model, train set: 0.21176470588235294\n",
      "shootings- F1_score for LogisticRegression(max_iter=1000) model, test set: 0.1722488038277512\n",
      "shootings- Precision for LogisticRegression(max_iter=1000) model, train set: 0.5689655172413793\n",
      "shootings- Precision for LogisticRegression(max_iter=1000) model, test set: 0.4864864864864865\n",
      "shootings- Recall for LogisticRegression(max_iter=1000) model, train set: 0.13009198423127463\n",
      "shootings- Recall for LogisticRegression(max_iter=1000) model, teset set: 0.10465116279069768\n",
      "LogisticRegression(max_iter=1000)\n",
      "{'target': ['arrests', 'accomodation', 'beatings', 'crowddispersal', 'ignore', 'killings', 'shootings'], 'f1_score_train': [0.1408450704225352, 0.03843074459567654, 0.11881188118811882, 0.657023000144655, 0.794378288562725, 0.17120622568093383, 0.21176470588235294], 'f1_score_test': [0.1310211946050096, 0.053571428571428575, 0.14444444444444446, 0.6085946573751453, 0.7804335742078933, 0.12435233160621761, 0.1722488038277512], 'precision_train': [0.5895196506550219, 0.5454545454545454, 0.65625, 0.7373376623376623, 0.7336317135549872, 0.5789473684210527, 0.5689655172413793], 'precision_test': [0.5666666666666667, 0.6, 0.65, 0.6649746192893401, 0.7225939269171384, 0.48, 0.4864864864864865], 'recall_train': [0.07997630331753554, 0.01991701244813278, 0.06531881804043546, 0.5924863031567963, 0.8660929951690821, 0.1004566210045662, 0.13009198423127463], 'recall_test': [0.07407407407407407, 0.028037383177570093, 0.08125, 0.5610278372591007, 0.8483383685800604, 0.07142857142857142, 0.10465116279069768]}\n"
     ]
    }
   ],
   "source": [
    "model_performance_dict = {\n",
    "    'target':[],\n",
    "#     'model':[],\n",
    "    'f1_score_train':[],\n",
    "    'f1_score_test':[],\n",
    "    'precision_train':[],\n",
    "    'precision_test':[],\n",
    "    'recall_train':[],\n",
    "    'recall_test':[] \n",
    "}\n",
    "\n",
    "# ['arrests','accomodation','beatings','crowddispersal','ignore','killings','shootings']\n",
    "# ['arrests_BC', 'accomodation_BC', 'beatings_BC', 'crowddispersal_BC', 'ignore_BC', 'killings_BC', 'shootings_BC']\n",
    " \n",
    "targets = ['arrests','accomodation','beatings','crowddispersal','ignore','killings','shootings']    \n",
    "    \n",
    "for target in targets:\n",
    "    \n",
    "    predicted_column, probability_column, f1_score_train, f1_score_test, precision_train, precision_test, recall_train, recall_test = state_response_predictor(\n",
    "                                                                                                                                mass, \n",
    "                                                                                                                                features_1, \n",
    "                                                                                                                                target, \n",
    "                                                                                                                                LogisticRegression_1)\n",
    "    \n",
    "    model_performance_dict['target'].append(target)\n",
    "#     model_performance_dict['class_balance'].append(mass[classifier].value_counts(normalize=True))\n",
    "#     model_performance_dict['model'].append(model)\n",
    "    model_performance_dict['f1_score_train'].append(f1_score_train)\n",
    "    model_performance_dict['f1_score_test'].append(f1_score_test)\n",
    "    model_performance_dict['precision_train'].append(precision_train)\n",
    "    model_performance_dict['precision_test'].append(precision_test)\n",
    "    model_performance_dict['recall_train'].append(recall_train)\n",
    "    model_performance_dict['recall_test'].append(recall_test)\n",
    "    \n",
    "print(model_performance_dict)\n",
    "    \n",
    "# model_performance_df = pd.DataFrame(model_performance_dict)"
   ]
  },
  {
   "cell_type": "code",
   "execution_count": 140,
   "metadata": {},
   "outputs": [
    {
     "data": {
      "text/html": [
       "<div>\n",
       "<style scoped>\n",
       "    .dataframe tbody tr th:only-of-type {\n",
       "        vertical-align: middle;\n",
       "    }\n",
       "\n",
       "    .dataframe tbody tr th {\n",
       "        vertical-align: top;\n",
       "    }\n",
       "\n",
       "    .dataframe thead th {\n",
       "        text-align: right;\n",
       "    }\n",
       "</style>\n",
       "<table border=\"1\" class=\"dataframe\">\n",
       "  <thead>\n",
       "    <tr style=\"text-align: right;\">\n",
       "      <th></th>\n",
       "      <th>target</th>\n",
       "      <th>f1_score_train</th>\n",
       "      <th>f1_score_test</th>\n",
       "      <th>precision_train</th>\n",
       "      <th>precision_test</th>\n",
       "      <th>recall_train</th>\n",
       "      <th>recall_test</th>\n",
       "    </tr>\n",
       "  </thead>\n",
       "  <tbody>\n",
       "    <tr>\n",
       "      <th>0</th>\n",
       "      <td>arrests</td>\n",
       "      <td>0.140845</td>\n",
       "      <td>0.131021</td>\n",
       "      <td>0.589520</td>\n",
       "      <td>0.566667</td>\n",
       "      <td>0.079976</td>\n",
       "      <td>0.074074</td>\n",
       "    </tr>\n",
       "    <tr>\n",
       "      <th>1</th>\n",
       "      <td>accomodation</td>\n",
       "      <td>0.038431</td>\n",
       "      <td>0.053571</td>\n",
       "      <td>0.545455</td>\n",
       "      <td>0.600000</td>\n",
       "      <td>0.019917</td>\n",
       "      <td>0.028037</td>\n",
       "    </tr>\n",
       "    <tr>\n",
       "      <th>2</th>\n",
       "      <td>beatings</td>\n",
       "      <td>0.118812</td>\n",
       "      <td>0.144444</td>\n",
       "      <td>0.656250</td>\n",
       "      <td>0.650000</td>\n",
       "      <td>0.065319</td>\n",
       "      <td>0.081250</td>\n",
       "    </tr>\n",
       "    <tr>\n",
       "      <th>3</th>\n",
       "      <td>crowddispersal</td>\n",
       "      <td>0.657023</td>\n",
       "      <td>0.608595</td>\n",
       "      <td>0.737338</td>\n",
       "      <td>0.664975</td>\n",
       "      <td>0.592486</td>\n",
       "      <td>0.561028</td>\n",
       "    </tr>\n",
       "    <tr>\n",
       "      <th>4</th>\n",
       "      <td>ignore</td>\n",
       "      <td>0.794378</td>\n",
       "      <td>0.780434</td>\n",
       "      <td>0.733632</td>\n",
       "      <td>0.722594</td>\n",
       "      <td>0.866093</td>\n",
       "      <td>0.848338</td>\n",
       "    </tr>\n",
       "    <tr>\n",
       "      <th>5</th>\n",
       "      <td>killings</td>\n",
       "      <td>0.171206</td>\n",
       "      <td>0.124352</td>\n",
       "      <td>0.578947</td>\n",
       "      <td>0.480000</td>\n",
       "      <td>0.100457</td>\n",
       "      <td>0.071429</td>\n",
       "    </tr>\n",
       "    <tr>\n",
       "      <th>6</th>\n",
       "      <td>shootings</td>\n",
       "      <td>0.211765</td>\n",
       "      <td>0.172249</td>\n",
       "      <td>0.568966</td>\n",
       "      <td>0.486486</td>\n",
       "      <td>0.130092</td>\n",
       "      <td>0.104651</td>\n",
       "    </tr>\n",
       "  </tbody>\n",
       "</table>\n",
       "</div>"
      ],
      "text/plain": [
       "           target  f1_score_train  f1_score_test  precision_train  \\\n",
       "0         arrests        0.140845       0.131021         0.589520   \n",
       "1    accomodation        0.038431       0.053571         0.545455   \n",
       "2        beatings        0.118812       0.144444         0.656250   \n",
       "3  crowddispersal        0.657023       0.608595         0.737338   \n",
       "4          ignore        0.794378       0.780434         0.733632   \n",
       "5        killings        0.171206       0.124352         0.578947   \n",
       "6       shootings        0.211765       0.172249         0.568966   \n",
       "\n",
       "   precision_test  recall_train  recall_test  \n",
       "0        0.566667      0.079976     0.074074  \n",
       "1        0.600000      0.019917     0.028037  \n",
       "2        0.650000      0.065319     0.081250  \n",
       "3        0.664975      0.592486     0.561028  \n",
       "4        0.722594      0.866093     0.848338  \n",
       "5        0.480000      0.100457     0.071429  \n",
       "6        0.486486      0.130092     0.104651  "
      ]
     },
     "execution_count": 140,
     "metadata": {},
     "output_type": "execute_result"
    }
   ],
   "source": [
    "model_performance_df = pd.DataFrame(model_performance_dict)\n",
    "model_performance_df"
   ]
  },
  {
   "cell_type": "code",
   "execution_count": 90,
   "metadata": {
    "scrolled": true
   },
   "outputs": [
    {
     "name": "stdout",
     "output_type": "stream",
     "text": [
      "arrests- F1_score for LogisticRegression(max_iter=1000) model, train set: 0.2027871215761653\n",
      "arrests- F1_score for LogisticRegression(max_iter=1000) model, test set: 0.18148820326678766\n",
      "arrests- Precision for LogisticRegression(max_iter=1000) model, train set: 0.5368956743002544\n",
      "arrests- Precision for LogisticRegression(max_iter=1000) model, test set: 0.5434782608695652\n",
      "arrests- Recall for LogisticRegression(max_iter=1000) model, train set: 0.125\n",
      "arrests- Recall for LogisticRegression(max_iter=1000) model, teset set: 0.10893246187363835\n",
      "LogisticRegression(max_iter=1000)\n",
      "accomodation- F1_score for LogisticRegression(max_iter=1000) model, train set: 0.03522818254603683\n",
      "accomodation- F1_score for LogisticRegression(max_iter=1000) model, test set: 0.041666666666666664\n",
      "accomodation- Precision for LogisticRegression(max_iter=1000) model, train set: 0.5\n",
      "accomodation- Precision for LogisticRegression(max_iter=1000) model, test set: 0.4666666666666667\n",
      "accomodation- Recall for LogisticRegression(max_iter=1000) model, train set: 0.018257261410788383\n",
      "accomodation- Recall for LogisticRegression(max_iter=1000) model, teset set: 0.021806853582554516\n",
      "LogisticRegression(max_iter=1000)\n",
      "beatings- F1_score for LogisticRegression(max_iter=1000) model, train set: 0.11830985915492959\n",
      "beatings- F1_score for LogisticRegression(max_iter=1000) model, test set: 0.15469613259668508\n",
      "beatings- Precision for LogisticRegression(max_iter=1000) model, train set: 0.6268656716417911\n",
      "beatings- Precision for LogisticRegression(max_iter=1000) model, test set: 0.6666666666666666\n",
      "beatings- Recall for LogisticRegression(max_iter=1000) model, train set: 0.06531881804043546\n",
      "beatings- Recall for LogisticRegression(max_iter=1000) model, teset set: 0.0875\n",
      "LogisticRegression(max_iter=1000)\n",
      "crowddispersal- F1_score for LogisticRegression(max_iter=1000) model, train set: 0.6536118363794603\n",
      "crowddispersal- F1_score for LogisticRegression(max_iter=1000) model, test set: 0.6089482858803023\n",
      "crowddispersal- Precision for LogisticRegression(max_iter=1000) model, train set: 0.7360339758248938\n",
      "crowddispersal- Precision for LogisticRegression(max_iter=1000) model, test set: 0.6658195679796697\n",
      "crowddispersal- Recall for LogisticRegression(max_iter=1000) model, train set: 0.5877902426297938\n",
      "crowddispersal- Recall for LogisticRegression(max_iter=1000) model, teset set: 0.5610278372591007\n",
      "LogisticRegression(max_iter=1000)\n",
      "ignore- F1_score for LogisticRegression(max_iter=1000) model, train set: 0.7930507296733843\n",
      "ignore- F1_score for LogisticRegression(max_iter=1000) model, test set: 0.7781493868450391\n",
      "ignore- Precision for LogisticRegression(max_iter=1000) model, train set: 0.7347411795003863\n",
      "ignore- Precision for LogisticRegression(max_iter=1000) model, test set: 0.7221934816347646\n",
      "ignore- Recall for LogisticRegression(max_iter=1000) model, train set: 0.8614130434782609\n",
      "ignore- Recall for LogisticRegression(max_iter=1000) model, teset set: 0.8435045317220544\n",
      "LogisticRegression(max_iter=1000)\n",
      "killings- F1_score for LogisticRegression(max_iter=1000) model, train set: 0.1703225806451613\n",
      "killings- F1_score for LogisticRegression(max_iter=1000) model, test set: 0.13541666666666666\n",
      "killings- Precision for LogisticRegression(max_iter=1000) model, train set: 0.559322033898305\n",
      "killings- Precision for LogisticRegression(max_iter=1000) model, test set: 0.5416666666666666\n",
      "killings- Recall for LogisticRegression(max_iter=1000) model, train set: 0.1004566210045662\n",
      "killings- Recall for LogisticRegression(max_iter=1000) model, teset set: 0.07738095238095238\n",
      "LogisticRegression(max_iter=1000)\n",
      "shootings- F1_score for LogisticRegression(max_iter=1000) model, train set: 0.21864951768488747\n",
      "shootings- F1_score for LogisticRegression(max_iter=1000) model, test set: 0.16346153846153846\n",
      "shootings- Precision for LogisticRegression(max_iter=1000) model, train set: 0.5930232558139535\n",
      "shootings- Precision for LogisticRegression(max_iter=1000) model, test set: 0.4722222222222222\n",
      "shootings- Recall for LogisticRegression(max_iter=1000) model, train set: 0.1340341655716163\n",
      "shootings- Recall for LogisticRegression(max_iter=1000) model, teset set: 0.09883720930232558\n",
      "LogisticRegression(max_iter=1000)\n",
      "{'Classifier': 'shootings', 'model': LogisticRegression(max_iter=1000), 'f1_score_train': 0.21864951768488747, 'f1_score_test': 0.16346153846153846, 'precision_train': 0.5930232558139535, 'precision_test': 0.4722222222222222, 'recall_train': 0.1340341655716163, 'recall_test': 0.09883720930232558}\n"
     ]
    }
   ],
   "source": [
    "model_performance_dict = {}\n",
    " \n",
    "for classifier in ['arrests','accomodation','beatings','crowddispersal','ignore','killings','shootings']:\n",
    "    \n",
    "    predicted_column, probability_column, f1_score_train, f1_score_test, precision_train, precision_test, recall_train, recall_test = state_response_predictor(\n",
    "                                                                                                                                mass, \n",
    "                                                                                                                                features_1, \n",
    "                                                                                                                                classifier, \n",
    "                                                                                                                                LogisticRegression_1)\n",
    "     \n",
    "    model_performance_dict['Classifier'].append(classifier)\n",
    "#     model_performance_dict['class_balance'] = mass[classifier].value_counts(normalize=True))\n",
    "    model_performance_dict['model'] = model\n",
    "    model_performance_dict['f1_score_train'].append(f1_score_train)\n",
    "    model_performance_dict['f1_score_test'].append(f1_score_test)\n",
    "    \n",
    "    model_performance_dict['precision_train'] = precision_train\n",
    "    model_performance_dict['precision_test'] = precision_test\n",
    "    model_performance_dict['recall_train'] = recall_train\n",
    "    model_performance_dict['recall_test'] = recall_test\n",
    "    \n",
    "print(model_performance_dict)"
   ]
  },
  {
   "cell_type": "code",
   "execution_count": 91,
   "metadata": {},
   "outputs": [
    {
     "ename": "ValueError",
     "evalue": "If using all scalar values, you must pass an index",
     "output_type": "error",
     "traceback": [
      "\u001b[0;31m---------------------------------------------------------------------------\u001b[0m",
      "\u001b[0;31mValueError\u001b[0m                                Traceback (most recent call last)",
      "\u001b[0;32m<ipython-input-91-c27f4c62a9c0>\u001b[0m in \u001b[0;36m<module>\u001b[0;34m\u001b[0m\n\u001b[0;32m----> 1\u001b[0;31m \u001b[0mmodel_performance_df\u001b[0m \u001b[0;34m=\u001b[0m \u001b[0mpd\u001b[0m\u001b[0;34m.\u001b[0m\u001b[0mDataFrame\u001b[0m\u001b[0;34m(\u001b[0m\u001b[0mmodel_performance_dict\u001b[0m\u001b[0;34m)\u001b[0m\u001b[0;34m\u001b[0m\u001b[0;34m\u001b[0m\u001b[0m\n\u001b[0m\u001b[1;32m      2\u001b[0m \u001b[0mmodel_performance_df\u001b[0m\u001b[0;34m\u001b[0m\u001b[0;34m\u001b[0m\u001b[0m\n",
      "\u001b[0;32m~/opt/anaconda3/lib/python3.8/site-packages/pandas/core/frame.py\u001b[0m in \u001b[0;36m__init__\u001b[0;34m(self, data, index, columns, dtype, copy)\u001b[0m\n\u001b[1;32m    466\u001b[0m \u001b[0;34m\u001b[0m\u001b[0m\n\u001b[1;32m    467\u001b[0m         \u001b[0;32melif\u001b[0m \u001b[0misinstance\u001b[0m\u001b[0;34m(\u001b[0m\u001b[0mdata\u001b[0m\u001b[0;34m,\u001b[0m \u001b[0mdict\u001b[0m\u001b[0;34m)\u001b[0m\u001b[0;34m:\u001b[0m\u001b[0;34m\u001b[0m\u001b[0;34m\u001b[0m\u001b[0m\n\u001b[0;32m--> 468\u001b[0;31m             \u001b[0mmgr\u001b[0m \u001b[0;34m=\u001b[0m \u001b[0minit_dict\u001b[0m\u001b[0;34m(\u001b[0m\u001b[0mdata\u001b[0m\u001b[0;34m,\u001b[0m \u001b[0mindex\u001b[0m\u001b[0;34m,\u001b[0m \u001b[0mcolumns\u001b[0m\u001b[0;34m,\u001b[0m \u001b[0mdtype\u001b[0m\u001b[0;34m=\u001b[0m\u001b[0mdtype\u001b[0m\u001b[0;34m)\u001b[0m\u001b[0;34m\u001b[0m\u001b[0;34m\u001b[0m\u001b[0m\n\u001b[0m\u001b[1;32m    469\u001b[0m         \u001b[0;32melif\u001b[0m \u001b[0misinstance\u001b[0m\u001b[0;34m(\u001b[0m\u001b[0mdata\u001b[0m\u001b[0;34m,\u001b[0m \u001b[0mma\u001b[0m\u001b[0;34m.\u001b[0m\u001b[0mMaskedArray\u001b[0m\u001b[0;34m)\u001b[0m\u001b[0;34m:\u001b[0m\u001b[0;34m\u001b[0m\u001b[0;34m\u001b[0m\u001b[0m\n\u001b[1;32m    470\u001b[0m             \u001b[0;32mimport\u001b[0m \u001b[0mnumpy\u001b[0m\u001b[0;34m.\u001b[0m\u001b[0mma\u001b[0m\u001b[0;34m.\u001b[0m\u001b[0mmrecords\u001b[0m \u001b[0;32mas\u001b[0m \u001b[0mmrecords\u001b[0m\u001b[0;34m\u001b[0m\u001b[0;34m\u001b[0m\u001b[0m\n",
      "\u001b[0;32m~/opt/anaconda3/lib/python3.8/site-packages/pandas/core/internals/construction.py\u001b[0m in \u001b[0;36minit_dict\u001b[0;34m(data, index, columns, dtype)\u001b[0m\n\u001b[1;32m    281\u001b[0m             \u001b[0marr\u001b[0m \u001b[0;32mif\u001b[0m \u001b[0;32mnot\u001b[0m \u001b[0mis_datetime64tz_dtype\u001b[0m\u001b[0;34m(\u001b[0m\u001b[0marr\u001b[0m\u001b[0;34m)\u001b[0m \u001b[0;32melse\u001b[0m \u001b[0marr\u001b[0m\u001b[0;34m.\u001b[0m\u001b[0mcopy\u001b[0m\u001b[0;34m(\u001b[0m\u001b[0;34m)\u001b[0m \u001b[0;32mfor\u001b[0m \u001b[0marr\u001b[0m \u001b[0;32min\u001b[0m \u001b[0marrays\u001b[0m\u001b[0;34m\u001b[0m\u001b[0;34m\u001b[0m\u001b[0m\n\u001b[1;32m    282\u001b[0m         ]\n\u001b[0;32m--> 283\u001b[0;31m     \u001b[0;32mreturn\u001b[0m \u001b[0marrays_to_mgr\u001b[0m\u001b[0;34m(\u001b[0m\u001b[0marrays\u001b[0m\u001b[0;34m,\u001b[0m \u001b[0mdata_names\u001b[0m\u001b[0;34m,\u001b[0m \u001b[0mindex\u001b[0m\u001b[0;34m,\u001b[0m \u001b[0mcolumns\u001b[0m\u001b[0;34m,\u001b[0m \u001b[0mdtype\u001b[0m\u001b[0;34m=\u001b[0m\u001b[0mdtype\u001b[0m\u001b[0;34m)\u001b[0m\u001b[0;34m\u001b[0m\u001b[0;34m\u001b[0m\u001b[0m\n\u001b[0m\u001b[1;32m    284\u001b[0m \u001b[0;34m\u001b[0m\u001b[0m\n\u001b[1;32m    285\u001b[0m \u001b[0;34m\u001b[0m\u001b[0m\n",
      "\u001b[0;32m~/opt/anaconda3/lib/python3.8/site-packages/pandas/core/internals/construction.py\u001b[0m in \u001b[0;36marrays_to_mgr\u001b[0;34m(arrays, arr_names, index, columns, dtype, verify_integrity)\u001b[0m\n\u001b[1;32m     76\u001b[0m         \u001b[0;31m# figure out the index, if necessary\u001b[0m\u001b[0;34m\u001b[0m\u001b[0;34m\u001b[0m\u001b[0;34m\u001b[0m\u001b[0m\n\u001b[1;32m     77\u001b[0m         \u001b[0;32mif\u001b[0m \u001b[0mindex\u001b[0m \u001b[0;32mis\u001b[0m \u001b[0;32mNone\u001b[0m\u001b[0;34m:\u001b[0m\u001b[0;34m\u001b[0m\u001b[0;34m\u001b[0m\u001b[0m\n\u001b[0;32m---> 78\u001b[0;31m             \u001b[0mindex\u001b[0m \u001b[0;34m=\u001b[0m \u001b[0mextract_index\u001b[0m\u001b[0;34m(\u001b[0m\u001b[0marrays\u001b[0m\u001b[0;34m)\u001b[0m\u001b[0;34m\u001b[0m\u001b[0;34m\u001b[0m\u001b[0m\n\u001b[0m\u001b[1;32m     79\u001b[0m         \u001b[0;32melse\u001b[0m\u001b[0;34m:\u001b[0m\u001b[0;34m\u001b[0m\u001b[0;34m\u001b[0m\u001b[0m\n\u001b[1;32m     80\u001b[0m             \u001b[0mindex\u001b[0m \u001b[0;34m=\u001b[0m \u001b[0mensure_index\u001b[0m\u001b[0;34m(\u001b[0m\u001b[0mindex\u001b[0m\u001b[0;34m)\u001b[0m\u001b[0;34m\u001b[0m\u001b[0;34m\u001b[0m\u001b[0m\n",
      "\u001b[0;32m~/opt/anaconda3/lib/python3.8/site-packages/pandas/core/internals/construction.py\u001b[0m in \u001b[0;36mextract_index\u001b[0;34m(data)\u001b[0m\n\u001b[1;32m    385\u001b[0m \u001b[0;34m\u001b[0m\u001b[0m\n\u001b[1;32m    386\u001b[0m         \u001b[0;32mif\u001b[0m \u001b[0;32mnot\u001b[0m \u001b[0mindexes\u001b[0m \u001b[0;32mand\u001b[0m \u001b[0;32mnot\u001b[0m \u001b[0mraw_lengths\u001b[0m\u001b[0;34m:\u001b[0m\u001b[0;34m\u001b[0m\u001b[0;34m\u001b[0m\u001b[0m\n\u001b[0;32m--> 387\u001b[0;31m             \u001b[0;32mraise\u001b[0m \u001b[0mValueError\u001b[0m\u001b[0;34m(\u001b[0m\u001b[0;34m\"If using all scalar values, you must pass an index\"\u001b[0m\u001b[0;34m)\u001b[0m\u001b[0;34m\u001b[0m\u001b[0;34m\u001b[0m\u001b[0m\n\u001b[0m\u001b[1;32m    388\u001b[0m \u001b[0;34m\u001b[0m\u001b[0m\n\u001b[1;32m    389\u001b[0m         \u001b[0;32mif\u001b[0m \u001b[0mhave_series\u001b[0m\u001b[0;34m:\u001b[0m\u001b[0;34m\u001b[0m\u001b[0;34m\u001b[0m\u001b[0m\n",
      "\u001b[0;31mValueError\u001b[0m: If using all scalar values, you must pass an index"
     ]
    }
   ],
   "source": [
    "model_performance_df = pd.DataFrame(model_performance_dict)\n",
    "model_performance_df"
   ]
  },
  {
   "cell_type": "code",
   "execution_count": 75,
   "metadata": {},
   "outputs": [
    {
     "data": {
      "text/plain": [
       "0    0.858982\n",
       "1    0.141018\n",
       "Name: arrests, dtype: float64"
      ]
     },
     "execution_count": 75,
     "metadata": {},
     "output_type": "execute_result"
    }
   ],
   "source": [
    "mass['arrests'].value_counts(normalize=True)[1]"
   ]
  },
  {
   "cell_type": "code",
   "execution_count": 76,
   "metadata": {},
   "outputs": [
    {
     "data": {
      "text/plain": [
       "1    0.543777\n",
       "0    0.456223\n",
       "Name: ignore, dtype: float64"
      ]
     },
     "execution_count": 76,
     "metadata": {},
     "output_type": "execute_result"
    }
   ],
   "source": [
    "mass['ignore'].value_counts(normalize=True)"
   ]
  },
  {
   "cell_type": "code",
   "execution_count": 77,
   "metadata": {},
   "outputs": [
    {
     "data": {
      "text/plain": [
       "0    0.947258\n",
       "1    0.052742\n",
       "Name: beatings, dtype: float64"
      ]
     },
     "execution_count": 77,
     "metadata": {},
     "output_type": "execute_result"
    }
   ],
   "source": [
    "mass['beatings'].value_counts(normalize=True)"
   ]
  },
  {
   "cell_type": "code",
   "execution_count": 78,
   "metadata": {},
   "outputs": [
    {
     "data": {
      "text/plain": [
       "0    0.938719\n",
       "1    0.061281\n",
       "Name: shootings, dtype: float64"
      ]
     },
     "execution_count": 78,
     "metadata": {},
     "output_type": "execute_result"
    }
   ],
   "source": [
    "mass['shootings'].value_counts(normalize=True)"
   ]
  },
  {
   "cell_type": "code",
   "execution_count": 79,
   "metadata": {},
   "outputs": [
    {
     "data": {
      "text/plain": [
       "0    0.945813\n",
       "1    0.054187\n",
       "Name: killings, dtype: float64"
      ]
     },
     "execution_count": 79,
     "metadata": {},
     "output_type": "execute_result"
    }
   ],
   "source": [
    "mass['killings'].value_counts(normalize=True)"
   ]
  },
  {
   "cell_type": "code",
   "execution_count": 80,
   "metadata": {},
   "outputs": [
    {
     "data": {
      "text/plain": [
       "0    0.89977\n",
       "1    0.10023\n",
       "Name: accomodation, dtype: float64"
      ]
     },
     "execution_count": 80,
     "metadata": {},
     "output_type": "execute_result"
    }
   ],
   "source": [
    "mass['accomodation'].value_counts(normalize=True)"
   ]
  },
  {
   "cell_type": "code",
   "execution_count": 81,
   "metadata": {},
   "outputs": [
    {
     "data": {
      "text/plain": [
       "0    0.686897\n",
       "1    0.313103\n",
       "Name: crowddispersal, dtype: float64"
      ]
     },
     "execution_count": 81,
     "metadata": {},
     "output_type": "execute_result"
    }
   ],
   "source": [
    "mass['crowddispersal'].value_counts(normalize=True)"
   ]
  },
  {
   "cell_type": "code",
   "execution_count": 129,
   "metadata": {},
   "outputs": [],
   "source": [
    "# logreg_cvec_pipe = Pipeline([\n",
    "#         ('cvec', CountVectorizer(stop_words=all_stop_words)),\n",
    "#         ('logreg', LogisticRegression())\n",
    "#     ])\n",
    "\n",
    "# logreg = LogisticRegression()\n",
    "\n",
    "# params = {\n",
    "#     'C': [0.01, 0.1, 1, 10, 100],\n",
    "#     'penalty' : ['l1', 'l2'],\n",
    "#     'solver': ['lbfgs', 'saga']\n",
    "# }\n",
    "\n",
    "# log_reg_grid = GridSearchCV(logreg, \n",
    "#                    params,\n",
    "#                    cv = 5,\n",
    "#                    verbose = 2,\n",
    "#                    n_jobs=2)\n",
    "\n",
    "# logreg_cvec_grid.fit(X_train, y_train)"
   ]
  },
  {
   "cell_type": "code",
   "execution_count": null,
   "metadata": {},
   "outputs": [],
   "source": []
  }
 ],
 "metadata": {
  "kernelspec": {
   "display_name": "Python 3",
   "language": "python",
   "name": "python3"
  }
 },
 "nbformat": 4,
 "nbformat_minor": 4
}
