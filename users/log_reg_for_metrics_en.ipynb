{
 "cells": [
  {
   "cell_type": "code",
   "execution_count": 1,
   "metadata": {},
   "outputs": [],
   "source": [
    "import numpy as np\n",
    "import pandas as pd\n",
    "import matplotlib.pyplot as plt \n",
    "import seaborn as sns\n",
    "# import plotly.express as px \n",
    "\n",
    "from sklearn.linear_model import LogisticRegression\n",
    "from sklearn.model_selection import train_test_split, KFold, LeaveOneOut, cross_val_score\n",
    "\n",
    "from sklearn.preprocessing import StandardScaler\n",
    "\n",
    "from sklearn.metrics import (accuracy_score, \n",
    "                            confusion_matrix, \n",
    "                            classification_report,\n",
    "                            f1_score,\n",
    "                            plot_confusion_matrix,\n",
    "                            precision_recall_curve,\n",
    "                            precision_score,\n",
    "                            recall_score,\n",
    "                            roc_auc_score,\n",
    "                            plot_roc_curve)"
   ]
  },
  {
   "cell_type": "markdown",
   "metadata": {},
   "source": [
    "### Reading in data "
   ]
  },
  {
   "cell_type": "code",
   "execution_count": 2,
   "metadata": {},
   "outputs": [
    {
     "data": {
      "text/html": [
       "<div>\n",
       "<style scoped>\n",
       "    .dataframe tbody tr th:only-of-type {\n",
       "        vertical-align: middle;\n",
       "    }\n",
       "\n",
       "    .dataframe tbody tr th {\n",
       "        vertical-align: top;\n",
       "    }\n",
       "\n",
       "    .dataframe thead th {\n",
       "        text-align: right;\n",
       "    }\n",
       "</style>\n",
       "<table border=\"1\" class=\"dataframe\">\n",
       "  <thead>\n",
       "    <tr style=\"text-align: right;\">\n",
       "      <th></th>\n",
       "      <th>Unnamed: 0</th>\n",
       "      <th>id</th>\n",
       "      <th>country</th>\n",
       "      <th>ccode</th>\n",
       "      <th>region</th>\n",
       "      <th>protestnumber</th>\n",
       "      <th>protesterviolence</th>\n",
       "      <th>location</th>\n",
       "      <th>protesteridentity</th>\n",
       "      <th>sources</th>\n",
       "      <th>...</th>\n",
       "      <th>social_restrictions</th>\n",
       "      <th>start_date</th>\n",
       "      <th>end_date</th>\n",
       "      <th>target</th>\n",
       "      <th>notes_clean</th>\n",
       "      <th>neg</th>\n",
       "      <th>neu</th>\n",
       "      <th>pos</th>\n",
       "      <th>compound</th>\n",
       "      <th>protest_duration</th>\n",
       "    </tr>\n",
       "  </thead>\n",
       "  <tbody>\n",
       "    <tr>\n",
       "      <th>0</th>\n",
       "      <td>0</td>\n",
       "      <td>201990001</td>\n",
       "      <td>Canada</td>\n",
       "      <td>20</td>\n",
       "      <td>North America</td>\n",
       "      <td>1</td>\n",
       "      <td>0.0</td>\n",
       "      <td>national</td>\n",
       "      <td>unspecified</td>\n",
       "      <td>1. great canadian train journeys into history;...</td>\n",
       "      <td>...</td>\n",
       "      <td>0</td>\n",
       "      <td>1990-01-15</td>\n",
       "      <td>1990-01-15</td>\n",
       "      <td>[0, 0, 0, 0, 1, 0, 0]</td>\n",
       "      <td>canada s railway passenger system was finally ...</td>\n",
       "      <td>0.087</td>\n",
       "      <td>0.913</td>\n",
       "      <td>0.0</td>\n",
       "      <td>-0.8176</td>\n",
       "      <td>1</td>\n",
       "    </tr>\n",
       "    <tr>\n",
       "      <th>1</th>\n",
       "      <td>1</td>\n",
       "      <td>201990002</td>\n",
       "      <td>Canada</td>\n",
       "      <td>20</td>\n",
       "      <td>North America</td>\n",
       "      <td>2</td>\n",
       "      <td>0.0</td>\n",
       "      <td>Montreal, Quebec</td>\n",
       "      <td>unspecified</td>\n",
       "      <td>1. autonomy s cry revived in quebec the new yo...</td>\n",
       "      <td>...</td>\n",
       "      <td>0</td>\n",
       "      <td>1990-06-25</td>\n",
       "      <td>1990-06-25</td>\n",
       "      <td>[0, 0, 0, 0, 1, 0, 0]</td>\n",
       "      <td>protestors were only identified as young peopl...</td>\n",
       "      <td>0.000</td>\n",
       "      <td>1.000</td>\n",
       "      <td>0.0</td>\n",
       "      <td>0.0000</td>\n",
       "      <td>1</td>\n",
       "    </tr>\n",
       "  </tbody>\n",
       "</table>\n",
       "<p>2 rows × 235 columns</p>\n",
       "</div>"
      ],
      "text/plain": [
       "   Unnamed: 0         id country  ccode         region  protestnumber  \\\n",
       "0           0  201990001  Canada     20  North America              1   \n",
       "1           1  201990002  Canada     20  North America              2   \n",
       "\n",
       "   protesterviolence          location protesteridentity  \\\n",
       "0                0.0          national       unspecified   \n",
       "1                0.0  Montreal, Quebec       unspecified   \n",
       "\n",
       "                                             sources  ... social_restrictions  \\\n",
       "0  1. great canadian train journeys into history;...  ...                   0   \n",
       "1  1. autonomy s cry revived in quebec the new yo...  ...                   0   \n",
       "\n",
       "   start_date    end_date                 target  \\\n",
       "0  1990-01-15  1990-01-15  [0, 0, 0, 0, 1, 0, 0]   \n",
       "1  1990-06-25  1990-06-25  [0, 0, 0, 0, 1, 0, 0]   \n",
       "\n",
       "                                         notes_clean    neg    neu  pos  \\\n",
       "0  canada s railway passenger system was finally ...  0.087  0.913  0.0   \n",
       "1  protestors were only identified as young peopl...  0.000  1.000  0.0   \n",
       "\n",
       "   compound  protest_duration  \n",
       "0   -0.8176                 1  \n",
       "1    0.0000                 1  \n",
       "\n",
       "[2 rows x 235 columns]"
      ]
     },
     "execution_count": 2,
     "metadata": {},
     "output_type": "execute_result"
    }
   ],
   "source": [
    "mass = pd.read_csv('../data/mass_mobile.csv')\n",
    "mass.head(2)"
   ]
  },
  {
   "cell_type": "markdown",
   "metadata": {},
   "source": [
    "### Creating `mass_no_country` DataFrame"
   ]
  },
  {
   "cell_type": "code",
   "execution_count": 3,
   "metadata": {},
   "outputs": [],
   "source": [
    "mass.drop(columns=['Unnamed: 0'], inplace=True)"
   ]
  },
  {
   "cell_type": "code",
   "execution_count": 4,
   "metadata": {},
   "outputs": [],
   "source": [
    "mass_no_country = mass.copy()"
   ]
  },
  {
   "cell_type": "code",
   "execution_count": 5,
   "metadata": {
    "jupyter": {
     "source_hidden": true
    }
   },
   "outputs": [],
   "source": [
    "mass_no_country = mass_no_country.drop(columns=[ 'country_Afghanistan',\n",
    " 'country_Albania',\n",
    " 'country_Algeria',\n",
    " 'country_Angola',\n",
    " 'country_Argentina',\n",
    " 'country_Armenia',\n",
    " 'country_Austria',\n",
    " 'country_Azerbaijan',\n",
    " 'country_Bahrain',\n",
    " 'country_Bangladesh',\n",
    " 'country_Belarus',\n",
    " 'country_Belgium',\n",
    " 'country_Benin',\n",
    " 'country_Bolivia',\n",
    " 'country_Bosnia',\n",
    " 'country_Botswana',\n",
    " 'country_Brazil',\n",
    " 'country_Bulgaria',\n",
    " 'country_Burkina Faso',\n",
    " 'country_Burundi',\n",
    " 'country_Cambodia',\n",
    " 'country_Cameroon',\n",
    " 'country_Canada',\n",
    " 'country_Cape Verde',\n",
    " 'country_Central African Republic',\n",
    " 'country_Chad',\n",
    " 'country_Chile',\n",
    " 'country_China',\n",
    " 'country_Colombia',\n",
    " 'country_Comoros',\n",
    " 'country_Congo Brazzaville',\n",
    " 'country_Congo Kinshasa',\n",
    " 'country_Costa Rica',\n",
    " 'country_Croatia',\n",
    " 'country_Cuba',\n",
    " 'country_Cyprus',\n",
    " 'country_Czech Republic',\n",
    " 'country_Czechoslovakia',\n",
    " 'country_Denmark',\n",
    " 'country_Djibouti',\n",
    " 'country_Dominican Republic',\n",
    " 'country_Ecuador',\n",
    " 'country_Egypt',\n",
    " 'country_El Salvador',\n",
    " 'country_Equatorial Guinea',\n",
    " 'country_Eritrea',\n",
    " 'country_Estonia',\n",
    " 'country_Ethiopia',\n",
    " 'country_Finland',\n",
    " 'country_France',\n",
    " 'country_Gabon',\n",
    " 'country_Gambia',\n",
    " 'country_Georgia',\n",
    " 'country_Germany',\n",
    " 'country_Germany East',\n",
    " 'country_Germany West',\n",
    " 'country_Ghana',\n",
    " 'country_Greece',\n",
    " 'country_Guatemala',\n",
    " 'country_Guinea',\n",
    " 'country_Guinea-Bissau',\n",
    " 'country_Guyana',\n",
    " 'country_Haiti',\n",
    " 'country_Honduras',\n",
    " 'country_Hungary',\n",
    " 'country_India',\n",
    " 'country_Indonesia',\n",
    " 'country_Iran',\n",
    " 'country_Iraq',\n",
    " 'country_Ireland',\n",
    " 'country_Italy',\n",
    " 'country_Ivory Coast',\n",
    " 'country_Jamaica',\n",
    " 'country_Japan',\n",
    " 'country_Jordan',\n",
    " 'country_Kazakhstan',\n",
    " 'country_Kenya',\n",
    " 'country_Kosovo',\n",
    " 'country_Kuwait',\n",
    " 'country_Kyrgyzstan',\n",
    " 'country_Laos',\n",
    " 'country_Latvia',\n",
    " 'country_Lebanon',\n",
    " 'country_Lesotho',\n",
    " 'country_Liberia',\n",
    " 'country_Libya',\n",
    " 'country_Lithuania',\n",
    " 'country_Luxembourg',\n",
    " 'country_Macedonia',\n",
    " 'country_Madagascar',\n",
    " 'country_Malawi',\n",
    " 'country_Malaysia',\n",
    " 'country_Mali',\n",
    " 'country_Mauritania',\n",
    " 'country_Mauritius',\n",
    " 'country_Mexico',\n",
    " 'country_Moldova',\n",
    " 'country_Mongolia',\n",
    " 'country_Montenegro',\n",
    " 'country_Morocco',\n",
    " 'country_Mozambique',\n",
    " 'country_Myanmar',\n",
    " 'country_Namibia',\n",
    " 'country_Nepal',\n",
    " 'country_Netherlands',\n",
    " 'country_Nicaragua',\n",
    " 'country_Niger',\n",
    " 'country_Nigeria',\n",
    " 'country_North Korea',\n",
    " 'country_Norway',\n",
    " 'country_Oman',\n",
    " 'country_Pakistan',\n",
    " 'country_Panama',\n",
    " 'country_Papua New Guinea',\n",
    " 'country_Paraguay',\n",
    " 'country_Peru',\n",
    " 'country_Philippines',\n",
    " 'country_Poland',\n",
    " 'country_Portugal',\n",
    " 'country_Qatar',\n",
    " 'country_Romania',\n",
    " 'country_Russia',\n",
    " 'country_Rwanda',\n",
    " 'country_Saudi Arabia',\n",
    " 'country_Senegal',\n",
    " 'country_Serbia',\n",
    " 'country_Serbia and Montenegro',\n",
    " 'country_Sierra Leone',\n",
    " 'country_Singapore',\n",
    " 'country_Slovak Republic',\n",
    " 'country_Slovenia',\n",
    " 'country_Somalia',\n",
    " 'country_South Africa',\n",
    " 'country_South Korea',\n",
    " 'country_South Sudan',\n",
    " 'country_Spain',\n",
    " 'country_Sri Lanka',\n",
    " 'country_Sudan',\n",
    " 'country_Suriname',\n",
    " 'country_Swaziland',\n",
    " 'country_Sweden',\n",
    " 'country_Switzerland',\n",
    " 'country_Syria',\n",
    " 'country_Taiwan',\n",
    " 'country_Tajikistan',\n",
    " 'country_Tanzania',\n",
    " 'country_Thailand',\n",
    " 'country_Timor Leste',\n",
    " 'country_Togo',\n",
    " 'country_Tunisia',\n",
    " 'country_Turkey',\n",
    " 'country_Turkmenistan',\n",
    " 'country_USSR',\n",
    " 'country_Uganda',\n",
    " 'country_Ukraine',\n",
    " 'country_United Arab Emirate',\n",
    " 'country_United Kingdom',\n",
    " 'country_Uruguay',\n",
    " 'country_Uzbekistan',\n",
    " 'country_Venezuela',\n",
    " 'country_Vietnam',\n",
    " 'country_Yemen',\n",
    " 'country_Yugoslavia',\n",
    " 'country_Zambia',\n",
    " 'country_Zimbabwe' ])"
   ]
  },
  {
   "cell_type": "markdown",
   "metadata": {},
   "source": [
    "### Adding `violent_response` column "
   ]
  },
  {
   "cell_type": "code",
   "execution_count": 6,
   "metadata": {},
   "outputs": [],
   "source": [
    "mass_no_country['violent_response'] = 0 \n",
    "mass_no_country.loc[mass_no_country['beatings'] == 1, 'violent_response'] = 1\n",
    "mass_no_country.loc[mass_no_country['shootings'] == 1, 'violent_response'] = 1\n",
    "mass_no_country.loc[mass_no_country['killings'] == 1, 'violent_response'] = 1"
   ]
  },
  {
   "cell_type": "code",
   "execution_count": 7,
   "metadata": {},
   "outputs": [],
   "source": [
    "mass_no_country['violent_count'] = mass_no_country['beatings'] + mass_no_country['shootings'] + mass_no_country['killings']"
   ]
  },
  {
   "cell_type": "code",
   "execution_count": 8,
   "metadata": {},
   "outputs": [],
   "source": [
    "# mass_no_country.drop(columns=['beatings', 'killings', 'shootings'], inplace=True)"
   ]
  },
  {
   "cell_type": "code",
   "execution_count": 9,
   "metadata": {
    "collapsed": true,
    "jupyter": {
     "outputs_hidden": true
    }
   },
   "outputs": [
    {
     "name": "stdout",
     "output_type": "stream",
     "text": [
      "<class 'pandas.core.frame.DataFrame'>\n",
      "RangeIndex: 15179 entries, 0 to 15178\n",
      "Data columns (total 71 columns):\n",
      " #   Column                                 Non-Null Count  Dtype  \n",
      "---  ------                                 --------------  -----  \n",
      " 0   id                                     15179 non-null  int64  \n",
      " 1   country                                15179 non-null  object \n",
      " 2   ccode                                  15179 non-null  int64  \n",
      " 3   region                                 15179 non-null  object \n",
      " 4   protestnumber                          15179 non-null  int64  \n",
      " 5   protesterviolence                      15179 non-null  float64\n",
      " 6   location                               15158 non-null  object \n",
      " 7   protesteridentity                      15179 non-null  object \n",
      " 8   sources                                15175 non-null  object \n",
      " 9   notes                                  15179 non-null  object \n",
      " 10  protester_id_type                      15179 non-null  object \n",
      " 11  partipants_number                      15179 non-null  int64  \n",
      " 12  protest_size_category                  15179 non-null  object \n",
      " 13  pop_male                               15179 non-null  float64\n",
      " 14  pop_female                             15179 non-null  float64\n",
      " 15  pop_total                              15179 non-null  float64\n",
      " 16  pop_density                            15179 non-null  float64\n",
      " 17  prosperity_2020                        15179 non-null  float64\n",
      " 18  region_Africa                          15179 non-null  int64  \n",
      " 19  region_Asia                            15179 non-null  int64  \n",
      " 20  region_Central America                 15179 non-null  int64  \n",
      " 21  region_Europe                          15179 non-null  int64  \n",
      " 22  region_MENA                            15179 non-null  int64  \n",
      " 23  region_North America                   15179 non-null  int64  \n",
      " 24  region_Oceania                         15179 non-null  int64  \n",
      " 25  region_South America                   15179 non-null  int64  \n",
      " 26  protest_size_category_1,000-4,999      15179 non-null  int64  \n",
      " 27  protest_size_category_10,000-100,000   15179 non-null  int64  \n",
      " 28  protest_size_category_100-999          15179 non-null  int64  \n",
      " 29  protest_size_category_5,000-9,999      15179 non-null  int64  \n",
      " 30  protest_size_category_50-99            15179 non-null  int64  \n",
      " 31  protest_size_category_Less than 50     15179 non-null  int64  \n",
      " 32  protest_size_category_Over 100,000     15179 non-null  int64  \n",
      " 33  protester_id_type_civil_human_rights   15179 non-null  int64  \n",
      " 34  protester_id_type_ethnic_group         15179 non-null  int64  \n",
      " 35  protester_id_type_locals_residents     15179 non-null  int64  \n",
      " 36  protester_id_type_pensioners_retirees  15179 non-null  int64  \n",
      " 37  protester_id_type_political_group      15179 non-null  int64  \n",
      " 38  protester_id_type_prisoners            15179 non-null  int64  \n",
      " 39  protester_id_type_protestors_generic   15179 non-null  int64  \n",
      " 40  protester_id_type_religious_group      15179 non-null  int64  \n",
      " 41  protester_id_type_soldiers_veterans    15179 non-null  int64  \n",
      " 42  protester_id_type_students_youth       15179 non-null  int64  \n",
      " 43  protester_id_type_victims_families     15179 non-null  int64  \n",
      " 44  protester_id_type_women                15179 non-null  int64  \n",
      " 45  protester_id_type_workers_unions       15179 non-null  int64  \n",
      " 46  arrests                                15179 non-null  int64  \n",
      " 47  accomodation                           15179 non-null  int64  \n",
      " 48  beatings                               15179 non-null  int64  \n",
      " 49  crowddispersal                         15179 non-null  int64  \n",
      " 50  ignore                                 15179 non-null  int64  \n",
      " 51  killings                               15179 non-null  int64  \n",
      " 52  shootings                              15179 non-null  int64  \n",
      " 53  labor_wage_dispute                     15179 non-null  int64  \n",
      " 54  land_farm_issue                        15179 non-null  int64  \n",
      " 55  police_brutality                       15179 non-null  int64  \n",
      " 56  political_behavior_process             15179 non-null  int64  \n",
      " 57  price increases_tax_policy             15179 non-null  int64  \n",
      " 58  removal_of_politician                  15179 non-null  int64  \n",
      " 59  social_restrictions                    15179 non-null  int64  \n",
      " 60  start_date                             15179 non-null  object \n",
      " 61  end_date                               15179 non-null  object \n",
      " 62  target                                 15179 non-null  object \n",
      " 63  notes_clean                            15179 non-null  object \n",
      " 64  neg                                    15179 non-null  float64\n",
      " 65  neu                                    15179 non-null  float64\n",
      " 66  pos                                    15179 non-null  float64\n",
      " 67  compound                               15179 non-null  float64\n",
      " 68  protest_duration                       15179 non-null  int64  \n",
      " 69  violent_response                       15179 non-null  int64  \n",
      " 70  violent_count                          15179 non-null  int64  \n",
      "dtypes: float64(10), int64(49), object(12)\n",
      "memory usage: 8.2+ MB\n"
     ]
    }
   ],
   "source": [
    "mass_no_country.info()"
   ]
  },
  {
   "cell_type": "markdown",
   "metadata": {},
   "source": [
    "### Saving CSV "
   ]
  },
  {
   "cell_type": "markdown",
   "metadata": {},
   "source": [
    "Below, saving again `mass_no_country` as `mass_for_modeling` with the following columns: \n",
    "+ `violent_response` added \n",
    "+ all countries dropped \n",
    "+ NO prediction columns "
   ]
  },
  {
   "cell_type": "code",
   "execution_count": 10,
   "metadata": {},
   "outputs": [],
   "source": [
    "# mass_no_country.to_csv('../data/mass_for_modeling.csv')"
   ]
  },
  {
   "cell_type": "code",
   "execution_count": 11,
   "metadata": {},
   "outputs": [],
   "source": [
    "def evaluate_model(y_true, y_preds):\n",
    "    \n",
    "    f1 = f1_score(y_true, y_preds)\n",
    "    \n",
    "    precision = precision_score(y_true, y_preds)\n",
    "    \n",
    "    recall = recall_score(y_true, y_preds)\n",
    "    \n",
    "    accuracy = accuracy_score(y_true, y_preds)\n",
    "\n",
    "    return f1, precision, recall, accuracy"
   ]
  },
  {
   "cell_type": "markdown",
   "metadata": {},
   "source": [
    "_Note: I am not yet using the `response_prediction_columns` function and have commented it out from `state_response_predictor` function._"
   ]
  },
  {
   "cell_type": "code",
   "execution_count": 12,
   "metadata": {},
   "outputs": [],
   "source": [
    "def response_prediction_columns(model, df, features):\n",
    "    \n",
    "    ss = StandardScaler()\n",
    "    \n",
    "    X = features\n",
    "    X_sc = ss.fit_transform(X)\n",
    "    \n",
    "    predicted_column = model.predict(X_sc)\n",
    "    probability_column = model.predict_proba(X_sc)[:,1]\n",
    "    \n",
    "    return predicted_column, probability_column"
   ]
  },
  {
   "cell_type": "code",
   "execution_count": 13,
   "metadata": {},
   "outputs": [],
   "source": [
    "def state_response_predictor(df, features, target, model, output_flag=False):\n",
    "    \n",
    "    X = features \n",
    "    y = df[target]\n",
    "\n",
    "    X_train, X_test, y_train, y_test = train_test_split(X, y, test_size=0.2, random_state=48)\n",
    "\n",
    "    ss = StandardScaler()\n",
    "\n",
    "    X_train_sc = ss.fit_transform(X_train)\n",
    "    X_test_sc = ss.transform(X_test)\n",
    "    \n",
    "    model.fit(X_train_sc, y_train)\n",
    "    \n",
    "    y_preds_train = model.predict(X_train_sc)\n",
    "    y_preds_test = model.predict(X_test_sc)\n",
    "    \n",
    "    predicted_probs = model.predict_proba(X_test_sc)\n",
    "\n",
    "    f1_score_train, precision_train, recall_train, accuracy_train = evaluate_model(y_train, y_preds_train)\n",
    "    f1_score_test, precision_test, recall_test, accuracy_test = evaluate_model(y_test, y_preds_test)\n",
    "    \n",
    "    roc_auc = roc_auc_score(y_test, predicted_probs[:,1])\n",
    "    \n",
    "#     predicted_column, probability_column = response_prediction_columns(model, df, features)\n",
    "\n",
    "    if output_flag: \n",
    "\n",
    "        # confusion_matrix \n",
    "        plot_confusion_matrix(model, X_test_sc, y_test, cmap='Blues', display_labels=[f'Not {target}', f'{target}'])\n",
    "\n",
    "        # ROC/AUC \n",
    "        plot_roc_curve(model, X_test_sc, y_test)\n",
    "        plt.title(f'{target} ' + 'ROC Curve')\n",
    "\n",
    "    #     print(f'{target}: F1_score for train set = {f1_score_train}')\n",
    "    #     print(f'{target}: F1_score for test set = {f1_score_test}')\n",
    "    #     print(f'{target}: Precision for train set = {precision_train}')\n",
    "    #     print(f'{target}: Precision for test set = {precision_test}')\n",
    "    #     print(f'{target}: Recall for train set = {recall_train}')\n",
    "    #     print(f'{target}: Recall for test set = {recall_test}')\n",
    "    #     print(f'{target}: Accuracy for train set = {accuracy_train}')\n",
    "    #     print(f'{target}: Accuracy for test set = {accuracy_test}')    \n",
    "    #     print(f'{target}: ROC/AUC = {roc_auc}')\n",
    "\n",
    "    return (X_train, roc_auc, f1_score_train, f1_score_test, precision_train, precision_test, \n",
    "            recall_train, recall_test, accuracy_train, accuracy_test)"
   ]
  },
  {
   "cell_type": "markdown",
   "metadata": {},
   "source": [
    "### Identifying `features` to use in Logistic Regressions"
   ]
  },
  {
   "cell_type": "code",
   "execution_count": 14,
   "metadata": {},
   "outputs": [],
   "source": [
    "features = mass_no_country.drop(columns=['id', 'country', 'ccode', 'region', 'location','protesteridentity', 'sources',\n",
    "           'notes', 'protester_id_type', 'protest_size_category', 'start_date', 'notes_clean', 'neg', 'neu', 'pos', 'compound',\n",
    "           'end_date', 'target', 'arrests', 'accomodation', 'beatings', 'crowddispersal', 'ignore', 'killings', 'shootings', \n",
    "           'partipants_number','pop_male', 'pop_female', 'violent_response', 'violent_count', 'protest_duration'])"
   ]
  },
  {
   "cell_type": "markdown",
   "metadata": {},
   "source": [
    "### Running `state_response_predictor` function on each target using hyperparameters identified from GridSearch so that I can use the model to find coefficients and identify import features."
   ]
  },
  {
   "cell_type": "markdown",
   "metadata": {},
   "source": [
    "#### **_1. Arrests_**"
   ]
  },
  {
   "cell_type": "code",
   "execution_count": 15,
   "metadata": {},
   "outputs": [
    {
     "name": "stderr",
     "output_type": "stream",
     "text": [
      "/Users/emilynaftalin/opt/anaconda3/lib/python3.8/site-packages/sklearn/metrics/_classification.py:1245: UndefinedMetricWarning: Precision is ill-defined and being set to 0.0 due to no predicted samples. Use `zero_division` parameter to control this behavior.\n",
      "  _warn_prf(average, modifier, msg_start, len(result))\n",
      "/Users/emilynaftalin/opt/anaconda3/lib/python3.8/site-packages/sklearn/metrics/_classification.py:1245: UndefinedMetricWarning: Precision is ill-defined and being set to 0.0 due to no predicted samples. Use `zero_division` parameter to control this behavior.\n",
      "  _warn_prf(average, modifier, msg_start, len(result))\n"
     ]
    }
   ],
   "source": [
    "# instantiating logistic regression\n",
    "logreg_arr = LogisticRegression(C=0.01, max_iter=100, penalty='l1', solver='liblinear')\n",
    "\n",
    "# once model is run, logreg_arr has been fit and will retain fit model qualities \n",
    "X_train_arr, roc_auc, f1_score_train, f1_score_test, precision_train, precision_test, \\\n",
    "recall_train, recall_test, accuracy_train, accuracy_test = state_response_predictor(mass_no_country, features, 'arrests', logreg_arr)"
   ]
  },
  {
   "cell_type": "code",
   "execution_count": null,
   "metadata": {},
   "outputs": [],
   "source": [
    "arr_coef = pd.DataFrame(list(zip(X_train_arr.columns, logreg_arr.coef_[0])), columns=['feature', 'coef'])\n",
    "arr_coef.sort_values(by='coef')"
   ]
  },
  {
   "cell_type": "code",
   "execution_count": null,
   "metadata": {},
   "outputs": [],
   "source": [
    "feature_importances = list(zip(X_train_arr.columns, logreg_arr.coef_[0]))\n",
    "\n",
    "sorted_coeff = sorted(feature_importances, key = lambda x : x[1], reverse=True)    # SORT VALUES \n",
    "\n",
    "closest_to_label_1 = sorted(sorted_coeff[:5], key = lambda x : x[1])\n",
    "\n",
    "closest_to_label_0 = sorted_coeff[-5:]"
   ]
  },
  {
   "cell_type": "code",
   "execution_count": null,
   "metadata": {},
   "outputs": [],
   "source": [
    "feature_importances[1][1]"
   ]
  },
  {
   "cell_type": "code",
   "execution_count": null,
   "metadata": {},
   "outputs": [],
   "source": [
    "feature = feature_importances[i][0]\n",
    "coeff = features_importances[i][1]"
   ]
  },
  {
   "cell_type": "code",
   "execution_count": null,
   "metadata": {},
   "outputs": [],
   "source": [
    "closest_to_label_1"
   ]
  },
  {
   "cell_type": "code",
   "execution_count": null,
   "metadata": {},
   "outputs": [],
   "source": [
    "closest_to_label_0"
   ]
  },
  {
   "cell_type": "code",
   "execution_count": null,
   "metadata": {},
   "outputs": [],
   "source": [
    "label_0_words = [x[0] for x in closest_to_label_0[-5::]]\n",
    "label_0_scores = [x[1] for x in closest_to_label_0[-5::]]\n",
    "label_1_words = [x[0] for x in closest_to_label_1[-5::]]\n",
    "label_1_scores = [x[1] for x in closest_to_label_1[-5::]]"
   ]
  },
  {
   "cell_type": "code",
   "execution_count": null,
   "metadata": {},
   "outputs": [],
   "source": [
    "plot_most_important_words(label_0_scores, label_0_words, label_1_scores, label_1_words, 'title')"
   ]
  },
  {
   "cell_type": "code",
   "execution_count": null,
   "metadata": {},
   "outputs": [],
   "source": [
    "font = {'family': 'serif',\n",
    "        'color':  '#1a1b1e',\n",
    "        'weight': 'normal',\n",
    "        'size': 20,\n",
    "        }\n",
    "\n",
    "def plot_most_important_words(scores_0, words_0, scores_1, words_1, title):\n",
    "    \n",
    "    y_pos = np.arange(len(words_1))\n",
    "    \n",
    "    pairs_1 = [(a,b) for a,b in zip(words_1, scores_1)]\n",
    "    pairs_1 = sorted(pairs_1, key=lambda x: x[1])\n",
    "    \n",
    "    pairs_0 = [(a,b) for a,b in zip(words_0, scores_0)]\n",
    "    pairs_0 = sorted(pairs_0, key=lambda x: x[1])\n",
    "    \n",
    "    words_1 = [a[0] for a in pairs_1]\n",
    "    scores_1 = [a[1] for a in pairs_1]\n",
    "    \n",
    "    words_0 = [a[0] for a in pairs_0]\n",
    "    scores_0 = [a[1] for a in pairs_0]\n",
    "    \n",
    "    fig = plt.figure(figsize=(12, 12))\n",
    "    \n",
    "    plt.subplot(121)\n",
    "    plt.barh(y_pos, scores_0, align='center', alpha=0.5, color='#1a1b1e')\n",
    "    plt.title('label 0', fontdict=font)\n",
    "    plt.yticks(y_pos, words_0, fontsize=14)\n",
    "#     plt.suptitle('Key Words', fontsize=16)\n",
    "    plt.xlabel('Importance', fontdict=font)\n",
    "    \n",
    "    plt.subplot(122)\n",
    "    plt.barh(y_pos, scores_1, align='center', alpha=0.5, color=\"#f24600\")\n",
    "    plt.title(\"label 1\", fontdict=font)\n",
    "    plt.yticks(y_pos, words_1, fontsize=15)\n",
    "#     plt.suptitle('Key Words', fontsize=16)\n",
    "    plt.xlabel('Importance', fontdict=font)\n",
    "    \n",
    "    plt.subplots_adjust(wspace=.4)"
   ]
  },
  {
   "cell_type": "code",
   "execution_count": null,
   "metadata": {},
   "outputs": [],
   "source": [
    "def find_most_important_words(vectorizer, estimator, n=10):\n",
    "    \n",
    "    index_to_word = {v:k for k, v in vectorizer.vocabulary_.items()}\n",
    "    \n",
    "#     most_important = {}\n",
    "\n",
    "    # get coefficient for each word in the vocabulary \n",
    "    word_importances = [(el, index_to_word[i]) for i, el in enumerate(np.exp(estimator.coef_[0]))]  \n",
    "    \n",
    "    # sort the word_imoprtance coefficients by the coefficient \n",
    "    sorted_coeff = sorted(word_importances, key = lambda x : x[0], reverse=True)   \n",
    "\n",
    "    # find words most important to label 1 by sorting by the highest coefficient\n",
    "    closest_to_label_1 = sorted(sorted_coeff[:n], key = lambda x : x[0])\n",
    "    \n",
    "    # find words most important to label 0 by sorting by the smallest coefficient\n",
    "    closest_to_label_0 = sorted_coeff[-n:]\n",
    "    \n",
    "    return closest_to_label_0, closest_to_label_1"
   ]
  },
  {
   "cell_type": "markdown",
   "metadata": {},
   "source": [
    "#### **_2. Accomodation_**"
   ]
  },
  {
   "cell_type": "code",
   "execution_count": 16,
   "metadata": {},
   "outputs": [
    {
     "name": "stderr",
     "output_type": "stream",
     "text": [
      "/Users/emilynaftalin/opt/anaconda3/lib/python3.8/site-packages/sklearn/metrics/_classification.py:1245: UndefinedMetricWarning: Precision is ill-defined and being set to 0.0 due to no predicted samples. Use `zero_division` parameter to control this behavior.\n",
      "  _warn_prf(average, modifier, msg_start, len(result))\n"
     ]
    }
   ],
   "source": [
    "logreg_acc = LogisticRegression(C=0.01, max_iter=100, penalty='l2', solver='liblinear')\n",
    "\n",
    "X_train_acc, roc_auc, f1_score_train, f1_score_test, precision_train, precision_test, \\\n",
    "recall_train, recall_test, accuracy_train, accuracy_test = state_response_predictor(mass_no_country, features, 'accomodation', logreg_acc)"
   ]
  },
  {
   "cell_type": "code",
   "execution_count": 17,
   "metadata": {},
   "outputs": [
    {
     "data": {
      "text/html": [
       "<div>\n",
       "<style scoped>\n",
       "    .dataframe tbody tr th:only-of-type {\n",
       "        vertical-align: middle;\n",
       "    }\n",
       "\n",
       "    .dataframe tbody tr th {\n",
       "        vertical-align: top;\n",
       "    }\n",
       "\n",
       "    .dataframe thead th {\n",
       "        text-align: right;\n",
       "    }\n",
       "</style>\n",
       "<table border=\"1\" class=\"dataframe\">\n",
       "  <thead>\n",
       "    <tr style=\"text-align: right;\">\n",
       "      <th></th>\n",
       "      <th>feature</th>\n",
       "      <th>importance</th>\n",
       "    </tr>\n",
       "  </thead>\n",
       "  <tbody>\n",
       "    <tr>\n",
       "      <th>0</th>\n",
       "      <td>protestnumber</td>\n",
       "      <td>0.001591</td>\n",
       "    </tr>\n",
       "    <tr>\n",
       "      <th>1</th>\n",
       "      <td>protesterviolence</td>\n",
       "      <td>0.015931</td>\n",
       "    </tr>\n",
       "    <tr>\n",
       "      <th>2</th>\n",
       "      <td>pop_total</td>\n",
       "      <td>0.054689</td>\n",
       "    </tr>\n",
       "    <tr>\n",
       "      <th>3</th>\n",
       "      <td>pop_density</td>\n",
       "      <td>-0.092286</td>\n",
       "    </tr>\n",
       "    <tr>\n",
       "      <th>4</th>\n",
       "      <td>prosperity_2020</td>\n",
       "      <td>-0.073945</td>\n",
       "    </tr>\n",
       "    <tr>\n",
       "      <th>5</th>\n",
       "      <td>region_Africa</td>\n",
       "      <td>0.056958</td>\n",
       "    </tr>\n",
       "    <tr>\n",
       "      <th>6</th>\n",
       "      <td>region_Asia</td>\n",
       "      <td>0.080130</td>\n",
       "    </tr>\n",
       "    <tr>\n",
       "      <th>7</th>\n",
       "      <td>region_Central America</td>\n",
       "      <td>-0.049861</td>\n",
       "    </tr>\n",
       "    <tr>\n",
       "      <th>8</th>\n",
       "      <td>region_Europe</td>\n",
       "      <td>-0.081822</td>\n",
       "    </tr>\n",
       "    <tr>\n",
       "      <th>9</th>\n",
       "      <td>region_MENA</td>\n",
       "      <td>-0.057370</td>\n",
       "    </tr>\n",
       "    <tr>\n",
       "      <th>10</th>\n",
       "      <td>region_North America</td>\n",
       "      <td>0.005314</td>\n",
       "    </tr>\n",
       "    <tr>\n",
       "      <th>11</th>\n",
       "      <td>region_Oceania</td>\n",
       "      <td>0.068181</td>\n",
       "    </tr>\n",
       "    <tr>\n",
       "      <th>12</th>\n",
       "      <td>region_South America</td>\n",
       "      <td>0.008430</td>\n",
       "    </tr>\n",
       "    <tr>\n",
       "      <th>13</th>\n",
       "      <td>protest_size_category_1,000-4,999</td>\n",
       "      <td>-0.004221</td>\n",
       "    </tr>\n",
       "    <tr>\n",
       "      <th>14</th>\n",
       "      <td>protest_size_category_10,000-100,000</td>\n",
       "      <td>0.108379</td>\n",
       "    </tr>\n",
       "    <tr>\n",
       "      <th>15</th>\n",
       "      <td>protest_size_category_100-999</td>\n",
       "      <td>0.000353</td>\n",
       "    </tr>\n",
       "    <tr>\n",
       "      <th>16</th>\n",
       "      <td>protest_size_category_5,000-9,999</td>\n",
       "      <td>0.032179</td>\n",
       "    </tr>\n",
       "    <tr>\n",
       "      <th>17</th>\n",
       "      <td>protest_size_category_50-99</td>\n",
       "      <td>-0.110187</td>\n",
       "    </tr>\n",
       "    <tr>\n",
       "      <th>18</th>\n",
       "      <td>protest_size_category_Less than 50</td>\n",
       "      <td>-0.060237</td>\n",
       "    </tr>\n",
       "    <tr>\n",
       "      <th>19</th>\n",
       "      <td>protest_size_category_Over 100,000</td>\n",
       "      <td>0.042428</td>\n",
       "    </tr>\n",
       "    <tr>\n",
       "      <th>20</th>\n",
       "      <td>protester_id_type_civil_human_rights</td>\n",
       "      <td>0.012960</td>\n",
       "    </tr>\n",
       "    <tr>\n",
       "      <th>21</th>\n",
       "      <td>protester_id_type_ethnic_group</td>\n",
       "      <td>0.022315</td>\n",
       "    </tr>\n",
       "    <tr>\n",
       "      <th>22</th>\n",
       "      <td>protester_id_type_locals_residents</td>\n",
       "      <td>0.107723</td>\n",
       "    </tr>\n",
       "    <tr>\n",
       "      <th>23</th>\n",
       "      <td>protester_id_type_pensioners_retirees</td>\n",
       "      <td>-0.027138</td>\n",
       "    </tr>\n",
       "    <tr>\n",
       "      <th>24</th>\n",
       "      <td>protester_id_type_political_group</td>\n",
       "      <td>-0.126662</td>\n",
       "    </tr>\n",
       "    <tr>\n",
       "      <th>25</th>\n",
       "      <td>protester_id_type_prisoners</td>\n",
       "      <td>0.079888</td>\n",
       "    </tr>\n",
       "    <tr>\n",
       "      <th>26</th>\n",
       "      <td>protester_id_type_protestors_generic</td>\n",
       "      <td>-0.103311</td>\n",
       "    </tr>\n",
       "    <tr>\n",
       "      <th>27</th>\n",
       "      <td>protester_id_type_religious_group</td>\n",
       "      <td>0.012411</td>\n",
       "    </tr>\n",
       "    <tr>\n",
       "      <th>28</th>\n",
       "      <td>protester_id_type_soldiers_veterans</td>\n",
       "      <td>0.060118</td>\n",
       "    </tr>\n",
       "    <tr>\n",
       "      <th>29</th>\n",
       "      <td>protester_id_type_students_youth</td>\n",
       "      <td>0.047809</td>\n",
       "    </tr>\n",
       "    <tr>\n",
       "      <th>30</th>\n",
       "      <td>protester_id_type_victims_families</td>\n",
       "      <td>-0.027009</td>\n",
       "    </tr>\n",
       "    <tr>\n",
       "      <th>31</th>\n",
       "      <td>protester_id_type_women</td>\n",
       "      <td>-0.004935</td>\n",
       "    </tr>\n",
       "    <tr>\n",
       "      <th>32</th>\n",
       "      <td>protester_id_type_workers_unions</td>\n",
       "      <td>0.054375</td>\n",
       "    </tr>\n",
       "    <tr>\n",
       "      <th>33</th>\n",
       "      <td>labor_wage_dispute</td>\n",
       "      <td>0.127601</td>\n",
       "    </tr>\n",
       "    <tr>\n",
       "      <th>34</th>\n",
       "      <td>land_farm_issue</td>\n",
       "      <td>0.112761</td>\n",
       "    </tr>\n",
       "    <tr>\n",
       "      <th>35</th>\n",
       "      <td>police_brutality</td>\n",
       "      <td>-0.004313</td>\n",
       "    </tr>\n",
       "    <tr>\n",
       "      <th>36</th>\n",
       "      <td>political_behavior_process</td>\n",
       "      <td>-0.086623</td>\n",
       "    </tr>\n",
       "    <tr>\n",
       "      <th>37</th>\n",
       "      <td>price increases_tax_policy</td>\n",
       "      <td>0.116249</td>\n",
       "    </tr>\n",
       "    <tr>\n",
       "      <th>38</th>\n",
       "      <td>removal_of_politician</td>\n",
       "      <td>0.086649</td>\n",
       "    </tr>\n",
       "    <tr>\n",
       "      <th>39</th>\n",
       "      <td>social_restrictions</td>\n",
       "      <td>-0.021191</td>\n",
       "    </tr>\n",
       "  </tbody>\n",
       "</table>\n",
       "</div>"
      ],
      "text/plain": [
       "                                  feature  importance\n",
       "0                           protestnumber    0.001591\n",
       "1                       protesterviolence    0.015931\n",
       "2                               pop_total    0.054689\n",
       "3                             pop_density   -0.092286\n",
       "4                         prosperity_2020   -0.073945\n",
       "5                           region_Africa    0.056958\n",
       "6                             region_Asia    0.080130\n",
       "7                  region_Central America   -0.049861\n",
       "8                           region_Europe   -0.081822\n",
       "9                             region_MENA   -0.057370\n",
       "10                   region_North America    0.005314\n",
       "11                         region_Oceania    0.068181\n",
       "12                   region_South America    0.008430\n",
       "13      protest_size_category_1,000-4,999   -0.004221\n",
       "14   protest_size_category_10,000-100,000    0.108379\n",
       "15          protest_size_category_100-999    0.000353\n",
       "16      protest_size_category_5,000-9,999    0.032179\n",
       "17            protest_size_category_50-99   -0.110187\n",
       "18     protest_size_category_Less than 50   -0.060237\n",
       "19     protest_size_category_Over 100,000    0.042428\n",
       "20   protester_id_type_civil_human_rights    0.012960\n",
       "21         protester_id_type_ethnic_group    0.022315\n",
       "22     protester_id_type_locals_residents    0.107723\n",
       "23  protester_id_type_pensioners_retirees   -0.027138\n",
       "24      protester_id_type_political_group   -0.126662\n",
       "25            protester_id_type_prisoners    0.079888\n",
       "26   protester_id_type_protestors_generic   -0.103311\n",
       "27      protester_id_type_religious_group    0.012411\n",
       "28    protester_id_type_soldiers_veterans    0.060118\n",
       "29       protester_id_type_students_youth    0.047809\n",
       "30     protester_id_type_victims_families   -0.027009\n",
       "31                protester_id_type_women   -0.004935\n",
       "32       protester_id_type_workers_unions    0.054375\n",
       "33                     labor_wage_dispute    0.127601\n",
       "34                        land_farm_issue    0.112761\n",
       "35                       police_brutality   -0.004313\n",
       "36             political_behavior_process   -0.086623\n",
       "37             price increases_tax_policy    0.116249\n",
       "38                  removal_of_politician    0.086649\n",
       "39                    social_restrictions   -0.021191"
      ]
     },
     "execution_count": 17,
     "metadata": {},
     "output_type": "execute_result"
    }
   ],
   "source": [
    "acc_coef = pd.DataFrame(list(zip(X_train_acc.columns, logreg_acc.coef_[0])), columns=['feature', 'importance'])\n",
    "acc_coef"
   ]
  },
  {
   "cell_type": "markdown",
   "metadata": {},
   "source": [
    "#### **_3. Crowd Dispersal_**"
   ]
  },
  {
   "cell_type": "code",
   "execution_count": 18,
   "metadata": {},
   "outputs": [],
   "source": [
    "logreg_cd = LogisticRegression(C=0.01, max_iter=100, penalty='l1', solver='liblinear')\n",
    "\n",
    "X_train_cd, roc_auc, f1_score_train, f1_score_test, precision_train, precision_test, \\\n",
    "recall_train, recall_test, accuracy_train, accuracy_test = state_response_predictor(mass_no_country, features, 'crowddispersal', logreg_cd)"
   ]
  },
  {
   "cell_type": "code",
   "execution_count": null,
   "metadata": {},
   "outputs": [],
   "source": [
    "cd_coef = pd.DataFrame(list(zip(X_train_cd.columns, logreg_cd.coef_[0])), columns=['feature', 'coef'])\n",
    "cd_coef"
   ]
  },
  {
   "cell_type": "markdown",
   "metadata": {},
   "source": [
    "#### **_4. Ignore_**"
   ]
  },
  {
   "cell_type": "code",
   "execution_count": 19,
   "metadata": {},
   "outputs": [],
   "source": [
    "logreg_ig = LogisticRegression(C=0.01, max_iter=1000, penalty='l2', solver='saga')\n",
    "\n",
    "X_train_ig, roc_auc, f1_score_train, f1_score_test, precision_train, precision_test, \\\n",
    "recall_train, recall_test, accuracy_train, accuracy_test = state_response_predictor(mass_no_country, features, 'ignore', logreg_ig)"
   ]
  },
  {
   "cell_type": "code",
   "execution_count": null,
   "metadata": {},
   "outputs": [],
   "source": [
    "ig_coef = pd.DataFrame(list(zip(X_train_ig.columns, logreg_ig.coef_[0])), columns=['feature', 'coef'])\n",
    "ig_coef"
   ]
  },
  {
   "cell_type": "markdown",
   "metadata": {},
   "source": [
    "#### **_5. Violent Response_**"
   ]
  },
  {
   "cell_type": "markdown",
   "metadata": {},
   "source": [
    "_Violent responses includes beatings, shootings, and killings as recorded in to the Mass Mobilization dataset._"
   ]
  },
  {
   "cell_type": "code",
   "execution_count": 20,
   "metadata": {},
   "outputs": [],
   "source": [
    "logreg_vr = LogisticRegression(C=0.01, max_iter=100, penalty='l2', solver='saga')\n",
    "\n",
    "X_train_vr, roc_auc, f1_score_train, f1_score_test, precision_train, precision_test, \\\n",
    "recall_train, recall_test, accuracy_train, accuracy_tet = state_response_predictor(mass_no_country, features, 'violent_response', logreg_vr)"
   ]
  },
  {
   "cell_type": "code",
   "execution_count": null,
   "metadata": {},
   "outputs": [],
   "source": [
    "vr_coef = pd.DataFrame(list(zip(X_train_vr.columns, logreg_vr.coef_[0])), columns=['feature', 'coef'])\n",
    "vr_coef"
   ]
  },
  {
   "cell_type": "markdown",
   "metadata": {},
   "source": [
    "#### **_6. Beatings_**"
   ]
  },
  {
   "cell_type": "code",
   "execution_count": 21,
   "metadata": {},
   "outputs": [
    {
     "name": "stderr",
     "output_type": "stream",
     "text": [
      "/Users/emilynaftalin/opt/anaconda3/lib/python3.8/site-packages/sklearn/metrics/_classification.py:1245: UndefinedMetricWarning: Precision is ill-defined and being set to 0.0 due to no predicted samples. Use `zero_division` parameter to control this behavior.\n",
      "  _warn_prf(average, modifier, msg_start, len(result))\n",
      "/Users/emilynaftalin/opt/anaconda3/lib/python3.8/site-packages/sklearn/metrics/_classification.py:1245: UndefinedMetricWarning: Precision is ill-defined and being set to 0.0 due to no predicted samples. Use `zero_division` parameter to control this behavior.\n",
      "  _warn_prf(average, modifier, msg_start, len(result))\n"
     ]
    }
   ],
   "source": [
    "logreg_beat = LogisticRegression(C=0.01, max_iter=100, penalty='l1', solver='liblinear')\n",
    "\n",
    "X_train_beat, roc_auc, f1_score_train, f1_score_test, precision_train, precision_test, \\\n",
    "recall_train, recall_test, accuracy_train, accuracy_test = state_response_predictor(mass_no_country, features, 'beatings', logreg_beat)"
   ]
  },
  {
   "cell_type": "markdown",
   "metadata": {},
   "source": [
    "#### **_7. Shootings_**"
   ]
  },
  {
   "cell_type": "code",
   "execution_count": 22,
   "metadata": {},
   "outputs": [
    {
     "name": "stderr",
     "output_type": "stream",
     "text": [
      "/Users/emilynaftalin/opt/anaconda3/lib/python3.8/site-packages/sklearn/metrics/_classification.py:1245: UndefinedMetricWarning: Precision is ill-defined and being set to 0.0 due to no predicted samples. Use `zero_division` parameter to control this behavior.\n",
      "  _warn_prf(average, modifier, msg_start, len(result))\n",
      "/Users/emilynaftalin/opt/anaconda3/lib/python3.8/site-packages/sklearn/metrics/_classification.py:1245: UndefinedMetricWarning: Precision is ill-defined and being set to 0.0 due to no predicted samples. Use `zero_division` parameter to control this behavior.\n",
      "  _warn_prf(average, modifier, msg_start, len(result))\n"
     ]
    }
   ],
   "source": [
    "logreg_shoot = LogisticRegression(C=0.01, max_iter=100, penalty='l1', solver='liblinear')\n",
    "\n",
    "X_train_shoot, roc_auc, f1_score_train, f1_score_test, precision_train, precision_test, \\\n",
    "recall_train, recall_test, accuracy_train, accuracy_test = state_response_predictor(mass_no_country, features, 'shootings', logreg_shoot)"
   ]
  },
  {
   "cell_type": "markdown",
   "metadata": {},
   "source": [
    "#### **_8. Killlings_**"
   ]
  },
  {
   "cell_type": "code",
   "execution_count": 23,
   "metadata": {},
   "outputs": [
    {
     "name": "stderr",
     "output_type": "stream",
     "text": [
      "/Users/emilynaftalin/opt/anaconda3/lib/python3.8/site-packages/sklearn/metrics/_classification.py:1245: UndefinedMetricWarning: Precision is ill-defined and being set to 0.0 due to no predicted samples. Use `zero_division` parameter to control this behavior.\n",
      "  _warn_prf(average, modifier, msg_start, len(result))\n",
      "/Users/emilynaftalin/opt/anaconda3/lib/python3.8/site-packages/sklearn/metrics/_classification.py:1245: UndefinedMetricWarning: Precision is ill-defined and being set to 0.0 due to no predicted samples. Use `zero_division` parameter to control this behavior.\n",
      "  _warn_prf(average, modifier, msg_start, len(result))\n"
     ]
    }
   ],
   "source": [
    "logreg_kill = LogisticRegression(C=0.01, max_iter=100, penalty='l1', solver='liblinear')\n",
    "\n",
    "X_train_kill, roc_auc, f1_score_train, f1_score_test, precision_train, precision_test, \\\n",
    "recall_train, recall_test, accuracy_train, accuracy_test = state_response_predictor(mass_no_country, features, 'killings', logreg_kill)"
   ]
  },
  {
   "cell_type": "markdown",
   "metadata": {},
   "source": [
    "### Building metrics dataframe, confusion matrix, and ROC curve for each curve"
   ]
  },
  {
   "cell_type": "code",
   "execution_count": 24,
   "metadata": {},
   "outputs": [
    {
     "name": "stderr",
     "output_type": "stream",
     "text": [
      "/Users/emilynaftalin/opt/anaconda3/lib/python3.8/site-packages/sklearn/metrics/_classification.py:1245: UndefinedMetricWarning: Precision is ill-defined and being set to 0.0 due to no predicted samples. Use `zero_division` parameter to control this behavior.\n",
      "  _warn_prf(average, modifier, msg_start, len(result))\n",
      "/Users/emilynaftalin/opt/anaconda3/lib/python3.8/site-packages/sklearn/metrics/_classification.py:1245: UndefinedMetricWarning: Precision is ill-defined and being set to 0.0 due to no predicted samples. Use `zero_division` parameter to control this behavior.\n",
      "  _warn_prf(average, modifier, msg_start, len(result))\n",
      "/Users/emilynaftalin/opt/anaconda3/lib/python3.8/site-packages/sklearn/metrics/_classification.py:1245: UndefinedMetricWarning: Precision is ill-defined and being set to 0.0 due to no predicted samples. Use `zero_division` parameter to control this behavior.\n",
      "  _warn_prf(average, modifier, msg_start, len(result))\n"
     ]
    },
    {
     "data": {
      "text/html": [
       "<div>\n",
       "<style scoped>\n",
       "    .dataframe tbody tr th:only-of-type {\n",
       "        vertical-align: middle;\n",
       "    }\n",
       "\n",
       "    .dataframe tbody tr th {\n",
       "        vertical-align: top;\n",
       "    }\n",
       "\n",
       "    .dataframe thead th {\n",
       "        text-align: right;\n",
       "    }\n",
       "</style>\n",
       "<table border=\"1\" class=\"dataframe\">\n",
       "  <thead>\n",
       "    <tr style=\"text-align: right;\">\n",
       "      <th></th>\n",
       "      <th>target</th>\n",
       "      <th>ROC/AUC</th>\n",
       "      <th>f1_score_train</th>\n",
       "      <th>f1_score_test</th>\n",
       "      <th>precision_train</th>\n",
       "      <th>precision_test</th>\n",
       "      <th>recall_train</th>\n",
       "      <th>recall_test</th>\n",
       "    </tr>\n",
       "  </thead>\n",
       "  <tbody>\n",
       "    <tr>\n",
       "      <th>0</th>\n",
       "      <td>arrests</td>\n",
       "      <td>0.7324</td>\n",
       "      <td>0.0000</td>\n",
       "      <td>0.0000</td>\n",
       "      <td>0.0000</td>\n",
       "      <td>0.0000</td>\n",
       "      <td>0.0000</td>\n",
       "      <td>0.0000</td>\n",
       "    </tr>\n",
       "    <tr>\n",
       "      <th>1</th>\n",
       "      <td>accomodation</td>\n",
       "      <td>0.6492</td>\n",
       "      <td>0.0033</td>\n",
       "      <td>0.0000</td>\n",
       "      <td>0.5000</td>\n",
       "      <td>0.0000</td>\n",
       "      <td>0.0016</td>\n",
       "      <td>0.0000</td>\n",
       "    </tr>\n",
       "    <tr>\n",
       "      <th>2</th>\n",
       "      <td>crowddispersal</td>\n",
       "      <td>0.7962</td>\n",
       "      <td>0.6367</td>\n",
       "      <td>0.6267</td>\n",
       "      <td>0.6962</td>\n",
       "      <td>0.7013</td>\n",
       "      <td>0.5866</td>\n",
       "      <td>0.5664</td>\n",
       "    </tr>\n",
       "    <tr>\n",
       "      <th>3</th>\n",
       "      <td>ignore</td>\n",
       "      <td>0.7842</td>\n",
       "      <td>0.7855</td>\n",
       "      <td>0.7899</td>\n",
       "      <td>0.7020</td>\n",
       "      <td>0.7030</td>\n",
       "      <td>0.8915</td>\n",
       "      <td>0.9012</td>\n",
       "    </tr>\n",
       "    <tr>\n",
       "      <th>4</th>\n",
       "      <td>violent_response</td>\n",
       "      <td>0.8374</td>\n",
       "      <td>0.1783</td>\n",
       "      <td>0.2367</td>\n",
       "      <td>0.6202</td>\n",
       "      <td>0.6711</td>\n",
       "      <td>0.1041</td>\n",
       "      <td>0.1437</td>\n",
       "    </tr>\n",
       "  </tbody>\n",
       "</table>\n",
       "</div>"
      ],
      "text/plain": [
       "             target  ROC/AUC  f1_score_train  f1_score_test  precision_train  \\\n",
       "0           arrests   0.7324          0.0000         0.0000           0.0000   \n",
       "1      accomodation   0.6492          0.0033         0.0000           0.5000   \n",
       "2    crowddispersal   0.7962          0.6367         0.6267           0.6962   \n",
       "3            ignore   0.7842          0.7855         0.7899           0.7020   \n",
       "4  violent_response   0.8374          0.1783         0.2367           0.6202   \n",
       "\n",
       "   precision_test  recall_train  recall_test  \n",
       "0          0.0000        0.0000       0.0000  \n",
       "1          0.0000        0.0016       0.0000  \n",
       "2          0.7013        0.5866       0.5664  \n",
       "3          0.7030        0.8915       0.9012  \n",
       "4          0.6711        0.1041       0.1437  "
      ]
     },
     "execution_count": 24,
     "metadata": {},
     "output_type": "execute_result"
    },
    {
     "data": {
      "image/png": "[encoded data removed]",
      "text/plain": [
       "<Figure size 432x288 with 2 Axes>"
      ]
     },
     "metadata": {
      "needs_background": "light"
     },
     "output_type": "display_data"
    },
    {
     "data": {
      "image/png": "[encoded data removed]",
      "text/plain": [
       "<Figure size 432x288 with 1 Axes>"
      ]
     },
     "metadata": {
      "needs_background": "light"
     },
     "output_type": "display_data"
    },
    {
     "data": {
      "image/png": "[encoded data removed]",
      "text/plain": [
       "<Figure size 432x288 with 2 Axes>"
      ]
     },
     "metadata": {
      "needs_background": "light"
     },
     "output_type": "display_data"
    },
    {
     "data": {
      "image/png": "[encoded data removed]",
      "text/plain": [
       "<Figure size 432x288 with 1 Axes>"
      ]
     },
     "metadata": {
      "needs_background": "light"
     },
     "output_type": "display_data"
    },
    {
     "data": {
      "image/png": "[encoded data removed]",
      "text/plain": [
       "<Figure size 432x288 with 2 Axes>"
      ]
     },
     "metadata": {
      "needs_background": "light"
     },
     "output_type": "display_data"
    },
    {
     "data": {
      "image/png": "[encoded data removed]",
      "text/plain": [
       "<Figure size 432x288 with 1 Axes>"
      ]
     },
     "metadata": {
      "needs_background": "light"
     },
     "output_type": "display_data"
    },
    {
     "data": {
      "image/png": "[encoded data removed]",
      "text/plain": [
       "<Figure size 432x288 with 2 Axes>"
      ]
     },
     "metadata": {
      "needs_background": "light"
     },
     "output_type": "display_data"
    },
    {
     "data": {
      "image/png": "[encoded data removed]",
      "text/plain": [
       "<Figure size 432x288 with 1 Axes>"
      ]
     },
     "metadata": {
      "needs_background": "light"
     },
     "output_type": "display_data"
    },
    {
     "data": {
      "image/png": "[encoded data removed]",
      "text/plain": [
       "<Figure size 432x288 with 2 Axes>"
      ]
     },
     "metadata": {
      "needs_background": "light"
     },
     "output_type": "display_data"
    },
    {
     "data": {
      "image/png": "[encoded data removed]",
      "text/plain": [
       "<Figure size 432x288 with 1 Axes>"
      ]
     },
     "metadata": {
      "needs_background": "light"
     },
     "output_type": "display_data"
    }
   ],
   "source": [
    "model_performance_dict_nc = {\n",
    "    'target':[],\n",
    "    'ROC/AUC':[],\n",
    "    'f1_score_train':[],\n",
    "    'f1_score_test':[],\n",
    "    'precision_train':[],\n",
    "    'precision_test':[],\n",
    "    'recall_train':[],\n",
    "    'recall_test':[],   \n",
    "}\n",
    "\n",
    " \n",
    "targets = ['arrests','accomodation','crowddispersal','ignore', 'violent_response']  \n",
    "\n",
    "# all models in list were fit in cells above by running function \n",
    "models = [logreg_arr, logreg_acc, logreg_cd, logreg_ig, logreg_vr]\n",
    "\n",
    "target_model_list = list(zip(targets, models))\n",
    "    \n",
    "for target, model in target_model_list:\n",
    "        \n",
    "    X_train, roc_auc, f1_score_train, f1_score_test, \\\n",
    "    precision_train, precision_test, recall_train, recall_test, \\\n",
    "    accuracy_train, accuracy_test = state_response_predictor(mass_no_country, \n",
    "                                                             features, \n",
    "                                                             target, \n",
    "                                                             model,\n",
    "                                                             output_flag=True)\n",
    "\n",
    "    model_performance_dict_nc['target'].append(target)\n",
    "    model_performance_dict_nc['ROC/AUC'].append(roc_auc)\n",
    "    model_performance_dict_nc['f1_score_train'].append(f1_score_train)\n",
    "    model_performance_dict_nc['f1_score_test'].append(f1_score_test)\n",
    "    model_performance_dict_nc['precision_train'].append(precision_train)\n",
    "    model_performance_dict_nc['precision_test'].append(precision_test)\n",
    "    model_performance_dict_nc['recall_train'].append(recall_train)\n",
    "    model_performance_dict_nc['recall_test'].append(recall_test)\n",
    "    \n",
    "# print(model_performance_dict)\n",
    "    \n",
    "model_performance_df_nc = pd.DataFrame(model_performance_dict_nc)\n",
    "model_performance_df_nc.round(4)"
   ]
  },
  {
   "cell_type": "markdown",
   "metadata": {},
   "source": [
    "### Pickling models and adding to `models` folder on GitHub"
   ]
  },
  {
   "cell_type": "code",
   "execution_count": null,
   "metadata": {},
   "outputs": [],
   "source": [
    "import pickle"
   ]
  },
  {
   "cell_type": "code",
   "execution_count": null,
   "metadata": {},
   "outputs": [],
   "source": [
    "# arrests model \n",
    "model_file = '../models/03a_logistic_regression_arrests.pickle'\n",
    "pickle.dump(logreg_arr, open(model_file, 'wb'))"
   ]
  },
  {
   "cell_type": "code",
   "execution_count": null,
   "metadata": {},
   "outputs": [],
   "source": [
    "# accomodation model \n",
    "model_file = '../models/03b_logistic_regression_accomodation.pickle'\n",
    "pickle.dump(logreg_acc, open(model_file, 'wb'))"
   ]
  },
  {
   "cell_type": "code",
   "execution_count": null,
   "metadata": {},
   "outputs": [],
   "source": [
    "# crowd dispersal model \n",
    "model_file = '../models/03c_logistic_regression_crowddispersal.pickle'\n",
    "pickle.dump(logreg_cd, open(model_file, 'wb'))"
   ]
  },
  {
   "cell_type": "code",
   "execution_count": null,
   "metadata": {},
   "outputs": [],
   "source": [
    "# ignore model \n",
    "model_file = '../models/03d_logistic_regression_ignore.pickle'\n",
    "pickle.dump(logreg_ig, open(model_file, 'wb'))"
   ]
  },
  {
   "cell_type": "code",
   "execution_count": null,
   "metadata": {},
   "outputs": [],
   "source": [
    "# violent response model \n",
    "model_file = '../models/03e_logistic_regression_violent_response.pickle'\n",
    "pickle.dump(logreg_vr, open(model_file, 'wb'))"
   ]
  },
  {
   "cell_type": "code",
   "execution_count": null,
   "metadata": {},
   "outputs": [],
   "source": [
    "# beatings model \n",
    "model_file = '../models/03f_logistic_regression_beatings.pickle'\n",
    "pickle.dump(logreg_beat, open(model_file, 'wb'))"
   ]
  },
  {
   "cell_type": "code",
   "execution_count": null,
   "metadata": {},
   "outputs": [],
   "source": [
    "# shootings model \n",
    "model_file = '../models/03g_logistic_regression_shootings.pickle'\n",
    "pickle.dump(logreg_shoot, open(model_file, 'wb'))"
   ]
  },
  {
   "cell_type": "code",
   "execution_count": null,
   "metadata": {},
   "outputs": [],
   "source": [
    "# killings model\n",
    "model_file = '../models/03h_logistic_regression_killings.pickle'\n",
    "pickle.dump(logreg_kill, open(model_file, 'wb'))"
   ]
  }
 ],
 "metadata": {
  "kernelspec": {
   "display_name": "Python 3",
   "language": "python",
   "name": "python3"
  },
  "language_info": {
   "codemirror_mode": {
    "name": "ipython",
    "version": 3
   },
   "file_extension": ".py",
   "mimetype": "text/x-python",
   "name": "python",
   "nbconvert_exporter": "python",
   "pygments_lexer": "ipython3",
   "version": "3.8.5"
  }
 },
 "nbformat": 4,
 "nbformat_minor": 4
}
