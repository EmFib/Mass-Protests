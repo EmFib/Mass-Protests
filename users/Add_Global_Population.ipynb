{
 "cells": [
  {
   "cell_type": "markdown",
   "metadata": {},
   "source": [
    "## Add Global Population data to Mass protest data\n",
    "Add Population Density\n",
    "\n",
    "Data provided by the United Nations<br>\n",
    "https://population.un.org/wpp/Download/Standard/CSV/\n",
    "\n",
    "* Total population by sex, annually from 1950 to 2100.\n",
    "* PopMale: Total male population (thousands)\n",
    "* PopFemale: Total female population (thousands)\n",
    "* PopTotal: Total population, both sexes (thousands)\n",
    "* PopDensity: Population per square kilometre (thousands)"
   ]
  },
  {
   "cell_type": "code",
   "execution_count": 214,
   "metadata": {},
   "outputs": [],
   "source": [
    "import numpy as np\n",
    "import pandas as pd\n",
    "import matplotlib.pyplot as plt "
   ]
  },
  {
   "cell_type": "code",
   "execution_count": 215,
   "metadata": {},
   "outputs": [],
   "source": [
    "mass = pd.read_csv('../source/mmALL_073120_csv.csv')"
   ]
  },
  {
   "cell_type": "code",
   "execution_count": 216,
   "metadata": {},
   "outputs": [
    {
     "data": {
      "text/html": [
       "<div>\n",
       "<style scoped>\n",
       "    .dataframe tbody tr th:only-of-type {\n",
       "        vertical-align: middle;\n",
       "    }\n",
       "\n",
       "    .dataframe tbody tr th {\n",
       "        vertical-align: top;\n",
       "    }\n",
       "\n",
       "    .dataframe thead th {\n",
       "        text-align: right;\n",
       "    }\n",
       "</style>\n",
       "<table border=\"1\" class=\"dataframe\">\n",
       "  <thead>\n",
       "    <tr style=\"text-align: right;\">\n",
       "      <th></th>\n",
       "      <th>id</th>\n",
       "      <th>country</th>\n",
       "      <th>ccode</th>\n",
       "      <th>year</th>\n",
       "      <th>region</th>\n",
       "      <th>protest</th>\n",
       "      <th>protestnumber</th>\n",
       "      <th>startday</th>\n",
       "      <th>startmonth</th>\n",
       "      <th>startyear</th>\n",
       "      <th>...</th>\n",
       "      <th>protesterdemand4</th>\n",
       "      <th>stateresponse1</th>\n",
       "      <th>stateresponse2</th>\n",
       "      <th>stateresponse3</th>\n",
       "      <th>stateresponse4</th>\n",
       "      <th>stateresponse5</th>\n",
       "      <th>stateresponse6</th>\n",
       "      <th>stateresponse7</th>\n",
       "      <th>sources</th>\n",
       "      <th>notes</th>\n",
       "    </tr>\n",
       "  </thead>\n",
       "  <tbody>\n",
       "    <tr>\n",
       "      <th>0</th>\n",
       "      <td>201990001</td>\n",
       "      <td>Canada</td>\n",
       "      <td>20</td>\n",
       "      <td>1990</td>\n",
       "      <td>North America</td>\n",
       "      <td>1</td>\n",
       "      <td>1</td>\n",
       "      <td>15.0</td>\n",
       "      <td>1.0</td>\n",
       "      <td>1990.0</td>\n",
       "      <td>...</td>\n",
       "      <td>NaN</td>\n",
       "      <td>ignore</td>\n",
       "      <td>NaN</td>\n",
       "      <td>NaN</td>\n",
       "      <td>NaN</td>\n",
       "      <td>NaN</td>\n",
       "      <td>NaN</td>\n",
       "      <td>NaN</td>\n",
       "      <td>1. great canadian train journeys into history;...</td>\n",
       "      <td>canada s railway passenger system was finally ...</td>\n",
       "    </tr>\n",
       "    <tr>\n",
       "      <th>1</th>\n",
       "      <td>201990002</td>\n",
       "      <td>Canada</td>\n",
       "      <td>20</td>\n",
       "      <td>1990</td>\n",
       "      <td>North America</td>\n",
       "      <td>1</td>\n",
       "      <td>2</td>\n",
       "      <td>25.0</td>\n",
       "      <td>6.0</td>\n",
       "      <td>1990.0</td>\n",
       "      <td>...</td>\n",
       "      <td>NaN</td>\n",
       "      <td>ignore</td>\n",
       "      <td>NaN</td>\n",
       "      <td>NaN</td>\n",
       "      <td>NaN</td>\n",
       "      <td>NaN</td>\n",
       "      <td>NaN</td>\n",
       "      <td>NaN</td>\n",
       "      <td>1. autonomy s cry revived in quebec the new yo...</td>\n",
       "      <td>protestors were only identified as young peopl...</td>\n",
       "    </tr>\n",
       "    <tr>\n",
       "      <th>2</th>\n",
       "      <td>201990003</td>\n",
       "      <td>Canada</td>\n",
       "      <td>20</td>\n",
       "      <td>1990</td>\n",
       "      <td>North America</td>\n",
       "      <td>1</td>\n",
       "      <td>3</td>\n",
       "      <td>1.0</td>\n",
       "      <td>7.0</td>\n",
       "      <td>1990.0</td>\n",
       "      <td>...</td>\n",
       "      <td>NaN</td>\n",
       "      <td>ignore</td>\n",
       "      <td>NaN</td>\n",
       "      <td>NaN</td>\n",
       "      <td>NaN</td>\n",
       "      <td>NaN</td>\n",
       "      <td>NaN</td>\n",
       "      <td>NaN</td>\n",
       "      <td>1. quebec protest after queen calls for unity ...</td>\n",
       "      <td>the queen, after calling on canadians to remai...</td>\n",
       "    </tr>\n",
       "  </tbody>\n",
       "</table>\n",
       "<p>3 rows × 31 columns</p>\n",
       "</div>"
      ],
      "text/plain": [
       "          id country  ccode  year         region  protest  protestnumber  \\\n",
       "0  201990001  Canada     20  1990  North America        1              1   \n",
       "1  201990002  Canada     20  1990  North America        1              2   \n",
       "2  201990003  Canada     20  1990  North America        1              3   \n",
       "\n",
       "   startday  startmonth  startyear  ...  protesterdemand4  stateresponse1  \\\n",
       "0      15.0         1.0     1990.0  ...               NaN          ignore   \n",
       "1      25.0         6.0     1990.0  ...               NaN          ignore   \n",
       "2       1.0         7.0     1990.0  ...               NaN          ignore   \n",
       "\n",
       "   stateresponse2  stateresponse3 stateresponse4 stateresponse5  \\\n",
       "0             NaN             NaN            NaN            NaN   \n",
       "1             NaN             NaN            NaN            NaN   \n",
       "2             NaN             NaN            NaN            NaN   \n",
       "\n",
       "  stateresponse6 stateresponse7  \\\n",
       "0            NaN            NaN   \n",
       "1            NaN            NaN   \n",
       "2            NaN            NaN   \n",
       "\n",
       "                                             sources  \\\n",
       "0  1. great canadian train journeys into history;...   \n",
       "1  1. autonomy s cry revived in quebec the new yo...   \n",
       "2  1. quebec protest after queen calls for unity ...   \n",
       "\n",
       "                                               notes  \n",
       "0  canada s railway passenger system was finally ...  \n",
       "1  protestors were only identified as young peopl...  \n",
       "2  the queen, after calling on canadians to remai...  \n",
       "\n",
       "[3 rows x 31 columns]"
      ]
     },
     "execution_count": 216,
     "metadata": {},
     "output_type": "execute_result"
    }
   ],
   "source": [
    "mass.head(3)"
   ]
  },
  {
   "cell_type": "code",
   "execution_count": 217,
   "metadata": {},
   "outputs": [
    {
     "data": {
      "text/plain": [
       "(15239, 31)"
      ]
     },
     "execution_count": 217,
     "metadata": {},
     "output_type": "execute_result"
    }
   ],
   "source": [
    "mass = mass[mass['protest'] == 1]\n",
    "mass.shape"
   ]
  },
  {
   "cell_type": "code",
   "execution_count": 218,
   "metadata": {},
   "outputs": [
    {
     "data": {
      "text/html": [
       "<div>\n",
       "<style scoped>\n",
       "    .dataframe tbody tr th:only-of-type {\n",
       "        vertical-align: middle;\n",
       "    }\n",
       "\n",
       "    .dataframe tbody tr th {\n",
       "        vertical-align: top;\n",
       "    }\n",
       "\n",
       "    .dataframe thead th {\n",
       "        text-align: right;\n",
       "    }\n",
       "</style>\n",
       "<table border=\"1\" class=\"dataframe\">\n",
       "  <thead>\n",
       "    <tr style=\"text-align: right;\">\n",
       "      <th></th>\n",
       "      <th>LocID</th>\n",
       "      <th>Location</th>\n",
       "      <th>VarID</th>\n",
       "      <th>Variant</th>\n",
       "      <th>Time</th>\n",
       "      <th>MidPeriod</th>\n",
       "      <th>PopMale</th>\n",
       "      <th>PopFemale</th>\n",
       "      <th>PopTotal</th>\n",
       "      <th>PopDensity</th>\n",
       "    </tr>\n",
       "  </thead>\n",
       "  <tbody>\n",
       "    <tr>\n",
       "      <th>0</th>\n",
       "      <td>4</td>\n",
       "      <td>Afghanistan</td>\n",
       "      <td>2</td>\n",
       "      <td>Medium</td>\n",
       "      <td>1950</td>\n",
       "      <td>1950.5</td>\n",
       "      <td>4099.243</td>\n",
       "      <td>3652.874</td>\n",
       "      <td>7752.117</td>\n",
       "      <td>11.874</td>\n",
       "    </tr>\n",
       "    <tr>\n",
       "      <th>1</th>\n",
       "      <td>4</td>\n",
       "      <td>Afghanistan</td>\n",
       "      <td>2</td>\n",
       "      <td>Medium</td>\n",
       "      <td>1951</td>\n",
       "      <td>1951.5</td>\n",
       "      <td>4134.756</td>\n",
       "      <td>3705.395</td>\n",
       "      <td>7840.151</td>\n",
       "      <td>12.009</td>\n",
       "    </tr>\n",
       "    <tr>\n",
       "      <th>2</th>\n",
       "      <td>4</td>\n",
       "      <td>Afghanistan</td>\n",
       "      <td>2</td>\n",
       "      <td>Medium</td>\n",
       "      <td>1952</td>\n",
       "      <td>1952.5</td>\n",
       "      <td>4174.450</td>\n",
       "      <td>3761.546</td>\n",
       "      <td>7935.996</td>\n",
       "      <td>12.156</td>\n",
       "    </tr>\n",
       "  </tbody>\n",
       "</table>\n",
       "</div>"
      ],
      "text/plain": [
       "   LocID     Location  VarID Variant  Time  MidPeriod   PopMale  PopFemale  \\\n",
       "0      4  Afghanistan      2  Medium  1950     1950.5  4099.243   3652.874   \n",
       "1      4  Afghanistan      2  Medium  1951     1951.5  4134.756   3705.395   \n",
       "2      4  Afghanistan      2  Medium  1952     1952.5  4174.450   3761.546   \n",
       "\n",
       "   PopTotal  PopDensity  \n",
       "0  7752.117      11.874  \n",
       "1  7840.151      12.009  \n",
       "2  7935.996      12.156  "
      ]
     },
     "execution_count": 218,
     "metadata": {},
     "output_type": "execute_result"
    }
   ],
   "source": [
    "all_population_df = pd.read_csv('../data/WPP2019_TotalPopulationBySex.csv')\n",
    "all_population_df.head(3)\n"
   ]
  },
  {
   "cell_type": "markdown",
   "metadata": {},
   "source": [
    "The United Nations global population estimate data contains several projection models based on Fertility, Mortality, etc.\n",
    "For our purposes, we will use the Medium variant.\n",
    "\n",
    "From the [U.N. web site:](https://population.un.org/wpp/DefinitionOfProjectionVariants/)\n",
    "\n",
    ">Medium-variant projection: in projecting future levels of fertility and mortality, probabilistic methods were used to reflect the uncertainty of the projections based on the historical variability of changes in each variable. The method takes into account the past experience of each country, while also reflecting uncertainty about future changes based on the past experience of other countries under similar conditions.  The medium-variant projection corresponds to the median of several thousand distinct trajectories of each demographic component derived using the probabilistic model of the variability in changes over time. "
   ]
  },
  {
   "cell_type": "code",
   "execution_count": 219,
   "metadata": {},
   "outputs": [
    {
     "data": {
      "text/html": [
       "<div>\n",
       "<style scoped>\n",
       "    .dataframe tbody tr th:only-of-type {\n",
       "        vertical-align: middle;\n",
       "    }\n",
       "\n",
       "    .dataframe tbody tr th {\n",
       "        vertical-align: top;\n",
       "    }\n",
       "\n",
       "    .dataframe thead th {\n",
       "        text-align: right;\n",
       "    }\n",
       "</style>\n",
       "<table border=\"1\" class=\"dataframe\">\n",
       "  <thead>\n",
       "    <tr style=\"text-align: right;\">\n",
       "      <th></th>\n",
       "      <th>country</th>\n",
       "      <th>year</th>\n",
       "      <th>PopMale</th>\n",
       "      <th>PopFemale</th>\n",
       "      <th>PopTotal</th>\n",
       "      <th>PopDensity</th>\n",
       "    </tr>\n",
       "  </thead>\n",
       "  <tbody>\n",
       "    <tr>\n",
       "      <th>0</th>\n",
       "      <td>Afghanistan</td>\n",
       "      <td>1950</td>\n",
       "      <td>4099.243</td>\n",
       "      <td>3652.874</td>\n",
       "      <td>7752.117</td>\n",
       "      <td>11.874</td>\n",
       "    </tr>\n",
       "    <tr>\n",
       "      <th>1</th>\n",
       "      <td>Afghanistan</td>\n",
       "      <td>1951</td>\n",
       "      <td>4134.756</td>\n",
       "      <td>3705.395</td>\n",
       "      <td>7840.151</td>\n",
       "      <td>12.009</td>\n",
       "    </tr>\n",
       "    <tr>\n",
       "      <th>2</th>\n",
       "      <td>Afghanistan</td>\n",
       "      <td>1952</td>\n",
       "      <td>4174.450</td>\n",
       "      <td>3761.546</td>\n",
       "      <td>7935.996</td>\n",
       "      <td>12.156</td>\n",
       "    </tr>\n",
       "    <tr>\n",
       "      <th>3</th>\n",
       "      <td>Afghanistan</td>\n",
       "      <td>1953</td>\n",
       "      <td>4218.336</td>\n",
       "      <td>3821.348</td>\n",
       "      <td>8039.684</td>\n",
       "      <td>12.315</td>\n",
       "    </tr>\n",
       "    <tr>\n",
       "      <th>4</th>\n",
       "      <td>Afghanistan</td>\n",
       "      <td>1954</td>\n",
       "      <td>4266.484</td>\n",
       "      <td>3884.832</td>\n",
       "      <td>8151.316</td>\n",
       "      <td>12.486</td>\n",
       "    </tr>\n",
       "  </tbody>\n",
       "</table>\n",
       "</div>"
      ],
      "text/plain": [
       "       country  year   PopMale  PopFemale  PopTotal  PopDensity\n",
       "0  Afghanistan  1950  4099.243   3652.874  7752.117      11.874\n",
       "1  Afghanistan  1951  4134.756   3705.395  7840.151      12.009\n",
       "2  Afghanistan  1952  4174.450   3761.546  7935.996      12.156\n",
       "3  Afghanistan  1953  4218.336   3821.348  8039.684      12.315\n",
       "4  Afghanistan  1954  4266.484   3884.832  8151.316      12.486"
      ]
     },
     "execution_count": 219,
     "metadata": {},
     "output_type": "execute_result"
    }
   ],
   "source": [
    "pop_df = all_population_df[all_population_df['Variant']=='Medium'].copy()\n",
    "\n",
    "#Drop Variant column since all rows are now 'Medium' variant. VarID is a numeric code for the variant. Also unnecessary\n",
    "# Drop LocID (numeric): numeric code for the location - not used in any of our purposes.\n",
    "# Drop MidPeriod - not used in any of our analysis\n",
    "pop_df.drop(columns=['LocID','Variant', 'VarID','MidPeriod'], inplace=True)\n",
    "pop_df.rename(columns = {'Location':'country', 'Time':'year'}, inplace = True) \n",
    "pop_df.head()"
   ]
  },
  {
   "cell_type": "markdown",
   "metadata": {},
   "source": [
    "Calculate a list of all country names that might be in the Mass protest dataframe, but do not have an exact match in the global population data."
   ]
  },
  {
   "cell_type": "code",
   "execution_count": 220,
   "metadata": {},
   "outputs": [
    {
     "data": {
      "text/plain": [
       "30"
      ]
     },
     "execution_count": 220,
     "metadata": {},
     "output_type": "execute_result"
    }
   ],
   "source": [
    "global_pop_countries = sorted(set(list(pop_df['country'])))\n",
    "mass_countries = sorted(set(list(mass['country'].value_counts().index)))\n",
    "\n",
    "mass_not_global_pop = []\n",
    "\n",
    "for country in mass_countries:\n",
    "    if country not in global_pop_countries:\n",
    "        mass_not_global_pop.append(country)\n",
    "        \n",
    "len(mass_not_global_pop)"
   ]
  },
  {
   "cell_type": "code",
   "execution_count": 221,
   "metadata": {},
   "outputs": [
    {
     "data": {
      "text/plain": [
       "['Bolivia',\n",
       " 'Bosnia',\n",
       " 'Cape Verde',\n",
       " 'Congo Brazzaville',\n",
       " 'Congo Kinshasa',\n",
       " 'Czech Republic',\n",
       " 'Czechoslovakia',\n",
       " 'Germany East',\n",
       " 'Germany West',\n",
       " 'Iran',\n",
       " 'Ivory Coast',\n",
       " 'Kosovo',\n",
       " 'Laos',\n",
       " 'Macedonia',\n",
       " 'Moldova',\n",
       " 'North Korea',\n",
       " 'Russia',\n",
       " 'Serbia and Montenegro',\n",
       " 'Slovak Republic',\n",
       " 'South Korea',\n",
       " 'Swaziland',\n",
       " 'Syria',\n",
       " 'Taiwan',\n",
       " 'Tanzania',\n",
       " 'Timor Leste',\n",
       " 'USSR',\n",
       " 'United Arab Emirate',\n",
       " 'Venezuela',\n",
       " 'Vietnam',\n",
       " 'Yugoslavia']"
      ]
     },
     "execution_count": 221,
     "metadata": {},
     "output_type": "execute_result"
    }
   ],
   "source": [
    "mass_not_global_pop"
   ]
  },
  {
   "cell_type": "code",
   "execution_count": 222,
   "metadata": {},
   "outputs": [],
   "source": [
    "#global_pop_countries"
   ]
  },
  {
   "cell_type": "markdown",
   "metadata": {},
   "source": [
    "30 countries are labeled differently in the Mass Protest dataframe.\n",
    "\n",
    "Update every row in the global population dataframe to have a matching label.\n",
    "\n",
    "Then create a function to loop through every row in the Mass dataframe and insert it's population information for the corresponding year."
   ]
  },
  {
   "cell_type": "markdown",
   "metadata": {},
   "source": [
    "---\n",
    "Rename 'Bolivia (Plurinational State of)' in Global Population to **'Bolivia'**"
   ]
  },
  {
   "cell_type": "code",
   "execution_count": 223,
   "metadata": {},
   "outputs": [],
   "source": [
    "pop_df.loc[pop_df['country'] == 'Bolivia (Plurinational State of)' , 'country'] = 'Bolivia'\n",
    "\n",
    "#Population data also exists for Bolivarian Alliance for the Americas (ALBA), but just ignore. \n",
    "#This is an alliance of 10 countries, not the country of Bolivia"
   ]
  },
  {
   "cell_type": "markdown",
   "metadata": {},
   "source": [
    "Rename Bosnia and Herzegovina to just **Bosnia** to match mass protest dataframe."
   ]
  },
  {
   "cell_type": "code",
   "execution_count": 224,
   "metadata": {},
   "outputs": [],
   "source": [
    "pop_df.loc[pop_df['country'] == 'Bosnia and Herzegovina' , 'country'] = 'Bosnia'"
   ]
  },
  {
   "cell_type": "markdown",
   "metadata": {},
   "source": [
    "**Cape Verde** is also known as Cabo Verde. The mass dataframe contains Cape Verde. Rename population dataframe values."
   ]
  },
  {
   "cell_type": "code",
   "execution_count": 225,
   "metadata": {},
   "outputs": [],
   "source": [
    "pop_df.loc[pop_df['country'] == 'Cabo Verde' , 'country'] = 'Cape Verde'"
   ]
  },
  {
   "cell_type": "markdown",
   "metadata": {},
   "source": [
    "#### Congo values:\n",
    "Mass protest dataframe contains both:\n",
    "* Congo Brazzaville\n",
    "* Congo Kinshasa\n",
    "\n",
    "The Global Population data contains values for:\n",
    "* Congo\n",
    "* Democratic Republic of the Congo\n",
    "\n",
    "Since Kinshasa is the capital of the Democratic Republic of the Congo, rename the Global Population label as Congo Kinshasa.\n",
    "\n",
    "Brazzaville is the capital of the Republic of the Congo, so rename the Global Population label to Congo Brazzaville"
   ]
  },
  {
   "cell_type": "code",
   "execution_count": 226,
   "metadata": {},
   "outputs": [],
   "source": [
    "pop_df.loc[pop_df['country'] == 'Congo' , 'country'] = 'Congo Brazzaville'\n",
    "                \n",
    "pop_df['country'] = pop_df['country'].str.replace('Democratic Republic of the Congo', 'Congo Kinshasa')"
   ]
  },
  {
   "cell_type": "markdown",
   "metadata": {},
   "source": [
    "**Germany**\n",
    "\n",
    "Create population data for East and West Germany in 1990.\n",
    "\n",
    "The mass protest dataset contains several rows for East and West Germany in 1990, before unifying later that same year.  Unfortunately the U.N. population data only pertains to a unified Germany.\n",
    "\n",
    "East Germany's [wikipedia page](https://en.wikipedia.org/wiki/East_Germany) provides some necessary data, but we have to estimate the male/female breakdown.  Use 1990 ratios for Germany as a guideline.\n",
    "\n",
    "Data for West Germany's population in 1990 found on [Wikipedia](https://en.wikipedia.org/wiki/West_Germany)"
   ]
  },
  {
   "cell_type": "code",
   "execution_count": 227,
   "metadata": {},
   "outputs": [
    {
     "data": {
      "text/html": [
       "<div>\n",
       "<style scoped>\n",
       "    .dataframe tbody tr th:only-of-type {\n",
       "        vertical-align: middle;\n",
       "    }\n",
       "\n",
       "    .dataframe tbody tr th {\n",
       "        vertical-align: top;\n",
       "    }\n",
       "\n",
       "    .dataframe thead th {\n",
       "        text-align: right;\n",
       "    }\n",
       "</style>\n",
       "<table border=\"1\" class=\"dataframe\">\n",
       "  <thead>\n",
       "    <tr style=\"text-align: right;\">\n",
       "      <th></th>\n",
       "      <th>country</th>\n",
       "      <th>year</th>\n",
       "      <th>PopMale</th>\n",
       "      <th>PopFemale</th>\n",
       "      <th>PopTotal</th>\n",
       "      <th>PopDensity</th>\n",
       "    </tr>\n",
       "  </thead>\n",
       "  <tbody>\n",
       "    <tr>\n",
       "      <th>99098</th>\n",
       "      <td>Germany</td>\n",
       "      <td>1990</td>\n",
       "      <td>38145.562</td>\n",
       "      <td>40908.422</td>\n",
       "      <td>79053.984</td>\n",
       "      <td>226.802</td>\n",
       "    </tr>\n",
       "  </tbody>\n",
       "</table>\n",
       "</div>"
      ],
      "text/plain": [
       "       country  year    PopMale  PopFemale   PopTotal  PopDensity\n",
       "99098  Germany  1990  38145.562  40908.422  79053.984     226.802"
      ]
     },
     "execution_count": 227,
     "metadata": {},
     "output_type": "execute_result"
    }
   ],
   "source": [
    "pop_df[(pop_df['country']=='Germany') & (pop_df['year']==1990)]"
   ]
  },
  {
   "cell_type": "markdown",
   "metadata": {},
   "source": [
    "U.N. Population values are in thousands, convert East Germany's population in 1990 of 16,111,000 to 16111 for our dataset.\n",
    "\n",
    "West Germany's 1990 population of 63,254,000 becomes 63254"
   ]
  },
  {
   "cell_type": "code",
   "execution_count": 228,
   "metadata": {},
   "outputs": [
    {
     "data": {
      "text/html": [
       "<div>\n",
       "<style scoped>\n",
       "    .dataframe tbody tr th:only-of-type {\n",
       "        vertical-align: middle;\n",
       "    }\n",
       "\n",
       "    .dataframe tbody tr th {\n",
       "        vertical-align: top;\n",
       "    }\n",
       "\n",
       "    .dataframe thead th {\n",
       "        text-align: right;\n",
       "    }\n",
       "</style>\n",
       "<table border=\"1\" class=\"dataframe\">\n",
       "  <thead>\n",
       "    <tr style=\"text-align: right;\">\n",
       "      <th></th>\n",
       "      <th>country</th>\n",
       "      <th>year</th>\n",
       "      <th>PopMale</th>\n",
       "      <th>PopFemale</th>\n",
       "      <th>PopTotal</th>\n",
       "      <th>PopDensity</th>\n",
       "    </tr>\n",
       "  </thead>\n",
       "  <tbody>\n",
       "    <tr>\n",
       "      <th>72026</th>\n",
       "      <td>Zimbabwe</td>\n",
       "      <td>2100</td>\n",
       "      <td>15001.252000</td>\n",
       "      <td>15964.169000</td>\n",
       "      <td>30965.421</td>\n",
       "      <td>80.045</td>\n",
       "    </tr>\n",
       "    <tr>\n",
       "      <th>72027</th>\n",
       "      <td>Germany East</td>\n",
       "      <td>1990</td>\n",
       "      <td>7773.968095</td>\n",
       "      <td>8337.031905</td>\n",
       "      <td>16111.000</td>\n",
       "      <td>149.000</td>\n",
       "    </tr>\n",
       "    <tr>\n",
       "      <th>72028</th>\n",
       "      <td>Germany West</td>\n",
       "      <td>1990</td>\n",
       "      <td>30521.667052</td>\n",
       "      <td>32732.332948</td>\n",
       "      <td>63254.000</td>\n",
       "      <td>254.000</td>\n",
       "    </tr>\n",
       "  </tbody>\n",
       "</table>\n",
       "</div>"
      ],
      "text/plain": [
       "            country  year       PopMale     PopFemale   PopTotal  PopDensity\n",
       "72026      Zimbabwe  2100  15001.252000  15964.169000  30965.421      80.045\n",
       "72027  Germany East  1990   7773.968095   8337.031905  16111.000     149.000\n",
       "72028  Germany West  1990  30521.667052  32732.332948  63254.000     254.000"
      ]
     },
     "execution_count": 228,
     "metadata": {},
     "output_type": "execute_result"
    }
   ],
   "source": [
    "germany_1990_total_pop = pop_df[(pop_df['country']=='Germany') & (pop_df['year']==1990)]['PopTotal'].item()\n",
    "germany_1990_male_pop = pop_df[(pop_df['country']=='Germany') & (pop_df['year']==1990)]['PopMale'].item()\n",
    "\n",
    "# Assume the male/female ratio is the same for East Germany and West Germany in 1990, which might not be the case.  \n",
    "# Unable this specific data.\n",
    "germany_1990_male_ratio = germany_1990_male_pop / germany_1990_total_pop\n",
    "\n",
    "east_germany_1990_total_pop = 16111  # Per Wikipedia\n",
    "east_germany_1990_male_pop = east_germany_1990_total_pop * germany_1990_male_ratio\n",
    "east_germany_1990_female_pop = east_germany_1990_total_pop * (1 - germany_1990_male_ratio)\n",
    "east_germany_1990_pop_density = 149  # Per Wikipedia, in /km^2\n",
    "\n",
    "west_germany_1990_total_pop = 63254  # Per Wikipedia\n",
    "west_germany_1990_male_pop = west_germany_1990_total_pop * germany_1990_male_ratio\n",
    "west_germany_1990_female_pop = west_germany_1990_total_pop * (1 - germany_1990_male_ratio)\n",
    "west_germany_1990_pop_density = 254  # Per Wikipedia, in /km^2\n",
    "\n",
    "# Create row for East Germany\n",
    "east_germany_row = {'country':'Germany East', 'year':1990, 'PopMale':east_germany_1990_male_pop,\n",
    "           'PopFemale':east_germany_1990_female_pop, 'PopTotal':east_germany_1990_total_pop,\n",
    "          'PopDensity':east_germany_1990_pop_density}\n",
    "\n",
    "# Create row for West Germany\n",
    "west_germany_row = {'country':'Germany West', 'year':1990, 'PopMale':west_germany_1990_male_pop,\n",
    "           'PopFemale':west_germany_1990_female_pop, 'PopTotal':west_germany_1990_total_pop,\n",
    "          'PopDensity':west_germany_1990_pop_density}\n",
    "\n",
    "\n",
    "#append row to the dataframe\n",
    "pop_df = pop_df.append(east_germany_row, ignore_index=True)\n",
    "pop_df = pop_df.append(west_germany_row, ignore_index=True)\n",
    "pop_df.tail(3)"
   ]
  },
  {
   "cell_type": "markdown",
   "metadata": {},
   "source": [
    "Mass protest data uses the common name **Iran**, while U.N. population uses 'Iran (Islamic Republic of)'"
   ]
  },
  {
   "cell_type": "code",
   "execution_count": 229,
   "metadata": {},
   "outputs": [],
   "source": [
    "pop_df.loc[pop_df['country'] == 'Iran (Islamic Republic of)', 'country'] = 'Iran'"
   ]
  },
  {
   "cell_type": "markdown",
   "metadata": {},
   "source": [
    "**Ivory Coast** is identified as Côte d'Ivoire in the U.N. population data set. Rename to merge correctly with the mass protest dataframe."
   ]
  },
  {
   "cell_type": "code",
   "execution_count": 230,
   "metadata": {},
   "outputs": [],
   "source": [
    "pop_df.loc[pop_df['country'] == \"Côte d'Ivoire\", 'country'] = 'Ivory Coast'"
   ]
  },
  {
   "cell_type": "markdown",
   "metadata": {},
   "source": [
    "**Kosovo** is in Mass protest data but has no U.N population data.\n",
    "\n",
    "Independence of Kosovo is disputed, but it declared independence from Serbia's in 2008.\n",
    "\n",
    "https://en.wikipedia.org/wiki/International_recognition_of_Kosovo\n",
    "\n",
    "Assign Serbia's Population data."
   ]
  },
  {
   "cell_type": "code",
   "execution_count": 231,
   "metadata": {},
   "outputs": [],
   "source": [
    "serbia_rows_indices = pop_df.loc[pop_df['country'] == \"Serbia\"].index\n",
    "\n",
    "# Loop through each row for Serbia, and create a new identical row, but for country of Kosovo\n",
    "for row_index in serbia_rows_indices:\n",
    "    # Convert each row in the U.N. population dataframe as a dictionary. \n",
    "    row_as_dict = pop_df.iloc[row_index].to_dict()\n",
    "    # Replace country name from Serbia to Kosovo\n",
    "    row_as_dict['country'] = 'Kosovo'\n",
    "    \n",
    "    #print (row_as_dict)\n",
    "    # append new row.\n",
    "    pop_df = pop_df.append(row_as_dict, ignore_index=True)"
   ]
  },
  {
   "cell_type": "code",
   "execution_count": 232,
   "metadata": {},
   "outputs": [
    {
     "name": "stdout",
     "output_type": "stream",
     "text": [
      "There are 151 rows for Serbia.\n",
      "There are 151 rows for Kosovo.\n"
     ]
    }
   ],
   "source": [
    "print (f'There are {pop_df.loc[pop_df[\"country\"] == \"Serbia\"].shape[0]} rows for Serbia.')\n",
    "print (f'There are {pop_df.loc[pop_df[\"country\"] == \"Kosovo\"].shape[0]} rows for Kosovo.')"
   ]
  },
  {
   "cell_type": "markdown",
   "metadata": {},
   "source": [
    "**Laos** is identified as Lao People's Democratic Republic in the U.N. population data set. Rename to merge correctly with the mass protest dataframe."
   ]
  },
  {
   "cell_type": "code",
   "execution_count": 233,
   "metadata": {},
   "outputs": [],
   "source": [
    "pop_df.loc[pop_df['country'] == \"Lao People's Democratic Republic\", 'country'] = 'Laos'"
   ]
  },
  {
   "cell_type": "markdown",
   "metadata": {},
   "source": [
    "**North Macedonia** was known as Macedonia until February 2019.  Rename North Macedonia in U.N. population to Macedonia to match with mass protest dataframe.\n",
    "https://en.wikipedia.org/wiki/North_Macedonia"
   ]
  },
  {
   "cell_type": "code",
   "execution_count": 234,
   "metadata": {},
   "outputs": [],
   "source": [
    "pop_df.loc[pop_df['country'] == 'North Macedonia', 'country'] = 'Macedonia'"
   ]
  },
  {
   "cell_type": "markdown",
   "metadata": {},
   "source": [
    "**Moldova** is identified as Republic of Moldova in the U.N. population data set. Rename to merge correctly with the mass protest dataframe."
   ]
  },
  {
   "cell_type": "code",
   "execution_count": 235,
   "metadata": {},
   "outputs": [],
   "source": [
    "pop_df.loc[pop_df['country'] == 'Republic of Moldova', 'country'] = 'Moldova'"
   ]
  },
  {
   "cell_type": "markdown",
   "metadata": {},
   "source": [
    "**North Korea** is identified as Dem. People's Republic of Korea in the U.N. population data set. Rename to merge correctly with the mass protest dataframe."
   ]
  },
  {
   "cell_type": "code",
   "execution_count": 236,
   "metadata": {},
   "outputs": [],
   "source": [
    "pop_df.loc[pop_df['country'] == \"Dem. People's Republic of Korea\", 'country'] = 'North Korea'"
   ]
  },
  {
   "cell_type": "markdown",
   "metadata": {},
   "source": [
    "**Russia** is identified as Russian Federation in the U.N. population data set. Rename to merge correctly with the mass protest dataframe."
   ]
  },
  {
   "cell_type": "code",
   "execution_count": 237,
   "metadata": {},
   "outputs": [],
   "source": [
    "pop_df.loc[pop_df['country'] == 'Russian Federation', 'country'] = 'Russia'"
   ]
  },
  {
   "cell_type": "markdown",
   "metadata": {},
   "source": [
    "Serbia and Montenegro only existed 2003-2006.  It has two protests, both of which were in 2003.\n",
    "\n",
    "Unfortunately, the U.N. population data contains separate rows for Serbia and Montenegro.\n",
    "\n",
    "We can add the populations together, and create an average of the population density."
   ]
  },
  {
   "cell_type": "code",
   "execution_count": 238,
   "metadata": {},
   "outputs": [
    {
     "data": {
      "text/html": [
       "<div>\n",
       "<style scoped>\n",
       "    .dataframe tbody tr th:only-of-type {\n",
       "        vertical-align: middle;\n",
       "    }\n",
       "\n",
       "    .dataframe tbody tr th {\n",
       "        vertical-align: top;\n",
       "    }\n",
       "\n",
       "    .dataframe thead th {\n",
       "        text-align: right;\n",
       "    }\n",
       "</style>\n",
       "<table border=\"1\" class=\"dataframe\">\n",
       "  <thead>\n",
       "    <tr style=\"text-align: right;\">\n",
       "      <th></th>\n",
       "      <th>country</th>\n",
       "      <th>year</th>\n",
       "      <th>PopMale</th>\n",
       "      <th>PopFemale</th>\n",
       "      <th>PopTotal</th>\n",
       "      <th>PopDensity</th>\n",
       "    </tr>\n",
       "  </thead>\n",
       "  <tbody>\n",
       "    <tr>\n",
       "      <th>54413</th>\n",
       "      <td>Serbia</td>\n",
       "      <td>2003</td>\n",
       "      <td>4551.672</td>\n",
       "      <td>4740.56</td>\n",
       "      <td>9292.232</td>\n",
       "      <td>106.246</td>\n",
       "    </tr>\n",
       "  </tbody>\n",
       "</table>\n",
       "</div>"
      ],
      "text/plain": [
       "      country  year   PopMale  PopFemale  PopTotal  PopDensity\n",
       "54413  Serbia  2003  4551.672    4740.56  9292.232     106.246"
      ]
     },
     "execution_count": 238,
     "metadata": {},
     "output_type": "execute_result"
    }
   ],
   "source": [
    "pop_df[(pop_df['country']=='Serbia') & (pop_df['year']==2003)]"
   ]
  },
  {
   "cell_type": "code",
   "execution_count": 239,
   "metadata": {},
   "outputs": [
    {
     "data": {
      "text/html": [
       "<div>\n",
       "<style scoped>\n",
       "    .dataframe tbody tr th:only-of-type {\n",
       "        vertical-align: middle;\n",
       "    }\n",
       "\n",
       "    .dataframe tbody tr th {\n",
       "        vertical-align: top;\n",
       "    }\n",
       "\n",
       "    .dataframe thead th {\n",
       "        text-align: right;\n",
       "    }\n",
       "</style>\n",
       "<table border=\"1\" class=\"dataframe\">\n",
       "  <thead>\n",
       "    <tr style=\"text-align: right;\">\n",
       "      <th></th>\n",
       "      <th>country</th>\n",
       "      <th>year</th>\n",
       "      <th>PopMale</th>\n",
       "      <th>PopFemale</th>\n",
       "      <th>PopTotal</th>\n",
       "      <th>PopDensity</th>\n",
       "    </tr>\n",
       "  </thead>\n",
       "  <tbody>\n",
       "    <tr>\n",
       "      <th>42937</th>\n",
       "      <td>Montenegro</td>\n",
       "      <td>2003</td>\n",
       "      <td>302.621</td>\n",
       "      <td>311.46</td>\n",
       "      <td>614.081</td>\n",
       "      <td>45.657</td>\n",
       "    </tr>\n",
       "  </tbody>\n",
       "</table>\n",
       "</div>"
      ],
      "text/plain": [
       "          country  year  PopMale  PopFemale  PopTotal  PopDensity\n",
       "42937  Montenegro  2003  302.621     311.46   614.081      45.657"
      ]
     },
     "execution_count": 239,
     "metadata": {},
     "output_type": "execute_result"
    }
   ],
   "source": [
    "pop_df[(pop_df['country']=='Montenegro') & (pop_df['year']==2003)]"
   ]
  },
  {
   "cell_type": "code",
   "execution_count": 240,
   "metadata": {},
   "outputs": [
    {
     "data": {
      "text/html": [
       "<div>\n",
       "<style scoped>\n",
       "    .dataframe tbody tr th:only-of-type {\n",
       "        vertical-align: middle;\n",
       "    }\n",
       "\n",
       "    .dataframe tbody tr th {\n",
       "        vertical-align: top;\n",
       "    }\n",
       "\n",
       "    .dataframe thead th {\n",
       "        text-align: right;\n",
       "    }\n",
       "</style>\n",
       "<table border=\"1\" class=\"dataframe\">\n",
       "  <thead>\n",
       "    <tr style=\"text-align: right;\">\n",
       "      <th></th>\n",
       "      <th>country</th>\n",
       "      <th>year</th>\n",
       "      <th>PopMale</th>\n",
       "      <th>PopFemale</th>\n",
       "      <th>PopTotal</th>\n",
       "      <th>PopDensity</th>\n",
       "    </tr>\n",
       "  </thead>\n",
       "  <tbody>\n",
       "    <tr>\n",
       "      <th>72178</th>\n",
       "      <td>Kosovo</td>\n",
       "      <td>2099</td>\n",
       "      <td>2152.607</td>\n",
       "      <td>2111.586</td>\n",
       "      <td>4264.193</td>\n",
       "      <td>48.7560</td>\n",
       "    </tr>\n",
       "    <tr>\n",
       "      <th>72179</th>\n",
       "      <td>Kosovo</td>\n",
       "      <td>2100</td>\n",
       "      <td>2129.297</td>\n",
       "      <td>2088.128</td>\n",
       "      <td>4217.425</td>\n",
       "      <td>48.2210</td>\n",
       "    </tr>\n",
       "    <tr>\n",
       "      <th>72180</th>\n",
       "      <td>Serbia and Montenegro</td>\n",
       "      <td>2003</td>\n",
       "      <td>4854.293</td>\n",
       "      <td>5052.020</td>\n",
       "      <td>9906.313</td>\n",
       "      <td>75.9515</td>\n",
       "    </tr>\n",
       "  </tbody>\n",
       "</table>\n",
       "</div>"
      ],
      "text/plain": [
       "                     country  year   PopMale  PopFemale  PopTotal  PopDensity\n",
       "72178                 Kosovo  2099  2152.607   2111.586  4264.193     48.7560\n",
       "72179                 Kosovo  2100  2129.297   2088.128  4217.425     48.2210\n",
       "72180  Serbia and Montenegro  2003  4854.293   5052.020  9906.313     75.9515"
      ]
     },
     "execution_count": 240,
     "metadata": {},
     "output_type": "execute_result"
    }
   ],
   "source": [
    "# Add the populations together\n",
    "serbia_2003_total_pop = pop_df[(pop_df['country']=='Serbia') & (pop_df['year']==2003)]['PopTotal'].item()\n",
    "serbia_2003_male_pop = pop_df[(pop_df['country']=='Serbia') & (pop_df['year']==2003)]['PopMale'].item()\n",
    "serbia_2003_female_pop = pop_df[(pop_df['country']=='Serbia') & (pop_df['year']==2003)]['PopFemale'].item()\n",
    "serbia_2003_pop_density = pop_df[(pop_df['country']=='Serbia') & (pop_df['year']==2003)]['PopDensity'].item()\n",
    "\n",
    "mont_2003_total_pop = pop_df[(pop_df['country']=='Montenegro') & (pop_df['year']==2003)]['PopTotal'].item()\n",
    "mont_2003_male_pop = pop_df[(pop_df['country']=='Montenegro') & (pop_df['year']==2003)]['PopMale'].item()\n",
    "mont_2003_female_pop = pop_df[(pop_df['country']=='Montenegro') & (pop_df['year']==2003)]['PopFemale'].item()\n",
    "mont_2003_pop_density = pop_df[(pop_df['country']=='Montenegro') & (pop_df['year']==2003)]['PopDensity'].item()\n",
    "\n",
    "# Create an average of the population density of the two countries.\n",
    "serb_mont_avg_pop_density = (serbia_2003_pop_density + mont_2003_pop_density) / 2\n",
    "\n",
    "# Create row for Serbia and Montenegro\n",
    "serbia_mont_row = {'country':'Serbia and Montenegro', 'year':2003,\n",
    "                    'PopMale': serbia_2003_male_pop + mont_2003_male_pop,\n",
    "                    'PopFemale': serbia_2003_female_pop + mont_2003_female_pop,\n",
    "                    'PopTotal': serbia_2003_total_pop + mont_2003_total_pop,\n",
    "                    'PopDensity': serb_mont_avg_pop_density}\n",
    "\n",
    "\n",
    "#append row to the dataframe\n",
    "pop_df = pop_df.append(serbia_mont_row, ignore_index=True)\n",
    "pop_df.tail(3)"
   ]
  },
  {
   "cell_type": "markdown",
   "metadata": {},
   "source": [
    "**Slovak Republic** is identified as Slovakia in the U.N. population data set. Rename to merge correctly with the mass protest dataframe."
   ]
  },
  {
   "cell_type": "code",
   "execution_count": 241,
   "metadata": {},
   "outputs": [],
   "source": [
    "pop_df.loc[pop_df['country'] == 'Slovakia', 'country'] = 'Slovak Republic'"
   ]
  },
  {
   "cell_type": "markdown",
   "metadata": {},
   "source": [
    "**South Korea** is identified as Republic of Korea in the U.N. population data set. Rename to merge correctly with the mass protest dataframe."
   ]
  },
  {
   "cell_type": "code",
   "execution_count": 242,
   "metadata": {},
   "outputs": [],
   "source": [
    "pop_df.loc[pop_df['country'] == 'Republic of Korea', 'country'] = 'South Korea'"
   ]
  },
  {
   "cell_type": "markdown",
   "metadata": {},
   "source": [
    "**Swaziland** is identified as Eswatini in the U.N. population data set. Rename to merge correctly with the mass protest dataframe."
   ]
  },
  {
   "cell_type": "code",
   "execution_count": 243,
   "metadata": {},
   "outputs": [],
   "source": [
    "pop_df.loc[pop_df['country'] == 'Eswatini', 'country'] = 'Swaziland'  "
   ]
  },
  {
   "cell_type": "markdown",
   "metadata": {},
   "source": [
    "**Syria** is identified as Syrian Arab Republic in the U.N. population data set. Rename to merge correctly with the mass protest dataframe."
   ]
  },
  {
   "cell_type": "code",
   "execution_count": 244,
   "metadata": {},
   "outputs": [],
   "source": [
    "pop_df.loc[pop_df['country'] == 'Syrian Arab Republic', 'country'] = 'Syria'"
   ]
  },
  {
   "cell_type": "markdown",
   "metadata": {},
   "source": [
    "**Taiwan** is identified as China, Taiwan Province of China in the U.N. population data set. Rename to merge correctly with the mass protest dataframe."
   ]
  },
  {
   "cell_type": "code",
   "execution_count": 245,
   "metadata": {},
   "outputs": [],
   "source": [
    "pop_df.loc[pop_df['country'] == 'China, Taiwan Province of China', 'country'] = 'Taiwan'"
   ]
  },
  {
   "cell_type": "markdown",
   "metadata": {},
   "source": [
    "**Tanzania** is identified as United Republic of Tanzania in the U.N. population data set. Rename to merge correctly with the mass protest dataframe."
   ]
  },
  {
   "cell_type": "code",
   "execution_count": 246,
   "metadata": {},
   "outputs": [],
   "source": [
    "pop_df.loc[pop_df['country'] == 'United Republic of Tanzania', 'country'] = 'Tanzania'"
   ]
  },
  {
   "cell_type": "markdown",
   "metadata": {},
   "source": [
    "**Timor Leste** is identified as Timor-Leste in the U.N. population data set. Rename to merge correctly with the mass protest dataframe."
   ]
  },
  {
   "cell_type": "code",
   "execution_count": 247,
   "metadata": {},
   "outputs": [],
   "source": [
    "pop_df.loc[pop_df['country'] == 'Timor-Leste', 'country'] = 'Timor Leste'"
   ]
  },
  {
   "cell_type": "markdown",
   "metadata": {},
   "source": [
    "**USSR** ended in 1991.  All U.N. population is labeled 'Russian Federation'\n",
    "\n",
    "60 USSR protests took place in 1990, 1991."
   ]
  },
  {
   "cell_type": "code",
   "execution_count": null,
   "metadata": {},
   "outputs": [],
   "source": []
  },
  {
   "cell_type": "markdown",
   "metadata": {},
   "source": [
    "**United Arab Emirate** is identified as United Arab Emirates in the U.N. population data set. Rename to merge correctly with the mass protest dataframe."
   ]
  },
  {
   "cell_type": "code",
   "execution_count": 248,
   "metadata": {},
   "outputs": [],
   "source": [
    "pop_df.loc[pop_df['country'] == 'United Arab Emirates', 'country'] = 'United Arab Emirate'"
   ]
  },
  {
   "cell_type": "markdown",
   "metadata": {},
   "source": [
    "**Venezuela** is identified as Venezuela (Bolivarian Republic of) in the U.N. population data set. Rename to merge correctly with the mass protest dataframe."
   ]
  },
  {
   "cell_type": "code",
   "execution_count": 249,
   "metadata": {},
   "outputs": [],
   "source": [
    "pop_df.loc[pop_df['country'] == 'Venezuela (Bolivarian Republic of)', 'country'] = 'Venezuela'"
   ]
  },
  {
   "cell_type": "markdown",
   "metadata": {},
   "source": [
    "**Vietnam** is identified as Viet Nam in the U.N. population data set. Rename to merge correctly with the mass protest dataframe."
   ]
  },
  {
   "cell_type": "code",
   "execution_count": 250,
   "metadata": {},
   "outputs": [],
   "source": [
    "pop_df.loc[pop_df['country'] == 'Viet Nam', 'country'] = 'Vietnam'"
   ]
  },
  {
   "cell_type": "markdown",
   "metadata": {},
   "source": [
    "**Yugoslavia** has no U.N. Population data.  Attempt to recreate by combining its former countries?\n",
    "\n",
    "Former [Yugoslavia](https://en.wikipedia.org/wiki/Yugoslavia)\n",
    "\n",
    "* Bosnia\n",
    "* Croatia\n",
    "* Macedonia\n",
    "* Montenegro\n",
    "* Serbia\n",
    "* Slovenia\n",
    "\n",
    "There are 137 protests identified as Yugoslavia, ranging from 1990 to 2002."
   ]
  },
  {
   "cell_type": "code",
   "execution_count": null,
   "metadata": {},
   "outputs": [],
   "source": []
  },
  {
   "cell_type": "code",
   "execution_count": 251,
   "metadata": {},
   "outputs": [
    {
     "data": {
      "text/plain": [
       "4"
      ]
     },
     "execution_count": 251,
     "metadata": {},
     "output_type": "execute_result"
    }
   ],
   "source": [
    "global_pop_countries = sorted(set(list(pop_df['country'])))\n",
    "mass_countries = sorted(set(list(mass['country'].value_counts().index)))\n",
    "\n",
    "mass_not_global_pop = []\n",
    "\n",
    "for country in mass_countries:\n",
    "    if country not in global_pop_countries:\n",
    "        mass_not_global_pop.append(country)\n",
    "        \n",
    "len(mass_not_global_pop)"
   ]
  },
  {
   "cell_type": "code",
   "execution_count": 252,
   "metadata": {},
   "outputs": [
    {
     "data": {
      "text/plain": [
       "['Czech Republic', 'Czechoslovakia', 'USSR', 'Yugoslavia']"
      ]
     },
     "execution_count": 252,
     "metadata": {},
     "output_type": "execute_result"
    }
   ],
   "source": [
    "mass_not_global_pop"
   ]
  },
  {
   "cell_type": "code",
   "execution_count": null,
   "metadata": {},
   "outputs": [],
   "source": []
  },
  {
   "cell_type": "code",
   "execution_count": 253,
   "metadata": {},
   "outputs": [
    {
     "data": {
      "text/plain": [
       "Index(['id', 'country', 'ccode', 'year', 'region', 'protest', 'protestnumber',\n",
       "       'startday', 'startmonth', 'startyear', 'endday', 'endmonth', 'endyear',\n",
       "       'protesterviolence', 'location', 'participants_category',\n",
       "       'participants', 'protesteridentity', 'protesterdemand1',\n",
       "       'protesterdemand2', 'protesterdemand3', 'protesterdemand4',\n",
       "       'stateresponse1', 'stateresponse2', 'stateresponse3', 'stateresponse4',\n",
       "       'stateresponse5', 'stateresponse6', 'stateresponse7', 'sources',\n",
       "       'notes'],\n",
       "      dtype='object')"
      ]
     },
     "execution_count": 253,
     "metadata": {},
     "output_type": "execute_result"
    }
   ],
   "source": [
    "mass.columns"
   ]
  },
  {
   "cell_type": "code",
   "execution_count": 254,
   "metadata": {},
   "outputs": [
    {
     "data": {
      "text/html": [
       "<div>\n",
       "<style scoped>\n",
       "    .dataframe tbody tr th:only-of-type {\n",
       "        vertical-align: middle;\n",
       "    }\n",
       "\n",
       "    .dataframe tbody tr th {\n",
       "        vertical-align: top;\n",
       "    }\n",
       "\n",
       "    .dataframe thead th {\n",
       "        text-align: right;\n",
       "    }\n",
       "</style>\n",
       "<table border=\"1\" class=\"dataframe\">\n",
       "  <thead>\n",
       "    <tr style=\"text-align: right;\">\n",
       "      <th></th>\n",
       "      <th>participants</th>\n",
       "      <th>startmonth</th>\n",
       "      <th>startyear</th>\n",
       "      <th>endmonth</th>\n",
       "      <th>endyear</th>\n",
       "      <th>protesterdemand1</th>\n",
       "      <th>stateresponse1</th>\n",
       "    </tr>\n",
       "  </thead>\n",
       "  <tbody>\n",
       "    <tr>\n",
       "      <th>6114</th>\n",
       "      <td>1000+</td>\n",
       "      <td>6.0</td>\n",
       "      <td>2003.0</td>\n",
       "      <td>6.0</td>\n",
       "      <td>2003.0</td>\n",
       "      <td>police brutality</td>\n",
       "      <td>beatings</td>\n",
       "    </tr>\n",
       "    <tr>\n",
       "      <th>6115</th>\n",
       "      <td>2000</td>\n",
       "      <td>10.0</td>\n",
       "      <td>2003.0</td>\n",
       "      <td>10.0</td>\n",
       "      <td>2003.0</td>\n",
       "      <td>political behavior, process</td>\n",
       "      <td>crowd dispersal</td>\n",
       "    </tr>\n",
       "  </tbody>\n",
       "</table>\n",
       "</div>"
      ],
      "text/plain": [
       "     participants  startmonth  startyear  endmonth  endyear  \\\n",
       "6114        1000+         6.0     2003.0       6.0   2003.0   \n",
       "6115         2000        10.0     2003.0      10.0   2003.0   \n",
       "\n",
       "                 protesterdemand1   stateresponse1  \n",
       "6114             police brutality         beatings  \n",
       "6115  political behavior, process  crowd dispersal  "
      ]
     },
     "execution_count": 254,
     "metadata": {},
     "output_type": "execute_result"
    }
   ],
   "source": [
    "#mass[mass['country']=='Czechoslovakia'][['participants','startmonth','startyear','endmonth','endyear','protesterdemand1','stateresponse1']]\n",
    "\n",
    "mass[mass['country']=='Serbia and Montenegro'][['participants','startmonth','startyear','endmonth','endyear','protesterdemand1','stateresponse1']]"
   ]
  },
  {
   "cell_type": "code",
   "execution_count": 255,
   "metadata": {},
   "outputs": [
    {
     "data": {
      "text/html": [
       "<div>\n",
       "<style scoped>\n",
       "    .dataframe tbody tr th:only-of-type {\n",
       "        vertical-align: middle;\n",
       "    }\n",
       "\n",
       "    .dataframe tbody tr th {\n",
       "        vertical-align: top;\n",
       "    }\n",
       "\n",
       "    .dataframe thead th {\n",
       "        text-align: right;\n",
       "    }\n",
       "</style>\n",
       "<table border=\"1\" class=\"dataframe\">\n",
       "  <thead>\n",
       "    <tr style=\"text-align: right;\">\n",
       "      <th></th>\n",
       "      <th>startmonth</th>\n",
       "      <th>startyear</th>\n",
       "      <th>endmonth</th>\n",
       "      <th>endyear</th>\n",
       "      <th>protesterdemand1</th>\n",
       "      <th>stateresponse1</th>\n",
       "    </tr>\n",
       "  </thead>\n",
       "  <tbody>\n",
       "    <tr>\n",
       "      <th>5750</th>\n",
       "      <td>12.0</td>\n",
       "      <td>2007.0</td>\n",
       "      <td>12.0</td>\n",
       "      <td>2007.0</td>\n",
       "      <td>political behavior, process</td>\n",
       "      <td>ignore</td>\n",
       "    </tr>\n",
       "    <tr>\n",
       "      <th>5751</th>\n",
       "      <td>7.0</td>\n",
       "      <td>2008.0</td>\n",
       "      <td>7.0</td>\n",
       "      <td>2008.0</td>\n",
       "      <td>political behavior, process</td>\n",
       "      <td>crowd dispersal</td>\n",
       "    </tr>\n",
       "    <tr>\n",
       "      <th>5754</th>\n",
       "      <td>5.0</td>\n",
       "      <td>2011.0</td>\n",
       "      <td>5.0</td>\n",
       "      <td>2011.0</td>\n",
       "      <td>political behavior, process</td>\n",
       "      <td>beatings</td>\n",
       "    </tr>\n",
       "    <tr>\n",
       "      <th>5757</th>\n",
       "      <td>9.0</td>\n",
       "      <td>2014.0</td>\n",
       "      <td>9.0</td>\n",
       "      <td>2014.0</td>\n",
       "      <td>social restrictions</td>\n",
       "      <td>ignore</td>\n",
       "    </tr>\n",
       "    <tr>\n",
       "      <th>5760</th>\n",
       "      <td>4.0</td>\n",
       "      <td>2017.0</td>\n",
       "      <td>4.0</td>\n",
       "      <td>2017.0</td>\n",
       "      <td>political behavior, process</td>\n",
       "      <td>ignore</td>\n",
       "    </tr>\n",
       "  </tbody>\n",
       "</table>\n",
       "</div>"
      ],
      "text/plain": [
       "      startmonth  startyear  endmonth  endyear             protesterdemand1  \\\n",
       "5750        12.0     2007.0      12.0   2007.0  political behavior, process   \n",
       "5751         7.0     2008.0       7.0   2008.0  political behavior, process   \n",
       "5754         5.0     2011.0       5.0   2011.0  political behavior, process   \n",
       "5757         9.0     2014.0       9.0   2014.0          social restrictions   \n",
       "5760         4.0     2017.0       4.0   2017.0  political behavior, process   \n",
       "\n",
       "       stateresponse1  \n",
       "5750           ignore  \n",
       "5751  crowd dispersal  \n",
       "5754         beatings  \n",
       "5757           ignore  \n",
       "5760           ignore  "
      ]
     },
     "execution_count": 255,
     "metadata": {},
     "output_type": "execute_result"
    }
   ],
   "source": [
    "#mass[mass['country']=='Czech Republic'][['startmonth','startyear','endmonth','endyear','protesterdemand1','stateresponse1']].head()\n",
    "mass[mass['country']=='Serbia'][['startmonth','startyear','endmonth','endyear','protesterdemand1','stateresponse1']].head()"
   ]
  },
  {
   "cell_type": "code",
   "execution_count": 256,
   "metadata": {},
   "outputs": [
    {
     "data": {
      "text/html": [
       "<div>\n",
       "<style scoped>\n",
       "    .dataframe tbody tr th:only-of-type {\n",
       "        vertical-align: middle;\n",
       "    }\n",
       "\n",
       "    .dataframe tbody tr th {\n",
       "        vertical-align: top;\n",
       "    }\n",
       "\n",
       "    .dataframe thead th {\n",
       "        text-align: right;\n",
       "    }\n",
       "</style>\n",
       "<table border=\"1\" class=\"dataframe\">\n",
       "  <thead>\n",
       "    <tr style=\"text-align: right;\">\n",
       "      <th></th>\n",
       "      <th>startmonth</th>\n",
       "      <th>startyear</th>\n",
       "      <th>endmonth</th>\n",
       "      <th>endyear</th>\n",
       "      <th>protesterdemand1</th>\n",
       "      <th>stateresponse1</th>\n",
       "    </tr>\n",
       "  </thead>\n",
       "  <tbody>\n",
       "    <tr>\n",
       "      <th>5726</th>\n",
       "      <td>12.0</td>\n",
       "      <td>2008.0</td>\n",
       "      <td>12.0</td>\n",
       "      <td>2008.0</td>\n",
       "      <td>political behavior, process</td>\n",
       "      <td>ignore</td>\n",
       "    </tr>\n",
       "    <tr>\n",
       "      <th>5727</th>\n",
       "      <td>8.0</td>\n",
       "      <td>2009.0</td>\n",
       "      <td>8.0</td>\n",
       "      <td>2009.0</td>\n",
       "      <td>political behavior, process</td>\n",
       "      <td>crowd dispersal</td>\n",
       "    </tr>\n",
       "    <tr>\n",
       "      <th>5728</th>\n",
       "      <td>3.0</td>\n",
       "      <td>2010.0</td>\n",
       "      <td>3.0</td>\n",
       "      <td>2010.0</td>\n",
       "      <td>political behavior, process</td>\n",
       "      <td>crowd dispersal</td>\n",
       "    </tr>\n",
       "    <tr>\n",
       "      <th>5729</th>\n",
       "      <td>6.0</td>\n",
       "      <td>2010.0</td>\n",
       "      <td>6.0</td>\n",
       "      <td>2010.0</td>\n",
       "      <td>political behavior, process</td>\n",
       "      <td>ignore</td>\n",
       "    </tr>\n",
       "    <tr>\n",
       "      <th>5730</th>\n",
       "      <td>6.0</td>\n",
       "      <td>2011.0</td>\n",
       "      <td>6.0</td>\n",
       "      <td>2011.0</td>\n",
       "      <td>political behavior, process</td>\n",
       "      <td>accomodation</td>\n",
       "    </tr>\n",
       "  </tbody>\n",
       "</table>\n",
       "</div>"
      ],
      "text/plain": [
       "      startmonth  startyear  endmonth  endyear             protesterdemand1  \\\n",
       "5726        12.0     2008.0      12.0   2008.0  political behavior, process   \n",
       "5727         8.0     2009.0       8.0   2009.0  political behavior, process   \n",
       "5728         3.0     2010.0       3.0   2010.0  political behavior, process   \n",
       "5729         6.0     2010.0       6.0   2010.0  political behavior, process   \n",
       "5730         6.0     2011.0       6.0   2011.0  political behavior, process   \n",
       "\n",
       "       stateresponse1  \n",
       "5726           ignore  \n",
       "5727  crowd dispersal  \n",
       "5728  crowd dispersal  \n",
       "5729           ignore  \n",
       "5730     accomodation  "
      ]
     },
     "execution_count": 256,
     "metadata": {},
     "output_type": "execute_result"
    }
   ],
   "source": [
    "#mass[mass['country']=='Slovak Republic'][['startmonth','startyear','endmonth','endyear','protesterdemand1','stateresponse1']].head()\n",
    "mass[mass['country']=='Kosovo'][['startmonth','startyear','endmonth','endyear','protesterdemand1','stateresponse1']].head()"
   ]
  },
  {
   "cell_type": "code",
   "execution_count": 257,
   "metadata": {},
   "outputs": [
    {
     "data": {
      "text/html": [
       "<div>\n",
       "<style scoped>\n",
       "    .dataframe tbody tr th:only-of-type {\n",
       "        vertical-align: middle;\n",
       "    }\n",
       "\n",
       "    .dataframe tbody tr th {\n",
       "        vertical-align: top;\n",
       "    }\n",
       "\n",
       "    .dataframe thead th {\n",
       "        text-align: right;\n",
       "    }\n",
       "</style>\n",
       "<table border=\"1\" class=\"dataframe\">\n",
       "  <thead>\n",
       "    <tr style=\"text-align: right;\">\n",
       "      <th></th>\n",
       "      <th>startmonth</th>\n",
       "      <th>startyear</th>\n",
       "      <th>endmonth</th>\n",
       "      <th>endyear</th>\n",
       "      <th>protesterdemand1</th>\n",
       "      <th>stateresponse1</th>\n",
       "    </tr>\n",
       "  </thead>\n",
       "  <tbody>\n",
       "    <tr>\n",
       "      <th>5920</th>\n",
       "      <td>1.0</td>\n",
       "      <td>1990.0</td>\n",
       "      <td>1.0</td>\n",
       "      <td>1990.0</td>\n",
       "      <td>political behavior, process</td>\n",
       "      <td>ignore</td>\n",
       "    </tr>\n",
       "    <tr>\n",
       "      <th>5921</th>\n",
       "      <td>1.0</td>\n",
       "      <td>1990.0</td>\n",
       "      <td>1.0</td>\n",
       "      <td>1990.0</td>\n",
       "      <td>political behavior, process</td>\n",
       "      <td>crowd dispersal</td>\n",
       "    </tr>\n",
       "    <tr>\n",
       "      <th>5922</th>\n",
       "      <td>1.0</td>\n",
       "      <td>1990.0</td>\n",
       "      <td>1.0</td>\n",
       "      <td>1990.0</td>\n",
       "      <td>political behavior, process</td>\n",
       "      <td>crowd dispersal</td>\n",
       "    </tr>\n",
       "    <tr>\n",
       "      <th>5923</th>\n",
       "      <td>1.0</td>\n",
       "      <td>1990.0</td>\n",
       "      <td>1.0</td>\n",
       "      <td>1990.0</td>\n",
       "      <td>removal of politician</td>\n",
       "      <td>crowd dispersal</td>\n",
       "    </tr>\n",
       "    <tr>\n",
       "      <th>5924</th>\n",
       "      <td>1.0</td>\n",
       "      <td>1990.0</td>\n",
       "      <td>1.0</td>\n",
       "      <td>1990.0</td>\n",
       "      <td>price increases, tax policy</td>\n",
       "      <td>ignore</td>\n",
       "    </tr>\n",
       "    <tr>\n",
       "      <th>...</th>\n",
       "      <td>...</td>\n",
       "      <td>...</td>\n",
       "      <td>...</td>\n",
       "      <td>...</td>\n",
       "      <td>...</td>\n",
       "      <td>...</td>\n",
       "    </tr>\n",
       "    <tr>\n",
       "      <th>6109</th>\n",
       "      <td>2.0</td>\n",
       "      <td>2001.0</td>\n",
       "      <td>2.0</td>\n",
       "      <td>2001.0</td>\n",
       "      <td>political behavior, process</td>\n",
       "      <td>ignore</td>\n",
       "    </tr>\n",
       "    <tr>\n",
       "      <th>6110</th>\n",
       "      <td>6.0</td>\n",
       "      <td>2001.0</td>\n",
       "      <td>6.0</td>\n",
       "      <td>2001.0</td>\n",
       "      <td>political behavior, process</td>\n",
       "      <td>ignore</td>\n",
       "    </tr>\n",
       "    <tr>\n",
       "      <th>6111</th>\n",
       "      <td>11.0</td>\n",
       "      <td>2001.0</td>\n",
       "      <td>11.0</td>\n",
       "      <td>2001.0</td>\n",
       "      <td>political behavior, process</td>\n",
       "      <td>ignore</td>\n",
       "    </tr>\n",
       "    <tr>\n",
       "      <th>6112</th>\n",
       "      <td>2.0</td>\n",
       "      <td>2002.0</td>\n",
       "      <td>2.0</td>\n",
       "      <td>2002.0</td>\n",
       "      <td>political behavior, process</td>\n",
       "      <td>ignore</td>\n",
       "    </tr>\n",
       "    <tr>\n",
       "      <th>6113</th>\n",
       "      <td>4.0</td>\n",
       "      <td>2002.0</td>\n",
       "      <td>4.0</td>\n",
       "      <td>2002.0</td>\n",
       "      <td>political behavior, process</td>\n",
       "      <td>ignore</td>\n",
       "    </tr>\n",
       "  </tbody>\n",
       "</table>\n",
       "<p>137 rows × 6 columns</p>\n",
       "</div>"
      ],
      "text/plain": [
       "      startmonth  startyear  endmonth  endyear             protesterdemand1  \\\n",
       "5920         1.0     1990.0       1.0   1990.0  political behavior, process   \n",
       "5921         1.0     1990.0       1.0   1990.0  political behavior, process   \n",
       "5922         1.0     1990.0       1.0   1990.0  political behavior, process   \n",
       "5923         1.0     1990.0       1.0   1990.0        removal of politician   \n",
       "5924         1.0     1990.0       1.0   1990.0  price increases, tax policy   \n",
       "...          ...        ...       ...      ...                          ...   \n",
       "6109         2.0     2001.0       2.0   2001.0  political behavior, process   \n",
       "6110         6.0     2001.0       6.0   2001.0  political behavior, process   \n",
       "6111        11.0     2001.0      11.0   2001.0  political behavior, process   \n",
       "6112         2.0     2002.0       2.0   2002.0  political behavior, process   \n",
       "6113         4.0     2002.0       4.0   2002.0  political behavior, process   \n",
       "\n",
       "       stateresponse1  \n",
       "5920           ignore  \n",
       "5921  crowd dispersal  \n",
       "5922  crowd dispersal  \n",
       "5923  crowd dispersal  \n",
       "5924           ignore  \n",
       "...               ...  \n",
       "6109           ignore  \n",
       "6110           ignore  \n",
       "6111           ignore  \n",
       "6112           ignore  \n",
       "6113           ignore  \n",
       "\n",
       "[137 rows x 6 columns]"
      ]
     },
     "execution_count": 257,
     "metadata": {},
     "output_type": "execute_result"
    }
   ],
   "source": [
    "mass[mass['country']=='Yugoslavia'][['startmonth','startyear','endmonth','endyear','protesterdemand1','stateresponse1']]"
   ]
  },
  {
   "cell_type": "code",
   "execution_count": 258,
   "metadata": {},
   "outputs": [
    {
     "data": {
      "text/html": [
       "<div>\n",
       "<style scoped>\n",
       "    .dataframe tbody tr th:only-of-type {\n",
       "        vertical-align: middle;\n",
       "    }\n",
       "\n",
       "    .dataframe tbody tr th {\n",
       "        vertical-align: top;\n",
       "    }\n",
       "\n",
       "    .dataframe thead th {\n",
       "        text-align: right;\n",
       "    }\n",
       "</style>\n",
       "<table border=\"1\" class=\"dataframe\">\n",
       "  <thead>\n",
       "    <tr style=\"text-align: right;\">\n",
       "      <th></th>\n",
       "      <th>startmonth</th>\n",
       "      <th>startyear</th>\n",
       "      <th>endmonth</th>\n",
       "      <th>endyear</th>\n",
       "      <th>protesterdemand1</th>\n",
       "      <th>stateresponse1</th>\n",
       "    </tr>\n",
       "  </thead>\n",
       "  <tbody>\n",
       "    <tr>\n",
       "      <th>4742</th>\n",
       "      <td>10.0</td>\n",
       "      <td>1990.0</td>\n",
       "      <td>10.0</td>\n",
       "      <td>1990.0</td>\n",
       "      <td>political behavior, process</td>\n",
       "      <td>crowd dispersal</td>\n",
       "    </tr>\n",
       "    <tr>\n",
       "      <th>4743</th>\n",
       "      <td>11.0</td>\n",
       "      <td>1990.0</td>\n",
       "      <td>11.0</td>\n",
       "      <td>1990.0</td>\n",
       "      <td>political behavior, process</td>\n",
       "      <td>crowd dispersal</td>\n",
       "    </tr>\n",
       "    <tr>\n",
       "      <th>4744</th>\n",
       "      <td>11.0</td>\n",
       "      <td>1990.0</td>\n",
       "      <td>11.0</td>\n",
       "      <td>1990.0</td>\n",
       "      <td>police brutality</td>\n",
       "      <td>ignore</td>\n",
       "    </tr>\n",
       "    <tr>\n",
       "      <th>4745</th>\n",
       "      <td>11.0</td>\n",
       "      <td>1990.0</td>\n",
       "      <td>11.0</td>\n",
       "      <td>1990.0</td>\n",
       "      <td>political behavior, process</td>\n",
       "      <td>ignore</td>\n",
       "    </tr>\n",
       "    <tr>\n",
       "      <th>4746</th>\n",
       "      <td>12.0</td>\n",
       "      <td>1990.0</td>\n",
       "      <td>12.0</td>\n",
       "      <td>1990.0</td>\n",
       "      <td>political behavior, process</td>\n",
       "      <td>ignore</td>\n",
       "    </tr>\n",
       "  </tbody>\n",
       "</table>\n",
       "</div>"
      ],
      "text/plain": [
       "      startmonth  startyear  endmonth  endyear             protesterdemand1  \\\n",
       "4742        10.0     1990.0      10.0   1990.0  political behavior, process   \n",
       "4743        11.0     1990.0      11.0   1990.0  political behavior, process   \n",
       "4744        11.0     1990.0      11.0   1990.0             police brutality   \n",
       "4745        11.0     1990.0      11.0   1990.0  political behavior, process   \n",
       "4746        12.0     1990.0      12.0   1990.0  political behavior, process   \n",
       "\n",
       "       stateresponse1  \n",
       "4742  crowd dispersal  \n",
       "4743  crowd dispersal  \n",
       "4744           ignore  \n",
       "4745           ignore  \n",
       "4746           ignore  "
      ]
     },
     "execution_count": 258,
     "metadata": {},
     "output_type": "execute_result"
    }
   ],
   "source": [
    "mass[mass['country']=='Germany'][['startmonth','startyear','endmonth','endyear','protesterdemand1','stateresponse1']].head()"
   ]
  },
  {
   "cell_type": "code",
   "execution_count": null,
   "metadata": {},
   "outputs": [],
   "source": []
  },
  {
   "cell_type": "code",
   "execution_count": null,
   "metadata": {},
   "outputs": [],
   "source": []
  },
  {
   "cell_type": "code",
   "execution_count": null,
   "metadata": {},
   "outputs": [],
   "source": []
  },
  {
   "cell_type": "code",
   "execution_count": null,
   "metadata": {},
   "outputs": [],
   "source": []
  },
  {
   "cell_type": "code",
   "execution_count": null,
   "metadata": {},
   "outputs": [],
   "source": []
  },
  {
   "cell_type": "code",
   "execution_count": null,
   "metadata": {},
   "outputs": [],
   "source": []
  },
  {
   "cell_type": "code",
   "execution_count": null,
   "metadata": {},
   "outputs": [],
   "source": []
  },
  {
   "cell_type": "code",
   "execution_count": null,
   "metadata": {},
   "outputs": [],
   "source": []
  },
  {
   "cell_type": "code",
   "execution_count": null,
   "metadata": {},
   "outputs": [],
   "source": []
  },
  {
   "cell_type": "code",
   "execution_count": null,
   "metadata": {},
   "outputs": [],
   "source": []
  },
  {
   "cell_type": "code",
   "execution_count": null,
   "metadata": {},
   "outputs": [],
   "source": []
  },
  {
   "cell_type": "code",
   "execution_count": null,
   "metadata": {},
   "outputs": [],
   "source": []
  },
  {
   "cell_type": "code",
   "execution_count": null,
   "metadata": {},
   "outputs": [],
   "source": []
  },
  {
   "cell_type": "code",
   "execution_count": null,
   "metadata": {},
   "outputs": [],
   "source": []
  },
  {
   "cell_type": "code",
   "execution_count": null,
   "metadata": {},
   "outputs": [],
   "source": []
  },
  {
   "cell_type": "code",
   "execution_count": null,
   "metadata": {},
   "outputs": [],
   "source": []
  },
  {
   "cell_type": "code",
   "execution_count": null,
   "metadata": {},
   "outputs": [],
   "source": []
  },
  {
   "cell_type": "code",
   "execution_count": null,
   "metadata": {},
   "outputs": [],
   "source": []
  }
 ],
 "metadata": {
  "kernelspec": {
   "display_name": "Python 3",
   "language": "python",
   "name": "python3"
  },
  "language_info": {
   "codemirror_mode": {
    "name": "ipython",
    "version": 3
   },
   "file_extension": ".py",
   "mimetype": "text/x-python",
   "name": "python",
   "nbconvert_exporter": "python",
   "pygments_lexer": "ipython3",
   "version": "3.8.3"
  }
 },
 "nbformat": 4,
 "nbformat_minor": 4
}
