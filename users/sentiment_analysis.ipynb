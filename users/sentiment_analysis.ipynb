{
 "cells": [
  {
   "cell_type": "code",
   "execution_count": 138,
   "metadata": {},
   "outputs": [],
   "source": [
    "import numpy as np\n",
    "import pandas as pd\n",
    "import matplotlib.pyplot as plt \n",
    "import seaborn as sns\n",
    "\n",
    "import nltk\n",
    "from nltk.sentiment.vader import SentimentIntensityAnalyzer\n",
    "\n",
    "from sklearn.feature_extraction.text import CountVectorizer\n",
    "from sklearn.feature_extraction import text"
   ]
  },
  {
   "cell_type": "code",
   "execution_count": 139,
   "metadata": {},
   "outputs": [
    {
     "data": {
      "text/plain": [
       "'/Users/emilynaftalin/Data_Science/General Assembly/dsi/projects/Mass-Protests/users'"
      ]
     },
     "execution_count": 139,
     "metadata": {},
     "output_type": "execute_result"
    }
   ],
   "source": [
    "pwd"
   ]
  },
  {
   "cell_type": "code",
   "execution_count": 140,
   "metadata": {},
   "outputs": [],
   "source": [
    "pd.options.display.max_colwidth = 200"
   ]
  },
  {
   "cell_type": "code",
   "execution_count": 141,
   "metadata": {},
   "outputs": [],
   "source": [
    "mass = pd.read_pickle('../data/03_dummy_df.pickle')"
   ]
  },
  {
   "cell_type": "code",
   "execution_count": 142,
   "metadata": {},
   "outputs": [
    {
     "data": {
      "text/html": [
       "<div>\n",
       "<style scoped>\n",
       "    .dataframe tbody tr th:only-of-type {\n",
       "        vertical-align: middle;\n",
       "    }\n",
       "\n",
       "    .dataframe tbody tr th {\n",
       "        vertical-align: top;\n",
       "    }\n",
       "\n",
       "    .dataframe thead th {\n",
       "        text-align: right;\n",
       "    }\n",
       "</style>\n",
       "<table border=\"1\" class=\"dataframe\">\n",
       "  <thead>\n",
       "    <tr style=\"text-align: right;\">\n",
       "      <th></th>\n",
       "      <th>id</th>\n",
       "      <th>country</th>\n",
       "      <th>ccode</th>\n",
       "      <th>region</th>\n",
       "      <th>protestnumber</th>\n",
       "      <th>protesterviolence</th>\n",
       "      <th>location</th>\n",
       "      <th>protesteridentity</th>\n",
       "      <th>sources</th>\n",
       "      <th>notes</th>\n",
       "      <th>...</th>\n",
       "      <th>shootings</th>\n",
       "      <th>labor_wage_dispute</th>\n",
       "      <th>land_farm_issue</th>\n",
       "      <th>police_brutality</th>\n",
       "      <th>political_behavior_process</th>\n",
       "      <th>price increases_tax_policy</th>\n",
       "      <th>removal_of_politician</th>\n",
       "      <th>social_restrictions</th>\n",
       "      <th>start_date</th>\n",
       "      <th>end_date</th>\n",
       "    </tr>\n",
       "  </thead>\n",
       "  <tbody>\n",
       "    <tr>\n",
       "      <th>0</th>\n",
       "      <td>201990001</td>\n",
       "      <td>Canada</td>\n",
       "      <td>20</td>\n",
       "      <td>North America</td>\n",
       "      <td>1</td>\n",
       "      <td>0.0</td>\n",
       "      <td>national</td>\n",
       "      <td>unspecified</td>\n",
       "      <td>1. great canadian train journeys into history; passenger rail system cut the times london , january 16 1990, tuesday, issue 63604., 427 words, from john best, ottawa;</td>\n",
       "      <td>canada s railway passenger system was finally cut by half yesterday, with 18 of 38 routes run by via rail, the government owned passenger service, being eliminated in terms of an earlier decision....</td>\n",
       "      <td>...</td>\n",
       "      <td>0</td>\n",
       "      <td>1</td>\n",
       "      <td>0</td>\n",
       "      <td>0</td>\n",
       "      <td>1</td>\n",
       "      <td>0</td>\n",
       "      <td>0</td>\n",
       "      <td>0</td>\n",
       "      <td>1990-01-15</td>\n",
       "      <td>1990-01-15</td>\n",
       "    </tr>\n",
       "    <tr>\n",
       "      <th>1</th>\n",
       "      <td>201990002</td>\n",
       "      <td>Canada</td>\n",
       "      <td>20</td>\n",
       "      <td>North America</td>\n",
       "      <td>2</td>\n",
       "      <td>0.0</td>\n",
       "      <td>Montreal, Quebec</td>\n",
       "      <td>unspecified</td>\n",
       "      <td>1. autonomy s cry revived in quebec the new york times, june 25, 1990, monday, late edition final, section a; page 3, column 4; foreign desk, 1014 words, by alessandra stanley, special to the new ...</td>\n",
       "      <td>protestors were only identified as young people, and the gathering was spontaneous</td>\n",
       "      <td>...</td>\n",
       "      <td>0</td>\n",
       "      <td>0</td>\n",
       "      <td>0</td>\n",
       "      <td>0</td>\n",
       "      <td>1</td>\n",
       "      <td>0</td>\n",
       "      <td>0</td>\n",
       "      <td>0</td>\n",
       "      <td>1990-06-25</td>\n",
       "      <td>1990-06-25</td>\n",
       "    </tr>\n",
       "  </tbody>\n",
       "</table>\n",
       "<p>2 rows × 207 columns</p>\n",
       "</div>"
      ],
      "text/plain": [
       "          id country  ccode         region  protestnumber  protesterviolence  \\\n",
       "0  201990001  Canada     20  North America              1                0.0   \n",
       "1  201990002  Canada     20  North America              2                0.0   \n",
       "\n",
       "           location protesteridentity  \\\n",
       "0          national       unspecified   \n",
       "1  Montreal, Quebec       unspecified   \n",
       "\n",
       "                                                                                                                                                                                                   sources  \\\n",
       "0                                   1. great canadian train journeys into history; passenger rail system cut the times london , january 16 1990, tuesday, issue 63604., 427 words, from john best, ottawa;   \n",
       "1  1. autonomy s cry revived in quebec the new york times, june 25, 1990, monday, late edition final, section a; page 3, column 4; foreign desk, 1014 words, by alessandra stanley, special to the new ...   \n",
       "\n",
       "                                                                                                                                                                                                     notes  \\\n",
       "0  canada s railway passenger system was finally cut by half yesterday, with 18 of 38 routes run by via rail, the government owned passenger service, being eliminated in terms of an earlier decision....   \n",
       "1                                                                                                                       protestors were only identified as young people, and the gathering was spontaneous   \n",
       "\n",
       "   ... shootings  labor_wage_dispute land_farm_issue  police_brutality  \\\n",
       "0  ...         0                   1               0                 0   \n",
       "1  ...         0                   0               0                 0   \n",
       "\n",
       "   political_behavior_process  price increases_tax_policy  \\\n",
       "0                           1                           0   \n",
       "1                           1                           0   \n",
       "\n",
       "   removal_of_politician  social_restrictions  start_date   end_date  \n",
       "0                      0                    0  1990-01-15 1990-01-15  \n",
       "1                      0                    0  1990-06-25 1990-06-25  \n",
       "\n",
       "[2 rows x 207 columns]"
      ]
     },
     "execution_count": 142,
     "metadata": {},
     "output_type": "execute_result"
    }
   ],
   "source": [
    "mass.head(2)"
   ]
  },
  {
   "cell_type": "code",
   "execution_count": 143,
   "metadata": {},
   "outputs": [
    {
     "name": "stdout",
     "output_type": "stream",
     "text": [
      "<class 'pandas.core.frame.DataFrame'>\n",
      "Int64Index: 15225 entries, 0 to 15224\n",
      "Columns: 207 entries, id to end_date\n",
      "dtypes: datetime64[ns](2), float64(6), int32(180), int64(11), object(8)\n",
      "memory usage: 13.7+ MB\n"
     ]
    }
   ],
   "source": [
    "mass.info()"
   ]
  },
  {
   "cell_type": "code",
   "execution_count": 144,
   "metadata": {},
   "outputs": [
    {
     "data": {
      "text/plain": [
       "['Afghanistan',\n",
       " 'Albania',\n",
       " 'Algeria',\n",
       " 'Angola',\n",
       " 'Argentina',\n",
       " 'Armenia',\n",
       " 'Austria',\n",
       " 'Azerbaijan',\n",
       " 'Bahrain',\n",
       " 'Bangladesh']"
      ]
     },
     "execution_count": 144,
     "metadata": {},
     "output_type": "execute_result"
    }
   ],
   "source": [
    "sorted(list(mass['country'].value_counts().index))[:10]"
   ]
  },
  {
   "cell_type": "code",
   "execution_count": 145,
   "metadata": {},
   "outputs": [
    {
     "data": {
      "text/plain": [
       "Europe             4992\n",
       "Africa             3181\n",
       "Asia               3124\n",
       "South America      1659\n",
       "MENA               1259\n",
       "North America       527\n",
       "Central America     445\n",
       "Oceania              38\n",
       "Name: region, dtype: int64"
      ]
     },
     "execution_count": 145,
     "metadata": {},
     "output_type": "execute_result"
    }
   ],
   "source": [
    "mass['region'].value_counts()"
   ]
  },
  {
   "cell_type": "code",
   "execution_count": 146,
   "metadata": {},
   "outputs": [],
   "source": [
    "# mass[mass['region']== 'Central America'].groupby('country').count()"
   ]
  },
  {
   "cell_type": "code",
   "execution_count": 147,
   "metadata": {},
   "outputs": [],
   "source": [
    "# mass[mass['region']== 'North America'].groupby('country').count()"
   ]
  },
  {
   "cell_type": "code",
   "execution_count": 148,
   "metadata": {},
   "outputs": [],
   "source": [
    "mass['notes_clean'] = mass['notes']"
   ]
  },
  {
   "cell_type": "code",
   "execution_count": 149,
   "metadata": {},
   "outputs": [
    {
     "data": {
      "text/plain": [
       "(15225, 208)"
      ]
     },
     "execution_count": 149,
     "metadata": {},
     "output_type": "execute_result"
    }
   ],
   "source": [
    "mass.shape"
   ]
  },
  {
   "cell_type": "code",
   "execution_count": 150,
   "metadata": {
    "scrolled": true
   },
   "outputs": [
    {
     "data": {
      "text/plain": [
       "Index(['id', 'country', 'ccode', 'region', 'protestnumber',\n",
       "       'protesterviolence', 'location', 'protesteridentity', 'sources',\n",
       "       'notes',\n",
       "       ...\n",
       "       'labor_wage_dispute', 'land_farm_issue', 'police_brutality',\n",
       "       'political_behavior_process', 'price increases_tax_policy',\n",
       "       'removal_of_politician', 'social_restrictions', 'start_date',\n",
       "       'end_date', 'notes_clean'],\n",
       "      dtype='object', length=208)"
      ]
     },
     "execution_count": 150,
     "metadata": {},
     "output_type": "execute_result"
    }
   ],
   "source": [
    "mass.columns"
   ]
  },
  {
   "cell_type": "code",
   "execution_count": 151,
   "metadata": {},
   "outputs": [],
   "source": [
    "# My way which doesn't entirely work. \n",
    "\n",
    "# def standardize_text(df, text_field):\n",
    "    \n",
    "#     '''Removes special characters and hyperlinks from dataframe'''\n",
    "    \n",
    "#     df[text_field] = df[text_field].str.replace(r\"http\\S+\", \"\")\n",
    "#     df[text_field] = df[text_field].str.replace(r\"http\", \"\")\n",
    "#     df[text_field] = df[text_field].str.replace(r\"@\\S+\", \"\")\n",
    "#     df[text_field] = df[text_field].str.replace(r\"[^A-Za-z0-9(),!?@\\`\\\"\\_\\n]\", \" \")\n",
    "#     df[text_field] = df[text_field].str.replace(r\"'\", \"\")\n",
    "#     df[text_field] = df[text_field].str.replace(r\"\\s+[a-zA-Z]\\s+\", \" \")\n",
    "#     df[text_field] = df[text_field].str.replace(r\"@\", \"at\")\n",
    "#     df[text_field] = df[text_field].str.lower()\n",
    "    \n",
    "#     return df"
   ]
  },
  {
   "cell_type": "code",
   "execution_count": 152,
   "metadata": {
    "scrolled": true
   },
   "outputs": [],
   "source": [
    "# standardize_text(mass, 'notes_clean')"
   ]
  },
  {
   "cell_type": "code",
   "execution_count": 153,
   "metadata": {},
   "outputs": [],
   "source": [
    "# pd.options.display.max_colwidth = 300"
   ]
  },
  {
   "cell_type": "code",
   "execution_count": 154,
   "metadata": {},
   "outputs": [],
   "source": [
    "# Paul's code whcih is likely more effective \n",
    "\n",
    "mass['notes_clean'].replace('\\n', ' ', regex=True, inplace=True)\n",
    "\n",
    "# Regex example here:\n",
    "#https://github.com/hundredblocks/concrete_NLP_tutorial/blob/master/NLP_notebook.ipynb\n",
    "# \\S captures all non-white space, + means greedy so goes until the end of a word.\n",
    "mass['notes_clean'].replace('http\\S+', ' ', regex=True, inplace=True)\n",
    "\n",
    "# delete stray &amp; words\n",
    "mass['notes_clean'].replace('&amp;', ' ', regex=True, inplace=True)\n",
    "\n",
    "# delete #x200B; which is zero width space\n",
    "mass['notes_clean'].replace('#x200B;', ' ', regex=True, inplace=True)\n",
    "\n",
    "# delete measurements in a recipe. eg. 5.3oz, 1 1/4 cups\n",
    "# This deletes all numbers, which may or may not include a period or a /, then have a letter or series of letters on the end\n",
    "# as in 57g\n",
    "mass['notes_clean'].replace('(\\d+)[.|\\/]?(\\d+)?(\\w+)?', ' ', regex=True, inplace=True)\n",
    "\n",
    "# delete underscores, backslashes and forward slashes\n",
    "mass['notes_clean'].replace('_|\\\\|\\/', ' ', regex=True, inplace=True)\n",
    "\n",
    "# to avoid getting a ton of 've' words after vectorizing, replace I've with I have\n",
    "mass['notes_clean'].replace('[i|I][\\’|\\']ve', 'I have', regex=True, inplace=True)\n",
    "\n",
    "# replace don't with do not\n",
    "mass['notes_clean'].replace('[d|D]on[\\’|\\']t', 'do not', regex=True, inplace=True)\n",
    "\n",
    "# replace aren't with are not\n",
    "mass['notes_clean'].replace('[a|A]ren[\\’|\\']t', 'are not', regex=True, inplace=True)\n",
    "\n",
    "# replace doesn't with does not\n",
    "mass['notes_clean'].replace('[d|D]oesn[\\’|\\']t', 'does not', regex=True, inplace=True)"
   ]
  },
  {
   "cell_type": "code",
   "execution_count": 155,
   "metadata": {},
   "outputs": [],
   "source": [
    "# mass[ mass['notes'] != mass['notes_clean'] ]"
   ]
  },
  {
   "cell_type": "code",
   "execution_count": 156,
   "metadata": {},
   "outputs": [],
   "source": [
    "# mass[['notes', 'notes_clean']]"
   ]
  },
  {
   "cell_type": "code",
   "execution_count": 157,
   "metadata": {},
   "outputs": [],
   "source": [
    "# mass['notes_clean_e'] = mass['notes_clean']"
   ]
  },
  {
   "cell_type": "code",
   "execution_count": 158,
   "metadata": {},
   "outputs": [
    {
     "data": {
      "text/html": [
       "<div>\n",
       "<style scoped>\n",
       "    .dataframe tbody tr th:only-of-type {\n",
       "        vertical-align: middle;\n",
       "    }\n",
       "\n",
       "    .dataframe tbody tr th {\n",
       "        vertical-align: top;\n",
       "    }\n",
       "\n",
       "    .dataframe thead th {\n",
       "        text-align: right;\n",
       "    }\n",
       "</style>\n",
       "<table border=\"1\" class=\"dataframe\">\n",
       "  <thead>\n",
       "    <tr style=\"text-align: right;\">\n",
       "      <th></th>\n",
       "      <th>notes</th>\n",
       "      <th>notes_clean</th>\n",
       "    </tr>\n",
       "  </thead>\n",
       "  <tbody>\n",
       "    <tr>\n",
       "      <th>20</th>\n",
       "      <td>with other opinion polls indicating that canadians view health care as the nation s top issue, ralph klein, the popular premier of alberta, unveiled a bill in march that americans might consider c...</td>\n",
       "      <td>with other opinion polls indicating that canadians view health care as the nation s top issue, ralph klein, the popular premier of alberta, unveiled a bill in march that americans might consider c...</td>\n",
       "    </tr>\n",
       "    <tr>\n",
       "      <th>21</th>\n",
       "      <td>anti poverty protesters fought with the police outside the ontario legislature in toronto. several people were injured and at least three were arrested. protesting the austerity policies of ontari...</td>\n",
       "      <td>anti poverty protesters fought with the police outside the ontario legislature in toronto. several people were injured and at least three were arrested. protesting the austerity policies of ontari...</td>\n",
       "    </tr>\n",
       "    <tr>\n",
       "      <th>22</th>\n",
       "      <td>the canadian flags that fly above the crab boats have been hoisted upside down, and some are defaced with swastikas. graffiti compares the federal fisheries minister to saddam hussein. four large ...</td>\n",
       "      <td>the canadian flags that fly above the crab boats have been hoisted upside down, and some are defaced with swastikas. graffiti compares the federal fisheries minister to saddam hussein. four large ...</td>\n",
       "    </tr>\n",
       "    <tr>\n",
       "      <th>23</th>\n",
       "      <td>the scene on fashionable rue st. denis looked as if it came out of another era: hundreds of students staging a sit in in front of a liberal party office and blocking rush hour traffic on a tuesday...</td>\n",
       "      <td>the scene on fashionable rue st. denis looked as if it came out of another era: hundreds of students staging a sit in in front of a liberal party office and blocking rush hour traffic on a tuesday...</td>\n",
       "    </tr>\n",
       "    <tr>\n",
       "      <th>24</th>\n",
       "      <td>a proposal to allow canadians to use muslim religious law, or sharia, to settle family disputes has provoked protests near and far... homa arjomand, who organised a protest that attracted about 30...</td>\n",
       "      <td>a proposal to allow canadians to use muslim religious law, or sharia, to settle family disputes has provoked protests near and far... homa arjomand, who organised a protest that attracted about   ...</td>\n",
       "    </tr>\n",
       "  </tbody>\n",
       "</table>\n",
       "</div>"
      ],
      "text/plain": [
       "                                                                                                                                                                                                      notes  \\\n",
       "20  with other opinion polls indicating that canadians view health care as the nation s top issue, ralph klein, the popular premier of alberta, unveiled a bill in march that americans might consider c...   \n",
       "21  anti poverty protesters fought with the police outside the ontario legislature in toronto. several people were injured and at least three were arrested. protesting the austerity policies of ontari...   \n",
       "22  the canadian flags that fly above the crab boats have been hoisted upside down, and some are defaced with swastikas. graffiti compares the federal fisheries minister to saddam hussein. four large ...   \n",
       "23  the scene on fashionable rue st. denis looked as if it came out of another era: hundreds of students staging a sit in in front of a liberal party office and blocking rush hour traffic on a tuesday...   \n",
       "24  a proposal to allow canadians to use muslim religious law, or sharia, to settle family disputes has provoked protests near and far... homa arjomand, who organised a protest that attracted about 30...   \n",
       "\n",
       "                                                                                                                                                                                                notes_clean  \n",
       "20  with other opinion polls indicating that canadians view health care as the nation s top issue, ralph klein, the popular premier of alberta, unveiled a bill in march that americans might consider c...  \n",
       "21  anti poverty protesters fought with the police outside the ontario legislature in toronto. several people were injured and at least three were arrested. protesting the austerity policies of ontari...  \n",
       "22  the canadian flags that fly above the crab boats have been hoisted upside down, and some are defaced with swastikas. graffiti compares the federal fisheries minister to saddam hussein. four large ...  \n",
       "23  the scene on fashionable rue st. denis looked as if it came out of another era: hundreds of students staging a sit in in front of a liberal party office and blocking rush hour traffic on a tuesday...  \n",
       "24  a proposal to allow canadians to use muslim religious law, or sharia, to settle family disputes has provoked protests near and far... homa arjomand, who organised a protest that attracted about   ...  "
      ]
     },
     "execution_count": 158,
     "metadata": {},
     "output_type": "execute_result"
    }
   ],
   "source": [
    "mass[['notes', 'notes_clean']][20:25]"
   ]
  },
  {
   "cell_type": "markdown",
   "metadata": {},
   "source": [
    "### Stop Words"
   ]
  },
  {
   "cell_type": "code",
   "execution_count": 159,
   "metadata": {},
   "outputs": [],
   "source": [
    "mass_stopwords = ['protest','protests','protester','protesters']\n",
    "# all_stop_words = text.ENGLISH_STOP_WORDS.union(mass_stop_words)\n",
    "all_stop_words = text.ENGLISH_STOP_WORDS"
   ]
  },
  {
   "cell_type": "code",
   "execution_count": 160,
   "metadata": {},
   "outputs": [],
   "source": [
    "def vectorize_and_plot(df, text_field, color):\n",
    "    cvec = CountVectorizer(stop_words=all_stop_words)\n",
    "    col = df[text_field]\n",
    "    cvec.fit(col)\n",
    "    col = cvec.transform(col)\n",
    "    plot_df = pd.DataFrame(col.todense(),\n",
    "                          columns=cvec.get_feature_names())\n",
    "    plot_df.sum().sort_values(ascending=False).head(15).plot(kind='barh', align='center', alpha=0.5, color=color);"
   ]
  },
  {
   "cell_type": "markdown",
   "metadata": {},
   "source": [
    "### Plotting Most Frequent Words "
   ]
  },
  {
   "cell_type": "markdown",
   "metadata": {},
   "source": [
    "_Citation for this code that allowed me to find where my float values are: https://stackoverflow.com/questions/59756961/select-rows-from-pandas-dataframe-where-a-specific-column-contains-numbers_\n"
   ]
  },
  {
   "cell_type": "code",
   "execution_count": 161,
   "metadata": {},
   "outputs": [],
   "source": [
    "def safe_float_convert(x):\n",
    "    try:\n",
    "        float(x)\n",
    "        return True # numeric, success!\n",
    "    except ValueError:\n",
    "        return False # not numeric\n",
    "    except TypeError:\n",
    "        return False # null type"
   ]
  },
  {
   "cell_type": "code",
   "execution_count": 162,
   "metadata": {},
   "outputs": [],
   "source": [
    "mask = mass['notes_clean'].map(safe_float_convert)"
   ]
  },
  {
   "cell_type": "code",
   "execution_count": 163,
   "metadata": {},
   "outputs": [],
   "source": [
    "numeric_df = mass.loc[mask]"
   ]
  },
  {
   "cell_type": "code",
   "execution_count": 164,
   "metadata": {},
   "outputs": [
    {
     "data": {
      "text/html": [
       "<div>\n",
       "<style scoped>\n",
       "    .dataframe tbody tr th:only-of-type {\n",
       "        vertical-align: middle;\n",
       "    }\n",
       "\n",
       "    .dataframe tbody tr th {\n",
       "        vertical-align: top;\n",
       "    }\n",
       "\n",
       "    .dataframe thead th {\n",
       "        text-align: right;\n",
       "    }\n",
       "</style>\n",
       "<table border=\"1\" class=\"dataframe\">\n",
       "  <thead>\n",
       "    <tr style=\"text-align: right;\">\n",
       "      <th></th>\n",
       "      <th>notes_clean</th>\n",
       "    </tr>\n",
       "  </thead>\n",
       "  <tbody>\n",
       "    <tr>\n",
       "      <th>380</th>\n",
       "      <td>NaN</td>\n",
       "    </tr>\n",
       "    <tr>\n",
       "      <th>407</th>\n",
       "      <td>NaN</td>\n",
       "    </tr>\n",
       "    <tr>\n",
       "      <th>599</th>\n",
       "      <td>NaN</td>\n",
       "    </tr>\n",
       "    <tr>\n",
       "      <th>1138</th>\n",
       "      <td>NaN</td>\n",
       "    </tr>\n",
       "    <tr>\n",
       "      <th>1175</th>\n",
       "      <td>NaN</td>\n",
       "    </tr>\n",
       "  </tbody>\n",
       "</table>\n",
       "</div>"
      ],
      "text/plain": [
       "     notes_clean\n",
       "380          NaN\n",
       "407          NaN\n",
       "599          NaN\n",
       "1138         NaN\n",
       "1175         NaN"
      ]
     },
     "execution_count": 164,
     "metadata": {},
     "output_type": "execute_result"
    }
   ],
   "source": [
    "numeric_df[['notes_clean']].head()"
   ]
  },
  {
   "cell_type": "markdown",
   "metadata": {},
   "source": [
    "_For this notebook, I am creating a new dataframe that doesn't include the columns that are null in the `notes` column so that I can visualize, vectorize, and otherwise use the text data._\n",
    "\n",
    "_**NOTE**: Should we consider putting some word in the cells in place of the nan?_ "
   ]
  },
  {
   "cell_type": "code",
   "execution_count": 165,
   "metadata": {},
   "outputs": [],
   "source": [
    "notes_mass = mass.copy()"
   ]
  },
  {
   "cell_type": "code",
   "execution_count": 166,
   "metadata": {},
   "outputs": [
    {
     "data": {
      "text/plain": [
       "Index(['id', 'country', 'ccode', 'region', 'protestnumber',\n",
       "       'protesterviolence', 'location', 'protesteridentity', 'sources',\n",
       "       'notes',\n",
       "       ...\n",
       "       'labor_wage_dispute', 'land_farm_issue', 'police_brutality',\n",
       "       'political_behavior_process', 'price increases_tax_policy',\n",
       "       'removal_of_politician', 'social_restrictions', 'start_date',\n",
       "       'end_date', 'notes_clean'],\n",
       "      dtype='object', length=208)"
      ]
     },
     "execution_count": 166,
     "metadata": {},
     "output_type": "execute_result"
    }
   ],
   "source": [
    "notes_mass.columns"
   ]
  },
  {
   "cell_type": "code",
   "execution_count": 167,
   "metadata": {},
   "outputs": [],
   "source": [
    "notes_mass = notes_mass[notes_mass['notes'].notna()]"
   ]
  },
  {
   "cell_type": "code",
   "execution_count": 168,
   "metadata": {},
   "outputs": [
    {
     "name": "stdout",
     "output_type": "stream",
     "text": [
      "<class 'pandas.core.frame.DataFrame'>\n",
      "Int64Index: 15179 entries, 0 to 15224\n",
      "Columns: 208 entries, id to notes_clean\n",
      "dtypes: datetime64[ns](2), float64(6), int32(180), int64(11), object(9)\n",
      "memory usage: 13.8+ MB\n"
     ]
    }
   ],
   "source": [
    "notes_mass.info()"
   ]
  },
  {
   "cell_type": "code",
   "execution_count": 169,
   "metadata": {},
   "outputs": [
    {
     "data": {
      "image/png": "[encoded data removed]",
      "text/plain": [
       "<Figure size 576x576 with 1 Axes>"
      ]
     },
     "metadata": {
      "needs_background": "light"
     },
     "output_type": "display_data"
    }
   ],
   "source": [
    "font = {'family': 'serif',\n",
    "        'color':  'midnightblue',\n",
    "        'weight': 'normal',\n",
    "        'size': 20,\n",
    "        }\n",
    "\n",
    "plt.figure(figsize=(8, 8))\n",
    "plt.plot(131)\n",
    "vectorize_and_plot(notes_mass, 'notes_clean', 'steelblue')\n",
    "plt.title('Most Frequent Words in Notes', fontdict=font)\n",
    "plt.yticks(fontsize=14)\n",
    "plt.xlabel('Frequency', fontdict=font)\n",
    "\n",
    "plt.savefig('frequency.png')"
   ]
  },
  {
   "cell_type": "markdown",
   "metadata": {},
   "source": [
    "### Checking out the Vader Library"
   ]
  },
  {
   "cell_type": "code",
   "execution_count": 170,
   "metadata": {},
   "outputs": [
    {
     "name": "stderr",
     "output_type": "stream",
     "text": [
      "[nltk_data] Downloading package vader_lexicon to\n",
      "[nltk_data]     /Users/emilynaftalin/nltk_data...\n",
      "[nltk_data]   Package vader_lexicon is already up-to-date!\n"
     ]
    },
    {
     "data": {
      "text/plain": [
       "True"
      ]
     },
     "execution_count": 170,
     "metadata": {},
     "output_type": "execute_result"
    }
   ],
   "source": [
    "nltk.download('vader_lexicon')"
   ]
  },
  {
   "cell_type": "code",
   "execution_count": 171,
   "metadata": {},
   "outputs": [
    {
     "data": {
      "text/plain": [
       "'/Users/emilynaftalin/Data_Science/General Assembly/dsi/projects/Mass-Protests/users'"
      ]
     },
     "execution_count": 171,
     "metadata": {},
     "output_type": "execute_result"
    }
   ],
   "source": [
    "pwd"
   ]
  },
  {
   "cell_type": "code",
   "execution_count": 172,
   "metadata": {},
   "outputs": [
    {
     "data": {
      "text/html": [
       "<div>\n",
       "<style scoped>\n",
       "    .dataframe tbody tr th:only-of-type {\n",
       "        vertical-align: middle;\n",
       "    }\n",
       "\n",
       "    .dataframe tbody tr th {\n",
       "        vertical-align: top;\n",
       "    }\n",
       "\n",
       "    .dataframe thead th {\n",
       "        text-align: right;\n",
       "    }\n",
       "</style>\n",
       "<table border=\"1\" class=\"dataframe\">\n",
       "  <thead>\n",
       "    <tr style=\"text-align: right;\">\n",
       "      <th></th>\n",
       "      <th>token</th>\n",
       "      <th>mean_sentiment_rating</th>\n",
       "      <th>standard_deviation</th>\n",
       "      <th>raw_human_sentiment_ratings</th>\n",
       "    </tr>\n",
       "  </thead>\n",
       "  <tbody>\n",
       "    <tr>\n",
       "      <th>3333</th>\n",
       "      <td>gorgeousness</td>\n",
       "      <td>2.9</td>\n",
       "      <td>0.94340</td>\n",
       "      <td>[3, 4, 3, 1, 4, 4, 2, 2, 3, 3]</td>\n",
       "    </tr>\n",
       "    <tr>\n",
       "      <th>3334</th>\n",
       "      <td>gorgeousnesses</td>\n",
       "      <td>2.1</td>\n",
       "      <td>0.70000</td>\n",
       "      <td>[3, 2, 1, 3, 2, 2, 1, 2, 3, 2]</td>\n",
       "    </tr>\n",
       "    <tr>\n",
       "      <th>3335</th>\n",
       "      <td>gossip</td>\n",
       "      <td>-0.7</td>\n",
       "      <td>0.45826</td>\n",
       "      <td>[-1, -1, -1, 0, 0, -1, -1, 0, -1, -1]</td>\n",
       "    </tr>\n",
       "    <tr>\n",
       "      <th>3336</th>\n",
       "      <td>gossiped</td>\n",
       "      <td>-1.1</td>\n",
       "      <td>0.53852</td>\n",
       "      <td>[-1, -1, -1, -1, -1, -1, 0, -1, -2, -2]</td>\n",
       "    </tr>\n",
       "    <tr>\n",
       "      <th>3337</th>\n",
       "      <td>gossiper</td>\n",
       "      <td>-1.1</td>\n",
       "      <td>0.70000</td>\n",
       "      <td>[-1, -1, -1, 0, -2, -1, -1, -2, 0, -2]</td>\n",
       "    </tr>\n",
       "    <tr>\n",
       "      <th>3338</th>\n",
       "      <td>gossipers</td>\n",
       "      <td>-1.1</td>\n",
       "      <td>0.53852</td>\n",
       "      <td>[-1, 0, -1, -1, -1, -1, -1, -1, -2, -2]</td>\n",
       "    </tr>\n",
       "    <tr>\n",
       "      <th>3339</th>\n",
       "      <td>gossiping</td>\n",
       "      <td>-1.6</td>\n",
       "      <td>0.48990</td>\n",
       "      <td>[-1, -2, -1, -2, -1, -2, -2, -1, -2, -2]</td>\n",
       "    </tr>\n",
       "    <tr>\n",
       "      <th>3340</th>\n",
       "      <td>gossipmonger</td>\n",
       "      <td>-1.0</td>\n",
       "      <td>1.41421</td>\n",
       "      <td>[-1, -2, 1, -3, -2, 1, -1, -2, -2, 1]</td>\n",
       "    </tr>\n",
       "    <tr>\n",
       "      <th>3341</th>\n",
       "      <td>gossipmongers</td>\n",
       "      <td>-1.4</td>\n",
       "      <td>0.66332</td>\n",
       "      <td>[-2, -1, -1, -1, -2, -2, -1, 0, -2, -2]</td>\n",
       "    </tr>\n",
       "    <tr>\n",
       "      <th>3342</th>\n",
       "      <td>gossipped</td>\n",
       "      <td>-1.3</td>\n",
       "      <td>0.90000</td>\n",
       "      <td>[-2, -2, -1, -2, -1, -1, -2, -1, 1, -2]</td>\n",
       "    </tr>\n",
       "    <tr>\n",
       "      <th>3343</th>\n",
       "      <td>gossipping</td>\n",
       "      <td>-1.8</td>\n",
       "      <td>0.60000</td>\n",
       "      <td>[-2, -1, -2, -2, -1, -2, -2, -1, -3, -2]</td>\n",
       "    </tr>\n",
       "    <tr>\n",
       "      <th>3344</th>\n",
       "      <td>gossipries</td>\n",
       "      <td>-0.8</td>\n",
       "      <td>0.60000</td>\n",
       "      <td>[-1, -1, -1, 0, -1, 0, -1, 0, -2, -1]</td>\n",
       "    </tr>\n",
       "  </tbody>\n",
       "</table>\n",
       "</div>"
      ],
      "text/plain": [
       "               token  mean_sentiment_rating  standard_deviation  \\\n",
       "3333    gorgeousness                    2.9             0.94340   \n",
       "3334  gorgeousnesses                    2.1             0.70000   \n",
       "3335          gossip                   -0.7             0.45826   \n",
       "3336        gossiped                   -1.1             0.53852   \n",
       "3337        gossiper                   -1.1             0.70000   \n",
       "3338       gossipers                   -1.1             0.53852   \n",
       "3339       gossiping                   -1.6             0.48990   \n",
       "3340    gossipmonger                   -1.0             1.41421   \n",
       "3341   gossipmongers                   -1.4             0.66332   \n",
       "3342       gossipped                   -1.3             0.90000   \n",
       "3343      gossipping                   -1.8             0.60000   \n",
       "3344      gossipries                   -0.8             0.60000   \n",
       "\n",
       "                   raw_human_sentiment_ratings  \n",
       "3333            [3, 4, 3, 1, 4, 4, 2, 2, 3, 3]  \n",
       "3334            [3, 2, 1, 3, 2, 2, 1, 2, 3, 2]  \n",
       "3335     [-1, -1, -1, 0, 0, -1, -1, 0, -1, -1]  \n",
       "3336   [-1, -1, -1, -1, -1, -1, 0, -1, -2, -2]  \n",
       "3337    [-1, -1, -1, 0, -2, -1, -1, -2, 0, -2]  \n",
       "3338   [-1, 0, -1, -1, -1, -1, -1, -1, -2, -2]  \n",
       "3339  [-1, -2, -1, -2, -1, -2, -2, -1, -2, -2]  \n",
       "3340     [-1, -2, 1, -3, -2, 1, -1, -2, -2, 1]  \n",
       "3341   [-2, -1, -1, -1, -2, -2, -1, 0, -2, -2]  \n",
       "3342   [-2, -2, -1, -2, -1, -1, -2, -1, 1, -2]  \n",
       "3343  [-2, -1, -2, -2, -1, -2, -2, -1, -3, -2]  \n",
       "3344     [-1, -1, -1, 0, -1, 0, -1, 0, -2, -1]  "
      ]
     },
     "execution_count": 172,
     "metadata": {},
     "output_type": "execute_result"
    }
   ],
   "source": [
    "# code from Paul \n",
    "vader_lexicon = pd.read_csv('../data/vader_lexicon.txt', sep='\\t', header=0, names=['token', 'mean_sentiment_rating', 'standard_deviation', 'raw_human_sentiment_ratings'])\n",
    "vader_lexicon.iloc[3333:3345]"
   ]
  },
  {
   "cell_type": "code",
   "execution_count": 173,
   "metadata": {},
   "outputs": [
    {
     "name": "stdout",
     "output_type": "stream",
     "text": [
      "There are 7519 words in the VADER lexicon.\n"
     ]
    }
   ],
   "source": [
    "print (f'There are {vader_lexicon.shape[0]} words in the VADER lexicon.' )"
   ]
  },
  {
   "cell_type": "code",
   "execution_count": 174,
   "metadata": {},
   "outputs": [],
   "source": [
    "# Instantiate Sentiment Intensity Analyzer\n",
    "sent = SentimentIntensityAnalyzer()"
   ]
  },
  {
   "cell_type": "markdown",
   "metadata": {},
   "source": [
    "According to the [documentation]('https://github.com/cjhutto/vaderSentiment'):\n",
    "\n",
    "+ A score of -4 equates to Extremely Negative.\n",
    "+ A score of 4 equates to Extremely Postiive. \n",
    "\n",
    "If the term is not in the Vader Lexicon, the score defaults to neutral. The analyzer always returns scores (negative, neutral, positive) that add up to 1. \n",
    "\n",
    "From the [documentation]('https://github.com/cjhutto/vaderSentiment'):\n",
    "The compound score is computed by summing the valence scores of each word in the lexicon, adjusted according to the rules, and then normalized to be between -1 (most extreme negative) and +1 (most extreme positive)."
   ]
  },
  {
   "cell_type": "markdown",
   "metadata": {},
   "source": [
    "**Example using some frequent words:** "
   ]
  },
  {
   "cell_type": "code",
   "execution_count": 175,
   "metadata": {},
   "outputs": [
    {
     "name": "stdout",
     "output_type": "stream",
     "text": [
      "\"police\" sentiment: {'neg': 0.0, 'neu': 1.0, 'pos': 0.0, 'compound': 0.0}\n"
     ]
    }
   ],
   "source": [
    "print(f'\"police\" sentiment: {sent.polarity_scores(\"police\")}')"
   ]
  },
  {
   "cell_type": "code",
   "execution_count": 176,
   "metadata": {},
   "outputs": [
    {
     "name": "stdout",
     "output_type": "stream",
     "text": [
      "\"protest\" sentiment: {'neg': 1.0, 'neu': 0.0, 'pos': 0.0, 'compound': -0.25}\n",
      "\"protester\" sentiment: {'neg': 0.0, 'neu': 1.0, 'pos': 0.0, 'compound': 0.0}\n"
     ]
    }
   ],
   "source": [
    "print(f'\"protest\" sentiment: {sent.polarity_scores(\"protest\")}')\n",
    "print(f'\"protester\" sentiment: {sent.polarity_scores(\"protester\")}')"
   ]
  },
  {
   "cell_type": "markdown",
   "metadata": {},
   "source": [
    "**Now example using full entries from the `notes_clean` column:**"
   ]
  },
  {
   "cell_type": "code",
   "execution_count": 177,
   "metadata": {},
   "outputs": [
    {
     "data": {
      "text/plain": [
       "{'neg': 0.126, 'neu': 0.775, 'pos': 0.099, 'compound': -0.3182}"
      ]
     },
     "execution_count": 177,
     "metadata": {},
     "output_type": "execute_result"
    }
   ],
   "source": [
    "sent.polarity_scores(\"a proposal to allow canadians to use muslim religious law, or sharia, to settle family disputes has provoked protests near and far... homa arjomand, who organised a protest that attracted about people in toronto, said: the rise of sharia in canada...is a threat. women s rights are not negotiable and we will not tolerate the interference of religion in our justice system. ontario has allowed catholic and jewish faith based tribunals to settle family law matters on a voluntary basis since the practice drew little attention until muslim leaders demanded the same rights. canadian politicians must decide whether to exclude one religion or to scrap the religion based family courts altogether.\")"
   ]
  },
  {
   "cell_type": "code",
   "execution_count": 178,
   "metadata": {},
   "outputs": [
    {
     "data": {
      "text/plain": [
       "{'neg': 0.359, 'neu': 0.641, 'pos': 0.0, 'compound': -0.8442}"
      ]
     },
     "execution_count": 178,
     "metadata": {},
     "output_type": "execute_result"
    }
   ],
   "source": [
    "sent.polarity_scores(notes_mass['notes_clean'].iloc[28])"
   ]
  },
  {
   "cell_type": "code",
   "execution_count": 179,
   "metadata": {},
   "outputs": [
    {
     "data": {
      "text/plain": [
       "'the protesters demanded that the canadian government apply pressure through sanctions on the sri lankan government to cease violence against tamil civilians.'"
      ]
     },
     "execution_count": 179,
     "metadata": {},
     "output_type": "execute_result"
    }
   ],
   "source": [
    "notes_mass['notes_clean'].iloc[28]"
   ]
  },
  {
   "cell_type": "code",
   "execution_count": 180,
   "metadata": {},
   "outputs": [
    {
     "data": {
      "text/plain": [
       "{'neg': 0.359, 'neu': 0.641, 'pos': 0.0, 'compound': -0.8442}"
      ]
     },
     "execution_count": 180,
     "metadata": {},
     "output_type": "execute_result"
    }
   ],
   "source": [
    "sent.polarity_scores('the protesters demanded that the canadian government apply pressure through sanctions on the sri lankan government to cease violence against tamil civilians.')"
   ]
  },
  {
   "cell_type": "markdown",
   "metadata": {},
   "source": [
    "Loop through every row in the `notes_mass` DataFrame and append columns for the negative, neutral, positive, and compound scores. "
   ]
  },
  {
   "cell_type": "code",
   "execution_count": 181,
   "metadata": {},
   "outputs": [],
   "source": [
    "notes_mass['neg'] = [sent.polarity_scores(note)['neg'] for note in notes_mass['notes_clean']]\n",
    "notes_mass['neu'] = [sent.polarity_scores(note)['neu'] for note in notes_mass['notes_clean']]\n",
    "notes_mass['pos'] = [sent.polarity_scores(note)['pos'] for note in notes_mass['notes_clean']]\n",
    "notes_mass['compound'] = [sent.polarity_scores(note)['compound'] for note in notes_mass['notes_clean']]"
   ]
  },
  {
   "cell_type": "code",
   "execution_count": 182,
   "metadata": {},
   "outputs": [
    {
     "data": {
      "text/plain": [
       "Index(['id', 'country', 'ccode', 'region', 'protestnumber',\n",
       "       'protesterviolence', 'location', 'protesteridentity', 'sources',\n",
       "       'notes',\n",
       "       ...\n",
       "       'price increases_tax_policy', 'removal_of_politician',\n",
       "       'social_restrictions', 'start_date', 'end_date', 'notes_clean', 'neg',\n",
       "       'neu', 'pos', 'compound'],\n",
       "      dtype='object', length=212)"
      ]
     },
     "execution_count": 182,
     "metadata": {},
     "output_type": "execute_result"
    }
   ],
   "source": [
    "notes_mass.columns"
   ]
  },
  {
   "cell_type": "code",
   "execution_count": 183,
   "metadata": {},
   "outputs": [],
   "source": [
    "# notes_mass.drop(columns=['neg','neu', 'pos', 'compound'], inplace=True)"
   ]
  },
  {
   "cell_type": "code",
   "execution_count": 184,
   "metadata": {},
   "outputs": [],
   "source": [
    "# [ notes_mass.loc[note, notes_mass['neg'] = sent.polarity_scores(note)['neg'] for note in notes_mass['notes_clean'] ]"
   ]
  },
  {
   "cell_type": "code",
   "execution_count": 185,
   "metadata": {},
   "outputs": [],
   "source": [
    "pd.options.display.max_colwidth = 100"
   ]
  },
  {
   "cell_type": "code",
   "execution_count": 186,
   "metadata": {},
   "outputs": [
    {
     "data": {
      "text/html": [
       "<div>\n",
       "<style scoped>\n",
       "    .dataframe tbody tr th:only-of-type {\n",
       "        vertical-align: middle;\n",
       "    }\n",
       "\n",
       "    .dataframe tbody tr th {\n",
       "        vertical-align: top;\n",
       "    }\n",
       "\n",
       "    .dataframe thead th {\n",
       "        text-align: right;\n",
       "    }\n",
       "</style>\n",
       "<table border=\"1\" class=\"dataframe\">\n",
       "  <thead>\n",
       "    <tr style=\"text-align: right;\">\n",
       "      <th></th>\n",
       "      <th>id</th>\n",
       "      <th>country</th>\n",
       "      <th>ccode</th>\n",
       "      <th>region</th>\n",
       "      <th>protestnumber</th>\n",
       "      <th>protesterviolence</th>\n",
       "      <th>location</th>\n",
       "      <th>protesteridentity</th>\n",
       "      <th>sources</th>\n",
       "      <th>notes</th>\n",
       "      <th>...</th>\n",
       "      <th>price increases_tax_policy</th>\n",
       "      <th>removal_of_politician</th>\n",
       "      <th>social_restrictions</th>\n",
       "      <th>start_date</th>\n",
       "      <th>end_date</th>\n",
       "      <th>notes_clean</th>\n",
       "      <th>neg</th>\n",
       "      <th>neu</th>\n",
       "      <th>pos</th>\n",
       "      <th>compound</th>\n",
       "    </tr>\n",
       "  </thead>\n",
       "  <tbody>\n",
       "    <tr>\n",
       "      <th>0</th>\n",
       "      <td>201990001</td>\n",
       "      <td>Canada</td>\n",
       "      <td>20</td>\n",
       "      <td>North America</td>\n",
       "      <td>1</td>\n",
       "      <td>0.0</td>\n",
       "      <td>national</td>\n",
       "      <td>unspecified</td>\n",
       "      <td>1. great canadian train journeys into history; passenger rail system cut the times london , janu...</td>\n",
       "      <td>canada s railway passenger system was finally cut by half yesterday, with 18 of 38 routes run by...</td>\n",
       "      <td>...</td>\n",
       "      <td>0</td>\n",
       "      <td>0</td>\n",
       "      <td>0</td>\n",
       "      <td>1990-01-15</td>\n",
       "      <td>1990-01-15</td>\n",
       "      <td>canada s railway passenger system was finally cut by half yesterday, with   of   routes run by v...</td>\n",
       "      <td>0.087</td>\n",
       "      <td>0.913</td>\n",
       "      <td>0.000</td>\n",
       "      <td>-0.8176</td>\n",
       "    </tr>\n",
       "    <tr>\n",
       "      <th>1</th>\n",
       "      <td>201990002</td>\n",
       "      <td>Canada</td>\n",
       "      <td>20</td>\n",
       "      <td>North America</td>\n",
       "      <td>2</td>\n",
       "      <td>0.0</td>\n",
       "      <td>Montreal, Quebec</td>\n",
       "      <td>unspecified</td>\n",
       "      <td>1. autonomy s cry revived in quebec the new york times, june 25, 1990, monday, late edition fina...</td>\n",
       "      <td>protestors were only identified as young people, and the gathering was spontaneous</td>\n",
       "      <td>...</td>\n",
       "      <td>0</td>\n",
       "      <td>0</td>\n",
       "      <td>0</td>\n",
       "      <td>1990-06-25</td>\n",
       "      <td>1990-06-25</td>\n",
       "      <td>protestors were only identified as young people, and the gathering was spontaneous</td>\n",
       "      <td>0.000</td>\n",
       "      <td>1.000</td>\n",
       "      <td>0.000</td>\n",
       "      <td>0.0000</td>\n",
       "    </tr>\n",
       "    <tr>\n",
       "      <th>2</th>\n",
       "      <td>201990003</td>\n",
       "      <td>Canada</td>\n",
       "      <td>20</td>\n",
       "      <td>North America</td>\n",
       "      <td>3</td>\n",
       "      <td>0.0</td>\n",
       "      <td>Montreal, Quebec</td>\n",
       "      <td>separatist parti quebecois</td>\n",
       "      <td>1. quebec protest after queen calls for unity the times, july 2, 1990, monday, overseas news, 70...</td>\n",
       "      <td>the queen, after calling on canadians to remain united, braved protesters and entered french spe...</td>\n",
       "      <td>...</td>\n",
       "      <td>0</td>\n",
       "      <td>0</td>\n",
       "      <td>0</td>\n",
       "      <td>1990-07-01</td>\n",
       "      <td>1990-07-01</td>\n",
       "      <td>the queen, after calling on canadians to remain united, braved protesters and entered french spe...</td>\n",
       "      <td>0.060</td>\n",
       "      <td>0.830</td>\n",
       "      <td>0.109</td>\n",
       "      <td>0.7003</td>\n",
       "    </tr>\n",
       "    <tr>\n",
       "      <th>3</th>\n",
       "      <td>201990004</td>\n",
       "      <td>Canada</td>\n",
       "      <td>20</td>\n",
       "      <td>North America</td>\n",
       "      <td>4</td>\n",
       "      <td>1.0</td>\n",
       "      <td>Montreal, Quebec</td>\n",
       "      <td>mohawk indians</td>\n",
       "      <td>1. indians gather as siege intensifies; armed confrontation in canada reflects growing militancy...</td>\n",
       "      <td>canada s federal government has agreed to acquire a tract of land that has been the subject of a...</td>\n",
       "      <td>...</td>\n",
       "      <td>0</td>\n",
       "      <td>0</td>\n",
       "      <td>0</td>\n",
       "      <td>1990-07-12</td>\n",
       "      <td>1990-09-06</td>\n",
       "      <td>canada s federal government has agreed to acquire a tract of land that has been the subject of a...</td>\n",
       "      <td>0.134</td>\n",
       "      <td>0.820</td>\n",
       "      <td>0.046</td>\n",
       "      <td>-0.9711</td>\n",
       "    </tr>\n",
       "    <tr>\n",
       "      <th>4</th>\n",
       "      <td>201990005</td>\n",
       "      <td>Canada</td>\n",
       "      <td>20</td>\n",
       "      <td>North America</td>\n",
       "      <td>5</td>\n",
       "      <td>1.0</td>\n",
       "      <td>Montreal, Quebec</td>\n",
       "      <td>local residents</td>\n",
       "      <td>1. dozens hurt in mohawk blockade protest the times, august 14, 1990, tuesday, overseas news, 25...</td>\n",
       "      <td>protests were directed against the state due to its refusal to use violence to clear mohawk indi...</td>\n",
       "      <td>...</td>\n",
       "      <td>0</td>\n",
       "      <td>0</td>\n",
       "      <td>0</td>\n",
       "      <td>1990-08-14</td>\n",
       "      <td>1990-08-15</td>\n",
       "      <td>protests were directed against the state due to its refusal to use violence to clear mohawk indi...</td>\n",
       "      <td>0.226</td>\n",
       "      <td>0.677</td>\n",
       "      <td>0.098</td>\n",
       "      <td>-0.5267</td>\n",
       "    </tr>\n",
       "  </tbody>\n",
       "</table>\n",
       "<p>5 rows × 212 columns</p>\n",
       "</div>"
      ],
      "text/plain": [
       "          id country  ccode         region  protestnumber  protesterviolence  \\\n",
       "0  201990001  Canada     20  North America              1                0.0   \n",
       "1  201990002  Canada     20  North America              2                0.0   \n",
       "2  201990003  Canada     20  North America              3                0.0   \n",
       "3  201990004  Canada     20  North America              4                1.0   \n",
       "4  201990005  Canada     20  North America              5                1.0   \n",
       "\n",
       "           location           protesteridentity  \\\n",
       "0          national                 unspecified   \n",
       "1  Montreal, Quebec                 unspecified   \n",
       "2  Montreal, Quebec  separatist parti quebecois   \n",
       "3  Montreal, Quebec              mohawk indians   \n",
       "4  Montreal, Quebec             local residents   \n",
       "\n",
       "                                                                                               sources  \\\n",
       "0  1. great canadian train journeys into history; passenger rail system cut the times london , janu...   \n",
       "1  1. autonomy s cry revived in quebec the new york times, june 25, 1990, monday, late edition fina...   \n",
       "2  1. quebec protest after queen calls for unity the times, july 2, 1990, monday, overseas news, 70...   \n",
       "3  1. indians gather as siege intensifies; armed confrontation in canada reflects growing militancy...   \n",
       "4  1. dozens hurt in mohawk blockade protest the times, august 14, 1990, tuesday, overseas news, 25...   \n",
       "\n",
       "                                                                                                 notes  \\\n",
       "0  canada s railway passenger system was finally cut by half yesterday, with 18 of 38 routes run by...   \n",
       "1                   protestors were only identified as young people, and the gathering was spontaneous   \n",
       "2  the queen, after calling on canadians to remain united, braved protesters and entered french spe...   \n",
       "3  canada s federal government has agreed to acquire a tract of land that has been the subject of a...   \n",
       "4  protests were directed against the state due to its refusal to use violence to clear mohawk indi...   \n",
       "\n",
       "   ... price increases_tax_policy  removal_of_politician social_restrictions  \\\n",
       "0  ...                          0                      0                   0   \n",
       "1  ...                          0                      0                   0   \n",
       "2  ...                          0                      0                   0   \n",
       "3  ...                          0                      0                   0   \n",
       "4  ...                          0                      0                   0   \n",
       "\n",
       "   start_date   end_date  \\\n",
       "0  1990-01-15 1990-01-15   \n",
       "1  1990-06-25 1990-06-25   \n",
       "2  1990-07-01 1990-07-01   \n",
       "3  1990-07-12 1990-09-06   \n",
       "4  1990-08-14 1990-08-15   \n",
       "\n",
       "                                                                                           notes_clean  \\\n",
       "0  canada s railway passenger system was finally cut by half yesterday, with   of   routes run by v...   \n",
       "1                   protestors were only identified as young people, and the gathering was spontaneous   \n",
       "2  the queen, after calling on canadians to remain united, braved protesters and entered french spe...   \n",
       "3  canada s federal government has agreed to acquire a tract of land that has been the subject of a...   \n",
       "4  protests were directed against the state due to its refusal to use violence to clear mohawk indi...   \n",
       "\n",
       "     neg    neu    pos  compound  \n",
       "0  0.087  0.913  0.000   -0.8176  \n",
       "1  0.000  1.000  0.000    0.0000  \n",
       "2  0.060  0.830  0.109    0.7003  \n",
       "3  0.134  0.820  0.046   -0.9711  \n",
       "4  0.226  0.677  0.098   -0.5267  \n",
       "\n",
       "[5 rows x 212 columns]"
      ]
     },
     "execution_count": 186,
     "metadata": {},
     "output_type": "execute_result"
    }
   ],
   "source": [
    "notes_mass.head()"
   ]
  },
  {
   "cell_type": "code",
   "execution_count": 187,
   "metadata": {},
   "outputs": [
    {
     "data": {
      "text/plain": [
       "'/Users/emilynaftalin/Data_Science/General Assembly/dsi/projects/Mass-Protests/users'"
      ]
     },
     "execution_count": 187,
     "metadata": {},
     "output_type": "execute_result"
    }
   ],
   "source": [
    "pwd"
   ]
  },
  {
   "cell_type": "code",
   "execution_count": 189,
   "metadata": {},
   "outputs": [],
   "source": [
    "notes_mass.to_pickle('../data/03_mass_notes_sentiment_analysis.pickle')"
   ]
  },
  {
   "cell_type": "code",
   "execution_count": null,
   "metadata": {},
   "outputs": [],
   "source": []
  }
 ],
 "metadata": {
  "kernelspec": {
   "display_name": "Python 3",
   "language": "python",
   "name": "python3"
  },
  "language_info": {
   "codemirror_mode": {
    "name": "ipython",
    "version": 3
   },
   "file_extension": ".py",
   "mimetype": "text/x-python",
   "name": "python",
   "nbconvert_exporter": "python",
   "pygments_lexer": "ipython3",
   "version": "3.8.5"
  }
 },
 "nbformat": 4,
 "nbformat_minor": 4
}
