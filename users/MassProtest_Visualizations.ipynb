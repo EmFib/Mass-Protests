{
 "cells": [
  {
   "cell_type": "code",
   "execution_count": 1,
   "metadata": {},
   "outputs": [],
   "source": [
    "import pandas as pd\n",
    "import numpy as np\n",
    "import matplotlib.pyplot as plt\n",
    "import seaborn as sns\n",
    "import geopandas as gpd\n",
    "\n",
    "import sys\n",
    "import resource, sys\n"
   ]
  },
  {
   "cell_type": "code",
   "execution_count": 4,
   "metadata": {},
   "outputs": [
    {
     "name": "stdout",
     "output_type": "stream",
     "text": [
      "/Users/heatherjohansen/Desktop/dsi/Projects/Mass-Protests\n"
     ]
    }
   ],
   "source": [
    "cd .."
   ]
  },
  {
   "cell_type": "code",
   "execution_count": 5,
   "metadata": {},
   "outputs": [],
   "source": [
    "mass = pd.read_csv('./data/mass_mobile.csv')\n",
    "mass.reset_index(drop=True, inplace=True) "
   ]
  },
  {
   "cell_type": "code",
   "execution_count": 6,
   "metadata": {},
   "outputs": [],
   "source": [
    "mass.drop(columns='Unnamed: 0', inplace=True)"
   ]
  },
  {
   "cell_type": "code",
   "execution_count": 7,
   "metadata": {},
   "outputs": [
    {
     "data": {
      "text/plain": [
       "region_Africa                            0\n",
       "region_Asia                              0\n",
       "region_Central America                   0\n",
       "region_Europe                            0\n",
       "region_MENA                              0\n",
       "region_North America                     0\n",
       "region_Oceania                           0\n",
       "region_South America                     0\n",
       "protest_size_category_1,000-4,999        0\n",
       "protest_size_category_10,000-100,000     0\n",
       "protest_size_category_100-999            0\n",
       "protest_size_category_5,000-9,999        0\n",
       "protest_size_category_50-99              0\n",
       "protest_size_category_Less than 50       0\n",
       "protest_size_category_Over 100,000       0\n",
       "protester_id_type_civil_human_rights     0\n",
       "protester_id_type_ethnic_group           0\n",
       "protester_id_type_locals_residents       0\n",
       "protester_id_type_pensioners_retirees    0\n",
       "protester_id_type_political_group        0\n",
       "protester_id_type_prisoners              0\n",
       "protester_id_type_protestors_generic     0\n",
       "protester_id_type_religious_group        0\n",
       "protester_id_type_soldiers_veterans      0\n",
       "protester_id_type_students_youth         0\n",
       "protester_id_type_victims_families       0\n",
       "protester_id_type_women                  0\n",
       "protester_id_type_workers_unions         0\n",
       "arrests                                  0\n",
       "accomodation                             0\n",
       "beatings                                 0\n",
       "crowddispersal                           0\n",
       "ignore                                   0\n",
       "killings                                 0\n",
       "shootings                                0\n",
       "labor_wage_dispute                       0\n",
       "land_farm_issue                          0\n",
       "police_brutality                         0\n",
       "political_behavior_process               0\n",
       "price increases_tax_policy               0\n",
       "removal_of_politician                    0\n",
       "social_restrictions                      0\n",
       "start_date                               0\n",
       "end_date                                 0\n",
       "target                                   0\n",
       "notes_clean                              0\n",
       "neg                                      0\n",
       "neu                                      0\n",
       "pos                                      0\n",
       "compound                                 0\n",
       "dtype: int64"
      ]
     },
     "execution_count": 7,
     "metadata": {},
     "output_type": "execute_result"
    }
   ],
   "source": [
    "mass.isnull().sum().tail(50)"
   ]
  },
  {
   "cell_type": "code",
   "execution_count": 8,
   "metadata": {},
   "outputs": [],
   "source": [
    "mass['num_state_responses'] = mass['arrests'] + mass['accomodation'] + mass['beatings'] + mass['crowddispersal'] + mass['ignore'] + mass['killings'] + mass['shootings']"
   ]
  },
  {
   "cell_type": "code",
   "execution_count": 17,
   "metadata": {},
   "outputs": [],
   "source": [
    "mass = mass[mass['num_state_responses'] != 0]"
   ]
  },
  {
   "cell_type": "code",
   "execution_count": 18,
   "metadata": {},
   "outputs": [
    {
     "data": {
      "image/png": "[encoded data removed]",
      "text/plain": [
       "<Figure size 432x288 with 1 Axes>"
      ]
     },
     "metadata": {
      "needs_background": "light"
     },
     "output_type": "display_data"
    },
    {
     "data": {
      "image/png": "[encoded data removed]",
      "text/plain": [
       "<Figure size 432x288 with 1 Axes>"
      ]
     },
     "metadata": {
      "needs_background": "light"
     },
     "output_type": "display_data"
    }
   ],
   "source": [
    "mass['num_state_responses'].plot(kind='hist', title='Number of State Responses')\n",
    "plt.show();\n",
    "\n",
    "# ordered_categories = ['0', '1', '2', '3',  '4', '5', '6']\n",
    "# protest_cats = pd.DataFrame(mass.protest_size_category.value_counts())\n",
    "# protest_cats = protest_cats.reindex(ordered_categories)\n",
    "# fig_dims = (10, 6)\n",
    "# fig, ax = plt.subplots(figsize=fig_dims)\n",
    "# ax = sns.barplot(x=protest_cats.index, y = 'protest_size_category' , data=protest_cats, ax=ax, palette='coolwarm')\n",
    "# ax.set_title(\"Protest Size Categories\",fontsize=20)\n",
    "# ax.set_xlabel(\"Protest Size\",fontsize=15)\n",
    "# ax.set_ylabel(\"Number of Particpants\",fontsize=15)\n",
    "# ax.tick_params(labelsize=10)\n",
    "\n",
    "mass['num_state_responses'].value_counts().sort_values().plot(kind='barh', color='teal', title='Number of State Responses')\n",
    "plt.show();"
   ]
  },
  {
   "cell_type": "markdown",
   "metadata": {},
   "source": []
  }
 ],
 "metadata": {
  "kernelspec": {
   "display_name": "Python 3",
   "language": "python",
   "name": "python3"
  },
  "language_info": {
   "codemirror_mode": {
    "name": "ipython",
    "version": 3
   },
   "file_extension": ".py",
   "mimetype": "text/x-python",
   "name": "python",
   "nbconvert_exporter": "python",
   "pygments_lexer": "ipython3",
   "version": "3.8.3"
  }
 },
 "nbformat": 4,
 "nbformat_minor": 4
}
