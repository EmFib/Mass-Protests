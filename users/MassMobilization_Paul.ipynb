{
 "cells": [
  {
   "cell_type": "code",
   "execution_count": 269,
   "metadata": {},
   "outputs": [],
   "source": [
    "import pandas as pd\n",
    "import numpy as np"
   ]
  },
  {
   "cell_type": "code",
   "execution_count": 270,
   "metadata": {},
   "outputs": [
    {
     "data": {
      "text/html": [
       "<div>\n",
       "<style scoped>\n",
       "    .dataframe tbody tr th:only-of-type {\n",
       "        vertical-align: middle;\n",
       "    }\n",
       "\n",
       "    .dataframe tbody tr th {\n",
       "        vertical-align: top;\n",
       "    }\n",
       "\n",
       "    .dataframe thead th {\n",
       "        text-align: right;\n",
       "    }\n",
       "</style>\n",
       "<table border=\"1\" class=\"dataframe\">\n",
       "  <thead>\n",
       "    <tr style=\"text-align: right;\">\n",
       "      <th></th>\n",
       "      <th>id</th>\n",
       "      <th>country</th>\n",
       "      <th>ccode</th>\n",
       "      <th>year</th>\n",
       "      <th>region</th>\n",
       "      <th>protest</th>\n",
       "      <th>protestnumber</th>\n",
       "      <th>startday</th>\n",
       "      <th>startmonth</th>\n",
       "      <th>startyear</th>\n",
       "      <th>...</th>\n",
       "      <th>protesterdemand4</th>\n",
       "      <th>stateresponse1</th>\n",
       "      <th>stateresponse2</th>\n",
       "      <th>stateresponse3</th>\n",
       "      <th>stateresponse4</th>\n",
       "      <th>stateresponse5</th>\n",
       "      <th>stateresponse6</th>\n",
       "      <th>stateresponse7</th>\n",
       "      <th>sources</th>\n",
       "      <th>notes</th>\n",
       "    </tr>\n",
       "  </thead>\n",
       "  <tbody>\n",
       "    <tr>\n",
       "      <th>0</th>\n",
       "      <td>201990001</td>\n",
       "      <td>Canada</td>\n",
       "      <td>20</td>\n",
       "      <td>1990</td>\n",
       "      <td>North America</td>\n",
       "      <td>1</td>\n",
       "      <td>1</td>\n",
       "      <td>15.0</td>\n",
       "      <td>1.0</td>\n",
       "      <td>1990.0</td>\n",
       "      <td>...</td>\n",
       "      <td>NaN</td>\n",
       "      <td>ignore</td>\n",
       "      <td>NaN</td>\n",
       "      <td>NaN</td>\n",
       "      <td>NaN</td>\n",
       "      <td>NaN</td>\n",
       "      <td>NaN</td>\n",
       "      <td>NaN</td>\n",
       "      <td>1. great canadian train journeys into history;...</td>\n",
       "      <td>canada s railway passenger system was finally ...</td>\n",
       "    </tr>\n",
       "    <tr>\n",
       "      <th>1</th>\n",
       "      <td>201990002</td>\n",
       "      <td>Canada</td>\n",
       "      <td>20</td>\n",
       "      <td>1990</td>\n",
       "      <td>North America</td>\n",
       "      <td>1</td>\n",
       "      <td>2</td>\n",
       "      <td>25.0</td>\n",
       "      <td>6.0</td>\n",
       "      <td>1990.0</td>\n",
       "      <td>...</td>\n",
       "      <td>NaN</td>\n",
       "      <td>ignore</td>\n",
       "      <td>NaN</td>\n",
       "      <td>NaN</td>\n",
       "      <td>NaN</td>\n",
       "      <td>NaN</td>\n",
       "      <td>NaN</td>\n",
       "      <td>NaN</td>\n",
       "      <td>1. autonomy s cry revived in quebec the new yo...</td>\n",
       "      <td>protestors were only identified as young peopl...</td>\n",
       "    </tr>\n",
       "  </tbody>\n",
       "</table>\n",
       "<p>2 rows × 31 columns</p>\n",
       "</div>"
      ],
      "text/plain": [
       "          id country  ccode  year         region  protest  protestnumber  \\\n",
       "0  201990001  Canada     20  1990  North America        1              1   \n",
       "1  201990002  Canada     20  1990  North America        1              2   \n",
       "\n",
       "   startday  startmonth  startyear  ...  protesterdemand4  stateresponse1  \\\n",
       "0      15.0         1.0     1990.0  ...               NaN          ignore   \n",
       "1      25.0         6.0     1990.0  ...               NaN          ignore   \n",
       "\n",
       "   stateresponse2  stateresponse3 stateresponse4 stateresponse5  \\\n",
       "0             NaN             NaN            NaN            NaN   \n",
       "1             NaN             NaN            NaN            NaN   \n",
       "\n",
       "  stateresponse6 stateresponse7  \\\n",
       "0            NaN            NaN   \n",
       "1            NaN            NaN   \n",
       "\n",
       "                                             sources  \\\n",
       "0  1. great canadian train journeys into history;...   \n",
       "1  1. autonomy s cry revived in quebec the new yo...   \n",
       "\n",
       "                                               notes  \n",
       "0  canada s railway passenger system was finally ...  \n",
       "1  protestors were only identified as young peopl...  \n",
       "\n",
       "[2 rows x 31 columns]"
      ]
     },
     "execution_count": 270,
     "metadata": {},
     "output_type": "execute_result"
    }
   ],
   "source": [
    "mass = pd.read_csv('../source/mmALL_073120_csv.csv')\n",
    "mass.head(2)"
   ]
  },
  {
   "cell_type": "code",
   "execution_count": 316,
   "metadata": {},
   "outputs": [
    {
     "name": "stdout",
     "output_type": "stream",
     "text": [
      "There are 166 countries in the mass protest dataframe.\n"
     ]
    }
   ],
   "source": [
    "print (f'There are { len(set(list(mass[\"country\"]))) } countries in the mass protest dataframe.')"
   ]
  },
  {
   "cell_type": "markdown",
   "metadata": {},
   "source": [
    "---\n",
    "Load Prosperity Index data from first sheet of Prosperity Excel file."
   ]
  },
  {
   "cell_type": "code",
   "execution_count": 271,
   "metadata": {},
   "outputs": [],
   "source": [
    "prosperity_df = pd.read_excel('../data/Legatum_Prosperity_Index_Full_2020_Data_Set.xlsx', sheet_name=0)"
   ]
  },
  {
   "cell_type": "code",
   "execution_count": 276,
   "metadata": {},
   "outputs": [
    {
     "name": "stdout",
     "output_type": "stream",
     "text": [
      "The Prosperity Index contains scores on 167 countries.\n"
     ]
    }
   ],
   "source": [
    "print (f'The Prosperity Index contains scores on {prosperity_df.shape[0]} countries.')"
   ]
  },
  {
   "cell_type": "code",
   "execution_count": 277,
   "metadata": {},
   "outputs": [
    {
     "data": {
      "text/html": [
       "<div>\n",
       "<style scoped>\n",
       "    .dataframe tbody tr th:only-of-type {\n",
       "        vertical-align: middle;\n",
       "    }\n",
       "\n",
       "    .dataframe tbody tr th {\n",
       "        vertical-align: top;\n",
       "    }\n",
       "\n",
       "    .dataframe thead th {\n",
       "        text-align: right;\n",
       "    }\n",
       "</style>\n",
       "<table border=\"1\" class=\"dataframe\">\n",
       "  <thead>\n",
       "    <tr style=\"text-align: right;\">\n",
       "      <th></th>\n",
       "      <th>area_name</th>\n",
       "      <th>area_code</th>\n",
       "      <th>area_group</th>\n",
       "      <th>rank_2007</th>\n",
       "      <th>rank_2008</th>\n",
       "      <th>rank_2009</th>\n",
       "      <th>rank_2010</th>\n",
       "      <th>rank_2011</th>\n",
       "      <th>rank_2012</th>\n",
       "      <th>rank_2013</th>\n",
       "      <th>...</th>\n",
       "      <th>score_2011</th>\n",
       "      <th>score_2012</th>\n",
       "      <th>score_2013</th>\n",
       "      <th>score_2014</th>\n",
       "      <th>score_2015</th>\n",
       "      <th>score_2016</th>\n",
       "      <th>score_2017</th>\n",
       "      <th>score_2018</th>\n",
       "      <th>score_2019</th>\n",
       "      <th>score_2020</th>\n",
       "    </tr>\n",
       "  </thead>\n",
       "  <tbody>\n",
       "    <tr>\n",
       "      <th>0</th>\n",
       "      <td>Afghanistan</td>\n",
       "      <td>AFG</td>\n",
       "      <td>Asia-Pacific</td>\n",
       "      <td>163</td>\n",
       "      <td>163</td>\n",
       "      <td>162</td>\n",
       "      <td>161</td>\n",
       "      <td>162</td>\n",
       "      <td>161</td>\n",
       "      <td>160</td>\n",
       "      <td>...</td>\n",
       "      <td>34.018804</td>\n",
       "      <td>33.529762</td>\n",
       "      <td>34.848416</td>\n",
       "      <td>35.455467</td>\n",
       "      <td>33.878693</td>\n",
       "      <td>34.122529</td>\n",
       "      <td>34.704901</td>\n",
       "      <td>33.234143</td>\n",
       "      <td>33.607822</td>\n",
       "      <td>34.350055</td>\n",
       "    </tr>\n",
       "    <tr>\n",
       "      <th>1</th>\n",
       "      <td>Albania</td>\n",
       "      <td>ALB</td>\n",
       "      <td>Eastern Europe</td>\n",
       "      <td>74</td>\n",
       "      <td>75</td>\n",
       "      <td>76</td>\n",
       "      <td>67</td>\n",
       "      <td>66</td>\n",
       "      <td>65</td>\n",
       "      <td>66</td>\n",
       "      <td>...</td>\n",
       "      <td>57.100940</td>\n",
       "      <td>57.345438</td>\n",
       "      <td>57.155699</td>\n",
       "      <td>57.095382</td>\n",
       "      <td>57.409473</td>\n",
       "      <td>57.699371</td>\n",
       "      <td>57.855046</td>\n",
       "      <td>59.182053</td>\n",
       "      <td>60.132551</td>\n",
       "      <td>59.573636</td>\n",
       "    </tr>\n",
       "    <tr>\n",
       "      <th>2</th>\n",
       "      <td>Algeria</td>\n",
       "      <td>DZA</td>\n",
       "      <td>Middle East and North Africa</td>\n",
       "      <td>107</td>\n",
       "      <td>109</td>\n",
       "      <td>107</td>\n",
       "      <td>107</td>\n",
       "      <td>103</td>\n",
       "      <td>110</td>\n",
       "      <td>111</td>\n",
       "      <td>...</td>\n",
       "      <td>50.207155</td>\n",
       "      <td>48.905687</td>\n",
       "      <td>48.401319</td>\n",
       "      <td>49.657271</td>\n",
       "      <td>49.944818</td>\n",
       "      <td>50.026566</td>\n",
       "      <td>49.876850</td>\n",
       "      <td>50.919671</td>\n",
       "      <td>51.913637</td>\n",
       "      <td>51.869120</td>\n",
       "    </tr>\n",
       "  </tbody>\n",
       "</table>\n",
       "<p>3 rows × 31 columns</p>\n",
       "</div>"
      ],
      "text/plain": [
       "     area_name area_code                    area_group  rank_2007  rank_2008  \\\n",
       "0  Afghanistan       AFG                  Asia-Pacific        163        163   \n",
       "1      Albania       ALB                Eastern Europe         74         75   \n",
       "2      Algeria       DZA  Middle East and North Africa        107        109   \n",
       "\n",
       "   rank_2009  rank_2010  rank_2011  rank_2012  rank_2013  ...  score_2011  \\\n",
       "0        162        161        162        161        160  ...   34.018804   \n",
       "1         76         67         66         65         66  ...   57.100940   \n",
       "2        107        107        103        110        111  ...   50.207155   \n",
       "\n",
       "   score_2012  score_2013  score_2014  score_2015  score_2016  score_2017  \\\n",
       "0   33.529762   34.848416   35.455467   33.878693   34.122529   34.704901   \n",
       "1   57.345438   57.155699   57.095382   57.409473   57.699371   57.855046   \n",
       "2   48.905687   48.401319   49.657271   49.944818   50.026566   49.876850   \n",
       "\n",
       "   score_2018  score_2019  score_2020  \n",
       "0   33.234143   33.607822   34.350055  \n",
       "1   59.182053   60.132551   59.573636  \n",
       "2   50.919671   51.913637   51.869120  \n",
       "\n",
       "[3 rows x 31 columns]"
      ]
     },
     "execution_count": 277,
     "metadata": {},
     "output_type": "execute_result"
    }
   ],
   "source": [
    "prosperity_df.head(3)"
   ]
  },
  {
   "cell_type": "markdown",
   "metadata": {},
   "source": [
    "Create a new dataframe containing only the country name, and the overall Prosperity Index score from 2016 (the most recently calculated score.)"
   ]
  },
  {
   "cell_type": "code",
   "execution_count": 278,
   "metadata": {},
   "outputs": [],
   "source": [
    "country_PI_df = prosperity_df[['area_name','score_2020']].copy()\n",
    "country_PI_df.columns = ['country', 'prosperity_2020']"
   ]
  },
  {
   "cell_type": "code",
   "execution_count": 279,
   "metadata": {},
   "outputs": [
    {
     "data": {
      "text/html": [
       "<div>\n",
       "<style scoped>\n",
       "    .dataframe tbody tr th:only-of-type {\n",
       "        vertical-align: middle;\n",
       "    }\n",
       "\n",
       "    .dataframe tbody tr th {\n",
       "        vertical-align: top;\n",
       "    }\n",
       "\n",
       "    .dataframe thead th {\n",
       "        text-align: right;\n",
       "    }\n",
       "</style>\n",
       "<table border=\"1\" class=\"dataframe\">\n",
       "  <thead>\n",
       "    <tr style=\"text-align: right;\">\n",
       "      <th></th>\n",
       "      <th>country</th>\n",
       "      <th>prosperity_2020</th>\n",
       "    </tr>\n",
       "  </thead>\n",
       "  <tbody>\n",
       "    <tr>\n",
       "      <th>0</th>\n",
       "      <td>Afghanistan</td>\n",
       "      <td>34.350055</td>\n",
       "    </tr>\n",
       "    <tr>\n",
       "      <th>1</th>\n",
       "      <td>Albania</td>\n",
       "      <td>59.573636</td>\n",
       "    </tr>\n",
       "    <tr>\n",
       "      <th>2</th>\n",
       "      <td>Algeria</td>\n",
       "      <td>51.869120</td>\n",
       "    </tr>\n",
       "    <tr>\n",
       "      <th>3</th>\n",
       "      <td>Angola</td>\n",
       "      <td>38.816856</td>\n",
       "    </tr>\n",
       "    <tr>\n",
       "      <th>4</th>\n",
       "      <td>Argentina</td>\n",
       "      <td>60.487355</td>\n",
       "    </tr>\n",
       "  </tbody>\n",
       "</table>\n",
       "</div>"
      ],
      "text/plain": [
       "       country  prosperity_2020\n",
       "0  Afghanistan        34.350055\n",
       "1      Albania        59.573636\n",
       "2      Algeria        51.869120\n",
       "3       Angola        38.816856\n",
       "4    Argentina        60.487355"
      ]
     },
     "execution_count": 279,
     "metadata": {},
     "output_type": "execute_result"
    }
   ],
   "source": [
    "country_PI_df.head()"
   ]
  },
  {
   "cell_type": "code",
   "execution_count": null,
   "metadata": {},
   "outputs": [],
   "source": []
  },
  {
   "cell_type": "markdown",
   "metadata": {},
   "source": [
    "The country names in the Prosperity Index does not all match the 166 countries in the larger mass protest dataframe.\n",
    "\n",
    "Loop through both dataframes to identify any discrepancies."
   ]
  },
  {
   "cell_type": "code",
   "execution_count": 280,
   "metadata": {},
   "outputs": [
    {
     "data": {
      "text/plain": [
       "['Bhutan',\n",
       " 'Bosnia',\n",
       " 'Cape Verde',\n",
       " 'Congo Brazzaville',\n",
       " 'Congo Kinshasa',\n",
       " 'Czech Republic',\n",
       " 'Czechoslovakia',\n",
       " 'Gambia',\n",
       " 'Germany East',\n",
       " 'Germany West',\n",
       " 'Ivory Coast',\n",
       " 'Kosovo',\n",
       " 'Macedonia',\n",
       " 'North Korea',\n",
       " 'Serbia and Montenegro',\n",
       " 'Slovak Republic',\n",
       " 'Swaziland',\n",
       " 'Taiwan',\n",
       " 'Timor Leste',\n",
       " 'USSR',\n",
       " 'United Arab Emirate',\n",
       " 'Yugoslavia']"
      ]
     },
     "execution_count": 280,
     "metadata": {},
     "output_type": "execute_result"
    }
   ],
   "source": [
    "prosperity_countries = sorted(list(prosperity_df['area_name']))\n",
    "mass_countries = sorted(list(mass['country'].value_counts().index))\n",
    "\n",
    "mass_not_prosperity = []\n",
    "prosperity_not_in_mass = []\n",
    "\n",
    "for country in mass_countries:\n",
    "    if country not in prosperity_countries:\n",
    "        mass_not_prosperity.append(country)\n",
    "        \n",
    "for country in prosperity_countries:\n",
    "    if country not in mass_countries:\n",
    "        prosperity_not_in_mass.append(country)\n",
    "        \n",
    "mass_not_prosperity"
   ]
  },
  {
   "cell_type": "code",
   "execution_count": 314,
   "metadata": {},
   "outputs": [],
   "source": [
    "#prosperity_not_in_mass"
   ]
  },
  {
   "cell_type": "code",
   "execution_count": null,
   "metadata": {},
   "outputs": [],
   "source": []
  },
  {
   "cell_type": "markdown",
   "metadata": {},
   "source": [
    "Bhutan barely has any protests.. drop?  Or use same score as Nepal?"
   ]
  },
  {
   "cell_type": "code",
   "execution_count": 282,
   "metadata": {},
   "outputs": [
    {
     "data": {
      "text/plain": [
       "(31, 31)"
      ]
     },
     "execution_count": 282,
     "metadata": {},
     "output_type": "execute_result"
    }
   ],
   "source": [
    "mass[mass['country']=='Bhutan'].shape"
   ]
  },
  {
   "cell_type": "code",
   "execution_count": null,
   "metadata": {},
   "outputs": [],
   "source": []
  },
  {
   "cell_type": "markdown",
   "metadata": {},
   "source": [
    "Rename Bosnia and Herzegovina to just Bosnia to match mass protest dataframe."
   ]
  },
  {
   "cell_type": "code",
   "execution_count": 284,
   "metadata": {},
   "outputs": [
    {
     "data": {
      "text/html": [
       "<div>\n",
       "<style scoped>\n",
       "    .dataframe tbody tr th:only-of-type {\n",
       "        vertical-align: middle;\n",
       "    }\n",
       "\n",
       "    .dataframe tbody tr th {\n",
       "        vertical-align: top;\n",
       "    }\n",
       "\n",
       "    .dataframe thead th {\n",
       "        text-align: right;\n",
       "    }\n",
       "</style>\n",
       "<table border=\"1\" class=\"dataframe\">\n",
       "  <thead>\n",
       "    <tr style=\"text-align: right;\">\n",
       "      <th></th>\n",
       "      <th>country</th>\n",
       "      <th>prosperity_2020</th>\n",
       "    </tr>\n",
       "  </thead>\n",
       "  <tbody>\n",
       "    <tr>\n",
       "      <th>16</th>\n",
       "      <td>Bosnia and Herzegovina</td>\n",
       "      <td>57.998273</td>\n",
       "    </tr>\n",
       "  </tbody>\n",
       "</table>\n",
       "</div>"
      ],
      "text/plain": [
       "                   country  prosperity_2020\n",
       "16  Bosnia and Herzegovina        57.998273"
      ]
     },
     "execution_count": 284,
     "metadata": {},
     "output_type": "execute_result"
    }
   ],
   "source": [
    "country_PI_df[country_PI_df['country']=='Bosnia and Herzegovina']"
   ]
  },
  {
   "cell_type": "code",
   "execution_count": 285,
   "metadata": {},
   "outputs": [],
   "source": [
    "country_PI_df['country'] = country_PI_df['country'].str.replace('Bosnia and Herzegovina', 'Bosnia')"
   ]
  },
  {
   "cell_type": "markdown",
   "metadata": {},
   "source": [
    "Cape Verde is also known as Cabo Verde. The mass dataframe contains Cape Verde"
   ]
  },
  {
   "cell_type": "code",
   "execution_count": 286,
   "metadata": {},
   "outputs": [],
   "source": [
    "country_PI_df['country'] = country_PI_df['country'].str.replace('Cabo Verde', 'Cape Verde')"
   ]
  },
  {
   "cell_type": "markdown",
   "metadata": {},
   "source": [
    "Mass protest dataframe contains both:\n",
    "* Congo Brazzaville\n",
    "* Congo Kinshasa\n",
    "\n",
    "The Prosperity Index contains values for:\n",
    "* Congo\n",
    "* Democratic Republic of the Congo\n",
    "\n",
    "Since Kinshasa is the capital of the Democratic Republic of the Congo, rename the Prosperity Index label as Congo Kinshasa.\n",
    "\n",
    "Brazzaville is the capital of the Republic of the Congo, so rename the Prosperity Index label to Congo Brazzaville"
   ]
  },
  {
   "cell_type": "code",
   "execution_count": 287,
   "metadata": {},
   "outputs": [],
   "source": [
    "#country_PI_df['country'] = country_PI_df['country'].str.replace('Congo', 'Congo Brazzaville')\n",
    "country_PI_df.loc[country_PI_df['country'] == 'Congo' , 'country'] = 'Congo Brazzaville'\n",
    "                \n",
    "country_PI_df['country'] = country_PI_df['country'].str.replace('Democratic Republic of Congo', 'Congo Kinshasa')"
   ]
  },
  {
   "cell_type": "markdown",
   "metadata": {},
   "source": [
    "Mass protest dataframe contains both:\n",
    "\n",
    "* Czech Republic\n",
    "* Czechoslovakia\n",
    "while Prosperity contains a single Czechia score.\n",
    "\n",
    "Perform same operations as to the Congo score.\n",
    "Assign the single Czechia score to Czech Republic, then create a new row with the same Prosperity score as Czechoslovakia."
   ]
  },
  {
   "cell_type": "code",
   "execution_count": 288,
   "metadata": {},
   "outputs": [],
   "source": [
    "country_PI_df['country'] = country_PI_df['country'].str.replace('Czechia', 'Czech Republic')\n",
    "\n",
    "#Create new row for Czechoslovakia\n",
    "country_PI_df.loc[country_PI_df.shape[0]] = ['Czechoslovakia' , country_PI_df[country_PI_df['country']=='Czech Republic']['prosperity_2020'].item() ]"
   ]
  },
  {
   "cell_type": "code",
   "execution_count": 289,
   "metadata": {},
   "outputs": [
    {
     "data": {
      "text/html": [
       "<div>\n",
       "<style scoped>\n",
       "    .dataframe tbody tr th:only-of-type {\n",
       "        vertical-align: middle;\n",
       "    }\n",
       "\n",
       "    .dataframe tbody tr th {\n",
       "        vertical-align: top;\n",
       "    }\n",
       "\n",
       "    .dataframe thead th {\n",
       "        text-align: right;\n",
       "    }\n",
       "</style>\n",
       "<table border=\"1\" class=\"dataframe\">\n",
       "  <thead>\n",
       "    <tr style=\"text-align: right;\">\n",
       "      <th></th>\n",
       "      <th>country</th>\n",
       "      <th>prosperity_2020</th>\n",
       "    </tr>\n",
       "  </thead>\n",
       "  <tbody>\n",
       "    <tr>\n",
       "      <th>165</th>\n",
       "      <td>Zambia</td>\n",
       "      <td>47.509684</td>\n",
       "    </tr>\n",
       "    <tr>\n",
       "      <th>166</th>\n",
       "      <td>Zimbabwe</td>\n",
       "      <td>42.977587</td>\n",
       "    </tr>\n",
       "    <tr>\n",
       "      <th>167</th>\n",
       "      <td>Czechoslovakia</td>\n",
       "      <td>73.124612</td>\n",
       "    </tr>\n",
       "  </tbody>\n",
       "</table>\n",
       "</div>"
      ],
      "text/plain": [
       "            country  prosperity_2020\n",
       "165          Zambia        47.509684\n",
       "166        Zimbabwe        42.977587\n",
       "167  Czechoslovakia        73.124612"
      ]
     },
     "execution_count": 289,
     "metadata": {},
     "output_type": "execute_result"
    }
   ],
   "source": [
    "country_PI_df.tail(3)"
   ]
  },
  {
   "cell_type": "markdown",
   "metadata": {},
   "source": [
    "Gambia is identified as The Gambia in the Prosperity Index. Rename to simply Gandia to merge correctly with the mass protest dataframe."
   ]
  },
  {
   "cell_type": "code",
   "execution_count": 290,
   "metadata": {},
   "outputs": [],
   "source": [
    "country_PI_df['country'] = country_PI_df['country'].str.replace('The Gambia', 'Gambia')"
   ]
  },
  {
   "cell_type": "markdown",
   "metadata": {},
   "source": [
    "Mass protest dataframe contains protest data for:\n",
    "* Germany East\n",
    "* Germany West\n",
    "* Germany\n",
    "\n",
    "while Prosperity contains a single Germany score.\n",
    "\n",
    "Create records for East and West Germany scores for a clean merge operation later."
   ]
  },
  {
   "cell_type": "code",
   "execution_count": 291,
   "metadata": {},
   "outputs": [],
   "source": [
    "#Create new row for Germany East\n",
    "country_PI_df.loc[country_PI_df.shape[0]] = ['Germany East' , country_PI_df[country_PI_df['country']=='Germany']['prosperity_2020'].item() ]\n",
    "\n",
    "#Create new row for Germany West\n",
    "country_PI_df.loc[country_PI_df.shape[0]] = ['Germany West' , country_PI_df[country_PI_df['country']=='Germany']['prosperity_2020'].item() ]"
   ]
  },
  {
   "cell_type": "markdown",
   "metadata": {},
   "source": [
    "Ivory Coast is identified as Côte d'Ivoire in the Prosperity Index. Rename to merge correctly with the mass protest dataframe."
   ]
  },
  {
   "cell_type": "code",
   "execution_count": 292,
   "metadata": {},
   "outputs": [],
   "source": [
    "country_PI_df['country'] = country_PI_df['country'].str.replace(\"Côte d'Ivoire\", 'Ivory Coast')"
   ]
  },
  {
   "cell_type": "markdown",
   "metadata": {},
   "source": [
    "Independence of Kosovo is disputed. Assign it Serbia's Prosperity score?\n",
    "\n",
    "https://en.wikipedia.org/wiki/International_recognition_of_Kosovo"
   ]
  },
  {
   "cell_type": "markdown",
   "metadata": {},
   "source": [
    "North Macedonia was known as Macedonia until February 2019.  Rename North Macedonia in Prosperity Index to Macedonia to match with mass protest dataframe.\n",
    "https://en.wikipedia.org/wiki/North_Macedonia"
   ]
  },
  {
   "cell_type": "code",
   "execution_count": 293,
   "metadata": {},
   "outputs": [],
   "source": [
    "country_PI_df['country'] = country_PI_df['country'].str.replace('North Macedonia', 'Macedonia')"
   ]
  },
  {
   "cell_type": "markdown",
   "metadata": {},
   "source": [
    "North Korea does not have a Prosperity score.  From the 2017 Foreward:\n",
    "'..because of conflict or oppression we do not have the data to report on them.\n",
    "These include Myanmar, North Korea and Syria'\n",
    "\n",
    "https://prosperitysite.s3-accelerate.amazonaws.com/3515/1187/1128/Legatum_Prosperity_Index_2017.pdf\n",
    "\n",
    "Create a score with an average of the minimum and the mean to get approximately 25%?  Or one standard deviation below the mean? Assuming normal distribution this would be approx to 34%"
   ]
  },
  {
   "cell_type": "code",
   "execution_count": 294,
   "metadata": {},
   "outputs": [
    {
     "data": {
      "text/html": [
       "<div>\n",
       "<style scoped>\n",
       "    .dataframe tbody tr th:only-of-type {\n",
       "        vertical-align: middle;\n",
       "    }\n",
       "\n",
       "    .dataframe tbody tr th {\n",
       "        vertical-align: top;\n",
       "    }\n",
       "\n",
       "    .dataframe thead th {\n",
       "        text-align: right;\n",
       "    }\n",
       "</style>\n",
       "<table border=\"1\" class=\"dataframe\">\n",
       "  <thead>\n",
       "    <tr style=\"text-align: right;\">\n",
       "      <th></th>\n",
       "      <th>prosperity_2020</th>\n",
       "    </tr>\n",
       "  </thead>\n",
       "  <tbody>\n",
       "    <tr>\n",
       "      <th>count</th>\n",
       "      <td>170.000000</td>\n",
       "    </tr>\n",
       "    <tr>\n",
       "      <th>mean</th>\n",
       "      <td>57.876721</td>\n",
       "    </tr>\n",
       "    <tr>\n",
       "      <th>std</th>\n",
       "      <td>13.627296</td>\n",
       "    </tr>\n",
       "    <tr>\n",
       "      <th>min</th>\n",
       "      <td>27.888813</td>\n",
       "    </tr>\n",
       "    <tr>\n",
       "      <th>25%</th>\n",
       "      <td>47.012843</td>\n",
       "    </tr>\n",
       "    <tr>\n",
       "      <th>50%</th>\n",
       "      <td>56.997148</td>\n",
       "    </tr>\n",
       "    <tr>\n",
       "      <th>75%</th>\n",
       "      <td>67.449734</td>\n",
       "    </tr>\n",
       "    <tr>\n",
       "      <th>max</th>\n",
       "      <td>84.368117</td>\n",
       "    </tr>\n",
       "  </tbody>\n",
       "</table>\n",
       "</div>"
      ],
      "text/plain": [
       "       prosperity_2020\n",
       "count       170.000000\n",
       "mean         57.876721\n",
       "std          13.627296\n",
       "min          27.888813\n",
       "25%          47.012843\n",
       "50%          56.997148\n",
       "75%          67.449734\n",
       "max          84.368117"
      ]
     },
     "execution_count": 294,
     "metadata": {},
     "output_type": "execute_result"
    }
   ],
   "source": [
    "country_PI_df.describe()"
   ]
  },
  {
   "cell_type": "code",
   "execution_count": 295,
   "metadata": {},
   "outputs": [
    {
     "data": {
      "text/plain": [
       "44.28956472876912"
      ]
     },
     "execution_count": 295,
     "metadata": {},
     "output_type": "execute_result"
    }
   ],
   "source": [
    "country_PI_df['prosperity_2020'].mean() - np.std(country_PI_df['prosperity_2020'])"
   ]
  },
  {
   "cell_type": "markdown",
   "metadata": {},
   "source": [
    "Mass protest contains protest data for the following:\n",
    "* Serbia\n",
    "* Montenegro\n",
    "* Serbia and Montenegro\n",
    "\n",
    "The Prosperity Index only contains two scores, one for Serbia and one for Montenegro.  Both values are similar, but create an average of the two for a composite score."
   ]
  },
  {
   "cell_type": "markdown",
   "metadata": {},
   "source": [
    "serbia_score = country_PI_df[country_PI_df['country']=='Serbia']['prosperity_2020'].item()\n",
    "montenegro_score = country_PI_df[country_PI_df['country']=='Montenegro']['prosperity_2020'].item()\n",
    "avg_prosperity_serb_mont = (serbia_score + montenegro_score) / 2\n",
    "avg_prosperity_serb_mont"
   ]
  },
  {
   "cell_type": "code",
   "execution_count": 296,
   "metadata": {},
   "outputs": [],
   "source": [
    "#Create new row forSerbia and Montenegro\n",
    "country_PI_df.loc[country_PI_df.shape[0]] = ['Serbia and Montenegro' , avg_prosperity_serb_mont ]"
   ]
  },
  {
   "cell_type": "markdown",
   "metadata": {},
   "source": []
  },
  {
   "cell_type": "markdown",
   "metadata": {},
   "source": [
    "The mass protest dataframe contains values under 'Slovak Republic' vs 'Slovakia' in the Prosperity Index"
   ]
  },
  {
   "cell_type": "code",
   "execution_count": 297,
   "metadata": {},
   "outputs": [],
   "source": [
    "country_PI_df['country'] = country_PI_df['country'].str.replace('Slovakia', 'Slovak Republic')"
   ]
  },
  {
   "cell_type": "markdown",
   "metadata": {},
   "source": [
    "The mass protest dataframe values for 'Swaziland' are identified as 'Eswatini' in the Prosperity Index"
   ]
  },
  {
   "cell_type": "code",
   "execution_count": 298,
   "metadata": {},
   "outputs": [],
   "source": [
    "country_PI_df['country'] = country_PI_df['country'].str.replace('Eswatini', 'Swaziland')"
   ]
  },
  {
   "cell_type": "markdown",
   "metadata": {},
   "source": [
    "Rename Taiwan, China to simply Taiwan"
   ]
  },
  {
   "cell_type": "code",
   "execution_count": 299,
   "metadata": {},
   "outputs": [],
   "source": [
    "country_PI_df['country'] = country_PI_df['country'].str.replace('Taiwan, China', 'Taiwan')"
   ]
  },
  {
   "cell_type": "markdown",
   "metadata": {},
   "source": [
    "There is no Prosperity Index for Timor-Leste, also known as East Timor. Became a sovereign state in 2002 after being under Indonesian rule. Accounts for 0.02% of world's population.  22 rows in mass protest data. Drop?"
   ]
  },
  {
   "cell_type": "code",
   "execution_count": 300,
   "metadata": {},
   "outputs": [
    {
     "data": {
      "text/plain": [
       "(17145, 31)"
      ]
     },
     "execution_count": 300,
     "metadata": {},
     "output_type": "execute_result"
    }
   ],
   "source": [
    "mass.shape"
   ]
  },
  {
   "cell_type": "markdown",
   "metadata": {},
   "source": [
    "Use same Prosperity score for USSR as Russia."
   ]
  },
  {
   "cell_type": "code",
   "execution_count": 301,
   "metadata": {},
   "outputs": [],
   "source": [
    "#Create new row for USSR\n",
    "country_PI_df.loc[country_PI_df.shape[0]] = ['USSR' , country_PI_df[country_PI_df['country']=='Russia']['prosperity_2020'].item() ]"
   ]
  },
  {
   "cell_type": "markdown",
   "metadata": {},
   "source": [
    "The mass protest dataframe values for 'United Arab Emirate' are identified as 'United Arab Emirates' in the Prosperity Index"
   ]
  },
  {
   "cell_type": "code",
   "execution_count": 302,
   "metadata": {},
   "outputs": [],
   "source": [
    "country_PI_df['country'] = country_PI_df['country'].str.replace('United Arab Emirates', 'United Arab Emirate')"
   ]
  },
  {
   "cell_type": "markdown",
   "metadata": {},
   "source": [
    "Yugoslavia has no current Prosperity score, but could be determined by former countries that made up Yugoslavia.\n",
    "https://en.wikipedia.org/wiki/Yugoslavia\n",
    "\n",
    "* Bosnia\n",
    "* Croatia\n",
    "* Macedonia\n",
    "* Serbia\n",
    "* Slovenia"
   ]
  },
  {
   "cell_type": "code",
   "execution_count": null,
   "metadata": {},
   "outputs": [],
   "source": []
  },
  {
   "cell_type": "code",
   "execution_count": 303,
   "metadata": {},
   "outputs": [
    {
     "data": {
      "text/html": [
       "<div>\n",
       "<style scoped>\n",
       "    .dataframe tbody tr th:only-of-type {\n",
       "        vertical-align: middle;\n",
       "    }\n",
       "\n",
       "    .dataframe tbody tr th {\n",
       "        vertical-align: top;\n",
       "    }\n",
       "\n",
       "    .dataframe thead th {\n",
       "        text-align: right;\n",
       "    }\n",
       "</style>\n",
       "<table border=\"1\" class=\"dataframe\">\n",
       "  <thead>\n",
       "    <tr style=\"text-align: right;\">\n",
       "      <th></th>\n",
       "      <th>country</th>\n",
       "      <th>prosperity_2020</th>\n",
       "    </tr>\n",
       "  </thead>\n",
       "  <tbody>\n",
       "    <tr>\n",
       "      <th>131</th>\n",
       "      <td>Slovak Republic</td>\n",
       "      <td>69.625246</td>\n",
       "    </tr>\n",
       "    <tr>\n",
       "      <th>132</th>\n",
       "      <td>Slovenia</td>\n",
       "      <td>74.563150</td>\n",
       "    </tr>\n",
       "  </tbody>\n",
       "</table>\n",
       "</div>"
      ],
      "text/plain": [
       "             country  prosperity_2020\n",
       "131  Slovak Republic        69.625246\n",
       "132         Slovenia        74.563150"
      ]
     },
     "execution_count": 303,
     "metadata": {},
     "output_type": "execute_result"
    }
   ],
   "source": [
    "country_PI_df[country_PI_df['country'].str.startswith('Sl')]"
   ]
  },
  {
   "cell_type": "code",
   "execution_count": 304,
   "metadata": {},
   "outputs": [
    {
     "data": {
      "text/plain": [
       "64.53108133022"
      ]
     },
     "execution_count": 304,
     "metadata": {},
     "output_type": "execute_result"
    }
   ],
   "source": [
    "yugo_countries = ['Bosnia', 'Croatia', 'Macedonia', 'Serbia', 'Slovenia']\n",
    "yugo_mean = np.mean([country_PI_df[country_PI_df['country']==country]['prosperity_2020'].item() for country in yugo_countries])\n",
    "yugo_mean"
   ]
  },
  {
   "cell_type": "code",
   "execution_count": 305,
   "metadata": {},
   "outputs": [],
   "source": [
    "#Create new row for Yugoslavia\n",
    "country_PI_df.loc[country_PI_df.shape[0]] = ['Yugoslavia' , yugo_mean ]"
   ]
  },
  {
   "cell_type": "markdown",
   "metadata": {},
   "source": [
    "Double check that there aren't any countries in the mass protest dataframe that do not have a matching Prosperity Index score"
   ]
  },
  {
   "cell_type": "code",
   "execution_count": 306,
   "metadata": {},
   "outputs": [
    {
     "data": {
      "text/plain": [
       "['Bhutan', 'Kosovo', 'North Korea', 'Timor Leste']"
      ]
     },
     "execution_count": 306,
     "metadata": {},
     "output_type": "execute_result"
    }
   ],
   "source": [
    "prosperity_countries = sorted(list(country_PI_df['country']))\n",
    "mass_countries = sorted(list(mass['country'].value_counts().index))\n",
    "\n",
    "mass_not_prosperity = []\n",
    "prosperity_not_in_mass = []\n",
    "\n",
    "for country in mass_countries:\n",
    "    if country not in prosperity_countries:\n",
    "        mass_not_prosperity.append(country)\n",
    "        \n",
    "for country in prosperity_countries:\n",
    "    if country not in mass_countries:\n",
    "        prosperity_not_in_mass.append(country)\n",
    "        \n",
    "mass_not_prosperity"
   ]
  },
  {
   "cell_type": "code",
   "execution_count": 307,
   "metadata": {},
   "outputs": [
    {
     "data": {
      "text/plain": [
       "['Australia',\n",
       " 'Belize',\n",
       " 'Hong Kong',\n",
       " 'Iceland',\n",
       " 'Israel',\n",
       " 'Malta',\n",
       " 'New Zealand',\n",
       " 'Seychelles',\n",
       " 'São Tomé and Príncipe',\n",
       " 'Trinidad and Tobago',\n",
       " 'United States']"
      ]
     },
     "execution_count": 307,
     "metadata": {},
     "output_type": "execute_result"
    }
   ],
   "source": [
    "prosperity_not_in_mass"
   ]
  },
  {
   "cell_type": "markdown",
   "metadata": {},
   "source": [
    "Drop all rows from Prosperity Index that are not in the mass protest dataframe."
   ]
  },
  {
   "cell_type": "code",
   "execution_count": null,
   "metadata": {},
   "outputs": [],
   "source": [
    "#sorted(list(country_PI_df['country']))"
   ]
  },
  {
   "cell_type": "code",
   "execution_count": 308,
   "metadata": {},
   "outputs": [],
   "source": [
    "for country_to_drop in prosperity_not_in_mass:\n",
    "    country_PI_df.drop( country_PI_df[country_PI_df['country'] == country_to_drop].index, inplace=True)\n"
   ]
  },
  {
   "cell_type": "code",
   "execution_count": 311,
   "metadata": {},
   "outputs": [
    {
     "data": {
      "text/plain": [
       "162"
      ]
     },
     "execution_count": 311,
     "metadata": {},
     "output_type": "execute_result"
    }
   ],
   "source": [
    "len(list(country_PI_df['country']))"
   ]
  },
  {
   "cell_type": "code",
   "execution_count": 313,
   "metadata": {},
   "outputs": [
    {
     "data": {
      "text/plain": [
       "166"
      ]
     },
     "execution_count": 313,
     "metadata": {},
     "output_type": "execute_result"
    }
   ],
   "source": [
    "len(set(list(mass['country'])))"
   ]
  },
  {
   "cell_type": "markdown",
   "metadata": {},
   "source": [
    "Merge into larger mass protest dataframe."
   ]
  },
  {
   "cell_type": "code",
   "execution_count": 317,
   "metadata": {},
   "outputs": [
    {
     "data": {
      "text/html": [
       "<div>\n",
       "<style scoped>\n",
       "    .dataframe tbody tr th:only-of-type {\n",
       "        vertical-align: middle;\n",
       "    }\n",
       "\n",
       "    .dataframe tbody tr th {\n",
       "        vertical-align: top;\n",
       "    }\n",
       "\n",
       "    .dataframe thead th {\n",
       "        text-align: right;\n",
       "    }\n",
       "</style>\n",
       "<table border=\"1\" class=\"dataframe\">\n",
       "  <thead>\n",
       "    <tr style=\"text-align: right;\">\n",
       "      <th></th>\n",
       "      <th>id</th>\n",
       "      <th>country</th>\n",
       "      <th>ccode</th>\n",
       "      <th>year</th>\n",
       "      <th>region</th>\n",
       "      <th>protest</th>\n",
       "      <th>protestnumber</th>\n",
       "      <th>startday</th>\n",
       "      <th>startmonth</th>\n",
       "      <th>startyear</th>\n",
       "      <th>...</th>\n",
       "      <th>stateresponse1</th>\n",
       "      <th>stateresponse2</th>\n",
       "      <th>stateresponse3</th>\n",
       "      <th>stateresponse4</th>\n",
       "      <th>stateresponse5</th>\n",
       "      <th>stateresponse6</th>\n",
       "      <th>stateresponse7</th>\n",
       "      <th>sources</th>\n",
       "      <th>notes</th>\n",
       "      <th>prosperity_2020</th>\n",
       "    </tr>\n",
       "  </thead>\n",
       "  <tbody>\n",
       "    <tr>\n",
       "      <th>0</th>\n",
       "      <td>201990001</td>\n",
       "      <td>Canada</td>\n",
       "      <td>20</td>\n",
       "      <td>1990</td>\n",
       "      <td>North America</td>\n",
       "      <td>1</td>\n",
       "      <td>1</td>\n",
       "      <td>15.0</td>\n",
       "      <td>1.0</td>\n",
       "      <td>1990.0</td>\n",
       "      <td>...</td>\n",
       "      <td>ignore</td>\n",
       "      <td>NaN</td>\n",
       "      <td>NaN</td>\n",
       "      <td>NaN</td>\n",
       "      <td>NaN</td>\n",
       "      <td>NaN</td>\n",
       "      <td>NaN</td>\n",
       "      <td>1. great canadian train journeys into history;...</td>\n",
       "      <td>canada s railway passenger system was finally ...</td>\n",
       "      <td>79.819703</td>\n",
       "    </tr>\n",
       "    <tr>\n",
       "      <th>1</th>\n",
       "      <td>201990002</td>\n",
       "      <td>Canada</td>\n",
       "      <td>20</td>\n",
       "      <td>1990</td>\n",
       "      <td>North America</td>\n",
       "      <td>1</td>\n",
       "      <td>2</td>\n",
       "      <td>25.0</td>\n",
       "      <td>6.0</td>\n",
       "      <td>1990.0</td>\n",
       "      <td>...</td>\n",
       "      <td>ignore</td>\n",
       "      <td>NaN</td>\n",
       "      <td>NaN</td>\n",
       "      <td>NaN</td>\n",
       "      <td>NaN</td>\n",
       "      <td>NaN</td>\n",
       "      <td>NaN</td>\n",
       "      <td>1. autonomy s cry revived in quebec the new yo...</td>\n",
       "      <td>protestors were only identified as young peopl...</td>\n",
       "      <td>79.819703</td>\n",
       "    </tr>\n",
       "  </tbody>\n",
       "</table>\n",
       "<p>2 rows × 32 columns</p>\n",
       "</div>"
      ],
      "text/plain": [
       "          id country  ccode  year         region  protest  protestnumber  \\\n",
       "0  201990001  Canada     20  1990  North America        1              1   \n",
       "1  201990002  Canada     20  1990  North America        1              2   \n",
       "\n",
       "   startday  startmonth  startyear  ...  stateresponse1  stateresponse2  \\\n",
       "0      15.0         1.0     1990.0  ...          ignore             NaN   \n",
       "1      25.0         6.0     1990.0  ...          ignore             NaN   \n",
       "\n",
       "   stateresponse3  stateresponse4 stateresponse5 stateresponse6  \\\n",
       "0             NaN             NaN            NaN            NaN   \n",
       "1             NaN             NaN            NaN            NaN   \n",
       "\n",
       "  stateresponse7                                            sources  \\\n",
       "0            NaN  1. great canadian train journeys into history;...   \n",
       "1            NaN  1. autonomy s cry revived in quebec the new yo...   \n",
       "\n",
       "                                               notes prosperity_2020  \n",
       "0  canada s railway passenger system was finally ...       79.819703  \n",
       "1  protestors were only identified as young peopl...       79.819703  \n",
       "\n",
       "[2 rows x 32 columns]"
      ]
     },
     "execution_count": 317,
     "metadata": {},
     "output_type": "execute_result"
    }
   ],
   "source": [
    "mass = mass.merge(country_PI_df, how='left', \n",
    "                        left_on='country', \n",
    "                        right_on='country')\n",
    "mass.head(2)"
   ]
  },
  {
   "cell_type": "code",
   "execution_count": null,
   "metadata": {},
   "outputs": [],
   "source": []
  }
 ],
 "metadata": {
  "kernelspec": {
   "display_name": "Python 3",
   "language": "python",
   "name": "python3"
  },
  "language_info": {
   "codemirror_mode": {
    "name": "ipython",
    "version": 3
   },
   "file_extension": ".py",
   "mimetype": "text/x-python",
   "name": "python",
   "nbconvert_exporter": "python",
   "pygments_lexer": "ipython3",
   "version": "3.8.3"
  }
 },
 "nbformat": 4,
 "nbformat_minor": 4
}
