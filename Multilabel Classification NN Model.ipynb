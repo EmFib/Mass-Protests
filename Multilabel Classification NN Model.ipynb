{
 "cells": [
  {
   "cell_type": "code",
   "execution_count": 21,
   "metadata": {},
   "outputs": [],
   "source": [
    "import numpy as np\n",
    "import matplotlib.pyplot as plt\n",
    "import pandas as pd \n",
    "\n",
    "np.random.seed(42)\n",
    "\n",
    "import tensorflow as tf \n",
    "from sklearn.preprocessing import StandardScaler, MultiLabelBinarizer\n",
    "from sklearn.model_selection import train_test_split, GridSearchCV\n",
    "from tensorflow.keras.wrappers.scikit_learn import KerasClassifier\n",
    "from sklearn.model_selection import StratifiedKFold\n",
    "from sklearn.model_selection import cross_val_score\n",
    "from sklearn import metrics\n",
    "from sklearn.metrics import accuracy_score\n",
    "\n",
    "\n",
    "from tensorflow.keras.models import Sequential\n",
    "from tensorflow.keras.layers import Dense, Dropout, Flatten, Conv2D, MaxPooling2D\n",
    " "
   ]
  },
  {
   "cell_type": "code",
   "execution_count": 24,
   "metadata": {},
   "outputs": [],
   "source": [
    "mass = pd.read_pickle('./data/03_dummy_df.pickle') \n",
    "sent = pd.read_pickle('./data/03_mass_notes_sentiment_analysis.pickle')"
   ]
  },
  {
   "cell_type": "code",
   "execution_count": 25,
   "metadata": {
    "scrolled": true
   },
   "outputs": [
    {
     "data": {
      "text/html": [
       "<div>\n",
       "<style scoped>\n",
       "    .dataframe tbody tr th:only-of-type {\n",
       "        vertical-align: middle;\n",
       "    }\n",
       "\n",
       "    .dataframe tbody tr th {\n",
       "        vertical-align: top;\n",
       "    }\n",
       "\n",
       "    .dataframe thead th {\n",
       "        text-align: right;\n",
       "    }\n",
       "</style>\n",
       "<table border=\"1\" class=\"dataframe\">\n",
       "  <thead>\n",
       "    <tr style=\"text-align: right;\">\n",
       "      <th></th>\n",
       "      <th>id</th>\n",
       "      <th>country</th>\n",
       "      <th>ccode</th>\n",
       "      <th>region</th>\n",
       "      <th>protestnumber</th>\n",
       "      <th>protesterviolence</th>\n",
       "      <th>location</th>\n",
       "      <th>protesteridentity</th>\n",
       "      <th>sources</th>\n",
       "      <th>notes</th>\n",
       "      <th>...</th>\n",
       "      <th>labor_wage_dispute</th>\n",
       "      <th>land_farm_issue</th>\n",
       "      <th>police_brutality</th>\n",
       "      <th>political_behavior_process</th>\n",
       "      <th>price increases_tax_policy</th>\n",
       "      <th>removal_of_politician</th>\n",
       "      <th>social_restrictions</th>\n",
       "      <th>start_date</th>\n",
       "      <th>end_date</th>\n",
       "      <th>target</th>\n",
       "    </tr>\n",
       "  </thead>\n",
       "  <tbody>\n",
       "    <tr>\n",
       "      <th>0</th>\n",
       "      <td>201990001</td>\n",
       "      <td>Canada</td>\n",
       "      <td>20</td>\n",
       "      <td>North America</td>\n",
       "      <td>1</td>\n",
       "      <td>0.0</td>\n",
       "      <td>national</td>\n",
       "      <td>unspecified</td>\n",
       "      <td>1. great canadian train journeys into history;...</td>\n",
       "      <td>canada s railway passenger system was finally ...</td>\n",
       "      <td>...</td>\n",
       "      <td>1</td>\n",
       "      <td>0</td>\n",
       "      <td>0</td>\n",
       "      <td>1</td>\n",
       "      <td>0</td>\n",
       "      <td>0</td>\n",
       "      <td>0</td>\n",
       "      <td>1990-01-15</td>\n",
       "      <td>1990-01-15</td>\n",
       "      <td>[0, 0, 0, 0, 1, 0, 0]</td>\n",
       "    </tr>\n",
       "    <tr>\n",
       "      <th>1</th>\n",
       "      <td>201990002</td>\n",
       "      <td>Canada</td>\n",
       "      <td>20</td>\n",
       "      <td>North America</td>\n",
       "      <td>2</td>\n",
       "      <td>0.0</td>\n",
       "      <td>Montreal, Quebec</td>\n",
       "      <td>unspecified</td>\n",
       "      <td>1. autonomy s cry revived in quebec the new yo...</td>\n",
       "      <td>protestors were only identified as young peopl...</td>\n",
       "      <td>...</td>\n",
       "      <td>0</td>\n",
       "      <td>0</td>\n",
       "      <td>0</td>\n",
       "      <td>1</td>\n",
       "      <td>0</td>\n",
       "      <td>0</td>\n",
       "      <td>0</td>\n",
       "      <td>1990-06-25</td>\n",
       "      <td>1990-06-25</td>\n",
       "      <td>[0, 0, 0, 0, 1, 0, 0]</td>\n",
       "    </tr>\n",
       "    <tr>\n",
       "      <th>2</th>\n",
       "      <td>201990003</td>\n",
       "      <td>Canada</td>\n",
       "      <td>20</td>\n",
       "      <td>North America</td>\n",
       "      <td>3</td>\n",
       "      <td>0.0</td>\n",
       "      <td>Montreal, Quebec</td>\n",
       "      <td>separatist parti quebecois</td>\n",
       "      <td>1. quebec protest after queen calls for unity ...</td>\n",
       "      <td>the queen, after calling on canadians to remai...</td>\n",
       "      <td>...</td>\n",
       "      <td>0</td>\n",
       "      <td>0</td>\n",
       "      <td>0</td>\n",
       "      <td>1</td>\n",
       "      <td>0</td>\n",
       "      <td>0</td>\n",
       "      <td>0</td>\n",
       "      <td>1990-07-01</td>\n",
       "      <td>1990-07-01</td>\n",
       "      <td>[0, 0, 0, 0, 1, 0, 0]</td>\n",
       "    </tr>\n",
       "    <tr>\n",
       "      <th>3</th>\n",
       "      <td>201990004</td>\n",
       "      <td>Canada</td>\n",
       "      <td>20</td>\n",
       "      <td>North America</td>\n",
       "      <td>4</td>\n",
       "      <td>1.0</td>\n",
       "      <td>Montreal, Quebec</td>\n",
       "      <td>mohawk indians</td>\n",
       "      <td>1. indians gather as siege intensifies; armed ...</td>\n",
       "      <td>canada s federal government has agreed to acqu...</td>\n",
       "      <td>...</td>\n",
       "      <td>0</td>\n",
       "      <td>1</td>\n",
       "      <td>0</td>\n",
       "      <td>0</td>\n",
       "      <td>0</td>\n",
       "      <td>0</td>\n",
       "      <td>0</td>\n",
       "      <td>1990-07-12</td>\n",
       "      <td>1990-09-06</td>\n",
       "      <td>[0, 1, 0, 0, 0, 0, 0]</td>\n",
       "    </tr>\n",
       "    <tr>\n",
       "      <th>4</th>\n",
       "      <td>201990005</td>\n",
       "      <td>Canada</td>\n",
       "      <td>20</td>\n",
       "      <td>North America</td>\n",
       "      <td>5</td>\n",
       "      <td>1.0</td>\n",
       "      <td>Montreal, Quebec</td>\n",
       "      <td>local residents</td>\n",
       "      <td>1. dozens hurt in mohawk blockade protest the ...</td>\n",
       "      <td>protests were directed against the state due t...</td>\n",
       "      <td>...</td>\n",
       "      <td>0</td>\n",
       "      <td>0</td>\n",
       "      <td>0</td>\n",
       "      <td>1</td>\n",
       "      <td>0</td>\n",
       "      <td>0</td>\n",
       "      <td>0</td>\n",
       "      <td>1990-08-14</td>\n",
       "      <td>1990-08-15</td>\n",
       "      <td>[1, 1, 0, 1, 0, 0, 0]</td>\n",
       "    </tr>\n",
       "  </tbody>\n",
       "</table>\n",
       "<p>5 rows × 228 columns</p>\n",
       "</div>"
      ],
      "text/plain": [
       "          id country  ccode         region  protestnumber  protesterviolence  \\\n",
       "0  201990001  Canada     20  North America              1                0.0   \n",
       "1  201990002  Canada     20  North America              2                0.0   \n",
       "2  201990003  Canada     20  North America              3                0.0   \n",
       "3  201990004  Canada     20  North America              4                1.0   \n",
       "4  201990005  Canada     20  North America              5                1.0   \n",
       "\n",
       "           location           protesteridentity  \\\n",
       "0          national                 unspecified   \n",
       "1  Montreal, Quebec                 unspecified   \n",
       "2  Montreal, Quebec  separatist parti quebecois   \n",
       "3  Montreal, Quebec              mohawk indians   \n",
       "4  Montreal, Quebec             local residents   \n",
       "\n",
       "                                             sources  \\\n",
       "0  1. great canadian train journeys into history;...   \n",
       "1  1. autonomy s cry revived in quebec the new yo...   \n",
       "2  1. quebec protest after queen calls for unity ...   \n",
       "3  1. indians gather as siege intensifies; armed ...   \n",
       "4  1. dozens hurt in mohawk blockade protest the ...   \n",
       "\n",
       "                                               notes  ... labor_wage_dispute  \\\n",
       "0  canada s railway passenger system was finally ...  ...                  1   \n",
       "1  protestors were only identified as young peopl...  ...                  0   \n",
       "2  the queen, after calling on canadians to remai...  ...                  0   \n",
       "3  canada s federal government has agreed to acqu...  ...                  0   \n",
       "4  protests were directed against the state due t...  ...                  0   \n",
       "\n",
       "   land_farm_issue police_brutality  political_behavior_process  \\\n",
       "0                0                0                           1   \n",
       "1                0                0                           1   \n",
       "2                0                0                           1   \n",
       "3                1                0                           0   \n",
       "4                0                0                           1   \n",
       "\n",
       "   price increases_tax_policy  removal_of_politician  social_restrictions  \\\n",
       "0                           0                      0                    0   \n",
       "1                           0                      0                    0   \n",
       "2                           0                      0                    0   \n",
       "3                           0                      0                    0   \n",
       "4                           0                      0                    0   \n",
       "\n",
       "   start_date   end_date                 target  \n",
       "0  1990-01-15 1990-01-15  [0, 0, 0, 0, 1, 0, 0]  \n",
       "1  1990-06-25 1990-06-25  [0, 0, 0, 0, 1, 0, 0]  \n",
       "2  1990-07-01 1990-07-01  [0, 0, 0, 0, 1, 0, 0]  \n",
       "3  1990-07-12 1990-09-06  [0, 1, 0, 0, 0, 0, 0]  \n",
       "4  1990-08-14 1990-08-15  [1, 1, 0, 1, 0, 0, 0]  \n",
       "\n",
       "[5 rows x 228 columns]"
      ]
     },
     "execution_count": 25,
     "metadata": {},
     "output_type": "execute_result"
    }
   ],
   "source": [
    "mass.head()"
   ]
  },
  {
   "cell_type": "code",
   "execution_count": 26,
   "metadata": {},
   "outputs": [
    {
     "data": {
      "text/plain": [
       "(15225, 228)"
      ]
     },
     "execution_count": 26,
     "metadata": {},
     "output_type": "execute_result"
    }
   ],
   "source": [
    "mass.shape"
   ]
  },
  {
   "cell_type": "code",
   "execution_count": 27,
   "metadata": {},
   "outputs": [
    {
     "data": {
      "text/html": [
       "<div>\n",
       "<style scoped>\n",
       "    .dataframe tbody tr th:only-of-type {\n",
       "        vertical-align: middle;\n",
       "    }\n",
       "\n",
       "    .dataframe tbody tr th {\n",
       "        vertical-align: top;\n",
       "    }\n",
       "\n",
       "    .dataframe thead th {\n",
       "        text-align: right;\n",
       "    }\n",
       "</style>\n",
       "<table border=\"1\" class=\"dataframe\">\n",
       "  <thead>\n",
       "    <tr style=\"text-align: right;\">\n",
       "      <th></th>\n",
       "      <th>id</th>\n",
       "      <th>country</th>\n",
       "      <th>ccode</th>\n",
       "      <th>region</th>\n",
       "      <th>protestnumber</th>\n",
       "      <th>protesterviolence</th>\n",
       "      <th>location</th>\n",
       "      <th>protesteridentity</th>\n",
       "      <th>sources</th>\n",
       "      <th>notes</th>\n",
       "      <th>...</th>\n",
       "      <th>price increases_tax_policy</th>\n",
       "      <th>removal_of_politician</th>\n",
       "      <th>social_restrictions</th>\n",
       "      <th>start_date</th>\n",
       "      <th>end_date</th>\n",
       "      <th>notes_clean</th>\n",
       "      <th>neg</th>\n",
       "      <th>neu</th>\n",
       "      <th>pos</th>\n",
       "      <th>compound</th>\n",
       "    </tr>\n",
       "  </thead>\n",
       "  <tbody>\n",
       "    <tr>\n",
       "      <th>0</th>\n",
       "      <td>201990001</td>\n",
       "      <td>Canada</td>\n",
       "      <td>20</td>\n",
       "      <td>North America</td>\n",
       "      <td>1</td>\n",
       "      <td>0.0</td>\n",
       "      <td>national</td>\n",
       "      <td>unspecified</td>\n",
       "      <td>1. great canadian train journeys into history;...</td>\n",
       "      <td>canada s railway passenger system was finally ...</td>\n",
       "      <td>...</td>\n",
       "      <td>0</td>\n",
       "      <td>0</td>\n",
       "      <td>0</td>\n",
       "      <td>1990-01-15</td>\n",
       "      <td>1990-01-15</td>\n",
       "      <td>canada s railway passenger system was finally ...</td>\n",
       "      <td>0.087</td>\n",
       "      <td>0.913</td>\n",
       "      <td>0.000</td>\n",
       "      <td>-0.8176</td>\n",
       "    </tr>\n",
       "    <tr>\n",
       "      <th>1</th>\n",
       "      <td>201990002</td>\n",
       "      <td>Canada</td>\n",
       "      <td>20</td>\n",
       "      <td>North America</td>\n",
       "      <td>2</td>\n",
       "      <td>0.0</td>\n",
       "      <td>Montreal, Quebec</td>\n",
       "      <td>unspecified</td>\n",
       "      <td>1. autonomy s cry revived in quebec the new yo...</td>\n",
       "      <td>protestors were only identified as young peopl...</td>\n",
       "      <td>...</td>\n",
       "      <td>0</td>\n",
       "      <td>0</td>\n",
       "      <td>0</td>\n",
       "      <td>1990-06-25</td>\n",
       "      <td>1990-06-25</td>\n",
       "      <td>protestors were only identified as young peopl...</td>\n",
       "      <td>0.000</td>\n",
       "      <td>1.000</td>\n",
       "      <td>0.000</td>\n",
       "      <td>0.0000</td>\n",
       "    </tr>\n",
       "    <tr>\n",
       "      <th>2</th>\n",
       "      <td>201990003</td>\n",
       "      <td>Canada</td>\n",
       "      <td>20</td>\n",
       "      <td>North America</td>\n",
       "      <td>3</td>\n",
       "      <td>0.0</td>\n",
       "      <td>Montreal, Quebec</td>\n",
       "      <td>separatist parti quebecois</td>\n",
       "      <td>1. quebec protest after queen calls for unity ...</td>\n",
       "      <td>the queen, after calling on canadians to remai...</td>\n",
       "      <td>...</td>\n",
       "      <td>0</td>\n",
       "      <td>0</td>\n",
       "      <td>0</td>\n",
       "      <td>1990-07-01</td>\n",
       "      <td>1990-07-01</td>\n",
       "      <td>the queen, after calling on canadians to remai...</td>\n",
       "      <td>0.060</td>\n",
       "      <td>0.830</td>\n",
       "      <td>0.109</td>\n",
       "      <td>0.7003</td>\n",
       "    </tr>\n",
       "    <tr>\n",
       "      <th>3</th>\n",
       "      <td>201990004</td>\n",
       "      <td>Canada</td>\n",
       "      <td>20</td>\n",
       "      <td>North America</td>\n",
       "      <td>4</td>\n",
       "      <td>1.0</td>\n",
       "      <td>Montreal, Quebec</td>\n",
       "      <td>mohawk indians</td>\n",
       "      <td>1. indians gather as siege intensifies; armed ...</td>\n",
       "      <td>canada s federal government has agreed to acqu...</td>\n",
       "      <td>...</td>\n",
       "      <td>0</td>\n",
       "      <td>0</td>\n",
       "      <td>0</td>\n",
       "      <td>1990-07-12</td>\n",
       "      <td>1990-09-06</td>\n",
       "      <td>canada s federal government has agreed to acqu...</td>\n",
       "      <td>0.134</td>\n",
       "      <td>0.820</td>\n",
       "      <td>0.046</td>\n",
       "      <td>-0.9711</td>\n",
       "    </tr>\n",
       "    <tr>\n",
       "      <th>4</th>\n",
       "      <td>201990005</td>\n",
       "      <td>Canada</td>\n",
       "      <td>20</td>\n",
       "      <td>North America</td>\n",
       "      <td>5</td>\n",
       "      <td>1.0</td>\n",
       "      <td>Montreal, Quebec</td>\n",
       "      <td>local residents</td>\n",
       "      <td>1. dozens hurt in mohawk blockade protest the ...</td>\n",
       "      <td>protests were directed against the state due t...</td>\n",
       "      <td>...</td>\n",
       "      <td>0</td>\n",
       "      <td>0</td>\n",
       "      <td>0</td>\n",
       "      <td>1990-08-14</td>\n",
       "      <td>1990-08-15</td>\n",
       "      <td>protests were directed against the state due t...</td>\n",
       "      <td>0.226</td>\n",
       "      <td>0.677</td>\n",
       "      <td>0.098</td>\n",
       "      <td>-0.5267</td>\n",
       "    </tr>\n",
       "  </tbody>\n",
       "</table>\n",
       "<p>5 rows × 212 columns</p>\n",
       "</div>"
      ],
      "text/plain": [
       "          id country  ccode         region  protestnumber  protesterviolence  \\\n",
       "0  201990001  Canada     20  North America              1                0.0   \n",
       "1  201990002  Canada     20  North America              2                0.0   \n",
       "2  201990003  Canada     20  North America              3                0.0   \n",
       "3  201990004  Canada     20  North America              4                1.0   \n",
       "4  201990005  Canada     20  North America              5                1.0   \n",
       "\n",
       "           location           protesteridentity  \\\n",
       "0          national                 unspecified   \n",
       "1  Montreal, Quebec                 unspecified   \n",
       "2  Montreal, Quebec  separatist parti quebecois   \n",
       "3  Montreal, Quebec              mohawk indians   \n",
       "4  Montreal, Quebec             local residents   \n",
       "\n",
       "                                             sources  \\\n",
       "0  1. great canadian train journeys into history;...   \n",
       "1  1. autonomy s cry revived in quebec the new yo...   \n",
       "2  1. quebec protest after queen calls for unity ...   \n",
       "3  1. indians gather as siege intensifies; armed ...   \n",
       "4  1. dozens hurt in mohawk blockade protest the ...   \n",
       "\n",
       "                                               notes  ...  \\\n",
       "0  canada s railway passenger system was finally ...  ...   \n",
       "1  protestors were only identified as young peopl...  ...   \n",
       "2  the queen, after calling on canadians to remai...  ...   \n",
       "3  canada s federal government has agreed to acqu...  ...   \n",
       "4  protests were directed against the state due t...  ...   \n",
       "\n",
       "  price increases_tax_policy  removal_of_politician social_restrictions  \\\n",
       "0                          0                      0                   0   \n",
       "1                          0                      0                   0   \n",
       "2                          0                      0                   0   \n",
       "3                          0                      0                   0   \n",
       "4                          0                      0                   0   \n",
       "\n",
       "   start_date   end_date                                        notes_clean  \\\n",
       "0  1990-01-15 1990-01-15  canada s railway passenger system was finally ...   \n",
       "1  1990-06-25 1990-06-25  protestors were only identified as young peopl...   \n",
       "2  1990-07-01 1990-07-01  the queen, after calling on canadians to remai...   \n",
       "3  1990-07-12 1990-09-06  canada s federal government has agreed to acqu...   \n",
       "4  1990-08-14 1990-08-15  protests were directed against the state due t...   \n",
       "\n",
       "     neg    neu    pos  compound  \n",
       "0  0.087  0.913  0.000   -0.8176  \n",
       "1  0.000  1.000  0.000    0.0000  \n",
       "2  0.060  0.830  0.109    0.7003  \n",
       "3  0.134  0.820  0.046   -0.9711  \n",
       "4  0.226  0.677  0.098   -0.5267  \n",
       "\n",
       "[5 rows x 212 columns]"
      ]
     },
     "execution_count": 27,
     "metadata": {},
     "output_type": "execute_result"
    }
   ],
   "source": [
    "sent.head()"
   ]
  },
  {
   "cell_type": "code",
   "execution_count": 28,
   "metadata": {
    "scrolled": true
   },
   "outputs": [
    {
     "data": {
      "text/html": [
       "<div>\n",
       "<style scoped>\n",
       "    .dataframe tbody tr th:only-of-type {\n",
       "        vertical-align: middle;\n",
       "    }\n",
       "\n",
       "    .dataframe tbody tr th {\n",
       "        vertical-align: top;\n",
       "    }\n",
       "\n",
       "    .dataframe thead th {\n",
       "        text-align: right;\n",
       "    }\n",
       "</style>\n",
       "<table border=\"1\" class=\"dataframe\">\n",
       "  <thead>\n",
       "    <tr style=\"text-align: right;\">\n",
       "      <th></th>\n",
       "      <th>notes_clean</th>\n",
       "      <th>neg</th>\n",
       "      <th>neu</th>\n",
       "      <th>pos</th>\n",
       "      <th>compound</th>\n",
       "    </tr>\n",
       "  </thead>\n",
       "  <tbody>\n",
       "    <tr>\n",
       "      <th>0</th>\n",
       "      <td>canada s railway passenger system was finally ...</td>\n",
       "      <td>0.087</td>\n",
       "      <td>0.913</td>\n",
       "      <td>0.000</td>\n",
       "      <td>-0.8176</td>\n",
       "    </tr>\n",
       "    <tr>\n",
       "      <th>1</th>\n",
       "      <td>protestors were only identified as young peopl...</td>\n",
       "      <td>0.000</td>\n",
       "      <td>1.000</td>\n",
       "      <td>0.000</td>\n",
       "      <td>0.0000</td>\n",
       "    </tr>\n",
       "    <tr>\n",
       "      <th>2</th>\n",
       "      <td>the queen, after calling on canadians to remai...</td>\n",
       "      <td>0.060</td>\n",
       "      <td>0.830</td>\n",
       "      <td>0.109</td>\n",
       "      <td>0.7003</td>\n",
       "    </tr>\n",
       "    <tr>\n",
       "      <th>3</th>\n",
       "      <td>canada s federal government has agreed to acqu...</td>\n",
       "      <td>0.134</td>\n",
       "      <td>0.820</td>\n",
       "      <td>0.046</td>\n",
       "      <td>-0.9711</td>\n",
       "    </tr>\n",
       "    <tr>\n",
       "      <th>4</th>\n",
       "      <td>protests were directed against the state due t...</td>\n",
       "      <td>0.226</td>\n",
       "      <td>0.677</td>\n",
       "      <td>0.098</td>\n",
       "      <td>-0.5267</td>\n",
       "    </tr>\n",
       "  </tbody>\n",
       "</table>\n",
       "</div>"
      ],
      "text/plain": [
       "                                         notes_clean    neg    neu    pos  \\\n",
       "0  canada s railway passenger system was finally ...  0.087  0.913  0.000   \n",
       "1  protestors were only identified as young peopl...  0.000  1.000  0.000   \n",
       "2  the queen, after calling on canadians to remai...  0.060  0.830  0.109   \n",
       "3  canada s federal government has agreed to acqu...  0.134  0.820  0.046   \n",
       "4  protests were directed against the state due t...  0.226  0.677  0.098   \n",
       "\n",
       "   compound  \n",
       "0   -0.8176  \n",
       "1    0.0000  \n",
       "2    0.7003  \n",
       "3   -0.9711  \n",
       "4   -0.5267  "
      ]
     },
     "execution_count": 28,
     "metadata": {},
     "output_type": "execute_result"
    }
   ],
   "source": [
    "sent = sent[['notes_clean', 'neg', 'neu', 'pos', 'compound']]\n",
    "sent.head()"
   ]
  },
  {
   "cell_type": "code",
   "execution_count": 29,
   "metadata": {
    "scrolled": true
   },
   "outputs": [
    {
     "data": {
      "text/plain": [
       "(15179, 5)"
      ]
     },
     "execution_count": 29,
     "metadata": {},
     "output_type": "execute_result"
    }
   ],
   "source": [
    "sent.shape"
   ]
  },
  {
   "cell_type": "code",
   "execution_count": 30,
   "metadata": {},
   "outputs": [
    {
     "data": {
      "text/plain": [
       "(15179, 228)"
      ]
     },
     "execution_count": 30,
     "metadata": {},
     "output_type": "execute_result"
    }
   ],
   "source": [
    "mass.dropna(subset=['notes'], inplace=True)\n",
    "mass.shape"
   ]
  },
  {
   "cell_type": "code",
   "execution_count": 31,
   "metadata": {
    "scrolled": true
   },
   "outputs": [
    {
     "data": {
      "text/html": [
       "<div>\n",
       "<style scoped>\n",
       "    .dataframe tbody tr th:only-of-type {\n",
       "        vertical-align: middle;\n",
       "    }\n",
       "\n",
       "    .dataframe tbody tr th {\n",
       "        vertical-align: top;\n",
       "    }\n",
       "\n",
       "    .dataframe thead th {\n",
       "        text-align: right;\n",
       "    }\n",
       "</style>\n",
       "<table border=\"1\" class=\"dataframe\">\n",
       "  <thead>\n",
       "    <tr style=\"text-align: right;\">\n",
       "      <th></th>\n",
       "      <th>id</th>\n",
       "      <th>country</th>\n",
       "      <th>ccode</th>\n",
       "      <th>region</th>\n",
       "      <th>protestnumber</th>\n",
       "      <th>protesterviolence</th>\n",
       "      <th>location</th>\n",
       "      <th>protesteridentity</th>\n",
       "      <th>sources</th>\n",
       "      <th>notes</th>\n",
       "      <th>...</th>\n",
       "      <th>removal_of_politician</th>\n",
       "      <th>social_restrictions</th>\n",
       "      <th>start_date</th>\n",
       "      <th>end_date</th>\n",
       "      <th>target</th>\n",
       "      <th>notes_clean</th>\n",
       "      <th>neg</th>\n",
       "      <th>neu</th>\n",
       "      <th>pos</th>\n",
       "      <th>compound</th>\n",
       "    </tr>\n",
       "  </thead>\n",
       "  <tbody>\n",
       "    <tr>\n",
       "      <th>0</th>\n",
       "      <td>201990001</td>\n",
       "      <td>Canada</td>\n",
       "      <td>20</td>\n",
       "      <td>North America</td>\n",
       "      <td>1</td>\n",
       "      <td>0.0</td>\n",
       "      <td>national</td>\n",
       "      <td>unspecified</td>\n",
       "      <td>1. great canadian train journeys into history;...</td>\n",
       "      <td>canada s railway passenger system was finally ...</td>\n",
       "      <td>...</td>\n",
       "      <td>0</td>\n",
       "      <td>0</td>\n",
       "      <td>1990-01-15</td>\n",
       "      <td>1990-01-15</td>\n",
       "      <td>[0, 0, 0, 0, 1, 0, 0]</td>\n",
       "      <td>canada s railway passenger system was finally ...</td>\n",
       "      <td>0.087</td>\n",
       "      <td>0.913</td>\n",
       "      <td>0.000</td>\n",
       "      <td>-0.8176</td>\n",
       "    </tr>\n",
       "    <tr>\n",
       "      <th>1</th>\n",
       "      <td>201990002</td>\n",
       "      <td>Canada</td>\n",
       "      <td>20</td>\n",
       "      <td>North America</td>\n",
       "      <td>2</td>\n",
       "      <td>0.0</td>\n",
       "      <td>Montreal, Quebec</td>\n",
       "      <td>unspecified</td>\n",
       "      <td>1. autonomy s cry revived in quebec the new yo...</td>\n",
       "      <td>protestors were only identified as young peopl...</td>\n",
       "      <td>...</td>\n",
       "      <td>0</td>\n",
       "      <td>0</td>\n",
       "      <td>1990-06-25</td>\n",
       "      <td>1990-06-25</td>\n",
       "      <td>[0, 0, 0, 0, 1, 0, 0]</td>\n",
       "      <td>protestors were only identified as young peopl...</td>\n",
       "      <td>0.000</td>\n",
       "      <td>1.000</td>\n",
       "      <td>0.000</td>\n",
       "      <td>0.0000</td>\n",
       "    </tr>\n",
       "    <tr>\n",
       "      <th>2</th>\n",
       "      <td>201990003</td>\n",
       "      <td>Canada</td>\n",
       "      <td>20</td>\n",
       "      <td>North America</td>\n",
       "      <td>3</td>\n",
       "      <td>0.0</td>\n",
       "      <td>Montreal, Quebec</td>\n",
       "      <td>separatist parti quebecois</td>\n",
       "      <td>1. quebec protest after queen calls for unity ...</td>\n",
       "      <td>the queen, after calling on canadians to remai...</td>\n",
       "      <td>...</td>\n",
       "      <td>0</td>\n",
       "      <td>0</td>\n",
       "      <td>1990-07-01</td>\n",
       "      <td>1990-07-01</td>\n",
       "      <td>[0, 0, 0, 0, 1, 0, 0]</td>\n",
       "      <td>the queen, after calling on canadians to remai...</td>\n",
       "      <td>0.060</td>\n",
       "      <td>0.830</td>\n",
       "      <td>0.109</td>\n",
       "      <td>0.7003</td>\n",
       "    </tr>\n",
       "    <tr>\n",
       "      <th>3</th>\n",
       "      <td>201990004</td>\n",
       "      <td>Canada</td>\n",
       "      <td>20</td>\n",
       "      <td>North America</td>\n",
       "      <td>4</td>\n",
       "      <td>1.0</td>\n",
       "      <td>Montreal, Quebec</td>\n",
       "      <td>mohawk indians</td>\n",
       "      <td>1. indians gather as siege intensifies; armed ...</td>\n",
       "      <td>canada s federal government has agreed to acqu...</td>\n",
       "      <td>...</td>\n",
       "      <td>0</td>\n",
       "      <td>0</td>\n",
       "      <td>1990-07-12</td>\n",
       "      <td>1990-09-06</td>\n",
       "      <td>[0, 1, 0, 0, 0, 0, 0]</td>\n",
       "      <td>canada s federal government has agreed to acqu...</td>\n",
       "      <td>0.134</td>\n",
       "      <td>0.820</td>\n",
       "      <td>0.046</td>\n",
       "      <td>-0.9711</td>\n",
       "    </tr>\n",
       "    <tr>\n",
       "      <th>4</th>\n",
       "      <td>201990005</td>\n",
       "      <td>Canada</td>\n",
       "      <td>20</td>\n",
       "      <td>North America</td>\n",
       "      <td>5</td>\n",
       "      <td>1.0</td>\n",
       "      <td>Montreal, Quebec</td>\n",
       "      <td>local residents</td>\n",
       "      <td>1. dozens hurt in mohawk blockade protest the ...</td>\n",
       "      <td>protests were directed against the state due t...</td>\n",
       "      <td>...</td>\n",
       "      <td>0</td>\n",
       "      <td>0</td>\n",
       "      <td>1990-08-14</td>\n",
       "      <td>1990-08-15</td>\n",
       "      <td>[1, 1, 0, 1, 0, 0, 0]</td>\n",
       "      <td>protests were directed against the state due t...</td>\n",
       "      <td>0.226</td>\n",
       "      <td>0.677</td>\n",
       "      <td>0.098</td>\n",
       "      <td>-0.5267</td>\n",
       "    </tr>\n",
       "  </tbody>\n",
       "</table>\n",
       "<p>5 rows × 233 columns</p>\n",
       "</div>"
      ],
      "text/plain": [
       "          id country  ccode         region  protestnumber  protesterviolence  \\\n",
       "0  201990001  Canada     20  North America              1                0.0   \n",
       "1  201990002  Canada     20  North America              2                0.0   \n",
       "2  201990003  Canada     20  North America              3                0.0   \n",
       "3  201990004  Canada     20  North America              4                1.0   \n",
       "4  201990005  Canada     20  North America              5                1.0   \n",
       "\n",
       "           location           protesteridentity  \\\n",
       "0          national                 unspecified   \n",
       "1  Montreal, Quebec                 unspecified   \n",
       "2  Montreal, Quebec  separatist parti quebecois   \n",
       "3  Montreal, Quebec              mohawk indians   \n",
       "4  Montreal, Quebec             local residents   \n",
       "\n",
       "                                             sources  \\\n",
       "0  1. great canadian train journeys into history;...   \n",
       "1  1. autonomy s cry revived in quebec the new yo...   \n",
       "2  1. quebec protest after queen calls for unity ...   \n",
       "3  1. indians gather as siege intensifies; armed ...   \n",
       "4  1. dozens hurt in mohawk blockade protest the ...   \n",
       "\n",
       "                                               notes  ...  \\\n",
       "0  canada s railway passenger system was finally ...  ...   \n",
       "1  protestors were only identified as young peopl...  ...   \n",
       "2  the queen, after calling on canadians to remai...  ...   \n",
       "3  canada s federal government has agreed to acqu...  ...   \n",
       "4  protests were directed against the state due t...  ...   \n",
       "\n",
       "  removal_of_politician  social_restrictions start_date   end_date  \\\n",
       "0                     0                    0 1990-01-15 1990-01-15   \n",
       "1                     0                    0 1990-06-25 1990-06-25   \n",
       "2                     0                    0 1990-07-01 1990-07-01   \n",
       "3                     0                    0 1990-07-12 1990-09-06   \n",
       "4                     0                    0 1990-08-14 1990-08-15   \n",
       "\n",
       "                  target                                        notes_clean  \\\n",
       "0  [0, 0, 0, 0, 1, 0, 0]  canada s railway passenger system was finally ...   \n",
       "1  [0, 0, 0, 0, 1, 0, 0]  protestors were only identified as young peopl...   \n",
       "2  [0, 0, 0, 0, 1, 0, 0]  the queen, after calling on canadians to remai...   \n",
       "3  [0, 1, 0, 0, 0, 0, 0]  canada s federal government has agreed to acqu...   \n",
       "4  [1, 1, 0, 1, 0, 0, 0]  protests were directed against the state due t...   \n",
       "\n",
       "     neg    neu    pos  compound  \n",
       "0  0.087  0.913  0.000   -0.8176  \n",
       "1  0.000  1.000  0.000    0.0000  \n",
       "2  0.060  0.830  0.109    0.7003  \n",
       "3  0.134  0.820  0.046   -0.9711  \n",
       "4  0.226  0.677  0.098   -0.5267  \n",
       "\n",
       "[5 rows x 233 columns]"
      ]
     },
     "execution_count": 31,
     "metadata": {},
     "output_type": "execute_result"
    }
   ],
   "source": [
    "mass = pd.concat([mass, sent], axis=1, join='inner')\n",
    "mass.head()"
   ]
  },
  {
   "cell_type": "code",
   "execution_count": 101,
   "metadata": {},
   "outputs": [
    {
     "data": {
      "text/plain": [
       "0         1\n",
       "1         1\n",
       "2         1\n",
       "3        57\n",
       "4         2\n",
       "         ..\n",
       "15220     3\n",
       "15221    26\n",
       "15222     1\n",
       "15223     1\n",
       "15224     1\n",
       "Name: protest_duration, Length: 15179, dtype: int64"
      ]
     },
     "execution_count": 101,
     "metadata": {},
     "output_type": "execute_result"
    }
   ],
   "source": [
    "mass['protest_duration'] = mass['end_date'] - mass['start_date']\n",
    "mass['protest_duration'] = mass['protest_duration'].dt.days + 1\n",
    "mass['protest_duration']"
   ]
  },
  {
   "cell_type": "code",
   "execution_count": 102,
   "metadata": {},
   "outputs": [],
   "source": [
    "# save \n",
    "mass.to_csv('./data/mass_mobile.csv')"
   ]
  },
  {
   "cell_type": "markdown",
   "metadata": {},
   "source": [
    "## Multilabel Classification using Neural Network "
   ]
  },
  {
   "cell_type": "code",
   "execution_count": 85,
   "metadata": {},
   "outputs": [],
   "source": [
    "X = mass.drop(columns=['country', 'ccode', 'region', 'location','protesteridentity', 'sources',\n",
    "       'notes', 'protester_id_type', 'protest_size_category', 'start_date', 'notes_clean', 'neg', 'neu', 'pos',\n",
    "       'end_date', 'target'])\n",
    "#y = mass['target']\n",
    "y = np.array(mass[['arrests', 'accomodation', 'beatings',\n",
    "       'crowddispersal', 'ignore', 'killings', 'shootings']])"
   ]
  },
  {
   "cell_type": "code",
   "execution_count": 86,
   "metadata": {},
   "outputs": [],
   "source": [
    "X_train, X_test, y_train, y_test = train_test_split(X, y, random_state=42)"
   ]
  },
  {
   "cell_type": "code",
   "execution_count": 87,
   "metadata": {},
   "outputs": [],
   "source": [
    "ss = StandardScaler()\n",
    "Z_train = ss.fit_transform(X_train)\n",
    "Z_test = ss.transform(X_test)"
   ]
  },
  {
   "cell_type": "code",
   "execution_count": 88,
   "metadata": {},
   "outputs": [
    {
     "name": "stdout",
     "output_type": "stream",
     "text": [
      "Number of inputs: 218\n",
      "Number of outputs: 7\n"
     ]
    }
   ],
   "source": [
    "n_input = Z_train.shape[1]\n",
    "n_output = y.shape[1]\n",
    "print(f'Number of inputs: {Z_train.shape[1]}')\n",
    "print(f'Number of outputs: {y.shape[1]}')"
   ]
  },
  {
   "cell_type": "code",
   "execution_count": 89,
   "metadata": {},
   "outputs": [
    {
     "name": "stdout",
     "output_type": "stream",
     "text": [
      "356/356 [==============================] - 0s 606us/step - loss: 0.2930 - accuracy: 0.6492\n"
     ]
    },
    {
     "data": {
      "text/plain": [
       "<tensorflow.python.keras.callbacks.History at 0x1d92aa51c10>"
      ]
     },
     "execution_count": 89,
     "metadata": {},
     "output_type": "execute_result"
    }
   ],
   "source": [
    "model = Sequential()\n",
    "model.add(Dense(n_input, input_dim=n_input, kernel_initializer='he_uniform', activation='relu'))\n",
    "model.add(Dense(n_output, activation='sigmoid'))\n",
    "model.compile(loss='binary_crossentropy', optimizer='adam', metrics=['accuracy'])\n",
    "\n",
    "model.fit(Z_train, y_train)"
   ]
  },
  {
   "cell_type": "code",
   "execution_count": 90,
   "metadata": {},
   "outputs": [
    {
     "name": "stdout",
     "output_type": "stream",
     "text": [
      "Model: \"sequential_1\"\n",
      "_________________________________________________________________\n",
      "Layer (type)                 Output Shape              Param #   \n",
      "=================================================================\n",
      "dense_2 (Dense)              (None, 218)               47742     \n",
      "_________________________________________________________________\n",
      "dense_3 (Dense)              (None, 7)                 1533      \n",
      "=================================================================\n",
      "Total params: 49,275\n",
      "Trainable params: 49,275\n",
      "Non-trainable params: 0\n",
      "_________________________________________________________________\n"
     ]
    }
   ],
   "source": [
    "model.summary()"
   ]
  },
  {
   "cell_type": "code",
   "execution_count": 91,
   "metadata": {
    "scrolled": false
   },
   "outputs": [
    {
     "data": {
      "text/plain": [
       "(3795, 7)"
      ]
     },
     "execution_count": 91,
     "metadata": {},
     "output_type": "execute_result"
    }
   ],
   "source": [
    "pred = model.predict(Z_test)\n",
    "y_pred = pred.round()\n",
    "y_pred.shape"
   ]
  },
  {
   "cell_type": "code",
   "execution_count": 92,
   "metadata": {},
   "outputs": [
    {
     "data": {
      "text/plain": [
       "0.9748167710751947"
      ]
     },
     "execution_count": 92,
     "metadata": {},
     "output_type": "execute_result"
    }
   ],
   "source": [
    "metrics.r2_score(y_test, y_pred)\n"
   ]
  },
  {
   "cell_type": "code",
   "execution_count": 93,
   "metadata": {
    "scrolled": true
   },
   "outputs": [
    {
     "data": {
      "text/plain": [
       "0.9839262187088273"
      ]
     },
     "execution_count": 93,
     "metadata": {},
     "output_type": "execute_result"
    }
   ],
   "source": [
    "metrics.accuracy_score(y_test, y_pred)"
   ]
  },
  {
   "cell_type": "code",
   "execution_count": 94,
   "metadata": {},
   "outputs": [
    {
     "name": "stdout",
     "output_type": "stream",
     "text": [
      "119/119 [==============================] - 0s 390us/step - loss: 0.0265 - accuracy: 0.8875\n"
     ]
    },
    {
     "data": {
      "text/plain": [
       "[0.026542354375123978, 0.887483537197113]"
      ]
     },
     "execution_count": 94,
     "metadata": {},
     "output_type": "execute_result"
    }
   ],
   "source": [
    "model.evaluate(Z_test, y_test)"
   ]
  },
  {
   "cell_type": "code",
   "execution_count": 95,
   "metadata": {
    "scrolled": true
   },
   "outputs": [
    {
     "name": "stdout",
     "output_type": "stream",
     "text": [
      "Epoch 1/50\n",
      "356/356 - 0s - loss: 0.0127 - accuracy: 0.8770 - val_loss: 0.0092 - val_accuracy: 0.8801\n",
      "Epoch 2/50\n",
      "356/356 - 0s - loss: 0.0041 - accuracy: 0.8795 - val_loss: 0.0057 - val_accuracy: 0.8746\n",
      "Epoch 3/50\n",
      "356/356 - 0s - loss: 0.0023 - accuracy: 0.8771 - val_loss: 0.0042 - val_accuracy: 0.8688\n",
      "Epoch 4/50\n",
      "356/356 - 0s - loss: 0.0014 - accuracy: 0.8829 - val_loss: 0.0031 - val_accuracy: 0.8743\n",
      "Epoch 5/50\n",
      "356/356 - 0s - loss: 0.0010 - accuracy: 0.8756 - val_loss: 0.0028 - val_accuracy: 0.8551\n",
      "Epoch 6/50\n",
      "356/356 - 0s - loss: 7.6812e-04 - accuracy: 0.8754 - val_loss: 0.0024 - val_accuracy: 0.8711\n",
      "Epoch 7/50\n",
      "356/356 - 0s - loss: 5.5213e-04 - accuracy: 0.8782 - val_loss: 0.0023 - val_accuracy: 0.8680\n",
      "Epoch 8/50\n",
      "356/356 - 0s - loss: 3.1178e-04 - accuracy: 0.8728 - val_loss: 0.0021 - val_accuracy: 0.8980\n",
      "Epoch 9/50\n",
      "356/356 - 0s - loss: 3.3864e-04 - accuracy: 0.8745 - val_loss: 0.0019 - val_accuracy: 0.8709\n",
      "Epoch 10/50\n",
      "356/356 - 0s - loss: 1.6503e-04 - accuracy: 0.8739 - val_loss: 0.0018 - val_accuracy: 0.8841\n",
      "Epoch 11/50\n",
      "356/356 - 0s - loss: 2.9161e-04 - accuracy: 0.8736 - val_loss: 0.0017 - val_accuracy: 0.8733\n",
      "Epoch 12/50\n",
      "356/356 - 0s - loss: 1.2655e-04 - accuracy: 0.8738 - val_loss: 0.0019 - val_accuracy: 0.8619\n",
      "Epoch 13/50\n",
      "356/356 - 0s - loss: 3.5908e-04 - accuracy: 0.8718 - val_loss: 0.0016 - val_accuracy: 0.8590\n",
      "Epoch 14/50\n",
      "356/356 - 0s - loss: 5.5443e-05 - accuracy: 0.8647 - val_loss: 0.0016 - val_accuracy: 0.8675\n",
      "Epoch 15/50\n",
      "356/356 - 0s - loss: 4.0477e-05 - accuracy: 0.8710 - val_loss: 0.0015 - val_accuracy: 0.8693\n",
      "Epoch 16/50\n",
      "356/356 - 0s - loss: 3.2988e-05 - accuracy: 0.8739 - val_loss: 0.0015 - val_accuracy: 0.8711\n",
      "Epoch 17/50\n",
      "356/356 - 0s - loss: 2.7148e-05 - accuracy: 0.8754 - val_loss: 0.0014 - val_accuracy: 0.8711\n",
      "Epoch 18/50\n",
      "356/356 - 0s - loss: 1.2613e-04 - accuracy: 0.8807 - val_loss: 0.0012 - val_accuracy: 0.8780\n",
      "Epoch 19/50\n",
      "356/356 - 0s - loss: 3.0860e-04 - accuracy: 0.8799 - val_loss: 0.0014 - val_accuracy: 0.8727\n",
      "Epoch 20/50\n",
      "356/356 - 0s - loss: 1.5410e-05 - accuracy: 0.8815 - val_loss: 0.0013 - val_accuracy: 0.8762\n",
      "Epoch 21/50\n",
      "356/356 - 0s - loss: 1.2774e-05 - accuracy: 0.8838 - val_loss: 0.0013 - val_accuracy: 0.8756\n",
      "Epoch 22/50\n",
      "356/356 - 0s - loss: 1.0682e-05 - accuracy: 0.8840 - val_loss: 0.0013 - val_accuracy: 0.8772\n",
      "Epoch 23/50\n",
      "356/356 - 0s - loss: 8.8612e-06 - accuracy: 0.8855 - val_loss: 0.0013 - val_accuracy: 0.8780\n",
      "Epoch 24/50\n",
      "356/356 - 0s - loss: 7.4173e-06 - accuracy: 0.8862 - val_loss: 0.0012 - val_accuracy: 0.8796\n",
      "Epoch 25/50\n",
      "356/356 - 0s - loss: 6.1821e-06 - accuracy: 0.8875 - val_loss: 0.0012 - val_accuracy: 0.8791\n",
      "Epoch 26/50\n",
      "356/356 - 0s - loss: 5.1730e-06 - accuracy: 0.8888 - val_loss: 0.0012 - val_accuracy: 0.8801\n",
      "Epoch 27/50\n",
      "356/356 - 0s - loss: 4.3173e-06 - accuracy: 0.8887 - val_loss: 0.0012 - val_accuracy: 0.8796\n",
      "Epoch 28/50\n",
      "356/356 - 0s - loss: 3.5427e-06 - accuracy: 0.8898 - val_loss: 0.0011 - val_accuracy: 0.8822\n",
      "Epoch 29/50\n",
      "356/356 - 0s - loss: 2.9940e-06 - accuracy: 0.8908 - val_loss: 0.0011 - val_accuracy: 0.8796\n",
      "Epoch 30/50\n",
      "356/356 - 0s - loss: 2.6379e-06 - accuracy: 0.8888 - val_loss: 0.0012 - val_accuracy: 0.8733\n",
      "Epoch 31/50\n",
      "356/356 - 0s - loss: 8.0662e-04 - accuracy: 0.9408 - val_loss: 0.0024 - val_accuracy: 0.9404\n",
      "Epoch 32/50\n",
      "356/356 - 0s - loss: 7.4272e-04 - accuracy: 0.9303 - val_loss: 0.0013 - val_accuracy: 0.9265\n",
      "Epoch 33/50\n",
      "356/356 - 0s - loss: 9.1964e-04 - accuracy: 0.9094 - val_loss: 8.0315e-04 - val_accuracy: 0.9049\n",
      "Epoch 34/50\n",
      "356/356 - 0s - loss: 4.9642e-05 - accuracy: 0.9212 - val_loss: 0.0011 - val_accuracy: 0.9323\n",
      "Epoch 35/50\n",
      "356/356 - 0s - loss: 6.4458e-04 - accuracy: 0.9189 - val_loss: 0.0012 - val_accuracy: 0.9017\n",
      "Epoch 36/50\n",
      "356/356 - 0s - loss: 1.9927e-04 - accuracy: 0.9079 - val_loss: 0.0011 - val_accuracy: 0.9188\n",
      "Epoch 37/50\n",
      "356/356 - 0s - loss: 5.5281e-04 - accuracy: 0.9223 - val_loss: 0.0033 - val_accuracy: 0.9325\n",
      "Epoch 38/50\n",
      "356/356 - 0s - loss: 3.0080e-04 - accuracy: 0.9203 - val_loss: 0.0014 - val_accuracy: 0.9212\n",
      "Epoch 39/50\n",
      "356/356 - 0s - loss: 3.4137e-06 - accuracy: 0.9203 - val_loss: 0.0011 - val_accuracy: 0.9209\n",
      "Epoch 40/50\n",
      "356/356 - 0s - loss: 1.5127e-06 - accuracy: 0.9200 - val_loss: 0.0011 - val_accuracy: 0.9217\n",
      "Epoch 41/50\n",
      "356/356 - 0s - loss: 1.2269e-06 - accuracy: 0.9202 - val_loss: 0.0011 - val_accuracy: 0.9204\n",
      "Epoch 42/50\n",
      "356/356 - 0s - loss: 1.0351e-06 - accuracy: 0.9203 - val_loss: 0.0011 - val_accuracy: 0.9207\n",
      "Epoch 43/50\n",
      "356/356 - 0s - loss: 8.8576e-07 - accuracy: 0.9205 - val_loss: 0.0011 - val_accuracy: 0.9196\n",
      "Epoch 44/50\n",
      "356/356 - 0s - loss: 7.6761e-07 - accuracy: 0.9198 - val_loss: 0.0011 - val_accuracy: 0.9207\n",
      "Epoch 45/50\n",
      "356/356 - 0s - loss: 6.7057e-07 - accuracy: 0.9207 - val_loss: 0.0011 - val_accuracy: 0.9204\n",
      "Epoch 46/50\n",
      "356/356 - 0s - loss: 5.8951e-07 - accuracy: 0.9199 - val_loss: 0.0011 - val_accuracy: 0.9209\n",
      "Epoch 47/50\n",
      "356/356 - 0s - loss: 5.1903e-07 - accuracy: 0.9201 - val_loss: 0.0011 - val_accuracy: 0.9199\n",
      "Epoch 48/50\n",
      "356/356 - 0s - loss: 4.5925e-07 - accuracy: 0.9207 - val_loss: 0.0011 - val_accuracy: 0.9196\n",
      "Epoch 49/50\n",
      "356/356 - 0s - loss: 4.0630e-07 - accuracy: 0.9202 - val_loss: 0.0011 - val_accuracy: 0.9199\n",
      "Epoch 50/50\n",
      "356/356 - 0s - loss: 3.6053e-07 - accuracy: 0.9202 - val_loss: 0.0011 - val_accuracy: 0.9212\n"
     ]
    }
   ],
   "source": [
    "history = model.fit(Z_train, \n",
    "                   y_train, \n",
    "                   validation_data=(Z_test, y_test), \n",
    "                   epochs=50, \n",
    "                   batch_size=None, \n",
    "                   verbose=2)"
   ]
  },
  {
   "cell_type": "code",
   "execution_count": 96,
   "metadata": {},
   "outputs": [
    {
     "data": {
      "image/png": "[encoded data removed]",
      "text/plain": [
       "<Figure size 864x576 with 1 Axes>"
      ]
     },
     "metadata": {
      "needs_background": "light"
     },
     "output_type": "display_data"
    }
   ],
   "source": [
    "train_loss = history.history['loss']\n",
    "test_loss = history.history['val_loss']\n",
    "plt.figure(figsize=(12, 8))\n",
    "plt.plot(train_loss, label='Training loss', color='navy')\n",
    "plt.plot(test_loss, label='Testing loss', color='skyblue')\n",
    "plt.legend();"
   ]
  },
  {
   "cell_type": "code",
   "execution_count": null,
   "metadata": {},
   "outputs": [],
   "source": []
  },
  {
   "cell_type": "code",
   "execution_count": null,
   "metadata": {},
   "outputs": [],
   "source": []
  }
 ],
 "metadata": {
  "kernelspec": {
   "display_name": "Python 3",
   "language": "python",
   "name": "python3"
  },
  "language_info": {
   "codemirror_mode": {
    "name": "ipython",
    "version": 3
   },
   "file_extension": ".py",
   "mimetype": "text/x-python",
   "name": "python",
   "nbconvert_exporter": "python",
   "pygments_lexer": "ipython3",
   "version": "3.8.5"
  }
 },
 "nbformat": 4,
 "nbformat_minor": 4
}
