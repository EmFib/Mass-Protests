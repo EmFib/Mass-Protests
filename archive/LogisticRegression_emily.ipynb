{
 "cells": [
  {
   "cell_type": "code",
   "execution_count": 3,
   "metadata": {},
   "outputs": [],
   "source": [
    "import numpy as np\n",
    "import pandas as pd\n",
    "import matplotlib.pyplot as plt \n",
    "import seaborn as sns\n",
    "\n",
    "from sklearn.linear_model import LogisticRegression\n",
    "from sklearn.model_selection import train_test_split, KFold, LeaveOneOut, cross_val_score\n",
    "\n",
    "from sklearn.preprocessing import StandardScaler, PolynomialFeatures"
   ]
  },
  {
   "cell_type": "code",
   "execution_count": 4,
   "metadata": {},
   "outputs": [
    {
     "data": {
      "text/plain": [
       "'/Users/emilynaftalin/Data_Science/General Assembly/dsi/projects/Mass-Protests/users'"
      ]
     },
     "execution_count": 4,
     "metadata": {},
     "output_type": "execute_result"
    }
   ],
   "source": [
    "pwd"
   ]
  },
  {
   "cell_type": "code",
   "execution_count": 5,
   "metadata": {},
   "outputs": [],
   "source": [
    "mass = pd.read_pickle('../data/03_dummy_df.pickle')"
   ]
  },
  {
   "cell_type": "code",
   "execution_count": 6,
   "metadata": {},
   "outputs": [
    {
     "data": {
      "text/html": [
       "<div>\n",
       "<style scoped>\n",
       "    .dataframe tbody tr th:only-of-type {\n",
       "        vertical-align: middle;\n",
       "    }\n",
       "\n",
       "    .dataframe tbody tr th {\n",
       "        vertical-align: top;\n",
       "    }\n",
       "\n",
       "    .dataframe thead th {\n",
       "        text-align: right;\n",
       "    }\n",
       "</style>\n",
       "<table border=\"1\" class=\"dataframe\">\n",
       "  <thead>\n",
       "    <tr style=\"text-align: right;\">\n",
       "      <th></th>\n",
       "      <th>id</th>\n",
       "      <th>country</th>\n",
       "      <th>ccode</th>\n",
       "      <th>region</th>\n",
       "      <th>protestnumber</th>\n",
       "      <th>protesterviolence</th>\n",
       "      <th>location</th>\n",
       "      <th>protesteridentity</th>\n",
       "      <th>sources</th>\n",
       "      <th>notes</th>\n",
       "      <th>...</th>\n",
       "      <th>shootings</th>\n",
       "      <th>labor_wage_dispute</th>\n",
       "      <th>land_farm_issue</th>\n",
       "      <th>police_brutality</th>\n",
       "      <th>political_behavior_process</th>\n",
       "      <th>price increases_tax_policy</th>\n",
       "      <th>removal_of_politician</th>\n",
       "      <th>social_restrictions</th>\n",
       "      <th>start_date</th>\n",
       "      <th>end_date</th>\n",
       "    </tr>\n",
       "  </thead>\n",
       "  <tbody>\n",
       "    <tr>\n",
       "      <th>0</th>\n",
       "      <td>201990001</td>\n",
       "      <td>Canada</td>\n",
       "      <td>20</td>\n",
       "      <td>North America</td>\n",
       "      <td>1</td>\n",
       "      <td>0.0</td>\n",
       "      <td>national</td>\n",
       "      <td>unspecified</td>\n",
       "      <td>1. great canadian train journeys into history;...</td>\n",
       "      <td>canada s railway passenger system was finally ...</td>\n",
       "      <td>...</td>\n",
       "      <td>0</td>\n",
       "      <td>1</td>\n",
       "      <td>0</td>\n",
       "      <td>0</td>\n",
       "      <td>1</td>\n",
       "      <td>0</td>\n",
       "      <td>0</td>\n",
       "      <td>0</td>\n",
       "      <td>1990-01-15</td>\n",
       "      <td>1990-01-15</td>\n",
       "    </tr>\n",
       "    <tr>\n",
       "      <th>1</th>\n",
       "      <td>201990002</td>\n",
       "      <td>Canada</td>\n",
       "      <td>20</td>\n",
       "      <td>North America</td>\n",
       "      <td>2</td>\n",
       "      <td>0.0</td>\n",
       "      <td>Montreal, Quebec</td>\n",
       "      <td>unspecified</td>\n",
       "      <td>1. autonomy s cry revived in quebec the new yo...</td>\n",
       "      <td>protestors were only identified as young peopl...</td>\n",
       "      <td>...</td>\n",
       "      <td>0</td>\n",
       "      <td>0</td>\n",
       "      <td>0</td>\n",
       "      <td>0</td>\n",
       "      <td>1</td>\n",
       "      <td>0</td>\n",
       "      <td>0</td>\n",
       "      <td>0</td>\n",
       "      <td>1990-06-25</td>\n",
       "      <td>1990-06-25</td>\n",
       "    </tr>\n",
       "    <tr>\n",
       "      <th>2</th>\n",
       "      <td>201990003</td>\n",
       "      <td>Canada</td>\n",
       "      <td>20</td>\n",
       "      <td>North America</td>\n",
       "      <td>3</td>\n",
       "      <td>0.0</td>\n",
       "      <td>Montreal, Quebec</td>\n",
       "      <td>separatist parti quebecois</td>\n",
       "      <td>1. quebec protest after queen calls for unity ...</td>\n",
       "      <td>the queen, after calling on canadians to remai...</td>\n",
       "      <td>...</td>\n",
       "      <td>0</td>\n",
       "      <td>0</td>\n",
       "      <td>0</td>\n",
       "      <td>0</td>\n",
       "      <td>1</td>\n",
       "      <td>0</td>\n",
       "      <td>0</td>\n",
       "      <td>0</td>\n",
       "      <td>1990-07-01</td>\n",
       "      <td>1990-07-01</td>\n",
       "    </tr>\n",
       "    <tr>\n",
       "      <th>3</th>\n",
       "      <td>201990004</td>\n",
       "      <td>Canada</td>\n",
       "      <td>20</td>\n",
       "      <td>North America</td>\n",
       "      <td>4</td>\n",
       "      <td>1.0</td>\n",
       "      <td>Montreal, Quebec</td>\n",
       "      <td>mohawk indians</td>\n",
       "      <td>1. indians gather as siege intensifies; armed ...</td>\n",
       "      <td>canada s federal government has agreed to acqu...</td>\n",
       "      <td>...</td>\n",
       "      <td>0</td>\n",
       "      <td>0</td>\n",
       "      <td>1</td>\n",
       "      <td>0</td>\n",
       "      <td>0</td>\n",
       "      <td>0</td>\n",
       "      <td>0</td>\n",
       "      <td>0</td>\n",
       "      <td>1990-07-12</td>\n",
       "      <td>1990-09-06</td>\n",
       "    </tr>\n",
       "    <tr>\n",
       "      <th>4</th>\n",
       "      <td>201990005</td>\n",
       "      <td>Canada</td>\n",
       "      <td>20</td>\n",
       "      <td>North America</td>\n",
       "      <td>5</td>\n",
       "      <td>1.0</td>\n",
       "      <td>Montreal, Quebec</td>\n",
       "      <td>local residents</td>\n",
       "      <td>1. dozens hurt in mohawk blockade protest the ...</td>\n",
       "      <td>protests were directed against the state due t...</td>\n",
       "      <td>...</td>\n",
       "      <td>0</td>\n",
       "      <td>0</td>\n",
       "      <td>0</td>\n",
       "      <td>0</td>\n",
       "      <td>1</td>\n",
       "      <td>0</td>\n",
       "      <td>0</td>\n",
       "      <td>0</td>\n",
       "      <td>1990-08-14</td>\n",
       "      <td>1990-08-15</td>\n",
       "    </tr>\n",
       "  </tbody>\n",
       "</table>\n",
       "<p>5 rows × 207 columns</p>\n",
       "</div>"
      ],
      "text/plain": [
       "          id country  ccode         region  protestnumber  protesterviolence  \\\n",
       "0  201990001  Canada     20  North America              1                0.0   \n",
       "1  201990002  Canada     20  North America              2                0.0   \n",
       "2  201990003  Canada     20  North America              3                0.0   \n",
       "3  201990004  Canada     20  North America              4                1.0   \n",
       "4  201990005  Canada     20  North America              5                1.0   \n",
       "\n",
       "           location           protesteridentity  \\\n",
       "0          national                 unspecified   \n",
       "1  Montreal, Quebec                 unspecified   \n",
       "2  Montreal, Quebec  separatist parti quebecois   \n",
       "3  Montreal, Quebec              mohawk indians   \n",
       "4  Montreal, Quebec             local residents   \n",
       "\n",
       "                                             sources  \\\n",
       "0  1. great canadian train journeys into history;...   \n",
       "1  1. autonomy s cry revived in quebec the new yo...   \n",
       "2  1. quebec protest after queen calls for unity ...   \n",
       "3  1. indians gather as siege intensifies; armed ...   \n",
       "4  1. dozens hurt in mohawk blockade protest the ...   \n",
       "\n",
       "                                               notes  ... shootings  \\\n",
       "0  canada s railway passenger system was finally ...  ...         0   \n",
       "1  protestors were only identified as young peopl...  ...         0   \n",
       "2  the queen, after calling on canadians to remai...  ...         0   \n",
       "3  canada s federal government has agreed to acqu...  ...         0   \n",
       "4  protests were directed against the state due t...  ...         0   \n",
       "\n",
       "   labor_wage_dispute land_farm_issue  police_brutality  \\\n",
       "0                   1               0                 0   \n",
       "1                   0               0                 0   \n",
       "2                   0               0                 0   \n",
       "3                   0               1                 0   \n",
       "4                   0               0                 0   \n",
       "\n",
       "   political_behavior_process  price increases_tax_policy  \\\n",
       "0                           1                           0   \n",
       "1                           1                           0   \n",
       "2                           1                           0   \n",
       "3                           0                           0   \n",
       "4                           1                           0   \n",
       "\n",
       "   removal_of_politician  social_restrictions  start_date   end_date  \n",
       "0                      0                    0  1990-01-15 1990-01-15  \n",
       "1                      0                    0  1990-06-25 1990-06-25  \n",
       "2                      0                    0  1990-07-01 1990-07-01  \n",
       "3                      0                    0  1990-07-12 1990-09-06  \n",
       "4                      0                    0  1990-08-14 1990-08-15  \n",
       "\n",
       "[5 rows x 207 columns]"
      ]
     },
     "execution_count": 6,
     "metadata": {},
     "output_type": "execute_result"
    }
   ],
   "source": [
    "mass.head()"
   ]
  },
  {
   "cell_type": "code",
   "execution_count": 7,
   "metadata": {
    "scrolled": true
   },
   "outputs": [
    {
     "data": {
      "text/plain": [
       "['id',\n",
       " 'country',\n",
       " 'ccode',\n",
       " 'region',\n",
       " 'protestnumber',\n",
       " 'protesterviolence',\n",
       " 'location',\n",
       " 'protesteridentity',\n",
       " 'sources',\n",
       " 'notes',\n",
       " 'protester_id_type',\n",
       " 'partipants_number',\n",
       " 'protest_size_category',\n",
       " 'pop_male',\n",
       " 'pop_female',\n",
       " 'pop_total',\n",
       " 'pop_density',\n",
       " 'prosperity_2020',\n",
       " 'country_Afghanistan',\n",
       " 'country_Albania',\n",
       " 'country_Algeria',\n",
       " 'country_Angola',\n",
       " 'country_Argentina',\n",
       " 'country_Armenia',\n",
       " 'country_Austria',\n",
       " 'country_Azerbaijan',\n",
       " 'country_Bahrain',\n",
       " 'country_Bangladesh',\n",
       " 'country_Belarus',\n",
       " 'country_Belgium',\n",
       " 'country_Benin',\n",
       " 'country_Bolivia',\n",
       " 'country_Bosnia',\n",
       " 'country_Botswana',\n",
       " 'country_Brazil',\n",
       " 'country_Bulgaria',\n",
       " 'country_Burkina Faso',\n",
       " 'country_Burundi',\n",
       " 'country_Cambodia',\n",
       " 'country_Cameroon',\n",
       " 'country_Canada',\n",
       " 'country_Cape Verde',\n",
       " 'country_Central African Republic',\n",
       " 'country_Chad',\n",
       " 'country_Chile',\n",
       " 'country_China',\n",
       " 'country_Colombia',\n",
       " 'country_Comoros',\n",
       " 'country_Congo Brazzaville',\n",
       " 'country_Congo Kinshasa',\n",
       " 'country_Costa Rica',\n",
       " 'country_Croatia',\n",
       " 'country_Cuba',\n",
       " 'country_Cyprus',\n",
       " 'country_Czech Republic',\n",
       " 'country_Czechoslovakia',\n",
       " 'country_Denmark',\n",
       " 'country_Djibouti',\n",
       " 'country_Dominican Republic',\n",
       " 'country_Ecuador',\n",
       " 'country_Egypt',\n",
       " 'country_El Salvador',\n",
       " 'country_Equatorial Guinea',\n",
       " 'country_Eritrea',\n",
       " 'country_Estonia',\n",
       " 'country_Ethiopia',\n",
       " 'country_Finland',\n",
       " 'country_France',\n",
       " 'country_Gabon',\n",
       " 'country_Gambia',\n",
       " 'country_Georgia',\n",
       " 'country_Germany',\n",
       " 'country_Germany East',\n",
       " 'country_Germany West',\n",
       " 'country_Ghana',\n",
       " 'country_Greece',\n",
       " 'country_Guatemala',\n",
       " 'country_Guinea',\n",
       " 'country_Guinea-Bissau',\n",
       " 'country_Guyana',\n",
       " 'country_Haiti',\n",
       " 'country_Honduras',\n",
       " 'country_Hungary',\n",
       " 'country_India',\n",
       " 'country_Indonesia',\n",
       " 'country_Iran',\n",
       " 'country_Iraq',\n",
       " 'country_Ireland',\n",
       " 'country_Italy',\n",
       " 'country_Ivory Coast',\n",
       " 'country_Jamaica',\n",
       " 'country_Japan',\n",
       " 'country_Jordan',\n",
       " 'country_Kazakhstan',\n",
       " 'country_Kenya',\n",
       " 'country_Kosovo',\n",
       " 'country_Kuwait',\n",
       " 'country_Kyrgyzstan',\n",
       " 'country_Laos',\n",
       " 'country_Latvia',\n",
       " 'country_Lebanon',\n",
       " 'country_Lesotho',\n",
       " 'country_Liberia',\n",
       " 'country_Libya',\n",
       " 'country_Lithuania',\n",
       " 'country_Luxembourg',\n",
       " 'country_Macedonia',\n",
       " 'country_Madagascar',\n",
       " 'country_Malawi',\n",
       " 'country_Malaysia',\n",
       " 'country_Mali',\n",
       " 'country_Mauritania',\n",
       " 'country_Mauritius',\n",
       " 'country_Mexico',\n",
       " 'country_Moldova',\n",
       " 'country_Mongolia',\n",
       " 'country_Montenegro',\n",
       " 'country_Morocco',\n",
       " 'country_Mozambique',\n",
       " 'country_Myanmar',\n",
       " 'country_Namibia',\n",
       " 'country_Nepal',\n",
       " 'country_Netherlands',\n",
       " 'country_Nicaragua',\n",
       " 'country_Niger',\n",
       " 'country_Nigeria',\n",
       " 'country_North Korea',\n",
       " 'country_Norway',\n",
       " 'country_Oman',\n",
       " 'country_Pakistan',\n",
       " 'country_Panama',\n",
       " 'country_Papua New Guinea',\n",
       " 'country_Paraguay',\n",
       " 'country_Peru',\n",
       " 'country_Philippines',\n",
       " 'country_Poland',\n",
       " 'country_Portugal',\n",
       " 'country_Qatar',\n",
       " 'country_Romania',\n",
       " 'country_Russia',\n",
       " 'country_Rwanda',\n",
       " 'country_Saudi Arabia',\n",
       " 'country_Senegal',\n",
       " 'country_Serbia',\n",
       " 'country_Serbia and Montenegro',\n",
       " 'country_Sierra Leone',\n",
       " 'country_Singapore',\n",
       " 'country_Slovak Republic',\n",
       " 'country_Slovenia',\n",
       " 'country_Somalia',\n",
       " 'country_South Africa',\n",
       " 'country_South Korea',\n",
       " 'country_South Sudan',\n",
       " 'country_Spain',\n",
       " 'country_Sri Lanka',\n",
       " 'country_Sudan',\n",
       " 'country_Suriname',\n",
       " 'country_Swaziland',\n",
       " 'country_Sweden',\n",
       " 'country_Switzerland',\n",
       " 'country_Syria',\n",
       " 'country_Taiwan',\n",
       " 'country_Tajikistan',\n",
       " 'country_Tanzania',\n",
       " 'country_Thailand',\n",
       " 'country_Timor Leste',\n",
       " 'country_Togo',\n",
       " 'country_Tunisia',\n",
       " 'country_Turkey',\n",
       " 'country_Turkmenistan',\n",
       " 'country_USSR',\n",
       " 'country_Uganda',\n",
       " 'country_Ukraine',\n",
       " 'country_United Arab Emirate',\n",
       " 'country_United Kingdom',\n",
       " 'country_Uruguay',\n",
       " 'country_Uzbekistan',\n",
       " 'country_Venezuela',\n",
       " 'country_Vietnam',\n",
       " 'country_Yemen',\n",
       " 'country_Yugoslavia',\n",
       " 'country_Zambia',\n",
       " 'country_Zimbabwe',\n",
       " 'region_Africa',\n",
       " 'region_Asia',\n",
       " 'region_Central America',\n",
       " 'region_Europe',\n",
       " 'region_MENA',\n",
       " 'region_North America',\n",
       " 'region_Oceania',\n",
       " 'region_South America',\n",
       " 'arrests',\n",
       " 'accomodation',\n",
       " 'beatings',\n",
       " 'crowddispersal',\n",
       " 'ignore',\n",
       " 'killings',\n",
       " 'shootings',\n",
       " 'labor_wage_dispute',\n",
       " 'land_farm_issue',\n",
       " 'police_brutality',\n",
       " 'political_behavior_process',\n",
       " 'price increases_tax_policy',\n",
       " 'removal_of_politician',\n",
       " 'social_restrictions',\n",
       " 'start_date',\n",
       " 'end_date']"
      ]
     },
     "execution_count": 7,
     "metadata": {},
     "output_type": "execute_result"
    }
   ],
   "source": [
    "list(mass.columns)"
   ]
  },
  {
   "cell_type": "code",
   "execution_count": 8,
   "metadata": {},
   "outputs": [
    {
     "data": {
      "text/plain": [
       "(15225, 207)"
      ]
     },
     "execution_count": 8,
     "metadata": {},
     "output_type": "execute_result"
    }
   ],
   "source": [
    "mass.shape"
   ]
  },
  {
   "cell_type": "code",
   "execution_count": 9,
   "metadata": {},
   "outputs": [
    {
     "data": {
      "text/html": [
       "<div>\n",
       "<style scoped>\n",
       "    .dataframe tbody tr th:only-of-type {\n",
       "        vertical-align: middle;\n",
       "    }\n",
       "\n",
       "    .dataframe tbody tr th {\n",
       "        vertical-align: top;\n",
       "    }\n",
       "\n",
       "    .dataframe thead th {\n",
       "        text-align: right;\n",
       "    }\n",
       "</style>\n",
       "<table border=\"1\" class=\"dataframe\">\n",
       "  <thead>\n",
       "    <tr style=\"text-align: right;\">\n",
       "      <th></th>\n",
       "      <th>protester_id_type</th>\n",
       "    </tr>\n",
       "  </thead>\n",
       "  <tbody>\n",
       "    <tr>\n",
       "      <th>0</th>\n",
       "      <td>workers_unions</td>\n",
       "    </tr>\n",
       "    <tr>\n",
       "      <th>1</th>\n",
       "      <td>students_youth</td>\n",
       "    </tr>\n",
       "    <tr>\n",
       "      <th>2</th>\n",
       "      <td>political_group</td>\n",
       "    </tr>\n",
       "    <tr>\n",
       "      <th>3</th>\n",
       "      <td>ethnic_group</td>\n",
       "    </tr>\n",
       "    <tr>\n",
       "      <th>4</th>\n",
       "      <td>locals_residents</td>\n",
       "    </tr>\n",
       "    <tr>\n",
       "      <th>...</th>\n",
       "      <td>...</td>\n",
       "    </tr>\n",
       "    <tr>\n",
       "      <th>15220</th>\n",
       "      <td>locals_residents</td>\n",
       "    </tr>\n",
       "    <tr>\n",
       "      <th>15221</th>\n",
       "      <td>students_youth</td>\n",
       "    </tr>\n",
       "    <tr>\n",
       "      <th>15222</th>\n",
       "      <td>political_group</td>\n",
       "    </tr>\n",
       "    <tr>\n",
       "      <th>15223</th>\n",
       "      <td>political_group</td>\n",
       "    </tr>\n",
       "    <tr>\n",
       "      <th>15224</th>\n",
       "      <td>locals_residents</td>\n",
       "    </tr>\n",
       "  </tbody>\n",
       "</table>\n",
       "<p>15225 rows × 1 columns</p>\n",
       "</div>"
      ],
      "text/plain": [
       "      protester_id_type\n",
       "0        workers_unions\n",
       "1        students_youth\n",
       "2       political_group\n",
       "3          ethnic_group\n",
       "4      locals_residents\n",
       "...                 ...\n",
       "15220  locals_residents\n",
       "15221    students_youth\n",
       "15222   political_group\n",
       "15223   political_group\n",
       "15224  locals_residents\n",
       "\n",
       "[15225 rows x 1 columns]"
      ]
     },
     "execution_count": 9,
     "metadata": {},
     "output_type": "execute_result"
    }
   ],
   "source": [
    "mass[[ 'protester_id_type']]"
   ]
  },
  {
   "cell_type": "code",
   "execution_count": 10,
   "metadata": {},
   "outputs": [
    {
     "data": {
      "text/html": [
       "<div>\n",
       "<style scoped>\n",
       "    .dataframe tbody tr th:only-of-type {\n",
       "        vertical-align: middle;\n",
       "    }\n",
       "\n",
       "    .dataframe tbody tr th {\n",
       "        vertical-align: top;\n",
       "    }\n",
       "\n",
       "    .dataframe thead th {\n",
       "        text-align: right;\n",
       "    }\n",
       "</style>\n",
       "<table border=\"1\" class=\"dataframe\">\n",
       "  <thead>\n",
       "    <tr style=\"text-align: right;\">\n",
       "      <th></th>\n",
       "      <th>protesterviolence</th>\n",
       "    </tr>\n",
       "  </thead>\n",
       "  <tbody>\n",
       "    <tr>\n",
       "      <th>0</th>\n",
       "      <td>0.0</td>\n",
       "    </tr>\n",
       "    <tr>\n",
       "      <th>1</th>\n",
       "      <td>0.0</td>\n",
       "    </tr>\n",
       "    <tr>\n",
       "      <th>2</th>\n",
       "      <td>0.0</td>\n",
       "    </tr>\n",
       "    <tr>\n",
       "      <th>3</th>\n",
       "      <td>1.0</td>\n",
       "    </tr>\n",
       "    <tr>\n",
       "      <th>4</th>\n",
       "      <td>1.0</td>\n",
       "    </tr>\n",
       "    <tr>\n",
       "      <th>...</th>\n",
       "      <td>...</td>\n",
       "    </tr>\n",
       "    <tr>\n",
       "      <th>15220</th>\n",
       "      <td>1.0</td>\n",
       "    </tr>\n",
       "    <tr>\n",
       "      <th>15221</th>\n",
       "      <td>1.0</td>\n",
       "    </tr>\n",
       "    <tr>\n",
       "      <th>15222</th>\n",
       "      <td>0.0</td>\n",
       "    </tr>\n",
       "    <tr>\n",
       "      <th>15223</th>\n",
       "      <td>1.0</td>\n",
       "    </tr>\n",
       "    <tr>\n",
       "      <th>15224</th>\n",
       "      <td>0.0</td>\n",
       "    </tr>\n",
       "  </tbody>\n",
       "</table>\n",
       "<p>15225 rows × 1 columns</p>\n",
       "</div>"
      ],
      "text/plain": [
       "       protesterviolence\n",
       "0                    0.0\n",
       "1                    0.0\n",
       "2                    0.0\n",
       "3                    1.0\n",
       "4                    1.0\n",
       "...                  ...\n",
       "15220                1.0\n",
       "15221                1.0\n",
       "15222                0.0\n",
       "15223                1.0\n",
       "15224                0.0\n",
       "\n",
       "[15225 rows x 1 columns]"
      ]
     },
     "execution_count": 10,
     "metadata": {},
     "output_type": "execute_result"
    }
   ],
   "source": [
    "mass[['protesterviolence']]"
   ]
  },
  {
   "cell_type": "markdown",
   "metadata": {},
   "source": [
    "Dummify `protest_size_category` and `protester_id_type`  columns. "
   ]
  },
  {
   "cell_type": "code",
   "execution_count": 11,
   "metadata": {},
   "outputs": [],
   "source": [
    "mass = pd.get_dummies(mass, columns=['protest_size_category', 'protester_id_type'], dummy_na=True)"
   ]
  },
  {
   "cell_type": "code",
   "execution_count": 12,
   "metadata": {},
   "outputs": [],
   "source": [
    "# list(mass.columns)"
   ]
  },
  {
   "cell_type": "markdown",
   "metadata": {},
   "source": [
    "Dropping `nan` columns created from dummifying `protest_size_category` and `protester_id_type`  columns. "
   ]
  },
  {
   "cell_type": "code",
   "execution_count": 13,
   "metadata": {},
   "outputs": [],
   "source": [
    "mass.drop(columns=['protest_size_category_nan', 'protester_id_type_nan'], inplace=True)"
   ]
  },
  {
   "cell_type": "code",
   "execution_count": 14,
   "metadata": {},
   "outputs": [],
   "source": [
    "features = mass.drop(columns=['country','ccode','location','region','sources','notes', 'protesteridentity','start_date','end_date', \n",
    "                              'arrests','accomodation','beatings','crowddispersal','ignore','killings','shootings'])"
   ]
  },
  {
   "cell_type": "code",
   "execution_count": 15,
   "metadata": {},
   "outputs": [],
   "source": [
    "# mass['start_date']"
   ]
  },
  {
   "cell_type": "markdown",
   "metadata": {},
   "source": [
    "Below, attempting a Logistic Regression for each state response, starting with `arrests`."
   ]
  },
  {
   "cell_type": "code",
   "execution_count": 16,
   "metadata": {},
   "outputs": [],
   "source": [
    "X = mass.drop(columns=['country','ccode','location','region','sources','notes', 'protesteridentity','start_date','end_date', \n",
    "                              'arrests','accomodation','beatings','crowddispersal','ignore','killings','shootings'])\n",
    "y = mass['arrests']\n",
    "\n",
    "X_train, X_test, y_train, y_test = train_test_split(X, y, test_size=0.2, random_state=48)\n",
    "\n",
    "ss = StandardScaler()\n",
    "\n",
    "X_train_sc = ss.fit_transform(X_train)\n",
    "X_test_sc = ss.transform(X_test)"
   ]
  },
  {
   "cell_type": "code",
   "execution_count": 17,
   "metadata": {},
   "outputs": [
    {
     "data": {
      "text/plain": [
       "array([[ 1.57789781,  0.55705004, -0.59783405, ..., -0.04625163,\n",
       "        -0.15395279, -0.55509474],\n",
       "       [-0.74828518,  1.71833142, -0.59783405, ..., -0.04625163,\n",
       "        -0.15395279,  1.80149429],\n",
       "       [ 0.0327984 , -0.27243667,  1.672705  , ..., -0.04625163,\n",
       "        -0.15395279, -0.55509474],\n",
       "       ...,\n",
       "       [ 1.45410895, -0.189488  ,  1.672705  , ..., -0.04625163,\n",
       "        -0.15395279, -0.55509474],\n",
       "       [ 0.36572147,  0.88884472, -0.59783405, ..., -0.04625163,\n",
       "        -0.15395279, -0.55509474],\n",
       "       [-1.13243169, -0.189488  , -0.59783405, ..., -0.04625163,\n",
       "        -0.15395279,  1.80149429]])"
      ]
     },
     "execution_count": 17,
     "metadata": {},
     "output_type": "execute_result"
    }
   ],
   "source": [
    "X_train_sc"
   ]
  },
  {
   "cell_type": "code",
   "execution_count": 18,
   "metadata": {},
   "outputs": [],
   "source": [
    "ss = StandardScaler()\n",
    "\n",
    "X_sc = ss.fit_transform(X)"
   ]
  },
  {
   "cell_type": "code",
   "execution_count": 19,
   "metadata": {},
   "outputs": [
    {
     "data": {
      "text/plain": [
       "LogisticRegression(max_iter=1000)"
      ]
     },
     "execution_count": 19,
     "metadata": {},
     "output_type": "execute_result"
    }
   ],
   "source": [
    "lr = LogisticRegression(solver='lbfgs', max_iter=1000)\n",
    "\n",
    "lr.fit(X_train_sc, y_train)"
   ]
  },
  {
   "cell_type": "code",
   "execution_count": 20,
   "metadata": {},
   "outputs": [
    {
     "data": {
      "text/plain": [
       "0.8637931034482759"
      ]
     },
     "execution_count": 20,
     "metadata": {},
     "output_type": "execute_result"
    }
   ],
   "source": [
    "lr.score(X_train_sc, y_train)"
   ]
  },
  {
   "cell_type": "code",
   "execution_count": 21,
   "metadata": {},
   "outputs": [
    {
     "data": {
      "text/plain": [
       "0.851888341543514"
      ]
     },
     "execution_count": 21,
     "metadata": {},
     "output_type": "execute_result"
    }
   ],
   "source": [
    "lr.score(X_test_sc, y_test)"
   ]
  },
  {
   "cell_type": "code",
   "execution_count": 22,
   "metadata": {},
   "outputs": [
    {
     "data": {
      "text/plain": [
       "array([0, 0, 0, ..., 0, 0, 1])"
      ]
     },
     "execution_count": 22,
     "metadata": {},
     "output_type": "execute_result"
    }
   ],
   "source": [
    "lr.predict(X_test_sc)"
   ]
  },
  {
   "cell_type": "code",
   "execution_count": 23,
   "metadata": {},
   "outputs": [
    {
     "data": {
      "text/plain": [
       "array([0, 0, 0, ..., 0, 0, 1])"
      ]
     },
     "execution_count": 23,
     "metadata": {},
     "output_type": "execute_result"
    }
   ],
   "source": [
    "predictions = lr.predict(X_test_sc)\n",
    "predictions"
   ]
  },
  {
   "cell_type": "code",
   "execution_count": 24,
   "metadata": {},
   "outputs": [
    {
     "data": {
      "text/plain": [
       "array([[0.59839355, 0.40160645],\n",
       "       [0.9015369 , 0.0984631 ],\n",
       "       [0.88858778, 0.11141222],\n",
       "       ...,\n",
       "       [0.86149826, 0.13850174],\n",
       "       [0.68240283, 0.31759717],\n",
       "       [0.3996736 , 0.6003264 ]])"
      ]
     },
     "execution_count": 24,
     "metadata": {},
     "output_type": "execute_result"
    }
   ],
   "source": [
    "probabilities = lr.predict_proba(X_test_sc) \n",
    "probabilities"
   ]
  },
  {
   "cell_type": "code",
   "execution_count": 25,
   "metadata": {},
   "outputs": [],
   "source": [
    "probs_all_arrests = lr.predict_proba(X_sc)[:,1]"
   ]
  },
  {
   "cell_type": "code",
   "execution_count": 26,
   "metadata": {},
   "outputs": [
    {
     "data": {
      "text/plain": [
       "array([0.10456818, 0.19099977, 0.20518939, ..., 0.02467354, 0.07344052,\n",
       "       0.01363735])"
      ]
     },
     "execution_count": 26,
     "metadata": {},
     "output_type": "execute_result"
    }
   ],
   "source": [
    "probs_all_arrests"
   ]
  },
  {
   "cell_type": "code",
   "execution_count": 27,
   "metadata": {},
   "outputs": [],
   "source": [
    "preds_all_arrests = lr.predict(X_sc) "
   ]
  },
  {
   "cell_type": "code",
   "execution_count": 28,
   "metadata": {},
   "outputs": [
    {
     "data": {
      "text/plain": [
       "array([0, 0, 0, ..., 0, 0, 0])"
      ]
     },
     "execution_count": 28,
     "metadata": {},
     "output_type": "execute_result"
    }
   ],
   "source": [
    "preds_all_arrests"
   ]
  },
  {
   "cell_type": "code",
   "execution_count": 29,
   "metadata": {},
   "outputs": [],
   "source": [
    "from sklearn.metrics import recall_score"
   ]
  },
  {
   "cell_type": "code",
   "execution_count": 30,
   "metadata": {},
   "outputs": [
    {
     "data": {
      "text/plain": [
       "LogisticRegression(max_iter=1000)"
      ]
     },
     "execution_count": 30,
     "metadata": {},
     "output_type": "execute_result"
    }
   ],
   "source": [
    "lr"
   ]
  },
  {
   "cell_type": "code",
   "execution_count": 31,
   "metadata": {},
   "outputs": [],
   "source": [
    "mass['arrests_probability'] = probs_all_arrests\n",
    "\n",
    "mass['arrests_predicted'] = preds_all_arrests"
   ]
  },
  {
   "cell_type": "code",
   "execution_count": 32,
   "metadata": {},
   "outputs": [
    {
     "data": {
      "text/html": [
       "<div>\n",
       "<style scoped>\n",
       "    .dataframe tbody tr th:only-of-type {\n",
       "        vertical-align: middle;\n",
       "    }\n",
       "\n",
       "    .dataframe tbody tr th {\n",
       "        vertical-align: top;\n",
       "    }\n",
       "\n",
       "    .dataframe thead th {\n",
       "        text-align: right;\n",
       "    }\n",
       "</style>\n",
       "<table border=\"1\" class=\"dataframe\">\n",
       "  <thead>\n",
       "    <tr style=\"text-align: right;\">\n",
       "      <th></th>\n",
       "      <th>arrests</th>\n",
       "      <th>arrests_predicted</th>\n",
       "      <th>arrests_probability</th>\n",
       "    </tr>\n",
       "  </thead>\n",
       "  <tbody>\n",
       "    <tr>\n",
       "      <th>0</th>\n",
       "      <td>0</td>\n",
       "      <td>0</td>\n",
       "      <td>0.104568</td>\n",
       "    </tr>\n",
       "    <tr>\n",
       "      <th>1</th>\n",
       "      <td>0</td>\n",
       "      <td>0</td>\n",
       "      <td>0.191000</td>\n",
       "    </tr>\n",
       "    <tr>\n",
       "      <th>2</th>\n",
       "      <td>0</td>\n",
       "      <td>0</td>\n",
       "      <td>0.205189</td>\n",
       "    </tr>\n",
       "    <tr>\n",
       "      <th>3</th>\n",
       "      <td>0</td>\n",
       "      <td>1</td>\n",
       "      <td>0.533197</td>\n",
       "    </tr>\n",
       "    <tr>\n",
       "      <th>4</th>\n",
       "      <td>1</td>\n",
       "      <td>0</td>\n",
       "      <td>0.421843</td>\n",
       "    </tr>\n",
       "    <tr>\n",
       "      <th>5</th>\n",
       "      <td>0</td>\n",
       "      <td>0</td>\n",
       "      <td>0.200124</td>\n",
       "    </tr>\n",
       "    <tr>\n",
       "      <th>6</th>\n",
       "      <td>0</td>\n",
       "      <td>0</td>\n",
       "      <td>0.118751</td>\n",
       "    </tr>\n",
       "    <tr>\n",
       "      <th>7</th>\n",
       "      <td>0</td>\n",
       "      <td>0</td>\n",
       "      <td>0.117835</td>\n",
       "    </tr>\n",
       "    <tr>\n",
       "      <th>8</th>\n",
       "      <td>1</td>\n",
       "      <td>1</td>\n",
       "      <td>0.521113</td>\n",
       "    </tr>\n",
       "    <tr>\n",
       "      <th>9</th>\n",
       "      <td>0</td>\n",
       "      <td>0</td>\n",
       "      <td>0.168790</td>\n",
       "    </tr>\n",
       "    <tr>\n",
       "      <th>10</th>\n",
       "      <td>1</td>\n",
       "      <td>0</td>\n",
       "      <td>0.154603</td>\n",
       "    </tr>\n",
       "    <tr>\n",
       "      <th>11</th>\n",
       "      <td>0</td>\n",
       "      <td>0</td>\n",
       "      <td>0.097131</td>\n",
       "    </tr>\n",
       "    <tr>\n",
       "      <th>12</th>\n",
       "      <td>0</td>\n",
       "      <td>0</td>\n",
       "      <td>0.234393</td>\n",
       "    </tr>\n",
       "    <tr>\n",
       "      <th>13</th>\n",
       "      <td>0</td>\n",
       "      <td>0</td>\n",
       "      <td>0.211510</td>\n",
       "    </tr>\n",
       "    <tr>\n",
       "      <th>14</th>\n",
       "      <td>0</td>\n",
       "      <td>1</td>\n",
       "      <td>0.538904</td>\n",
       "    </tr>\n",
       "    <tr>\n",
       "      <th>15</th>\n",
       "      <td>0</td>\n",
       "      <td>0</td>\n",
       "      <td>0.124416</td>\n",
       "    </tr>\n",
       "    <tr>\n",
       "      <th>16</th>\n",
       "      <td>0</td>\n",
       "      <td>0</td>\n",
       "      <td>0.147030</td>\n",
       "    </tr>\n",
       "    <tr>\n",
       "      <th>17</th>\n",
       "      <td>0</td>\n",
       "      <td>0</td>\n",
       "      <td>0.084511</td>\n",
       "    </tr>\n",
       "    <tr>\n",
       "      <th>18</th>\n",
       "      <td>0</td>\n",
       "      <td>1</td>\n",
       "      <td>0.511204</td>\n",
       "    </tr>\n",
       "    <tr>\n",
       "      <th>19</th>\n",
       "      <td>0</td>\n",
       "      <td>0</td>\n",
       "      <td>0.246055</td>\n",
       "    </tr>\n",
       "    <tr>\n",
       "      <th>20</th>\n",
       "      <td>0</td>\n",
       "      <td>0</td>\n",
       "      <td>0.206836</td>\n",
       "    </tr>\n",
       "    <tr>\n",
       "      <th>21</th>\n",
       "      <td>1</td>\n",
       "      <td>1</td>\n",
       "      <td>0.770287</td>\n",
       "    </tr>\n",
       "  </tbody>\n",
       "</table>\n",
       "</div>"
      ],
      "text/plain": [
       "    arrests  arrests_predicted  arrests_probability\n",
       "0         0                  0             0.104568\n",
       "1         0                  0             0.191000\n",
       "2         0                  0             0.205189\n",
       "3         0                  1             0.533197\n",
       "4         1                  0             0.421843\n",
       "5         0                  0             0.200124\n",
       "6         0                  0             0.118751\n",
       "7         0                  0             0.117835\n",
       "8         1                  1             0.521113\n",
       "9         0                  0             0.168790\n",
       "10        1                  0             0.154603\n",
       "11        0                  0             0.097131\n",
       "12        0                  0             0.234393\n",
       "13        0                  0             0.211510\n",
       "14        0                  1             0.538904\n",
       "15        0                  0             0.124416\n",
       "16        0                  0             0.147030\n",
       "17        0                  0             0.084511\n",
       "18        0                  1             0.511204\n",
       "19        0                  0             0.246055\n",
       "20        0                  0             0.206836\n",
       "21        1                  1             0.770287"
      ]
     },
     "execution_count": 32,
     "metadata": {},
     "output_type": "execute_result"
    }
   ],
   "source": [
    "mass[['arrests', 'arrests_predicted','arrests_probability']][:22]"
   ]
  },
  {
   "cell_type": "code",
   "execution_count": 33,
   "metadata": {},
   "outputs": [
    {
     "data": {
      "text/plain": [
       "array([0.80489407, 0.19510593])"
      ]
     },
     "execution_count": 33,
     "metadata": {},
     "output_type": "execute_result"
    }
   ],
   "source": [
    "probabilities[333]"
   ]
  },
  {
   "cell_type": "code",
   "execution_count": 34,
   "metadata": {},
   "outputs": [
    {
     "data": {
      "text/plain": [
       "0"
      ]
     },
     "execution_count": 34,
     "metadata": {},
     "output_type": "execute_result"
    }
   ],
   "source": [
    "predictions[333]"
   ]
  },
  {
   "cell_type": "code",
   "execution_count": 35,
   "metadata": {},
   "outputs": [],
   "source": [
    "# X_train['arrests_probability']= lr.predict_proba(X_train_sc)[0][1]"
   ]
  },
  {
   "cell_type": "code",
   "execution_count": 36,
   "metadata": {},
   "outputs": [],
   "source": [
    "# class StateResponsePredictor:\n",
    "    \n",
    "#     def __init__(self):\n",
    "#         self.state_response_list = state_response_list\n",
    "        \n",
    "#     def fit(self, mass):\n",
    "#         self.ss = StandardScaler()\n",
    "#         X = mass.drop(columns=['country','ccode','location','region','sources','notes', 'protesteridentity','start_date','end_date', \n",
    "#                               'arrests','accomodation','beatings','crowddispersal','ignore','killings','shootings']) \n",
    "        "
   ]
  },
  {
   "cell_type": "code",
   "execution_count": 135,
   "metadata": {},
   "outputs": [
    {
     "name": "stdout",
     "output_type": "stream",
     "text": [
      "<class 'pandas.core.frame.DataFrame'>\n",
      "Int64Index: 15225 entries, 0 to 15224\n",
      "Columns: 227 entries, id to arrests_predicted\n",
      "dtypes: datetime64[ns](2), float64(7), int32(180), int64(12), object(6), uint8(20)\n",
      "memory usage: 14.6+ MB\n"
     ]
    }
   ],
   "source": [
    "mass.info()"
   ]
  },
  {
   "cell_type": "code",
   "execution_count": 137,
   "metadata": {},
   "outputs": [
    {
     "data": {
      "text/plain": [
       "arrests  accomodation  beatings  crowddispersal  ignore  killings  shootings\n",
       "0        0             0         0               1       0         0            0.524335\n",
       "                                 1               0       0         0            0.160985\n",
       "         1             0         0               0       0         0            0.058128\n",
       "1        0             0         1               0       0         0            0.053596\n",
       "                                 0               0       0         0            0.041511\n",
       "                                                                                  ...   \n",
       "                                 1               1       1         1            0.000066\n",
       "0        1             0         0               1       0         1            0.000066\n",
       "1        0             0         0               1       1         1            0.000066\n",
       "                                                         0         1            0.000066\n",
       "                       1         1               1       0         0            0.000066\n",
       "Length: 90, dtype: float64"
      ]
     },
     "execution_count": 137,
     "metadata": {},
     "output_type": "execute_result"
    }
   ],
   "source": [
    "mass[['arrests','accomodation','beatings','crowddispersal','ignore','killings','shootings']].value_counts(normalize=True)"
   ]
  },
  {
   "cell_type": "code",
   "execution_count": 134,
   "metadata": {},
   "outputs": [
    {
     "data": {
      "text/html": [
       "<div>\n",
       "<style scoped>\n",
       "    .dataframe tbody tr th:only-of-type {\n",
       "        vertical-align: middle;\n",
       "    }\n",
       "\n",
       "    .dataframe tbody tr th {\n",
       "        vertical-align: top;\n",
       "    }\n",
       "\n",
       "    .dataframe thead th {\n",
       "        text-align: right;\n",
       "    }\n",
       "</style>\n",
       "<table border=\"1\" class=\"dataframe\">\n",
       "  <thead>\n",
       "    <tr style=\"text-align: right;\">\n",
       "      <th></th>\n",
       "      <th>arrests</th>\n",
       "      <th>accomodation</th>\n",
       "      <th>beatings</th>\n",
       "      <th>crowddispersal</th>\n",
       "      <th>ignore</th>\n",
       "      <th>killings</th>\n",
       "      <th>shootings</th>\n",
       "    </tr>\n",
       "  </thead>\n",
       "  <tbody>\n",
       "    <tr>\n",
       "      <th>0</th>\n",
       "      <td>0</td>\n",
       "      <td>0</td>\n",
       "      <td>0</td>\n",
       "      <td>0</td>\n",
       "      <td>1</td>\n",
       "      <td>0</td>\n",
       "      <td>0</td>\n",
       "    </tr>\n",
       "    <tr>\n",
       "      <th>1</th>\n",
       "      <td>0</td>\n",
       "      <td>0</td>\n",
       "      <td>0</td>\n",
       "      <td>0</td>\n",
       "      <td>1</td>\n",
       "      <td>0</td>\n",
       "      <td>0</td>\n",
       "    </tr>\n",
       "    <tr>\n",
       "      <th>2</th>\n",
       "      <td>0</td>\n",
       "      <td>0</td>\n",
       "      <td>0</td>\n",
       "      <td>0</td>\n",
       "      <td>1</td>\n",
       "      <td>0</td>\n",
       "      <td>0</td>\n",
       "    </tr>\n",
       "    <tr>\n",
       "      <th>3</th>\n",
       "      <td>0</td>\n",
       "      <td>1</td>\n",
       "      <td>0</td>\n",
       "      <td>0</td>\n",
       "      <td>0</td>\n",
       "      <td>0</td>\n",
       "      <td>0</td>\n",
       "    </tr>\n",
       "    <tr>\n",
       "      <th>4</th>\n",
       "      <td>1</td>\n",
       "      <td>1</td>\n",
       "      <td>0</td>\n",
       "      <td>1</td>\n",
       "      <td>0</td>\n",
       "      <td>0</td>\n",
       "      <td>0</td>\n",
       "    </tr>\n",
       "    <tr>\n",
       "      <th>...</th>\n",
       "      <td>...</td>\n",
       "      <td>...</td>\n",
       "      <td>...</td>\n",
       "      <td>...</td>\n",
       "      <td>...</td>\n",
       "      <td>...</td>\n",
       "      <td>...</td>\n",
       "    </tr>\n",
       "    <tr>\n",
       "      <th>15220</th>\n",
       "      <td>0</td>\n",
       "      <td>0</td>\n",
       "      <td>0</td>\n",
       "      <td>1</td>\n",
       "      <td>0</td>\n",
       "      <td>0</td>\n",
       "      <td>1</td>\n",
       "    </tr>\n",
       "    <tr>\n",
       "      <th>15221</th>\n",
       "      <td>0</td>\n",
       "      <td>0</td>\n",
       "      <td>0</td>\n",
       "      <td>1</td>\n",
       "      <td>0</td>\n",
       "      <td>1</td>\n",
       "      <td>1</td>\n",
       "    </tr>\n",
       "    <tr>\n",
       "      <th>15222</th>\n",
       "      <td>0</td>\n",
       "      <td>1</td>\n",
       "      <td>0</td>\n",
       "      <td>0</td>\n",
       "      <td>0</td>\n",
       "      <td>0</td>\n",
       "      <td>0</td>\n",
       "    </tr>\n",
       "    <tr>\n",
       "      <th>15223</th>\n",
       "      <td>0</td>\n",
       "      <td>0</td>\n",
       "      <td>0</td>\n",
       "      <td>1</td>\n",
       "      <td>0</td>\n",
       "      <td>0</td>\n",
       "      <td>0</td>\n",
       "    </tr>\n",
       "    <tr>\n",
       "      <th>15224</th>\n",
       "      <td>0</td>\n",
       "      <td>0</td>\n",
       "      <td>0</td>\n",
       "      <td>0</td>\n",
       "      <td>1</td>\n",
       "      <td>0</td>\n",
       "      <td>0</td>\n",
       "    </tr>\n",
       "  </tbody>\n",
       "</table>\n",
       "<p>15225 rows × 7 columns</p>\n",
       "</div>"
      ],
      "text/plain": [
       "       arrests  accomodation  beatings  crowddispersal  ignore  killings  \\\n",
       "0            0             0         0               0       1         0   \n",
       "1            0             0         0               0       1         0   \n",
       "2            0             0         0               0       1         0   \n",
       "3            0             1         0               0       0         0   \n",
       "4            1             1         0               1       0         0   \n",
       "...        ...           ...       ...             ...     ...       ...   \n",
       "15220        0             0         0               1       0         0   \n",
       "15221        0             0         0               1       0         1   \n",
       "15222        0             1         0               0       0         0   \n",
       "15223        0             0         0               1       0         0   \n",
       "15224        0             0         0               0       1         0   \n",
       "\n",
       "       shootings  \n",
       "0              0  \n",
       "1              0  \n",
       "2              0  \n",
       "3              0  \n",
       "4              0  \n",
       "...          ...  \n",
       "15220          1  \n",
       "15221          1  \n",
       "15222          0  \n",
       "15223          0  \n",
       "15224          0  \n",
       "\n",
       "[15225 rows x 7 columns]"
      ]
     },
     "execution_count": 134,
     "metadata": {},
     "output_type": "execute_result"
    }
   ],
   "source": [
    "mass[['arrests','accomodation','beatings','crowddispersal','ignore','killings','shootings']]"
   ]
  },
  {
   "cell_type": "code",
   "execution_count": 89,
   "metadata": {},
   "outputs": [],
   "source": [
    "# drop_from_X = ['country','ccode','location','region','sources','notes', 'protesteridentity','start_date','end_date', \n",
    "#                               'arrests','accomodation','beatings','crowddispersal','ignore','killings','shootings']\n",
    "# state_responses = ['arrests','accomodation','beatings','crowddispersal','ignore','killings','shootings']\n",
    "\n",
    "# response_dict = {}\n",
    "\n",
    "current_columns = mass.drop(cols= ['country','ccode','location','region','sources','notes', 'protesteridentity','start_date','end_date', \n",
    "                              'arrests','accomodation','beatings','crowddispersal','ignore','killings','shootings'])\n",
    "\n",
    "lr_2 = LogisticRegression(...)\n",
    "\n",
    "def state_response_predictor(model, df, features, target):\n",
    "    \n",
    "    X = features \n",
    "    y = df[target]\n",
    "\n",
    "    X_train, X_test, y_train, y_test = train_test_split(X, y, test_size=0.2, random_state=48)\n",
    "\n",
    "    ss = StandardScaler()\n",
    "\n",
    "    X_train_sc = ss.fit_transform(X_train)\n",
    "    X_test_sc = ss.transform(X_test)\n",
    "    \n",
    "    model.fit(X_train_sc, y_train)\n",
    "    \n",
    "    y_preds = model.predict(X_test_sc)\n",
    "    \n",
    "    recall_test\n",
    "    recall_train\n",
    "    \n",
    "    Testing se\n",
    "    \n",
    "    f1_score, precision, recall = evaluate_model(y_test, y_preds) \n",
    "    \n",
    "    print(f'Training set recall for predictions of {target}: {recall_train)}')\n",
    "    print(f'Testing set recall for predictions of {target}: {lr.score(X_test_sc)}')\n",
    "    \n",
    "    \n",
    "def add_columns:    \n",
    "    X_sc = ss.fit_transform(X)\n",
    "    \n",
    "    predictions = lr.predict(X_sc) \n",
    "    probabilities = lr.predict_proba(X_sc)[:,1]\n",
    "    \n",
    "    return predictions, probabilites"
   ]
  },
  {
   "cell_type": "code",
   "execution_count": null,
   "metadata": {},
   "outputs": [],
   "source": [
    "eval_dict = {'arrests':[f]}"
   ]
  },
  {
   "cell_type": "code",
   "execution_count": null,
   "metadata": {},
   "outputs": [],
   "source": [
    "def evaluate_model(y_true, y_preds):\n",
    "    recall = \n",
    "    f1 = \n",
    "    return recall, f1 "
   ]
  },
  {
   "cell_type": "code",
   "execution_count": null,
   "metadata": {},
   "outputs": [],
   "source": [
    "mass['arrests_prediction'], mass['probabilites']"
   ]
  },
  {
   "cell_type": "code",
   "execution_count": 89,
   "metadata": {},
   "outputs": [],
   "source": [
    "    for response in state_responses: \n",
    "        \n",
    "        y = mass[response]\n",
    "        \n",
    "        X_train, X_test, y_train, y_test = train_test_split(X, y, test_size=0.2, random_state=48)\n",
    "        \n",
    "        X_train_sc = ss.fit_transform(X_train)\n",
    "        X_test_sc = ss.transform(X_test)\n",
    "        \n",
    "        lr = LogisticRegression(solver='lbfgs', max_iter=100)\n",
    "\n",
    "        lr.fit(X_train_sc, y_train)\n",
    "        \n",
    "        response_dict[response] = lr.predict_proba(X_test_sc)[0][1]\n",
    "        print(response_dict)\n",
    "        \n",
    "    top_response = max(response_dict.items(), key=lambda k: k[1])\n",
    "    \n",
    "    return top_response "
   ]
  },
  {
   "cell_type": "code",
   "execution_count": 90,
   "metadata": {},
   "outputs": [
    {
     "name": "stderr",
     "output_type": "stream",
     "text": [
      "/Users/emilynaftalin/opt/anaconda3/lib/python3.8/site-packages/sklearn/linear_model/_logistic.py:763: ConvergenceWarning: lbfgs failed to converge (status=1):\n",
      "STOP: TOTAL NO. of ITERATIONS REACHED LIMIT.\n",
      "\n",
      "Increase the number of iterations (max_iter) or scale the data as shown in:\n",
      "    https://scikit-learn.org/stable/modules/preprocessing.html\n",
      "Please also refer to the documentation for alternative solver options:\n",
      "    https://scikit-learn.org/stable/modules/linear_model.html#logistic-regression\n",
      "  n_iter_i = _check_optimize_result(\n"
     ]
    },
    {
     "name": "stdout",
     "output_type": "stream",
     "text": [
      "{'arrests': 0.4016257727256075}\n",
      "{'arrests': 0.4016257727256075, 'accomodation': 0.07206943121944955}\n"
     ]
    },
    {
     "name": "stderr",
     "output_type": "stream",
     "text": [
      "/Users/emilynaftalin/opt/anaconda3/lib/python3.8/site-packages/sklearn/linear_model/_logistic.py:763: ConvergenceWarning: lbfgs failed to converge (status=1):\n",
      "STOP: TOTAL NO. of ITERATIONS REACHED LIMIT.\n",
      "\n",
      "Increase the number of iterations (max_iter) or scale the data as shown in:\n",
      "    https://scikit-learn.org/stable/modules/preprocessing.html\n",
      "Please also refer to the documentation for alternative solver options:\n",
      "    https://scikit-learn.org/stable/modules/linear_model.html#logistic-regression\n",
      "  n_iter_i = _check_optimize_result(\n"
     ]
    },
    {
     "name": "stdout",
     "output_type": "stream",
     "text": [
      "{'arrests': 0.4016257727256075, 'accomodation': 0.07206943121944955, 'beatings': 0.21386391025228904}\n"
     ]
    },
    {
     "name": "stderr",
     "output_type": "stream",
     "text": [
      "/Users/emilynaftalin/opt/anaconda3/lib/python3.8/site-packages/sklearn/linear_model/_logistic.py:763: ConvergenceWarning: lbfgs failed to converge (status=1):\n",
      "STOP: TOTAL NO. of ITERATIONS REACHED LIMIT.\n",
      "\n",
      "Increase the number of iterations (max_iter) or scale the data as shown in:\n",
      "    https://scikit-learn.org/stable/modules/preprocessing.html\n",
      "Please also refer to the documentation for alternative solver options:\n",
      "    https://scikit-learn.org/stable/modules/linear_model.html#logistic-regression\n",
      "  n_iter_i = _check_optimize_result(\n"
     ]
    },
    {
     "name": "stdout",
     "output_type": "stream",
     "text": [
      "{'arrests': 0.4016257727256075, 'accomodation': 0.07206943121944955, 'beatings': 0.21386391025228904, 'crowddispersal': 0.3818345169499125}\n",
      "{'arrests': 0.4016257727256075, 'accomodation': 0.07206943121944955, 'beatings': 0.21386391025228904, 'crowddispersal': 0.3818345169499125, 'ignore': 0.07664528924354543}\n"
     ]
    },
    {
     "name": "stderr",
     "output_type": "stream",
     "text": [
      "/Users/emilynaftalin/opt/anaconda3/lib/python3.8/site-packages/sklearn/linear_model/_logistic.py:763: ConvergenceWarning: lbfgs failed to converge (status=1):\n",
      "STOP: TOTAL NO. of ITERATIONS REACHED LIMIT.\n",
      "\n",
      "Increase the number of iterations (max_iter) or scale the data as shown in:\n",
      "    https://scikit-learn.org/stable/modules/preprocessing.html\n",
      "Please also refer to the documentation for alternative solver options:\n",
      "    https://scikit-learn.org/stable/modules/linear_model.html#logistic-regression\n",
      "  n_iter_i = _check_optimize_result(\n"
     ]
    },
    {
     "name": "stdout",
     "output_type": "stream",
     "text": [
      "{'arrests': 0.4016257727256075, 'accomodation': 0.07206943121944955, 'beatings': 0.21386391025228904, 'crowddispersal': 0.3818345169499125, 'ignore': 0.07664528924354543, 'killings': 0.35658368862007894}\n",
      "{'arrests': 0.4016257727256075, 'accomodation': 0.07206943121944955, 'beatings': 0.21386391025228904, 'crowddispersal': 0.3818345169499125, 'ignore': 0.07664528924354543, 'killings': 0.35658368862007894, 'shootings': 0.3092331274246054}\n"
     ]
    },
    {
     "name": "stderr",
     "output_type": "stream",
     "text": [
      "/Users/emilynaftalin/opt/anaconda3/lib/python3.8/site-packages/sklearn/linear_model/_logistic.py:763: ConvergenceWarning: lbfgs failed to converge (status=1):\n",
      "STOP: TOTAL NO. of ITERATIONS REACHED LIMIT.\n",
      "\n",
      "Increase the number of iterations (max_iter) or scale the data as shown in:\n",
      "    https://scikit-learn.org/stable/modules/preprocessing.html\n",
      "Please also refer to the documentation for alternative solver options:\n",
      "    https://scikit-learn.org/stable/modules/linear_model.html#logistic-regression\n",
      "  n_iter_i = _check_optimize_result(\n"
     ]
    },
    {
     "data": {
      "text/plain": [
       "('arrests', 0.4016257727256075)"
      ]
     },
     "execution_count": 90,
     "metadata": {},
     "output_type": "execute_result"
    }
   ],
   "source": [
    "state_response_predictor(mass, current_cols, 'arrests')"
   ]
  },
  {
   "cell_type": "code",
   "execution_count": null,
   "metadata": {},
   "outputs": [],
   "source": [
    "mass['is_arrests'] = []"
   ]
  },
  {
   "cell_type": "code",
   "execution_count": 39,
   "metadata": {},
   "outputs": [
    {
     "data": {
      "text/plain": [
       "pandas.core.frame.DataFrame"
      ]
     },
     "execution_count": 39,
     "metadata": {},
     "output_type": "execute_result"
    }
   ],
   "source": [
    "mass.groupby('country').count()[mass['3_digit_code'].isnull()]"
   ]
  },
  {
   "cell_type": "code",
   "execution_count": null,
   "metadata": {},
   "outputs": [],
   "source": [
    "mass[mass['country'].notna() & mass['country_alpha_3']].groupby('country')"
   ]
  }
 ],
 "metadata": {
  "kernelspec": {
   "display_name": "Python 3",
   "language": "python",
   "name": "python3"
  },
  "language_info": {
   "codemirror_mode": {
    "name": "ipython",
    "version": 3
   },
   "file_extension": ".py",
   "mimetype": "text/x-python",
   "name": "python",
   "nbconvert_exporter": "python",
   "pygments_lexer": "ipython3",
   "version": "3.8.5"
  }
 },
 "nbformat": 4,
 "nbformat_minor": 4
}
